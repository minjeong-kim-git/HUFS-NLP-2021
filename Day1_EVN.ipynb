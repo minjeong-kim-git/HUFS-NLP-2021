{
  "nbformat": 4,
  "nbformat_minor": 0,
  "metadata": {
    "colab": {
      "name": "Day1_EVN.ipynb의 사본",
      "provenance": [],
      "collapsed_sections": [
        "BuaFwJqDVumT",
        "erIr-mg8zneJ",
        "wS_edoagzneJ",
        "-0Mbb5GWzneK",
        "milX02G6zneK",
        "DhXN7DHvlEpp",
        "hjSlRk99zneL"
      ],
      "include_colab_link": true
    },
    "kernelspec": {
      "name": "python3",
      "display_name": "Python 3"
    },
    "accelerator": "GPU"
  },
  "cells": [
    {
      "cell_type": "markdown",
      "metadata": {
        "id": "view-in-github",
        "colab_type": "text"
      },
      "source": [
        "<a href=\"https://colab.research.google.com/github/minjeong-kim-git/NLP/blob/main/Day1_EVN.ipynb\" target=\"_parent\"><img src=\"https://colab.research.google.com/assets/colab-badge.svg\" alt=\"Open In Colab\"/></a>"
      ]
    },
    {
      "cell_type": "markdown",
      "metadata": {
        "id": "BuaFwJqDVumT"
      },
      "source": [
        "# EVN"
      ]
    },
    {
      "cell_type": "code",
      "metadata": {
        "id": "ODiNPGQ9VwLK"
      },
      "source": [
        "import numpy as np\n",
        "import matplotlib.pyplot as plt\n",
        "\n",
        "import tensorflow as tf"
      ],
      "execution_count": 86,
      "outputs": []
    },
    {
      "cell_type": "markdown",
      "metadata": {
        "id": "sFo_3tAlzneI"
      },
      "source": [
        "# 단어 긍정(2), 중립(1), 부정(0) 분류 프로젝트"
      ]
    },
    {
      "cell_type": "markdown",
      "metadata": {
        "id": "erIr-mg8zneJ"
      },
      "source": [
        "## 데이터"
      ]
    },
    {
      "cell_type": "code",
      "metadata": {
        "id": "KQqU4MBIzneJ"
      },
      "source": [
        "# 입력 문장\n",
        "sentences = [\n",
        "    '나는 오늘 기분이 좋아',\n",
        "    '나는 오늘 우울해'\n",
        "]\n",
        "\n",
        "# 출력 정답\n",
        "labels = [[1, 1, 1, 2],\n",
        "          [1, 1, 0]]  # 긍정(2), 중립(1), 부정(0)\n",
        "\n",
        "# 정답 dic\n",
        "id_to_label = {0: '부정', 1: '중립', 2: '긍정'}"
      ],
      "execution_count": 87,
      "outputs": []
    },
    {
      "cell_type": "code",
      "metadata": {
        "id": "FpiVqkEhVQJD",
        "colab": {
          "base_uri": "https://localhost:8080/",
          "height": 35
        },
        "outputId": "f8cc0180-74b9-4d69-c47e-4f1246ec4d81"
      },
      "source": [
        "id_to_label[2]"
      ],
      "execution_count": 88,
      "outputs": [
        {
          "output_type": "execute_result",
          "data": {
            "application/vnd.google.colaboratory.intrinsic+json": {
              "type": "string"
            },
            "text/plain": [
              "'긍정'"
            ]
          },
          "metadata": {
            "tags": []
          },
          "execution_count": 88
        }
      ]
    },
    {
      "cell_type": "code",
      "metadata": {
        "id": "qW0q-i5xVaFR",
        "colab": {
          "base_uri": "https://localhost:8080/"
        },
        "outputId": "7832e50f-e31e-4357-f132-790b1da5ebcd"
      },
      "source": [
        "sentences"
      ],
      "execution_count": 89,
      "outputs": [
        {
          "output_type": "execute_result",
          "data": {
            "text/plain": [
              "['나는 오늘 기분이 좋아', '나는 오늘 우울해']"
            ]
          },
          "metadata": {
            "tags": []
          },
          "execution_count": 89
        }
      ]
    },
    {
      "cell_type": "code",
      "metadata": {
        "id": "UxTDyQ2uVdAt",
        "colab": {
          "base_uri": "https://localhost:8080/"
        },
        "outputId": "c6629e5b-cdeb-46f3-e658-9709e795b46c"
      },
      "source": [
        "labels"
      ],
      "execution_count": 90,
      "outputs": [
        {
          "output_type": "execute_result",
          "data": {
            "text/plain": [
              "[[1, 1, 1, 2], [1, 1, 0]]"
            ]
          },
          "metadata": {
            "tags": []
          },
          "execution_count": 90
        }
      ]
    },
    {
      "cell_type": "markdown",
      "metadata": {
        "id": "wS_edoagzneJ"
      },
      "source": [
        "## Vocabulary"
      ]
    },
    {
      "cell_type": "code",
      "metadata": {
        "id": "Ug8hWmcpWKhb",
        "colab": {
          "base_uri": "https://localhost:8080/"
        },
        "outputId": "549fa959-4e78-480e-c7eb-2975567913b9"
      },
      "source": [
        "# 각 문장을 띄어쓰기 단위로 분할\r\n",
        "words = []\r\n",
        "for sentence in sentences:\r\n",
        "  words.extend(sentence.split())\r\n",
        "words"
      ],
      "execution_count": 91,
      "outputs": [
        {
          "output_type": "execute_result",
          "data": {
            "text/plain": [
              "['나는', '오늘', '기분이', '좋아', '나는', '오늘', '우울해']"
            ]
          },
          "metadata": {
            "tags": []
          },
          "execution_count": 91
        }
      ]
    },
    {
      "cell_type": "code",
      "metadata": {
        "id": "N16gqTbUWcT5",
        "colab": {
          "base_uri": "https://localhost:8080/"
        },
        "outputId": "cfac4875-0719-4acb-d241-ef4a0d0ac7c6"
      },
      "source": [
        "# 중복 단어 제거\r\n",
        "words = list(dict.fromkeys(words))\r\n",
        "words"
      ],
      "execution_count": 92,
      "outputs": [
        {
          "output_type": "execute_result",
          "data": {
            "text/plain": [
              "['나는', '오늘', '기분이', '좋아', '우울해']"
            ]
          },
          "metadata": {
            "tags": []
          },
          "execution_count": 92
        }
      ]
    },
    {
      "cell_type": "code",
      "metadata": {
        "id": "KxOGZOSdWnH4",
        "colab": {
          "base_uri": "https://localhost:8080/"
        },
        "outputId": "8a1751a9-5ddf-4f90-cce3-db4e70187c20"
      },
      "source": [
        "# 각 단어별 고유한 번호 부여\r\n",
        "word_to_id = {'[PAD]' : 0, '[UNK]' : 1} # PAD 길이를 조절할 때, UNK: vocab에 없는 단어\r\n",
        "for word in words:\r\n",
        "  word_to_id[word] = len(word_to_id)\r\n",
        "word_to_id"
      ],
      "execution_count": 93,
      "outputs": [
        {
          "output_type": "execute_result",
          "data": {
            "text/plain": [
              "{'[PAD]': 0, '[UNK]': 1, '기분이': 4, '나는': 2, '오늘': 3, '우울해': 6, '좋아': 5}"
            ]
          },
          "metadata": {
            "tags": []
          },
          "execution_count": 93
        }
      ]
    },
    {
      "cell_type": "code",
      "metadata": {
        "id": "UX5URf5PXD10",
        "colab": {
          "base_uri": "https://localhost:8080/"
        },
        "outputId": "e790b6fb-d6d1-428b-be45-55dd4db32cd5"
      },
      "source": [
        "# 각 숫자별 단어 부여\r\n",
        "id_to_word = {_id:word for word, _id in word_to_id.items()}\r\n",
        "id_to_word"
      ],
      "execution_count": 94,
      "outputs": [
        {
          "output_type": "execute_result",
          "data": {
            "text/plain": [
              "{0: '[PAD]', 1: '[UNK]', 2: '나는', 3: '오늘', 4: '기분이', 5: '좋아', 6: '우울해'}"
            ]
          },
          "metadata": {
            "tags": []
          },
          "execution_count": 94
        }
      ]
    },
    {
      "cell_type": "markdown",
      "metadata": {
        "id": "-0Mbb5GWzneK"
      },
      "source": [
        "## 모델 학습용 데이터 생성"
      ]
    },
    {
      "cell_type": "code",
      "metadata": {
        "id": "pSvNoE49XBrh",
        "colab": {
          "base_uri": "https://localhost:8080/"
        },
        "outputId": "ef397301-bf81-44cc-e2f6-1f99aeb71b7a"
      },
      "source": [
        "# 학습용 입력 데이터 생성\r\n",
        "train_inputs = []\r\n",
        "for sentence in sentences:\r\n",
        "  train_inputs.append([word_to_id[word] for word in sentence.split()])\r\n",
        "train_inputs"
      ],
      "execution_count": 95,
      "outputs": [
        {
          "output_type": "execute_result",
          "data": {
            "text/plain": [
              "[[2, 3, 4, 5], [2, 3, 6]]"
            ]
          },
          "metadata": {
            "tags": []
          },
          "execution_count": 95
        }
      ]
    },
    {
      "cell_type": "code",
      "metadata": {
        "id": "QL-wE2RJY2sA",
        "colab": {
          "base_uri": "https://localhost:8080/"
        },
        "outputId": "fcee8263-6466-4d48-b98a-c47ad82578e7"
      },
      "source": [
        "# train_label은 labels를 그래도 사용\r\n",
        "train_labels = labels\r\n",
        "train_labels"
      ],
      "execution_count": 96,
      "outputs": [
        {
          "output_type": "execute_result",
          "data": {
            "text/plain": [
              "[[1, 1, 1, 2], [1, 1, 0]]"
            ]
          },
          "metadata": {
            "tags": []
          },
          "execution_count": 96
        }
      ]
    },
    {
      "cell_type": "code",
      "metadata": {
        "id": "LCH--YKtZGEp",
        "colab": {
          "base_uri": "https://localhost:8080/"
        },
        "outputId": "01c44dae-8895-415b-8d90-0ec6405cffd0"
      },
      "source": [
        "# 문장의 길이를 모두 동일하게 변경(최대 길이 4)\r\n",
        "for row in train_inputs:\r\n",
        "  row += [1] * (4 - len(row))\r\n",
        "train_inputs"
      ],
      "execution_count": 97,
      "outputs": [
        {
          "output_type": "execute_result",
          "data": {
            "text/plain": [
              "[[2, 3, 4, 5], [2, 3, 6, 1]]"
            ]
          },
          "metadata": {
            "tags": []
          },
          "execution_count": 97
        }
      ]
    },
    {
      "cell_type": "code",
      "metadata": {
        "id": "iyL6u2RjZRn_",
        "colab": {
          "base_uri": "https://localhost:8080/"
        },
        "outputId": "04b9f2f3-3b0f-4627-b4d3-19d9615a1d9f"
      },
      "source": [
        "# train_inputs를 numpy array로 변환\r\n",
        "train_inputs = np.array(train_inputs)\r\n",
        "train_inputs"
      ],
      "execution_count": 98,
      "outputs": [
        {
          "output_type": "execute_result",
          "data": {
            "text/plain": [
              "array([[2, 3, 4, 5],\n",
              "       [2, 3, 6, 1]])"
            ]
          },
          "metadata": {
            "tags": []
          },
          "execution_count": 98
        }
      ]
    },
    {
      "cell_type": "code",
      "metadata": {
        "colab": {
          "base_uri": "https://localhost:8080/"
        },
        "id": "-fsE0s4tacRF",
        "outputId": "78f18c76-f217-45b8-ac4c-04e3be2e386e"
      },
      "source": [
        "# train_label은 label을 그대로 사용\r\n",
        "train_labels = labels\r\n",
        "train_labels"
      ],
      "execution_count": 99,
      "outputs": [
        {
          "output_type": "execute_result",
          "data": {
            "text/plain": [
              "[[1, 1, 1, 2], [1, 1, 0]]"
            ]
          },
          "metadata": {
            "tags": []
          },
          "execution_count": 99
        }
      ]
    },
    {
      "cell_type": "code",
      "metadata": {
        "colab": {
          "base_uri": "https://localhost:8080/"
        },
        "id": "6i31WzWhaOy0",
        "outputId": "80f486c3-736e-447a-da04-95944758a756"
      },
      "source": [
        "# 정답 길이를 모두 동일하게 변경(최대 길이 4)\r\n",
        "for row in train_labels:\r\n",
        "  row += [1] * (4 - len(row))\r\n",
        "train_labels"
      ],
      "execution_count": 100,
      "outputs": [
        {
          "output_type": "execute_result",
          "data": {
            "text/plain": [
              "[[1, 1, 1, 2], [1, 1, 0, 1]]"
            ]
          },
          "metadata": {
            "tags": []
          },
          "execution_count": 100
        }
      ]
    },
    {
      "cell_type": "code",
      "metadata": {
        "colab": {
          "base_uri": "https://localhost:8080/"
        },
        "id": "nBwmS51YbAEZ",
        "outputId": "6566cc2e-218f-4f73-9b1b-35df16169c78"
      },
      "source": [
        "# 정답 길이를 모두 동일하게 함(최대 길이 4)\r\n",
        "train_labels = np.array(train_labels)\r\n",
        "train_labels"
      ],
      "execution_count": 101,
      "outputs": [
        {
          "output_type": "execute_result",
          "data": {
            "text/plain": [
              "array([[1, 1, 1, 2],\n",
              "       [1, 1, 0, 1]])"
            ]
          },
          "metadata": {
            "tags": []
          },
          "execution_count": 101
        }
      ]
    },
    {
      "cell_type": "markdown",
      "metadata": {
        "id": "milX02G6zneK"
      },
      "source": [
        "## 모델링"
      ]
    },
    {
      "cell_type": "code",
      "metadata": {
        "id": "_vgti3AAZoTV",
        "colab": {
          "base_uri": "https://localhost:8080/"
        },
        "outputId": "1ed1962a-9509-43c7-d518-7b4a65387243"
      },
      "source": [
        "# 입력 단어를 vector로 변환\r\n",
        "embedding = tf.keras.layers.Embedding(len(word_to_id), 8) # n_vocab, d_model\r\n",
        "hidden = embedding(train_inputs)\r\n",
        "train_inputs.shape, hidden"
      ],
      "execution_count": 102,
      "outputs": [
        {
          "output_type": "execute_result",
          "data": {
            "text/plain": [
              "((2, 4), <tf.Tensor: shape=(2, 4, 8), dtype=float32, numpy=\n",
              " array([[[ 0.01537312, -0.03966032, -0.04924404,  0.0329937 ,\n",
              "           0.02209686, -0.04927124,  0.01118619,  0.01884795],\n",
              "         [ 0.02093344,  0.03014841,  0.00724136,  0.04439532,\n",
              "           0.02897117, -0.01297343,  0.04346753, -0.03540294],\n",
              "         [-0.00116469, -0.0473483 , -0.04650457,  0.02961505,\n",
              "           0.02385748, -0.03642883,  0.02428738, -0.02280418],\n",
              "         [ 0.00981569, -0.00743397,  0.00424891, -0.03688117,\n",
              "          -0.00763829, -0.02912178, -0.01691883, -0.02790977]],\n",
              " \n",
              "        [[ 0.01537312, -0.03966032, -0.04924404,  0.0329937 ,\n",
              "           0.02209686, -0.04927124,  0.01118619,  0.01884795],\n",
              "         [ 0.02093344,  0.03014841,  0.00724136,  0.04439532,\n",
              "           0.02897117, -0.01297343,  0.04346753, -0.03540294],\n",
              "         [-0.029246  , -0.03181213,  0.02135661, -0.03150167,\n",
              "          -0.02941985, -0.01388973,  0.00366318,  0.03250444],\n",
              "         [-0.03333565,  0.00956415, -0.03947039, -0.00899249,\n",
              "          -0.01317741,  0.00560983,  0.03922725, -0.00851253]]],\n",
              "       dtype=float32)>)"
            ]
          },
          "metadata": {
            "tags": []
          },
          "execution_count": 102
        }
      ]
    },
    {
      "cell_type": "code",
      "metadata": {
        "id": "wos5qwzOcscQ",
        "colab": {
          "base_uri": "https://localhost:8080/"
        },
        "outputId": "146ec2b8-ea9c-49d2-fc2b-3dd6026d68ba"
      },
      "source": [
        "# 단어의 vector을 이용해서 긍정(2), 중립(1), 부정(0) 확률값 예측\r\n",
        "linear = tf.keras.layers.Dense(3, activation=tf.nn.softmax)\r\n",
        "outputs = linear(hidden)\r\n",
        "outputs"
      ],
      "execution_count": 103,
      "outputs": [
        {
          "output_type": "execute_result",
          "data": {
            "text/plain": [
              "<tf.Tensor: shape=(2, 4, 3), dtype=float32, numpy=\n",
              "array([[[0.33867455, 0.32095298, 0.34037244],\n",
              "        [0.33471704, 0.33434403, 0.33093894],\n",
              "        [0.32985997, 0.3179654 , 0.35217473],\n",
              "        [0.33385855, 0.3241887 , 0.34195274]],\n",
              "\n",
              "       [[0.33867455, 0.32095298, 0.34037244],\n",
              "        [0.33471704, 0.33434403, 0.33093894],\n",
              "        [0.32528198, 0.3257659 , 0.34895208],\n",
              "        [0.328332  , 0.32124028, 0.35042772]]], dtype=float32)>"
            ]
          },
          "metadata": {
            "tags": []
          },
          "execution_count": 103
        }
      ]
    },
    {
      "cell_type": "code",
      "metadata": {
        "id": "cCfBJ-9mfJ_J",
        "colab": {
          "base_uri": "https://localhost:8080/"
        },
        "outputId": "2e9ccbac-09de-4052-c32e-f2984204aa33"
      },
      "source": [
        "# 단어의 vector을 이용해서 긍정(2), 중립(1), 부정(0) 확률값 예측\r\n",
        "linear_2 = tf.keras.layers.Dense(3)\r\n",
        "logits = linear_2(hidden)\r\n",
        "logits"
      ],
      "execution_count": 104,
      "outputs": [
        {
          "output_type": "execute_result",
          "data": {
            "text/plain": [
              "<tf.Tensor: shape=(2, 4, 3), dtype=float32, numpy=\n",
              "array([[[ 0.05622068, -0.00496059, -0.04215453],\n",
              "        [ 0.00474434,  0.09326424,  0.03888639],\n",
              "        [ 0.04929757,  0.0117735 , -0.01738397],\n",
              "        [ 0.0161388 ,  0.01497035,  0.01797163]],\n",
              "\n",
              "       [[ 0.05622068, -0.00496059, -0.04215453],\n",
              "        [ 0.00474434,  0.09326424,  0.03888639],\n",
              "        [-0.0426243 , -0.04650788, -0.01836164],\n",
              "        [-0.01896859, -0.02137715,  0.00388522]]], dtype=float32)>"
            ]
          },
          "metadata": {
            "tags": []
          },
          "execution_count": 104
        }
      ]
    },
    {
      "cell_type": "code",
      "metadata": {
        "id": "uxNlBFJUfZHy",
        "colab": {
          "base_uri": "https://localhost:8080/"
        },
        "outputId": "de228809-fca5-45fa-a294-f80548ec4f29"
      },
      "source": [
        "# softmax 계산을 위한 준비 exp(x') / sum(exp(x))\r\n",
        "numerator = np.exp(logits)\r\n",
        "demoninator = np.sum(numerator, axis = 2, keepdims=True)\r\n",
        "numerator, demoninator"
      ],
      "execution_count": 105,
      "outputs": [
        {
          "output_type": "execute_result",
          "data": {
            "text/plain": [
              "(array([[[1.0578312 , 0.9950517 , 0.9587216 ],\n",
              "         [1.0047556 , 1.0977517 , 1.0396523 ],\n",
              "         [1.0505329 , 1.011843  , 0.98276633],\n",
              "         [1.0162697 , 1.0150831 , 1.0181341 ]],\n",
              " \n",
              "        [[1.0578312 , 0.9950517 , 0.9587216 ],\n",
              "         [1.0047556 , 1.0977517 , 1.0396523 ],\n",
              "         [0.9582713 , 0.95455706, 0.98180586],\n",
              "         [0.9812102 , 0.9788497 , 1.0038928 ]]], dtype=float32),\n",
              " array([[[3.0116045],\n",
              "         [3.1421597],\n",
              "         [3.0451424],\n",
              "         [3.0494869]],\n",
              " \n",
              "        [[3.0116045],\n",
              "         [3.1421597],\n",
              "         [2.8946342],\n",
              "         [2.9639525]]], dtype=float32))"
            ]
          },
          "metadata": {
            "tags": []
          },
          "execution_count": 105
        }
      ]
    },
    {
      "cell_type": "code",
      "metadata": {
        "id": "dsFgXGs9fuZ1",
        "colab": {
          "base_uri": "https://localhost:8080/"
        },
        "outputId": "5e99dc13-b82a-4b39-ad49-63926a2e8b7d"
      },
      "source": [
        "# 두 결과값 비교\r\n",
        "probs = numerator / demoninator\r\n",
        "probs"
      ],
      "execution_count": 106,
      "outputs": [
        {
          "output_type": "execute_result",
          "data": {
            "text/plain": [
              "array([[[0.3512517 , 0.33040583, 0.31834245],\n",
              "        [0.31976593, 0.34936216, 0.3308719 ],\n",
              "        [0.34498647, 0.332281  , 0.32273248],\n",
              "        [0.33325925, 0.33287013, 0.33387062]],\n",
              "\n",
              "       [[0.3512517 , 0.33040583, 0.31834245],\n",
              "        [0.31976593, 0.34936216, 0.3308719 ],\n",
              "        [0.33105093, 0.32976776, 0.3391813 ],\n",
              "        [0.33104786, 0.3302515 , 0.33870068]]], dtype=float32)"
            ]
          },
          "metadata": {
            "tags": []
          },
          "execution_count": 106
        }
      ]
    },
    {
      "cell_type": "code",
      "metadata": {
        "id": "cCFP1hwyf6rj",
        "colab": {
          "base_uri": "https://localhost:8080/"
        },
        "outputId": "26b098ee-79bc-41c0-a6a1-efb5c2b164b2"
      },
      "source": [
        "# dense의 weight, bias\r\n",
        "weight, bias = linear_2.get_weights()\r\n",
        "weight, bias"
      ],
      "execution_count": 107,
      "outputs": [
        {
          "output_type": "execute_result",
          "data": {
            "text/plain": [
              "(array([[ 0.11905289,  0.1749255 ,  0.41701752],\n",
              "        [-0.04227418,  0.52931243,  0.16662788],\n",
              "        [-0.57217634,  0.5654085 ,  0.3325656 ],\n",
              "        [ 0.24083012,  0.41550404, -0.6398091 ],\n",
              "        [ 0.5108654 ,  0.3677079 ,  0.44107884],\n",
              "        [-0.36703908, -0.6038922 ,  0.26798457],\n",
              "        [-0.7225838 ,  0.2027992 ,  0.6191953 ],\n",
              "        [-0.24927494, -0.6722916 , -0.42122886]], dtype=float32),\n",
              " array([0., 0., 0.], dtype=float32))"
            ]
          },
          "metadata": {
            "tags": []
          },
          "execution_count": 107
        }
      ]
    },
    {
      "cell_type": "code",
      "metadata": {
        "id": "ea2yNfA5gHua",
        "colab": {
          "base_uri": "https://localhost:8080/"
        },
        "outputId": "8c5c1d9e-86c1-4217-c6fc-4048be786f0f"
      },
      "source": [
        "# numpy를 이용한 xW + b\r\n",
        "logits = np.matmul(hidden, weight) + bias\r\n",
        "logits"
      ],
      "execution_count": 108,
      "outputs": [
        {
          "output_type": "execute_result",
          "data": {
            "text/plain": [
              "array([[[ 0.05622067, -0.00496059, -0.04215452],\n",
              "        [ 0.00474434,  0.09326424,  0.03888639],\n",
              "        [ 0.04929757,  0.01177351, -0.01738397],\n",
              "        [ 0.0161388 ,  0.01497035,  0.01797162]],\n",
              "\n",
              "       [[ 0.05622067, -0.00496059, -0.04215452],\n",
              "        [ 0.00474434,  0.09326424,  0.03888639],\n",
              "        [-0.0426243 , -0.04650788, -0.01836164],\n",
              "        [-0.01896859, -0.02137715,  0.00388522]]], dtype=float32)"
            ]
          },
          "metadata": {
            "tags": []
          },
          "execution_count": 108
        }
      ]
    },
    {
      "cell_type": "code",
      "metadata": {
        "id": "ivf8f4VerDTo"
      },
      "source": [
        "def build_model(n_vocab, d_model, n_seq, n_out):\r\n",
        "  \"\"\"\r\n",
        "  동작만 하는 간단한 모델\r\n",
        "  :param n_vocab: vocabulary 단어 수\r\n",
        "  :param d_model: 단어를 의미하는 벡터의 차원 수\r\n",
        "  :param n_seq: 문장 길이(단어 수)\r\n",
        "  :param n_out: 예측할 class 개수\r\n",
        "  \"\"\"\r\n",
        "  inputs = tf.keras.layers.Input((n_seq,)) #(bs, n_seq)\r\n",
        "  # 입력 단어를 vector로 저장\r\n",
        "  embedding = tf.keras.layers.Embedding(n_vocab, d_model)\r\n",
        "  hidden = embedding(inputs)\r\n",
        "  # 단어의 vector을 이용해서 정답 확률값 예측\r\n",
        "  linear = tf.keras.layers.Dense(n_out, activation=tf.nn.softmax)\r\n",
        "  outputs = linear(hidden)\r\n",
        "  \r\n",
        "  # 학습할 모델 선언\r\n",
        "  model = tf.keras.Model(inputs = inputs, outputs = outputs)\r\n",
        "  return model"
      ],
      "execution_count": 109,
      "outputs": []
    },
    {
      "cell_type": "code",
      "metadata": {
        "id": "S6FO1npqrIoG",
        "colab": {
          "base_uri": "https://localhost:8080/",
          "height": 312
        },
        "outputId": "7b6dfd6e-f2f6-49a5-a4ff-a0d023509170"
      },
      "source": [
        "# 모델 생성\r\n",
        "model = build_model(len(word_to_id), 8, 4, 3)\r\n",
        "# 모델 내용 그래프 출력\r\n",
        "tf.keras.utils.plot_model(model, 'model.png', show_shapes = True)"
      ],
      "execution_count": 110,
      "outputs": [
        {
          "output_type": "execute_result",
          "data": {
            "image/png": "[encoded data removed]",
            "text/plain": [
              "<IPython.core.display.Image object>"
            ]
          },
          "metadata": {
            "tags": []
          },
          "execution_count": 110
        }
      ]
    },
    {
      "cell_type": "code",
      "metadata": {
        "id": "XstgSrOXrMfc",
        "colab": {
          "base_uri": "https://localhost:8080/"
        },
        "outputId": "988aeddb-b45b-4947-819f-1f619583a5a7"
      },
      "source": [
        "model.summary()"
      ],
      "execution_count": 111,
      "outputs": [
        {
          "output_type": "stream",
          "text": [
            "Model: \"model\"\n",
            "_________________________________________________________________\n",
            "Layer (type)                 Output Shape              Param #   \n",
            "=================================================================\n",
            "input_1 (InputLayer)         [(None, 4)]               0         \n",
            "_________________________________________________________________\n",
            "embedding_15 (Embedding)     (None, 4, 8)              56        \n",
            "_________________________________________________________________\n",
            "dense_2 (Dense)              (None, 4, 3)              27        \n",
            "=================================================================\n",
            "Total params: 83\n",
            "Trainable params: 83\n",
            "Non-trainable params: 0\n",
            "_________________________________________________________________\n"
          ],
          "name": "stdout"
        }
      ]
    },
    {
      "cell_type": "markdown",
      "metadata": {
        "id": "DhXN7DHvlEpp"
      },
      "source": [
        "## 학습"
      ]
    },
    {
      "cell_type": "code",
      "metadata": {
        "id": "-vRLMYKbdMcB"
      },
      "source": [
        "# 모델 loss, optimizer, metric 정의\r\n",
        "model.compile(loss = 'sparse_categorical_crossentropy', optimizer='adam', metrics=['accuracy'])"
      ],
      "execution_count": 112,
      "outputs": []
    },
    {
      "cell_type": "code",
      "metadata": {
        "id": "u3JGcdwIk-qJ",
        "colab": {
          "base_uri": "https://localhost:8080/"
        },
        "outputId": "1e4ff7d9-7d8f-4f30-aed5-c08a30297093"
      },
      "source": [
        "# 모델 학습\r\n",
        "history = model.fit(train_inputs, train_labels, epochs=100, batch_size=16)"
      ],
      "execution_count": 113,
      "outputs": [
        {
          "output_type": "stream",
          "text": [
            "Epoch 1/100\n",
            "1/1 [==============================] - 1s 648ms/step - loss: 1.1008 - accuracy: 0.2500\n",
            "Epoch 2/100\n",
            "1/1 [==============================] - 0s 5ms/step - loss: 1.0975 - accuracy: 0.2500\n",
            "Epoch 3/100\n",
            "1/1 [==============================] - 0s 5ms/step - loss: 1.0941 - accuracy: 0.2500\n",
            "Epoch 4/100\n",
            "1/1 [==============================] - 0s 5ms/step - loss: 1.0908 - accuracy: 0.2500\n",
            "Epoch 5/100\n",
            "1/1 [==============================] - 0s 5ms/step - loss: 1.0874 - accuracy: 0.2500\n",
            "Epoch 6/100\n",
            "1/1 [==============================] - 0s 5ms/step - loss: 1.0841 - accuracy: 0.2500\n",
            "Epoch 7/100\n",
            "1/1 [==============================] - 0s 5ms/step - loss: 1.0808 - accuracy: 0.3750\n",
            "Epoch 8/100\n",
            "1/1 [==============================] - 0s 4ms/step - loss: 1.0775 - accuracy: 0.3750\n",
            "Epoch 9/100\n",
            "1/1 [==============================] - 0s 5ms/step - loss: 1.0742 - accuracy: 0.3750\n",
            "Epoch 10/100\n",
            "1/1 [==============================] - 0s 5ms/step - loss: 1.0709 - accuracy: 0.3750\n",
            "Epoch 11/100\n",
            "1/1 [==============================] - 0s 5ms/step - loss: 1.0676 - accuracy: 0.3750\n",
            "Epoch 12/100\n",
            "1/1 [==============================] - 0s 5ms/step - loss: 1.0643 - accuracy: 0.6250\n",
            "Epoch 13/100\n",
            "1/1 [==============================] - 0s 5ms/step - loss: 1.0611 - accuracy: 0.6250\n",
            "Epoch 14/100\n",
            "1/1 [==============================] - 0s 5ms/step - loss: 1.0578 - accuracy: 0.8750\n",
            "Epoch 15/100\n",
            "1/1 [==============================] - 0s 5ms/step - loss: 1.0546 - accuracy: 1.0000\n",
            "Epoch 16/100\n",
            "1/1 [==============================] - 0s 5ms/step - loss: 1.0513 - accuracy: 1.0000\n",
            "Epoch 17/100\n",
            "1/1 [==============================] - 0s 5ms/step - loss: 1.0481 - accuracy: 1.0000\n",
            "Epoch 18/100\n",
            "1/1 [==============================] - 0s 5ms/step - loss: 1.0448 - accuracy: 1.0000\n",
            "Epoch 19/100\n",
            "1/1 [==============================] - 0s 5ms/step - loss: 1.0416 - accuracy: 1.0000\n",
            "Epoch 20/100\n",
            "1/1 [==============================] - 0s 5ms/step - loss: 1.0383 - accuracy: 1.0000\n",
            "Epoch 21/100\n",
            "1/1 [==============================] - 0s 5ms/step - loss: 1.0351 - accuracy: 1.0000\n",
            "Epoch 22/100\n",
            "1/1 [==============================] - 0s 5ms/step - loss: 1.0319 - accuracy: 1.0000\n",
            "Epoch 23/100\n",
            "1/1 [==============================] - 0s 5ms/step - loss: 1.0286 - accuracy: 1.0000\n",
            "Epoch 24/100\n",
            "1/1 [==============================] - 0s 5ms/step - loss: 1.0254 - accuracy: 1.0000\n",
            "Epoch 25/100\n",
            "1/1 [==============================] - 0s 6ms/step - loss: 1.0222 - accuracy: 1.0000\n",
            "Epoch 26/100\n",
            "1/1 [==============================] - 0s 6ms/step - loss: 1.0189 - accuracy: 1.0000\n",
            "Epoch 27/100\n",
            "1/1 [==============================] - 0s 6ms/step - loss: 1.0157 - accuracy: 1.0000\n",
            "Epoch 28/100\n",
            "1/1 [==============================] - 0s 6ms/step - loss: 1.0124 - accuracy: 1.0000\n",
            "Epoch 29/100\n",
            "1/1 [==============================] - 0s 7ms/step - loss: 1.0092 - accuracy: 1.0000\n",
            "Epoch 30/100\n",
            "1/1 [==============================] - 0s 6ms/step - loss: 1.0059 - accuracy: 1.0000\n",
            "Epoch 31/100\n",
            "1/1 [==============================] - 0s 6ms/step - loss: 1.0026 - accuracy: 1.0000\n",
            "Epoch 32/100\n",
            "1/1 [==============================] - 0s 5ms/step - loss: 0.9994 - accuracy: 1.0000\n",
            "Epoch 33/100\n",
            "1/1 [==============================] - 0s 7ms/step - loss: 0.9961 - accuracy: 1.0000\n",
            "Epoch 34/100\n",
            "1/1 [==============================] - 0s 6ms/step - loss: 0.9928 - accuracy: 1.0000\n",
            "Epoch 35/100\n",
            "1/1 [==============================] - 0s 7ms/step - loss: 0.9895 - accuracy: 1.0000\n",
            "Epoch 36/100\n",
            "1/1 [==============================] - 0s 4ms/step - loss: 0.9862 - accuracy: 1.0000\n",
            "Epoch 37/100\n",
            "1/1 [==============================] - 0s 11ms/step - loss: 0.9829 - accuracy: 1.0000\n",
            "Epoch 38/100\n",
            "1/1 [==============================] - 0s 5ms/step - loss: 0.9795 - accuracy: 1.0000\n",
            "Epoch 39/100\n",
            "1/1 [==============================] - 0s 6ms/step - loss: 0.9762 - accuracy: 1.0000\n",
            "Epoch 40/100\n",
            "1/1 [==============================] - 0s 6ms/step - loss: 0.9728 - accuracy: 1.0000\n",
            "Epoch 41/100\n",
            "1/1 [==============================] - 0s 6ms/step - loss: 0.9695 - accuracy: 1.0000\n",
            "Epoch 42/100\n",
            "1/1 [==============================] - 0s 8ms/step - loss: 0.9661 - accuracy: 1.0000\n",
            "Epoch 43/100\n",
            "1/1 [==============================] - 0s 6ms/step - loss: 0.9627 - accuracy: 1.0000\n",
            "Epoch 44/100\n",
            "1/1 [==============================] - 0s 6ms/step - loss: 0.9593 - accuracy: 1.0000\n",
            "Epoch 45/100\n",
            "1/1 [==============================] - 0s 6ms/step - loss: 0.9559 - accuracy: 1.0000\n",
            "Epoch 46/100\n",
            "1/1 [==============================] - 0s 6ms/step - loss: 0.9525 - accuracy: 1.0000\n",
            "Epoch 47/100\n",
            "1/1 [==============================] - 0s 6ms/step - loss: 0.9490 - accuracy: 1.0000\n",
            "Epoch 48/100\n",
            "1/1 [==============================] - 0s 6ms/step - loss: 0.9456 - accuracy: 1.0000\n",
            "Epoch 49/100\n",
            "1/1 [==============================] - 0s 6ms/step - loss: 0.9421 - accuracy: 1.0000\n",
            "Epoch 50/100\n",
            "1/1 [==============================] - 0s 6ms/step - loss: 0.9386 - accuracy: 1.0000\n",
            "Epoch 51/100\n",
            "1/1 [==============================] - 0s 5ms/step - loss: 0.9352 - accuracy: 1.0000\n",
            "Epoch 52/100\n",
            "1/1 [==============================] - 0s 6ms/step - loss: 0.9317 - accuracy: 1.0000\n",
            "Epoch 53/100\n",
            "1/1 [==============================] - 0s 7ms/step - loss: 0.9282 - accuracy: 1.0000\n",
            "Epoch 54/100\n",
            "1/1 [==============================] - 0s 6ms/step - loss: 0.9246 - accuracy: 1.0000\n",
            "Epoch 55/100\n",
            "1/1 [==============================] - 0s 6ms/step - loss: 0.9211 - accuracy: 1.0000\n",
            "Epoch 56/100\n",
            "1/1 [==============================] - 0s 6ms/step - loss: 0.9175 - accuracy: 1.0000\n",
            "Epoch 57/100\n",
            "1/1 [==============================] - 0s 8ms/step - loss: 0.9140 - accuracy: 1.0000\n",
            "Epoch 58/100\n",
            "1/1 [==============================] - 0s 6ms/step - loss: 0.9104 - accuracy: 1.0000\n",
            "Epoch 59/100\n",
            "1/1 [==============================] - 0s 6ms/step - loss: 0.9068 - accuracy: 1.0000\n",
            "Epoch 60/100\n",
            "1/1 [==============================] - 0s 6ms/step - loss: 0.9032 - accuracy: 1.0000\n",
            "Epoch 61/100\n",
            "1/1 [==============================] - 0s 7ms/step - loss: 0.8996 - accuracy: 1.0000\n",
            "Epoch 62/100\n",
            "1/1 [==============================] - 0s 6ms/step - loss: 0.8960 - accuracy: 1.0000\n",
            "Epoch 63/100\n",
            "1/1 [==============================] - 0s 6ms/step - loss: 0.8924 - accuracy: 1.0000\n",
            "Epoch 64/100\n",
            "1/1 [==============================] - 0s 8ms/step - loss: 0.8887 - accuracy: 1.0000\n",
            "Epoch 65/100\n",
            "1/1 [==============================] - 0s 7ms/step - loss: 0.8851 - accuracy: 1.0000\n",
            "Epoch 66/100\n",
            "1/1 [==============================] - 0s 7ms/step - loss: 0.8814 - accuracy: 1.0000\n",
            "Epoch 67/100\n",
            "1/1 [==============================] - 0s 6ms/step - loss: 0.8777 - accuracy: 1.0000\n",
            "Epoch 68/100\n",
            "1/1 [==============================] - 0s 6ms/step - loss: 0.8740 - accuracy: 1.0000\n",
            "Epoch 69/100\n",
            "1/1 [==============================] - 0s 7ms/step - loss: 0.8703 - accuracy: 1.0000\n",
            "Epoch 70/100\n",
            "1/1 [==============================] - 0s 7ms/step - loss: 0.8666 - accuracy: 1.0000\n",
            "Epoch 71/100\n",
            "1/1 [==============================] - 0s 7ms/step - loss: 0.8629 - accuracy: 1.0000\n",
            "Epoch 72/100\n",
            "1/1 [==============================] - 0s 5ms/step - loss: 0.8592 - accuracy: 1.0000\n",
            "Epoch 73/100\n",
            "1/1 [==============================] - 0s 7ms/step - loss: 0.8554 - accuracy: 1.0000\n",
            "Epoch 74/100\n",
            "1/1 [==============================] - 0s 8ms/step - loss: 0.8517 - accuracy: 1.0000\n",
            "Epoch 75/100\n",
            "1/1 [==============================] - 0s 4ms/step - loss: 0.8479 - accuracy: 1.0000\n",
            "Epoch 76/100\n",
            "1/1 [==============================] - 0s 5ms/step - loss: 0.8441 - accuracy: 1.0000\n",
            "Epoch 77/100\n",
            "1/1 [==============================] - 0s 5ms/step - loss: 0.8403 - accuracy: 1.0000\n",
            "Epoch 78/100\n",
            "1/1 [==============================] - 0s 6ms/step - loss: 0.8366 - accuracy: 1.0000\n",
            "Epoch 79/100\n",
            "1/1 [==============================] - 0s 5ms/step - loss: 0.8328 - accuracy: 1.0000\n",
            "Epoch 80/100\n",
            "1/1 [==============================] - 0s 6ms/step - loss: 0.8289 - accuracy: 1.0000\n",
            "Epoch 81/100\n",
            "1/1 [==============================] - 0s 6ms/step - loss: 0.8251 - accuracy: 1.0000\n",
            "Epoch 82/100\n",
            "1/1 [==============================] - 0s 7ms/step - loss: 0.8213 - accuracy: 1.0000\n",
            "Epoch 83/100\n",
            "1/1 [==============================] - 0s 7ms/step - loss: 0.8175 - accuracy: 1.0000\n",
            "Epoch 84/100\n",
            "1/1 [==============================] - 0s 5ms/step - loss: 0.8136 - accuracy: 1.0000\n",
            "Epoch 85/100\n",
            "1/1 [==============================] - 0s 6ms/step - loss: 0.8098 - accuracy: 1.0000\n",
            "Epoch 86/100\n",
            "1/1 [==============================] - 0s 5ms/step - loss: 0.8059 - accuracy: 1.0000\n",
            "Epoch 87/100\n",
            "1/1 [==============================] - 0s 6ms/step - loss: 0.8021 - accuracy: 1.0000\n",
            "Epoch 88/100\n",
            "1/1 [==============================] - 0s 6ms/step - loss: 0.7982 - accuracy: 1.0000\n",
            "Epoch 89/100\n",
            "1/1 [==============================] - 0s 6ms/step - loss: 0.7943 - accuracy: 1.0000\n",
            "Epoch 90/100\n",
            "1/1 [==============================] - 0s 15ms/step - loss: 0.7904 - accuracy: 1.0000\n",
            "Epoch 91/100\n",
            "1/1 [==============================] - 0s 8ms/step - loss: 0.7865 - accuracy: 1.0000\n",
            "Epoch 92/100\n",
            "1/1 [==============================] - 0s 7ms/step - loss: 0.7827 - accuracy: 1.0000\n",
            "Epoch 93/100\n",
            "1/1 [==============================] - 0s 7ms/step - loss: 0.7788 - accuracy: 1.0000\n",
            "Epoch 94/100\n",
            "1/1 [==============================] - 0s 6ms/step - loss: 0.7748 - accuracy: 1.0000\n",
            "Epoch 95/100\n",
            "1/1 [==============================] - 0s 6ms/step - loss: 0.7709 - accuracy: 1.0000\n",
            "Epoch 96/100\n",
            "1/1 [==============================] - 0s 5ms/step - loss: 0.7670 - accuracy: 1.0000\n",
            "Epoch 97/100\n",
            "1/1 [==============================] - 0s 6ms/step - loss: 0.7631 - accuracy: 1.0000\n",
            "Epoch 98/100\n",
            "1/1 [==============================] - 0s 6ms/step - loss: 0.7592 - accuracy: 1.0000\n",
            "Epoch 99/100\n",
            "1/1 [==============================] - 0s 6ms/step - loss: 0.7553 - accuracy: 1.0000\n",
            "Epoch 100/100\n",
            "1/1 [==============================] - 0s 6ms/step - loss: 0.7513 - accuracy: 1.0000\n"
          ],
          "name": "stdout"
        }
      ]
    },
    {
      "cell_type": "code",
      "metadata": {
        "id": "4L2ezE_fleuD",
        "colab": {
          "base_uri": "https://localhost:8080/",
          "height": 279
        },
        "outputId": "9af341e5-ddfe-4c0b-d426-81bfeea2d972"
      },
      "source": [
        "plt.figure(figsize=(12, 4))\r\n",
        "\r\n",
        "plt.subplot(1, 2, 1)\r\n",
        "plt.plot(history.history['loss'], 'b-', label='loss')\r\n",
        "plt.xlabel('Epoch')\r\n",
        "plt.legend()\r\n",
        "\r\n",
        "plt.subplot(1, 2, 2)\r\n",
        "plt.plot(history.history['accuracy'], 'g-', label='accuracy')\r\n",
        "plt.xlabel('Epoch')\r\n",
        "plt.legend()\r\n",
        "\r\n",
        "plt.show()"
      ],
      "execution_count": 114,
      "outputs": [
        {
          "output_type": "display_data",
          "data": {
            "image/png": "[encoded data removed]",
            "text/plain": [
              "<Figure size 864x288 with 2 Axes>"
            ]
          },
          "metadata": {
            "tags": [],
            "needs_background": "light"
          }
        }
      ]
    },
    {
      "cell_type": "markdown",
      "metadata": {
        "id": "hjSlRk99zneL"
      },
      "source": [
        "## 평가"
      ]
    },
    {
      "cell_type": "code",
      "metadata": {
        "id": "lXznJ46_nH4W",
        "colab": {
          "base_uri": "https://localhost:8080/"
        },
        "outputId": "cbbc5cf7-7f01-4e4a-ec62-8a813478db5c"
      },
      "source": [
        "# 모델 평가\r\n",
        "model.evaluate(train_inputs, train_labels)"
      ],
      "execution_count": 115,
      "outputs": [
        {
          "output_type": "stream",
          "text": [
            "1/1 [==============================] - 0s 163ms/step - loss: 0.7474 - accuracy: 1.0000\n"
          ],
          "name": "stdout"
        },
        {
          "output_type": "execute_result",
          "data": {
            "text/plain": [
              "[0.7473893165588379, 1.0]"
            ]
          },
          "metadata": {
            "tags": []
          },
          "execution_count": 115
        }
      ]
    },
    {
      "cell_type": "markdown",
      "metadata": {
        "id": "XpcISJ_ozneL"
      },
      "source": [
        "## 예측"
      ]
    },
    {
      "cell_type": "code",
      "metadata": {
        "id": "9JbNkpdOnbNr"
      },
      "source": [
        "# 추론할 입력\r\n",
        "string = \"나는 기분이 우울해\""
      ],
      "execution_count": 116,
      "outputs": []
    },
    {
      "cell_type": "code",
      "metadata": {
        "id": "GVyo4_r_ommB",
        "colab": {
          "base_uri": "https://localhost:8080/"
        },
        "outputId": "bc87962c-700a-4ab8-902e-11a0885cc615"
      },
      "source": [
        "# 입력을 숫자로 변경\r\n",
        "infer_input = [word_to_id[word] for word in string.split()]\r\n",
        "infer_input"
      ],
      "execution_count": 117,
      "outputs": [
        {
          "output_type": "execute_result",
          "data": {
            "text/plain": [
              "[2, 4, 6]"
            ]
          },
          "metadata": {
            "tags": []
          },
          "execution_count": 117
        }
      ]
    },
    {
      "cell_type": "code",
      "metadata": {
        "id": "e3KPreCLowYX",
        "colab": {
          "base_uri": "https://localhost:8080/"
        },
        "outputId": "d0b5494e-293a-4e00-fe0d-ddd1499931b8"
      },
      "source": [
        "# 문장의 길이를 모두 동일하게 변경 (최대 길이 4)\r\n",
        "infer_input += [0] * (4 - len(infer_input))\r\n",
        "infer_input"
      ],
      "execution_count": 118,
      "outputs": [
        {
          "output_type": "execute_result",
          "data": {
            "text/plain": [
              "[2, 4, 6, 0]"
            ]
          },
          "metadata": {
            "tags": []
          },
          "execution_count": 118
        }
      ]
    },
    {
      "cell_type": "code",
      "metadata": {
        "id": "S4PUqeKko61H",
        "colab": {
          "base_uri": "https://localhost:8080/"
        },
        "outputId": "c915955b-4789-45ea-d25c-a0fe046dd0dd"
      },
      "source": [
        "# numpy array로 변환(batch size 1 증가)\r\n",
        "infer_inputs = np.array([infer_input])\r\n",
        "infer_inputs"
      ],
      "execution_count": 119,
      "outputs": [
        {
          "output_type": "execute_result",
          "data": {
            "text/plain": [
              "array([[2, 4, 6, 0]])"
            ]
          },
          "metadata": {
            "tags": []
          },
          "execution_count": 119
        }
      ]
    },
    {
      "cell_type": "code",
      "metadata": {
        "id": "4qtPwxPcpHt9",
        "colab": {
          "base_uri": "https://localhost:8080/"
        },
        "outputId": "9f275b97-32fc-4331-ce93-c06c2a0d0dfa"
      },
      "source": [
        "# 긍정/부정 추론\r\n",
        "y_preds = model.predict(infer_inputs)\r\n",
        "y_preds"
      ],
      "execution_count": 120,
      "outputs": [
        {
          "output_type": "execute_result",
          "data": {
            "text/plain": [
              "array([[[0.27505037, 0.48607463, 0.23887497],\n",
              "        [0.27114972, 0.49419108, 0.23465918],\n",
              "        [0.40342546, 0.31050208, 0.2860724 ],\n",
              "        [0.30587843, 0.390838  , 0.30328357]]], dtype=float32)"
            ]
          },
          "metadata": {
            "tags": []
          },
          "execution_count": 120
        }
      ]
    },
    {
      "cell_type": "code",
      "metadata": {
        "id": "Qt8L93XxpRXB",
        "colab": {
          "base_uri": "https://localhost:8080/"
        },
        "outputId": "3e3f1808-1075-48c3-f65e-313e81ff9247"
      },
      "source": [
        "# 확률의 max 값을 추론 값으로 설정\r\n",
        "y_pred_class = np.argmax(y_preds, axis=2)\r\n",
        "y_pred_class"
      ],
      "execution_count": 121,
      "outputs": [
        {
          "output_type": "execute_result",
          "data": {
            "text/plain": [
              "array([[1, 1, 0, 1]])"
            ]
          },
          "metadata": {
            "tags": []
          },
          "execution_count": 121
        }
      ]
    }
  ]
}