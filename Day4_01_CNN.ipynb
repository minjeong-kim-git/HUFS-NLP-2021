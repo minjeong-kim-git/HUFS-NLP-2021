{
  "nbformat": 4,
  "nbformat_minor": 0,
  "metadata": {
    "colab": {
      "name": "Day4_01_CNN",
      "provenance": [],
      "collapsed_sections": [
        "JHkHg6XAXoyK",
        "0CdGEt7qettt",
        "Q2CeNAe7jF3F",
        "GIS2v8P-jUNT",
        "fJqOKxgGjv_v"
      ]
    },
    "kernelspec": {
      "name": "python3",
      "display_name": "Python 3"
    }
  },
  "cells": [
    {
      "cell_type": "markdown",
      "metadata": {
        "id": "JHkHg6XAXoyK"
      },
      "source": [
        "# Evn"
      ]
    },
    {
      "cell_type": "code",
      "metadata": {
        "id": "WkYXFwcBXJDG"
      },
      "source": [
        "import os\n",
        "import random\n",
        "import shutil\n",
        "import json\n",
        "import zipfile\n",
        "import math\n",
        "import copy\n",
        "import collections\n",
        "import re\n",
        "\n",
        "import matplotlib.pyplot as plt\n",
        "import pandas as pd\n",
        "import numpy as np\n",
        "import tensorflow as tf\n",
        "import tensorflow.keras.backend as K\n",
        "\n",
        "from tqdm.notebook import tqdm"
      ],
      "execution_count": 1,
      "outputs": []
    },
    {
      "cell_type": "code",
      "metadata": {
        "id": "nvjyruUlXtlR"
      },
      "source": [
        "# random seed initialize\n",
        "random_seed = 1234\n",
        "random.seed(random_seed)\n",
        "np.random.seed(random_seed)\n",
        "tf.random.set_seed(random_seed)"
      ],
      "execution_count": 3,
      "outputs": []
    },
    {
      "cell_type": "code",
      "metadata": {
        "id": "BC3fXkhdYcYt",
        "colab": {
          "base_uri": "https://localhost:8080/"
        },
        "outputId": "6e899f8e-4e38-4872-dfc0-4eb5f0a58d56"
      },
      "source": [
        "!nvidia-smi"
      ],
      "execution_count": 4,
      "outputs": [
        {
          "output_type": "stream",
          "text": [
            "NVIDIA-SMI has failed because it couldn't communicate with the NVIDIA driver. Make sure that the latest NVIDIA driver is installed and running.\n",
            "\n"
          ],
          "name": "stdout"
        }
      ]
    },
    {
      "cell_type": "markdown",
      "metadata": {
        "id": "0CdGEt7qettt"
      },
      "source": [
        "# 입력 및 Vocab"
      ]
    },
    {
      "cell_type": "code",
      "metadata": {
        "id": "v_6blgOGetBN"
      },
      "source": [
        "# 입력 문장\n",
        "sentences = [\n",
        "    '나는 오늘 기분이 좋아 나는 오늘 우울해'\n",
        "]"
      ],
      "execution_count": 5,
      "outputs": []
    },
    {
      "cell_type": "code",
      "metadata": {
        "colab": {
          "base_uri": "https://localhost:8080/"
        },
        "id": "jAWGyFfxe_p-",
        "outputId": "0dc7fcf5-a7e4-4470-f91a-303ba3b1ab83"
      },
      "source": [
        "# 각 문장을 띄어쓰기 단위로 분할\n",
        "words = []\n",
        "for sentence in sentences:\n",
        "    words.extend(sentence.split())\n",
        "\n",
        "# 중복 단어 제거\n",
        "words = list(dict.fromkeys(words))\n",
        "\n",
        "# 각 단어별 고유한 번호 부여\n",
        "word_to_id = {'[PAD]': 0, '[UNK]': 1}\n",
        "for word in words:\n",
        "    word_to_id[word] = len(word_to_id)\n",
        "\n",
        "# 각 숫자별 단어 부여\n",
        "id_to_word = {_id:word for word, _id in word_to_id.items()}\n",
        "\n",
        "word_to_id, id_to_word"
      ],
      "execution_count": 6,
      "outputs": [
        {
          "output_type": "execute_result",
          "data": {
            "text/plain": [
              "({'[PAD]': 0, '[UNK]': 1, '기분이': 4, '나는': 2, '오늘': 3, '우울해': 6, '좋아': 5},\n",
              " {0: '[PAD]', 1: '[UNK]', 2: '나는', 3: '오늘', 4: '기분이', 5: '좋아', 6: '우울해'})"
            ]
          },
          "metadata": {
            "tags": []
          },
          "execution_count": 6
        }
      ]
    },
    {
      "cell_type": "code",
      "metadata": {
        "colab": {
          "base_uri": "https://localhost:8080/"
        },
        "id": "ywpz8iOsfVnx",
        "outputId": "d0363cfd-03aa-4f49-ada2-eb018d635cf2"
      },
      "source": [
        "# 학습용 입력 데이터 생성\n",
        "train_inputs = []\n",
        "for sentence in sentences:\n",
        "    train_inputs.append([word_to_id[word] for word in sentence.split()])\n",
        "\n",
        "# train inputs을 numpy array로 변환\n",
        "train_inputs = np.array(train_inputs)\n",
        "\n",
        "train_inputs"
      ],
      "execution_count": 8,
      "outputs": [
        {
          "output_type": "execute_result",
          "data": {
            "text/plain": [
              "array([[2, 3, 4, 5, 2, 3, 6]])"
            ]
          },
          "metadata": {
            "tags": []
          },
          "execution_count": 8
        }
      ]
    },
    {
      "cell_type": "code",
      "metadata": {
        "id": "iNDl5yRU0kge"
      },
      "source": [
        "# embedding\n",
        "embedding = tf.keras.layers.Embedding(len(word_to_id), 4)"
      ],
      "execution_count": 9,
      "outputs": []
    },
    {
      "cell_type": "code",
      "metadata": {
        "id": "YFwk2Fpo0ofW",
        "colab": {
          "base_uri": "https://localhost:8080/"
        },
        "outputId": "96de213a-fa87-4648-cac6-eb7edeef0481"
      },
      "source": [
        "# 단어벡터\n",
        "hidden = embedding(train_inputs)\n",
        "hidden"
      ],
      "execution_count": 10,
      "outputs": [
        {
          "output_type": "execute_result",
          "data": {
            "text/plain": [
              "<tf.Tensor: shape=(1, 7, 4), dtype=float32, numpy=\n",
              "array([[[ 0.02788493,  0.00853021,  0.02688133, -0.00167429],\n",
              "        [ 0.00873896, -0.04772998, -0.00643448,  0.04782395],\n",
              "        [ 0.04810704, -0.03535189,  0.04945729,  0.02813626],\n",
              "        [-0.02798697, -0.00110071,  0.0133124 ,  0.00637371],\n",
              "        [ 0.02788493,  0.00853021,  0.02688133, -0.00167429],\n",
              "        [ 0.00873896, -0.04772998, -0.00643448,  0.04782395],\n",
              "        [-0.00963336, -0.01013004,  0.01826939,  0.02741292]]],\n",
              "      dtype=float32)>"
            ]
          },
          "metadata": {
            "tags": []
          },
          "execution_count": 10
        }
      ]
    },
    {
      "cell_type": "markdown",
      "metadata": {
        "id": "6lNZzsa1eg0F"
      },
      "source": [
        "# CNN"
      ]
    },
    {
      "cell_type": "markdown",
      "metadata": {
        "id": "Q2CeNAe7jF3F"
      },
      "source": [
        "## padding valid"
      ]
    },
    {
      "cell_type": "code",
      "metadata": {
        "id": "rETOG74Pf1T3"
      },
      "source": [
        "# CNN (padding valid)\r\n",
        "conv_1 = tf.keras.layers.Conv1D(filters=5, kernel_size=3, padding = 'valid') # 기본 값"
      ],
      "execution_count": 12,
      "outputs": []
    },
    {
      "cell_type": "code",
      "metadata": {
        "id": "4Nl4j9Z7gEn3",
        "colab": {
          "base_uri": "https://localhost:8080/"
        },
        "outputId": "82f3793c-472b-4e30-fcbb-cb402687fa9a"
      },
      "source": [
        "# CNN 실행\r\n",
        "output_1 = conv_1(hidden)\r\n",
        "output_1"
      ],
      "execution_count": 13,
      "outputs": [
        {
          "output_type": "execute_result",
          "data": {
            "text/plain": [
              "<tf.Tensor: shape=(1, 5, 5), dtype=float32, numpy=\n",
              "array([[[ 0.04553854,  0.00398708,  0.0389956 , -0.03502898,\n",
              "         -0.00369218],\n",
              "        [ 0.08953248,  0.04308471,  0.03746746,  0.04599547,\n",
              "         -0.03159672],\n",
              "        [ 0.00801303, -0.04187064,  0.01202664, -0.01267586,\n",
              "         -0.00128851],\n",
              "        [ 0.03558332,  0.04383305,  0.00445943, -0.00553668,\n",
              "          0.03128533],\n",
              "        [ 0.0372184 ,  0.02098272,  0.01149326, -0.00155734,\n",
              "         -0.01826519]]], dtype=float32)>"
            ]
          },
          "metadata": {
            "tags": []
          },
          "execution_count": 13
        }
      ]
    },
    {
      "cell_type": "code",
      "metadata": {
        "id": "RbuvYwJXgFB5",
        "colab": {
          "base_uri": "https://localhost:8080/"
        },
        "outputId": "5cbede8e-cdc1-41e2-d21a-98cc8aa9b43d"
      },
      "source": [
        "# weights\r\n",
        "weights = conv_1.get_weights()\r\n",
        "W = weights[0]\r\n",
        "b = weights[1]\r\n",
        "print(W.shape) # (kernel_size, input_hidden, filters)\r\n",
        "print(b.shape) # (filters, )"
      ],
      "execution_count": 14,
      "outputs": [
        {
          "output_type": "stream",
          "text": [
            "(3, 4, 5)\n",
            "(5,)\n"
          ],
          "name": "stdout"
        }
      ]
    },
    {
      "cell_type": "markdown",
      "metadata": {
        "id": "GIS2v8P-jUNT"
      },
      "source": [
        "## padding causal\n",
        "kernel size에 따라서 앞에 자동으로 padding(all zero)를 추가해서 길이를 맞춤"
      ]
    },
    {
      "cell_type": "code",
      "metadata": {
        "id": "yuq4V_MPjUNb"
      },
      "source": [
        "# CNN (padding causal)\r\n",
        "conv_2 = tf.keras.layers.Conv1D(filters = 5, kernel_size = 3, padding = 'causal')"
      ],
      "execution_count": 16,
      "outputs": []
    },
    {
      "cell_type": "code",
      "metadata": {
        "id": "fzh7eRFJjUNc",
        "colab": {
          "base_uri": "https://localhost:8080/"
        },
        "outputId": "80ce802c-98d6-46cd-f29f-a2bb54476a41"
      },
      "source": [
        "# CNN 실행\r\n",
        "output_2 = conv_2(hidden)\r\n",
        "output_2.shape"
      ],
      "execution_count": 18,
      "outputs": [
        {
          "output_type": "execute_result",
          "data": {
            "text/plain": [
              "TensorShape([1, 7, 5])"
            ]
          },
          "metadata": {
            "tags": []
          },
          "execution_count": 18
        }
      ]
    },
    {
      "cell_type": "code",
      "metadata": {
        "id": "r_rBhuQ-jUNc",
        "colab": {
          "base_uri": "https://localhost:8080/"
        },
        "outputId": "1d114682-485a-4cc4-96b9-5d4f2b739d36"
      },
      "source": [
        "# weights\r\n",
        "weights = conv_2.get_weights()\r\n",
        "W = weights[0]\r\n",
        "b = weights[1]\r\n",
        "print(W.shape) # (kernel_size, input_hidden, filters)\r\n",
        "print(b.shape) # (filters, )"
      ],
      "execution_count": 21,
      "outputs": [
        {
          "output_type": "stream",
          "text": [
            "(3, 4, 5)\n",
            "(5,)\n"
          ],
          "name": "stdout"
        }
      ]
    },
    {
      "cell_type": "markdown",
      "metadata": {
        "id": "fJqOKxgGjv_v"
      },
      "source": [
        "## padding same\n",
        "kernel size에 따라서 앞/뒤에 자동으로 padding(all zero)를 추가해서 길이를 맞춤"
      ]
    },
    {
      "cell_type": "code",
      "metadata": {
        "id": "L87zU1mYjwAA"
      },
      "source": [
        "# CNN (padding same)\r\n",
        "conv_3 = tf.keras.layers.Conv1D(filters = 5, kernel_size = 3, padding = 'same')"
      ],
      "execution_count": 22,
      "outputs": []
    },
    {
      "cell_type": "code",
      "metadata": {
        "id": "Mz21iNxcjwAA",
        "colab": {
          "base_uri": "https://localhost:8080/"
        },
        "outputId": "3f847a73-3d86-4039-a0cd-7e6570038d52"
      },
      "source": [
        "# CNN 실행\r\n",
        "output_3 = conv_3(hidden)\r\n",
        "output_3.shape"
      ],
      "execution_count": 23,
      "outputs": [
        {
          "output_type": "execute_result",
          "data": {
            "text/plain": [
              "TensorShape([1, 7, 5])"
            ]
          },
          "metadata": {
            "tags": []
          },
          "execution_count": 23
        }
      ]
    },
    {
      "cell_type": "code",
      "metadata": {
        "id": "RukWCPL9jwAB",
        "colab": {
          "base_uri": "https://localhost:8080/"
        },
        "outputId": "0466cf78-9cb7-495d-8050-ba14466cc5d7"
      },
      "source": [
        "# weights\r\n",
        "weights = conv_3.get_weights()\r\n",
        "W = weights[0]\r\n",
        "b = weights[1]\r\n",
        "print(W.shape) # (kernel_size, input_hidden, filters)\r\n",
        "print(b.shape) # (filters, )"
      ],
      "execution_count": 24,
      "outputs": [
        {
          "output_type": "stream",
          "text": [
            "(3, 4, 5)\n",
            "(5,)\n"
          ],
          "name": "stdout"
        }
      ]
    },
    {
      "cell_type": "markdown",
      "metadata": {
        "id": "fbrpX2_ckPY2"
      },
      "source": [
        "## dilation_rate\n",
        "kernel이 간격을 두고서 특징을 추출함"
      ]
    },
    {
      "cell_type": "code",
      "metadata": {
        "id": "f089nAQjkPY_"
      },
      "source": [
        "# CNN (padding valid, dilation_rate)\r\n",
        "conv_4 = tf.keras.layers.Conv1D(filters = 5, kernel_size = 3, padding = 'valid', dilation_rate = 2)"
      ],
      "execution_count": 25,
      "outputs": []
    },
    {
      "cell_type": "code",
      "metadata": {
        "id": "FCkUN0dKkPZA",
        "colab": {
          "base_uri": "https://localhost:8080/"
        },
        "outputId": "cf9ba5a2-a125-40c6-9e3a-f3945cca1b66"
      },
      "source": [
        "# CNN 실행\r\n",
        "output_4 = conv_4(hidden)\r\n",
        "output_4.shape"
      ],
      "execution_count": 26,
      "outputs": [
        {
          "output_type": "execute_result",
          "data": {
            "text/plain": [
              "TensorShape([1, 3, 5])"
            ]
          },
          "metadata": {
            "tags": []
          },
          "execution_count": 26
        }
      ]
    },
    {
      "cell_type": "code",
      "metadata": {
        "id": "jypo8LdmkPZA",
        "colab": {
          "base_uri": "https://localhost:8080/"
        },
        "outputId": "6c2cac7a-148c-4378-bdd1-67ff0db5c33f"
      },
      "source": [
        "# weights\r\n",
        "weights = conv_4.get_weights()\r\n",
        "W = weights[0]\r\n",
        "b = weights[1]\r\n",
        "print(W.shape) # (kernel_size, input_hidden, filters)\r\n",
        "print(b.shape) # (filters, )"
      ],
      "execution_count": 27,
      "outputs": [
        {
          "output_type": "stream",
          "text": [
            "(3, 4, 5)\n",
            "(5,)\n"
          ],
          "name": "stdout"
        }
      ]
    },
    {
      "cell_type": "markdown",
      "metadata": {
        "id": "4N6iZts6k4DI"
      },
      "source": [
        "## CNN 모델"
      ]
    },
    {
      "cell_type": "code",
      "metadata": {
        "id": "S3FMNrUjk_sy"
      },
      "source": [
        "def build_model(n_vocab, d_model, n_seq, n_out):\n",
        "    \"\"\"\n",
        "    CNN 모델\n",
        "    :param n_vocab: vocabulary 단어 수\n",
        "    :param d_model: 단어를 의미하는 벡터의 차원 수\n",
        "    :param n_seq: 문장길이 (단어 수)\n",
        "    :param n_out: 예측할 class 개수\n",
        "    \"\"\"\n",
        "    input = tf.keras.layers.Input(shape=(n_seq,))\n",
        "\n",
        "    embedding = tf.keras.layers.Embedding(n_vocab, d_model)  # (n_vocab x d_model)\n",
        "    hidden = embedding(input)  # (bs, 1, d_model)\n",
        "\n",
        "    #############################################\n",
        "    conv_1 = tf.keras.layers.Conv1D(filters=128, kernel_size=3, padding = 'causal')\n",
        "    hidden = conv_1(hidden)\n",
        "    conv_2 = tf.keras.layers.Conv1D(filters=128, kernel_size=3, padding = 'valid')\n",
        "    hidden = conv_2(hidden)\n",
        "    #############################################\n",
        "\n",
        "    output = tf.keras.layers.Dense(n_out, activation=tf.nn.softmax)(hidden)  # (bs, 1, n_vocab)\n",
        "\n",
        "    model = tf.keras.Model(inputs=input, outputs=output)\n",
        "    return model"
      ],
      "execution_count": 36,
      "outputs": []
    },
    {
      "cell_type": "code",
      "metadata": {
        "id": "2f7LVFmKlNDn",
        "colab": {
          "base_uri": "https://localhost:8080/",
          "height": 533
        },
        "outputId": "130632ee-5fd0-4140-e881-7379e9bf1781"
      },
      "source": [
        "# 모델 생성\n",
        "model = build_model(len(word_to_id), 8, 7, 3)\n",
        "# 모델 내용 그래프 출력\n",
        "tf.keras.utils.plot_model(model, 'model.png', show_shapes=True)"
      ],
      "execution_count": 37,
      "outputs": [
        {
          "output_type": "execute_result",
          "data": {
            "image/png": "[encoded data removed]",
            "text/plain": [
              "<IPython.core.display.Image object>"
            ]
          },
          "metadata": {
            "tags": []
          },
          "execution_count": 37
        }
      ]
    },
    {
      "cell_type": "code",
      "metadata": {
        "id": "1XLwp9MLlUsf",
        "colab": {
          "base_uri": "https://localhost:8080/"
        },
        "outputId": "72fc1a28-a29e-41ba-fc27-65ee92b91a72"
      },
      "source": [
        "model.predict(train_inputs)"
      ],
      "execution_count": 38,
      "outputs": [
        {
          "output_type": "execute_result",
          "data": {
            "text/plain": [
              "array([[[0.3386537 , 0.32783797, 0.33350834],\n",
              "        [0.3307062 , 0.33593437, 0.33335942],\n",
              "        [0.33216646, 0.33524606, 0.33258745],\n",
              "        [0.33131513, 0.33143783, 0.33724704],\n",
              "        [0.33476982, 0.32799274, 0.3372375 ]]], dtype=float32)"
            ]
          },
          "metadata": {
            "tags": []
          },
          "execution_count": 38
        }
      ]
    }
  ]
}