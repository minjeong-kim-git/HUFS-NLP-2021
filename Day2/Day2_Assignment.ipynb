{
  "nbformat": 4,
  "nbformat_minor": 0,
  "metadata": {
    "colab": {
      "name": "Day2_Assignment",
      "provenance": [],
      "collapsed_sections": [
        "6dfJPT-2XMTB",
        "JHkHg6XAXoyK",
        "sEbpKyPxz6qs",
        "b7GZHAJc8R1W",
        "_8ajMz_ZCCxs",
        "zeBCtb61bG8Y"
      ],
      "toc_visible": true
    },
    "kernelspec": {
      "name": "python3",
      "display_name": "Python 3"
    }
  },
  "cells": [
    {
      "cell_type": "markdown",
      "metadata": {
        "id": "6dfJPT-2XMTB"
      },
      "source": [
        "# Install"
      ]
    },
    {
      "cell_type": "code",
      "metadata": {
        "colab": {
          "base_uri": "https://localhost:8080/"
        },
        "id": "a193aGJWVaqb",
        "outputId": "29b4101b-91d9-4954-9436-b2a8d07712f0"
      },
      "source": [
        "!pip install sentencepiece"
      ],
      "execution_count": 1,
      "outputs": [
        {
          "output_type": "stream",
          "text": [
            "Collecting sentencepiece\n",
            "\u001b[?25l  Downloading https://files.pythonhosted.org/packages/14/67/e42bd1181472c95c8cda79305df848264f2a7f62740995a46945d9797b67/sentencepiece-0.1.95-cp36-cp36m-manylinux2014_x86_64.whl (1.2MB)\n",
            "\r\u001b[K     |▎                               | 10kB 16.2MB/s eta 0:00:01\r\u001b[K     |▌                               | 20kB 22.4MB/s eta 0:00:01\r\u001b[K     |▉                               | 30kB 11.0MB/s eta 0:00:01\r\u001b[K     |█                               | 40kB 9.5MB/s eta 0:00:01\r\u001b[K     |█▍                              | 51kB 8.4MB/s eta 0:00:01\r\u001b[K     |█▋                              | 61kB 7.8MB/s eta 0:00:01\r\u001b[K     |██                              | 71kB 7.8MB/s eta 0:00:01\r\u001b[K     |██▏                             | 81kB 8.6MB/s eta 0:00:01\r\u001b[K     |██▌                             | 92kB 8.0MB/s eta 0:00:01\r\u001b[K     |██▊                             | 102kB 7.8MB/s eta 0:00:01\r\u001b[K     |███                             | 112kB 7.8MB/s eta 0:00:01\r\u001b[K     |███▎                            | 122kB 7.8MB/s eta 0:00:01\r\u001b[K     |███▌                            | 133kB 7.8MB/s eta 0:00:01\r\u001b[K     |███▉                            | 143kB 7.8MB/s eta 0:00:01\r\u001b[K     |████                            | 153kB 7.8MB/s eta 0:00:01\r\u001b[K     |████▍                           | 163kB 7.8MB/s eta 0:00:01\r\u001b[K     |████▋                           | 174kB 7.8MB/s eta 0:00:01\r\u001b[K     |█████                           | 184kB 7.8MB/s eta 0:00:01\r\u001b[K     |█████▏                          | 194kB 7.8MB/s eta 0:00:01\r\u001b[K     |█████▌                          | 204kB 7.8MB/s eta 0:00:01\r\u001b[K     |█████▊                          | 215kB 7.8MB/s eta 0:00:01\r\u001b[K     |██████                          | 225kB 7.8MB/s eta 0:00:01\r\u001b[K     |██████▎                         | 235kB 7.8MB/s eta 0:00:01\r\u001b[K     |██████▌                         | 245kB 7.8MB/s eta 0:00:01\r\u001b[K     |██████▉                         | 256kB 7.8MB/s eta 0:00:01\r\u001b[K     |███████                         | 266kB 7.8MB/s eta 0:00:01\r\u001b[K     |███████▍                        | 276kB 7.8MB/s eta 0:00:01\r\u001b[K     |███████▋                        | 286kB 7.8MB/s eta 0:00:01\r\u001b[K     |████████                        | 296kB 7.8MB/s eta 0:00:01\r\u001b[K     |████████▏                       | 307kB 7.8MB/s eta 0:00:01\r\u001b[K     |████████▍                       | 317kB 7.8MB/s eta 0:00:01\r\u001b[K     |████████▊                       | 327kB 7.8MB/s eta 0:00:01\r\u001b[K     |█████████                       | 337kB 7.8MB/s eta 0:00:01\r\u001b[K     |█████████▎                      | 348kB 7.8MB/s eta 0:00:01\r\u001b[K     |█████████▌                      | 358kB 7.8MB/s eta 0:00:01\r\u001b[K     |█████████▉                      | 368kB 7.8MB/s eta 0:00:01\r\u001b[K     |██████████                      | 378kB 7.8MB/s eta 0:00:01\r\u001b[K     |██████████▍                     | 389kB 7.8MB/s eta 0:00:01\r\u001b[K     |██████████▋                     | 399kB 7.8MB/s eta 0:00:01\r\u001b[K     |███████████                     | 409kB 7.8MB/s eta 0:00:01\r\u001b[K     |███████████▏                    | 419kB 7.8MB/s eta 0:00:01\r\u001b[K     |███████████▍                    | 430kB 7.8MB/s eta 0:00:01\r\u001b[K     |███████████▊                    | 440kB 7.8MB/s eta 0:00:01\r\u001b[K     |████████████                    | 450kB 7.8MB/s eta 0:00:01\r\u001b[K     |████████████▎                   | 460kB 7.8MB/s eta 0:00:01\r\u001b[K     |████████████▌                   | 471kB 7.8MB/s eta 0:00:01\r\u001b[K     |████████████▉                   | 481kB 7.8MB/s eta 0:00:01\r\u001b[K     |█████████████                   | 491kB 7.8MB/s eta 0:00:01\r\u001b[K     |█████████████▍                  | 501kB 7.8MB/s eta 0:00:01\r\u001b[K     |█████████████▋                  | 512kB 7.8MB/s eta 0:00:01\r\u001b[K     |█████████████▉                  | 522kB 7.8MB/s eta 0:00:01\r\u001b[K     |██████████████▏                 | 532kB 7.8MB/s eta 0:00:01\r\u001b[K     |██████████████▍                 | 542kB 7.8MB/s eta 0:00:01\r\u001b[K     |██████████████▊                 | 552kB 7.8MB/s eta 0:00:01\r\u001b[K     |███████████████                 | 563kB 7.8MB/s eta 0:00:01\r\u001b[K     |███████████████▎                | 573kB 7.8MB/s eta 0:00:01\r\u001b[K     |███████████████▌                | 583kB 7.8MB/s eta 0:00:01\r\u001b[K     |███████████████▉                | 593kB 7.8MB/s eta 0:00:01\r\u001b[K     |████████████████                | 604kB 7.8MB/s eta 0:00:01\r\u001b[K     |████████████████▍               | 614kB 7.8MB/s eta 0:00:01\r\u001b[K     |████████████████▋               | 624kB 7.8MB/s eta 0:00:01\r\u001b[K     |████████████████▉               | 634kB 7.8MB/s eta 0:00:01\r\u001b[K     |█████████████████▏              | 645kB 7.8MB/s eta 0:00:01\r\u001b[K     |█████████████████▍              | 655kB 7.8MB/s eta 0:00:01\r\u001b[K     |█████████████████▊              | 665kB 7.8MB/s eta 0:00:01\r\u001b[K     |██████████████████              | 675kB 7.8MB/s eta 0:00:01\r\u001b[K     |██████████████████▎             | 686kB 7.8MB/s eta 0:00:01\r\u001b[K     |██████████████████▌             | 696kB 7.8MB/s eta 0:00:01\r\u001b[K     |██████████████████▉             | 706kB 7.8MB/s eta 0:00:01\r\u001b[K     |███████████████████             | 716kB 7.8MB/s eta 0:00:01\r\u001b[K     |███████████████████▎            | 727kB 7.8MB/s eta 0:00:01\r\u001b[K     |███████████████████▋            | 737kB 7.8MB/s eta 0:00:01\r\u001b[K     |███████████████████▉            | 747kB 7.8MB/s eta 0:00:01\r\u001b[K     |████████████████████▏           | 757kB 7.8MB/s eta 0:00:01\r\u001b[K     |████████████████████▍           | 768kB 7.8MB/s eta 0:00:01\r\u001b[K     |████████████████████▊           | 778kB 7.8MB/s eta 0:00:01\r\u001b[K     |█████████████████████           | 788kB 7.8MB/s eta 0:00:01\r\u001b[K     |█████████████████████▎          | 798kB 7.8MB/s eta 0:00:01\r\u001b[K     |█████████████████████▌          | 808kB 7.8MB/s eta 0:00:01\r\u001b[K     |█████████████████████▉          | 819kB 7.8MB/s eta 0:00:01\r\u001b[K     |██████████████████████          | 829kB 7.8MB/s eta 0:00:01\r\u001b[K     |██████████████████████▎         | 839kB 7.8MB/s eta 0:00:01\r\u001b[K     |██████████████████████▋         | 849kB 7.8MB/s eta 0:00:01\r\u001b[K     |██████████████████████▉         | 860kB 7.8MB/s eta 0:00:01\r\u001b[K     |███████████████████████▏        | 870kB 7.8MB/s eta 0:00:01\r\u001b[K     |███████████████████████▍        | 880kB 7.8MB/s eta 0:00:01\r\u001b[K     |███████████████████████▊        | 890kB 7.8MB/s eta 0:00:01\r\u001b[K     |████████████████████████        | 901kB 7.8MB/s eta 0:00:01\r\u001b[K     |████████████████████████▎       | 911kB 7.8MB/s eta 0:00:01\r\u001b[K     |████████████████████████▌       | 921kB 7.8MB/s eta 0:00:01\r\u001b[K     |████████████████████████▊       | 931kB 7.8MB/s eta 0:00:01\r\u001b[K     |█████████████████████████       | 942kB 7.8MB/s eta 0:00:01\r\u001b[K     |█████████████████████████▎      | 952kB 7.8MB/s eta 0:00:01\r\u001b[K     |█████████████████████████▋      | 962kB 7.8MB/s eta 0:00:01\r\u001b[K     |█████████████████████████▉      | 972kB 7.8MB/s eta 0:00:01\r\u001b[K     |██████████████████████████▏     | 983kB 7.8MB/s eta 0:00:01\r\u001b[K     |██████████████████████████▍     | 993kB 7.8MB/s eta 0:00:01\r\u001b[K     |██████████████████████████▊     | 1.0MB 7.8MB/s eta 0:00:01\r\u001b[K     |███████████████████████████     | 1.0MB 7.8MB/s eta 0:00:01\r\u001b[K     |███████████████████████████▎    | 1.0MB 7.8MB/s eta 0:00:01\r\u001b[K     |███████████████████████████▌    | 1.0MB 7.8MB/s eta 0:00:01\r\u001b[K     |███████████████████████████▊    | 1.0MB 7.8MB/s eta 0:00:01\r\u001b[K     |████████████████████████████    | 1.1MB 7.8MB/s eta 0:00:01\r\u001b[K     |████████████████████████████▎   | 1.1MB 7.8MB/s eta 0:00:01\r\u001b[K     |████████████████████████████▋   | 1.1MB 7.8MB/s eta 0:00:01\r\u001b[K     |████████████████████████████▉   | 1.1MB 7.8MB/s eta 0:00:01\r\u001b[K     |█████████████████████████████▏  | 1.1MB 7.8MB/s eta 0:00:01\r\u001b[K     |█████████████████████████████▍  | 1.1MB 7.8MB/s eta 0:00:01\r\u001b[K     |█████████████████████████████▊  | 1.1MB 7.8MB/s eta 0:00:01\r\u001b[K     |██████████████████████████████  | 1.1MB 7.8MB/s eta 0:00:01\r\u001b[K     |██████████████████████████████▏ | 1.1MB 7.8MB/s eta 0:00:01\r\u001b[K     |██████████████████████████████▌ | 1.1MB 7.8MB/s eta 0:00:01\r\u001b[K     |██████████████████████████████▊ | 1.2MB 7.8MB/s eta 0:00:01\r\u001b[K     |███████████████████████████████ | 1.2MB 7.8MB/s eta 0:00:01\r\u001b[K     |███████████████████████████████▎| 1.2MB 7.8MB/s eta 0:00:01\r\u001b[K     |███████████████████████████████▋| 1.2MB 7.8MB/s eta 0:00:01\r\u001b[K     |███████████████████████████████▉| 1.2MB 7.8MB/s eta 0:00:01\r\u001b[K     |████████████████████████████████| 1.2MB 7.8MB/s \n",
            "\u001b[?25hInstalling collected packages: sentencepiece\n",
            "Successfully installed sentencepiece-0.1.95\n"
          ],
          "name": "stdout"
        }
      ]
    },
    {
      "cell_type": "markdown",
      "metadata": {
        "id": "JHkHg6XAXoyK"
      },
      "source": [
        "# Evn"
      ]
    },
    {
      "cell_type": "code",
      "metadata": {
        "id": "WkYXFwcBXJDG"
      },
      "source": [
        "import os\n",
        "import random\n",
        "import shutil\n",
        "import json\n",
        "import zipfile\n",
        "import math\n",
        "import copy\n",
        "import collections\n",
        "import re\n",
        "\n",
        "import matplotlib.pyplot as plt\n",
        "import pandas as pd\n",
        "import numpy as np\n",
        "import sentencepiece as spm\n",
        "import tensorflow as tf\n",
        "import tensorflow.keras.backend as K\n",
        "\n",
        "from tqdm.notebook import tqdm"
      ],
      "execution_count": 2,
      "outputs": []
    },
    {
      "cell_type": "code",
      "metadata": {
        "id": "nvjyruUlXtlR"
      },
      "source": [
        "# random seed initialize\n",
        "random_seed = 1234\n",
        "random.seed(random_seed)\n",
        "np.random.seed(random_seed)\n",
        "tf.random.set_seed(random_seed)"
      ],
      "execution_count": 3,
      "outputs": []
    },
    {
      "cell_type": "code",
      "metadata": {
        "colab": {
          "base_uri": "https://localhost:8080/"
        },
        "id": "BC3fXkhdYcYt",
        "outputId": "20f4f545-92a2-494b-ddc2-7e7b0d885173"
      },
      "source": [
        "!nvidia-smi"
      ],
      "execution_count": 4,
      "outputs": [
        {
          "output_type": "stream",
          "text": [
            "NVIDIA-SMI has failed because it couldn't communicate with the NVIDIA driver. Make sure that the latest NVIDIA driver is installed and running.\n",
            "\n"
          ],
          "name": "stdout"
        }
      ]
    },
    {
      "cell_type": "code",
      "metadata": {
        "colab": {
          "base_uri": "https://localhost:8080/"
        },
        "id": "xVRdxYReYeQj",
        "outputId": "73da2eff-2095-4d8d-851b-71fddd891984"
      },
      "source": [
        "# google drive mount\n",
        "from google.colab import drive\n",
        "drive.mount('/content/drive')"
      ],
      "execution_count": 5,
      "outputs": [
        {
          "output_type": "stream",
          "text": [
            "Mounted at /content/drive\n"
          ],
          "name": "stdout"
        }
      ]
    },
    {
      "cell_type": "code",
      "metadata": {
        "colab": {
          "base_uri": "https://localhost:8080/"
        },
        "id": "byCIiLJBbFHh",
        "outputId": "13f2be7d-2179-42af-ce1e-1cc11db5725c"
      },
      "source": [
        "# data dir\n",
        "data_dir = '/content/drive/MyDrive/data'\n",
        "os.listdir(data_dir)"
      ],
      "execution_count": 17,
      "outputs": [
        {
          "output_type": "execute_result",
          "data": {
            "text/plain": [
              "['tale', 'tale.txt', '.ipynb_checkpoints']"
            ]
          },
          "metadata": {
            "tags": []
          },
          "execution_count": 17
        }
      ]
    },
    {
      "cell_type": "code",
      "metadata": {
        "id": "2H0BLydCb7lg",
        "colab": {
          "base_uri": "https://localhost:8080/"
        },
        "outputId": "7a1adda5-cd07-45a5-ddeb-e21e731c2482"
      },
      "source": [
        "# tale dir\n",
        "tale_dir = os.path.join(data_dir, 'tale')\n",
        "if not os.path.exists(tale_dir):\n",
        "    os.makedirs(tale_dir)\n",
        "os.listdir(tale_dir)"
      ],
      "execution_count": 16,
      "outputs": [
        {
          "output_type": "execute_result",
          "data": {
            "text/plain": [
              "['tale.zip']"
            ]
          },
          "metadata": {
            "tags": []
          },
          "execution_count": 16
        }
      ]
    },
    {
      "cell_type": "markdown",
      "metadata": {
        "id": "sEbpKyPxz6qs"
      },
      "source": [
        "# Corpus"
      ]
    },
    {
      "cell_type": "code",
      "metadata": {
        "id": "j3xx7dJYz9jt"
      },
      "source": [
        "text = \"\"\"위키백과의 최상위 도메인이 .com이던 시절 ko.wikipedia.com에 구판 미디어위키가 깔렸으나 한글 처리에 문제가 있어 글을 올릴 수도 없는 이름뿐인 곳이었다. 2002년 10월에 새로운 위키 소프트웨어를 쓰면서 한글 처리 문제가 풀리기 시작했지만, 가장 많은 사람이 쓰는 인터넷 익스플로러에서는 인코딩 문제가 여전했다. 이런 이유로 초기에는 도움말을 옮기거나 쓰는 일에 어려움을 겪었다. 이런 어려움이 있었는데도 위키백과 통계로는, 2002년 10월에서 2003년 7월까지 열 달 사이에 글이 13개에서 159개로 늘었고 2003년 7월과 8월 사이에는 한 달 만에 159개에서 348개로 늘어났다. 2003년 9월부터는 인터넷 익스플로러의 인코딩 문제가 사라졌으며, 대한민국 언론에서도 몇 차례 위키백과를 소개하면서 참여자가 점증하리라고 예측했다. 참고로 한국어 위키백과의 최초 문서는 2002년 10월 12일에 등재된 지미 카터 문서이다.\n",
        "2005년 6월 5일 양자장론 문서 등재를 기점으로 총 등재 문서 수가 1만 개를 돌파하였고 이어 동해 11월에 제1회 정보트러스트 어워드 인터넷 문화 일반 분야에 선정되었다. 2007년 8월 9일에는 한겨레21에서 한국어 위키백과와 위키백과 오프라인 첫 모임을 취재한 기사를 표지 이야기로 다루었다.\n",
        "2008년 광우병 촛불 시위 때 생긴 신조어인 명박산성이 한국어 위키백과에 등재되고 이 문서의 존치 여부를 두고 갑론을박의 과정이 화제가 되고 각종 매체에도 보도가 되었다. 시위대의 난입과 충돌을 방지하기 위해 거리에 설치되었던 컨테이너 박스를 이명박 정부의 불통으로 풍자를 하기 위해 사용된 이 신조어는 중립성을 지켰는지와 백과사전에 올라올 만한 문서인지가 쟁점이 되었는데 일시적으로 사용된 신조어일 뿐이라는 주장과 이미 여러 매체에서 사용되어 지속성이 보장되었다는 주장 등 논쟁이 벌어졌고 다음 아고라 등지에서 이 항목을 존치하는 방안을 지지하는 의견을 남기기 위해 여러 사람이 새로 가입하는 등 혼란이 빚어졌다. 11월 4일에는 다음커뮤니케이션에서 글로벌 세계 대백과사전을 기증받았으며, 2009년 3월에는 서울특별시로부터 콘텐츠를 기증받았다. 2009년 6월 4일에는 액세스권 등재를 기점으로 10만 개 문서 수를 돌파했다.\n",
        "2011년 4월 16일에는 대한민국에서의 위키미디어 프로젝트를 지원하는 모임을 결성할 것을 추진하는 논의가 이뤄졌고 이후 창립준비위원회 결성을 거쳐 2014년 10월 19일 창립총회를 개최하였으며, 최종적으로 2015년 11월 4일 사단법인 한국 위키미디어 협회가 결성되어 활동 중에 있다. 2019년 미국 위키미디어재단으로부터 한국 지역 지부(챕터)로 승인을 받았다.\n",
        "2012년 5월 19일에는 보비 탬블링 등재를 기점으로 총 20만 개 문서가 등재되었고 2015년 1월 5일, Rojo -Tierra- 문서 등재를 기점으로 총 30만 개 문서가 등재되었다. 2017년 10월 21일에는 충청남도 동물위생시험소 문서 등재로 40만 개의 문서까지 등재되었다.\"\"\""
      ],
      "execution_count": 18,
      "outputs": []
    },
    {
      "cell_type": "markdown",
      "metadata": {
        "id": "b7GZHAJc8R1W"
      },
      "source": [
        "# Google sentencepiece를 이용해 vocab 생성\n",
        "- https://github.com/google/sentencepiece"
      ]
    },
    {
      "cell_type": "markdown",
      "metadata": {
        "id": "_8ajMz_ZCCxs"
      },
      "source": [
        "## sentencepe 학습"
      ]
    },
    {
      "cell_type": "code",
      "metadata": {
        "id": "jQKAKbPN6miL",
        "colab": {
          "base_uri": "https://localhost:8080/"
        },
        "outputId": "9e90263a-6413-4edb-b6b6-04a03b19a4bf"
      },
      "source": [
        "os.listdir(tale_dir)"
      ],
      "execution_count": 19,
      "outputs": [
        {
          "output_type": "execute_result",
          "data": {
            "text/plain": [
              "['tale.zip']"
            ]
          },
          "metadata": {
            "tags": []
          },
          "execution_count": 19
        }
      ]
    },
    {
      "cell_type": "code",
      "metadata": {
        "id": "d99Y3Fkdvftw",
        "colab": {
          "base_uri": "https://localhost:8080/"
        },
        "outputId": "9fcc1229-08c5-4940-bbf9-d5ddcdefd59e"
      },
      "source": [
        "shutil.copy(os.path.join(tale_dir, 'tale.zip'), './')\n",
        "os.listdir('./')"
      ],
      "execution_count": 30,
      "outputs": [
        {
          "output_type": "execute_result",
          "data": {
            "text/plain": [
              "['.config', 'tale.zip', 'drive', 'sample_data']"
            ]
          },
          "metadata": {
            "tags": []
          },
          "execution_count": 30
        }
      ]
    },
    {
      "cell_type": "code",
      "metadata": {
        "id": "IwDPlGeeCF70"
      },
      "source": [
        "def train_sentencepiece(corpus, prefix, vocab_size=32000):\n",
        "    \"\"\"\n",
        "    sentencepiece를 이용해 vocab 학습\n",
        "    :param corpus: 학습할 말뭉치\n",
        "    :param prefix: 저장할 vocab 이름\n",
        "    :param vocab_size: vocab 개수\n",
        "    \"\"\"\n",
        "    spm.SentencePieceTrainer.train(\n",
        "        f\"--input={corpus} --model_prefix={prefix} --vocab_size={vocab_size + 7}\" +  # 7은 특수문자 개수\n",
        "        \" --model_type=unigram\" +\n",
        "        \" --max_sentence_length=999999\" +  # 문장 최대 길이\n",
        "        \" --pad_id=0 --pad_piece=[PAD]\" +  # pad token 및 id 지정\n",
        "        \" --unk_id=1 --unk_piece=[UNK]\" +  # unknown token 및 id 지정\n",
        "        \" --bos_id=2 --bos_piece=[BOS]\" +  # begin of sequence token 및 id 지정\n",
        "        \" --eos_id=3 --eos_piece=[EOS]\" +  # end of sequence token 및 id 지정\n",
        "        \" --user_defined_symbols=[SEP],[CLS],[MASK]\")  # 기타 추가 토큰 SEP: 4, CLS: 5, MASK: 6"
      ],
      "execution_count": 31,
      "outputs": []
    },
    {
      "cell_type": "code",
      "metadata": {
        "id": "CE-yJ_cSCYz0"
      },
      "source": [
        "# vocab 생성\n",
        "train_sentencepiece(f\"tale.zip\", f\"ko-32000\", vocab_size=300)"
      ],
      "execution_count": 37,
      "outputs": []
    },
    {
      "cell_type": "code",
      "metadata": {
        "id": "85eoYIgZNtYa",
        "colab": {
          "base_uri": "https://localhost:8080/"
        },
        "outputId": "248c1891-f7c5-40ea-b19d-8f7fac919d82"
      },
      "source": [
        "os.listdir(\".\")"
      ],
      "execution_count": 38,
      "outputs": [
        {
          "output_type": "execute_result",
          "data": {
            "text/plain": [
              "['.config',\n",
              " 'tale.zip',\n",
              " 'drive',\n",
              " 'ko-32000.vocab',\n",
              " 'ko-32000.model',\n",
              " 'sample_data']"
            ]
          },
          "metadata": {
            "tags": []
          },
          "execution_count": 38
        }
      ]
    },
    {
      "cell_type": "markdown",
      "metadata": {
        "id": "zeBCtb61bG8Y"
      },
      "source": [
        "## sentencepe 확인"
      ]
    },
    {
      "cell_type": "code",
      "metadata": {
        "id": "ySjtyzUGbLwg",
        "colab": {
          "base_uri": "https://localhost:8080/"
        },
        "outputId": "db3183e5-2e64-482c-a0a9-936d49940e21"
      },
      "source": [
        "# load vocab\n",
        "vocab = spm.SentencePieceProcessor()\n",
        "vocab.load(f\"ko-32000.model\")"
      ],
      "execution_count": 40,
      "outputs": [
        {
          "output_type": "execute_result",
          "data": {
            "text/plain": [
              "True"
            ]
          },
          "metadata": {
            "tags": []
          },
          "execution_count": 40
        }
      ]
    },
    {
      "cell_type": "code",
      "metadata": {
        "id": "nJrlfRqObeEI",
        "colab": {
          "base_uri": "https://localhost:8080/"
        },
        "outputId": "d0acfa56-c625-4d85-e57e-ee4dc0de7fa6"
      },
      "source": [
        "# vocab 출력\n",
        "print(f\"len: {len(vocab)}\")\n",
        "for id in range(16):\n",
        "    print(f\"{id:2d}: {vocab.id_to_piece(id)}\")"
      ],
      "execution_count": 41,
      "outputs": [
        {
          "output_type": "stream",
          "text": [
            "len: 307\n",
            " 0: [PAD]\n",
            " 1: [UNK]\n",
            " 2: [BOS]\n",
            " 3: [EOS]\n",
            " 4: [SEP]\n",
            " 5: [CLS]\n",
            " 6: [MASK]\n",
            " 7: �\n",
            " 8: ��\n",
            " 9: ▁\n",
            "10: ���\n",
            "11: a\n",
            "12: i\n",
            "13: J\n",
            "14: f\n",
            "15: G\n"
          ],
          "name": "stdout"
        }
      ]
    },
    {
      "cell_type": "code",
      "metadata": {
        "id": "JWlGnwd9bh67",
        "colab": {
          "base_uri": "https://localhost:8080/"
        },
        "outputId": "49236966-2a1e-4c0a-de79-abd2f4d40c3e"
      },
      "source": [
        "# text를 tokenize 함\n",
        "# sentence to pieces\n",
        "pieces = vocab.encode_as_pieces(text)\n",
        "print(pieces[0:100])"
      ],
      "execution_count": 42,
      "outputs": [
        {
          "output_type": "stream",
          "text": [
            "['▁', '위키백과의', '▁', '최상위', '▁', '도메인이', '▁', '.', 'c', 'o', 'm', '이던', '▁', '시절', '▁', 'k', 'o', '.', 'w', 'i', 'k', 'i', 'p', 'e', 'd', 'i', 'a', '.', 'c', 'o', 'm', '에', '▁', '구판', '▁', '미디어위키가', '▁', '깔렸으나', '▁', '한글', '▁', '처리에', '▁', '문제가', '▁', '있어', '▁', '글을', '▁', '올릴', '▁', '수도', '▁', '없는', '▁', '이름뿐인', '▁', '곳이었다', '.', '▁', '2', '0', '0', '2', '년', '▁', '1', '0', '월에', '▁', '새로운', '▁', '위키', '▁', '소프트웨어를', '▁', '쓰면서', '▁', '한글', '▁', '처리', '▁', '문제가', '▁', '풀리기', '▁', '시작했지만', ',', '▁', '가장', '▁', '많은', '▁', '사람이', '▁', '쓰는', '▁', '인터넷', '▁', '익스플로러에서는']\n"
          ],
          "name": "stdout"
        }
      ]
    },
    {
      "cell_type": "code",
      "metadata": {
        "id": "D1lUjSWh_MRX",
        "colab": {
          "base_uri": "https://localhost:8080/"
        },
        "outputId": "4ea6da04-7804-43e7-ae71-aa9db7048d04"
      },
      "source": [
        "vocab.encode_as_pieces(\"나는 오늘 수원에 놀러 갔다.\")"
      ],
      "execution_count": 43,
      "outputs": [
        {
          "output_type": "execute_result",
          "data": {
            "text/plain": [
              "['▁', '나는', '▁', '오', '늘', '▁', '수원에', '▁', '놀러', '▁', '갔다', '.']"
            ]
          },
          "metadata": {
            "tags": []
          },
          "execution_count": 43
        }
      ]
    },
    {
      "cell_type": "code",
      "metadata": {
        "id": "0aaBGd8R_Ue3",
        "colab": {
          "base_uri": "https://localhost:8080/"
        },
        "outputId": "721e273b-b70a-4ade-ab45-84339ac48b91"
      },
      "source": [
        "vocab.encode_as_pieces(\"나는 오늘 배가많이고파서밥을많이먹은후 놀러 갔다.\")"
      ],
      "execution_count": 44,
      "outputs": [
        {
          "output_type": "execute_result",
          "data": {
            "text/plain": [
              "['▁',\n",
              " '나는',\n",
              " '▁',\n",
              " '오',\n",
              " '늘',\n",
              " '▁',\n",
              " '배가많이고파서밥을많이먹은',\n",
              " '후',\n",
              " '▁',\n",
              " '놀러',\n",
              " '▁',\n",
              " '갔다',\n",
              " '.']"
            ]
          },
          "metadata": {
            "tags": []
          },
          "execution_count": 44
        }
      ]
    },
    {
      "cell_type": "code",
      "metadata": {
        "id": "n2PsfHS7bt6j",
        "colab": {
          "base_uri": "https://localhost:8080/",
          "height": 213
        },
        "outputId": "4f33f3e3-6b35-4745-c8f8-eae4888d8d04"
      },
      "source": [
        "# tokenize된 값을 string 으로 복원\n",
        "# pieces to sentence\n",
        "vocab.decode_pieces(pieces)"
      ],
      "execution_count": 45,
      "outputs": [
        {
          "output_type": "execute_result",
          "data": {
            "application/vnd.google.colaboratory.intrinsic+json": {
              "type": "string"
            },
            "text/plain": [
              "'위키백과의 최상위 도메인이 .com이던 시절 ko.wikipedia.com에 구판 미디어위키가 깔렸으나 한글 처리에 문제가 있어 글을 올릴 수도 없는 이름뿐인 곳이었다. 2002년 10월에 새로운 위키 소프트웨어를 쓰면서 한글 처리 문제가 풀리기 시작했지만, 가장 많은 사람이 쓰는 인터넷 익스플로러에서는 인코딩 문제가 여전했다. 이런 이유로 초기에는 도움말을 옮기거나 쓰는 일에 어려움을 겪었다. 이런 어려움이 있었는데도 위키백과 통계로는, 2002년 10월에서 2003년 7월까지 열 달 사이에 글이 13개에서 159개로 늘었고 2003년 7월과 8월 사이에는 한 달 만에 159개에서 348개로 늘어났다. 2003년 9월부터는 인터넷 익스플로러의 인코딩 문제가 사라졌으며, 대한민국 언론에서도 몇 차례 위키백과를 소개하면서 참여자가 점증하리라고 예측했다. 참고로 한국어 위키백과의 최초 문서는 2002년 10월 12일에 등재된 지미 카터 문서이다. 2005년 6월 5일 양자장론 문서 등재를 기점으로 총 등재 문서 수가 1만 개를 돌파하였고 이어 동해 11월에 제1회 정보트러스트 어워드 인터넷 문화 일반 분야에 선정되었다. 2007년 8월 9일에는 한겨레21에서 한국어 위키백과와 위키백과 오프라인 첫 모임을 취재한 기사를 표지 이야기로 다루었다. 2008년 광우병 촛불 시위 때 생긴 신조어인 명박산성이 한국어 위키백과에 등재되고 이 문서의 존치 여부를 두고 갑론을박의 과정이 화제가 되고 각종 매체에도 보도가 되었다. 시위대의 난입과 충돌을 방지하기 위해 거리에 설치되었던 컨테이너 박스를 이명박 정부의 불통으로 풍자를 하기 위해 사용된 이 신조어는 중립성을 지켰는지와 백과사전에 올라올 만한 문서인지가 쟁점이 되었는데 일시적으로 사용된 신조어일 뿐이라는 주장과 이미 여러 매체에서 사용되어 지속성이 보장되었다는 주장 등 논쟁이 벌어졌고 다음 아고라 등지에서 이 항목을 존치하는 방안을 지지하는 의견을 남기기 위해 여러 사람이 새로 가입하는 등 혼란이 빚어졌다. 11월 4일에는 다음커뮤니케이션에서 글로벌 세계 대백과사전을 기증받았으며, 2009년 3월에는 서울특별시로부터 콘텐츠를 기증받았다. 2009년 6월 4일에는 액세스권 등재를 기점으로 10만 개 문서 수를 돌파했다. 2011년 4월 16일에는 대한민국에서의 위키미디어 프로젝트를 지원하는 모임을 결성할 것을 추진하는 논의가 이뤄졌고 이후 창립준비위원회 결성을 거쳐 2014년 10월 19일 창립총회를 개최하였으며, 최종적으로 2015년 11월 4일 사단법인 한국 위키미디어 협회가 결성되어 활동 중에 있다. 2019년 미국 위키미디어재단으로부터 한국 지역 지부(챕터)로 승인을 받았다. 2012년 5월 19일에는 보비 탬블링 등재를 기점으로 총 20만 개 문서가 등재되었고 2015년 1월 5일, Rojo -Tierra- 문서 등재를 기점으로 총 30만 개 문서가 등재되었다. 2017년 10월 21일에는 충청남도 동물위생시험소 문서 등재로 40만 개의 문서까지 등재되었다.'"
            ]
          },
          "metadata": {
            "tags": []
          },
          "execution_count": 45
        }
      ]
    },
    {
      "cell_type": "code",
      "metadata": {
        "id": "U2NoPR4Tb5GB",
        "colab": {
          "base_uri": "https://localhost:8080/"
        },
        "outputId": "f1d7c49e-26be-4b58-b065-275dc7306351"
      },
      "source": [
        "# tokenize된 값을 id로 변경\n",
        "# piece to id\n",
        "piece_ids = []\n",
        "for piece in pieces:\n",
        "    piece_ids.append(vocab.piece_to_id(piece))\n",
        "piece_ids[0:100]"
      ],
      "execution_count": 46,
      "outputs": [
        {
          "output_type": "execute_result",
          "data": {
            "text/plain": [
              "[9,\n",
              " 1,\n",
              " 9,\n",
              " 1,\n",
              " 9,\n",
              " 1,\n",
              " 9,\n",
              " 64,\n",
              " 27,\n",
              " 19,\n",
              " 30,\n",
              " 1,\n",
              " 9,\n",
              " 1,\n",
              " 9,\n",
              " 69,\n",
              " 19,\n",
              " 64,\n",
              " 67,\n",
              " 12,\n",
              " 69,\n",
              " 12,\n",
              " 38,\n",
              " 24,\n",
              " 18,\n",
              " 12,\n",
              " 11,\n",
              " 64,\n",
              " 27,\n",
              " 19,\n",
              " 30,\n",
              " 1,\n",
              " 9,\n",
              " 1,\n",
              " 9,\n",
              " 1,\n",
              " 9,\n",
              " 1,\n",
              " 9,\n",
              " 1,\n",
              " 9,\n",
              " 1,\n",
              " 9,\n",
              " 1,\n",
              " 9,\n",
              " 1,\n",
              " 9,\n",
              " 1,\n",
              " 9,\n",
              " 1,\n",
              " 9,\n",
              " 1,\n",
              " 9,\n",
              " 1,\n",
              " 9,\n",
              " 1,\n",
              " 9,\n",
              " 1,\n",
              " 64,\n",
              " 9,\n",
              " 78,\n",
              " 75,\n",
              " 75,\n",
              " 78,\n",
              " 1,\n",
              " 9,\n",
              " 84,\n",
              " 75,\n",
              " 1,\n",
              " 9,\n",
              " 1,\n",
              " 9,\n",
              " 1,\n",
              " 9,\n",
              " 1,\n",
              " 9,\n",
              " 1,\n",
              " 9,\n",
              " 1,\n",
              " 9,\n",
              " 1,\n",
              " 9,\n",
              " 1,\n",
              " 9,\n",
              " 1,\n",
              " 9,\n",
              " 1,\n",
              " 85,\n",
              " 9,\n",
              " 1,\n",
              " 9,\n",
              " 1,\n",
              " 9,\n",
              " 1,\n",
              " 9,\n",
              " 1,\n",
              " 9,\n",
              " 1,\n",
              " 9,\n",
              " 1]"
            ]
          },
          "metadata": {
            "tags": []
          },
          "execution_count": 46
        }
      ]
    },
    {
      "cell_type": "code",
      "metadata": {
        "id": "A6PGUrK9cHxZ",
        "colab": {
          "base_uri": "https://localhost:8080/"
        },
        "outputId": "e7b7a31e-a3de-4fc7-b24f-e58cdca45262"
      },
      "source": [
        "# text를 id로 tokenize 함\n",
        "# sentence to ids\n",
        "ids = vocab.encode_as_ids(text)\n",
        "print(ids)"
      ],
      "execution_count": 47,
      "outputs": [
        {
          "output_type": "stream",
          "text": [
            "[9, 1, 9, 1, 9, 1, 9, 64, 27, 19, 30, 1, 9, 1, 9, 69, 19, 64, 67, 12, 69, 12, 38, 24, 18, 12, 11, 64, 27, 19, 30, 1, 9, 1, 9, 1, 9, 1, 9, 1, 9, 1, 9, 1, 9, 1, 9, 1, 9, 1, 9, 1, 9, 1, 9, 1, 9, 1, 64, 9, 78, 75, 75, 78, 1, 9, 84, 75, 1, 9, 1, 9, 1, 9, 1, 9, 1, 9, 1, 9, 1, 9, 1, 9, 1, 9, 1, 85, 9, 1, 9, 1, 9, 1, 9, 1, 9, 1, 9, 1, 9, 1, 9, 1, 9, 1, 64, 9, 1, 9, 1, 9, 1, 9, 1, 9, 1, 9, 1, 9, 1, 9, 1, 9, 1, 64, 9, 1, 9, 1, 9, 1, 9, 1, 9, 1, 85, 9, 78, 75, 75, 78, 1, 9, 84, 75, 1, 9, 78, 75, 75, 58, 1, 9, 104, 1, 9, 1, 9, 1, 9, 1, 9, 1, 9, 84, 58, 1, 9, 84, 51, 95, 1, 9, 1, 9, 78, 75, 75, 58, 1, 9, 104, 1, 9, 65, 1, 9, 1, 9, 1, 9, 1, 9, 1, 9, 84, 51, 95, 1, 9, 58, 130, 65, 1, 9, 1, 64, 9, 78, 75, 75, 58, 1, 9, 95, 1, 9, 1, 9, 1, 9, 1, 9, 1, 9, 1, 85, 9, 1, 9, 1, 9, 1, 9, 1, 9, 1, 9, 1, 9, 1, 9, 1, 9, 1, 64, 9, 1, 9, 1, 9, 1, 9, 1, 9, 1, 9, 78, 75, 75, 78, 1, 9, 84, 75, 1, 9, 84, 78, 1, 9, 1, 9, 1, 9, 1, 9, 1, 64, 9, 78, 75, 75, 51, 1, 9, 110, 1, 9, 51, 1, 9, 1, 9, 1, 9, 1, 9, 1, 9, 1, 9, 1, 9, 1, 9, 1, 9, 84, 1, 9, 1, 9, 1, 9, 1, 9, 1, 9, 84, 84, 1, 9, 1, 84, 1, 9, 1, 9, 1, 9, 1, 9, 1, 9, 1, 9, 1, 9, 1, 64, 9, 78, 75, 75, 104, 1, 9, 65, 1, 9, 95, 1, 9, 1, 78, 84, 1, 9, 1, 9, 1, 9, 1, 9, 267, 1, 9, 1, 9, 1, 9, 1, 9, 1, 9, 1, 9, 1, 9, 1, 64, 9, 78, 75, 75, 65, 1, 9, 1, 9, 1, 9, 1, 9, 1, 9, 1, 9, 1, 9, 1, 9, 1, 9, 1, 9, 1, 9, 1, 9, 1, 9, 1, 9, 1, 9, 1, 9, 1, 9, 1, 9, 1, 9, 1, 9, 1, 9, 1, 9, 1, 9, 1, 64, 9, 1, 9, 1, 9, 1, 9, 1, 9, 1, 9, 1, 9, 1, 9, 1, 9, 1, 9, 1, 9, 1, 9, 1, 9, 1, 9, 1, 9, 1, 9, 1, 9, 1, 9, 1, 9, 1, 9, 1, 9, 1, 9, 1, 9, 1, 9, 1, 9, 1, 9, 1, 9, 1, 9, 1, 9, 1, 9, 1, 9, 1, 9, 1, 9, 1, 9, 1, 9, 1, 9, 1, 9, 1, 9, 1, 9, 1, 9, 1, 9, 1, 9, 1, 9, 1, 9, 1, 9, 1, 9, 1, 9, 1, 9, 1, 9, 1, 9, 1, 9, 1, 9, 1, 9, 1, 9, 1, 9, 1, 9, 1, 9, 1, 9, 1, 9, 1, 64, 9, 84, 84, 1, 9, 130, 1, 9, 1, 9, 1, 9, 1, 9, 1, 9, 1, 85, 9, 78, 75, 75, 95, 1, 9, 58, 1, 9, 1, 9, 1, 9, 1, 64, 9, 78, 75, 75, 95, 1, 9, 110, 1, 9, 130, 1, 9, 1, 9, 1, 9, 1, 9, 84, 75, 1, 9, 1, 9, 1, 9, 1, 9, 1, 64, 9, 78, 75, 84, 84, 1, 9, 130, 1, 9, 84, 110, 1, 9, 1, 9, 1, 9, 1, 9, 1, 9, 1, 9, 1, 9, 1, 9, 1, 9, 1, 9, 1, 9, 1, 268, 9, 1, 9, 1, 9, 1, 9, 78, 75, 84, 130, 1, 9, 84, 75, 1, 9, 84, 95, 1, 9, 1, 9, 1, 85, 9, 1, 9, 78, 75, 84, 51, 1, 9, 84, 84, 1, 9, 130, 1, 9, 1, 9, 1, 9, 1, 9, 1, 9, 1, 9, 1, 9, 1, 9, 1, 64, 9, 78, 75, 84, 95, 1, 9, 1, 9, 1, 9, 1, 9, 1, 9, 1, 97, 1, 17, 1, 9, 1, 9, 1, 64, 9, 78, 75, 84, 78, 1, 9, 51, 1, 9, 84, 95, 1, 9, 1, 9, 1, 9, 1, 9, 1, 9, 1, 9, 78, 75, 1, 9, 1, 9, 1, 9, 1, 9, 78, 75, 84, 51, 1, 9, 84, 1, 9, 51, 1, 85, 9, 33, 19, 60, 19, 9, 126, 56, 12, 24, 16, 16, 11, 126, 9, 1, 9, 1, 9, 1, 9, 1, 9, 58, 75, 1, 9, 1, 9, 1, 9, 1, 64, 9, 78, 75, 84, 104, 1, 9, 84, 75, 1, 9, 78, 84, 1, 9, 1, 9, 1, 9, 1, 9, 1, 9, 130, 75, 1, 9, 1, 9, 1, 9, 1, 64]\n"
          ],
          "name": "stdout"
        }
      ]
    },
    {
      "cell_type": "code",
      "metadata": {
        "id": "xyUkoxCpcUBj",
        "colab": {
          "base_uri": "https://localhost:8080/",
          "height": 160
        },
        "outputId": "97b057a0-c77e-4358-a62a-3d3b8a919de7"
      },
      "source": [
        "# tokenize된 id 값을 string 으로 복원\n",
        "# id to sentence\n",
        "vocab.decode_ids(ids)"
      ],
      "execution_count": 48,
      "outputs": [
        {
          "output_type": "execute_result",
          "data": {
            "application/vnd.google.colaboratory.intrinsic+json": {
              "type": "string"
            },
            "text/plain": [
              "' ⁇   ⁇   ⁇  .com ⁇   ⁇  ko.wikipedia.com ⁇   ⁇   ⁇   ⁇   ⁇   ⁇   ⁇   ⁇   ⁇   ⁇   ⁇   ⁇   ⁇   ⁇ . 2002 ⁇  10 ⁇   ⁇   ⁇   ⁇   ⁇   ⁇   ⁇   ⁇   ⁇   ⁇ ,  ⁇   ⁇   ⁇   ⁇   ⁇   ⁇   ⁇   ⁇   ⁇ .  ⁇   ⁇   ⁇   ⁇   ⁇   ⁇   ⁇   ⁇   ⁇ .  ⁇   ⁇   ⁇   ⁇   ⁇ , 2002 ⁇  10 ⁇  2003 ⁇  7 ⁇   ⁇   ⁇   ⁇   ⁇  13 ⁇  159 ⁇   ⁇  2003 ⁇  7 ⁇  8 ⁇   ⁇   ⁇   ⁇   ⁇  159 ⁇  348 ⁇   ⁇ . 2003 ⁇  9 ⁇   ⁇   ⁇   ⁇   ⁇   ⁇ ,  ⁇   ⁇   ⁇   ⁇   ⁇   ⁇   ⁇   ⁇   ⁇ .  ⁇   ⁇   ⁇   ⁇   ⁇  2002 ⁇  10 ⁇  12 ⁇   ⁇   ⁇   ⁇   ⁇ . 2005 ⁇  6 ⁇  5 ⁇   ⁇   ⁇   ⁇   ⁇   ⁇   ⁇   ⁇   ⁇  1 ⁇   ⁇   ⁇   ⁇   ⁇  11 ⁇   ⁇ 1 ⁇   ⁇   ⁇   ⁇   ⁇   ⁇   ⁇   ⁇ . 2007 ⁇  8 ⁇  9 ⁇   ⁇ 21 ⁇   ⁇   ⁇   ⁇  오 ⁇   ⁇   ⁇   ⁇   ⁇   ⁇   ⁇   ⁇ . 2008 ⁇   ⁇   ⁇   ⁇   ⁇   ⁇   ⁇   ⁇   ⁇   ⁇   ⁇   ⁇   ⁇   ⁇   ⁇   ⁇   ⁇   ⁇   ⁇   ⁇   ⁇   ⁇   ⁇   ⁇ .  ⁇   ⁇   ⁇   ⁇   ⁇   ⁇   ⁇   ⁇   ⁇   ⁇   ⁇   ⁇   ⁇   ⁇   ⁇   ⁇   ⁇   ⁇   ⁇   ⁇   ⁇   ⁇   ⁇   ⁇   ⁇   ⁇   ⁇   ⁇   ⁇   ⁇   ⁇   ⁇   ⁇   ⁇   ⁇   ⁇   ⁇   ⁇   ⁇   ⁇   ⁇   ⁇   ⁇   ⁇   ⁇   ⁇   ⁇   ⁇   ⁇   ⁇   ⁇   ⁇   ⁇   ⁇   ⁇   ⁇   ⁇   ⁇   ⁇ . 11 ⁇  4 ⁇   ⁇   ⁇   ⁇   ⁇   ⁇ , 2009 ⁇  3 ⁇   ⁇   ⁇   ⁇ . 2009 ⁇  6 ⁇  4 ⁇   ⁇   ⁇   ⁇  10 ⁇   ⁇   ⁇   ⁇   ⁇ . 2011 ⁇  4 ⁇  16 ⁇   ⁇   ⁇   ⁇   ⁇   ⁇   ⁇   ⁇   ⁇   ⁇   ⁇   ⁇ 후  ⁇   ⁇   ⁇  2014 ⁇  10 ⁇  19 ⁇   ⁇   ⁇ ,  ⁇  2015 ⁇  11 ⁇  4 ⁇   ⁇   ⁇   ⁇   ⁇   ⁇   ⁇   ⁇   ⁇ . 2019 ⁇   ⁇   ⁇   ⁇   ⁇   ⁇ ( ⁇ ) ⁇   ⁇   ⁇ . 2012 ⁇  5 ⁇  19 ⁇   ⁇   ⁇   ⁇   ⁇   ⁇  20 ⁇   ⁇   ⁇   ⁇  2015 ⁇  1 ⁇  5 ⁇ , Rojo -Tierra-  ⁇   ⁇   ⁇   ⁇  30 ⁇   ⁇   ⁇   ⁇ . 2017 ⁇  10 ⁇  21 ⁇   ⁇   ⁇   ⁇   ⁇  40 ⁇   ⁇   ⁇   ⁇ .'"
            ]
          },
          "metadata": {
            "tags": []
          },
          "execution_count": 48
        }
      ]
    },
    {
      "cell_type": "code",
      "metadata": {
        "id": "XaPhB9Cjcbmi",
        "colab": {
          "base_uri": "https://localhost:8080/"
        },
        "outputId": "18cf6471-e2c4-4149-b65f-a22afcba1110"
      },
      "source": [
        "# id 값을 token으로 변경\n",
        "# id to piece\n",
        "id_pieces = []\n",
        "for id in ids:\n",
        "    id_pieces.append(vocab.id_to_piece(id))\n",
        "id_pieces[0:100]"
      ],
      "execution_count": 49,
      "outputs": [
        {
          "output_type": "execute_result",
          "data": {
            "text/plain": [
              "['▁',\n",
              " '[UNK]',\n",
              " '▁',\n",
              " '[UNK]',\n",
              " '▁',\n",
              " '[UNK]',\n",
              " '▁',\n",
              " '.',\n",
              " 'c',\n",
              " 'o',\n",
              " 'm',\n",
              " '[UNK]',\n",
              " '▁',\n",
              " '[UNK]',\n",
              " '▁',\n",
              " 'k',\n",
              " 'o',\n",
              " '.',\n",
              " 'w',\n",
              " 'i',\n",
              " 'k',\n",
              " 'i',\n",
              " 'p',\n",
              " 'e',\n",
              " 'd',\n",
              " 'i',\n",
              " 'a',\n",
              " '.',\n",
              " 'c',\n",
              " 'o',\n",
              " 'm',\n",
              " '[UNK]',\n",
              " '▁',\n",
              " '[UNK]',\n",
              " '▁',\n",
              " '[UNK]',\n",
              " '▁',\n",
              " '[UNK]',\n",
              " '▁',\n",
              " '[UNK]',\n",
              " '▁',\n",
              " '[UNK]',\n",
              " '▁',\n",
              " '[UNK]',\n",
              " '▁',\n",
              " '[UNK]',\n",
              " '▁',\n",
              " '[UNK]',\n",
              " '▁',\n",
              " '[UNK]',\n",
              " '▁',\n",
              " '[UNK]',\n",
              " '▁',\n",
              " '[UNK]',\n",
              " '▁',\n",
              " '[UNK]',\n",
              " '▁',\n",
              " '[UNK]',\n",
              " '.',\n",
              " '▁',\n",
              " '2',\n",
              " '0',\n",
              " '0',\n",
              " '2',\n",
              " '[UNK]',\n",
              " '▁',\n",
              " '1',\n",
              " '0',\n",
              " '[UNK]',\n",
              " '▁',\n",
              " '[UNK]',\n",
              " '▁',\n",
              " '[UNK]',\n",
              " '▁',\n",
              " '[UNK]',\n",
              " '▁',\n",
              " '[UNK]',\n",
              " '▁',\n",
              " '[UNK]',\n",
              " '▁',\n",
              " '[UNK]',\n",
              " '▁',\n",
              " '[UNK]',\n",
              " '▁',\n",
              " '[UNK]',\n",
              " '▁',\n",
              " '[UNK]',\n",
              " ',',\n",
              " '▁',\n",
              " '[UNK]',\n",
              " '▁',\n",
              " '[UNK]',\n",
              " '▁',\n",
              " '[UNK]',\n",
              " '▁',\n",
              " '[UNK]',\n",
              " '▁',\n",
              " '[UNK]',\n",
              " '▁',\n",
              " '[UNK]']"
            ]
          },
          "metadata": {
            "tags": []
          },
          "execution_count": 49
        }
      ]
    }
  ]
}