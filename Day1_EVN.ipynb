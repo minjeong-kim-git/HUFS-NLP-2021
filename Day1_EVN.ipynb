{
  "nbformat": 4,
  "nbformat_minor": 0,
  "metadata": {
    "colab": {
      "name": "Day1_EVN.ipynb의 사본",
      "provenance": [],
      "collapsed_sections": [
        "BuaFwJqDVumT",
        "erIr-mg8zneJ",
        "wS_edoagzneJ",
        "-0Mbb5GWzneK",
        "milX02G6zneK",
        "DhXN7DHvlEpp",
        "hjSlRk99zneL"
      ],
      "include_colab_link": true
    },
    "kernelspec": {
      "name": "python3",
      "display_name": "Python 3"
    },
    "accelerator": "GPU"
  },
  "cells": [
    {
      "cell_type": "markdown",
      "metadata": {
        "id": "view-in-github",
        "colab_type": "text"
      },
      "source": [
        "<a href=\"https://colab.research.google.com/github/minjeong-kim-git/NLP/blob/main/Day1_EVN.ipynb\" target=\"_parent\"><img src=\"https://colab.research.google.com/assets/colab-badge.svg\" alt=\"Open In Colab\"/></a>"
      ]
    },
    {
      "cell_type": "markdown",
      "metadata": {
        "id": "BuaFwJqDVumT"
      },
      "source": [
        "# EVN"
      ]
    },
    {
      "cell_type": "code",
      "metadata": {
        "id": "ODiNPGQ9VwLK"
      },
      "source": [
        "import numpy as np\n",
        "import matplotlib.pyplot as plt\n",
        "\n",
        "import tensorflow as tf"
      ],
      "execution_count": 60,
      "outputs": []
    },
    {
      "cell_type": "markdown",
      "metadata": {
        "id": "sFo_3tAlzneI"
      },
      "source": [
        "# 단어 긍정(2), 중립(1), 부정(0) 분류 프로젝트"
      ]
    },
    {
      "cell_type": "markdown",
      "metadata": {
        "id": "erIr-mg8zneJ"
      },
      "source": [
        "## 데이터"
      ]
    },
    {
      "cell_type": "code",
      "metadata": {
        "id": "KQqU4MBIzneJ"
      },
      "source": [
        "# 입력 문장\n",
        "sentences = [\n",
        "    '나는 오늘 기분이 좋아',\n",
        "    '나는 오늘 우울해'\n",
        "]\n",
        "\n",
        "# 출력 정답\n",
        "labels = [[1, 1, 1, 2],\n",
        "          [1, 1, 0]]  # 긍정(2), 중립(1), 부정(0)\n",
        "\n",
        "# 정답 dic\n",
        "id_to_label = {0: '부정', 1: '중립', 2: '긍정'}"
      ],
      "execution_count": 61,
      "outputs": []
    },
    {
      "cell_type": "code",
      "metadata": {
        "id": "FpiVqkEhVQJD",
        "colab": {
          "base_uri": "https://localhost:8080/",
          "height": 35
        },
        "outputId": "105210af-6b45-4e01-b1c4-dcfe5708a4e9"
      },
      "source": [
        "id_to_label[2]"
      ],
      "execution_count": 62,
      "outputs": [
        {
          "output_type": "execute_result",
          "data": {
            "application/vnd.google.colaboratory.intrinsic+json": {
              "type": "string"
            },
            "text/plain": [
              "'긍정'"
            ]
          },
          "metadata": {
            "tags": []
          },
          "execution_count": 62
        }
      ]
    },
    {
      "cell_type": "code",
      "metadata": {
        "id": "qW0q-i5xVaFR",
        "colab": {
          "base_uri": "https://localhost:8080/"
        },
        "outputId": "93f5ae44-4ad6-46c5-c7da-23eb8f260a9f"
      },
      "source": [
        "sentences"
      ],
      "execution_count": 63,
      "outputs": [
        {
          "output_type": "execute_result",
          "data": {
            "text/plain": [
              "['나는 오늘 기분이 좋아', '나는 오늘 우울해']"
            ]
          },
          "metadata": {
            "tags": []
          },
          "execution_count": 63
        }
      ]
    },
    {
      "cell_type": "code",
      "metadata": {
        "id": "UxTDyQ2uVdAt",
        "colab": {
          "base_uri": "https://localhost:8080/"
        },
        "outputId": "ae57a60d-c6b9-4de4-d1d7-21e63214202e"
      },
      "source": [
        "labels"
      ],
      "execution_count": 64,
      "outputs": [
        {
          "output_type": "execute_result",
          "data": {
            "text/plain": [
              "[[1, 1, 1, 2], [1, 1, 0]]"
            ]
          },
          "metadata": {
            "tags": []
          },
          "execution_count": 64
        }
      ]
    },
    {
      "cell_type": "markdown",
      "metadata": {
        "id": "wS_edoagzneJ"
      },
      "source": [
        "## Vocabulary"
      ]
    },
    {
      "cell_type": "code",
      "metadata": {
        "id": "Ug8hWmcpWKhb",
        "colab": {
          "base_uri": "https://localhost:8080/"
        },
        "outputId": "1f2bbba0-1880-4656-98c6-59053ee21b36"
      },
      "source": [
        "# 각 문장을 띄어쓰기 단위로 분할\r\n",
        "words = []\r\n",
        "for sentence in sentences:\r\n",
        "  words.extend(sentence.split())\r\n",
        "words"
      ],
      "execution_count": 65,
      "outputs": [
        {
          "output_type": "execute_result",
          "data": {
            "text/plain": [
              "['나는', '오늘', '기분이', '좋아', '나는', '오늘', '우울해']"
            ]
          },
          "metadata": {
            "tags": []
          },
          "execution_count": 65
        }
      ]
    },
    {
      "cell_type": "code",
      "metadata": {
        "id": "N16gqTbUWcT5",
        "colab": {
          "base_uri": "https://localhost:8080/"
        },
        "outputId": "bae25da6-468b-4c5b-c019-62a38c47c9e4"
      },
      "source": [
        "# 중복 단어 제거\r\n",
        "words = list(dict.fromkeys(words))\r\n",
        "words"
      ],
      "execution_count": 66,
      "outputs": [
        {
          "output_type": "execute_result",
          "data": {
            "text/plain": [
              "['나는', '오늘', '기분이', '좋아', '우울해']"
            ]
          },
          "metadata": {
            "tags": []
          },
          "execution_count": 66
        }
      ]
    },
    {
      "cell_type": "code",
      "metadata": {
        "id": "KxOGZOSdWnH4",
        "colab": {
          "base_uri": "https://localhost:8080/"
        },
        "outputId": "98eb50a7-882e-48db-d261-99b9b52bc1a2"
      },
      "source": [
        "# 각 단어별 고유한 번호 부여\r\n",
        "word_to_id = {'[PAD]' : 0, '[UNK]' : 1} # PAD 길이를 조절할 때, UNK: vocab에 없는 단어\r\n",
        "for word in words:\r\n",
        "  word_to_id[word] = len(word_to_id)\r\n",
        "word_to_id"
      ],
      "execution_count": 67,
      "outputs": [
        {
          "output_type": "execute_result",
          "data": {
            "text/plain": [
              "{'[PAD]': 0, '[UNK]': 1, '기분이': 4, '나는': 2, '오늘': 3, '우울해': 6, '좋아': 5}"
            ]
          },
          "metadata": {
            "tags": []
          },
          "execution_count": 67
        }
      ]
    },
    {
      "cell_type": "code",
      "metadata": {
        "id": "UX5URf5PXD10",
        "colab": {
          "base_uri": "https://localhost:8080/"
        },
        "outputId": "8d2aecb0-09b8-4ded-f5d7-d2d0c8808bc2"
      },
      "source": [
        "# 각 숫자별 단어 부여\r\n",
        "id_to_word = {_id:word for word, _id in word_to_id.items()}\r\n",
        "id_to_word"
      ],
      "execution_count": 68,
      "outputs": [
        {
          "output_type": "execute_result",
          "data": {
            "text/plain": [
              "{0: '[PAD]', 1: '[UNK]', 2: '나는', 3: '오늘', 4: '기분이', 5: '좋아', 6: '우울해'}"
            ]
          },
          "metadata": {
            "tags": []
          },
          "execution_count": 68
        }
      ]
    },
    {
      "cell_type": "markdown",
      "metadata": {
        "id": "-0Mbb5GWzneK"
      },
      "source": [
        "## 모델 학습용 데이터 생성"
      ]
    },
    {
      "cell_type": "code",
      "metadata": {
        "id": "pSvNoE49XBrh",
        "colab": {
          "base_uri": "https://localhost:8080/"
        },
        "outputId": "1923a114-65f2-4f10-edeb-621f78079d28"
      },
      "source": [
        "# 학습용 입력 데이터 생성\r\n",
        "train_inputs = []\r\n",
        "for sentence in sentences:\r\n",
        "  train_inputs.append([word_to_id[word] for word in sentence.split()])\r\n",
        "train_inputs"
      ],
      "execution_count": 69,
      "outputs": [
        {
          "output_type": "execute_result",
          "data": {
            "text/plain": [
              "[[2, 3, 4, 5], [2, 3, 6]]"
            ]
          },
          "metadata": {
            "tags": []
          },
          "execution_count": 69
        }
      ]
    },
    {
      "cell_type": "code",
      "metadata": {
        "id": "QL-wE2RJY2sA",
        "colab": {
          "base_uri": "https://localhost:8080/"
        },
        "outputId": "94bfed00-2d78-4c95-f2eb-ecc5309e15ec"
      },
      "source": [
        "# train_label은 labels를 그래도 사용\r\n",
        "train_labels = labels\r\n",
        "train_labels"
      ],
      "execution_count": 70,
      "outputs": [
        {
          "output_type": "execute_result",
          "data": {
            "text/plain": [
              "[[1, 1, 1, 2], [1, 1, 0]]"
            ]
          },
          "metadata": {
            "tags": []
          },
          "execution_count": 70
        }
      ]
    },
    {
      "cell_type": "code",
      "metadata": {
        "id": "YbIWAUvzY_cv",
        "colab": {
          "base_uri": "https://localhost:8080/"
        },
        "outputId": "7aeee321-67a1-4a7c-f005-dec234bcb526"
      },
      "source": [
        "# train inputs를 numpy array로 변환\r\n",
        "np.array(train_inputs)"
      ],
      "execution_count": 71,
      "outputs": [
        {
          "output_type": "stream",
          "text": [
            "/usr/local/lib/python3.6/dist-packages/ipykernel_launcher.py:2: VisibleDeprecationWarning: Creating an ndarray from ragged nested sequences (which is a list-or-tuple of lists-or-tuples-or ndarrays with different lengths or shapes) is deprecated. If you meant to do this, you must specify 'dtype=object' when creating the ndarray\n",
            "  \n"
          ],
          "name": "stderr"
        },
        {
          "output_type": "execute_result",
          "data": {
            "text/plain": [
              "array([list([2, 3, 4, 5]), list([2, 3, 6])], dtype=object)"
            ]
          },
          "metadata": {
            "tags": []
          },
          "execution_count": 71
        }
      ]
    },
    {
      "cell_type": "code",
      "metadata": {
        "id": "LCH--YKtZGEp",
        "colab": {
          "base_uri": "https://localhost:8080/"
        },
        "outputId": "10e2fa32-0a5e-4822-90cd-d0c9204784e1"
      },
      "source": [
        "# 문장의 길이를 모두 동일하게 변경(최대 길이 4)\r\n",
        "for row in train_inputs:\r\n",
        "  row += [0] * (4 - len(row))\r\n",
        "train_inputs"
      ],
      "execution_count": 72,
      "outputs": [
        {
          "output_type": "execute_result",
          "data": {
            "text/plain": [
              "[[2, 3, 4, 5], [2, 3, 6, 0]]"
            ]
          },
          "metadata": {
            "tags": []
          },
          "execution_count": 72
        }
      ]
    },
    {
      "cell_type": "code",
      "metadata": {
        "id": "iyL6u2RjZRn_",
        "colab": {
          "base_uri": "https://localhost:8080/"
        },
        "outputId": "90598531-8db0-42db-80d7-cab3ed980bdc"
      },
      "source": [
        "# train_inputs를 numpy array로 변환\r\n",
        "train_inputs = np.array(train_inputs)\r\n",
        "train_inputs"
      ],
      "execution_count": 73,
      "outputs": [
        {
          "output_type": "execute_result",
          "data": {
            "text/plain": [
              "array([[2, 3, 4, 5],\n",
              "       [2, 3, 6, 0]])"
            ]
          },
          "metadata": {
            "tags": []
          },
          "execution_count": 73
        }
      ]
    },
    {
      "cell_type": "code",
      "metadata": {
        "colab": {
          "base_uri": "https://localhost:8080/"
        },
        "id": "-fsE0s4tacRF",
        "outputId": "f12a5e43-729d-4de1-9027-dfb3fa617729"
      },
      "source": [
        "# train_label은 label을 그대로 사용\r\n",
        "train_labels = labels\r\n",
        "train_labels"
      ],
      "execution_count": 74,
      "outputs": [
        {
          "output_type": "execute_result",
          "data": {
            "text/plain": [
              "[[1, 1, 1, 2], [1, 1, 0]]"
            ]
          },
          "metadata": {
            "tags": []
          },
          "execution_count": 74
        }
      ]
    },
    {
      "cell_type": "code",
      "metadata": {
        "colab": {
          "base_uri": "https://localhost:8080/"
        },
        "id": "6i31WzWhaOy0",
        "outputId": "3d87eabd-23f5-40f1-b34e-7d834f795a7f"
      },
      "source": [
        "# 정답 길이를 모두 동일하게 변경(최대 길이 4)\r\n",
        "for row in train_labels:\r\n",
        "  row += [1] * (4 - len(row))\r\n",
        "train_labels"
      ],
      "execution_count": 75,
      "outputs": [
        {
          "output_type": "execute_result",
          "data": {
            "text/plain": [
              "[[1, 1, 1, 2], [1, 1, 0, 1]]"
            ]
          },
          "metadata": {
            "tags": []
          },
          "execution_count": 75
        }
      ]
    },
    {
      "cell_type": "code",
      "metadata": {
        "colab": {
          "base_uri": "https://localhost:8080/"
        },
        "id": "nBwmS51YbAEZ",
        "outputId": "534539df-e8f7-4791-e91e-f2c74e5e601f"
      },
      "source": [
        "# 정답 길이를 모두 동일하게 함(최대 길이 4)\r\n",
        "train_labels = np.array(train_labels)\r\n",
        "train_labels"
      ],
      "execution_count": 76,
      "outputs": [
        {
          "output_type": "execute_result",
          "data": {
            "text/plain": [
              "array([[1, 1, 1, 2],\n",
              "       [1, 1, 0, 1]])"
            ]
          },
          "metadata": {
            "tags": []
          },
          "execution_count": 76
        }
      ]
    },
    {
      "cell_type": "markdown",
      "metadata": {
        "id": "milX02G6zneK"
      },
      "source": [
        "## 모델링"
      ]
    },
    {
      "cell_type": "code",
      "metadata": {
        "id": "_vgti3AAZoTV",
        "colab": {
          "base_uri": "https://localhost:8080/"
        },
        "outputId": "494b67ec-293d-4632-e1d5-70b77d6168eb"
      },
      "source": [
        "# 입력 단어를 vector로 변환\r\n",
        "embedding = tf.keras.layers.Embedding(len(word_to_id), 8) # n_vocab, d_model\r\n",
        "hidden = embedding(train_inputs)\r\n",
        "hidden"
      ],
      "execution_count": 77,
      "outputs": [
        {
          "output_type": "execute_result",
          "data": {
            "text/plain": [
              "<tf.Tensor: shape=(2, 4, 8), dtype=float32, numpy=\n",
              "array([[[-0.00239944,  0.01298051, -0.00143493, -0.04702431,\n",
              "          0.0081438 , -0.00115339, -0.01807561, -0.02821304],\n",
              "        [-0.02506301, -0.03514428, -0.03639328,  0.00077137,\n",
              "         -0.0363143 , -0.02708842, -0.0312502 ,  0.0428851 ],\n",
              "        [ 0.03617315,  0.01006133,  0.04016559,  0.0415082 ,\n",
              "          0.00346173,  0.04565665, -0.00014182,  0.02760864],\n",
              "        [-0.00105236, -0.0383218 ,  0.02033425,  0.00014653,\n",
              "          0.03849846,  0.0251887 , -0.0064595 , -0.01507162]],\n",
              "\n",
              "       [[-0.00239944,  0.01298051, -0.00143493, -0.04702431,\n",
              "          0.0081438 , -0.00115339, -0.01807561, -0.02821304],\n",
              "        [-0.02506301, -0.03514428, -0.03639328,  0.00077137,\n",
              "         -0.0363143 , -0.02708842, -0.0312502 ,  0.0428851 ],\n",
              "        [-0.04744418,  0.04071274, -0.04578644, -0.03762544,\n",
              "         -0.00575783,  0.03291017, -0.00125297, -0.00475202],\n",
              "        [ 0.02282516, -0.01825591, -0.0113396 ,  0.03978468,\n",
              "          0.0077666 , -0.02996126, -0.037783  , -0.00095763]]],\n",
              "      dtype=float32)>"
            ]
          },
          "metadata": {
            "tags": []
          },
          "execution_count": 77
        }
      ]
    },
    {
      "cell_type": "code",
      "metadata": {
        "colab": {
          "base_uri": "https://localhost:8080/"
        },
        "id": "wos5qwzOcscQ",
        "outputId": "37167b64-1570-45f1-df0c-285a900279b8"
      },
      "source": [
        "# 단어의 vector을 이용해서 긍정(2), 중립(1), 부정(0) 확률값 예측\r\n",
        "linear = tf.keras.layers.Dense(3, activation=tf.nn.softmax)\r\n",
        "outputs = linear(hidden)\r\n",
        "outputs"
      ],
      "execution_count": 78,
      "outputs": [
        {
          "output_type": "execute_result",
          "data": {
            "text/plain": [
              "<tf.Tensor: shape=(2, 4, 3), dtype=float32, numpy=\n",
              "array([[[0.31674874, 0.34397367, 0.33927765],\n",
              "        [0.34553644, 0.3207048 , 0.33375883],\n",
              "        [0.33776233, 0.32551077, 0.33672687],\n",
              "        [0.34103218, 0.3361121 , 0.32285565]],\n",
              "\n",
              "       [[0.31674874, 0.34397367, 0.33927765],\n",
              "        [0.34553644, 0.3207048 , 0.33375883],\n",
              "        [0.31975937, 0.34926745, 0.33097312],\n",
              "        [0.33250383, 0.32005158, 0.34744453]]], dtype=float32)>"
            ]
          },
          "metadata": {
            "tags": []
          },
          "execution_count": 78
        }
      ]
    },
    {
      "cell_type": "code",
      "metadata": {
        "colab": {
          "base_uri": "https://localhost:8080/"
        },
        "id": "cCfBJ-9mfJ_J",
        "outputId": "e50488f6-a01e-4004-d94b-7967a8444b5c"
      },
      "source": [
        "# 단어의 vector을 이용해서 긍정(2), 중립(1), 부정(0) 확률값 예측\r\n",
        "linear_2 = tf.keras.layers.Dense(3)\r\n",
        "logits = linear_2(hidden)\r\n",
        "logits"
      ],
      "execution_count": 79,
      "outputs": [
        {
          "output_type": "execute_result",
          "data": {
            "text/plain": [
              "<tf.Tensor: shape=(2, 4, 3), dtype=float32, numpy=\n",
              "array([[[-0.03059801,  0.02596256,  0.04185672],\n",
              "        [-0.01069327,  0.03069467,  0.0072494 ],\n",
              "        [ 0.0952584 , -0.03186882, -0.00533497],\n",
              "        [ 0.0061866 , -0.01794149,  0.01915809]],\n",
              "\n",
              "       [[-0.03059801,  0.02596256,  0.04185672],\n",
              "        [-0.01069327,  0.03069467,  0.0072494 ],\n",
              "        [-0.08009638, -0.0047965 , -0.01039151],\n",
              "        [ 0.04953231,  0.04816911,  0.01642272]]], dtype=float32)>"
            ]
          },
          "metadata": {
            "tags": []
          },
          "execution_count": 79
        }
      ]
    },
    {
      "cell_type": "code",
      "metadata": {
        "colab": {
          "base_uri": "https://localhost:8080/"
        },
        "id": "uxNlBFJUfZHy",
        "outputId": "6822c466-75e2-4ccf-e579-ca8dda428114"
      },
      "source": [
        "# softmax 계산을 위한 준비 exp(x') / sum(exp(x))\r\n",
        "numerator = np.exp(logits)\r\n",
        "demoninator = np.sum(numerator, axis = 2, keepdims=True)\r\n",
        "numerator, demoninator"
      ],
      "execution_count": 80,
      "outputs": [
        {
          "output_type": "execute_result",
          "data": {
            "text/plain": [
              "(array([[[0.9698654 , 1.0263026 , 1.0427451 ],\n",
              "         [0.98936373, 1.0311706 , 1.0072758 ],\n",
              "         [1.099943  , 0.9686337 , 0.9946793 ],\n",
              "         [1.0062058 , 0.98221844, 1.0193428 ]],\n",
              " \n",
              "        [[0.9698654 , 1.0263026 , 1.0427451 ],\n",
              "         [0.98936373, 1.0311706 , 1.0072758 ],\n",
              "         [0.92302734, 0.99521506, 0.9896623 ],\n",
              "         [1.0507796 , 1.0493481 , 1.0165583 ]]], dtype=float32),\n",
              " array([[[3.038913 ],\n",
              "         [3.02781  ],\n",
              "         [3.063256 ],\n",
              "         [3.0077672]],\n",
              " \n",
              "        [[3.038913 ],\n",
              "         [3.02781  ],\n",
              "         [2.9079046],\n",
              "         [3.1166859]]], dtype=float32))"
            ]
          },
          "metadata": {
            "tags": []
          },
          "execution_count": 80
        }
      ]
    },
    {
      "cell_type": "code",
      "metadata": {
        "colab": {
          "base_uri": "https://localhost:8080/"
        },
        "id": "dsFgXGs9fuZ1",
        "outputId": "4870698b-2c81-494c-ce3a-95134769788a"
      },
      "source": [
        "# 두 결과값 비교\r\n",
        "probs = numerator / demoninator\r\n",
        "probs"
      ],
      "execution_count": 81,
      "outputs": [
        {
          "output_type": "execute_result",
          "data": {
            "text/plain": [
              "array([[[0.31914878, 0.33772027, 0.34313095],\n",
              "        [0.32675883, 0.3405665 , 0.3326747 ],\n",
              "        [0.35907644, 0.3162105 , 0.32471308],\n",
              "        [0.3345358 , 0.32656065, 0.3389035 ]],\n",
              "\n",
              "       [[0.31914878, 0.33772027, 0.34313095],\n",
              "        [0.32675883, 0.3405665 , 0.3326747 ],\n",
              "        [0.3174201 , 0.34224474, 0.3403352 ],\n",
              "        [0.33714646, 0.33668715, 0.32616642]]], dtype=float32)"
            ]
          },
          "metadata": {
            "tags": []
          },
          "execution_count": 81
        }
      ]
    },
    {
      "cell_type": "code",
      "metadata": {
        "colab": {
          "base_uri": "https://localhost:8080/"
        },
        "id": "cCFP1hwyf6rj",
        "outputId": "c27e2c21-e74f-4414-b207-845dea29a396"
      },
      "source": [
        "# dense의 weight, bias\r\n",
        "weight, bias = linear_2.get_weights()\r\n",
        "weight, bias"
      ],
      "execution_count": 82,
      "outputs": [
        {
          "output_type": "execute_result",
          "data": {
            "text/plain": [
              "(array([[ 0.7292678 ,  0.58891684,  0.68108755],\n",
              "        [-0.016065  ,  0.13055062, -0.26186424],\n",
              "        [ 0.6643302 , -0.5581032 , -0.05499732],\n",
              "        [ 0.71637386, -0.28714055, -0.7030724 ],\n",
              "        [-0.46162003,  0.25434297,  0.09881049],\n",
              "        [ 0.28247398, -0.5276772 ,  0.09703028],\n",
              "        [-0.6277216 , -0.6490533 , -0.6763785 ],\n",
              "        [ 0.04468441,  0.10755235, -0.02945232]], dtype=float32),\n",
              " array([0., 0., 0.], dtype=float32))"
            ]
          },
          "metadata": {
            "tags": []
          },
          "execution_count": 82
        }
      ]
    },
    {
      "cell_type": "code",
      "metadata": {
        "colab": {
          "base_uri": "https://localhost:8080/"
        },
        "id": "ea2yNfA5gHua",
        "outputId": "6ac9fd93-dd87-446f-9259-a594e9440cf3"
      },
      "source": [
        "# numpy를 이용한 xW + b\r\n",
        "logits = np.matmul(hidden, weight) + bias\r\n",
        "logits"
      ],
      "execution_count": 83,
      "outputs": [
        {
          "output_type": "execute_result",
          "data": {
            "text/plain": [
              "array([[[-0.03059801,  0.02596256,  0.04185672],\n",
              "        [-0.01069327,  0.03069467,  0.0072494 ],\n",
              "        [ 0.0952584 , -0.03186882, -0.00533497],\n",
              "        [ 0.0061866 , -0.01794149,  0.01915809]],\n",
              "\n",
              "       [[-0.03059801,  0.02596256,  0.04185672],\n",
              "        [-0.01069327,  0.03069467,  0.0072494 ],\n",
              "        [-0.08009638, -0.00479651, -0.01039151],\n",
              "        [ 0.04953231,  0.04816912,  0.01642272]]], dtype=float32)"
            ]
          },
          "metadata": {
            "tags": []
          },
          "execution_count": 83
        }
      ]
    },
    {
      "cell_type": "code",
      "metadata": {
        "id": "ivf8f4VerDTo"
      },
      "source": [
        "def build_model(n_vocab, d_model, n_seq, n_out):\r\n",
        "  \"\"\"\r\n",
        "  동작만 하는 간단한 모델\r\n",
        "  :param n_vocab: vocabulary 단어 수\r\n",
        "  :param d_model: 단어를 의미하는 벡터의 차원 수\r\n",
        "  :param n_seq: 문장 길이(단어 수)\r\n",
        "  :param n_out: 예측할 class 개수\r\n",
        "  \"\"\"\r\n",
        "  inputs = tf.keras.layers.Input((n_seq,)) #(bs, n_seq)\r\n",
        "  # 입력 단어를 vector로 저장\r\n",
        "  embedding = tf.keras.layers.Embedding(n_vocab, d_model)\r\n",
        "  hidden = embedding(inputs)\r\n",
        "  # 단어의 vector을 이용해서 정답 확률값 예측\r\n",
        "  linear = tf.keras.layers.Dense(n_out, activation=tf.nn.softmax)\r\n",
        "  outputs = linear(hidden)\r\n",
        "  \r\n",
        "  # 학습할 모델 선언\r\n",
        "  model = tf.keras.Model(inputs = inputs, outputs = outputs)\r\n",
        "  return model"
      ],
      "execution_count": 84,
      "outputs": []
    },
    {
      "cell_type": "code",
      "metadata": {
        "colab": {
          "base_uri": "https://localhost:8080/",
          "height": 312
        },
        "id": "S6FO1npqrIoG",
        "outputId": "9975753c-ea44-4a82-875d-fa133bae7d40"
      },
      "source": [
        "# 모델 생성\r\n",
        "model = build_model(len(word_to_id), 8, 4, 3)\r\n",
        "# 모델 내용 그래프 출력\r\n",
        "tf.keras.utils.plot_model(model, 'model.png', show_shapes = True)"
      ],
      "execution_count": 85,
      "outputs": [
        {
          "output_type": "execute_result",
          "data": {
            "image/png": "[encoded data removed]",
            "text/plain": [
              "<IPython.core.display.Image object>"
            ]
          },
          "metadata": {
            "tags": []
          },
          "execution_count": 85
        }
      ]
    },
    {
      "cell_type": "code",
      "metadata": {
        "colab": {
          "base_uri": "https://localhost:8080/"
        },
        "id": "XstgSrOXrMfc",
        "outputId": "837e27f9-2202-460d-eafe-63351f3d40eb"
      },
      "source": [
        "model.summary()"
      ],
      "execution_count": 86,
      "outputs": [
        {
          "output_type": "stream",
          "text": [
            "Model: \"model_3\"\n",
            "_________________________________________________________________\n",
            "Layer (type)                 Output Shape              Param #   \n",
            "=================================================================\n",
            "input_4 (InputLayer)         [(None, 4)]               0         \n",
            "_________________________________________________________________\n",
            "embedding_6 (Embedding)      (None, 4, 8)              56        \n",
            "_________________________________________________________________\n",
            "dense_7 (Dense)              (None, 4, 3)              27        \n",
            "=================================================================\n",
            "Total params: 83\n",
            "Trainable params: 83\n",
            "Non-trainable params: 0\n",
            "_________________________________________________________________\n"
          ],
          "name": "stdout"
        }
      ]
    },
    {
      "cell_type": "markdown",
      "metadata": {
        "id": "DhXN7DHvlEpp"
      },
      "source": [
        "## 학습"
      ]
    },
    {
      "cell_type": "code",
      "metadata": {
        "id": "-vRLMYKbdMcB"
      },
      "source": [
        "# 모델 loss, optimizer, metric 정의\r\n",
        "model.compile(loss = 'sparse_categorical_crossentropy', optimizer='adam', metrics=['accuracy'])"
      ],
      "execution_count": 87,
      "outputs": []
    },
    {
      "cell_type": "code",
      "metadata": {
        "colab": {
          "base_uri": "https://localhost:8080/"
        },
        "id": "u3JGcdwIk-qJ",
        "outputId": "12c7676c-577d-452d-bc1b-8c2742788d2f"
      },
      "source": [
        "# 모델 학습\r\n",
        "history = model.fit(train_inputs, train_labels, epochs=100, batch_size=16)"
      ],
      "execution_count": 88,
      "outputs": [
        {
          "output_type": "stream",
          "text": [
            "Epoch 1/100\n",
            "1/1 [==============================] - 0s 463ms/step - loss: 1.0880 - accuracy: 0.3750\n",
            "Epoch 2/100\n",
            "1/1 [==============================] - 0s 4ms/step - loss: 1.0848 - accuracy: 0.3750\n",
            "Epoch 3/100\n",
            "1/1 [==============================] - 0s 5ms/step - loss: 1.0816 - accuracy: 0.3750\n",
            "Epoch 4/100\n",
            "1/1 [==============================] - 0s 4ms/step - loss: 1.0784 - accuracy: 0.3750\n",
            "Epoch 5/100\n",
            "1/1 [==============================] - 0s 5ms/step - loss: 1.0752 - accuracy: 0.5000\n",
            "Epoch 6/100\n",
            "1/1 [==============================] - 0s 5ms/step - loss: 1.0720 - accuracy: 0.5000\n",
            "Epoch 7/100\n",
            "1/1 [==============================] - 0s 4ms/step - loss: 1.0688 - accuracy: 0.5000\n",
            "Epoch 8/100\n",
            "1/1 [==============================] - 0s 5ms/step - loss: 1.0656 - accuracy: 0.6250\n",
            "Epoch 9/100\n",
            "1/1 [==============================] - 0s 4ms/step - loss: 1.0624 - accuracy: 0.6250\n",
            "Epoch 10/100\n",
            "1/1 [==============================] - 0s 5ms/step - loss: 1.0591 - accuracy: 0.6250\n",
            "Epoch 11/100\n",
            "1/1 [==============================] - 0s 6ms/step - loss: 1.0559 - accuracy: 0.6250\n",
            "Epoch 12/100\n",
            "1/1 [==============================] - 0s 5ms/step - loss: 1.0527 - accuracy: 0.6250\n",
            "Epoch 13/100\n",
            "1/1 [==============================] - 0s 4ms/step - loss: 1.0495 - accuracy: 0.6250\n",
            "Epoch 14/100\n",
            "1/1 [==============================] - 0s 6ms/step - loss: 1.0462 - accuracy: 0.6250\n",
            "Epoch 15/100\n",
            "1/1 [==============================] - 0s 7ms/step - loss: 1.0430 - accuracy: 0.8750\n",
            "Epoch 16/100\n",
            "1/1 [==============================] - 0s 8ms/step - loss: 1.0398 - accuracy: 0.8750\n",
            "Epoch 17/100\n",
            "1/1 [==============================] - 0s 9ms/step - loss: 1.0365 - accuracy: 1.0000\n",
            "Epoch 18/100\n",
            "1/1 [==============================] - 0s 5ms/step - loss: 1.0333 - accuracy: 1.0000\n",
            "Epoch 19/100\n",
            "1/1 [==============================] - 0s 5ms/step - loss: 1.0300 - accuracy: 1.0000\n",
            "Epoch 20/100\n",
            "1/1 [==============================] - 0s 5ms/step - loss: 1.0267 - accuracy: 1.0000\n",
            "Epoch 21/100\n",
            "1/1 [==============================] - 0s 6ms/step - loss: 1.0235 - accuracy: 1.0000\n",
            "Epoch 22/100\n",
            "1/1 [==============================] - 0s 6ms/step - loss: 1.0202 - accuracy: 1.0000\n",
            "Epoch 23/100\n",
            "1/1 [==============================] - 0s 4ms/step - loss: 1.0169 - accuracy: 1.0000\n",
            "Epoch 24/100\n",
            "1/1 [==============================] - 0s 6ms/step - loss: 1.0136 - accuracy: 1.0000\n",
            "Epoch 25/100\n",
            "1/1 [==============================] - 0s 5ms/step - loss: 1.0102 - accuracy: 1.0000\n",
            "Epoch 26/100\n",
            "1/1 [==============================] - 0s 26ms/step - loss: 1.0069 - accuracy: 1.0000\n",
            "Epoch 27/100\n",
            "1/1 [==============================] - 0s 9ms/step - loss: 1.0036 - accuracy: 1.0000\n",
            "Epoch 28/100\n",
            "1/1 [==============================] - 0s 8ms/step - loss: 1.0002 - accuracy: 1.0000\n",
            "Epoch 29/100\n",
            "1/1 [==============================] - 0s 5ms/step - loss: 0.9969 - accuracy: 1.0000\n",
            "Epoch 30/100\n",
            "1/1 [==============================] - 0s 6ms/step - loss: 0.9935 - accuracy: 1.0000\n",
            "Epoch 31/100\n",
            "1/1 [==============================] - 0s 5ms/step - loss: 0.9901 - accuracy: 1.0000\n",
            "Epoch 32/100\n",
            "1/1 [==============================] - 0s 4ms/step - loss: 0.9867 - accuracy: 1.0000\n",
            "Epoch 33/100\n",
            "1/1 [==============================] - 0s 5ms/step - loss: 0.9833 - accuracy: 1.0000\n",
            "Epoch 34/100\n",
            "1/1 [==============================] - 0s 6ms/step - loss: 0.9799 - accuracy: 1.0000\n",
            "Epoch 35/100\n",
            "1/1 [==============================] - 0s 4ms/step - loss: 0.9765 - accuracy: 1.0000\n",
            "Epoch 36/100\n",
            "1/1 [==============================] - 0s 5ms/step - loss: 0.9731 - accuracy: 1.0000\n",
            "Epoch 37/100\n",
            "1/1 [==============================] - 0s 6ms/step - loss: 0.9696 - accuracy: 1.0000\n",
            "Epoch 38/100\n",
            "1/1 [==============================] - 0s 5ms/step - loss: 0.9661 - accuracy: 1.0000\n",
            "Epoch 39/100\n",
            "1/1 [==============================] - 0s 8ms/step - loss: 0.9627 - accuracy: 1.0000\n",
            "Epoch 40/100\n",
            "1/1 [==============================] - 0s 7ms/step - loss: 0.9592 - accuracy: 1.0000\n",
            "Epoch 41/100\n",
            "1/1 [==============================] - 0s 8ms/step - loss: 0.9557 - accuracy: 1.0000\n",
            "Epoch 42/100\n",
            "1/1 [==============================] - 0s 11ms/step - loss: 0.9522 - accuracy: 1.0000\n",
            "Epoch 43/100\n",
            "1/1 [==============================] - 0s 6ms/step - loss: 0.9486 - accuracy: 1.0000\n",
            "Epoch 44/100\n",
            "1/1 [==============================] - 0s 5ms/step - loss: 0.9451 - accuracy: 1.0000\n",
            "Epoch 45/100\n",
            "1/1 [==============================] - 0s 7ms/step - loss: 0.9415 - accuracy: 1.0000\n",
            "Epoch 46/100\n",
            "1/1 [==============================] - 0s 5ms/step - loss: 0.9380 - accuracy: 1.0000\n",
            "Epoch 47/100\n",
            "1/1 [==============================] - 0s 6ms/step - loss: 0.9344 - accuracy: 1.0000\n",
            "Epoch 48/100\n",
            "1/1 [==============================] - 0s 7ms/step - loss: 0.9308 - accuracy: 1.0000\n",
            "Epoch 49/100\n",
            "1/1 [==============================] - 0s 7ms/step - loss: 0.9272 - accuracy: 1.0000\n",
            "Epoch 50/100\n",
            "1/1 [==============================] - 0s 7ms/step - loss: 0.9236 - accuracy: 1.0000\n",
            "Epoch 51/100\n",
            "1/1 [==============================] - 0s 6ms/step - loss: 0.9199 - accuracy: 1.0000\n",
            "Epoch 52/100\n",
            "1/1 [==============================] - 0s 6ms/step - loss: 0.9163 - accuracy: 1.0000\n",
            "Epoch 53/100\n",
            "1/1 [==============================] - 0s 7ms/step - loss: 0.9126 - accuracy: 1.0000\n",
            "Epoch 54/100\n",
            "1/1 [==============================] - 0s 8ms/step - loss: 0.9089 - accuracy: 1.0000\n",
            "Epoch 55/100\n",
            "1/1 [==============================] - 0s 7ms/step - loss: 0.9053 - accuracy: 1.0000\n",
            "Epoch 56/100\n",
            "1/1 [==============================] - 0s 8ms/step - loss: 0.9016 - accuracy: 1.0000\n",
            "Epoch 57/100\n",
            "1/1 [==============================] - 0s 6ms/step - loss: 0.8978 - accuracy: 1.0000\n",
            "Epoch 58/100\n",
            "1/1 [==============================] - 0s 8ms/step - loss: 0.8941 - accuracy: 1.0000\n",
            "Epoch 59/100\n",
            "1/1 [==============================] - 0s 8ms/step - loss: 0.8904 - accuracy: 1.0000\n",
            "Epoch 60/100\n",
            "1/1 [==============================] - 0s 6ms/step - loss: 0.8866 - accuracy: 1.0000\n",
            "Epoch 61/100\n",
            "1/1 [==============================] - 0s 7ms/step - loss: 0.8829 - accuracy: 1.0000\n",
            "Epoch 62/100\n",
            "1/1 [==============================] - 0s 7ms/step - loss: 0.8791 - accuracy: 1.0000\n",
            "Epoch 63/100\n",
            "1/1 [==============================] - 0s 5ms/step - loss: 0.8753 - accuracy: 1.0000\n",
            "Epoch 64/100\n",
            "1/1 [==============================] - 0s 7ms/step - loss: 0.8715 - accuracy: 1.0000\n",
            "Epoch 65/100\n",
            "1/1 [==============================] - 0s 5ms/step - loss: 0.8677 - accuracy: 1.0000\n",
            "Epoch 66/100\n",
            "1/1 [==============================] - 0s 5ms/step - loss: 0.8639 - accuracy: 1.0000\n",
            "Epoch 67/100\n",
            "1/1 [==============================] - 0s 8ms/step - loss: 0.8600 - accuracy: 1.0000\n",
            "Epoch 68/100\n",
            "1/1 [==============================] - 0s 7ms/step - loss: 0.8562 - accuracy: 1.0000\n",
            "Epoch 69/100\n",
            "1/1 [==============================] - 0s 6ms/step - loss: 0.8523 - accuracy: 1.0000\n",
            "Epoch 70/100\n",
            "1/1 [==============================] - 0s 6ms/step - loss: 0.8485 - accuracy: 1.0000\n",
            "Epoch 71/100\n",
            "1/1 [==============================] - 0s 6ms/step - loss: 0.8446 - accuracy: 1.0000\n",
            "Epoch 72/100\n",
            "1/1 [==============================] - 0s 6ms/step - loss: 0.8407 - accuracy: 1.0000\n",
            "Epoch 73/100\n",
            "1/1 [==============================] - 0s 6ms/step - loss: 0.8368 - accuracy: 1.0000\n",
            "Epoch 74/100\n",
            "1/1 [==============================] - 0s 6ms/step - loss: 0.8329 - accuracy: 1.0000\n",
            "Epoch 75/100\n",
            "1/1 [==============================] - 0s 6ms/step - loss: 0.8290 - accuracy: 1.0000\n",
            "Epoch 76/100\n",
            "1/1 [==============================] - 0s 7ms/step - loss: 0.8251 - accuracy: 1.0000\n",
            "Epoch 77/100\n",
            "1/1 [==============================] - 0s 6ms/step - loss: 0.8211 - accuracy: 1.0000\n",
            "Epoch 78/100\n",
            "1/1 [==============================] - 0s 6ms/step - loss: 0.8172 - accuracy: 1.0000\n",
            "Epoch 79/100\n",
            "1/1 [==============================] - 0s 6ms/step - loss: 0.8132 - accuracy: 1.0000\n",
            "Epoch 80/100\n",
            "1/1 [==============================] - 0s 7ms/step - loss: 0.8093 - accuracy: 1.0000\n",
            "Epoch 81/100\n",
            "1/1 [==============================] - 0s 6ms/step - loss: 0.8053 - accuracy: 1.0000\n",
            "Epoch 82/100\n",
            "1/1 [==============================] - 0s 6ms/step - loss: 0.8014 - accuracy: 1.0000\n",
            "Epoch 83/100\n",
            "1/1 [==============================] - 0s 8ms/step - loss: 0.7974 - accuracy: 1.0000\n",
            "Epoch 84/100\n",
            "1/1 [==============================] - 0s 7ms/step - loss: 0.7934 - accuracy: 1.0000\n",
            "Epoch 85/100\n",
            "1/1 [==============================] - 0s 6ms/step - loss: 0.7894 - accuracy: 1.0000\n",
            "Epoch 86/100\n",
            "1/1 [==============================] - 0s 5ms/step - loss: 0.7854 - accuracy: 1.0000\n",
            "Epoch 87/100\n",
            "1/1 [==============================] - 0s 5ms/step - loss: 0.7814 - accuracy: 1.0000\n",
            "Epoch 88/100\n",
            "1/1 [==============================] - 0s 6ms/step - loss: 0.7774 - accuracy: 1.0000\n",
            "Epoch 89/100\n",
            "1/1 [==============================] - 0s 6ms/step - loss: 0.7734 - accuracy: 1.0000\n",
            "Epoch 90/100\n",
            "1/1 [==============================] - 0s 8ms/step - loss: 0.7694 - accuracy: 1.0000\n",
            "Epoch 91/100\n",
            "1/1 [==============================] - 0s 6ms/step - loss: 0.7654 - accuracy: 1.0000\n",
            "Epoch 92/100\n",
            "1/1 [==============================] - 0s 6ms/step - loss: 0.7614 - accuracy: 1.0000\n",
            "Epoch 93/100\n",
            "1/1 [==============================] - 0s 6ms/step - loss: 0.7574 - accuracy: 1.0000\n",
            "Epoch 94/100\n",
            "1/1 [==============================] - 0s 7ms/step - loss: 0.7534 - accuracy: 1.0000\n",
            "Epoch 95/100\n",
            "1/1 [==============================] - 0s 8ms/step - loss: 0.7493 - accuracy: 1.0000\n",
            "Epoch 96/100\n",
            "1/1 [==============================] - 0s 6ms/step - loss: 0.7453 - accuracy: 1.0000\n",
            "Epoch 97/100\n",
            "1/1 [==============================] - 0s 6ms/step - loss: 0.7413 - accuracy: 1.0000\n",
            "Epoch 98/100\n",
            "1/1 [==============================] - 0s 6ms/step - loss: 0.7373 - accuracy: 1.0000\n",
            "Epoch 99/100\n",
            "1/1 [==============================] - 0s 6ms/step - loss: 0.7332 - accuracy: 1.0000\n",
            "Epoch 100/100\n",
            "1/1 [==============================] - 0s 6ms/step - loss: 0.7292 - accuracy: 1.0000\n"
          ],
          "name": "stdout"
        }
      ]
    },
    {
      "cell_type": "code",
      "metadata": {
        "colab": {
          "base_uri": "https://localhost:8080/",
          "height": 0
        },
        "id": "4L2ezE_fleuD",
        "outputId": "c48dae62-93fa-4018-b6aa-394758f80130"
      },
      "source": [
        "plt.figure(figsize=(12, 4))\r\n",
        "\r\n",
        "plt.subplot(1, 2, 1)\r\n",
        "plt.plot(history.history['loss'], 'b-', label='loss')\r\n",
        "plt.xlabel('Epoch')\r\n",
        "plt.legend()\r\n",
        "\r\n",
        "plt.subplot(1, 2, 2)\r\n",
        "plt.plot(history.history['accuracy'], 'g-', label='accuracy')\r\n",
        "plt.xlabel('Epoch')\r\n",
        "plt.legend()\r\n",
        "\r\n",
        "plt.show()"
      ],
      "execution_count": 89,
      "outputs": [
        {
          "output_type": "display_data",
          "data": {
            "image/png": "[encoded data removed]",
            "text/plain": [
              "<Figure size 864x288 with 2 Axes>"
            ]
          },
          "metadata": {
            "tags": [],
            "needs_background": "light"
          }
        }
      ]
    },
    {
      "cell_type": "markdown",
      "metadata": {
        "id": "hjSlRk99zneL"
      },
      "source": [
        "## 평가"
      ]
    },
    {
      "cell_type": "code",
      "metadata": {
        "colab": {
          "base_uri": "https://localhost:8080/"
        },
        "id": "lXznJ46_nH4W",
        "outputId": "10806649-3814-4f40-be8a-ffe120fe805d"
      },
      "source": [
        "# 모델 평가\r\n",
        "model.evaluate(train_inputs, train_labels)"
      ],
      "execution_count": 90,
      "outputs": [
        {
          "output_type": "stream",
          "text": [
            "1/1 [==============================] - 0s 129ms/step - loss: 0.7252 - accuracy: 1.0000\n"
          ],
          "name": "stdout"
        },
        {
          "output_type": "execute_result",
          "data": {
            "text/plain": [
              "[0.7251839637756348, 1.0]"
            ]
          },
          "metadata": {
            "tags": []
          },
          "execution_count": 90
        }
      ]
    },
    {
      "cell_type": "markdown",
      "metadata": {
        "id": "XpcISJ_ozneL"
      },
      "source": [
        "## 예측"
      ]
    },
    {
      "cell_type": "code",
      "metadata": {
        "id": "9JbNkpdOnbNr"
      },
      "source": [
        "# 추론할 입력\r\n",
        "string = \"나는 기분이 우울해\""
      ],
      "execution_count": 91,
      "outputs": []
    },
    {
      "cell_type": "code",
      "metadata": {
        "colab": {
          "base_uri": "https://localhost:8080/"
        },
        "id": "GVyo4_r_ommB",
        "outputId": "d71cc647-12eb-459c-aac5-b47b62250c3c"
      },
      "source": [
        "# 입력을 숫자로 변경\r\n",
        "infer_input = [word_to_id[word] for word in string.split()]\r\n",
        "infer_input"
      ],
      "execution_count": 92,
      "outputs": [
        {
          "output_type": "execute_result",
          "data": {
            "text/plain": [
              "[2, 4, 6]"
            ]
          },
          "metadata": {
            "tags": []
          },
          "execution_count": 92
        }
      ]
    },
    {
      "cell_type": "code",
      "metadata": {
        "colab": {
          "base_uri": "https://localhost:8080/"
        },
        "id": "e3KPreCLowYX",
        "outputId": "9566f875-c981-4450-9507-ff97e585ee1a"
      },
      "source": [
        "# 문장의 길이를 모두 동일하게 변경 (최대 길이 4)\r\n",
        "infer_input += [0] * (4 - len(infer_input))\r\n",
        "infer_input"
      ],
      "execution_count": 93,
      "outputs": [
        {
          "output_type": "execute_result",
          "data": {
            "text/plain": [
              "[2, 4, 6, 0]"
            ]
          },
          "metadata": {
            "tags": []
          },
          "execution_count": 93
        }
      ]
    },
    {
      "cell_type": "code",
      "metadata": {
        "colab": {
          "base_uri": "https://localhost:8080/"
        },
        "id": "S4PUqeKko61H",
        "outputId": "b3ec6948-ec5f-4207-ab71-3b058884e0c9"
      },
      "source": [
        "# numpy array로 변환(batch size 1 증가)\r\n",
        "infer_inputs = np.array([infer_input])\r\n",
        "infer_inputs"
      ],
      "execution_count": 94,
      "outputs": [
        {
          "output_type": "execute_result",
          "data": {
            "text/plain": [
              "array([[2, 4, 6, 0]])"
            ]
          },
          "metadata": {
            "tags": []
          },
          "execution_count": 94
        }
      ]
    },
    {
      "cell_type": "code",
      "metadata": {
        "colab": {
          "base_uri": "https://localhost:8080/"
        },
        "id": "4qtPwxPcpHt9",
        "outputId": "2a60cc22-68d5-464c-8863-b4d278893c64"
      },
      "source": [
        "# 긍정/부정 추론\r\n",
        "y_preds = model.predict(infer_inputs)\r\n",
        "y_preds"
      ],
      "execution_count": 95,
      "outputs": [
        {
          "output_type": "execute_result",
          "data": {
            "text/plain": [
              "array([[[0.2949449 , 0.48121864, 0.22383654],\n",
              "        [0.28549454, 0.49553776, 0.21896769],\n",
              "        [0.3972852 , 0.32481876, 0.277896  ],\n",
              "        [0.28252205, 0.51771843, 0.19975951]]], dtype=float32)"
            ]
          },
          "metadata": {
            "tags": []
          },
          "execution_count": 95
        }
      ]
    },
    {
      "cell_type": "code",
      "metadata": {
        "colab": {
          "base_uri": "https://localhost:8080/"
        },
        "id": "Qt8L93XxpRXB",
        "outputId": "7260c462-6485-4d49-dbbf-c947cf337631"
      },
      "source": [
        "# 확률의 max 값을 추론 값으로 설정\r\n",
        "y_pred_class = np.argmax(y_preds, axis=2)\r\n",
        "y_pred_class"
      ],
      "execution_count": 96,
      "outputs": [
        {
          "output_type": "execute_result",
          "data": {
            "text/plain": [
              "array([[1, 1, 0, 1]])"
            ]
          },
          "metadata": {
            "tags": []
          },
          "execution_count": 96
        }
      ]
    }
  ]
}