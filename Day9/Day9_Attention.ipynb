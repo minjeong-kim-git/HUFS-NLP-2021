{
  "nbformat": 4,
  "nbformat_minor": 0,
  "metadata": {
    "colab": {
      "name": "Day9_Attention",
      "provenance": [],
      "collapsed_sections": [
        "D-bjMMvkBRLU",
        "XwriCkq_R1Lc",
        "kTgzpx2Wl6uv",
        "gcG7zBAr_R_4",
        "jv0OPyaKSpjw",
        "IFTsdA3kE2h-",
        "PQvKAxTbaEpt",
        "wZSehzviqJW3",
        "x0ZAlao5qJW4",
        "ByyA-3bbqJW6",
        "2lWovHbAqJW7"
      ]
    },
    "kernelspec": {
      "name": "python3",
      "display_name": "Python 3"
    },
    "accelerator": "GPU",
    "widgets": {
      "application/vnd.jupyter.widget-state+json": {
        "be522c1ef8af4053a0c19284cf9eaa84": {
          "model_module": "@jupyter-widgets/controls",
          "model_name": "HBoxModel",
          "state": {
            "_view_name": "HBoxView",
            "_dom_classes": [],
            "_model_name": "HBoxModel",
            "_view_module": "@jupyter-widgets/controls",
            "_model_module_version": "1.5.0",
            "_view_count": null,
            "_view_module_version": "1.5.0",
            "box_style": "",
            "layout": "IPY_MODEL_9144c1564f734abfba7e593e9b6fd789",
            "_model_module": "@jupyter-widgets/controls",
            "children": [
              "IPY_MODEL_ea97f4d1b30f40108bd9a208a41b25e4",
              "IPY_MODEL_f40c848acbea423f8724b70ede9bb219"
            ]
          }
        },
        "9144c1564f734abfba7e593e9b6fd789": {
          "model_module": "@jupyter-widgets/base",
          "model_name": "LayoutModel",
          "state": {
            "_view_name": "LayoutView",
            "grid_template_rows": null,
            "right": null,
            "justify_content": null,
            "_view_module": "@jupyter-widgets/base",
            "overflow": null,
            "_model_module_version": "1.2.0",
            "_view_count": null,
            "flex_flow": null,
            "width": null,
            "min_width": null,
            "border": null,
            "align_items": null,
            "bottom": null,
            "_model_module": "@jupyter-widgets/base",
            "top": null,
            "grid_column": null,
            "overflow_y": null,
            "overflow_x": null,
            "grid_auto_flow": null,
            "grid_area": null,
            "grid_template_columns": null,
            "flex": null,
            "_model_name": "LayoutModel",
            "justify_items": null,
            "grid_row": null,
            "max_height": null,
            "align_content": null,
            "visibility": null,
            "align_self": null,
            "height": null,
            "min_height": null,
            "padding": null,
            "grid_auto_rows": null,
            "grid_gap": null,
            "max_width": null,
            "order": null,
            "_view_module_version": "1.2.0",
            "grid_template_areas": null,
            "object_position": null,
            "object_fit": null,
            "grid_auto_columns": null,
            "margin": null,
            "display": null,
            "left": null
          }
        },
        "ea97f4d1b30f40108bd9a208a41b25e4": {
          "model_module": "@jupyter-widgets/controls",
          "model_name": "FloatProgressModel",
          "state": {
            "_view_name": "ProgressView",
            "style": "IPY_MODEL_17d514d7f40e4005aa4943f87f7a1f08",
            "_dom_classes": [],
            "description": "100%",
            "_model_name": "FloatProgressModel",
            "bar_style": "success",
            "max": 10,
            "_view_module": "@jupyter-widgets/controls",
            "_model_module_version": "1.5.0",
            "value": 10,
            "_view_count": null,
            "_view_module_version": "1.5.0",
            "orientation": "horizontal",
            "min": 0,
            "description_tooltip": null,
            "_model_module": "@jupyter-widgets/controls",
            "layout": "IPY_MODEL_d482893a6ac644fe8afebd225b80ee89"
          }
        },
        "f40c848acbea423f8724b70ede9bb219": {
          "model_module": "@jupyter-widgets/controls",
          "model_name": "HTMLModel",
          "state": {
            "_view_name": "HTMLView",
            "style": "IPY_MODEL_cfa8aa390898408486eee253718cb646",
            "_dom_classes": [],
            "description": "",
            "_model_name": "HTMLModel",
            "placeholder": "​",
            "_view_module": "@jupyter-widgets/controls",
            "_model_module_version": "1.5.0",
            "value": " 10/10 [00:08&lt;00:00,  1.15it/s]",
            "_view_count": null,
            "_view_module_version": "1.5.0",
            "description_tooltip": null,
            "_model_module": "@jupyter-widgets/controls",
            "layout": "IPY_MODEL_dc5bb0d7a68840b68552eea7f6992923"
          }
        },
        "17d514d7f40e4005aa4943f87f7a1f08": {
          "model_module": "@jupyter-widgets/controls",
          "model_name": "ProgressStyleModel",
          "state": {
            "_view_name": "StyleView",
            "_model_name": "ProgressStyleModel",
            "description_width": "initial",
            "_view_module": "@jupyter-widgets/base",
            "_model_module_version": "1.5.0",
            "_view_count": null,
            "_view_module_version": "1.2.0",
            "bar_color": null,
            "_model_module": "@jupyter-widgets/controls"
          }
        },
        "d482893a6ac644fe8afebd225b80ee89": {
          "model_module": "@jupyter-widgets/base",
          "model_name": "LayoutModel",
          "state": {
            "_view_name": "LayoutView",
            "grid_template_rows": null,
            "right": null,
            "justify_content": null,
            "_view_module": "@jupyter-widgets/base",
            "overflow": null,
            "_model_module_version": "1.2.0",
            "_view_count": null,
            "flex_flow": null,
            "width": null,
            "min_width": null,
            "border": null,
            "align_items": null,
            "bottom": null,
            "_model_module": "@jupyter-widgets/base",
            "top": null,
            "grid_column": null,
            "overflow_y": null,
            "overflow_x": null,
            "grid_auto_flow": null,
            "grid_area": null,
            "grid_template_columns": null,
            "flex": null,
            "_model_name": "LayoutModel",
            "justify_items": null,
            "grid_row": null,
            "max_height": null,
            "align_content": null,
            "visibility": null,
            "align_self": null,
            "height": null,
            "min_height": null,
            "padding": null,
            "grid_auto_rows": null,
            "grid_gap": null,
            "max_width": null,
            "order": null,
            "_view_module_version": "1.2.0",
            "grid_template_areas": null,
            "object_position": null,
            "object_fit": null,
            "grid_auto_columns": null,
            "margin": null,
            "display": null,
            "left": null
          }
        },
        "cfa8aa390898408486eee253718cb646": {
          "model_module": "@jupyter-widgets/controls",
          "model_name": "DescriptionStyleModel",
          "state": {
            "_view_name": "StyleView",
            "_model_name": "DescriptionStyleModel",
            "description_width": "",
            "_view_module": "@jupyter-widgets/base",
            "_model_module_version": "1.5.0",
            "_view_count": null,
            "_view_module_version": "1.2.0",
            "_model_module": "@jupyter-widgets/controls"
          }
        },
        "dc5bb0d7a68840b68552eea7f6992923": {
          "model_module": "@jupyter-widgets/base",
          "model_name": "LayoutModel",
          "state": {
            "_view_name": "LayoutView",
            "grid_template_rows": null,
            "right": null,
            "justify_content": null,
            "_view_module": "@jupyter-widgets/base",
            "overflow": null,
            "_model_module_version": "1.2.0",
            "_view_count": null,
            "flex_flow": null,
            "width": null,
            "min_width": null,
            "border": null,
            "align_items": null,
            "bottom": null,
            "_model_module": "@jupyter-widgets/base",
            "top": null,
            "grid_column": null,
            "overflow_y": null,
            "overflow_x": null,
            "grid_auto_flow": null,
            "grid_area": null,
            "grid_template_columns": null,
            "flex": null,
            "_model_name": "LayoutModel",
            "justify_items": null,
            "grid_row": null,
            "max_height": null,
            "align_content": null,
            "visibility": null,
            "align_self": null,
            "height": null,
            "min_height": null,
            "padding": null,
            "grid_auto_rows": null,
            "grid_gap": null,
            "max_width": null,
            "order": null,
            "_view_module_version": "1.2.0",
            "grid_template_areas": null,
            "object_position": null,
            "object_fit": null,
            "grid_auto_columns": null,
            "margin": null,
            "display": null,
            "left": null
          }
        }
      }
    }
  },
  "cells": [
    {
      "cell_type": "markdown",
      "metadata": {
        "id": "6dfJPT-2XMTB"
      },
      "source": [
        "# Install"
      ]
    },
    {
      "cell_type": "code",
      "metadata": {
        "id": "a193aGJWVaqb",
        "colab": {
          "base_uri": "https://localhost:8080/"
        },
        "outputId": "7e4c1ff0-287c-45d3-9fcb-9e31359f3a75"
      },
      "source": [
        "!pip install sentencepiece"
      ],
      "execution_count": 82,
      "outputs": [
        {
          "output_type": "stream",
          "text": [
            "Requirement already satisfied: sentencepiece in /usr/local/lib/python3.6/dist-packages (0.1.95)\n"
          ],
          "name": "stdout"
        }
      ]
    },
    {
      "cell_type": "markdown",
      "metadata": {
        "id": "JHkHg6XAXoyK"
      },
      "source": [
        "# Evn"
      ]
    },
    {
      "cell_type": "code",
      "metadata": {
        "id": "WkYXFwcBXJDG"
      },
      "source": [
        "import os\n",
        "import random\n",
        "import shutil\n",
        "import json\n",
        "import zipfile\n",
        "import math\n",
        "import copy\n",
        "import collections\n",
        "import re\n",
        "\n",
        "import matplotlib.pyplot as plt\n",
        "import pandas as pd\n",
        "import numpy as np\n",
        "import sentencepiece as spm\n",
        "import tensorflow as tf\n",
        "import tensorflow.keras.backend as KK\n",
        "\n",
        "from tqdm.notebook import tqdm"
      ],
      "execution_count": 83,
      "outputs": []
    },
    {
      "cell_type": "code",
      "metadata": {
        "id": "nvjyruUlXtlR"
      },
      "source": [
        "# random seed initialize\n",
        "random_seed = 1234\n",
        "random.seed(random_seed)\n",
        "np.random.seed(random_seed)\n",
        "tf.random.set_seed(random_seed)"
      ],
      "execution_count": 84,
      "outputs": []
    },
    {
      "cell_type": "code",
      "metadata": {
        "id": "BC3fXkhdYcYt",
        "colab": {
          "base_uri": "https://localhost:8080/"
        },
        "outputId": "9c8b6d92-41e0-4527-e2ca-75217b936cd0"
      },
      "source": [
        "!nvidia-smi"
      ],
      "execution_count": 85,
      "outputs": [
        {
          "output_type": "stream",
          "text": [
            "NVIDIA-SMI has failed because it couldn't communicate with the NVIDIA driver. Make sure that the latest NVIDIA driver is installed and running.\n",
            "\n"
          ],
          "name": "stdout"
        }
      ]
    },
    {
      "cell_type": "code",
      "metadata": {
        "id": "xVRdxYReYeQj",
        "colab": {
          "base_uri": "https://localhost:8080/"
        },
        "outputId": "31c4fc5b-5104-4bc9-9d9d-ae324acbdf05"
      },
      "source": [
        "# google drive mount\n",
        "from google.colab import drive\n",
        "drive.mount('/content/drive')"
      ],
      "execution_count": 86,
      "outputs": [
        {
          "output_type": "stream",
          "text": [
            "Drive already mounted at /content/drive; to attempt to forcibly remount, call drive.mount(\"/content/drive\", force_remount=True).\n"
          ],
          "name": "stdout"
        }
      ]
    },
    {
      "cell_type": "code",
      "metadata": {
        "id": "byCIiLJBbFHh",
        "colab": {
          "base_uri": "https://localhost:8080/"
        },
        "outputId": "07ea9028-ae03-47b3-831a-c7d5cb1e2433"
      },
      "source": [
        "# data dir\n",
        "data_dir = '/content/drive/MyDrive/nlp/my_data/data'\n",
        "os.listdir(data_dir)"
      ],
      "execution_count": 87,
      "outputs": [
        {
          "output_type": "execute_result",
          "data": {
            "text/plain": [
              "['ko_32000.model', 'ko_32000.vocab', 'kowiki', 'nsmc', 'quora', 'songys']"
            ]
          },
          "metadata": {
            "tags": []
          },
          "execution_count": 87
        }
      ]
    },
    {
      "cell_type": "code",
      "metadata": {
        "id": "_Ru56YS3-SME",
        "colab": {
          "base_uri": "https://localhost:8080/"
        },
        "outputId": "33cbcded-cf16-4029-a3ed-b571b0533c83"
      },
      "source": [
        "# songys chatbot dir\n",
        "songys_dir = os.path.join(data_dir, 'songys')\n",
        "if not os.path.exists(songys_dir):\n",
        "    os.makedirs(songys_dir)\n",
        "os.listdir(songys_dir)"
      ],
      "execution_count": 88,
      "outputs": [
        {
          "output_type": "execute_result",
          "data": {
            "text/plain": [
              "['ChatbotData.csv', 'lstm.hdf5', 'lstm.csv']"
            ]
          },
          "metadata": {
            "tags": []
          },
          "execution_count": 88
        }
      ]
    },
    {
      "cell_type": "markdown",
      "metadata": {
        "id": "tPfBcykRf6TH"
      },
      "source": [
        "# Attention"
      ]
    },
    {
      "cell_type": "code",
      "metadata": {
        "id": "GBCgqohCf-kO"
      },
      "source": [
        "# 입력 문장\n",
        "sentences = [\n",
        "    ['나는 오늘 기분이 좋아', '네가 좋으니 나도 좋아'],\n",
        "    ['나는 오늘 행복해', '나도 행복하다'],\n",
        "]"
      ],
      "execution_count": 91,
      "outputs": []
    },
    {
      "cell_type": "code",
      "metadata": {
        "id": "e0C4BfF9e7yg",
        "colab": {
          "base_uri": "https://localhost:8080/"
        },
        "outputId": "ccc34e0f-e91e-483c-c57d-f7ec27c0f12d"
      },
      "source": [
        "# 각 문장을 띄어쓰기 단위로 분할\n",
        "words = []\n",
        "for pair in sentences:\n",
        "    for sentence in pair:\n",
        "        words.extend(sentence.split())\n",
        "\n",
        "# 중복 단어 제거\n",
        "words = list(dict.fromkeys(words))\n",
        "\n",
        "# 각 단어별 고유한 번호 부여\n",
        "word_to_id = {'[PAD]': 0, '[UNK]': 1, '[BOS]': 2, '[EOS]': 3}\n",
        "for word in words:\n",
        "    word_to_id[word] = len(word_to_id)\n",
        "\n",
        "# 각 숫자별 단어 부여\n",
        "id_to_word = {_id:word for word, _id in word_to_id.items()}\n",
        "\n",
        "word_to_id, id_to_word"
      ],
      "execution_count": 92,
      "outputs": [
        {
          "output_type": "execute_result",
          "data": {
            "text/plain": [
              "({'[BOS]': 2,\n",
              "  '[EOS]': 3,\n",
              "  '[PAD]': 0,\n",
              "  '[UNK]': 1,\n",
              "  '기분이': 6,\n",
              "  '나는': 4,\n",
              "  '나도': 10,\n",
              "  '네가': 8,\n",
              "  '오늘': 5,\n",
              "  '좋아': 7,\n",
              "  '좋으니': 9,\n",
              "  '행복하다': 12,\n",
              "  '행복해': 11},\n",
              " {0: '[PAD]',\n",
              "  1: '[UNK]',\n",
              "  2: '[BOS]',\n",
              "  3: '[EOS]',\n",
              "  4: '나는',\n",
              "  5: '오늘',\n",
              "  6: '기분이',\n",
              "  7: '좋아',\n",
              "  8: '네가',\n",
              "  9: '좋으니',\n",
              "  10: '나도',\n",
              "  11: '행복해',\n",
              "  12: '행복하다'})"
            ]
          },
          "metadata": {
            "tags": []
          },
          "execution_count": 92
        }
      ]
    },
    {
      "cell_type": "code",
      "metadata": {
        "id": "t6eZMVpZfOQp",
        "colab": {
          "base_uri": "https://localhost:8080/"
        },
        "outputId": "ae2fbff7-4af5-4577-dc1f-77c1027544f9"
      },
      "source": [
        "# Question과 Answer를 숫자로\n",
        "question_list, answer_list = [], []\n",
        "\n",
        "for pair in sentences:\n",
        "    question_list.append([word_to_id[word] for word in pair[0].split()])\n",
        "    answer_list.append([word_to_id[word] for word in pair[1].split()])\n",
        "\n",
        "# 학습용 입력 데이터 생성\n",
        "train_enc_inputs, train_dec_inputs, train_labels = [], [], []\n",
        "\n",
        "for question, answer in zip(question_list, answer_list):\n",
        "    train_enc_inputs.append(question)\n",
        "    train_dec_inputs.append([word_to_id['[BOS]']] + answer)\n",
        "    train_labels.append(answer + [word_to_id['[EOS]']])\n",
        "\n",
        "# Encoder 입력의 길이를 모두 동일하게 변경 (최대길이 4)\n",
        "for row in train_enc_inputs:\n",
        "    row += [0] * (4 - len(row))\n",
        "\n",
        "# Decoder 입력의 길이를 모두 동일하게 변경 (최대길이 5)\n",
        "for row in train_dec_inputs:\n",
        "    row += [0] * (5 - len(row))\n",
        "\n",
        "# 정답의 길이를 모두 동일하게 변경 (최대길이 5)\n",
        "for row in train_labels:\n",
        "    row += [0] * (5 - len(row))\n",
        "\n",
        "# numpy array로 변환\n",
        "train_enc_inputs = np.array(train_enc_inputs)\n",
        "train_dec_inputs = np.array(train_dec_inputs)\n",
        "train_labels = np.array(train_labels)\n",
        "\n",
        "train_enc_inputs, train_dec_inputs, train_labels"
      ],
      "execution_count": 93,
      "outputs": [
        {
          "output_type": "execute_result",
          "data": {
            "text/plain": [
              "(array([[ 4,  5,  6,  7],\n",
              "        [ 4,  5, 11,  0]]), array([[ 2,  8,  9, 10,  7],\n",
              "        [ 2, 10, 12,  0,  0]]), array([[ 8,  9, 10,  7,  3],\n",
              "        [10, 12,  3,  0,  0]]))"
            ]
          },
          "metadata": {
            "tags": []
          },
          "execution_count": 93
        }
      ]
    },
    {
      "cell_type": "code",
      "metadata": {
        "id": "BljdfhNYfae4",
        "colab": {
          "base_uri": "https://localhost:8080/"
        },
        "outputId": "9fd2ba18-b553-4c13-a91a-37f412019130"
      },
      "source": [
        "# random embed weight\n",
        "embed_weight = np.random.randint(-9, 9, (len(id_to_word), 5)) / 10\n",
        "\n",
        "# embedding 생성\n",
        "embedding = tf.keras.layers.Embedding(len(id_to_word), 5, weights=[embed_weight])\n",
        "\n",
        "# word embedding\n",
        "hidden_enc = embedding(train_enc_inputs)  # (bs, n_enc_seq, 5)\n",
        "hidden_dec = embedding(train_dec_inputs)  # (bs, n_dec_seq, 5)\n",
        "hidden_enc, hidden_dec"
      ],
      "execution_count": 94,
      "outputs": [
        {
          "output_type": "execute_result",
          "data": {
            "text/plain": [
              "(<tf.Tensor: shape=(2, 4, 5), dtype=float32, numpy=\n",
              " array([[[ 0.2, -0.9,  0. ,  0.2,  0.7],\n",
              "         [-0.6, -0.7,  0.3, -0.8,  0.2],\n",
              "         [ 0.2,  0.8,  0.5, -0.2,  0.1],\n",
              "         [ 0.2,  0.5,  0.8,  0.4, -0.9]],\n",
              " \n",
              "        [[ 0.2, -0.9,  0. ,  0.2,  0.7],\n",
              "         [-0.6, -0.7,  0.3, -0.8,  0.2],\n",
              "         [-0.4,  0.4, -0.3, -0.2, -0.5],\n",
              "         [ 0.6, -0.3,  0.3,  0.6,  0.8]]], dtype=float32)>,\n",
              " <tf.Tensor: shape=(2, 5, 5), dtype=float32, numpy=\n",
              " array([[[ 0.7,  0. ,  0.6,  0.7,  0.3],\n",
              "         [ 0.3, -0.4,  0.8, -0.4,  0.4],\n",
              "         [ 0.7,  0. , -0.1,  0.3, -0.3],\n",
              "         [ 0.3,  0.6,  0.8,  0.5, -0.7],\n",
              "         [ 0.2,  0.5,  0.8,  0.4, -0.9]],\n",
              " \n",
              "        [[ 0.7,  0. ,  0.6,  0.7,  0.3],\n",
              "         [ 0.3,  0.6,  0.8,  0.5, -0.7],\n",
              "         [-0.6, -0.4,  0.5,  0.6,  0.6],\n",
              "         [ 0.6, -0.3,  0.3,  0.6,  0.8],\n",
              "         [ 0.6, -0.3,  0.3,  0.6,  0.8]]], dtype=float32)>)"
            ]
          },
          "metadata": {
            "tags": []
          },
          "execution_count": 94
        }
      ]
    },
    {
      "cell_type": "code",
      "metadata": {
        "id": "8SH71jMNfg-b"
      },
      "source": [
        "# Q, K, V 선언\r\n",
        "Q = hidden_dec\r\n",
        "K = hidden_enc\r\n",
        "V = K"
      ],
      "execution_count": 95,
      "outputs": []
    },
    {
      "cell_type": "code",
      "metadata": {
        "id": "Uqu9CiA_fpPK",
        "colab": {
          "base_uri": "https://localhost:8080/"
        },
        "outputId": "8f5a3b8b-368e-4e10-823c-7ce7fff6e56b"
      },
      "source": [
        "# Q[0][0] & K[0][0]\r\n",
        "q_idx, k_idx = 0, 0\r\n",
        "q_val = Q[0][q_idx]\r\n",
        "k_val = K[0][k_idx]\r\n",
        "print(q_val)\r\n",
        "print(k_val)\r\n",
        "print(np.dot(q_val, np.transpose(k_val)))\r\n",
        "print(tf.matmul([q_val], [k_val], transpose_b = True))\r\n",
        "print(np.sum(q_val * k_val))"
      ],
      "execution_count": 96,
      "outputs": [
        {
          "output_type": "stream",
          "text": [
            "tf.Tensor([0.7 0.  0.6 0.7 0.3], shape=(5,), dtype=float32)\n",
            "tf.Tensor([ 0.2 -0.9  0.   0.2  0.7], shape=(5,), dtype=float32)\n",
            "0.49\n",
            "tf.Tensor([[0.49]], shape=(1, 1), dtype=float32)\n",
            "0.49\n"
          ],
          "name": "stdout"
        }
      ]
    },
    {
      "cell_type": "code",
      "metadata": {
        "id": "UzhoY1t7hiCt",
        "colab": {
          "base_uri": "https://localhost:8080/"
        },
        "outputId": "b2e39f2c-b256-4dde-de04-c73ff1a01b45"
      },
      "source": [
        "# Q[0][0] & K[0][1]\r\n",
        "q_idx, k_idx = 0, 1\r\n",
        "q_val = Q[0][q_idx]\r\n",
        "k_val = K[0][k_idx]\r\n",
        "print(q_val)\r\n",
        "print(k_val)\r\n",
        "print(np.dot(q_val, np.transpose(k_val)))\r\n",
        "print(tf.matmul([q_val], [k_val], transpose_b = True))\r\n",
        "print(np.sum(q_val * k_val))"
      ],
      "execution_count": 97,
      "outputs": [
        {
          "output_type": "stream",
          "text": [
            "tf.Tensor([0.7 0.  0.6 0.7 0.3], shape=(5,), dtype=float32)\n",
            "tf.Tensor([-0.6 -0.7  0.3 -0.8  0.2], shape=(5,), dtype=float32)\n",
            "-0.74\n",
            "tf.Tensor([[-0.74]], shape=(1, 1), dtype=float32)\n",
            "-0.74\n"
          ],
          "name": "stdout"
        }
      ]
    },
    {
      "cell_type": "code",
      "metadata": {
        "id": "80ZhiP3nh9kF",
        "colab": {
          "base_uri": "https://localhost:8080/"
        },
        "outputId": "e7bc46e9-0322-4339-ae37-dc93da9c22f2"
      },
      "source": [
        "# Q[0][0] & K[0][2]\r\n",
        "q_idx, k_idx = 0, 2\r\n",
        "q_val = Q[0][q_idx]\r\n",
        "k_val = K[0][k_idx]\r\n",
        "print(q_val)\r\n",
        "print(k_val)\r\n",
        "print(np.dot(q_val, np.transpose(k_val)))\r\n",
        "print(tf.matmul([q_val], [k_val], transpose_b = True))\r\n",
        "print(np.sum(q_val * k_val))"
      ],
      "execution_count": 98,
      "outputs": [
        {
          "output_type": "stream",
          "text": [
            "tf.Tensor([0.7 0.  0.6 0.7 0.3], shape=(5,), dtype=float32)\n",
            "tf.Tensor([ 0.2  0.8  0.5 -0.2  0.1], shape=(5,), dtype=float32)\n",
            "0.33\n",
            "tf.Tensor([[0.33]], shape=(1, 1), dtype=float32)\n",
            "0.33\n"
          ],
          "name": "stdout"
        }
      ]
    },
    {
      "cell_type": "code",
      "metadata": {
        "id": "N8MFqsj0iQZm",
        "colab": {
          "base_uri": "https://localhost:8080/"
        },
        "outputId": "db90a980-0b7e-4058-dd94-a3b80c58aeb4"
      },
      "source": [
        "# Q[0][0] & K[0][3]\r\n",
        "q_idx, k_idx = 0, 3\r\n",
        "q_val = Q[0][q_idx]\r\n",
        "k_val = K[0][k_idx]\r\n",
        "print(q_val)\r\n",
        "print(k_val)\r\n",
        "print(np.dot(q_val, np.transpose(k_val)))\r\n",
        "print(tf.matmul([q_val], [k_val], transpose_b = True))\r\n",
        "print(np.sum(q_val * k_val))"
      ],
      "execution_count": 99,
      "outputs": [
        {
          "output_type": "stream",
          "text": [
            "tf.Tensor([0.7 0.  0.6 0.7 0.3], shape=(5,), dtype=float32)\n",
            "tf.Tensor([ 0.2  0.5  0.8  0.4 -0.9], shape=(5,), dtype=float32)\n",
            "0.63\n",
            "tf.Tensor([[0.63]], shape=(1, 1), dtype=float32)\n",
            "0.63\n"
          ],
          "name": "stdout"
        }
      ]
    },
    {
      "cell_type": "code",
      "metadata": {
        "id": "f0PQ5AyAifES",
        "colab": {
          "base_uri": "https://localhost:8080/"
        },
        "outputId": "7a4bff66-a0c1-4759-ea06-296a4563d522"
      },
      "source": [
        "# Q[0][0] & K[0][*]\r\n",
        "q_val = Q[0][0]\r\n",
        "attn_row = []\r\n",
        "for k_idx in range(4):\r\n",
        "  k_val = K[0][k_idx]\r\n",
        "  attn_row.append(tf.matmul([q_val], [k_val], transpose_b = True).numpy()[0][0])\r\n",
        "attn_row"
      ],
      "execution_count": 100,
      "outputs": [
        {
          "output_type": "execute_result",
          "data": {
            "text/plain": [
              "[0.49, -0.74, 0.33, 0.63]"
            ]
          },
          "metadata": {
            "tags": []
          },
          "execution_count": 100
        }
      ]
    },
    {
      "cell_type": "code",
      "metadata": {
        "id": "-MFt5KvtizL7",
        "colab": {
          "base_uri": "https://localhost:8080/"
        },
        "outputId": "add058e1-2173-4d72-ec64-15e9d10893e2"
      },
      "source": [
        "# Q[0][*] & K[0][*]\r\n",
        "for q_idx in range(5):\r\n",
        "  attn_row = []\r\n",
        "  q_val = Q[0][q_idx]\r\n",
        "  k_val = K[0][k_idx]\r\n",
        "  for k_idx in range(4):\r\n",
        "    k_val = K[0][k_idx]\r\n",
        "    attn_row.append(tf.matmul([q_val], [k_val], transpose_b = True).numpy()[0][0])\r\n",
        "  print(attn_row)"
      ],
      "execution_count": 101,
      "outputs": [
        {
          "output_type": "stream",
          "text": [
            "[0.49, -0.74, 0.33, 0.63]\n",
            "[0.61999995, 0.74, 0.26, -0.019999962]\n",
            "[-0.010000002, -0.75000006, -4.4703485e-10, 0.45000002]\n",
            "[-0.87, -0.90000004, 0.77000004, 1.83]\n",
            "[-0.96, -0.73, 0.67, 1.9000001]\n"
          ],
          "name": "stdout"
        }
      ]
    },
    {
      "cell_type": "code",
      "metadata": {
        "id": "99yg9lw_k8AT",
        "colab": {
          "base_uri": "https://localhost:8080/"
        },
        "outputId": "e431b596-257e-4b65-ffc0-e9a60ae23578"
      },
      "source": [
        "# attention score\r\n",
        "attn_score = tf.matmul(Q, K, transpose_b = True).numpy()\r\n",
        "attn_score"
      ],
      "execution_count": 102,
      "outputs": [
        {
          "output_type": "execute_result",
          "data": {
            "text/plain": [
              "array([[[ 4.9000001e-01, -7.4000001e-01,  3.3000001e-01,  6.3000000e-01],\n",
              "        [ 6.1999995e-01,  7.4000001e-01,  2.5999999e-01, -1.9999992e-02],\n",
              "        [-1.0000002e-02, -7.5000006e-01, -4.4703485e-10,  4.5000002e-01],\n",
              "        [-8.7000000e-01, -8.9999998e-01,  7.7000004e-01,  1.8300000e+00],\n",
              "        [-9.5999998e-01, -7.3000002e-01,  6.7000008e-01,  1.9000000e+00]],\n",
              "\n",
              "       [[ 4.9000001e-01, -7.4000001e-01, -7.5000000e-01,  1.2600000e+00],\n",
              "        [-8.7000000e-01, -8.9999998e-01,  1.3000000e-01, -1.9999977e-02],\n",
              "        [ 7.8000003e-01,  4.2999995e-01, -4.9000001e-01,  7.5000006e-01],\n",
              "        [ 1.0700001e+00, -3.8000003e-01, -9.7000003e-01,  1.5400001e+00],\n",
              "        [ 1.0700001e+00, -3.8000003e-01, -9.7000003e-01,  1.5400001e+00]]],\n",
              "      dtype=float32)"
            ]
          },
          "metadata": {
            "tags": []
          },
          "execution_count": 102
        }
      ]
    },
    {
      "cell_type": "code",
      "metadata": {
        "id": "qdlBCEbzlIqN",
        "colab": {
          "base_uri": "https://localhost:8080/"
        },
        "outputId": "39d61fe2-02d5-4e5f-b793-6cf63dffadab"
      },
      "source": [
        "# attention prob\r\n",
        "attn_prob = tf.nn.softmax(attn_score, axis=-1).numpy()\r\n",
        "attn_prob"
      ],
      "execution_count": 103,
      "outputs": [
        {
          "output_type": "execute_result",
          "data": {
            "text/plain": [
              "array([[[0.3035168 , 0.08871572, 0.25864   , 0.34912744],\n",
              "        [0.29828793, 0.3363187 , 0.20810841, 0.15728498],\n",
              "        [0.24562553, 0.11719135, 0.24809411, 0.38908902],\n",
              "        [0.0454435 , 0.04410044, 0.23426896, 0.6761871 ],\n",
              "        [0.0402836 , 0.05070093, 0.20560244, 0.70341307]],\n",
              "\n",
              "       [[0.26727656, 0.07812295, 0.07734562, 0.5772549 ],\n",
              "        [0.14228041, 0.1380754 , 0.38675827, 0.33288592],\n",
              "        [0.33829898, 0.23839523, 0.09500506, 0.32830074],\n",
              "        [0.33731443, 0.07912394, 0.04386055, 0.5397011 ],\n",
              "        [0.33731443, 0.07912394, 0.04386055, 0.5397011 ]]], dtype=float32)"
            ]
          },
          "metadata": {
            "tags": []
          },
          "execution_count": 103
        }
      ]
    },
    {
      "cell_type": "code",
      "metadata": {
        "colab": {
          "base_uri": "https://localhost:8080/"
        },
        "id": "BLgs2pIECZu5",
        "outputId": "33844346-068c-4b33-f82d-91941353e450"
      },
      "source": [
        "# prob sum 확인\r\n",
        "np.sum(attn_prob, axis = -1)"
      ],
      "execution_count": 104,
      "outputs": [
        {
          "output_type": "execute_result",
          "data": {
            "text/plain": [
              "array([[1., 1., 1., 1., 1.],\n",
              "       [1., 1., 1., 1., 1.]], dtype=float32)"
            ]
          },
          "metadata": {
            "tags": []
          },
          "execution_count": 104
        }
      ]
    },
    {
      "cell_type": "code",
      "metadata": {
        "id": "1MP4LSBtlPfY",
        "colab": {
          "base_uri": "https://localhost:8080/"
        },
        "outputId": "267bca5e-2da2-4e6e-e0ac-934b4e900bb9"
      },
      "source": [
        "# attn_prob[0][0][0] & V[0][0]\r\n",
        "p_idx, v_idx = 0, 0\r\n",
        "p_val = attn_prob[0][0][p_idx]\r\n",
        "v_val = V[0][v_idx]\r\n",
        "print(p_val)\r\n",
        "print(v_val)\r\n",
        "attn_out_0_0_0 = p_val * v_val\r\n",
        "attn_out_0_0_0"
      ],
      "execution_count": 105,
      "outputs": [
        {
          "output_type": "stream",
          "text": [
            "0.3035168\n",
            "tf.Tensor([ 0.2 -0.9  0.   0.2  0.7], shape=(5,), dtype=float32)\n"
          ],
          "name": "stdout"
        },
        {
          "output_type": "execute_result",
          "data": {
            "text/plain": [
              "<tf.Tensor: shape=(5,), dtype=float32, numpy=\n",
              "array([ 0.06070336, -0.2731651 ,  0.        ,  0.06070336,  0.21246175],\n",
              "      dtype=float32)>"
            ]
          },
          "metadata": {
            "tags": []
          },
          "execution_count": 105
        }
      ]
    },
    {
      "cell_type": "code",
      "metadata": {
        "id": "GgO7FjFwl9sB",
        "colab": {
          "base_uri": "https://localhost:8080/"
        },
        "outputId": "15d76d2d-8987-4f00-d917-50b4e01a746e"
      },
      "source": [
        "# attn_prob[0][0][1] & V[0][1]\r\n",
        "p_idx, v_idx = 1, 1\r\n",
        "p_val = attn_prob[0][0][p_idx]\r\n",
        "v_val = V[0][v_idx]\r\n",
        "print(p_val)\r\n",
        "print(v_val)\r\n",
        "attn_out_0_0_1 = p_val * v_val\r\n",
        "attn_out_0_0_1"
      ],
      "execution_count": 106,
      "outputs": [
        {
          "output_type": "stream",
          "text": [
            "0.08871572\n",
            "tf.Tensor([-0.6 -0.7  0.3 -0.8  0.2], shape=(5,), dtype=float32)\n"
          ],
          "name": "stdout"
        },
        {
          "output_type": "execute_result",
          "data": {
            "text/plain": [
              "<tf.Tensor: shape=(5,), dtype=float32, numpy=\n",
              "array([-0.05322943, -0.062101  ,  0.02661472, -0.07097258,  0.01774314],\n",
              "      dtype=float32)>"
            ]
          },
          "metadata": {
            "tags": []
          },
          "execution_count": 106
        }
      ]
    },
    {
      "cell_type": "code",
      "metadata": {
        "id": "Hd_qEqVRmGcx",
        "colab": {
          "base_uri": "https://localhost:8080/"
        },
        "outputId": "5c696233-0a13-4f83-b66e-c67140797ba6"
      },
      "source": [
        "# attn_prob[0][0][2] & V[0][2]\r\n",
        "p_idx, v_idx = 2, 2\r\n",
        "p_val = attn_prob[0][0][p_idx]\r\n",
        "v_val = V[0][v_idx]\r\n",
        "print(p_val)\r\n",
        "print(v_val)\r\n",
        "attn_out_0_0_2 = p_val * v_val\r\n",
        "attn_out_0_0_2"
      ],
      "execution_count": 107,
      "outputs": [
        {
          "output_type": "stream",
          "text": [
            "0.25864\n",
            "tf.Tensor([ 0.2  0.8  0.5 -0.2  0.1], shape=(5,), dtype=float32)\n"
          ],
          "name": "stdout"
        },
        {
          "output_type": "execute_result",
          "data": {
            "text/plain": [
              "<tf.Tensor: shape=(5,), dtype=float32, numpy=\n",
              "array([ 0.051728,  0.206912,  0.12932 , -0.051728,  0.025864],\n",
              "      dtype=float32)>"
            ]
          },
          "metadata": {
            "tags": []
          },
          "execution_count": 107
        }
      ]
    },
    {
      "cell_type": "code",
      "metadata": {
        "id": "q3bMneusmL5C",
        "colab": {
          "base_uri": "https://localhost:8080/"
        },
        "outputId": "4c214126-15af-40d9-f38b-10cd50a0ac26"
      },
      "source": [
        "# attn_prob[0][0][3] & V[0][3]\r\n",
        "p_idx, v_idx = 3, 3\r\n",
        "p_val = attn_prob[0][0][p_idx]\r\n",
        "v_val = V[0][v_idx]\r\n",
        "print(p_val)\r\n",
        "print(v_val)\r\n",
        "attn_out_0_0_3 = p_val * v_val\r\n",
        "attn_out_0_0_3"
      ],
      "execution_count": 108,
      "outputs": [
        {
          "output_type": "stream",
          "text": [
            "0.34912744\n",
            "tf.Tensor([ 0.2  0.5  0.8  0.4 -0.9], shape=(5,), dtype=float32)\n"
          ],
          "name": "stdout"
        },
        {
          "output_type": "execute_result",
          "data": {
            "text/plain": [
              "<tf.Tensor: shape=(5,), dtype=float32, numpy=\n",
              "array([ 0.06982549,  0.17456372,  0.27930197,  0.13965099, -0.31421468],\n",
              "      dtype=float32)>"
            ]
          },
          "metadata": {
            "tags": []
          },
          "execution_count": 108
        }
      ]
    },
    {
      "cell_type": "code",
      "metadata": {
        "id": "GT_QmsqrmUxB",
        "colab": {
          "base_uri": "https://localhost:8080/"
        },
        "outputId": "47726cd5-ea39-4119-a2c3-6868c77ae21b"
      },
      "source": [
        "# attn_prob[0][0][*] & V[0][*]\r\n",
        "attn_out_0_0 = attn_out_0_0_0  + attn_out_0_0_1 + attn_out_0_0_2 + attn_out_0_0_3\r\n",
        "print(attn_out_0_0)"
      ],
      "execution_count": 109,
      "outputs": [
        {
          "output_type": "stream",
          "text": [
            "tf.Tensor([ 0.12902743  0.0462096   0.4352367   0.07765377 -0.05814579], shape=(5,), dtype=float32)\n"
          ],
          "name": "stdout"
        }
      ]
    },
    {
      "cell_type": "code",
      "metadata": {
        "id": "ZLC8443Dpvr1",
        "colab": {
          "base_uri": "https://localhost:8080/"
        },
        "outputId": "189478bc-792a-41f9-d3b7-908fef0d8082"
      },
      "source": [
        "# attn_prob[0][0][*] & V[0][*]\r\n",
        "attn_row = []\r\n",
        "for v_idx in range(4):\r\n",
        "  attn_row.append(attn_prob[0][0][v_idx] * V[0][v_idx])\r\n",
        "print(attn_row)\r\n",
        "print(np.sum(attn_row, axis = 0))"
      ],
      "execution_count": 110,
      "outputs": [
        {
          "output_type": "stream",
          "text": [
            "[<tf.Tensor: shape=(5,), dtype=float32, numpy=\n",
            "array([ 0.06070336, -0.2731651 ,  0.        ,  0.06070336,  0.21246175],\n",
            "      dtype=float32)>, <tf.Tensor: shape=(5,), dtype=float32, numpy=\n",
            "array([-0.05322943, -0.062101  ,  0.02661472, -0.07097258,  0.01774314],\n",
            "      dtype=float32)>, <tf.Tensor: shape=(5,), dtype=float32, numpy=\n",
            "array([ 0.051728,  0.206912,  0.12932 , -0.051728,  0.025864],\n",
            "      dtype=float32)>, <tf.Tensor: shape=(5,), dtype=float32, numpy=\n",
            "array([ 0.06982549,  0.17456372,  0.27930197,  0.13965099, -0.31421468],\n",
            "      dtype=float32)>]\n",
            "[ 0.12902743  0.0462096   0.4352367   0.07765377 -0.05814579]\n"
          ],
          "name": "stdout"
        }
      ]
    },
    {
      "cell_type": "code",
      "metadata": {
        "id": "uXu-zatbqXkB",
        "colab": {
          "base_uri": "https://localhost:8080/"
        },
        "outputId": "df75761a-a898-4b08-8da9-de9dbae75a15"
      },
      "source": [
        "# attn_prov[0][*] & V[0][*]\r\n",
        "for q_idx in range(5):\r\n",
        "    attn_row = []\r\n",
        "    for v_idx in range(4):\r\n",
        "        attn_row.append(attn_prob[0][q_idx][v_idx] * V[0][v_idx])\r\n",
        "    print(np.sum(attn_row, axis=0))"
      ],
      "execution_count": 111,
      "outputs": [
        {
          "output_type": "stream",
          "text": [
            "[ 0.12902743  0.0462096   0.4352367   0.07765377 -0.05814579]\n",
            "[-0.06905496 -0.258753    0.33077782 -0.18810508  0.15531966]\n",
            "[ 0.10624692  0.08992288  0.47047567  0.06138881 -0.12999457]\n",
            "[ 0.16471966  0.45373926  0.6713143   0.1974294  -0.54451096]\n",
            "[ 0.15943928  0.4444426   0.68074197  0.20774074 -0.5741728 ]\n"
          ],
          "name": "stdout"
        }
      ]
    },
    {
      "cell_type": "code",
      "metadata": {
        "id": "rgcaDOmeq3CP",
        "colab": {
          "base_uri": "https://localhost:8080/"
        },
        "outputId": "b18e7216-cac9-4962-b1f0-9f41898ff7fe"
      },
      "source": [
        "# attn_prob & V\r\n",
        "attn_out = tf.matmul(attn_prob, V)\r\n",
        "attn_out"
      ],
      "execution_count": 112,
      "outputs": [
        {
          "output_type": "execute_result",
          "data": {
            "text/plain": [
              "<tf.Tensor: shape=(2, 5, 5), dtype=float32, numpy=\n",
              "array([[[ 0.12902743,  0.0462096 ,  0.43523666,  0.07765377,\n",
              "         -0.0581458 ],\n",
              "        [-0.06905496, -0.258753  ,  0.3307778 , -0.18810508,\n",
              "          0.15531966],\n",
              "        [ 0.10624692,  0.08992288,  0.47047567,  0.06138881,\n",
              "         -0.12999456],\n",
              "        [ 0.16471966,  0.45373926,  0.6713143 ,  0.19742939,\n",
              "         -0.54451096],\n",
              "        [ 0.15943927,  0.4444426 ,  0.68074197,  0.20774072,\n",
              "         -0.5741728 ]],\n",
              "\n",
              "       [[ 0.32199624, -0.43747318,  0.17340967,  0.32184076,\n",
              "          0.6258493 ],\n",
              "        [-0.00936091, -0.16986762,  0.02526092,  0.04037567,\n",
              "          0.20014098],\n",
              "        [ 0.08360109, -0.53183395,  0.14150728,  0.05492305,\n",
              "          0.4996264 ],\n",
              "        [ 0.32626498, -0.50333583,  0.17248936,  0.3192123 ,\n",
              "          0.66177547],\n",
              "        [ 0.32626498, -0.50333583,  0.17248936,  0.3192123 ,\n",
              "          0.66177547]]], dtype=float32)>"
            ]
          },
          "metadata": {
            "tags": []
          },
          "execution_count": 112
        }
      ]
    },
    {
      "cell_type": "code",
      "metadata": {
        "id": "ZqJWz2uIYPiQ"
      },
      "source": [
        "class DotProductAttention(tf.keras.layers.Layer):\n",
        "    def __init__(self, **kwargs):\n",
        "        super().__init__(**kwargs)\n",
        "\n",
        "    def call(self, inputs):\n",
        "        Q, K, V = inputs\n",
        "        #####################################\n",
        "        # attention score(dot-product)\n",
        "        attn_score = tf.matmul(Q, K, transpose_b=True)\n",
        "        # attention prob\n",
        "        attn_prob = tf.nn.softmax(attn_score)\n",
        "        # weighted sum\n",
        "        attn_out = tf.matmul(attn_prob, V)\n",
        "        #####################################\n",
        "        return attn_out"
      ],
      "execution_count": 113,
      "outputs": []
    },
    {
      "cell_type": "code",
      "metadata": {
        "id": "5rsUvTC6Y4hM",
        "colab": {
          "base_uri": "https://localhost:8080/"
        },
        "outputId": "1aac2ad2-e816-409a-ef28-814aa45c5843"
      },
      "source": [
        "attention = DotProductAttention()\n",
        "attention((Q, K, V))"
      ],
      "execution_count": 114,
      "outputs": [
        {
          "output_type": "execute_result",
          "data": {
            "text/plain": [
              "<tf.Tensor: shape=(2, 5, 5), dtype=float32, numpy=\n",
              "array([[[ 0.12902743,  0.0462096 ,  0.43523666,  0.07765377,\n",
              "         -0.0581458 ],\n",
              "        [-0.06905496, -0.258753  ,  0.3307778 , -0.18810508,\n",
              "          0.15531966],\n",
              "        [ 0.10624692,  0.08992288,  0.47047567,  0.06138881,\n",
              "         -0.12999456],\n",
              "        [ 0.16471966,  0.45373926,  0.6713143 ,  0.19742939,\n",
              "         -0.54451096],\n",
              "        [ 0.15943927,  0.4444426 ,  0.68074197,  0.20774072,\n",
              "         -0.5741728 ]],\n",
              "\n",
              "       [[ 0.32199624, -0.43747318,  0.17340967,  0.32184076,\n",
              "          0.6258493 ],\n",
              "        [-0.00936091, -0.16986762,  0.02526092,  0.04037567,\n",
              "          0.20014098],\n",
              "        [ 0.08360109, -0.53183395,  0.14150728,  0.05492305,\n",
              "          0.4996264 ],\n",
              "        [ 0.32626498, -0.50333583,  0.17248936,  0.3192123 ,\n",
              "          0.66177547],\n",
              "        [ 0.32626498, -0.50333583,  0.17248936,  0.3192123 ,\n",
              "          0.66177547]]], dtype=float32)>"
            ]
          },
          "metadata": {
            "tags": []
          },
          "execution_count": 114
        }
      ]
    },
    {
      "cell_type": "markdown",
      "metadata": {
        "id": "D-bjMMvkBRLU"
      },
      "source": [
        "# 모델링"
      ]
    },
    {
      "cell_type": "code",
      "metadata": {
        "id": "9h-hm9yHsDbr",
        "colab": {
          "base_uri": "https://localhost:8080/"
        },
        "outputId": "18e1ee0d-62eb-4c57-9578-03e6f3b384fd"
      },
      "source": [
        "# word embedding\n",
        "hidden_enc = embedding(train_enc_inputs)  # (bs, n_enc_seq, 5)\n",
        "hidden_dec = embedding(train_dec_inputs)  # (bs, n_dec_seq, 5)\n",
        "hidden_enc, hidden_dec"
      ],
      "execution_count": 115,
      "outputs": [
        {
          "output_type": "execute_result",
          "data": {
            "text/plain": [
              "(<tf.Tensor: shape=(2, 4, 5), dtype=float32, numpy=\n",
              " array([[[ 0.2, -0.9,  0. ,  0.2,  0.7],\n",
              "         [-0.6, -0.7,  0.3, -0.8,  0.2],\n",
              "         [ 0.2,  0.8,  0.5, -0.2,  0.1],\n",
              "         [ 0.2,  0.5,  0.8,  0.4, -0.9]],\n",
              " \n",
              "        [[ 0.2, -0.9,  0. ,  0.2,  0.7],\n",
              "         [-0.6, -0.7,  0.3, -0.8,  0.2],\n",
              "         [-0.4,  0.4, -0.3, -0.2, -0.5],\n",
              "         [ 0.6, -0.3,  0.3,  0.6,  0.8]]], dtype=float32)>,\n",
              " <tf.Tensor: shape=(2, 5, 5), dtype=float32, numpy=\n",
              " array([[[ 0.7,  0. ,  0.6,  0.7,  0.3],\n",
              "         [ 0.3, -0.4,  0.8, -0.4,  0.4],\n",
              "         [ 0.7,  0. , -0.1,  0.3, -0.3],\n",
              "         [ 0.3,  0.6,  0.8,  0.5, -0.7],\n",
              "         [ 0.2,  0.5,  0.8,  0.4, -0.9]],\n",
              " \n",
              "        [[ 0.7,  0. ,  0.6,  0.7,  0.3],\n",
              "         [ 0.3,  0.6,  0.8,  0.5, -0.7],\n",
              "         [-0.6, -0.4,  0.5,  0.6,  0.6],\n",
              "         [ 0.6, -0.3,  0.3,  0.6,  0.8],\n",
              "         [ 0.6, -0.3,  0.3,  0.6,  0.8]]], dtype=float32)>)"
            ]
          },
          "metadata": {
            "tags": []
          },
          "execution_count": 115
        }
      ]
    },
    {
      "cell_type": "code",
      "metadata": {
        "id": "0sPE6mN6rjVI",
        "colab": {
          "base_uri": "https://localhost:8080/"
        },
        "outputId": "a20d9977-08c5-4476-8610-b92329aa9266"
      },
      "source": [
        "# encoder lstm\n",
        "fw_cell = tf.keras.layers.LSTM(units=4, return_state=True, return_sequences = True)\n",
        "bw_cell = tf.keras.layers.LSTM(units=4, go_backwards=True, return_state=True, return_sequences = True)\n",
        "lstm_enc = tf.keras.layers.Bidirectional(fw_cell, backward_layer=bw_cell)\n",
        "hidden_enc, fw_h, fw_c, bw_h, bw_c = lstm_enc(hidden_enc)  # (bs, d_model * 2), (bs, d_model), (bs, d_model), (bs, d_model), (bs, d_model)\n",
        "hidden_enc.shape, fw_h.shape, fw_c.shape, bw_h.shape, bw_c.shape"
      ],
      "execution_count": 116,
      "outputs": [
        {
          "output_type": "execute_result",
          "data": {
            "text/plain": [
              "(TensorShape([2, 4, 8]),\n",
              " TensorShape([2, 4]),\n",
              " TensorShape([2, 4]),\n",
              " TensorShape([2, 4]),\n",
              " TensorShape([2, 4]))"
            ]
          },
          "metadata": {
            "tags": []
          },
          "execution_count": 116
        }
      ]
    },
    {
      "cell_type": "code",
      "metadata": {
        "id": "WjINyjN_ryYS",
        "colab": {
          "base_uri": "https://localhost:8080/"
        },
        "outputId": "6dd24d7e-b1a4-4e34-8575-34605003331f"
      },
      "source": [
        "# concat hidden & cell\n",
        "s_h = tf.concat([fw_h, bw_h], axis=-1)  # (bs, d_model * 2)\n",
        "s_c = tf.concat([fw_c, bw_c], axis=-1)  # (bs, d_model * 2)\n",
        "s_h.shape, s_c.shape"
      ],
      "execution_count": 117,
      "outputs": [
        {
          "output_type": "execute_result",
          "data": {
            "text/plain": [
              "(TensorShape([2, 8]), TensorShape([2, 8]))"
            ]
          },
          "metadata": {
            "tags": []
          },
          "execution_count": 117
        }
      ]
    },
    {
      "cell_type": "code",
      "metadata": {
        "id": "Jm8UyN8hr2HR",
        "colab": {
          "base_uri": "https://localhost:8080/"
        },
        "outputId": "5173bf95-4350-4498-99f3-c24b5916d9fb"
      },
      "source": [
        "# decoder LSTM\n",
        "lstm_dec = tf.keras.layers.LSTM(units=8, return_sequences=True)\n",
        "hidden_dec = lstm_dec(hidden_dec, initial_state=[s_h, s_c])  # (bs, n_dec_seq, d_model)\n",
        "hidden_dec.shape"
      ],
      "execution_count": 118,
      "outputs": [
        {
          "output_type": "execute_result",
          "data": {
            "text/plain": [
              "TensorShape([2, 5, 8])"
            ]
          },
          "metadata": {
            "tags": []
          },
          "execution_count": 118
        }
      ]
    },
    {
      "cell_type": "code",
      "metadata": {
        "id": "o2MF4uCHsX8L",
        "colab": {
          "base_uri": "https://localhost:8080/"
        },
        "outputId": "2578f94f-51a5-43f0-8fd7-c16c53a2d649"
      },
      "source": [
        "# attention\r\n",
        "attention = DotProductAttention()\r\n",
        "attn_out = attention((hidden_dec, hidden_enc, hidden_enc))\r\n",
        "attn_out.shape"
      ],
      "execution_count": 119,
      "outputs": [
        {
          "output_type": "execute_result",
          "data": {
            "text/plain": [
              "TensorShape([2, 5, 8])"
            ]
          },
          "metadata": {
            "tags": []
          },
          "execution_count": 119
        }
      ]
    },
    {
      "cell_type": "code",
      "metadata": {
        "id": "poyo-V79spZD",
        "colab": {
          "base_uri": "https://localhost:8080/"
        },
        "outputId": "96cef4cf-748f-45ac-9e4f-4ba91f2463d6"
      },
      "source": [
        "# concat output\r\n",
        "dec_out = tf.concat([attn_out, hidden_dec], axis = -1)\r\n",
        "dec_out.shape"
      ],
      "execution_count": 120,
      "outputs": [
        {
          "output_type": "execute_result",
          "data": {
            "text/plain": [
              "TensorShape([2, 5, 16])"
            ]
          },
          "metadata": {
            "tags": []
          },
          "execution_count": 120
        }
      ]
    },
    {
      "cell_type": "code",
      "metadata": {
        "id": "3vEkJI5ossNJ",
        "colab": {
          "base_uri": "https://localhost:8080/"
        },
        "outputId": "58fe875e-330d-465a-f1ce-2d2391d25d90"
      },
      "source": [
        "# 다음단어 예측\n",
        "dense_out = tf.keras.layers.Dense(units=len(word_to_id), activation=tf.nn.softmax)\n",
        "outputs = dense_out(dec_out)  # (bs, n_dec_seq, n_vocab)\n",
        "outputs.shape"
      ],
      "execution_count": 121,
      "outputs": [
        {
          "output_type": "execute_result",
          "data": {
            "text/plain": [
              "TensorShape([2, 5, 13])"
            ]
          },
          "metadata": {
            "tags": []
          },
          "execution_count": 121
        }
      ]
    },
    {
      "cell_type": "code",
      "metadata": {
        "id": "in7q0WMfm64D"
      },
      "source": [
        "def build_model(n_vocab, d_model, n_enc_seq, n_dec_seq):\n",
        "    \"\"\"\n",
        "    seq2seq 모델\n",
        "    :param n_vocab: vocabulary 단어 수\n",
        "    :param d_model: 단어를 의미하는 벡터의 차원 수\n",
        "    :param n_enc_seq: encoder 문장 길이 (단어 수)\n",
        "    :param n_dec_seq: decoder 문장 길이 (단어 수)\n",
        "    \"\"\"\n",
        "    inputs_enc = tf.keras.layers.Input((n_enc_seq,))  # (bs, n_enc_seq)\n",
        "    inputs_dec = tf.keras.layers.Input((n_dec_seq,))  # (bs, n_dec_seq)\n",
        "    ################################################\n",
        "    # 입력 단어를 vector로 변환\n",
        "    embedding = tf.keras.layers.Embedding(n_vocab, d_model)\n",
        "    hidden_enc = embedding(inputs_enc)  # (bs, n_enc_seq, d_model)\n",
        "    hidden_dec = embedding(inputs_dec)  # (bs, n_dec_seq, d_model)\n",
        "\n",
        "    # Encoder LSTM (uni-direction, bi-direction 가능)\n",
        "    fw_cell = tf.keras.layers.LSTM(units=d_model, return_state=True, return_sequences=True)\n",
        "    bw_cell = tf.keras.layers.LSTM(units=d_model, go_backwards=True, return_state=True, return_sequences=True)\n",
        "    lstm_enc = tf.keras.layers.Bidirectional(fw_cell, backward_layer=bw_cell)\n",
        "    hidden_enc, fw_h, fw_c, bw_h, bw_c = lstm_enc(hidden_enc)  # (bs, d_model * 2), (bs, d_model), (bs, d_model), (bs, d_model), (bs, d_model)\n",
        "\n",
        "    # Concatenate hidden states and cell states\n",
        "    s_h = tf.concat([fw_h, bw_h], axis=-1)  # (bs, d_model * 2)\n",
        "    s_c = tf.concat([fw_c, bw_c], axis=-1)  # (bs, d_model * 2)\n",
        "\n",
        "    # Decoder LSTM (uni-direction만 가능)\n",
        "    lstm_dec = tf.keras.layers.LSTM(units=d_model * 2, return_sequences=True)\n",
        "    hidden_dec = lstm_dec(hidden_dec, initial_state=[s_h, s_c])  # (bs, n_dec_seq, d_model)\n",
        "    \n",
        "    # attention\n",
        "    attention = DotProductAttention()\n",
        "    attn_out = attention((hidden_dec, hidden_enc, hidden_enc))\n",
        "\n",
        "    # concat output\n",
        "    dec_out = tf.concat([attn_out, hidden_dec], axis = -1)\n",
        "\n",
        "    # 다음단어 예측\n",
        "    dense_out = tf.keras.layers.Dense(units=n_vocab, activation=tf.nn.softmax)\n",
        "    outputs = dense_out(hidden_dec)  # (bs, n_dec_seq, n_vocab)\n",
        "    ################################################\n",
        "    # 학습할 모델 선언\n",
        "    model = tf.keras.Model(inputs=(inputs_enc, inputs_dec), outputs=outputs)\n",
        "    return model"
      ],
      "execution_count": 122,
      "outputs": []
    },
    {
      "cell_type": "code",
      "metadata": {
        "id": "H8Bkh2pYB8zp",
        "colab": {
          "base_uri": "https://localhost:8080/",
          "height": 354
        },
        "outputId": "e90f9bf6-d77d-46b2-9a5a-e3a8953a887a"
      },
      "source": [
        "# 모델 생성\n",
        "model = build_model(len(vocab), d_model, n_enc_seq, n_dec_seq)\n",
        "# 모델 내용 그래프 출력\n",
        "tf.keras.utils.plot_model(model, 'model.png', show_shapes=True)"
      ],
      "execution_count": 123,
      "outputs": [
        {
          "output_type": "execute_result",
          "data": {
            "image/png": "[encoded data removed]",
            "text/plain": [
              "<IPython.core.display.Image object>"
            ]
          },
          "metadata": {
            "tags": []
          },
          "execution_count": 123
        }
      ]
    },
    {
      "cell_type": "markdown",
      "metadata": {
        "id": "XwriCkq_R1Lc"
      },
      "source": [
        "# Vocabulary & config"
      ]
    },
    {
      "cell_type": "code",
      "metadata": {
        "id": "2H0BLydCb7lg",
        "colab": {
          "base_uri": "https://localhost:8080/"
        },
        "outputId": "811df735-5fbb-493b-c4db-b231013d67b2"
      },
      "source": [
        "# vocab loading\n",
        "vocab = spm.SentencePieceProcessor()\n",
        "vocab.load(os.path.join(data_dir, 'ko_32000.model'))"
      ],
      "execution_count": 124,
      "outputs": [
        {
          "output_type": "execute_result",
          "data": {
            "text/plain": [
              "True"
            ]
          },
          "metadata": {
            "tags": []
          },
          "execution_count": 124
        }
      ]
    },
    {
      "cell_type": "code",
      "metadata": {
        "id": "0ETZ19flTRmt"
      },
      "source": [
        "n_vocab = len(vocab)  # number of vocabulary\n",
        "n_enc_seq = 32  # number of sequence 1\n",
        "n_dec_seq = 40  # number of sequence 2\n",
        "d_model = 256  # dimension of model"
      ],
      "execution_count": 90,
      "outputs": []
    },
    {
      "cell_type": "markdown",
      "metadata": {
        "id": "kTgzpx2Wl6uv"
      },
      "source": [
        "# Loss & Acc"
      ]
    },
    {
      "cell_type": "code",
      "metadata": {
        "id": "hQRKhodYtQHr"
      },
      "source": [
        "def lm_loss(y_true, y_pred):\n",
        "    \"\"\"\n",
        "    pad 부분을 제외하고 loss를 계산하는 함수\n",
        "    :param y_true: 정답\n",
        "    :param y_pred: 예측 값\n",
        "    :retrun loss: pad 부분이 제외된 loss 값\n",
        "    \"\"\"\n",
        "    # loss = sparse_entropy = tf.keras.losses.SparseCategoricalCrossentropy()(y_true, y_pred)\n",
        "    loss = tf.keras.losses.SparseCategoricalCrossentropy(reduction=tf.keras.losses.Reduction.NONE)(y_true, y_pred)\n",
        "    mask = tf.not_equal(y_true, 0)\n",
        "    mask = tf.cast(mask, tf.float32)\n",
        "    # print(mask)\n",
        "    loss *= mask\n",
        "    return loss"
      ],
      "execution_count": 125,
      "outputs": []
    },
    {
      "cell_type": "code",
      "metadata": {
        "id": "xQqs7xzA3N3Q"
      },
      "source": [
        "def lm_acc(y_true, y_pred):\n",
        "    \"\"\"\n",
        "    pad 부분을 제외하고 accuracy를 계산하는 함수\n",
        "    :param y_true: 정답\n",
        "    :param y_pred: 예측 값\n",
        "    :retrun loss: pad 부분이 제외된 accuracy 값\n",
        "    \"\"\"\n",
        "    y_true = tf.cast(y_true, tf.float32)\n",
        "    # print(y_true)\n",
        "    y_pred_class = tf.cast(tf.argmax(y_pred, axis=-1), tf.float32)\n",
        "    # print(y_pred_class)\n",
        "    matches = tf.cast(tf.equal(y_true, y_pred_class), tf.float32)\n",
        "    # print(matches)\n",
        "    mask = tf.not_equal(y_true, 0)\n",
        "    mask = tf.cast(mask, tf.float32)\n",
        "    # print(mask)\n",
        "    matches *= mask\n",
        "    # print(matches)\n",
        "    # accuracy = tf.reduce_sum(matches) / tf.maximum(tf.reduce_sum(tf.ones_like(matches)), 1)\n",
        "    accuracy = tf.reduce_sum(matches) / tf.maximum(tf.reduce_sum(mask), 1)\n",
        "    return accuracy"
      ],
      "execution_count": 126,
      "outputs": []
    },
    {
      "cell_type": "markdown",
      "metadata": {
        "id": "gcG7zBAr_R_4"
      },
      "source": [
        "# Sample Data Project"
      ]
    },
    {
      "cell_type": "markdown",
      "metadata": {
        "id": "jv0OPyaKSpjw"
      },
      "source": [
        "## Data\n"
      ]
    },
    {
      "cell_type": "code",
      "metadata": {
        "id": "98u39IsbSoBk",
        "colab": {
          "base_uri": "https://localhost:8080/",
          "height": 402
        },
        "outputId": "d5aca238-e529-4997-8f8e-c73c454afb4a"
      },
      "source": [
        "df_train = pd.read_csv(os.path.join(songys_dir, 'ChatbotData.csv'))\n",
        "df_train"
      ],
      "execution_count": 127,
      "outputs": [
        {
          "output_type": "execute_result",
          "data": {
            "text/html": [
              "<div>\n",
              "<style scoped>\n",
              "    .dataframe tbody tr th:only-of-type {\n",
              "        vertical-align: middle;\n",
              "    }\n",
              "\n",
              "    .dataframe tbody tr th {\n",
              "        vertical-align: top;\n",
              "    }\n",
              "\n",
              "    .dataframe thead th {\n",
              "        text-align: right;\n",
              "    }\n",
              "</style>\n",
              "<table border=\"1\" class=\"dataframe\">\n",
              "  <thead>\n",
              "    <tr style=\"text-align: right;\">\n",
              "      <th></th>\n",
              "      <th>Q</th>\n",
              "      <th>A</th>\n",
              "      <th>label</th>\n",
              "    </tr>\n",
              "  </thead>\n",
              "  <tbody>\n",
              "    <tr>\n",
              "      <th>0</th>\n",
              "      <td>12시 땡!</td>\n",
              "      <td>하루가 또 가네요.</td>\n",
              "      <td>0</td>\n",
              "    </tr>\n",
              "    <tr>\n",
              "      <th>1</th>\n",
              "      <td>1지망 학교 떨어졌어</td>\n",
              "      <td>위로해 드립니다.</td>\n",
              "      <td>0</td>\n",
              "    </tr>\n",
              "    <tr>\n",
              "      <th>2</th>\n",
              "      <td>3박4일 놀러가고 싶다</td>\n",
              "      <td>여행은 언제나 좋죠.</td>\n",
              "      <td>0</td>\n",
              "    </tr>\n",
              "    <tr>\n",
              "      <th>3</th>\n",
              "      <td>3박4일 정도 놀러가고 싶다</td>\n",
              "      <td>여행은 언제나 좋죠.</td>\n",
              "      <td>0</td>\n",
              "    </tr>\n",
              "    <tr>\n",
              "      <th>4</th>\n",
              "      <td>PPL 심하네</td>\n",
              "      <td>눈살이 찌푸려지죠.</td>\n",
              "      <td>0</td>\n",
              "    </tr>\n",
              "    <tr>\n",
              "      <th>...</th>\n",
              "      <td>...</td>\n",
              "      <td>...</td>\n",
              "      <td>...</td>\n",
              "    </tr>\n",
              "    <tr>\n",
              "      <th>11818</th>\n",
              "      <td>훔쳐보는 것도 눈치 보임.</td>\n",
              "      <td>티가 나니까 눈치가 보이는 거죠!</td>\n",
              "      <td>2</td>\n",
              "    </tr>\n",
              "    <tr>\n",
              "      <th>11819</th>\n",
              "      <td>훔쳐보는 것도 눈치 보임.</td>\n",
              "      <td>훔쳐보는 거 티나나봐요.</td>\n",
              "      <td>2</td>\n",
              "    </tr>\n",
              "    <tr>\n",
              "      <th>11820</th>\n",
              "      <td>흑기사 해주는 짝남.</td>\n",
              "      <td>설렜겠어요.</td>\n",
              "      <td>2</td>\n",
              "    </tr>\n",
              "    <tr>\n",
              "      <th>11821</th>\n",
              "      <td>힘든 연애 좋은 연애라는게 무슨 차이일까?</td>\n",
              "      <td>잘 헤어질 수 있는 사이 여부인 거 같아요.</td>\n",
              "      <td>2</td>\n",
              "    </tr>\n",
              "    <tr>\n",
              "      <th>11822</th>\n",
              "      <td>힘들어서 결혼할까봐</td>\n",
              "      <td>도피성 결혼은 하지 않길 바라요.</td>\n",
              "      <td>2</td>\n",
              "    </tr>\n",
              "  </tbody>\n",
              "</table>\n",
              "<p>11823 rows × 3 columns</p>\n",
              "</div>"
            ],
            "text/plain": [
              "                             Q                         A  label\n",
              "0                       12시 땡!                하루가 또 가네요.      0\n",
              "1                  1지망 학교 떨어졌어                 위로해 드립니다.      0\n",
              "2                 3박4일 놀러가고 싶다               여행은 언제나 좋죠.      0\n",
              "3              3박4일 정도 놀러가고 싶다               여행은 언제나 좋죠.      0\n",
              "4                      PPL 심하네                눈살이 찌푸려지죠.      0\n",
              "...                        ...                       ...    ...\n",
              "11818           훔쳐보는 것도 눈치 보임.        티가 나니까 눈치가 보이는 거죠!      2\n",
              "11819           훔쳐보는 것도 눈치 보임.             훔쳐보는 거 티나나봐요.      2\n",
              "11820              흑기사 해주는 짝남.                    설렜겠어요.      2\n",
              "11821  힘든 연애 좋은 연애라는게 무슨 차이일까?  잘 헤어질 수 있는 사이 여부인 거 같아요.      2\n",
              "11822               힘들어서 결혼할까봐        도피성 결혼은 하지 않길 바라요.      2\n",
              "\n",
              "[11823 rows x 3 columns]"
            ]
          },
          "metadata": {
            "tags": []
          },
          "execution_count": 127
        }
      ]
    },
    {
      "cell_type": "code",
      "metadata": {
        "id": "FPVe-1M7tJyO",
        "colab": {
          "base_uri": "https://localhost:8080/",
          "height": 402
        },
        "outputId": "614cadbd-a028-40d4-8136-750cc0de6f13"
      },
      "source": [
        "df_train = df_train.dropna()\n",
        "df_train"
      ],
      "execution_count": 128,
      "outputs": [
        {
          "output_type": "execute_result",
          "data": {
            "text/html": [
              "<div>\n",
              "<style scoped>\n",
              "    .dataframe tbody tr th:only-of-type {\n",
              "        vertical-align: middle;\n",
              "    }\n",
              "\n",
              "    .dataframe tbody tr th {\n",
              "        vertical-align: top;\n",
              "    }\n",
              "\n",
              "    .dataframe thead th {\n",
              "        text-align: right;\n",
              "    }\n",
              "</style>\n",
              "<table border=\"1\" class=\"dataframe\">\n",
              "  <thead>\n",
              "    <tr style=\"text-align: right;\">\n",
              "      <th></th>\n",
              "      <th>Q</th>\n",
              "      <th>A</th>\n",
              "      <th>label</th>\n",
              "    </tr>\n",
              "  </thead>\n",
              "  <tbody>\n",
              "    <tr>\n",
              "      <th>0</th>\n",
              "      <td>12시 땡!</td>\n",
              "      <td>하루가 또 가네요.</td>\n",
              "      <td>0</td>\n",
              "    </tr>\n",
              "    <tr>\n",
              "      <th>1</th>\n",
              "      <td>1지망 학교 떨어졌어</td>\n",
              "      <td>위로해 드립니다.</td>\n",
              "      <td>0</td>\n",
              "    </tr>\n",
              "    <tr>\n",
              "      <th>2</th>\n",
              "      <td>3박4일 놀러가고 싶다</td>\n",
              "      <td>여행은 언제나 좋죠.</td>\n",
              "      <td>0</td>\n",
              "    </tr>\n",
              "    <tr>\n",
              "      <th>3</th>\n",
              "      <td>3박4일 정도 놀러가고 싶다</td>\n",
              "      <td>여행은 언제나 좋죠.</td>\n",
              "      <td>0</td>\n",
              "    </tr>\n",
              "    <tr>\n",
              "      <th>4</th>\n",
              "      <td>PPL 심하네</td>\n",
              "      <td>눈살이 찌푸려지죠.</td>\n",
              "      <td>0</td>\n",
              "    </tr>\n",
              "    <tr>\n",
              "      <th>...</th>\n",
              "      <td>...</td>\n",
              "      <td>...</td>\n",
              "      <td>...</td>\n",
              "    </tr>\n",
              "    <tr>\n",
              "      <th>11818</th>\n",
              "      <td>훔쳐보는 것도 눈치 보임.</td>\n",
              "      <td>티가 나니까 눈치가 보이는 거죠!</td>\n",
              "      <td>2</td>\n",
              "    </tr>\n",
              "    <tr>\n",
              "      <th>11819</th>\n",
              "      <td>훔쳐보는 것도 눈치 보임.</td>\n",
              "      <td>훔쳐보는 거 티나나봐요.</td>\n",
              "      <td>2</td>\n",
              "    </tr>\n",
              "    <tr>\n",
              "      <th>11820</th>\n",
              "      <td>흑기사 해주는 짝남.</td>\n",
              "      <td>설렜겠어요.</td>\n",
              "      <td>2</td>\n",
              "    </tr>\n",
              "    <tr>\n",
              "      <th>11821</th>\n",
              "      <td>힘든 연애 좋은 연애라는게 무슨 차이일까?</td>\n",
              "      <td>잘 헤어질 수 있는 사이 여부인 거 같아요.</td>\n",
              "      <td>2</td>\n",
              "    </tr>\n",
              "    <tr>\n",
              "      <th>11822</th>\n",
              "      <td>힘들어서 결혼할까봐</td>\n",
              "      <td>도피성 결혼은 하지 않길 바라요.</td>\n",
              "      <td>2</td>\n",
              "    </tr>\n",
              "  </tbody>\n",
              "</table>\n",
              "<p>11823 rows × 3 columns</p>\n",
              "</div>"
            ],
            "text/plain": [
              "                             Q                         A  label\n",
              "0                       12시 땡!                하루가 또 가네요.      0\n",
              "1                  1지망 학교 떨어졌어                 위로해 드립니다.      0\n",
              "2                 3박4일 놀러가고 싶다               여행은 언제나 좋죠.      0\n",
              "3              3박4일 정도 놀러가고 싶다               여행은 언제나 좋죠.      0\n",
              "4                      PPL 심하네                눈살이 찌푸려지죠.      0\n",
              "...                        ...                       ...    ...\n",
              "11818           훔쳐보는 것도 눈치 보임.        티가 나니까 눈치가 보이는 거죠!      2\n",
              "11819           훔쳐보는 것도 눈치 보임.             훔쳐보는 거 티나나봐요.      2\n",
              "11820              흑기사 해주는 짝남.                    설렜겠어요.      2\n",
              "11821  힘든 연애 좋은 연애라는게 무슨 차이일까?  잘 헤어질 수 있는 사이 여부인 거 같아요.      2\n",
              "11822               힘들어서 결혼할까봐        도피성 결혼은 하지 않길 바라요.      2\n",
              "\n",
              "[11823 rows x 3 columns]"
            ]
          },
          "metadata": {
            "tags": []
          },
          "execution_count": 128
        }
      ]
    },
    {
      "cell_type": "code",
      "metadata": {
        "id": "lAZD9iR6_oO_",
        "colab": {
          "base_uri": "https://localhost:8080/",
          "height": 377
        },
        "outputId": "47bc7ef8-cfd7-431f-98a1-2ecce3ec92cf"
      },
      "source": [
        "# 랜덤하게 10개만 확인\n",
        "df_train = df_train.sample(10)\n",
        "df_train"
      ],
      "execution_count": 129,
      "outputs": [
        {
          "output_type": "execute_result",
          "data": {
            "text/html": [
              "<div>\n",
              "<style scoped>\n",
              "    .dataframe tbody tr th:only-of-type {\n",
              "        vertical-align: middle;\n",
              "    }\n",
              "\n",
              "    .dataframe tbody tr th {\n",
              "        vertical-align: top;\n",
              "    }\n",
              "\n",
              "    .dataframe thead th {\n",
              "        text-align: right;\n",
              "    }\n",
              "</style>\n",
              "<table border=\"1\" class=\"dataframe\">\n",
              "  <thead>\n",
              "    <tr style=\"text-align: right;\">\n",
              "      <th></th>\n",
              "      <th>Q</th>\n",
              "      <th>A</th>\n",
              "      <th>label</th>\n",
              "    </tr>\n",
              "  </thead>\n",
              "  <tbody>\n",
              "    <tr>\n",
              "      <th>9996</th>\n",
              "      <td>사랑한 만큼 배려해야했어</td>\n",
              "      <td>이제야 깨달았나봐요.</td>\n",
              "      <td>2</td>\n",
              "    </tr>\n",
              "    <tr>\n",
              "      <th>10749</th>\n",
              "      <td>연애하는데도 외로워</td>\n",
              "      <td>진정한 사랑을 찾아보세요.</td>\n",
              "      <td>2</td>\n",
              "    </tr>\n",
              "    <tr>\n",
              "      <th>473</th>\n",
              "      <td>나 노트북 사줘</td>\n",
              "      <td>노트북은 비싸요.</td>\n",
              "      <td>0</td>\n",
              "    </tr>\n",
              "    <tr>\n",
              "      <th>6841</th>\n",
              "      <td>아무리 기다려도 이젠 안돌아오나봐</td>\n",
              "      <td>그게 끝이라면 받아들여야 해요.</td>\n",
              "      <td>1</td>\n",
              "    </tr>\n",
              "    <tr>\n",
              "      <th>5696</th>\n",
              "      <td>기다리다 지친듯해</td>\n",
              "      <td>몸도 마음도 쉬세요.</td>\n",
              "      <td>1</td>\n",
              "    </tr>\n",
              "    <tr>\n",
              "      <th>8074</th>\n",
              "      <td>정말. 정말 쉽지가 않네. 이럴 땐 어떡해야 할까</td>\n",
              "      <td>마음 가는 대로 하세요.</td>\n",
              "      <td>1</td>\n",
              "    </tr>\n",
              "    <tr>\n",
              "      <th>6554</th>\n",
              "      <td>비오는날</td>\n",
              "      <td>마음이 가라 앉죠.</td>\n",
              "      <td>1</td>\n",
              "    </tr>\n",
              "    <tr>\n",
              "      <th>7746</th>\n",
              "      <td>이젠 붙잡을 수 도 없는 사람.</td>\n",
              "      <td>달라지는게 없다면 이런 상황이 더 나을지도 몰라요.</td>\n",
              "      <td>1</td>\n",
              "    </tr>\n",
              "    <tr>\n",
              "      <th>2196</th>\n",
              "      <td>비 오는 날은 만나서 뭐할까</td>\n",
              "      <td>실내 데이트가 좋겠네요.</td>\n",
              "      <td>0</td>\n",
              "    </tr>\n",
              "    <tr>\n",
              "      <th>7723</th>\n",
              "      <td>이제는 이별을 받아드리려고 합니다</td>\n",
              "      <td>이별을 받아들이는 것도 중요해요.</td>\n",
              "      <td>1</td>\n",
              "    </tr>\n",
              "  </tbody>\n",
              "</table>\n",
              "</div>"
            ],
            "text/plain": [
              "                                 Q                             A  label\n",
              "9996                 사랑한 만큼 배려해야했어                   이제야 깨달았나봐요.      2\n",
              "10749                   연애하는데도 외로워                진정한 사랑을 찾아보세요.      2\n",
              "473                       나 노트북 사줘                     노트북은 비싸요.      0\n",
              "6841            아무리 기다려도 이젠 안돌아오나봐             그게 끝이라면 받아들여야 해요.      1\n",
              "5696                     기다리다 지친듯해                   몸도 마음도 쉬세요.      1\n",
              "8074   정말. 정말 쉽지가 않네. 이럴 땐 어떡해야 할까                 마음 가는 대로 하세요.      1\n",
              "6554                          비오는날                    마음이 가라 앉죠.      1\n",
              "7746             이젠 붙잡을 수 도 없는 사람.  달라지는게 없다면 이런 상황이 더 나을지도 몰라요.      1\n",
              "2196               비 오는 날은 만나서 뭐할까                 실내 데이트가 좋겠네요.      0\n",
              "7723            이제는 이별을 받아드리려고 합니다            이별을 받아들이는 것도 중요해요.      1"
            ]
          },
          "metadata": {
            "tags": []
          },
          "execution_count": 129
        }
      ]
    },
    {
      "cell_type": "code",
      "metadata": {
        "id": "pkzwlvcVS1cj"
      },
      "source": [
        "def load_data(df, n_enc_seq, n_dec_seq):\n",
        "    \"\"\"\n",
        "    Quora 학습 데이터 생성\n",
        "    :param df: data frame\n",
        "    :param n_enc_seq: number of encoder sequence\n",
        "    :param n_dec_seq: number of decoder sequence\n",
        "    :return enc_inputs: encoder input data\n",
        "    :return dec_inputs: decoder input data\n",
        "    :return labels: label data\n",
        "    \"\"\"\n",
        "    n_enc_max = n_enc_seq\n",
        "    n_dec_max = n_dec_seq - 1\n",
        "    enc_inputs = np.zeros((len(df), n_enc_seq)).astype(np.int32)\n",
        "    dec_inputs = np.zeros((len(df), n_dec_seq)).astype(np.int32)\n",
        "    labels = np.zeros((len(df), n_dec_seq)).astype(np.int32)\n",
        "    index = 0\n",
        "    for i, row in tqdm(df.iterrows(), total=len(df)):\n",
        "        # tokens 저장\n",
        "        print()\n",
        "        Q = row['Q']\n",
        "        A = row['A']\n",
        "        print(Q, '/', A)\n",
        "\n",
        "        tokens_q = vocab.encode_as_pieces(Q)\n",
        "        print(len(tokens_q), ':', tokens_q)\n",
        "        tokens_a = vocab.encode_as_pieces(A)\n",
        "        print(len(tokens_a), ':', tokens_a)\n",
        "\n",
        "        tokens_ids_q = vocab.encode_as_ids(Q)[:n_enc_max]\n",
        "        print(len(tokens_ids_q), ':', tokens_ids_q)\n",
        "        tokens_ids_a = vocab.encode_as_ids(A)[:n_dec_max]\n",
        "        print(len(tokens_ids_a), ':', tokens_ids_a)\n",
        "\n",
        "        tokens_dec_in = [vocab.bos_id()] + tokens_ids_a\n",
        "        tokens_dec_out = tokens_ids_a + [vocab.eos_id()]\n",
        "\n",
        "        tokens_ids_q += [0] * (n_enc_seq - len(tokens_ids_q))\n",
        "        print(len(tokens_ids_q), ':', tokens_ids_q)\n",
        "        tokens_dec_in += [0] * (n_dec_seq - len(tokens_dec_in))\n",
        "        print(len(tokens_dec_in), ':', tokens_dec_in)\n",
        "        tokens_dec_out += [0] * (n_dec_seq - len(tokens_dec_out))\n",
        "        print(len(tokens_dec_out), ':', tokens_dec_out)\n",
        "\n",
        "        enc_inputs[index] = tokens_ids_q\n",
        "        dec_inputs[index] = tokens_dec_in\n",
        "        labels[index] = tokens_dec_out\n",
        "        index += 1\n",
        "    return enc_inputs, dec_inputs, labels"
      ],
      "execution_count": 130,
      "outputs": []
    },
    {
      "cell_type": "code",
      "metadata": {
        "id": "bfEwG-jgS4aN",
        "colab": {
          "base_uri": "https://localhost:8080/",
          "height": 1000,
          "referenced_widgets": [
            "be522c1ef8af4053a0c19284cf9eaa84",
            "9144c1564f734abfba7e593e9b6fd789",
            "ea97f4d1b30f40108bd9a208a41b25e4",
            "f40c848acbea423f8724b70ede9bb219",
            "17d514d7f40e4005aa4943f87f7a1f08",
            "d482893a6ac644fe8afebd225b80ee89",
            "cfa8aa390898408486eee253718cb646",
            "dc5bb0d7a68840b68552eea7f6992923"
          ]
        },
        "outputId": "53c4806c-f933-4c00-b3f1-d16dcd11e95b"
      },
      "source": [
        "# train data 생성\n",
        "train_enc_inputs, train_dec_inputs, train_labels = load_data(df_train, n_enc_seq, n_dec_seq)\n",
        "train_enc_inputs, train_dec_inputs, train_labels"
      ],
      "execution_count": 131,
      "outputs": [
        {
          "output_type": "display_data",
          "data": {
            "application/vnd.jupyter.widget-view+json": {
              "model_id": "be522c1ef8af4053a0c19284cf9eaa84",
              "version_minor": 0,
              "version_major": 2
            },
            "text/plain": [
              "HBox(children=(FloatProgress(value=0.0, max=10.0), HTML(value='')))"
            ]
          },
          "metadata": {
            "tags": []
          }
        },
        {
          "output_type": "stream",
          "text": [
            "\n",
            "사랑한 만큼 배려해야했어 / 이제야 깨달았나봐요.\n",
            "7 : ['▁사랑', '한', '▁만큼', '▁배려', '해야', '했', '어']\n",
            "9 : ['▁이제', '야', '▁깨', '달', '았', '나', '봐', '요', '.']\n",
            "7 : [1816, 33, 2881, 14519, 755, 5120, 110]\n",
            "9 : [3379, 173, 4221, 726, 9815, 58, 15346, 431, 7]\n",
            "32 : [1816, 33, 2881, 14519, 755, 5120, 110, 0, 0, 0, 0, 0, 0, 0, 0, 0, 0, 0, 0, 0, 0, 0, 0, 0, 0, 0, 0, 0, 0, 0, 0, 0]\n",
            "40 : [2, 3379, 173, 4221, 726, 9815, 58, 15346, 431, 7, 0, 0, 0, 0, 0, 0, 0, 0, 0, 0, 0, 0, 0, 0, 0, 0, 0, 0, 0, 0, 0, 0, 0, 0, 0, 0, 0, 0, 0, 0]\n",
            "40 : [3379, 173, 4221, 726, 9815, 58, 15346, 431, 7, 3, 0, 0, 0, 0, 0, 0, 0, 0, 0, 0, 0, 0, 0, 0, 0, 0, 0, 0, 0, 0, 0, 0, 0, 0, 0, 0, 0, 0, 0, 0]\n",
            "\n",
            "연애하는데도 외로워 / 진정한 사랑을 찾아보세요.\n",
            "6 : ['▁연애', '하는데', '도', '▁외', '로', '워']\n",
            "6 : ['▁진정한', '▁사랑을', '▁찾아', '보', '세요', '.']\n",
            "6 : [8256, 987, 32, 538, 21, 1384]\n",
            "6 : [9022, 5775, 2309, 191, 15319, 7]\n",
            "32 : [8256, 987, 32, 538, 21, 1384, 0, 0, 0, 0, 0, 0, 0, 0, 0, 0, 0, 0, 0, 0, 0, 0, 0, 0, 0, 0, 0, 0, 0, 0, 0, 0]\n",
            "40 : [2, 9022, 5775, 2309, 191, 15319, 7, 0, 0, 0, 0, 0, 0, 0, 0, 0, 0, 0, 0, 0, 0, 0, 0, 0, 0, 0, 0, 0, 0, 0, 0, 0, 0, 0, 0, 0, 0, 0, 0, 0]\n",
            "40 : [9022, 5775, 2309, 191, 15319, 7, 3, 0, 0, 0, 0, 0, 0, 0, 0, 0, 0, 0, 0, 0, 0, 0, 0, 0, 0, 0, 0, 0, 0, 0, 0, 0, 0, 0, 0, 0, 0, 0, 0, 0]\n",
            "\n",
            "나 노트북 사줘 / 노트북은 비싸요.\n",
            "4 : ['▁나', '▁노트북', '▁사', '줘']\n",
            "5 : ['▁노트북', '은', '▁비싸', '요', '.']\n",
            "4 : [339, 25427, 207, 14904]\n",
            "5 : [25427, 18, 22324, 431, 7]\n",
            "32 : [339, 25427, 207, 14904, 0, 0, 0, 0, 0, 0, 0, 0, 0, 0, 0, 0, 0, 0, 0, 0, 0, 0, 0, 0, 0, 0, 0, 0, 0, 0, 0, 0]\n",
            "40 : [2, 25427, 18, 22324, 431, 7, 0, 0, 0, 0, 0, 0, 0, 0, 0, 0, 0, 0, 0, 0, 0, 0, 0, 0, 0, 0, 0, 0, 0, 0, 0, 0, 0, 0, 0, 0, 0, 0, 0, 0]\n",
            "40 : [25427, 18, 22324, 431, 7, 3, 0, 0, 0, 0, 0, 0, 0, 0, 0, 0, 0, 0, 0, 0, 0, 0, 0, 0, 0, 0, 0, 0, 0, 0, 0, 0, 0, 0, 0, 0, 0, 0, 0, 0]\n",
            "\n",
            "아무리 기다려도 이젠 안돌아오나봐 / 그게 끝이라면 받아들여야 해요.\n",
            "10 : ['▁아무리', '▁기다려', '도', '▁이', '젠', '▁안', '돌아', '오', '나', '봐']\n",
            "9 : ['▁그', '게', '▁끝', '이라면', '▁받아들여', '야', '▁해', '요', '.']\n",
            "10 : [19228, 27953, 32, 29, 2201, 295, 26022, 177, 58, 15346]\n",
            "9 : [39, 128, 2793, 7107, 5015, 173, 210, 431, 7]\n",
            "32 : [19228, 27953, 32, 29, 2201, 295, 26022, 177, 58, 15346, 0, 0, 0, 0, 0, 0, 0, 0, 0, 0, 0, 0, 0, 0, 0, 0, 0, 0, 0, 0, 0, 0]\n",
            "40 : [2, 39, 128, 2793, 7107, 5015, 173, 210, 431, 7, 0, 0, 0, 0, 0, 0, 0, 0, 0, 0, 0, 0, 0, 0, 0, 0, 0, 0, 0, 0, 0, 0, 0, 0, 0, 0, 0, 0, 0, 0]\n",
            "40 : [39, 128, 2793, 7107, 5015, 173, 210, 431, 7, 3, 0, 0, 0, 0, 0, 0, 0, 0, 0, 0, 0, 0, 0, 0, 0, 0, 0, 0, 0, 0, 0, 0, 0, 0, 0, 0, 0, 0, 0, 0]\n",
            "\n",
            "기다리다 지친듯해 / 몸도 마음도 쉬세요.\n",
            "6 : ['▁기다리', '다', '▁지', '친', '듯', '해']\n",
            "7 : ['▁몸', '도', '▁마음', '도', '▁쉬', '세요', '.']\n",
            "6 : [12064, 50, 278, 1604, 6872, 61]\n",
            "7 : [1652, 32, 2851, 32, 4550, 15319, 7]\n",
            "32 : [12064, 50, 278, 1604, 6872, 61, 0, 0, 0, 0, 0, 0, 0, 0, 0, 0, 0, 0, 0, 0, 0, 0, 0, 0, 0, 0, 0, 0, 0, 0, 0, 0]\n",
            "40 : [2, 1652, 32, 2851, 32, 4550, 15319, 7, 0, 0, 0, 0, 0, 0, 0, 0, 0, 0, 0, 0, 0, 0, 0, 0, 0, 0, 0, 0, 0, 0, 0, 0, 0, 0, 0, 0, 0, 0, 0, 0]\n",
            "40 : [1652, 32, 2851, 32, 4550, 15319, 7, 3, 0, 0, 0, 0, 0, 0, 0, 0, 0, 0, 0, 0, 0, 0, 0, 0, 0, 0, 0, 0, 0, 0, 0, 0, 0, 0, 0, 0, 0, 0, 0, 0]\n",
            "\n",
            "정말. 정말 쉽지가 않네. 이럴 땐 어떡해야 할까 / 마음 가는 대로 하세요.\n",
            "18 : ['▁정말', '.', '▁정말', '▁쉽지', '가', '▁', '않', '네', '.', '▁이', '럴', '▁', '땐', '▁어', '떡', '해야', '▁할', '까']\n",
            "6 : ['▁마음', '▁가는', '▁대로', '▁하', '세요', '.']\n",
            "18 : [9653, 7, 9653, 15394, 19, 10, 7506, 343, 7, 29, 4897, 10, 26705, 492, 22526, 755, 276, 2657]\n",
            "6 : [2851, 2244, 7957, 379, 15319, 7]\n",
            "32 : [9653, 7, 9653, 15394, 19, 10, 7506, 343, 7, 29, 4897, 10, 26705, 492, 22526, 755, 276, 2657, 0, 0, 0, 0, 0, 0, 0, 0, 0, 0, 0, 0, 0, 0]\n",
            "40 : [2, 2851, 2244, 7957, 379, 15319, 7, 0, 0, 0, 0, 0, 0, 0, 0, 0, 0, 0, 0, 0, 0, 0, 0, 0, 0, 0, 0, 0, 0, 0, 0, 0, 0, 0, 0, 0, 0, 0, 0, 0]\n",
            "40 : [2851, 2244, 7957, 379, 15319, 7, 3, 0, 0, 0, 0, 0, 0, 0, 0, 0, 0, 0, 0, 0, 0, 0, 0, 0, 0, 0, 0, 0, 0, 0, 0, 0, 0, 0, 0, 0, 0, 0, 0, 0]\n",
            "\n",
            "비오는날 / 마음이 가라 앉죠.\n",
            "3 : ['▁비오', '는', '날']\n",
            "5 : ['▁마음이', '▁가라', '▁앉', '죠', '.']\n",
            "3 : [9953, 11, 1421]\n",
            "5 : [12043, 12798, 8129, 8319, 7]\n",
            "32 : [9953, 11, 1421, 0, 0, 0, 0, 0, 0, 0, 0, 0, 0, 0, 0, 0, 0, 0, 0, 0, 0, 0, 0, 0, 0, 0, 0, 0, 0, 0, 0, 0]\n",
            "40 : [2, 12043, 12798, 8129, 8319, 7, 0, 0, 0, 0, 0, 0, 0, 0, 0, 0, 0, 0, 0, 0, 0, 0, 0, 0, 0, 0, 0, 0, 0, 0, 0, 0, 0, 0, 0, 0, 0, 0, 0, 0]\n",
            "40 : [12043, 12798, 8129, 8319, 7, 3, 0, 0, 0, 0, 0, 0, 0, 0, 0, 0, 0, 0, 0, 0, 0, 0, 0, 0, 0, 0, 0, 0, 0, 0, 0, 0, 0, 0, 0, 0, 0, 0, 0, 0]\n",
            "\n",
            "이젠 붙잡을 수 도 없는 사람. / 달라지는게 없다면 이런 상황이 더 나을지도 몰라요.\n",
            "9 : ['▁이', '젠', '▁붙잡', '을', '▁수', '▁도', '▁없는', '▁사람', '.']\n",
            "14 : ['▁달라지', '는', '게', '▁없다', '면', '▁이런', '▁상황이', '▁더', '▁나', '을', '지도', '▁몰라', '요', '.']\n",
            "9 : [29, 2201, 9547, 16, 34, 275, 500, 1257, 7]\n",
            "14 : [17450, 11, 128, 488, 122, 1001, 5817, 149, 339, 16, 2889, 24290, 431, 7]\n",
            "32 : [29, 2201, 9547, 16, 34, 275, 500, 1257, 7, 0, 0, 0, 0, 0, 0, 0, 0, 0, 0, 0, 0, 0, 0, 0, 0, 0, 0, 0, 0, 0, 0, 0]\n",
            "40 : [2, 17450, 11, 128, 488, 122, 1001, 5817, 149, 339, 16, 2889, 24290, 431, 7, 0, 0, 0, 0, 0, 0, 0, 0, 0, 0, 0, 0, 0, 0, 0, 0, 0, 0, 0, 0, 0, 0, 0, 0, 0]\n",
            "40 : [17450, 11, 128, 488, 122, 1001, 5817, 149, 339, 16, 2889, 24290, 431, 7, 3, 0, 0, 0, 0, 0, 0, 0, 0, 0, 0, 0, 0, 0, 0, 0, 0, 0, 0, 0, 0, 0, 0, 0, 0, 0]\n",
            "\n",
            "비 오는 날은 만나서 뭐할까 / 실내 데이트가 좋겠네요.\n",
            "9 : ['▁비', '▁오는', '▁날', '은', '▁만나', '서', '▁뭐', '할', '까']\n",
            "8 : ['▁실내', '▁데이트', '가', '▁좋', '겠', '네', '요', '.']\n",
            "9 : [196, 8045, 673, 18, 2014, 70, 19999, 60, 2657]\n",
            "8 : [7185, 24710, 19, 10720, 12273, 343, 431, 7]\n",
            "32 : [196, 8045, 673, 18, 2014, 70, 19999, 60, 2657, 0, 0, 0, 0, 0, 0, 0, 0, 0, 0, 0, 0, 0, 0, 0, 0, 0, 0, 0, 0, 0, 0, 0]\n",
            "40 : [2, 7185, 24710, 19, 10720, 12273, 343, 431, 7, 0, 0, 0, 0, 0, 0, 0, 0, 0, 0, 0, 0, 0, 0, 0, 0, 0, 0, 0, 0, 0, 0, 0, 0, 0, 0, 0, 0, 0, 0, 0]\n",
            "40 : [7185, 24710, 19, 10720, 12273, 343, 431, 7, 3, 0, 0, 0, 0, 0, 0, 0, 0, 0, 0, 0, 0, 0, 0, 0, 0, 0, 0, 0, 0, 0, 0, 0, 0, 0, 0, 0, 0, 0, 0, 0]\n",
            "\n",
            "이제는 이별을 받아드리려고 합니다 / 이별을 받아들이는 것도 중요해요.\n",
            "9 : ['▁이제는', '▁이', '별', '을', '▁받아', '드리', '려고', '▁', '합니다']\n",
            "9 : ['▁이', '별', '을', '▁받아들이는', '▁것도', '▁중요', '해', '요', '.']\n",
            "9 : [20908, 29, 1086, 16, 747, 5537, 3670, 10, 5563]\n",
            "9 : [29, 1086, 16, 23577, 1800, 4367, 61, 431, 7]\n",
            "32 : [20908, 29, 1086, 16, 747, 5537, 3670, 10, 5563, 0, 0, 0, 0, 0, 0, 0, 0, 0, 0, 0, 0, 0, 0, 0, 0, 0, 0, 0, 0, 0, 0, 0]\n",
            "40 : [2, 29, 1086, 16, 23577, 1800, 4367, 61, 431, 7, 0, 0, 0, 0, 0, 0, 0, 0, 0, 0, 0, 0, 0, 0, 0, 0, 0, 0, 0, 0, 0, 0, 0, 0, 0, 0, 0, 0, 0, 0]\n",
            "40 : [29, 1086, 16, 23577, 1800, 4367, 61, 431, 7, 3, 0, 0, 0, 0, 0, 0, 0, 0, 0, 0, 0, 0, 0, 0, 0, 0, 0, 0, 0, 0, 0, 0, 0, 0, 0, 0, 0, 0, 0, 0]\n",
            "\n"
          ],
          "name": "stdout"
        },
        {
          "output_type": "execute_result",
          "data": {
            "text/plain": [
              "(array([[ 1816,    33,  2881, 14519,   755,  5120,   110,     0,     0,\n",
              "             0,     0,     0,     0,     0,     0,     0,     0,     0,\n",
              "             0,     0,     0,     0,     0,     0,     0,     0,     0,\n",
              "             0,     0,     0,     0,     0],\n",
              "        [ 8256,   987,    32,   538,    21,  1384,     0,     0,     0,\n",
              "             0,     0,     0,     0,     0,     0,     0,     0,     0,\n",
              "             0,     0,     0,     0,     0,     0,     0,     0,     0,\n",
              "             0,     0,     0,     0,     0],\n",
              "        [  339, 25427,   207, 14904,     0,     0,     0,     0,     0,\n",
              "             0,     0,     0,     0,     0,     0,     0,     0,     0,\n",
              "             0,     0,     0,     0,     0,     0,     0,     0,     0,\n",
              "             0,     0,     0,     0,     0],\n",
              "        [19228, 27953,    32,    29,  2201,   295, 26022,   177,    58,\n",
              "         15346,     0,     0,     0,     0,     0,     0,     0,     0,\n",
              "             0,     0,     0,     0,     0,     0,     0,     0,     0,\n",
              "             0,     0,     0,     0,     0],\n",
              "        [12064,    50,   278,  1604,  6872,    61,     0,     0,     0,\n",
              "             0,     0,     0,     0,     0,     0,     0,     0,     0,\n",
              "             0,     0,     0,     0,     0,     0,     0,     0,     0,\n",
              "             0,     0,     0,     0,     0],\n",
              "        [ 9653,     7,  9653, 15394,    19,    10,  7506,   343,     7,\n",
              "            29,  4897,    10, 26705,   492, 22526,   755,   276,  2657,\n",
              "             0,     0,     0,     0,     0,     0,     0,     0,     0,\n",
              "             0,     0,     0,     0,     0],\n",
              "        [ 9953,    11,  1421,     0,     0,     0,     0,     0,     0,\n",
              "             0,     0,     0,     0,     0,     0,     0,     0,     0,\n",
              "             0,     0,     0,     0,     0,     0,     0,     0,     0,\n",
              "             0,     0,     0,     0,     0],\n",
              "        [   29,  2201,  9547,    16,    34,   275,   500,  1257,     7,\n",
              "             0,     0,     0,     0,     0,     0,     0,     0,     0,\n",
              "             0,     0,     0,     0,     0,     0,     0,     0,     0,\n",
              "             0,     0,     0,     0,     0],\n",
              "        [  196,  8045,   673,    18,  2014,    70, 19999,    60,  2657,\n",
              "             0,     0,     0,     0,     0,     0,     0,     0,     0,\n",
              "             0,     0,     0,     0,     0,     0,     0,     0,     0,\n",
              "             0,     0,     0,     0,     0],\n",
              "        [20908,    29,  1086,    16,   747,  5537,  3670,    10,  5563,\n",
              "             0,     0,     0,     0,     0,     0,     0,     0,     0,\n",
              "             0,     0,     0,     0,     0,     0,     0,     0,     0,\n",
              "             0,     0,     0,     0,     0]], dtype=int32),\n",
              " array([[    2,  3379,   173,  4221,   726,  9815,    58, 15346,   431,\n",
              "             7,     0,     0,     0,     0,     0,     0,     0,     0,\n",
              "             0,     0,     0,     0,     0,     0,     0,     0,     0,\n",
              "             0,     0,     0,     0,     0,     0,     0,     0,     0,\n",
              "             0,     0,     0,     0],\n",
              "        [    2,  9022,  5775,  2309,   191, 15319,     7,     0,     0,\n",
              "             0,     0,     0,     0,     0,     0,     0,     0,     0,\n",
              "             0,     0,     0,     0,     0,     0,     0,     0,     0,\n",
              "             0,     0,     0,     0,     0,     0,     0,     0,     0,\n",
              "             0,     0,     0,     0],\n",
              "        [    2, 25427,    18, 22324,   431,     7,     0,     0,     0,\n",
              "             0,     0,     0,     0,     0,     0,     0,     0,     0,\n",
              "             0,     0,     0,     0,     0,     0,     0,     0,     0,\n",
              "             0,     0,     0,     0,     0,     0,     0,     0,     0,\n",
              "             0,     0,     0,     0],\n",
              "        [    2,    39,   128,  2793,  7107,  5015,   173,   210,   431,\n",
              "             7,     0,     0,     0,     0,     0,     0,     0,     0,\n",
              "             0,     0,     0,     0,     0,     0,     0,     0,     0,\n",
              "             0,     0,     0,     0,     0,     0,     0,     0,     0,\n",
              "             0,     0,     0,     0],\n",
              "        [    2,  1652,    32,  2851,    32,  4550, 15319,     7,     0,\n",
              "             0,     0,     0,     0,     0,     0,     0,     0,     0,\n",
              "             0,     0,     0,     0,     0,     0,     0,     0,     0,\n",
              "             0,     0,     0,     0,     0,     0,     0,     0,     0,\n",
              "             0,     0,     0,     0],\n",
              "        [    2,  2851,  2244,  7957,   379, 15319,     7,     0,     0,\n",
              "             0,     0,     0,     0,     0,     0,     0,     0,     0,\n",
              "             0,     0,     0,     0,     0,     0,     0,     0,     0,\n",
              "             0,     0,     0,     0,     0,     0,     0,     0,     0,\n",
              "             0,     0,     0,     0],\n",
              "        [    2, 12043, 12798,  8129,  8319,     7,     0,     0,     0,\n",
              "             0,     0,     0,     0,     0,     0,     0,     0,     0,\n",
              "             0,     0,     0,     0,     0,     0,     0,     0,     0,\n",
              "             0,     0,     0,     0,     0,     0,     0,     0,     0,\n",
              "             0,     0,     0,     0],\n",
              "        [    2, 17450,    11,   128,   488,   122,  1001,  5817,   149,\n",
              "           339,    16,  2889, 24290,   431,     7,     0,     0,     0,\n",
              "             0,     0,     0,     0,     0,     0,     0,     0,     0,\n",
              "             0,     0,     0,     0,     0,     0,     0,     0,     0,\n",
              "             0,     0,     0,     0],\n",
              "        [    2,  7185, 24710,    19, 10720, 12273,   343,   431,     7,\n",
              "             0,     0,     0,     0,     0,     0,     0,     0,     0,\n",
              "             0,     0,     0,     0,     0,     0,     0,     0,     0,\n",
              "             0,     0,     0,     0,     0,     0,     0,     0,     0,\n",
              "             0,     0,     0,     0],\n",
              "        [    2,    29,  1086,    16, 23577,  1800,  4367,    61,   431,\n",
              "             7,     0,     0,     0,     0,     0,     0,     0,     0,\n",
              "             0,     0,     0,     0,     0,     0,     0,     0,     0,\n",
              "             0,     0,     0,     0,     0,     0,     0,     0,     0,\n",
              "             0,     0,     0,     0]], dtype=int32),\n",
              " array([[ 3379,   173,  4221,   726,  9815,    58, 15346,   431,     7,\n",
              "             3,     0,     0,     0,     0,     0,     0,     0,     0,\n",
              "             0,     0,     0,     0,     0,     0,     0,     0,     0,\n",
              "             0,     0,     0,     0,     0,     0,     0,     0,     0,\n",
              "             0,     0,     0,     0],\n",
              "        [ 9022,  5775,  2309,   191, 15319,     7,     3,     0,     0,\n",
              "             0,     0,     0,     0,     0,     0,     0,     0,     0,\n",
              "             0,     0,     0,     0,     0,     0,     0,     0,     0,\n",
              "             0,     0,     0,     0,     0,     0,     0,     0,     0,\n",
              "             0,     0,     0,     0],\n",
              "        [25427,    18, 22324,   431,     7,     3,     0,     0,     0,\n",
              "             0,     0,     0,     0,     0,     0,     0,     0,     0,\n",
              "             0,     0,     0,     0,     0,     0,     0,     0,     0,\n",
              "             0,     0,     0,     0,     0,     0,     0,     0,     0,\n",
              "             0,     0,     0,     0],\n",
              "        [   39,   128,  2793,  7107,  5015,   173,   210,   431,     7,\n",
              "             3,     0,     0,     0,     0,     0,     0,     0,     0,\n",
              "             0,     0,     0,     0,     0,     0,     0,     0,     0,\n",
              "             0,     0,     0,     0,     0,     0,     0,     0,     0,\n",
              "             0,     0,     0,     0],\n",
              "        [ 1652,    32,  2851,    32,  4550, 15319,     7,     3,     0,\n",
              "             0,     0,     0,     0,     0,     0,     0,     0,     0,\n",
              "             0,     0,     0,     0,     0,     0,     0,     0,     0,\n",
              "             0,     0,     0,     0,     0,     0,     0,     0,     0,\n",
              "             0,     0,     0,     0],\n",
              "        [ 2851,  2244,  7957,   379, 15319,     7,     3,     0,     0,\n",
              "             0,     0,     0,     0,     0,     0,     0,     0,     0,\n",
              "             0,     0,     0,     0,     0,     0,     0,     0,     0,\n",
              "             0,     0,     0,     0,     0,     0,     0,     0,     0,\n",
              "             0,     0,     0,     0],\n",
              "        [12043, 12798,  8129,  8319,     7,     3,     0,     0,     0,\n",
              "             0,     0,     0,     0,     0,     0,     0,     0,     0,\n",
              "             0,     0,     0,     0,     0,     0,     0,     0,     0,\n",
              "             0,     0,     0,     0,     0,     0,     0,     0,     0,\n",
              "             0,     0,     0,     0],\n",
              "        [17450,    11,   128,   488,   122,  1001,  5817,   149,   339,\n",
              "            16,  2889, 24290,   431,     7,     3,     0,     0,     0,\n",
              "             0,     0,     0,     0,     0,     0,     0,     0,     0,\n",
              "             0,     0,     0,     0,     0,     0,     0,     0,     0,\n",
              "             0,     0,     0,     0],\n",
              "        [ 7185, 24710,    19, 10720, 12273,   343,   431,     7,     3,\n",
              "             0,     0,     0,     0,     0,     0,     0,     0,     0,\n",
              "             0,     0,     0,     0,     0,     0,     0,     0,     0,\n",
              "             0,     0,     0,     0,     0,     0,     0,     0,     0,\n",
              "             0,     0,     0,     0],\n",
              "        [   29,  1086,    16, 23577,  1800,  4367,    61,   431,     7,\n",
              "             3,     0,     0,     0,     0,     0,     0,     0,     0,\n",
              "             0,     0,     0,     0,     0,     0,     0,     0,     0,\n",
              "             0,     0,     0,     0,     0,     0,     0,     0,     0,\n",
              "             0,     0,     0,     0]], dtype=int32))"
            ]
          },
          "metadata": {
            "tags": []
          },
          "execution_count": 131
        }
      ]
    },
    {
      "cell_type": "markdown",
      "metadata": {
        "id": "IFTsdA3kE2h-"
      },
      "source": [
        "## 학습"
      ]
    },
    {
      "cell_type": "code",
      "metadata": {
        "id": "oTbV-P7IpsLH",
        "colab": {
          "base_uri": "https://localhost:8080/",
          "height": 352
        },
        "outputId": "6f91d567-29bf-45a0-8578-f2104e219cd7"
      },
      "source": [
        "# 모델 생성\n",
        "model = build_model(len(vocab), d_model, n_enc_seq, n_dec_seq)\n",
        "# 모델 내용 그래프 출력\n",
        "tf.keras.utils.plot_model(model, 'model.png', show_shapes=True)"
      ],
      "execution_count": 132,
      "outputs": [
        {
          "output_type": "execute_result",
          "data": {
            "image/png": "[encoded data removed]",
            "text/plain": [
              "<IPython.core.display.Image object>"
            ]
          },
          "metadata": {
            "tags": []
          },
          "execution_count": 132
        }
      ]
    },
    {
      "cell_type": "code",
      "metadata": {
        "id": "X7UDvaPqEx1c"
      },
      "source": [
        "# 모델 loss, optimizer, metric 정의\n",
        "model.compile(loss=lm_loss, optimizer='adam', metrics=[lm_acc])"
      ],
      "execution_count": 133,
      "outputs": []
    },
    {
      "cell_type": "code",
      "metadata": {
        "id": "-FQBJ2aQLXdp"
      },
      "source": [
        "# early stopping\n",
        "early_stopping = tf.keras.callbacks.EarlyStopping(monitor='lm_acc', patience=100)\n",
        "# save weights callback\n",
        "save_weights = tf.keras.callbacks.ModelCheckpoint(os.path.join(songys_dir, 'lstm_dot.hdf5'),\n",
        "                                                  monitor='lm_acc',\n",
        "                                                  verbose=1,\n",
        "                                                  save_best_only=True,\n",
        "                                                  mode=\"max\",\n",
        "                                                  save_freq=\"epoch\",\n",
        "                                                  save_weights_only=True)\n",
        "# csv logger\n",
        "csv_logger = tf.keras.callbacks.CSVLogger(os.path.join(songys_dir, 'lstm_dot.csv'))"
      ],
      "execution_count": 134,
      "outputs": []
    },
    {
      "cell_type": "code",
      "metadata": {
        "id": "MSyF0MvAFGoJ"
      },
      "source": [
        "# 모델 학습\n",
        "history = model.fit((train_enc_inputs, train_dec_inputs),\n",
        "                    train_labels,\n",
        "                    epochs=400,\n",
        "                    batch_size=256,\n",
        "                    callbacks=[early_stopping, save_weights, csv_logger])"
      ],
      "execution_count": null,
      "outputs": []
    },
    {
      "cell_type": "code",
      "metadata": {
        "id": "m1UWJMf4FTiZ",
        "colab": {
          "base_uri": "https://localhost:8080/",
          "height": 266
        },
        "outputId": "6da0c63e-e338-4a94-b8a1-0e6c6b003d17"
      },
      "source": [
        "plt.figure(figsize=(12, 4))\n",
        "\n",
        "plt.subplot(1, 2, 1)\n",
        "plt.plot(history.history['loss'], 'b-', label='loss')\n",
        "plt.xlabel('Epoch')\n",
        "plt.legend()\n",
        "\n",
        "plt.subplot(1, 2, 2)\n",
        "plt.plot(history.history['lm_acc'], 'g-', label='acc')\n",
        "plt.xlabel('Epoch')\n",
        "plt.legend()\n",
        "\n",
        "plt.show()"
      ],
      "execution_count": 136,
      "outputs": [
        {
          "output_type": "display_data",
          "data": {
            "image/png": "[encoded data removed]",
            "text/plain": [
              "<Figure size 864x288 with 2 Axes>"
            ]
          },
          "metadata": {
            "tags": [],
            "needs_background": "light"
          }
        }
      ]
    },
    {
      "cell_type": "markdown",
      "metadata": {
        "id": "PQvKAxTbaEpt"
      },
      "source": [
        "## Inference"
      ]
    },
    {
      "cell_type": "code",
      "metadata": {
        "id": "ZuK60XkEOSUS"
      },
      "source": [
        "# 모델 생성\n",
        "model = build_model(len(vocab), d_model, n_enc_seq, n_dec_seq)\n",
        "# train weight로 초기화\n",
        "model.load_weights(os.path.join(songys_dir, 'lstm_dot.hdf5'))"
      ],
      "execution_count": null,
      "outputs": []
    },
    {
      "cell_type": "code",
      "metadata": {
        "id": "KzaDEUSbaeu4"
      },
      "source": [
        "def do_chat(vocab, model, n_enc_seq, n_dec_seq, string):\n",
        "    \"\"\"\n",
        "    seq2seq chat\n",
        "    :param vocab: vocab\n",
        "    :param model: model\n",
        "    :param n_enc_seq: number of enc seqence\n",
        "    :param n_dec_seq: number of dec seqence\n",
        "    :param string: inpust string\n",
        "    \"\"\"\n",
        "    # qeustion\n",
        "    q = vocab.encode_as_pieces(string)\n",
        "    q_id = [vocab.piece_to_id(p) for p in q][:n_enc_seq]\n",
        "    q_id += [0] * (n_enc_seq - len(q_id))\n",
        "    assert len(q_id) == n_enc_seq\n",
        "\n",
        "    # answer\n",
        "    a_id = [vocab.bos_id()]\n",
        "    a_id += [0] * (n_dec_seq - len(a_id))\n",
        "    assert len(a_id) == n_dec_seq\n",
        "\n",
        "    # 처음부터 예측\n",
        "    start_idx = 0\n",
        "\n",
        "    for _ in range(start_idx, n_dec_seq - 1):\n",
        "        outputs = model.predict((np.array([q_id]), np.array([a_id])))\n",
        "        prob = outputs[0][start_idx]\n",
        "        word_id = np.argmax(prob)\n",
        "        if word_id == vocab.eos_id():\n",
        "            break\n",
        "        a_id[start_idx + 1] = int(word_id)\n",
        "        start_idx += 1\n",
        "    predict_id = a_id[1:start_idx + 1]\n",
        "    predict_str = vocab.decode_ids(predict_id)\n",
        "    return predict_str"
      ],
      "execution_count": null,
      "outputs": []
    },
    {
      "cell_type": "code",
      "metadata": {
        "id": "mQVkuBylavCr"
      },
      "source": [
        "while True:\n",
        "    string = input('질문 > ')\n",
        "    string = string.strip()\n",
        "    if len(string) == 0:\n",
        "        break\n",
        "    predict_str = do_chat(vocab, model, n_enc_seq, n_dec_seq, string)\n",
        "    print(f'답변 > {predict_str}')"
      ],
      "execution_count": null,
      "outputs": []
    },
    {
      "cell_type": "markdown",
      "metadata": {
        "id": "wZSehzviqJW3"
      },
      "source": [
        "# All Data Project"
      ]
    },
    {
      "cell_type": "markdown",
      "metadata": {
        "id": "x0ZAlao5qJW4"
      },
      "source": [
        "## Data\n"
      ]
    },
    {
      "cell_type": "code",
      "metadata": {
        "id": "0B-0r3bjqJW4"
      },
      "source": [
        "df_train = pd.read_csv(os.path.join(songys_dir, 'ChatbotData.csv'))\n",
        "print(len(df_train))\n",
        "df_train = df_train.dropna()\n",
        "print(len(df_train))\n",
        "df_train"
      ],
      "execution_count": null,
      "outputs": []
    },
    {
      "cell_type": "code",
      "metadata": {
        "id": "SQkIYiRSqJW5"
      },
      "source": [
        "def load_data(df, n_enc_seq, n_dec_seq):\n",
        "    \"\"\"\n",
        "    Quora 학습 데이터 생성\n",
        "    :param df: data frame\n",
        "    :param n_enc_seq: number of encoder sequence\n",
        "    :param n_dec_seq: number of decoder sequence\n",
        "    :return enc_inputs: encoder input data\n",
        "    :return dec_inputs: decoder input data\n",
        "    :return labels: label data\n",
        "    \"\"\"\n",
        "    n_enc_max = n_enc_seq\n",
        "    n_dec_max = n_dec_seq - 1\n",
        "    enc_inputs = np.zeros((len(df), n_enc_seq)).astype(np.int32)\n",
        "    dec_inputs = np.zeros((len(df), n_dec_seq)).astype(np.int32)\n",
        "    labels = np.zeros((len(df), n_dec_seq)).astype(np.int32)\n",
        "    index = 0\n",
        "    for i, row in tqdm(df.iterrows(), total=len(df)):\n",
        "        # tokens 저장\n",
        "        Q = row['Q']\n",
        "        A = row['A']\n",
        "\n",
        "        tokens_q = vocab.encode_as_pieces(Q)\n",
        "        tokens_a = vocab.encode_as_pieces(A)\n",
        "\n",
        "        tokens_ids_q = vocab.encode_as_ids(Q)[:n_enc_max]\n",
        "        tokens_ids_a = vocab.encode_as_ids(A)[:n_dec_max]\n",
        "\n",
        "        tokens_dec_in = [vocab.bos_id()] + tokens_ids_a\n",
        "        tokens_dec_out = tokens_ids_a + [vocab.eos_id()]\n",
        "\n",
        "        tokens_ids_q += [0] * (n_enc_seq - len(tokens_ids_q))\n",
        "        tokens_dec_in += [0] * (n_dec_seq - len(tokens_dec_in))\n",
        "        tokens_dec_out += [0] * (n_dec_seq - len(tokens_dec_out))\n",
        "\n",
        "        enc_inputs[index] = tokens_ids_q\n",
        "        dec_inputs[index] = tokens_dec_in\n",
        "        labels[index] = tokens_dec_out\n",
        "        index += 1\n",
        "    return enc_inputs, dec_inputs, labels"
      ],
      "execution_count": null,
      "outputs": []
    },
    {
      "cell_type": "code",
      "metadata": {
        "id": "FguUxO5xqJW5"
      },
      "source": [
        "# train data 생성\n",
        "train_enc_inputs, train_dec_inputs, train_labels = load_data(df_train, n_enc_seq, n_dec_seq)\n",
        "train_enc_inputs, train_dec_inputs, train_labels"
      ],
      "execution_count": null,
      "outputs": []
    },
    {
      "cell_type": "markdown",
      "metadata": {
        "id": "ByyA-3bbqJW6"
      },
      "source": [
        "## 학습"
      ]
    },
    {
      "cell_type": "code",
      "metadata": {
        "id": "Li7XjkxHqJW6"
      },
      "source": [
        "# 모델 생성\n",
        "model = build_model(len(vocab), d_model, n_enc_seq, n_dec_seq)\n",
        "# 모델 내용 그래프 출력\n",
        "tf.keras.utils.plot_model(model, 'model.png', show_shapes=True)"
      ],
      "execution_count": null,
      "outputs": []
    },
    {
      "cell_type": "code",
      "metadata": {
        "id": "yRh1IFPCqJW6"
      },
      "source": [
        "# 모델 loss, optimizer, metric 정의\n",
        "model.compile(loss=lm_loss, optimizer='adam', metrics=[lm_acc])"
      ],
      "execution_count": null,
      "outputs": []
    },
    {
      "cell_type": "code",
      "metadata": {
        "id": "s5CzpAnaqJW6"
      },
      "source": [
        "# early stopping\n",
        "early_stopping = tf.keras.callbacks.EarlyStopping(monitor='lm_acc', patience=5)\n",
        "# save weights callback\n",
        "save_weights = tf.keras.callbacks.ModelCheckpoint(os.path.join(songys_dir, 'lstm_dot.hdf5'),\n",
        "                                                  monitor='lm_acc',\n",
        "                                                  verbose=1,\n",
        "                                                  save_best_only=True,\n",
        "                                                  mode=\"max\",\n",
        "                                                  save_freq=\"epoch\",\n",
        "                                                  save_weights_only=True)\n",
        "# csv logger\n",
        "csv_logger = tf.keras.callbacks.CSVLogger(os.path.join(songys_dir, 'lstm_dot.csv'))"
      ],
      "execution_count": null,
      "outputs": []
    },
    {
      "cell_type": "code",
      "metadata": {
        "id": "9q0mkUKuqJW6"
      },
      "source": [
        "# 모델 학습\n",
        "history = model.fit((train_enc_inputs, train_dec_inputs),\n",
        "                    train_labels,\n",
        "                    epochs=100,\n",
        "                    batch_size=256,\n",
        "                    callbacks=[early_stopping, save_weights, csv_logger])"
      ],
      "execution_count": null,
      "outputs": []
    },
    {
      "cell_type": "code",
      "metadata": {
        "id": "6PMeESUYqJW6"
      },
      "source": [
        "plt.figure(figsize=(12, 4))\n",
        "\n",
        "plt.subplot(1, 2, 1)\n",
        "plt.plot(history.history['loss'], 'b-', label='loss')\n",
        "plt.xlabel('Epoch')\n",
        "plt.legend()\n",
        "\n",
        "plt.subplot(1, 2, 2)\n",
        "plt.plot(history.history['lm_acc'], 'g-', label='acc')\n",
        "plt.xlabel('Epoch')\n",
        "plt.legend()\n",
        "\n",
        "plt.show()"
      ],
      "execution_count": null,
      "outputs": []
    },
    {
      "cell_type": "markdown",
      "metadata": {
        "id": "2lWovHbAqJW7"
      },
      "source": [
        "## Inference"
      ]
    },
    {
      "cell_type": "code",
      "metadata": {
        "id": "V11xf5bUqJW7"
      },
      "source": [
        "# 모델 생성\n",
        "model = build_model(len(vocab), d_model, n_enc_seq, n_dec_seq)\n",
        "# train weight로 초기화\n",
        "model.load_weights(os.path.join(songys_dir, 'lstm_dot.hdf5'))"
      ],
      "execution_count": null,
      "outputs": []
    },
    {
      "cell_type": "code",
      "metadata": {
        "id": "rqMWscTSqJW7"
      },
      "source": [
        "def do_chat(vocab, model, n_enc_seq, n_dec_seq, string):\n",
        "    \"\"\"\n",
        "    seq2seq chat\n",
        "    :param vocab: vocab\n",
        "    :param model: model\n",
        "    :param n_enc_seq: number of enc seqence\n",
        "    :param n_dec_seq: number of dec seqence\n",
        "    :param string: inpust string\n",
        "    \"\"\"\n",
        "    # qeustion\n",
        "    q = vocab.encode_as_pieces(string)\n",
        "    q_id = [vocab.piece_to_id(p) for p in q][:n_enc_seq]\n",
        "    q_id += [0] * (n_enc_seq - len(q_id))\n",
        "    assert len(q_id) == n_enc_seq\n",
        "\n",
        "    # answer\n",
        "    a_id = [vocab.bos_id()]\n",
        "    a_id += [0] * (n_dec_seq - len(a_id))\n",
        "    assert len(a_id) == n_dec_seq\n",
        "\n",
        "    # 처음부터 예측\n",
        "    start_idx = 0\n",
        "\n",
        "    for _ in range(start_idx, n_dec_seq - 1):\n",
        "        outputs = model.predict((np.array([q_id]), np.array([a_id])))\n",
        "        prob = outputs[0][start_idx]\n",
        "        word_id = np.argmax(prob)\n",
        "        if word_id == vocab.eos_id():\n",
        "            break\n",
        "        a_id[start_idx + 1] = int(word_id)\n",
        "        start_idx += 1\n",
        "    predict_id = a_id[1:start_idx + 1]\n",
        "    predict_str = vocab.decode_ids(predict_id)\n",
        "    return predict_str"
      ],
      "execution_count": null,
      "outputs": []
    },
    {
      "cell_type": "code",
      "metadata": {
        "id": "LiEbtt7JqJW7"
      },
      "source": [
        "while True:\n",
        "    string = input('질문 > ')\n",
        "    string = string.strip()\n",
        "    if len(string) == 0:\n",
        "        break\n",
        "    predict_str = do_chat(vocab, model, n_enc_seq, n_dec_seq, string)\n",
        "    print(f'답변 > {predict_str}')"
      ],
      "execution_count": null,
      "outputs": []
    }
  ]
}