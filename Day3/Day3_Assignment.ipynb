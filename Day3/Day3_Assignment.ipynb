{
  "nbformat": 4,
  "nbformat_minor": 0,
  "metadata": {
    "colab": {
      "name": "Day3_Assignment",
      "provenance": [],
      "collapsed_sections": [
        "g78tzmjN3mzF",
        "6dfJPT-2XMTB",
        "JHkHg6XAXoyK",
        "6_OmrpU5nroZ",
        "J1bd8sE7r_Bw"
      ]
    },
    "kernelspec": {
      "name": "python3",
      "display_name": "Python 3"
    },
    "accelerator": "GPU",
    "widgets": {
      "application/vnd.jupyter.widget-state+json": {
        "3349bfa1ccf640e7affeac48aa6ed765": {
          "model_module": "@jupyter-widgets/controls",
          "model_name": "HBoxModel",
          "state": {
            "_view_name": "HBoxView",
            "_dom_classes": [],
            "_model_name": "HBoxModel",
            "_view_module": "@jupyter-widgets/controls",
            "_model_module_version": "1.5.0",
            "_view_count": null,
            "_view_module_version": "1.5.0",
            "box_style": "",
            "layout": "IPY_MODEL_add1e0902d2349eab8c5d5081eff4917",
            "_model_module": "@jupyter-widgets/controls",
            "children": [
              "IPY_MODEL_bc7d01cbd617494abdfff0e694fc65b5",
              "IPY_MODEL_64cf0ba00f604e9f86bc9fda804bc2fe"
            ]
          }
        },
        "add1e0902d2349eab8c5d5081eff4917": {
          "model_module": "@jupyter-widgets/base",
          "model_name": "LayoutModel",
          "state": {
            "_view_name": "LayoutView",
            "grid_template_rows": null,
            "right": null,
            "justify_content": null,
            "_view_module": "@jupyter-widgets/base",
            "overflow": null,
            "_model_module_version": "1.2.0",
            "_view_count": null,
            "flex_flow": null,
            "width": null,
            "min_width": null,
            "border": null,
            "align_items": null,
            "bottom": null,
            "_model_module": "@jupyter-widgets/base",
            "top": null,
            "grid_column": null,
            "overflow_y": null,
            "overflow_x": null,
            "grid_auto_flow": null,
            "grid_area": null,
            "grid_template_columns": null,
            "flex": null,
            "_model_name": "LayoutModel",
            "justify_items": null,
            "grid_row": null,
            "max_height": null,
            "align_content": null,
            "visibility": null,
            "align_self": null,
            "height": null,
            "min_height": null,
            "padding": null,
            "grid_auto_rows": null,
            "grid_gap": null,
            "max_width": null,
            "order": null,
            "_view_module_version": "1.2.0",
            "grid_template_areas": null,
            "object_position": null,
            "object_fit": null,
            "grid_auto_columns": null,
            "margin": null,
            "display": null,
            "left": null
          }
        },
        "bc7d01cbd617494abdfff0e694fc65b5": {
          "model_module": "@jupyter-widgets/controls",
          "model_name": "FloatProgressModel",
          "state": {
            "_view_name": "ProgressView",
            "style": "IPY_MODEL_23c354939a744feb8836813124dd4a97",
            "_dom_classes": [],
            "description": "100%",
            "_model_name": "FloatProgressModel",
            "bar_style": "success",
            "max": 199992,
            "_view_module": "@jupyter-widgets/controls",
            "_model_module_version": "1.5.0",
            "value": 199992,
            "_view_count": null,
            "_view_module_version": "1.5.0",
            "orientation": "horizontal",
            "min": 0,
            "description_tooltip": null,
            "_model_module": "@jupyter-widgets/controls",
            "layout": "IPY_MODEL_07bc6b2883af4a6eb4892eb065d06907"
          }
        },
        "64cf0ba00f604e9f86bc9fda804bc2fe": {
          "model_module": "@jupyter-widgets/controls",
          "model_name": "HTMLModel",
          "state": {
            "_view_name": "HTMLView",
            "style": "IPY_MODEL_62fa5776cf1c418885047e3ddf5b0dd9",
            "_dom_classes": [],
            "description": "",
            "_model_name": "HTMLModel",
            "placeholder": "​",
            "_view_module": "@jupyter-widgets/controls",
            "_model_module_version": "1.5.0",
            "value": " 199992/199992 [16:55&lt;00:00, 196.89it/s]",
            "_view_count": null,
            "_view_module_version": "1.5.0",
            "description_tooltip": null,
            "_model_module": "@jupyter-widgets/controls",
            "layout": "IPY_MODEL_70804e2a5530409690b9b52890d90af0"
          }
        },
        "23c354939a744feb8836813124dd4a97": {
          "model_module": "@jupyter-widgets/controls",
          "model_name": "ProgressStyleModel",
          "state": {
            "_view_name": "StyleView",
            "_model_name": "ProgressStyleModel",
            "description_width": "initial",
            "_view_module": "@jupyter-widgets/base",
            "_model_module_version": "1.5.0",
            "_view_count": null,
            "_view_module_version": "1.2.0",
            "bar_color": null,
            "_model_module": "@jupyter-widgets/controls"
          }
        },
        "07bc6b2883af4a6eb4892eb065d06907": {
          "model_module": "@jupyter-widgets/base",
          "model_name": "LayoutModel",
          "state": {
            "_view_name": "LayoutView",
            "grid_template_rows": null,
            "right": null,
            "justify_content": null,
            "_view_module": "@jupyter-widgets/base",
            "overflow": null,
            "_model_module_version": "1.2.0",
            "_view_count": null,
            "flex_flow": null,
            "width": null,
            "min_width": null,
            "border": null,
            "align_items": null,
            "bottom": null,
            "_model_module": "@jupyter-widgets/base",
            "top": null,
            "grid_column": null,
            "overflow_y": null,
            "overflow_x": null,
            "grid_auto_flow": null,
            "grid_area": null,
            "grid_template_columns": null,
            "flex": null,
            "_model_name": "LayoutModel",
            "justify_items": null,
            "grid_row": null,
            "max_height": null,
            "align_content": null,
            "visibility": null,
            "align_self": null,
            "height": null,
            "min_height": null,
            "padding": null,
            "grid_auto_rows": null,
            "grid_gap": null,
            "max_width": null,
            "order": null,
            "_view_module_version": "1.2.0",
            "grid_template_areas": null,
            "object_position": null,
            "object_fit": null,
            "grid_auto_columns": null,
            "margin": null,
            "display": null,
            "left": null
          }
        },
        "62fa5776cf1c418885047e3ddf5b0dd9": {
          "model_module": "@jupyter-widgets/controls",
          "model_name": "DescriptionStyleModel",
          "state": {
            "_view_name": "StyleView",
            "_model_name": "DescriptionStyleModel",
            "description_width": "",
            "_view_module": "@jupyter-widgets/base",
            "_model_module_version": "1.5.0",
            "_view_count": null,
            "_view_module_version": "1.2.0",
            "_model_module": "@jupyter-widgets/controls"
          }
        },
        "70804e2a5530409690b9b52890d90af0": {
          "model_module": "@jupyter-widgets/base",
          "model_name": "LayoutModel",
          "state": {
            "_view_name": "LayoutView",
            "grid_template_rows": null,
            "right": null,
            "justify_content": null,
            "_view_module": "@jupyter-widgets/base",
            "overflow": null,
            "_model_module_version": "1.2.0",
            "_view_count": null,
            "flex_flow": null,
            "width": null,
            "min_width": null,
            "border": null,
            "align_items": null,
            "bottom": null,
            "_model_module": "@jupyter-widgets/base",
            "top": null,
            "grid_column": null,
            "overflow_y": null,
            "overflow_x": null,
            "grid_auto_flow": null,
            "grid_area": null,
            "grid_template_columns": null,
            "flex": null,
            "_model_name": "LayoutModel",
            "justify_items": null,
            "grid_row": null,
            "max_height": null,
            "align_content": null,
            "visibility": null,
            "align_self": null,
            "height": null,
            "min_height": null,
            "padding": null,
            "grid_auto_rows": null,
            "grid_gap": null,
            "max_width": null,
            "order": null,
            "_view_module_version": "1.2.0",
            "grid_template_areas": null,
            "object_position": null,
            "object_fit": null,
            "grid_auto_columns": null,
            "margin": null,
            "display": null,
            "left": null
          }
        }
      }
    }
  },
  "cells": [
    {
      "cell_type": "markdown",
      "metadata": {
        "id": "g78tzmjN3mzF"
      },
      "source": [
        "# 한글폰트 설치\n",
        "- 아래 실행후 '런타임 다시 시작' 하면 됩니다.\n",
        "- 메뉴에서 '런타임' >> '런타임 다시 시작'을 클릭하세요.\n",
        "- 런타임 다시 시작 후 다시 실행할 필요 없습니다."
      ]
    },
    {
      "cell_type": "code",
      "metadata": {
        "id": "Co97FHic3p0D",
        "colab": {
          "base_uri": "https://localhost:8080/"
        },
        "outputId": "449b2826-b1ff-4b25-ca64-3e3a4f8c0437"
      },
      "source": [
        "# 폰트 설치\n",
        "!apt-get update -qq # 나눔고딕 설치\n",
        "!apt-get install fonts-nanum* -qq\n",
        "\n",
        "import matplotlib as mpl\n",
        "import matplotlib.pyplot as plt\n",
        "import matplotlib.font_manager as fm\n",
        "\n",
        "# 폰트 로딩\n",
        "fontpath = '/usr/share/fonts/truetype/nanum/NanumBarunGothic.ttf'\n",
        "font = fm.FontProperties(fname=fontpath, size=9)\n",
        "plt.rc('font', family='NanumBarunGothic') \n",
        "mpl.font_manager._rebuild()"
      ],
      "execution_count": 1,
      "outputs": [
        {
          "output_type": "stream",
          "text": [
            "Selecting previously unselected package fonts-nanum.\n",
            "(Reading database ... 146374 files and directories currently installed.)\n",
            "Preparing to unpack .../fonts-nanum_20170925-1_all.deb ...\n",
            "Unpacking fonts-nanum (20170925-1) ...\n",
            "Selecting previously unselected package fonts-nanum-eco.\n",
            "Preparing to unpack .../fonts-nanum-eco_1.000-6_all.deb ...\n",
            "Unpacking fonts-nanum-eco (1.000-6) ...\n",
            "Selecting previously unselected package fonts-nanum-extra.\n",
            "Preparing to unpack .../fonts-nanum-extra_20170925-1_all.deb ...\n",
            "Unpacking fonts-nanum-extra (20170925-1) ...\n",
            "Selecting previously unselected package fonts-nanum-coding.\n",
            "Preparing to unpack .../fonts-nanum-coding_2.5-1_all.deb ...\n",
            "Unpacking fonts-nanum-coding (2.5-1) ...\n",
            "Setting up fonts-nanum-extra (20170925-1) ...\n",
            "Setting up fonts-nanum (20170925-1) ...\n",
            "Setting up fonts-nanum-coding (2.5-1) ...\n",
            "Setting up fonts-nanum-eco (1.000-6) ...\n",
            "Processing triggers for fontconfig (2.12.6-0ubuntu2) ...\n"
          ],
          "name": "stdout"
        }
      ]
    },
    {
      "cell_type": "markdown",
      "metadata": {
        "id": "6dfJPT-2XMTB"
      },
      "source": [
        "# Install"
      ]
    },
    {
      "cell_type": "code",
      "metadata": {
        "id": "a193aGJWVaqb",
        "colab": {
          "base_uri": "https://localhost:8080/"
        },
        "outputId": "6abaa1a8-41f1-493c-d931-83cbf29ddfe9"
      },
      "source": [
        "!pip install sentencepiece"
      ],
      "execution_count": 1,
      "outputs": [
        {
          "output_type": "stream",
          "text": [
            "Collecting sentencepiece\n",
            "\u001b[?25l  Downloading https://files.pythonhosted.org/packages/14/67/e42bd1181472c95c8cda79305df848264f2a7f62740995a46945d9797b67/sentencepiece-0.1.95-cp36-cp36m-manylinux2014_x86_64.whl (1.2MB)\n",
            "\u001b[K     |████████████████████████████████| 1.2MB 4.5MB/s \n",
            "\u001b[?25hInstalling collected packages: sentencepiece\n",
            "Successfully installed sentencepiece-0.1.95\n"
          ],
          "name": "stdout"
        }
      ]
    },
    {
      "cell_type": "markdown",
      "metadata": {
        "id": "JHkHg6XAXoyK"
      },
      "source": [
        "# Evn"
      ]
    },
    {
      "cell_type": "code",
      "metadata": {
        "id": "WkYXFwcBXJDG"
      },
      "source": [
        "import os\n",
        "import random\n",
        "import shutil\n",
        "import json\n",
        "import zipfile\n",
        "import math\n",
        "import copy\n",
        "import collections\n",
        "import re\n",
        "\n",
        "import matplotlib.pyplot as plt\n",
        "import pandas as pd\n",
        "import numpy as np\n",
        "import sentencepiece as spm\n",
        "import tensorflow as tf\n",
        "import tensorflow.keras.backend as K\n",
        "\n",
        "from tqdm.notebook import tqdm"
      ],
      "execution_count": 2,
      "outputs": []
    },
    {
      "cell_type": "code",
      "metadata": {
        "id": "wlSTGfo8mV4A"
      },
      "source": [
        "from sklearn.decomposition import PCA"
      ],
      "execution_count": 3,
      "outputs": []
    },
    {
      "cell_type": "code",
      "metadata": {
        "id": "nvjyruUlXtlR"
      },
      "source": [
        "# random seed initialize\n",
        "random_seed = 1234\n",
        "random.seed(random_seed)\n",
        "np.random.seed(random_seed)\n",
        "tf.random.set_seed(random_seed)"
      ],
      "execution_count": 4,
      "outputs": []
    },
    {
      "cell_type": "code",
      "metadata": {
        "id": "BC3fXkhdYcYt",
        "colab": {
          "base_uri": "https://localhost:8080/"
        },
        "outputId": "da78c378-a9fb-4e9f-aee5-bcb32436fe2a"
      },
      "source": [
        "!nvidia-smi"
      ],
      "execution_count": 5,
      "outputs": [
        {
          "output_type": "stream",
          "text": [
            "NVIDIA-SMI has failed because it couldn't communicate with the NVIDIA driver. Make sure that the latest NVIDIA driver is installed and running.\n",
            "\n"
          ],
          "name": "stdout"
        }
      ]
    },
    {
      "cell_type": "markdown",
      "metadata": {
        "id": "6_OmrpU5nroZ"
      },
      "source": [
        "# Gensim\n",
        "- https://radimrehurek.com/gensim/index.html"
      ]
    },
    {
      "cell_type": "code",
      "metadata": {
        "id": "ruhjiwA5nAEH"
      },
      "source": [
        "import gensim\n",
        "import gensim.downloader as api"
      ],
      "execution_count": 6,
      "outputs": []
    },
    {
      "cell_type": "markdown",
      "metadata": {
        "id": "J1bd8sE7r_Bw"
      },
      "source": [
        "## 한국어 학습\n",
        "\n",
        "- https://wikidocs.net/50739"
      ]
    },
    {
      "cell_type": "code",
      "metadata": {
        "id": "Wqk5Or-LrGar"
      },
      "source": [
        "# 행태소분석기 설치\n",
        "!set -x \\\n",
        "&& pip install konlpy \\\n",
        "&& curl -s https://raw.githubusercontent.com/konlpy/konlpy/master/scripts/mecab.sh | bash -x"
      ],
      "execution_count": null,
      "outputs": []
    },
    {
      "cell_type": "code",
      "metadata": {
        "id": "JQ3XkURtvUaq"
      },
      "source": [
        "import konlpy\n",
        "okt = konlpy.tag.Okt()"
      ],
      "execution_count": 8,
      "outputs": []
    },
    {
      "cell_type": "code",
      "metadata": {
        "id": "TTiV5ftqvlZg",
        "colab": {
          "base_uri": "https://localhost:8080/"
        },
        "outputId": "ed03c94f-4cf3-4c52-cd6e-52fa05468f42"
      },
      "source": [
        "okt.morphs(\"아버지가방에들어가신다\")"
      ],
      "execution_count": 9,
      "outputs": [
        {
          "output_type": "execute_result",
          "data": {
            "text/plain": [
              "['아버지', '가방', '에', '들어가신다']"
            ]
          },
          "metadata": {
            "tags": []
          },
          "execution_count": 9
        }
      ]
    },
    {
      "cell_type": "code",
      "metadata": {
        "id": "0qio_nj_uNo6",
        "colab": {
          "base_uri": "https://localhost:8080/"
        },
        "outputId": "20c6c98a-b2f0-4222-9f36-d8c59b69f44f"
      },
      "source": [
        "# 네이버 영화 리뷰 데이터 다운로드\n",
        "!wget https://raw.githubusercontent.com/e9t/nsmc/master/ratings.txt"
      ],
      "execution_count": 10,
      "outputs": [
        {
          "output_type": "stream",
          "text": [
            "--2021-01-27 14:52:57--  https://raw.githubusercontent.com/e9t/nsmc/master/ratings.txt\n",
            "Resolving raw.githubusercontent.com (raw.githubusercontent.com)... 151.101.0.133, 151.101.64.133, 151.101.128.133, ...\n",
            "Connecting to raw.githubusercontent.com (raw.githubusercontent.com)|151.101.0.133|:443... connected.\n",
            "HTTP request sent, awaiting response... 200 OK\n",
            "Length: 19515078 (19M) [text/plain]\n",
            "Saving to: ‘ratings.txt’\n",
            "\n",
            "ratings.txt         100%[===================>]  18.61M  39.5MB/s    in 0.5s    \n",
            "\n",
            "2021-01-27 14:52:58 (39.5 MB/s) - ‘ratings.txt’ saved [19515078/19515078]\n",
            "\n"
          ],
          "name": "stdout"
        }
      ]
    },
    {
      "cell_type": "code",
      "metadata": {
        "id": "2u_e7kQYuiTW",
        "colab": {
          "base_uri": "https://localhost:8080/",
          "height": 361
        },
        "outputId": "55078e45-ca12-4a07-b884-08d05cb09c80"
      },
      "source": [
        "nsmc_data = pd.read_csv(\"ratings.txt\", header=0, delimiter='\\t', quoting=3)\n",
        "print(f\"전체 데이터의 개수: {len(nsmc_data)}\")\n",
        "nsmc_data.head(10)"
      ],
      "execution_count": 11,
      "outputs": [
        {
          "output_type": "stream",
          "text": [
            "전체 데이터의 개수: 200000\n"
          ],
          "name": "stdout"
        },
        {
          "output_type": "execute_result",
          "data": {
            "text/html": [
              "<div>\n",
              "<style scoped>\n",
              "    .dataframe tbody tr th:only-of-type {\n",
              "        vertical-align: middle;\n",
              "    }\n",
              "\n",
              "    .dataframe tbody tr th {\n",
              "        vertical-align: top;\n",
              "    }\n",
              "\n",
              "    .dataframe thead th {\n",
              "        text-align: right;\n",
              "    }\n",
              "</style>\n",
              "<table border=\"1\" class=\"dataframe\">\n",
              "  <thead>\n",
              "    <tr style=\"text-align: right;\">\n",
              "      <th></th>\n",
              "      <th>id</th>\n",
              "      <th>document</th>\n",
              "      <th>label</th>\n",
              "    </tr>\n",
              "  </thead>\n",
              "  <tbody>\n",
              "    <tr>\n",
              "      <th>0</th>\n",
              "      <td>8112052</td>\n",
              "      <td>어릴때보고 지금다시봐도 재밌어요ㅋㅋ</td>\n",
              "      <td>1</td>\n",
              "    </tr>\n",
              "    <tr>\n",
              "      <th>1</th>\n",
              "      <td>8132799</td>\n",
              "      <td>디자인을 배우는 학생으로, 외국디자이너와 그들이 일군 전통을 통해 발전해가는 문화산...</td>\n",
              "      <td>1</td>\n",
              "    </tr>\n",
              "    <tr>\n",
              "      <th>2</th>\n",
              "      <td>4655635</td>\n",
              "      <td>폴리스스토리 시리즈는 1부터 뉴까지 버릴께 하나도 없음.. 최고.</td>\n",
              "      <td>1</td>\n",
              "    </tr>\n",
              "    <tr>\n",
              "      <th>3</th>\n",
              "      <td>9251303</td>\n",
              "      <td>와.. 연기가 진짜 개쩔구나.. 지루할거라고 생각했는데 몰입해서 봤다.. 그래 이런...</td>\n",
              "      <td>1</td>\n",
              "    </tr>\n",
              "    <tr>\n",
              "      <th>4</th>\n",
              "      <td>10067386</td>\n",
              "      <td>안개 자욱한 밤하늘에 떠 있는 초승달 같은 영화.</td>\n",
              "      <td>1</td>\n",
              "    </tr>\n",
              "    <tr>\n",
              "      <th>5</th>\n",
              "      <td>2190435</td>\n",
              "      <td>사랑을 해본사람이라면 처음부터 끝까지 웃을수 있는영화</td>\n",
              "      <td>1</td>\n",
              "    </tr>\n",
              "    <tr>\n",
              "      <th>6</th>\n",
              "      <td>9279041</td>\n",
              "      <td>완전 감동입니다 다시봐도 감동</td>\n",
              "      <td>1</td>\n",
              "    </tr>\n",
              "    <tr>\n",
              "      <th>7</th>\n",
              "      <td>7865729</td>\n",
              "      <td>개들의 전쟁2 나오나요? 나오면 1빠로 보고 싶음</td>\n",
              "      <td>1</td>\n",
              "    </tr>\n",
              "    <tr>\n",
              "      <th>8</th>\n",
              "      <td>7477618</td>\n",
              "      <td>굿</td>\n",
              "      <td>1</td>\n",
              "    </tr>\n",
              "    <tr>\n",
              "      <th>9</th>\n",
              "      <td>9250537</td>\n",
              "      <td>바보가 아니라 병 쉰 인듯</td>\n",
              "      <td>1</td>\n",
              "    </tr>\n",
              "  </tbody>\n",
              "</table>\n",
              "</div>"
            ],
            "text/plain": [
              "         id                                           document  label\n",
              "0   8112052                                어릴때보고 지금다시봐도 재밌어요ㅋㅋ      1\n",
              "1   8132799  디자인을 배우는 학생으로, 외국디자이너와 그들이 일군 전통을 통해 발전해가는 문화산...      1\n",
              "2   4655635               폴리스스토리 시리즈는 1부터 뉴까지 버릴께 하나도 없음.. 최고.      1\n",
              "3   9251303  와.. 연기가 진짜 개쩔구나.. 지루할거라고 생각했는데 몰입해서 봤다.. 그래 이런...      1\n",
              "4  10067386                        안개 자욱한 밤하늘에 떠 있는 초승달 같은 영화.      1\n",
              "5   2190435                      사랑을 해본사람이라면 처음부터 끝까지 웃을수 있는영화      1\n",
              "6   9279041                                   완전 감동입니다 다시봐도 감동      1\n",
              "7   7865729                        개들의 전쟁2 나오나요? 나오면 1빠로 보고 싶음      1\n",
              "8   7477618                                                  굿      1\n",
              "9   9250537                                     바보가 아니라 병 쉰 인듯      1"
            ]
          },
          "metadata": {
            "tags": []
          },
          "execution_count": 11
        }
      ]
    },
    {
      "cell_type": "code",
      "metadata": {
        "id": "JOPTQte2umbR",
        "colab": {
          "base_uri": "https://localhost:8080/",
          "height": 361
        },
        "outputId": "bc94ce5b-f435-4a7c-b2ea-c18aa6a16287"
      },
      "source": [
        "# null 제거\n",
        "nsmc_data = nsmc_data.dropna()\n",
        "print(f\"null 제거 후 데이터의 개수: {len(nsmc_data)}\")\n",
        "nsmc_data.head(10)"
      ],
      "execution_count": 12,
      "outputs": [
        {
          "output_type": "stream",
          "text": [
            "null 제거 후 데이터의 개수: 199992\n"
          ],
          "name": "stdout"
        },
        {
          "output_type": "execute_result",
          "data": {
            "text/html": [
              "<div>\n",
              "<style scoped>\n",
              "    .dataframe tbody tr th:only-of-type {\n",
              "        vertical-align: middle;\n",
              "    }\n",
              "\n",
              "    .dataframe tbody tr th {\n",
              "        vertical-align: top;\n",
              "    }\n",
              "\n",
              "    .dataframe thead th {\n",
              "        text-align: right;\n",
              "    }\n",
              "</style>\n",
              "<table border=\"1\" class=\"dataframe\">\n",
              "  <thead>\n",
              "    <tr style=\"text-align: right;\">\n",
              "      <th></th>\n",
              "      <th>id</th>\n",
              "      <th>document</th>\n",
              "      <th>label</th>\n",
              "    </tr>\n",
              "  </thead>\n",
              "  <tbody>\n",
              "    <tr>\n",
              "      <th>0</th>\n",
              "      <td>8112052</td>\n",
              "      <td>어릴때보고 지금다시봐도 재밌어요ㅋㅋ</td>\n",
              "      <td>1</td>\n",
              "    </tr>\n",
              "    <tr>\n",
              "      <th>1</th>\n",
              "      <td>8132799</td>\n",
              "      <td>디자인을 배우는 학생으로, 외국디자이너와 그들이 일군 전통을 통해 발전해가는 문화산...</td>\n",
              "      <td>1</td>\n",
              "    </tr>\n",
              "    <tr>\n",
              "      <th>2</th>\n",
              "      <td>4655635</td>\n",
              "      <td>폴리스스토리 시리즈는 1부터 뉴까지 버릴께 하나도 없음.. 최고.</td>\n",
              "      <td>1</td>\n",
              "    </tr>\n",
              "    <tr>\n",
              "      <th>3</th>\n",
              "      <td>9251303</td>\n",
              "      <td>와.. 연기가 진짜 개쩔구나.. 지루할거라고 생각했는데 몰입해서 봤다.. 그래 이런...</td>\n",
              "      <td>1</td>\n",
              "    </tr>\n",
              "    <tr>\n",
              "      <th>4</th>\n",
              "      <td>10067386</td>\n",
              "      <td>안개 자욱한 밤하늘에 떠 있는 초승달 같은 영화.</td>\n",
              "      <td>1</td>\n",
              "    </tr>\n",
              "    <tr>\n",
              "      <th>5</th>\n",
              "      <td>2190435</td>\n",
              "      <td>사랑을 해본사람이라면 처음부터 끝까지 웃을수 있는영화</td>\n",
              "      <td>1</td>\n",
              "    </tr>\n",
              "    <tr>\n",
              "      <th>6</th>\n",
              "      <td>9279041</td>\n",
              "      <td>완전 감동입니다 다시봐도 감동</td>\n",
              "      <td>1</td>\n",
              "    </tr>\n",
              "    <tr>\n",
              "      <th>7</th>\n",
              "      <td>7865729</td>\n",
              "      <td>개들의 전쟁2 나오나요? 나오면 1빠로 보고 싶음</td>\n",
              "      <td>1</td>\n",
              "    </tr>\n",
              "    <tr>\n",
              "      <th>8</th>\n",
              "      <td>7477618</td>\n",
              "      <td>굿</td>\n",
              "      <td>1</td>\n",
              "    </tr>\n",
              "    <tr>\n",
              "      <th>9</th>\n",
              "      <td>9250537</td>\n",
              "      <td>바보가 아니라 병 쉰 인듯</td>\n",
              "      <td>1</td>\n",
              "    </tr>\n",
              "  </tbody>\n",
              "</table>\n",
              "</div>"
            ],
            "text/plain": [
              "         id                                           document  label\n",
              "0   8112052                                어릴때보고 지금다시봐도 재밌어요ㅋㅋ      1\n",
              "1   8132799  디자인을 배우는 학생으로, 외국디자이너와 그들이 일군 전통을 통해 발전해가는 문화산...      1\n",
              "2   4655635               폴리스스토리 시리즈는 1부터 뉴까지 버릴께 하나도 없음.. 최고.      1\n",
              "3   9251303  와.. 연기가 진짜 개쩔구나.. 지루할거라고 생각했는데 몰입해서 봤다.. 그래 이런...      1\n",
              "4  10067386                        안개 자욱한 밤하늘에 떠 있는 초승달 같은 영화.      1\n",
              "5   2190435                      사랑을 해본사람이라면 처음부터 끝까지 웃을수 있는영화      1\n",
              "6   9279041                                   완전 감동입니다 다시봐도 감동      1\n",
              "7   7865729                        개들의 전쟁2 나오나요? 나오면 1빠로 보고 싶음      1\n",
              "8   7477618                                                  굿      1\n",
              "9   9250537                                     바보가 아니라 병 쉰 인듯      1"
            ]
          },
          "metadata": {
            "tags": []
          },
          "execution_count": 12
        }
      ]
    },
    {
      "cell_type": "code",
      "metadata": {
        "id": "BUwLwaBqurCl",
        "colab": {
          "base_uri": "https://localhost:8080/",
          "height": 361
        },
        "outputId": "dd74226f-87e7-4fca-ad1d-dede64e3cf5c"
      },
      "source": [
        "# 한글 이외의 문자 제거\n",
        "nsmc_data['document'] = nsmc_data['document'].str.replace(\"[^ㄱ-ㅎㅏ-ㅣ가-힣 ]\",\"\")\n",
        "nsmc_data.dropna()\n",
        "print(f\"한글 아닌 문자 제거 후 데이터의 개수: {len(nsmc_data)}\")\n",
        "nsmc_data.head(10)"
      ],
      "execution_count": 13,
      "outputs": [
        {
          "output_type": "stream",
          "text": [
            "한글 아닌 문자 제거 후 데이터의 개수: 199992\n"
          ],
          "name": "stdout"
        },
        {
          "output_type": "execute_result",
          "data": {
            "text/html": [
              "<div>\n",
              "<style scoped>\n",
              "    .dataframe tbody tr th:only-of-type {\n",
              "        vertical-align: middle;\n",
              "    }\n",
              "\n",
              "    .dataframe tbody tr th {\n",
              "        vertical-align: top;\n",
              "    }\n",
              "\n",
              "    .dataframe thead th {\n",
              "        text-align: right;\n",
              "    }\n",
              "</style>\n",
              "<table border=\"1\" class=\"dataframe\">\n",
              "  <thead>\n",
              "    <tr style=\"text-align: right;\">\n",
              "      <th></th>\n",
              "      <th>id</th>\n",
              "      <th>document</th>\n",
              "      <th>label</th>\n",
              "    </tr>\n",
              "  </thead>\n",
              "  <tbody>\n",
              "    <tr>\n",
              "      <th>0</th>\n",
              "      <td>8112052</td>\n",
              "      <td>어릴때보고 지금다시봐도 재밌어요ㅋㅋ</td>\n",
              "      <td>1</td>\n",
              "    </tr>\n",
              "    <tr>\n",
              "      <th>1</th>\n",
              "      <td>8132799</td>\n",
              "      <td>디자인을 배우는 학생으로 외국디자이너와 그들이 일군 전통을 통해 발전해가는 문화산업...</td>\n",
              "      <td>1</td>\n",
              "    </tr>\n",
              "    <tr>\n",
              "      <th>2</th>\n",
              "      <td>4655635</td>\n",
              "      <td>폴리스스토리 시리즈는 부터 뉴까지 버릴께 하나도 없음 최고</td>\n",
              "      <td>1</td>\n",
              "    </tr>\n",
              "    <tr>\n",
              "      <th>3</th>\n",
              "      <td>9251303</td>\n",
              "      <td>와 연기가 진짜 개쩔구나 지루할거라고 생각했는데 몰입해서 봤다 그래 이런게 진짜 영화지</td>\n",
              "      <td>1</td>\n",
              "    </tr>\n",
              "    <tr>\n",
              "      <th>4</th>\n",
              "      <td>10067386</td>\n",
              "      <td>안개 자욱한 밤하늘에 떠 있는 초승달 같은 영화</td>\n",
              "      <td>1</td>\n",
              "    </tr>\n",
              "    <tr>\n",
              "      <th>5</th>\n",
              "      <td>2190435</td>\n",
              "      <td>사랑을 해본사람이라면 처음부터 끝까지 웃을수 있는영화</td>\n",
              "      <td>1</td>\n",
              "    </tr>\n",
              "    <tr>\n",
              "      <th>6</th>\n",
              "      <td>9279041</td>\n",
              "      <td>완전 감동입니다 다시봐도 감동</td>\n",
              "      <td>1</td>\n",
              "    </tr>\n",
              "    <tr>\n",
              "      <th>7</th>\n",
              "      <td>7865729</td>\n",
              "      <td>개들의 전쟁 나오나요 나오면 빠로 보고 싶음</td>\n",
              "      <td>1</td>\n",
              "    </tr>\n",
              "    <tr>\n",
              "      <th>8</th>\n",
              "      <td>7477618</td>\n",
              "      <td>굿</td>\n",
              "      <td>1</td>\n",
              "    </tr>\n",
              "    <tr>\n",
              "      <th>9</th>\n",
              "      <td>9250537</td>\n",
              "      <td>바보가 아니라 병 쉰 인듯</td>\n",
              "      <td>1</td>\n",
              "    </tr>\n",
              "  </tbody>\n",
              "</table>\n",
              "</div>"
            ],
            "text/plain": [
              "         id                                           document  label\n",
              "0   8112052                                어릴때보고 지금다시봐도 재밌어요ㅋㅋ      1\n",
              "1   8132799  디자인을 배우는 학생으로 외국디자이너와 그들이 일군 전통을 통해 발전해가는 문화산업...      1\n",
              "2   4655635                   폴리스스토리 시리즈는 부터 뉴까지 버릴께 하나도 없음 최고      1\n",
              "3   9251303   와 연기가 진짜 개쩔구나 지루할거라고 생각했는데 몰입해서 봤다 그래 이런게 진짜 영화지      1\n",
              "4  10067386                         안개 자욱한 밤하늘에 떠 있는 초승달 같은 영화      1\n",
              "5   2190435                      사랑을 해본사람이라면 처음부터 끝까지 웃을수 있는영화      1\n",
              "6   9279041                                   완전 감동입니다 다시봐도 감동      1\n",
              "7   7865729                           개들의 전쟁 나오나요 나오면 빠로 보고 싶음      1\n",
              "8   7477618                                                  굿      1\n",
              "9   9250537                                     바보가 아니라 병 쉰 인듯      1"
            ]
          },
          "metadata": {
            "tags": []
          },
          "execution_count": 13
        }
      ]
    },
    {
      "cell_type": "code",
      "metadata": {
        "id": "i631tEdPuweA"
      },
      "source": [
        "# 불용어 정의 (빈도가 너무 많은 단어는 학습에서 제외 함)\n",
        "stopwords = ['의','가','이','은','들','는','좀','잘','걍','과','도','를','으로','자','에','와','한','하다']"
      ],
      "execution_count": 14,
      "outputs": []
    },
    {
      "cell_type": "code",
      "metadata": {
        "id": "boV-eyeXu8_5",
        "colab": {
          "base_uri": "https://localhost:8080/",
          "height": 66,
          "referenced_widgets": [
            "3349bfa1ccf640e7affeac48aa6ed765",
            "add1e0902d2349eab8c5d5081eff4917",
            "bc7d01cbd617494abdfff0e694fc65b5",
            "64cf0ba00f604e9f86bc9fda804bc2fe",
            "23c354939a744feb8836813124dd4a97",
            "07bc6b2883af4a6eb4892eb065d06907",
            "62fa5776cf1c418885047e3ddf5b0dd9",
            "70804e2a5530409690b9b52890d90af0"
          ]
        },
        "outputId": "29c0cf4f-6ee0-4fc4-ca00-4c600a6b4981"
      },
      "source": [
        "# okt 형태소 분석기를 이용해 형태소 단위로 분할 (이때 불용어 제거)\n",
        "tokens = []\n",
        "for i, document in enumerate(tqdm(nsmc_data['document'], total=len(nsmc_data))):\n",
        "    line = []\n",
        "    line = okt.morphs(document)\n",
        "    line = [word for word in line if not word in stopwords]\n",
        "    tokens.append(line)"
      ],
      "execution_count": 15,
      "outputs": [
        {
          "output_type": "display_data",
          "data": {
            "application/vnd.jupyter.widget-view+json": {
              "model_id": "3349bfa1ccf640e7affeac48aa6ed765",
              "version_minor": 0,
              "version_major": 2
            },
            "text/plain": [
              "HBox(children=(FloatProgress(value=0.0, max=199992.0), HTML(value='')))"
            ]
          },
          "metadata": {
            "tags": []
          }
        },
        {
          "output_type": "stream",
          "text": [
            "\n"
          ],
          "name": "stdout"
        }
      ]
    },
    {
      "cell_type": "code",
      "metadata": {
        "id": "QeRt8lzovIeY",
        "colab": {
          "base_uri": "https://localhost:8080/"
        },
        "outputId": "7e1f2d3c-ec56-41a6-c4bb-2acc9a1c479e"
      },
      "source": [
        "print(len(tokens))\n",
        "tokens[:10]"
      ],
      "execution_count": 16,
      "outputs": [
        {
          "output_type": "stream",
          "text": [
            "199992\n"
          ],
          "name": "stdout"
        },
        {
          "output_type": "execute_result",
          "data": {
            "text/plain": [
              "[['어릴', '때', '보고', '지금', '다시', '봐도', '재밌어요', 'ㅋㅋ'],\n",
              " ['디자인',\n",
              "  '을',\n",
              "  '배우는',\n",
              "  '학생',\n",
              "  '외국',\n",
              "  '디자이너',\n",
              "  '그',\n",
              "  '일군',\n",
              "  '전통',\n",
              "  '을',\n",
              "  '통해',\n",
              "  '발전',\n",
              "  '해가는',\n",
              "  '문화',\n",
              "  '산업',\n",
              "  '부러웠는데',\n",
              "  '사실',\n",
              "  '우리나라',\n",
              "  '에서도',\n",
              "  '그',\n",
              "  '어려운',\n",
              "  '시절',\n",
              "  '끝',\n",
              "  '까지',\n",
              "  '열정',\n",
              "  '을',\n",
              "  '지킨',\n",
              "  '노라노',\n",
              "  '같은',\n",
              "  '전통',\n",
              "  '있어',\n",
              "  '저',\n",
              "  '같은',\n",
              "  '사람',\n",
              "  '꿈',\n",
              "  '을',\n",
              "  '꾸고',\n",
              "  '이뤄',\n",
              "  '나갈',\n",
              "  '수',\n",
              "  '있다는',\n",
              "  '것',\n",
              "  '감사합니다'],\n",
              " ['폴리스스토리', '시리즈', '부터', '뉴', '까지', '버릴께', '하나', '없음', '최고'],\n",
              " ['연기',\n",
              "  '진짜',\n",
              "  '개',\n",
              "  '쩔구나',\n",
              "  '지루할거라고',\n",
              "  '생각',\n",
              "  '했는데',\n",
              "  '몰입',\n",
              "  '해서',\n",
              "  '봤다',\n",
              "  '그래',\n",
              "  '이런게',\n",
              "  '진짜',\n",
              "  '영화',\n",
              "  '지'],\n",
              " ['안개', '자욱한', '밤하늘', '떠', '있는', '초승달', '같은', '영화'],\n",
              " ['사랑', '을', '해본', '사람', '라면', '처음', '부터', '끝', '까지', '웃을수', '있는', '영화'],\n",
              " ['완전', '감동', '입니다', '다시', '봐도', '감동'],\n",
              " ['개', '전쟁', '나오나요', '나오면', '빠', '로', '보고', '싶음'],\n",
              " ['굿'],\n",
              " ['바보', '아니라', '병', '쉰', '인듯']]"
            ]
          },
          "metadata": {
            "tags": []
          },
          "execution_count": 16
        }
      ]
    },
    {
      "cell_type": "code",
      "metadata": {
        "id": "R4MWIQTrxrKU"
      },
      "source": [
        "# gensim 학습\n",
        "word2vec_100 = gensim.models.Word2Vec(sentences=tokens, size=100, window=5, min_count=5)"
      ],
      "execution_count": 17,
      "outputs": []
    },
    {
      "cell_type": "code",
      "metadata": {
        "id": "Dn_m0dpWxy0n",
        "colab": {
          "base_uri": "https://localhost:8080/"
        },
        "outputId": "0fc09957-b022-41f0-b28e-376b63c3eb87"
      },
      "source": [
        "words = list(word2vec_100.wv.vocab)\n",
        "len(words), words[:100]"
      ],
      "execution_count": 18,
      "outputs": [
        {
          "output_type": "execute_result",
          "data": {
            "text/plain": [
              "(26174,\n",
              " ['어릴',\n",
              "  '때',\n",
              "  '보고',\n",
              "  '지금',\n",
              "  '다시',\n",
              "  '봐도',\n",
              "  '재밌어요',\n",
              "  'ㅋㅋ',\n",
              "  '디자인',\n",
              "  '을',\n",
              "  '배우는',\n",
              "  '학생',\n",
              "  '외국',\n",
              "  '디자이너',\n",
              "  '그',\n",
              "  '전통',\n",
              "  '통해',\n",
              "  '발전',\n",
              "  '해가는',\n",
              "  '문화',\n",
              "  '산업',\n",
              "  '사실',\n",
              "  '우리나라',\n",
              "  '에서도',\n",
              "  '어려운',\n",
              "  '시절',\n",
              "  '끝',\n",
              "  '까지',\n",
              "  '열정',\n",
              "  '지킨',\n",
              "  '같은',\n",
              "  '있어',\n",
              "  '저',\n",
              "  '사람',\n",
              "  '꿈',\n",
              "  '꾸고',\n",
              "  '이뤄',\n",
              "  '나갈',\n",
              "  '수',\n",
              "  '있다는',\n",
              "  '것',\n",
              "  '감사합니다',\n",
              "  '폴리스스토리',\n",
              "  '시리즈',\n",
              "  '부터',\n",
              "  '뉴',\n",
              "  '하나',\n",
              "  '없음',\n",
              "  '최고',\n",
              "  '연기',\n",
              "  '진짜',\n",
              "  '개',\n",
              "  '생각',\n",
              "  '했는데',\n",
              "  '몰입',\n",
              "  '해서',\n",
              "  '봤다',\n",
              "  '그래',\n",
              "  '이런게',\n",
              "  '영화',\n",
              "  '지',\n",
              "  '안개',\n",
              "  '밤하늘',\n",
              "  '떠',\n",
              "  '있는',\n",
              "  '사랑',\n",
              "  '해본',\n",
              "  '라면',\n",
              "  '처음',\n",
              "  '웃을수',\n",
              "  '완전',\n",
              "  '감동',\n",
              "  '입니다',\n",
              "  '전쟁',\n",
              "  '나오나요',\n",
              "  '나오면',\n",
              "  '빠',\n",
              "  '로',\n",
              "  '싶음',\n",
              "  '굿',\n",
              "  '바보',\n",
              "  '아니라',\n",
              "  '병',\n",
              "  '쉰',\n",
              "  '인듯',\n",
              "  '내',\n",
              "  '나이',\n",
              "  '본',\n",
              "  '나',\n",
              "  '적',\n",
              "  '이다',\n",
              "  '하지만',\n",
              "  '훗날',\n",
              "  '사하나',\n",
              "  '하',\n",
              "  '감정',\n",
              "  '완벽하게',\n",
              "  '이해',\n",
              "  '같다',\n",
              "  '재밌다'])"
            ]
          },
          "metadata": {
            "tags": []
          },
          "execution_count": 18
        }
      ]
    },
    {
      "cell_type": "code",
      "metadata": {
        "id": "4IU7LjCLx9nl",
        "colab": {
          "base_uri": "https://localhost:8080/"
        },
        "outputId": "cc30e512-5892-4dd1-9fea-153393ce2654"
      },
      "source": [
        "similar = word2vec_100.wv.most_similar(\"영화\")\n",
        "similar"
      ],
      "execution_count": 19,
      "outputs": [
        {
          "output_type": "execute_result",
          "data": {
            "text/plain": [
              "[('애니', 0.6344777345657349),\n",
              " ('공포영화', 0.6149888038635254),\n",
              " ('애니메이션', 0.6083066463470459),\n",
              " ('독립영화', 0.6001555919647217),\n",
              " ('다큐', 0.5794230699539185),\n",
              " ('액션영화', 0.5489228963851929),\n",
              " ('작품', 0.5444856882095337),\n",
              " ('다큐멘터리', 0.5375467538833618),\n",
              " ('재난영화', 0.533909797668457),\n",
              " ('공포물', 0.5216571092605591)]"
            ]
          },
          "metadata": {
            "tags": []
          },
          "execution_count": 19
        }
      ]
    },
    {
      "cell_type": "code",
      "metadata": {
        "id": "FqGoZ9VMyBuE",
        "colab": {
          "base_uri": "https://localhost:8080/"
        },
        "outputId": "a315a3db-1bd3-4e03-e99b-c904144f475a"
      },
      "source": [
        "similar = word2vec_100.wv.most_similar(\"최민수\")\n",
        "similar"
      ],
      "execution_count": 20,
      "outputs": [
        {
          "output_type": "execute_result",
          "data": {
            "text/plain": [
              "[('안성기', 0.930884063243866),\n",
              " ('한석규', 0.9102240204811096),\n",
              " ('김승우', 0.9078730940818787),\n",
              " ('크로우', 0.9063593149185181),\n",
              " ('박신양', 0.906130313873291),\n",
              " ('엄태웅', 0.9061157703399658),\n",
              " ('러셀', 0.9017555713653564),\n",
              " ('장미희', 0.9010257124900818),\n",
              " ('이정재', 0.9009615182876587),\n",
              " ('박용우', 0.8979752063751221)]"
            ]
          },
          "metadata": {
            "tags": []
          },
          "execution_count": 20
        }
      ]
    },
    {
      "cell_type": "code",
      "metadata": {
        "id": "LtIIZu5GyV1s",
        "colab": {
          "base_uri": "https://localhost:8080/"
        },
        "outputId": "c28c104c-b3be-43fe-f535-1291456c397d"
      },
      "source": [
        "similar = word2vec_100.wv.most_similar(\"장동건\")\n",
        "similar"
      ],
      "execution_count": 21,
      "outputs": [
        {
          "output_type": "execute_result",
          "data": {
            "text/plain": [
              "[('심은경', 0.8964840173721313),\n",
              " ('난쟁이', 0.8846665620803833),\n",
              " ('앨', 0.8841480016708374),\n",
              " ('조한선', 0.8818334937095642),\n",
              " ('양자경', 0.8810635209083557),\n",
              " ('박신양', 0.8786536455154419),\n",
              " ('이미숙', 0.8773421049118042),\n",
              " ('홉킨스', 0.8761685490608215),\n",
              " ('안성기', 0.8759670257568359),\n",
              " ('공리', 0.8751939535140991)]"
            ]
          },
          "metadata": {
            "tags": []
          },
          "execution_count": 21
        }
      ]
    },
    {
      "cell_type": "code",
      "metadata": {
        "id": "e5jlaSDmyHo9",
        "colab": {
          "base_uri": "https://localhost:8080/"
        },
        "outputId": "249f0600-9de4-4713-f51c-ee9709cb5234"
      },
      "source": [
        "# 설경구 - 송윤아 + 고소영\n",
        "result = word2vec_100.wv.most_similar(positive=['고소영', '설경구'], negative=['송윤아'])\n",
        "result"
      ],
      "execution_count": 22,
      "outputs": [
        {
          "output_type": "execute_result",
          "data": {
            "text/plain": [
              "[('송강호', 0.8507436513900757),\n",
              " ('혼신', 0.8417149782180786),\n",
              " ('차승원', 0.8221091628074646),\n",
              " ('정우성', 0.8217061161994934),\n",
              " ('김혜수', 0.8121574521064758),\n",
              " ('박중훈', 0.8046863079071045),\n",
              " ('임창정', 0.8042894601821899),\n",
              " ('한석규', 0.7919398546218872),\n",
              " ('디카프리오', 0.7840991020202637),\n",
              " ('러셀', 0.7838752269744873)]"
            ]
          },
          "metadata": {
            "tags": []
          },
          "execution_count": 22
        }
      ]
    }
  ]
}