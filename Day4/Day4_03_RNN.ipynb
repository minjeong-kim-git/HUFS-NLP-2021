{
  "nbformat": 4,
  "nbformat_minor": 0,
  "metadata": {
    "colab": {
      "name": "Day4_03_RNN",
      "provenance": [],
      "collapsed_sections": []
    },
    "kernelspec": {
      "name": "python3",
      "display_name": "Python 3"
    },
    "accelerator": "GPU"
  },
  "cells": [
    {
      "cell_type": "markdown",
      "metadata": {
        "id": "JHkHg6XAXoyK"
      },
      "source": [
        "# Evn"
      ]
    },
    {
      "cell_type": "code",
      "metadata": {
        "id": "WkYXFwcBXJDG"
      },
      "source": [
        "import os\n",
        "import random\n",
        "import shutil\n",
        "import json\n",
        "import zipfile\n",
        "import math\n",
        "import copy\n",
        "import collections\n",
        "import re\n",
        "\n",
        "import matplotlib.pyplot as plt\n",
        "import pandas as pd\n",
        "import numpy as np\n",
        "import tensorflow as tf\n",
        "import tensorflow.keras.backend as K\n",
        "\n",
        "from tqdm.notebook import tqdm"
      ],
      "execution_count": 1,
      "outputs": []
    },
    {
      "cell_type": "code",
      "metadata": {
        "id": "nvjyruUlXtlR"
      },
      "source": [
        "# random seed initialize\n",
        "random_seed = 1234\n",
        "random.seed(random_seed)\n",
        "np.random.seed(random_seed)\n",
        "tf.random.set_seed(random_seed)"
      ],
      "execution_count": 2,
      "outputs": []
    },
    {
      "cell_type": "code",
      "metadata": {
        "id": "BC3fXkhdYcYt",
        "colab": {
          "base_uri": "https://localhost:8080/"
        },
        "outputId": "d8c923b7-113c-4e14-bb62-d49609eec8f2"
      },
      "source": [
        "!nvidia-smi"
      ],
      "execution_count": 3,
      "outputs": [
        {
          "output_type": "stream",
          "text": [
            "NVIDIA-SMI has failed because it couldn't communicate with the NVIDIA driver. Make sure that the latest NVIDIA driver is installed and running.\n",
            "\n"
          ],
          "name": "stdout"
        }
      ]
    },
    {
      "cell_type": "markdown",
      "metadata": {
        "id": "0CdGEt7qettt"
      },
      "source": [
        "# 입력 및 Vocab"
      ]
    },
    {
      "cell_type": "code",
      "metadata": {
        "id": "v_6blgOGetBN"
      },
      "source": [
        "# 입력 문장\n",
        "sentences = [\n",
        "    '나는 오늘 기분이 좋아 나는 오늘 우울해'\n",
        "]"
      ],
      "execution_count": 4,
      "outputs": []
    },
    {
      "cell_type": "code",
      "metadata": {
        "id": "jAWGyFfxe_p-",
        "colab": {
          "base_uri": "https://localhost:8080/"
        },
        "outputId": "28f34af5-c9e4-4daf-d50d-35b522a9afe1"
      },
      "source": [
        "# 각 문장을 띄어쓰기 단위로 분할\n",
        "words = []\n",
        "for sentence in sentences:\n",
        "    words.extend(sentence.split())\n",
        "\n",
        "# 중복 단어 제거\n",
        "words = list(dict.fromkeys(words))\n",
        "\n",
        "# 각 단어별 고유한 번호 부여\n",
        "word_to_id = {'[PAD]': 0, '[UNK]': 1}\n",
        "for word in words:\n",
        "    word_to_id[word] = len(word_to_id)\n",
        "\n",
        "# 각 숫자별 단어 부여\n",
        "id_to_word = {_id:word for word, _id in word_to_id.items()}\n",
        "\n",
        "word_to_id, id_to_word"
      ],
      "execution_count": 5,
      "outputs": [
        {
          "output_type": "execute_result",
          "data": {
            "text/plain": [
              "({'[PAD]': 0, '[UNK]': 1, '기분이': 4, '나는': 2, '오늘': 3, '우울해': 6, '좋아': 5},\n",
              " {0: '[PAD]', 1: '[UNK]', 2: '나는', 3: '오늘', 4: '기분이', 5: '좋아', 6: '우울해'})"
            ]
          },
          "metadata": {
            "tags": []
          },
          "execution_count": 5
        }
      ]
    },
    {
      "cell_type": "code",
      "metadata": {
        "id": "ywpz8iOsfVnx",
        "colab": {
          "base_uri": "https://localhost:8080/"
        },
        "outputId": "188bd6cf-30b2-432d-969c-2d8b93a53db3"
      },
      "source": [
        "# 학습용 입력 데이터 생성\n",
        "train_inputs = []\n",
        "for sentence in sentences:\n",
        "    train_inputs.append([word_to_id[word] for word in sentence.split()])\n",
        "\n",
        "# train inputs을 numpy array로 변환\n",
        "train_inputs = np.array(train_inputs)\n",
        "\n",
        "train_inputs"
      ],
      "execution_count": 6,
      "outputs": [
        {
          "output_type": "execute_result",
          "data": {
            "text/plain": [
              "array([[2, 3, 4, 5, 2, 3, 6]])"
            ]
          },
          "metadata": {
            "tags": []
          },
          "execution_count": 6
        }
      ]
    },
    {
      "cell_type": "code",
      "metadata": {
        "id": "2ecE86vf0bWT"
      },
      "source": [
        "# embedding\n",
        "embedding = tf.keras.layers.Embedding(len(word_to_id), 4)"
      ],
      "execution_count": 7,
      "outputs": []
    },
    {
      "cell_type": "code",
      "metadata": {
        "id": "MtjAxtyR0efa",
        "colab": {
          "base_uri": "https://localhost:8080/"
        },
        "outputId": "54eb1688-9704-4e2e-f461-531082543e19"
      },
      "source": [
        "# 단어벡터\n",
        "hidden = embedding(train_inputs)\n",
        "hidden"
      ],
      "execution_count": 8,
      "outputs": [
        {
          "output_type": "execute_result",
          "data": {
            "text/plain": [
              "<tf.Tensor: shape=(1, 7, 4), dtype=float32, numpy=\n",
              "array([[[ 0.02788493,  0.00853021,  0.02688133, -0.00167429],\n",
              "        [ 0.00873896, -0.04772998, -0.00643448,  0.04782395],\n",
              "        [ 0.04810704, -0.03535189,  0.04945729,  0.02813626],\n",
              "        [-0.02798697, -0.00110071,  0.0133124 ,  0.00637371],\n",
              "        [ 0.02788493,  0.00853021,  0.02688133, -0.00167429],\n",
              "        [ 0.00873896, -0.04772998, -0.00643448,  0.04782395],\n",
              "        [-0.00963336, -0.01013004,  0.01826939,  0.02741292]]],\n",
              "      dtype=float32)>"
            ]
          },
          "metadata": {
            "tags": []
          },
          "execution_count": 8
        }
      ]
    },
    {
      "cell_type": "markdown",
      "metadata": {
        "id": "4djaB-QUEpM1"
      },
      "source": [
        "# RNN"
      ]
    },
    {
      "cell_type": "markdown",
      "metadata": {
        "id": "hbKSrcCiEpM4"
      },
      "source": [
        "## return sequence=False, return_state=False"
      ]
    },
    {
      "cell_type": "code",
      "metadata": {
        "id": "bidRb0FkEpM4",
        "colab": {
          "base_uri": "https://localhost:8080/"
        },
        "outputId": "424fd196-ffa3-4af9-d6d8-ec3dcaad6b6e"
      },
      "source": [
        "# rnn\r\n",
        "rnn_11 = tf.keras.layers.SimpleRNN(units = 5)\r\n",
        "output_11 = rnn_11(hidden) # (bs, units)\r\n",
        "print(output_11)"
      ],
      "execution_count": 9,
      "outputs": [
        {
          "output_type": "stream",
          "text": [
            "tf.Tensor([[ 0.0133051  -0.07108931  0.01356496  0.19825453 -0.03756267]], shape=(1, 5), dtype=float32)\n"
          ],
          "name": "stdout"
        }
      ]
    },
    {
      "cell_type": "code",
      "metadata": {
        "id": "uRukSKKQEpM5",
        "colab": {
          "base_uri": "https://localhost:8080/"
        },
        "outputId": "ca975947-d488-471b-cfa5-7f65bf5501c3"
      },
      "source": [
        "# rnn weights\r\n",
        "weights = rnn_11.get_weights()\r\n",
        "Wx = weights[0]\r\n",
        "Wh = weights[1]\r\n",
        "b = weights[2]\r\n",
        "print(Wx.shape) # (d_model, unit)\r\n",
        "print(Wh.shape) # (unit, unit)\r\n",
        "print(b.shape) # (unit, )"
      ],
      "execution_count": 10,
      "outputs": [
        {
          "output_type": "stream",
          "text": [
            "(4, 5)\n",
            "(5, 5)\n",
            "(5,)\n"
          ],
          "name": "stdout"
        }
      ]
    },
    {
      "cell_type": "markdown",
      "metadata": {
        "id": "FIUQbE4JEpM6"
      },
      "source": [
        "## return sequence=True, return_state=False"
      ]
    },
    {
      "cell_type": "code",
      "metadata": {
        "id": "uftac_GnEpM6",
        "colab": {
          "base_uri": "https://localhost:8080/"
        },
        "outputId": "b0e0d04a-6a0f-4747-ba25-93c0159a63d3"
      },
      "source": [
        "# (return_sequences=True)\r\n",
        "rnn_12 = tf.keras.layers.SimpleRNN(units = 5, return_sequences = True)\r\n",
        "output_12 = rnn_12(hidden) # (bs, seq, units)\r\n",
        "print(output_12)"
      ],
      "execution_count": 11,
      "outputs": [
        {
          "output_type": "stream",
          "text": [
            "tf.Tensor(\n",
            "[[[ 2.9929113e-02  4.1185715e-03 -7.3335785e-03 -2.7490623e-02\n",
            "   -4.2592518e-02]\n",
            "  [ 2.1723522e-02  3.4244298e-03 -8.8698808e-03  1.3401901e-02\n",
            "   -2.1286123e-02]\n",
            "  [ 4.8892803e-02 -1.5492372e-02  5.2009160e-03 -5.0389312e-02\n",
            "   -6.7127943e-02]\n",
            "  [ 5.3107738e-02  3.3684172e-02  4.7106575e-02  2.6926834e-02\n",
            "   -1.6819069e-02]\n",
            "  [ 6.6921949e-02 -6.2659383e-06  3.1169422e-02 -2.7292369e-02\n",
            "    2.3001337e-02]\n",
            "  [ 5.5012092e-02 -4.9766455e-02 -4.8280213e-02  2.3197087e-02\n",
            "    1.8371815e-02]\n",
            "  [ 1.5149739e-02 -9.3269765e-02  1.8400183e-02  7.5476407e-04\n",
            "   -6.5119125e-02]]], shape=(1, 7, 5), dtype=float32)\n"
          ],
          "name": "stdout"
        }
      ]
    },
    {
      "cell_type": "markdown",
      "metadata": {
        "id": "b08qbae2EpM6"
      },
      "source": [
        "## return sequence=False, return_state=True"
      ]
    },
    {
      "cell_type": "code",
      "metadata": {
        "id": "KBslq0P_EpM6",
        "colab": {
          "base_uri": "https://localhost:8080/"
        },
        "outputId": "5db13011-2eb5-4e12-d33d-118fd26186fa"
      },
      "source": [
        "# (return_state=True)\r\n",
        "rnn_13 = tf.keras.layers.SimpleRNN(units = 5, return_state = True)\r\n",
        "output_13, fw_h_13 = rnn_13(hidden) # (bs, units), (bs, units)\r\n",
        "print(output_13)\r\n",
        "print(fw_h_13)"
      ],
      "execution_count": 12,
      "outputs": [
        {
          "output_type": "stream",
          "text": [
            "tf.Tensor([[-0.22489886  0.0802756   0.02204562 -0.07525434 -0.12735648]], shape=(1, 5), dtype=float32)\n",
            "tf.Tensor([[-0.22489886  0.0802756   0.02204562 -0.07525434 -0.12735648]], shape=(1, 5), dtype=float32)\n"
          ],
          "name": "stdout"
        }
      ]
    },
    {
      "cell_type": "markdown",
      "metadata": {
        "id": "0sQe9bt3EpM7"
      },
      "source": [
        "## return sequence=True, return_state=True"
      ]
    },
    {
      "cell_type": "code",
      "metadata": {
        "id": "Td7tlwESEpM7",
        "colab": {
          "base_uri": "https://localhost:8080/"
        },
        "outputId": "a5acf466-3e9d-45a9-b630-34b7c7b9088d"
      },
      "source": [
        "# (return_sequences=True, return_state=True)\r\n",
        "rnn_14 = tf.keras.layers.SimpleRNN(units = 5, return_sequences = True, return_state = True)\r\n",
        "output_14, fw_h_14 = rnn_14(hidden) # (bs, seq, units), (bs, units)\r\n",
        "print(output_14)\r\n",
        "print(fw_h_14)"
      ],
      "execution_count": 13,
      "outputs": [
        {
          "output_type": "stream",
          "text": [
            "tf.Tensor(\n",
            "[[[-0.00567131  0.00702238  0.0166551  -0.02649674 -0.00639815]\n",
            "  [ 0.00745121  0.00397363 -0.03161482  0.00067732  0.03525217]\n",
            "  [ 0.02503373  0.04381724 -0.01435504 -0.07607194 -0.03647323]\n",
            "  [ 0.03158387 -0.03594297 -0.03295876  0.09170678  0.00911083]\n",
            "  [-0.06396969  0.06692141  0.02803503 -0.07891872 -0.05069153]\n",
            "  [ 0.03279418 -0.04417153 -0.09341431  0.0333666   0.09773416]\n",
            "  [ 0.01325146  0.01543665  0.01574938 -0.08289386 -0.10723303]]], shape=(1, 7, 5), dtype=float32)\n",
            "tf.Tensor([[ 0.01325146  0.01543665  0.01574938 -0.08289386 -0.10723303]], shape=(1, 5), dtype=float32)\n"
          ],
          "name": "stdout"
        }
      ]
    },
    {
      "cell_type": "markdown",
      "metadata": {
        "id": "UwYL3S69EpM7"
      },
      "source": [
        "## init hidden state"
      ]
    },
    {
      "cell_type": "code",
      "metadata": {
        "id": "U2fQKgI2EpM7",
        "colab": {
          "base_uri": "https://localhost:8080/"
        },
        "outputId": "bff6a279-ec55-403f-fff6-39a27ff3ce9e"
      },
      "source": [
        "# rnn_11 with fw_h_13\r\n",
        "rnn_11(hidden, initial_state = [fw_h_13]) # (bs, units)"
      ],
      "execution_count": 14,
      "outputs": [
        {
          "output_type": "execute_result",
          "data": {
            "text/plain": [
              "<tf.Tensor: shape=(1, 5), dtype=float32, numpy=\n",
              "array([[-0.06465904, -0.25594386, -0.12518847,  0.13231519, -0.02561215]],\n",
              "      dtype=float32)>"
            ]
          },
          "metadata": {
            "tags": []
          },
          "execution_count": 14
        }
      ]
    },
    {
      "cell_type": "code",
      "metadata": {
        "id": "Jnw8LPLuEpM7",
        "colab": {
          "base_uri": "https://localhost:8080/"
        },
        "outputId": "4800a544-087b-4097-f054-531df00b6435"
      },
      "source": [
        "# rnn_12 with fw_h_14\r\n",
        "rnn_12(hidden, initial_state = [fw_h_14]) # (bs, n_seq, units)"
      ],
      "execution_count": 15,
      "outputs": [
        {
          "output_type": "execute_result",
          "data": {
            "text/plain": [
              "<tf.Tensor: shape=(1, 7, 5), dtype=float32, numpy=\n",
              "array([[[ 0.08970518,  0.12074085,  0.02214284, -0.00741253,\n",
              "         -0.06301705],\n",
              "        [ 0.06890634,  0.02803107,  0.03387965, -0.06119582,\n",
              "          0.07141123],\n",
              "        [ 0.13040169, -0.04140752, -0.09347053, -0.06496175,\n",
              "         -0.03006374],\n",
              "        [ 0.11627129, -0.0390062 ,  0.06014571, -0.02257581,\n",
              "         -0.09820992],\n",
              "        [ 0.14631155,  0.0332644 ,  0.08039215,  0.05096842,\n",
              "         -0.0258085 ],\n",
              "        [ 0.08789143, -0.06898136,  0.05173643,  0.0284674 ,\n",
              "          0.1006607 ],\n",
              "        [ 0.04806692, -0.15309522, -0.04242581,  0.05481387,\n",
              "          0.01750817]]], dtype=float32)>"
            ]
          },
          "metadata": {
            "tags": []
          },
          "execution_count": 15
        }
      ]
    },
    {
      "cell_type": "code",
      "metadata": {
        "id": "WG9r1sUTEpM9",
        "colab": {
          "base_uri": "https://localhost:8080/"
        },
        "outputId": "317e3d3c-205c-4e78-e999-5cbf26f36cc8"
      },
      "source": [
        "# rnn_13 with fw_h_13\r\n",
        "rnn_13(hidden, initial_state = [fw_h_13]) # (bs, units)"
      ],
      "execution_count": 16,
      "outputs": [
        {
          "output_type": "execute_result",
          "data": {
            "text/plain": [
              "[<tf.Tensor: shape=(1, 5), dtype=float32, numpy=\n",
              " array([[-0.16090795, -0.01084654,  0.00649465,  0.03989044,  0.08458714]],\n",
              "       dtype=float32)>, <tf.Tensor: shape=(1, 5), dtype=float32, numpy=\n",
              " array([[-0.16090795, -0.01084654,  0.00649465,  0.03989044,  0.08458714]],\n",
              "       dtype=float32)>]"
            ]
          },
          "metadata": {
            "tags": []
          },
          "execution_count": 16
        }
      ]
    },
    {
      "cell_type": "code",
      "metadata": {
        "id": "Q49PN3l9EpM9",
        "colab": {
          "base_uri": "https://localhost:8080/"
        },
        "outputId": "1e44cb88-ee25-4d32-d0f0-47dc8a6e0932"
      },
      "source": [
        "# rnn_14 with fw_h_14\r\n",
        "rnn_14(hidden, initial_state = [fw_h_14])  # (bs, n_seq, units)"
      ],
      "execution_count": 17,
      "outputs": [
        {
          "output_type": "execute_result",
          "data": {
            "text/plain": [
              "[<tf.Tensor: shape=(1, 7, 5), dtype=float32, numpy=\n",
              " array([[[-0.04023583, -0.04856527, -0.00745723,  0.08569601,\n",
              "           0.03263333],\n",
              "         [-0.03993218,  0.04022601, -0.0133417 , -0.1201784 ,\n",
              "           0.01704529],\n",
              "         [ 0.08773063, -0.04925723, -0.03939974, -0.01440458,\n",
              "           0.00531509],\n",
              "         [-0.01835137,  0.00441733,  0.04440122,  0.04724793,\n",
              "          -0.07235702],\n",
              "         [-0.06754464,  0.03039353,  0.0077003 , -0.02238409,\n",
              "           0.0663793 ],\n",
              "         [ 0.07404423, -0.00928033, -0.04943877, -0.06849191,\n",
              "           0.03991261],\n",
              "         [ 0.03545617, -0.01660541,  0.01871964,  0.04337611,\n",
              "          -0.07521319]]], dtype=float32)>,\n",
              " <tf.Tensor: shape=(1, 5), dtype=float32, numpy=\n",
              " array([[ 0.03545617, -0.01660541,  0.01871964,  0.04337611, -0.07521319]],\n",
              "       dtype=float32)>]"
            ]
          },
          "metadata": {
            "tags": []
          },
          "execution_count": 17
        }
      ]
    },
    {
      "cell_type": "markdown",
      "metadata": {
        "id": "IERrFgvZEpM9"
      },
      "source": [
        "# LSTM"
      ]
    },
    {
      "cell_type": "markdown",
      "metadata": {
        "id": "qCoEmDGrEpM9"
      },
      "source": [
        "## return sequence=False, return_state=False"
      ]
    },
    {
      "cell_type": "code",
      "metadata": {
        "id": "e49TFNGREpM-",
        "colab": {
          "base_uri": "https://localhost:8080/"
        },
        "outputId": "964b1f12-89c3-4bd3-84a9-f074f15010cb"
      },
      "source": [
        "# lstm\r\n",
        "lstm_11 = tf.keras.layers.LSTM(units = 5)\r\n",
        "output_11 = lstm_11(hidden) # (bs, units)\r\n",
        "print(output_11)"
      ],
      "execution_count": 18,
      "outputs": [
        {
          "output_type": "stream",
          "text": [
            "tf.Tensor([[ 0.01252828 -0.01186483 -0.01100005  0.00128962  0.00689079]], shape=(1, 5), dtype=float32)\n"
          ],
          "name": "stdout"
        }
      ]
    },
    {
      "cell_type": "code",
      "metadata": {
        "id": "zayc3AHAEpM-",
        "colab": {
          "base_uri": "https://localhost:8080/"
        },
        "outputId": "e164e705-39b0-451a-b814-68f319ffa28d"
      },
      "source": [
        "# lstm weights\r\n",
        "weights = lstm_11.get_weights()\r\n",
        "Wx = weights[0]\r\n",
        "Wh = weights[1]\r\n",
        "b = weights[2]\r\n",
        "print(Wx.shape) # (d_model, unit * 4) (Wxf, Wxi, Wxc, Wxo)\r\n",
        "print(Wh.shape) # (unit, unit * 4) (Whf, Whi, Whc, Who)\r\n",
        "print(b.shape) # (unit * 4) (bf, bi, bc, bo)"
      ],
      "execution_count": 19,
      "outputs": [
        {
          "output_type": "stream",
          "text": [
            "(4, 20)\n",
            "(5, 20)\n",
            "(20,)\n"
          ],
          "name": "stdout"
        }
      ]
    },
    {
      "cell_type": "markdown",
      "metadata": {
        "id": "LkG2MYdTEpM-"
      },
      "source": [
        "## return sequence=True, return_state=False"
      ]
    },
    {
      "cell_type": "code",
      "metadata": {
        "id": "KxnMP990EpM-",
        "colab": {
          "base_uri": "https://localhost:8080/"
        },
        "outputId": "d30e553d-b342-4e16-de9f-125b43a4e369"
      },
      "source": [
        "# (return_sequences=True)\r\n",
        "lstm_12 = tf.keras.layers.LSTM(units = 5, return_sequences = True)\r\n",
        "output_12 = lstm_12(hidden) # (bs, seq, units)\r\n",
        "print(output_12)"
      ],
      "execution_count": 20,
      "outputs": [
        {
          "output_type": "stream",
          "text": [
            "tf.Tensor(\n",
            "[[[-0.00544438 -0.00505095  0.00146407 -0.00019775 -0.00408297]\n",
            "  [ 0.00092337  0.00106309 -0.00256752  0.00214575 -0.00409309]\n",
            "  [-0.00466804 -0.00234009 -0.00467811  0.00283395 -0.01177095]\n",
            "  [-0.00136526  0.00112071 -0.00880491  0.00172207 -0.00966275]\n",
            "  [-0.00722189 -0.00401253 -0.00514568  0.00093245 -0.01217541]\n",
            "  [-0.00101653  0.00202121 -0.00762216  0.00274471 -0.01070324]\n",
            "  [ 0.00060078  0.00327611 -0.0104871   0.00319098 -0.00986872]]], shape=(1, 7, 5), dtype=float32)\n"
          ],
          "name": "stdout"
        }
      ]
    },
    {
      "cell_type": "markdown",
      "metadata": {
        "id": "xhATu4loEpM-"
      },
      "source": [
        "## return sequence=False, return_state=True"
      ]
    },
    {
      "cell_type": "code",
      "metadata": {
        "id": "OHZ1e4Q8EpM-",
        "colab": {
          "base_uri": "https://localhost:8080/"
        },
        "outputId": "51f22e1a-708e-4cab-d576-5a662f8fc6d3"
      },
      "source": [
        "# (return_state=True)\r\n",
        "lstm_13 = tf.keras.layers.LSTM(units = 5, return_state = True)\r\n",
        "output_13, fw_h_13, fw_c_13 = lstm_13(hidden) # (bs, units * 2), (bs, units), (bs, units)\r\n",
        "print(output_13)\r\n",
        "print(fw_h_13)\r\n",
        "print(fw_c_13)"
      ],
      "execution_count": 21,
      "outputs": [
        {
          "output_type": "stream",
          "text": [
            "tf.Tensor(\n",
            "[[ 7.6129837e-03 -1.5287815e-02  7.3035844e-03  4.7374528e-05\n",
            "   1.1121367e-02]], shape=(1, 5), dtype=float32)\n",
            "tf.Tensor(\n",
            "[[ 7.6129837e-03 -1.5287815e-02  7.3035844e-03  4.7374528e-05\n",
            "   1.1121367e-02]], shape=(1, 5), dtype=float32)\n",
            "tf.Tensor(\n",
            "[[ 1.5119700e-02 -3.0797761e-02  1.4539103e-02  9.5068710e-05\n",
            "   2.2492610e-02]], shape=(1, 5), dtype=float32)\n"
          ],
          "name": "stdout"
        }
      ]
    },
    {
      "cell_type": "markdown",
      "metadata": {
        "id": "Fw8vlO4BEpM_"
      },
      "source": [
        "## return sequence=True, return_state=True"
      ]
    },
    {
      "cell_type": "code",
      "metadata": {
        "id": "tsBwUaxREpM_",
        "colab": {
          "base_uri": "https://localhost:8080/"
        },
        "outputId": "acc0db31-a045-470f-cb35-b03fc757afcf"
      },
      "source": [
        "# (return_sequences=True, return_state=True)\r\n",
        "lstm_14 = tf.keras.layers.LSTM(units = 5, return_sequences = True, return_state = True)\r\n",
        "output_14, fw_h_14, fw_c_14 = lstm_14(hidden) # (bs, seq, units), (bs, units), (bs, units)\r\n",
        "print(output_14)\r\n",
        "print(fw_h_14)\r\n",
        "print(fw_c_14)"
      ],
      "execution_count": 22,
      "outputs": [
        {
          "output_type": "stream",
          "text": [
            "tf.Tensor(\n",
            "[[[ 0.00040525 -0.00275002  0.00038114 -0.00120663  0.00231446]\n",
            "  [-0.00520107 -0.00223845 -0.00043894 -0.0053069  -0.00388033]\n",
            "  [-0.00688379 -0.00716671 -0.00024295 -0.00974881 -0.00305707]\n",
            "  [-0.00176606 -0.0059406   0.00495924 -0.00458891 -0.00075247]\n",
            "  [-0.00092784 -0.00677031  0.00413757 -0.00491618  0.00158901]\n",
            "  [-0.00619131 -0.00487417  0.00241962 -0.00824052 -0.00451456]\n",
            "  [-0.00361855 -0.00470538  0.00690781 -0.00543056 -0.0025354 ]]], shape=(1, 7, 5), dtype=float32)\n",
            "tf.Tensor([[-0.00361855 -0.00470538  0.00690781 -0.00543056 -0.0025354 ]], shape=(1, 5), dtype=float32)\n",
            "tf.Tensor([[-0.00723412 -0.0093214   0.01380899 -0.01084146 -0.00508808]], shape=(1, 5), dtype=float32)\n"
          ],
          "name": "stdout"
        }
      ]
    },
    {
      "cell_type": "markdown",
      "metadata": {
        "id": "jrerwhbEEpM_"
      },
      "source": [
        "## init hidden state"
      ]
    },
    {
      "cell_type": "code",
      "metadata": {
        "id": "DiTpY6GvEpM_",
        "colab": {
          "base_uri": "https://localhost:8080/"
        },
        "outputId": "25050cb8-5de4-4640-abcc-819f28a0b0a7"
      },
      "source": [
        "# lstm_11 with fw_h_13, fw_c_13\r\n",
        "lstm_11(hidden, initial_state=[fw_h_13, fw_c_13]) # (bs, units)"
      ],
      "execution_count": 23,
      "outputs": [
        {
          "output_type": "execute_result",
          "data": {
            "text/plain": [
              "<tf.Tensor: shape=(1, 5), dtype=float32, numpy=\n",
              "array([[ 0.01215497, -0.01394066, -0.01243898,  0.00035355,  0.00925506]],\n",
              "      dtype=float32)>"
            ]
          },
          "metadata": {
            "tags": []
          },
          "execution_count": 23
        }
      ]
    },
    {
      "cell_type": "code",
      "metadata": {
        "id": "9VrA5cIcEpM_",
        "colab": {
          "base_uri": "https://localhost:8080/"
        },
        "outputId": "44b9e034-8fbb-4722-a66b-e9840b4b4175"
      },
      "source": [
        "# lstm_12 with fw_h_14, fw_c_14\r\n",
        "lstm_12(hidden, initial_state=[fw_h_14, fw_c_14]) # (bs, n_seq, units)"
      ],
      "execution_count": 24,
      "outputs": [
        {
          "output_type": "execute_result",
          "data": {
            "text/plain": [
              "<tf.Tensor: shape=(1, 7, 5), dtype=float32, numpy=\n",
              "array([[[-7.3097218e-03, -8.6579267e-03,  6.5108277e-03, -4.6995520e-03,\n",
              "         -6.1655948e-03],\n",
              "        [ 2.5162593e-04, -1.8132351e-03,  1.2117121e-03, -1.3395882e-03,\n",
              "         -5.7245716e-03],\n",
              "        [-4.5920075e-03, -4.5240764e-03, -1.8206030e-03,  4.4292374e-05,\n",
              "         -1.3040293e-02],\n",
              "        [-8.1744191e-04, -5.4931070e-04, -6.6617574e-03, -3.8644686e-04,\n",
              "         -1.0613153e-02],\n",
              "        [-6.4202966e-03, -5.2729584e-03, -3.5087359e-03, -6.8675214e-04,\n",
              "         -1.2861537e-02],\n",
              "        [-8.9272165e-05,  1.0454296e-03, -6.3446397e-03,  1.5852144e-03,\n",
              "         -1.1164520e-02],\n",
              "        [ 1.5599113e-03,  2.5538309e-03, -9.4951764e-03,  2.3441282e-03,\n",
              "         -1.0163450e-02]]], dtype=float32)>"
            ]
          },
          "metadata": {
            "tags": []
          },
          "execution_count": 24
        }
      ]
    },
    {
      "cell_type": "code",
      "metadata": {
        "id": "9t0mejmaEpM_",
        "colab": {
          "base_uri": "https://localhost:8080/"
        },
        "outputId": "fa5095d1-fd87-4230-8c2d-14945449cb10"
      },
      "source": [
        "# lstm_13 with fw_h_13, fw_c_13\r\n",
        "lstm_13(hidden, initial_state=[fw_h_13, fw_c_13]) # (bs, units), (bs, units), (bs, units)"
      ],
      "execution_count": 25,
      "outputs": [
        {
          "output_type": "execute_result",
          "data": {
            "text/plain": [
              "[<tf.Tensor: shape=(1, 5), dtype=float32, numpy=\n",
              " array([[ 0.01113445, -0.0181876 ,  0.01266127, -0.00279448,  0.01636327]],\n",
              "       dtype=float32)>, <tf.Tensor: shape=(1, 5), dtype=float32, numpy=\n",
              " array([[ 0.01113445, -0.0181876 ,  0.01266127, -0.00279448,  0.01636327]],\n",
              "       dtype=float32)>, <tf.Tensor: shape=(1, 5), dtype=float32, numpy=\n",
              " array([[ 0.02208105, -0.03670878,  0.02523495, -0.0056196 ,  0.03310997]],\n",
              "       dtype=float32)>]"
            ]
          },
          "metadata": {
            "tags": []
          },
          "execution_count": 25
        }
      ]
    },
    {
      "cell_type": "code",
      "metadata": {
        "id": "O8Lsx8TSEpNA",
        "colab": {
          "base_uri": "https://localhost:8080/"
        },
        "outputId": "18d779cf-84d3-4a05-bd0d-b6c548558e72"
      },
      "source": [
        "# lstm_14 with fw_h_14, fw_c_14\r\n",
        "lstm_14(hidden, initial_state=[fw_h_14, fw_c_14]) # (bs, n_seq, units), (bs, units), (bs, units)"
      ],
      "execution_count": 26,
      "outputs": [
        {
          "output_type": "execute_result",
          "data": {
            "text/plain": [
              "[<tf.Tensor: shape=(1, 7, 5), dtype=float32, numpy=\n",
              " array([[[-0.00241018, -0.00558355,  0.00569973, -0.0054552 ,\n",
              "           0.00055526],\n",
              "         [-0.00738834, -0.00379501,  0.00365711, -0.00856859,\n",
              "          -0.00504782],\n",
              "         [-0.0085752 , -0.00787436,  0.00294753, -0.01219721,\n",
              "          -0.00383559],\n",
              "         [-0.00311176, -0.00611526,  0.00749481, -0.00639922,\n",
              "          -0.00124679],\n",
              "         [-0.00200747, -0.00661883,  0.00610426, -0.00623128,\n",
              "           0.00128764],\n",
              "         [-0.00705873, -0.00454286,  0.00394774, -0.00918079,\n",
              "          -0.00467455],\n",
              "         [-0.00432382, -0.00428938,  0.00812357, -0.00609291,\n",
              "          -0.00260176]]], dtype=float32)>,\n",
              " <tf.Tensor: shape=(1, 5), dtype=float32, numpy=\n",
              " array([[-0.00432382, -0.00428938,  0.00812357, -0.00609291, -0.00260176]],\n",
              "       dtype=float32)>,\n",
              " <tf.Tensor: shape=(1, 5), dtype=float32, numpy=\n",
              " array([[-0.00864326, -0.00849324,  0.016246  , -0.01216442, -0.00522   ]],\n",
              "       dtype=float32)>]"
            ]
          },
          "metadata": {
            "tags": []
          },
          "execution_count": 26
        }
      ]
    },
    {
      "cell_type": "markdown",
      "metadata": {
        "id": "3Dxp5BWdEpNA"
      },
      "source": [
        "# GRU"
      ]
    },
    {
      "cell_type": "markdown",
      "metadata": {
        "id": "a0rCzGcNEpNA"
      },
      "source": [
        "## return sequence=False, return_state=False"
      ]
    },
    {
      "cell_type": "code",
      "metadata": {
        "id": "3rFlpzlVEpNA",
        "colab": {
          "base_uri": "https://localhost:8080/"
        },
        "outputId": "4430bc7f-f22c-46c8-b853-720d8d2fd791"
      },
      "source": [
        "# GRU\r\n",
        "gru_11 = tf.keras.layers.GRU(units = 5)\r\n",
        "output_11 = gru_11(hidden) # (bs, units)\r\n",
        "print(output_11)"
      ],
      "execution_count": 27,
      "outputs": [
        {
          "output_type": "stream",
          "text": [
            "tf.Tensor([[-0.00128841  0.01591058 -0.01686392 -0.00689237 -0.01078903]], shape=(1, 5), dtype=float32)\n"
          ],
          "name": "stdout"
        }
      ]
    },
    {
      "cell_type": "code",
      "metadata": {
        "id": "wpeqndfqEpNA",
        "colab": {
          "base_uri": "https://localhost:8080/"
        },
        "outputId": "90d26eee-e3b5-43fa-b04a-087cebabeac1"
      },
      "source": [
        "# GRU weights\r\n",
        "weights = gru_11.get_weights()\r\n",
        "Wx = weights[0]\r\n",
        "Wh = weights[1]\r\n",
        "b = weights[2]\r\n",
        "print(Wx.shape) # (d_model, unit * 3) (Wxr, Wxz, Wxg)\r\n",
        "print(Wh.shape) # (unit, unit * 3) (Whr, Whz, Whg)\r\n",
        "print(b.shape) # (2, unit * 3) (bxr, bxz, bxg),(bhr, bhz, bhg)"
      ],
      "execution_count": 28,
      "outputs": [
        {
          "output_type": "stream",
          "text": [
            "(4, 15)\n",
            "(5, 15)\n",
            "(2, 15)\n"
          ],
          "name": "stdout"
        }
      ]
    },
    {
      "cell_type": "markdown",
      "metadata": {
        "id": "_hzfJO5dEpNA"
      },
      "source": [
        "## return sequence=True, return_state=False"
      ]
    },
    {
      "cell_type": "code",
      "metadata": {
        "id": "swrWddyVEpNA",
        "colab": {
          "base_uri": "https://localhost:8080/"
        },
        "outputId": "7cd2f1e2-38df-4ea0-c70e-32915fe7f68a"
      },
      "source": [
        "# (return_sequences=True)\r\n",
        "gru_12 = tf.keras.layers.GRU(units = 5, return_sequences = True)\r\n",
        "output_12 = gru_12(hidden)  # (bs, seq, units)\r\n",
        "print(output_12)"
      ],
      "execution_count": 29,
      "outputs": [
        {
          "output_type": "stream",
          "text": [
            "tf.Tensor(\n",
            "[[[-0.00724988 -0.01204025 -0.00660731 -0.00241936  0.01091108]\n",
            "  [-0.00690028 -0.00760665  0.00473171  0.02366268  0.02218487]\n",
            "  [-0.01982779 -0.02418694 -0.000265    0.03126299  0.04256844]\n",
            "  [-0.00805993 -0.00707422  0.00594501  0.02301816  0.02065855]\n",
            "  [-0.0146784  -0.0149042  -0.00365479  0.01337637  0.02291579]\n",
            "  [-0.01298529 -0.00852203  0.00638297  0.03420675  0.02937598]\n",
            "  [-0.01063064 -0.00421955  0.01115373  0.0308162   0.02547237]]], shape=(1, 7, 5), dtype=float32)\n"
          ],
          "name": "stdout"
        }
      ]
    },
    {
      "cell_type": "markdown",
      "metadata": {
        "id": "7e5j3OBVEpNB"
      },
      "source": [
        "## return sequence=False, return_state=True"
      ]
    },
    {
      "cell_type": "code",
      "metadata": {
        "id": "Js_V2vXMEpNB",
        "colab": {
          "base_uri": "https://localhost:8080/"
        },
        "outputId": "e9a99be4-c9c0-4e54-fb14-553cd3ba8c8c"
      },
      "source": [
        "# (return_state=True)\r\n",
        "gru_13 = tf.keras.layers.GRU(units = 5, return_state = True)\r\n",
        "output_13, fw_h_13 = gru_13(hidden)  # (bs, units), (bs, units)\r\n",
        "print(output_13)\r\n",
        "print(fw_h_13)"
      ],
      "execution_count": 31,
      "outputs": [
        {
          "output_type": "stream",
          "text": [
            "tf.Tensor([[-0.0019341   0.01071739  0.00788937  0.01066312 -0.00221146]], shape=(1, 5), dtype=float32)\n",
            "tf.Tensor([[-0.0019341   0.01071739  0.00788937  0.01066312 -0.00221146]], shape=(1, 5), dtype=float32)\n"
          ],
          "name": "stdout"
        }
      ]
    },
    {
      "cell_type": "markdown",
      "metadata": {
        "id": "hQYtG3aOEpNB"
      },
      "source": [
        "## return sequence=True, return_state=True"
      ]
    },
    {
      "cell_type": "code",
      "metadata": {
        "id": "oEUk24pmEpNB",
        "colab": {
          "base_uri": "https://localhost:8080/"
        },
        "outputId": "20004ac2-7bfb-4a88-bb6c-76f45040310a"
      },
      "source": [
        "# (return_sequences=True, return_state=True)\r\n",
        "gru_14 = tf.keras.layers.GRU(units = 5, return_sequences = True, return_state = True)\r\n",
        "output_14, fw_h_14 = gru_14(hidden)  # (bs, seq, units * 2), (bs, units)\r\n",
        "print(output_14)\r\n",
        "print(fw_h_14)"
      ],
      "execution_count": 32,
      "outputs": [
        {
          "output_type": "stream",
          "text": [
            "tf.Tensor(\n",
            "[[[-0.00381347  0.00607597  0.00153289  0.00026855  0.01145666]\n",
            "  [-0.00331714  0.01010486 -0.01224199 -0.01133284  0.00853806]\n",
            "  [-0.00093711  0.01803945 -0.0145158  -0.01409486  0.02851611]\n",
            "  [ 0.00880802  0.01154291 -0.0096231  -0.00740737  0.012196  ]\n",
            "  [ 0.00363141  0.01305108 -0.00426213 -0.00214698  0.01840561]\n",
            "  [ 0.00235771  0.01434101 -0.01598028 -0.01207952  0.01253426]\n",
            "  [ 0.00402145  0.01470503 -0.0129416  -0.01024149  0.00994625]]], shape=(1, 7, 5), dtype=float32)\n",
            "tf.Tensor([[ 0.00402145  0.01470503 -0.0129416  -0.01024149  0.00994625]], shape=(1, 5), dtype=float32)\n"
          ],
          "name": "stdout"
        }
      ]
    },
    {
      "cell_type": "markdown",
      "metadata": {
        "id": "zGu354Z0EpNB"
      },
      "source": [
        "## init hidden state"
      ]
    },
    {
      "cell_type": "code",
      "metadata": {
        "colab": {
          "base_uri": "https://localhost:8080/"
        },
        "id": "guJ1K1BJEpNB",
        "outputId": "94c8adf3-9e0e-47b8-e6ff-22c5f725a177"
      },
      "source": [
        "gru_11(hidden, initial_state=[fw_h_13])  # (bs, units)"
      ],
      "execution_count": 33,
      "outputs": [
        {
          "output_type": "execute_result",
          "data": {
            "text/plain": [
              "<tf.Tensor: shape=(1, 5), dtype=float32, numpy=\n",
              "array([[-0.00140842,  0.01592344, -0.01623747, -0.00670336, -0.01101907]],\n",
              "      dtype=float32)>"
            ]
          },
          "metadata": {
            "tags": []
          },
          "execution_count": 33
        }
      ]
    },
    {
      "cell_type": "code",
      "metadata": {
        "colab": {
          "base_uri": "https://localhost:8080/"
        },
        "id": "NyHTrpF1EpNB",
        "outputId": "e30e0e2a-495b-4f35-afad-e5046025d920"
      },
      "source": [
        "gru_12(hidden, initial_state=[fw_h_14])  # (bs, n_seq, units)"
      ],
      "execution_count": 34,
      "outputs": [
        {
          "output_type": "execute_result",
          "data": {
            "text/plain": [
              "<tf.Tensor: shape=(1, 7, 5), dtype=float32, numpy=\n",
              "array([[[-0.00300019, -0.00323922, -0.01454308, -0.00958822,\n",
              "          0.01849951],\n",
              "        [-0.00319965, -0.00230684, -0.00040348,  0.0188137 ,\n",
              "          0.02772161],\n",
              "        [-0.01684529, -0.02090497, -0.00366238,  0.02805248,\n",
              "          0.04653085],\n",
              "        [-0.00582952, -0.00502904,  0.00368652,  0.0209058 ,\n",
              "          0.02341765],\n",
              "        [-0.01303946, -0.01359165, -0.00516605,  0.01199155,\n",
              "          0.02483771],\n",
              "        [-0.01180617, -0.00767625,  0.00535123,  0.03328608,\n",
              "          0.03071455],\n",
              "        [-0.00979845, -0.00366684,  0.01045386,  0.03020769,\n",
              "          0.02639962]]], dtype=float32)>"
            ]
          },
          "metadata": {
            "tags": []
          },
          "execution_count": 34
        }
      ]
    },
    {
      "cell_type": "code",
      "metadata": {
        "colab": {
          "base_uri": "https://localhost:8080/"
        },
        "id": "-Szb--ULEpNB",
        "outputId": "0a14833f-29fa-47c8-9861-a7d369396341"
      },
      "source": [
        "gru_13(hidden, initial_state=[fw_h_13])  # (bs, units), (bs, units)"
      ],
      "execution_count": 35,
      "outputs": [
        {
          "output_type": "execute_result",
          "data": {
            "text/plain": [
              "[<tf.Tensor: shape=(1, 5), dtype=float32, numpy=\n",
              " array([[-0.00188146,  0.01085301,  0.00768062,  0.01064109, -0.00205139]],\n",
              "       dtype=float32)>, <tf.Tensor: shape=(1, 5), dtype=float32, numpy=\n",
              " array([[-0.00188146,  0.01085301,  0.00768062,  0.01064109, -0.00205139]],\n",
              "       dtype=float32)>]"
            ]
          },
          "metadata": {
            "tags": []
          },
          "execution_count": 35
        }
      ]
    },
    {
      "cell_type": "code",
      "metadata": {
        "colab": {
          "base_uri": "https://localhost:8080/"
        },
        "id": "st97OupXCLhp",
        "outputId": "d3a01a4d-b3e8-47f0-f046-cfdcc4753443"
      },
      "source": [
        "gru_14(hidden, initial_state=[fw_h_14]) # (bs, n_seq, units), (bs, units)"
      ],
      "execution_count": 36,
      "outputs": [
        {
          "output_type": "execute_result",
          "data": {
            "text/plain": [
              "[<tf.Tensor: shape=(1, 7, 5), dtype=float32, numpy=\n",
              " array([[[ 0.00120912,  0.01436689, -0.00526015, -0.00245608,\n",
              "           0.01752719],\n",
              "         [ 0.00106435,  0.0148916 , -0.01622299, -0.01184704,\n",
              "           0.01214018],\n",
              "         [ 0.00249824,  0.02077618, -0.01704834, -0.01405097,\n",
              "           0.03059548],\n",
              "         [ 0.01132524,  0.01315177, -0.01130751, -0.0072835 ,\n",
              "           0.01345716],\n",
              "         [ 0.00543236,  0.0139883 , -0.00539421, -0.00206096,\n",
              "           0.01916937],\n",
              "         [ 0.00361664,  0.0148993 , -0.01673315, -0.01203724,\n",
              "           0.01301165],\n",
              "         [ 0.00488993,  0.01504152, -0.01344696, -0.01023171,\n",
              "           0.01024941]]], dtype=float32)>,\n",
              " <tf.Tensor: shape=(1, 5), dtype=float32, numpy=\n",
              " array([[ 0.00488993,  0.01504152, -0.01344696, -0.01023171,  0.01024941]],\n",
              "       dtype=float32)>]"
            ]
          },
          "metadata": {
            "tags": []
          },
          "execution_count": 36
        }
      ]
    },
    {
      "cell_type": "markdown",
      "metadata": {
        "id": "jSepMHL3D1A-"
      },
      "source": [
        "# Bidirectional RNN"
      ]
    },
    {
      "cell_type": "markdown",
      "metadata": {
        "id": "QEQVLQilD1BB"
      },
      "source": [
        "## return sequence=False, return_state=False"
      ]
    },
    {
      "cell_type": "code",
      "metadata": {
        "id": "EPre9YBfD1BC",
        "colab": {
          "base_uri": "https://localhost:8080/"
        },
        "outputId": "b97eae31-e941-4230-86a8-e07d1e13ea98"
      },
      "source": [
        "# bi rnn\r\n",
        "#rnn_11 = tf.keras.layers.SimpleRNN(units = 5)\r\n",
        "bi_rnn_11 = tf.keras.layers.Bidirectional(tf.keras.layers.SimpleRNN(units = 5))\r\n",
        "output_11 = bi_rnn_11(hidden) # (bs, units * 2)\r\n",
        "print(output_11)"
      ],
      "execution_count": 37,
      "outputs": [
        {
          "output_type": "stream",
          "text": [
            "tf.Tensor(\n",
            "[[ 0.00189245 -0.08352485 -0.07952984 -0.02134595  0.01254619 -0.10349478\n",
            "  -0.0285648  -0.15433243  0.04896942  0.06491221]], shape=(1, 10), dtype=float32)\n"
          ],
          "name": "stdout"
        }
      ]
    },
    {
      "cell_type": "code",
      "metadata": {
        "id": "eQ83Svk2D1BC",
        "colab": {
          "base_uri": "https://localhost:8080/"
        },
        "outputId": "e7c3f026-1f85-4256-fc86-bb8fbf4e5d5c"
      },
      "source": [
        "# bi rnn weights\r\n",
        "weights = bi_rnn_11.get_weights()\r\n",
        "Wx = weights[0]\r\n",
        "Wh = weights[1]\r\n",
        "b = weights[2]\r\n",
        "print(Wx.shape) # (d_model, unit)\r\n",
        "print(Wh.shape) # (unit, unit)\r\n",
        "print(b.shape) # (unit,)"
      ],
      "execution_count": 38,
      "outputs": [
        {
          "output_type": "stream",
          "text": [
            "(4, 5)\n",
            "(5, 5)\n",
            "(5,)\n"
          ],
          "name": "stdout"
        }
      ]
    },
    {
      "cell_type": "markdown",
      "metadata": {
        "id": "RXoZmvMRD1BD"
      },
      "source": [
        "## return sequence=True, return_state=False"
      ]
    },
    {
      "cell_type": "code",
      "metadata": {
        "id": "rIhSKwSsD1BD",
        "colab": {
          "base_uri": "https://localhost:8080/"
        },
        "outputId": "b595ae9c-863b-4fc9-c640-093273513e08"
      },
      "source": [
        "# (return_sequences=True)\r\n",
        "bi_rnn_12 = tf.keras.layers.Bidirectional(tf.keras.layers.SimpleRNN(units = 5, return_sequences = True))\r\n",
        "output_12 = bi_rnn_12(hidden) # (bs, seq, units* 2)\r\n",
        "print(output_12)"
      ],
      "execution_count": 39,
      "outputs": [
        {
          "output_type": "stream",
          "text": [
            "tf.Tensor(\n",
            "[[[ 0.02063903  0.03965816  0.03919788  0.02908318 -0.02135444\n",
            "    0.03373569  0.14357285  0.02265848 -0.01834988  0.01760596]\n",
            "  [-0.06732997  0.0119262   0.01037599  0.03202324 -0.04788924\n",
            "   -0.02202282 -0.12320485  0.00310691  0.03954257  0.02772265]\n",
            "  [-0.0069248   0.09928044  0.00049278  0.0842956  -0.02588288\n",
            "    0.02357069  0.03469789  0.06235293 -0.08903261  0.01622928]\n",
            "  [-0.10489257  0.04832265  0.01487477  0.05294417  0.00262039\n",
            "   -0.02221388 -0.06631253 -0.00934883  0.01024336  0.03339538]\n",
            "  [-0.02521386  0.11432075  0.0165207   0.04469954  0.06719342\n",
            "    0.04058785  0.02231554 -0.00393319 -0.01607522  0.03056315]\n",
            "  [-0.08703329  0.0155736   0.07161146  0.08565228  0.04799198\n",
            "    0.02592861 -0.0405432  -0.03698469 -0.03118086  0.01623693]\n",
            "  [-0.0069922   0.11693995  0.02447139  0.02125133  0.06086859\n",
            "   -0.0062323  -0.04051992 -0.00674628 -0.02538863 -0.00846069]]], shape=(1, 7, 10), dtype=float32)\n"
          ],
          "name": "stdout"
        }
      ]
    },
    {
      "cell_type": "markdown",
      "metadata": {
        "id": "UFU4PxXoD1BD"
      },
      "source": [
        "## return sequence=False, return_state=True"
      ]
    },
    {
      "cell_type": "code",
      "metadata": {
        "id": "9oAuKuIQD1BD",
        "colab": {
          "base_uri": "https://localhost:8080/"
        },
        "outputId": "cf8f0e85-5ca9-442b-b488-bfb54046eaf3"
      },
      "source": [
        "# (return_state=True)\r\n",
        "bi_rnn_13 = tf.keras.layers.Bidirectional(tf.keras.layers.SimpleRNN(units = 5,return_state = True))\r\n",
        "output_13, fw_h_13, bw_h_13 = bi_rnn_13(hidden) # (bs, units * 2), (bs, units), (bs, units)\r\n",
        "print(output_13)\r\n",
        "print(fw_h_13)\r\n",
        "print(bw_h_13)"
      ],
      "execution_count": 40,
      "outputs": [
        {
          "output_type": "stream",
          "text": [
            "tf.Tensor(\n",
            "[[ 0.10142464  0.04384788  0.03959855  0.09941956  0.05877534  0.19237266\n",
            "  -0.0812621   0.04585575  0.21233375 -0.06199192]], shape=(1, 10), dtype=float32)\n",
            "tf.Tensor([[0.10142464 0.04384788 0.03959855 0.09941956 0.05877534]], shape=(1, 5), dtype=float32)\n",
            "tf.Tensor([[ 0.19237266 -0.0812621   0.04585575  0.21233375 -0.06199192]], shape=(1, 5), dtype=float32)\n"
          ],
          "name": "stdout"
        }
      ]
    },
    {
      "cell_type": "markdown",
      "metadata": {
        "id": "43lkL3LeD1BE"
      },
      "source": [
        "## return sequence=True, return_state=True"
      ]
    },
    {
      "cell_type": "code",
      "metadata": {
        "id": "084yhlPOD1BE",
        "colab": {
          "base_uri": "https://localhost:8080/"
        },
        "outputId": "2899889d-e49f-45ae-b2b0-dbefdc7b15fa"
      },
      "source": [
        "# (return_sequences=True, return_state=True)\r\n",
        "bi_rnn_14 = tf.keras.layers.Bidirectional(tf.keras.layers.SimpleRNN(units = 5,return_sequences = True, return_state = True))\r\n",
        "output_14, fw_h_14, bw_h_14 = bi_rnn_14(hidden) # (bs, seq, units * 2), (bs, units), (bs, units)\r\n",
        "print(output_14)\r\n",
        "print(fw_h_14)\r\n",
        "print(bw_h_14)"
      ],
      "execution_count": 41,
      "outputs": [
        {
          "output_type": "stream",
          "text": [
            "tf.Tensor(\n",
            "[[[-0.01223004 -0.03604717 -0.01213866  0.00832459 -0.00985193\n",
            "   -0.06842467  0.03804656 -0.21594404 -0.07498586  0.12322078]\n",
            "  [-0.01207433 -0.02585809  0.01065563  0.01178059 -0.05265585\n",
            "    0.07812028 -0.15373422 -0.00190183 -0.13922727  0.13310388]\n",
            "  [-0.0369997  -0.07803842  0.04209687  0.04328766 -0.0377161\n",
            "    0.07696803  0.08312834 -0.0637846  -0.02303878  0.17275529]\n",
            "  [-0.03149062 -0.00641296  0.09045608  0.04872282 -0.02032937\n",
            "   -0.06239615 -0.07913799  0.00644676 -0.02948124  0.07311696]\n",
            "  [-0.00251457  0.00482455  0.03361512  0.09806919 -0.01537912\n",
            "    0.00374245  0.03065289 -0.0893319  -0.05894311  0.0406061 ]\n",
            "  [ 0.06832523  0.01860224  0.02926934  0.06120522 -0.07875361\n",
            "    0.03820577 -0.03235298  0.02452953 -0.05579672  0.06007537]\n",
            "  [ 0.07677121  0.03446358  0.09452506 -0.03025864  0.00149059\n",
            "    0.02181129  0.02294274 -0.00379264 -0.01796763  0.03280125]]], shape=(1, 7, 10), dtype=float32)\n",
            "tf.Tensor([[ 0.07677121  0.03446358  0.09452506 -0.03025864  0.00149059]], shape=(1, 5), dtype=float32)\n",
            "tf.Tensor([[-0.06842467  0.03804656 -0.21594404 -0.07498586  0.12322078]], shape=(1, 5), dtype=float32)\n"
          ],
          "name": "stdout"
        }
      ]
    },
    {
      "cell_type": "markdown",
      "metadata": {
        "id": "Jmv-M7oqD1BE"
      },
      "source": [
        "## init hidden state"
      ]
    },
    {
      "cell_type": "code",
      "metadata": {
        "id": "Z-hUtG_jD1BE",
        "colab": {
          "base_uri": "https://localhost:8080/"
        },
        "outputId": "51b27617-e161-48d1-9246-e3b40c99332b"
      },
      "source": [
        "# bi_rnn_11 with fw_h_13, bw_h_13\r\n",
        "bi_rnn_11(hidden, initial_state=[fw_h_13, bw_h_13]) # (bs, units * 2)"
      ],
      "execution_count": 42,
      "outputs": [
        {
          "output_type": "execute_result",
          "data": {
            "text/plain": [
              "<tf.Tensor: shape=(1, 10), dtype=float32, numpy=\n",
              "array([[ 0.03366552,  0.02708556, -0.08833596,  0.02204747,  0.11622974,\n",
              "        -0.09725527, -0.23567978, -0.14445539,  0.18366566, -0.04445881]],\n",
              "      dtype=float32)>"
            ]
          },
          "metadata": {
            "tags": []
          },
          "execution_count": 42
        }
      ]
    },
    {
      "cell_type": "code",
      "metadata": {
        "id": "UBHaQAZKD1BF",
        "colab": {
          "base_uri": "https://localhost:8080/"
        },
        "outputId": "f59f4df1-f130-4d87-bb8f-f8aed735aff9"
      },
      "source": [
        "# bi_rnn_12 with fw_h_14, bw_h_14\r\n",
        "bi_rnn_12(hidden, initial_state=[fw_h_14, bw_h_14]) # (bs, n_seq, units * 2)"
      ],
      "execution_count": 43,
      "outputs": [
        {
          "output_type": "execute_result",
          "data": {
            "text/plain": [
              "<tf.Tensor: shape=(1, 7, 10), dtype=float32, numpy=\n",
              "array([[[-0.00958689,  0.03306837,  0.121411  , -0.05310354,\n",
              "         -0.069801  , -0.00270117,  0.3421622 ,  0.0594316 ,\n",
              "          0.04920284, -0.08195023],\n",
              "        [-0.08903914, -0.00823849, -0.0190354 , -0.08953566,\n",
              "         -0.03271431, -0.14414804, -0.26751798,  0.14107466,\n",
              "          0.11605854, -0.01104443],\n",
              "        [ 0.02232581, -0.00883719, -0.02639926,  0.04660335,\n",
              "          0.01856824,  0.02391086,  0.2328768 ,  0.21018218,\n",
              "         -0.13730294,  0.04852048],\n",
              "        [ 0.01353182,  0.0045039 ,  0.00479941,  0.05030999,\n",
              "         -0.02010383, -0.12037753, -0.16119115,  0.04842468,\n",
              "          0.18212932,  0.15873075],\n",
              "        [ 0.00532184,  0.08084926,  0.03913519,  0.04759575,\n",
              "         -0.05087128,  0.16545373,  0.07834654,  0.14952204,\n",
              "         -0.1347118 ,  0.14144842],\n",
              "        [-0.11827581,  0.02918995,  0.00035898,  0.04068657,\n",
              "         -0.04247621, -0.04291085, -0.0464942 , -0.14875293,\n",
              "          0.07161848,  0.22109677],\n",
              "        [-0.06077602,  0.05895523, -0.07440832,  0.03875531,\n",
              "          0.05703022,  0.22294775, -0.13253458,  0.03559472,\n",
              "         -0.09870938,  0.05031738]]], dtype=float32)>"
            ]
          },
          "metadata": {
            "tags": []
          },
          "execution_count": 43
        }
      ]
    },
    {
      "cell_type": "code",
      "metadata": {
        "id": "KEz0U50aD1BF",
        "colab": {
          "base_uri": "https://localhost:8080/"
        },
        "outputId": "dffe56cd-df21-45c1-d6ec-4ea700556c21"
      },
      "source": [
        "# bi_rnn_13 with fw_h_13, bw_h_13\r\n",
        "bi_rnn_13(hidden, initial_state=[fw_h_13, bw_h_13]) # (bs, units * 2), (bs, units), (bs, units)"
      ],
      "execution_count": 44,
      "outputs": [
        {
          "output_type": "execute_result",
          "data": {
            "text/plain": [
              "[<tf.Tensor: shape=(1, 10), dtype=float32, numpy=\n",
              " array([[ 0.21820247,  0.12051318,  0.03422751,  0.10649262,  0.11619177,\n",
              "          0.31769818, -0.1452783 ,  0.04461537,  0.30978465,  0.12155465]],\n",
              "       dtype=float32)>, <tf.Tensor: shape=(1, 5), dtype=float32, numpy=\n",
              " array([[0.21820247, 0.12051318, 0.03422751, 0.10649262, 0.11619177]],\n",
              "       dtype=float32)>, <tf.Tensor: shape=(1, 5), dtype=float32, numpy=\n",
              " array([[ 0.31769818, -0.1452783 ,  0.04461537,  0.30978465,  0.12155465]],\n",
              "       dtype=float32)>]"
            ]
          },
          "metadata": {
            "tags": []
          },
          "execution_count": 44
        }
      ]
    },
    {
      "cell_type": "code",
      "metadata": {
        "id": "sBDD0iR2D1BF",
        "colab": {
          "base_uri": "https://localhost:8080/"
        },
        "outputId": "b88a1485-1025-4ca1-fa28-2eec06ac69ba"
      },
      "source": [
        "# bi_rnn_14 with fw_h_14, bw_h_14\r\n",
        "bi_rnn_14(hidden, initial_state=[fw_h_14, bw_h_14]) # (bs, n_seq, units * 2), (bs, units), (bs, units)"
      ],
      "execution_count": 45,
      "outputs": [
        {
          "output_type": "execute_result",
          "data": {
            "text/plain": [
              "[<tf.Tensor: shape=(1, 7, 10), dtype=float32, numpy=\n",
              " array([[[-0.01605418,  0.08521216,  0.0078772 , -0.0052132 ,\n",
              "           0.02986129, -0.08073806, -0.1815616 , -0.25961483,\n",
              "          -0.1164571 ,  0.19696285],\n",
              "         [ 0.04976505,  0.01947389, -0.06751592,  0.02501593,\n",
              "           0.01579403,  0.17407653, -0.08744309, -0.17113188,\n",
              "          -0.17401794,  0.25746423],\n",
              "         [ 0.01264184, -0.07194784, -0.03912848, -0.03732142,\n",
              "          -0.07277703,  0.09552309, -0.07634459, -0.01732119,\n",
              "           0.0321065 ,  0.3469225 ],\n",
              "         [-0.05013778, -0.04536489,  0.09190015, -0.06441393,\n",
              "           0.02577551, -0.14590359, -0.03704872, -0.19435067,\n",
              "          -0.02591169,  0.20409103],\n",
              "         [-0.11520644,  0.00189497, -0.0134646 ,  0.07705233,\n",
              "           0.02070227,  0.04140927, -0.18265297, -0.11942258,\n",
              "          -0.15420507,  0.14669563],\n",
              "         [ 0.038363  , -0.0723078 , -0.03828006,  0.11328387,\n",
              "          -0.0663591 ,  0.12099791,  0.06455711, -0.10884315,\n",
              "          -0.07171232,  0.24776572],\n",
              "         [ 0.05478888, -0.04579871,  0.1046733 , -0.0281437 ,\n",
              "          -0.09591071, -0.03719811, -0.14861408,  0.03417299,\n",
              "           0.01759559,  0.22281761]]], dtype=float32)>,\n",
              " <tf.Tensor: shape=(1, 5), dtype=float32, numpy=\n",
              " array([[ 0.05478888, -0.04579871,  0.1046733 , -0.0281437 , -0.09591071]],\n",
              "       dtype=float32)>,\n",
              " <tf.Tensor: shape=(1, 5), dtype=float32, numpy=\n",
              " array([[-0.08073806, -0.1815616 , -0.25961483, -0.1164571 ,  0.19696285]],\n",
              "       dtype=float32)>]"
            ]
          },
          "metadata": {
            "tags": []
          },
          "execution_count": 45
        }
      ]
    },
    {
      "cell_type": "markdown",
      "metadata": {
        "id": "sQaFWsxN_Wa-"
      },
      "source": [
        "# Bidirectional LSTM"
      ]
    },
    {
      "cell_type": "markdown",
      "metadata": {
        "id": "1NvWgSQW_WbI"
      },
      "source": [
        "## return sequence=False, return_state=False"
      ]
    },
    {
      "cell_type": "code",
      "metadata": {
        "id": "yaqddEAJ_WbI",
        "colab": {
          "base_uri": "https://localhost:8080/"
        },
        "outputId": "4df3b3d3-512b-4283-d9a8-be6ce4a3dc6e"
      },
      "source": [
        "# lstm\r\n",
        "bi_lstm_11 = tf.keras.layers.Bidirectional(tf.keras.layers.LSTM(units = 5))\r\n",
        "output_11 = bi_lstm_11(hidden) # (bs, units * 2)\r\n",
        "print(output_11)"
      ],
      "execution_count": 46,
      "outputs": [
        {
          "output_type": "stream",
          "text": [
            "tf.Tensor(\n",
            "[[-0.01047844 -0.00272136  0.01447616 -0.015981   -0.00944974 -0.01022396\n",
            "   0.00184914  0.00054924  0.01690395  0.00960285]], shape=(1, 10), dtype=float32)\n"
          ],
          "name": "stdout"
        }
      ]
    },
    {
      "cell_type": "code",
      "metadata": {
        "id": "41rWr-3o_WbI",
        "colab": {
          "base_uri": "https://localhost:8080/"
        },
        "outputId": "ae0ec0eb-c636-4563-b45f-f1db06b949f6"
      },
      "source": [
        "# lstm weights\r\n",
        "weights = bi_lstm_11.get_weights()\r\n",
        "Wx = weights[0]\r\n",
        "Wh = weights[1]\r\n",
        "b = weights[2]\r\n",
        "print(Wx.shape) # (d_model, unit * 4) (Wxf, Wxi, Wxc, Wxo)\r\n",
        "print(Wh.shape) # (unit, unit * 4) (Whf, Whi, Whc, Who)\r\n",
        "print(b.shape) # (unit * 4) (bf, bi, bc, bo)"
      ],
      "execution_count": 47,
      "outputs": [
        {
          "output_type": "stream",
          "text": [
            "(4, 20)\n",
            "(5, 20)\n",
            "(20,)\n"
          ],
          "name": "stdout"
        }
      ]
    },
    {
      "cell_type": "markdown",
      "metadata": {
        "id": "YYJLRqQN_WbJ"
      },
      "source": [
        "## return sequence=True, return_state=False"
      ]
    },
    {
      "cell_type": "code",
      "metadata": {
        "id": "Upq3pGN3_WbJ",
        "colab": {
          "base_uri": "https://localhost:8080/"
        },
        "outputId": "cc5cab5a-f34c-4c4c-ada7-be0cff682a13"
      },
      "source": [
        "# (return_sequences=True)\r\n",
        "bi_lstm_12 = tf.keras.layers.Bidirectional(tf.keras.layers.LSTM(units = 5, return_sequences = True))\r\n",
        "output_12 = bi_lstm_12(hidden) # (bs, seq, units * 2)\r\n",
        "print(output_12)"
      ],
      "execution_count": 48,
      "outputs": [
        {
          "output_type": "stream",
          "text": [
            "tf.Tensor(\n",
            "[[[ 0.00572704  0.00143487 -0.00331461 -0.00193452 -0.00626948\n",
            "    0.00095727 -0.00672461  0.00755316 -0.00082623 -0.00279788]\n",
            "  [-0.00464334 -0.00477877 -0.00704962 -0.00027559  0.00117185\n",
            "   -0.00306182 -0.0122618   0.01030242 -0.00170412 -0.00148065]\n",
            "  [-0.00122711 -0.00535861 -0.01451639 -0.00197635 -0.00332223\n",
            "    0.00109893 -0.00459027  0.00640099  0.00262677 -0.00232618]\n",
            "  [-0.00385974 -0.00179318 -0.00893673  0.0011897  -0.00094004\n",
            "   -0.00352854  0.00051255  0.00387651  0.00455648 -0.00036182]\n",
            "  [ 0.00240173  0.00063563 -0.01005731 -0.00161065 -0.00760287\n",
            "   -0.0011374  -0.00527796  0.00479362  0.00015036 -0.00207249]\n",
            "  [-0.00728943 -0.00494088 -0.01211869 -0.00037022 -0.000363\n",
            "   -0.00581124 -0.00962973  0.00659043 -0.00069188 -0.00031079]\n",
            "  [-0.0091411  -0.00195886 -0.01065393  0.00111449  0.00126692\n",
            "   -0.00256846 -0.00012026  0.00160678  0.00367497 -0.00049144]]], shape=(1, 7, 10), dtype=float32)\n"
          ],
          "name": "stdout"
        }
      ]
    },
    {
      "cell_type": "markdown",
      "metadata": {
        "id": "s6uX1Yz2_WbJ"
      },
      "source": [
        "## return sequence=False, return_state=True"
      ]
    },
    {
      "cell_type": "code",
      "metadata": {
        "id": "AQ85oNl6_WbJ",
        "colab": {
          "base_uri": "https://localhost:8080/"
        },
        "outputId": "88de4df5-fea0-4ddc-e862-17d9598f9591"
      },
      "source": [
        "# (return_state=True)\r\n",
        "# (return_sequences=True)\r\n",
        "bi_lstm_13 = tf.keras.layers.Bidirectional(tf.keras.layers.LSTM(units = 5, return_state = True))\r\n",
        "output_13, fw_h_13, fw_c_13, bw_h_13, bw_c_13 = bi_lstm_13(hidden) # (bs, units * 2), (bs, units), (bs, units), (bs, units), (bs, units)\r\n",
        "print(output_13)\r\n",
        "print(fw_h_13)\r\n",
        "print(fw_c_13)\r\n",
        "print(bw_h_13)\r\n",
        "print(bw_c_13)"
      ],
      "execution_count": 49,
      "outputs": [
        {
          "output_type": "stream",
          "text": [
            "tf.Tensor(\n",
            "[[-0.00669851 -0.01033889 -0.00779064  0.01347378 -0.00082833  0.01547839\n",
            "   0.00376636 -0.00398766 -0.00370576 -0.00819959]], shape=(1, 10), dtype=float32)\n",
            "tf.Tensor([[-0.00669851 -0.01033889 -0.00779064  0.01347378 -0.00082833]], shape=(1, 5), dtype=float32)\n",
            "tf.Tensor([[-0.01344749 -0.02074135 -0.01553759  0.02708873 -0.0016644 ]], shape=(1, 5), dtype=float32)\n",
            "tf.Tensor([[ 0.01547839  0.00376636 -0.00398766 -0.00370576 -0.00819959]], shape=(1, 5), dtype=float32)\n",
            "tf.Tensor([[ 0.03100743  0.00752903 -0.00798306 -0.00741232 -0.01623809]], shape=(1, 5), dtype=float32)\n"
          ],
          "name": "stdout"
        }
      ]
    },
    {
      "cell_type": "markdown",
      "metadata": {
        "id": "tDsh_WrM_WbK"
      },
      "source": [
        "## return sequence=True, return_state=True"
      ]
    },
    {
      "cell_type": "code",
      "metadata": {
        "id": "ErPLKIBd_WbK",
        "colab": {
          "base_uri": "https://localhost:8080/"
        },
        "outputId": "75c2b4e6-ce70-42d2-a335-738a52845f72"
      },
      "source": [
        "# (return_sequences=True, return_state=True)\r\n",
        "bi_lstm_14 = tf.keras.layers.Bidirectional(tf.keras.layers.LSTM(units = 5, return_sequences = True, return_state = True))\r\n",
        "output_14, fw_h_14, fw_c_14, bw_h_14, bw_c_14 = bi_lstm_14(hidden) # (bs, seq, units), (bs, units), (bs, units), (bs, units), (bs, units)\r\n",
        "print(output_14)\r\n",
        "print(fw_h_14)\r\n",
        "print(fw_c_14)\r\n",
        "print(bw_h_14)\r\n",
        "print(bw_c_14)"
      ],
      "execution_count": 50,
      "outputs": [
        {
          "output_type": "stream",
          "text": [
            "tf.Tensor(\n",
            "[[[-1.73568190e-03  9.66656313e-04 -4.43200534e-03  9.81729099e-05\n",
            "    5.99584915e-03  3.58588551e-03  6.28273701e-03 -9.33102972e-04\n",
            "    1.30135426e-03 -1.71137247e-02]\n",
            "  [-7.28761358e-03 -3.23330332e-03 -9.18741710e-03 -7.00382702e-03\n",
            "   -2.57872860e-03  4.31145914e-03  1.27696879e-02  2.18096841e-03\n",
            "   -2.25784932e-03 -2.00917311e-02]\n",
            "  [-1.40764881e-02 -5.22490079e-03 -2.07485575e-02 -9.74385813e-03\n",
            "    3.33819329e-03 -7.73745996e-05  9.84441210e-03  1.33407488e-03\n",
            "    2.33387039e-03 -1.52610773e-02]\n",
            "  [-1.04366727e-02 -7.36432569e-03 -1.33569920e-02 -7.55398208e-03\n",
            "    6.90099332e-05 -1.78182847e-03  4.63476637e-03  1.80065760e-03\n",
            "   -4.06197691e-03 -6.97691925e-03]\n",
            "  [-9.36021190e-03 -4.31238348e-03 -1.47491610e-02 -6.92136539e-03\n",
            "    6.73899520e-03  2.75624800e-03  5.51511627e-03  2.85831135e-04\n",
            "   -1.84834193e-04 -9.86234285e-03]\n",
            "  [-1.27383284e-02 -6.90077711e-03 -1.69051476e-02 -1.33840917e-02\n",
            "   -1.56315230e-03  3.62244830e-03  1.00047905e-02  3.20798019e-03\n",
            "   -5.02284756e-03 -1.05215097e-02]\n",
            "  [-1.20656034e-02 -9.25700739e-03 -1.39710102e-02 -1.27223190e-02\n",
            "   -3.77153815e-03 -6.22593274e-04  3.78845981e-03  1.92147144e-03\n",
            "   -2.30449787e-03 -2.76111206e-03]]], shape=(1, 7, 10), dtype=float32)\n",
            "tf.Tensor([[-0.0120656  -0.00925701 -0.01397101 -0.01272232 -0.00377154]], shape=(1, 5), dtype=float32)\n",
            "tf.Tensor([[-0.0240131  -0.01845097 -0.02803136 -0.02516522 -0.00755418]], shape=(1, 5), dtype=float32)\n",
            "tf.Tensor([[ 0.00358589  0.00628274 -0.0009331   0.00130135 -0.01711372]], shape=(1, 5), dtype=float32)\n",
            "tf.Tensor([[ 0.00712033  0.0125543  -0.00187386  0.00261137 -0.03440171]], shape=(1, 5), dtype=float32)\n"
          ],
          "name": "stdout"
        }
      ]
    },
    {
      "cell_type": "markdown",
      "metadata": {
        "id": "nMk2duPz_WbK"
      },
      "source": [
        "## init hidden state"
      ]
    },
    {
      "cell_type": "code",
      "metadata": {
        "id": "YOqL64zN_WbK",
        "colab": {
          "base_uri": "https://localhost:8080/"
        },
        "outputId": "1200a141-ea03-4d0b-c00c-37ee92e981c0"
      },
      "source": [
        "# bi_lstm_11 with fw_h_13, fw_c_13, bw_h_13, bw_c_13\r\n",
        "bi_lstm_11(hidden, initial_state=[fw_h_13, fw_c_13, bw_h_13, bw_c_13]) # (bs, units * 2)"
      ],
      "execution_count": 51,
      "outputs": [
        {
          "output_type": "execute_result",
          "data": {
            "text/plain": [
              "<tf.Tensor: shape=(1, 10), dtype=float32, numpy=\n",
              "array([[-0.01044984, -0.00225714,  0.01167913, -0.01586506, -0.00975995,\n",
              "        -0.0087426 ,  0.00403183,  0.00167814,  0.01551284,  0.00888616]],\n",
              "      dtype=float32)>"
            ]
          },
          "metadata": {
            "tags": []
          },
          "execution_count": 51
        }
      ]
    },
    {
      "cell_type": "code",
      "metadata": {
        "id": "tdXXGLEz_WbK",
        "colab": {
          "base_uri": "https://localhost:8080/"
        },
        "outputId": "e01d211d-ca34-4734-a6c7-ad49466881d9"
      },
      "source": [
        "# bi_lstm_12 with fw_h_14, fw_c_14, bw_h_14, bw_c_14\r\n",
        "bi_lstm_12(hidden, initial_state=[fw_h_14, fw_c_14, bw_h_14, bw_c_14]) # (bs, n_seq, units * 2)"
      ],
      "execution_count": 52,
      "outputs": [
        {
          "output_type": "execute_result",
          "data": {
            "text/plain": [
              "<tf.Tensor: shape=(1, 7, 10), dtype=float32, numpy=\n",
              "array([[[-0.00296111, -0.00444816, -0.01440736, -0.01289157,\n",
              "         -0.00957924,  0.00093291, -0.00624854,  0.00838793,\n",
              "          0.00082277, -0.00327455],\n",
              "        [-0.01074373, -0.00835391, -0.01588251, -0.00926945,\n",
              "         -0.0018043 , -0.00317167, -0.01164459,  0.01119183,\n",
              "          0.00026823, -0.0024432 ],\n",
              "        [-0.00562839, -0.00747657, -0.02159042, -0.00929105,\n",
              "         -0.00604211,  0.00091913, -0.00373623,  0.00726371,\n",
              "          0.00502075, -0.00402418],\n",
              "        [-0.00698529, -0.00291855, -0.01446473, -0.00463477,\n",
              "         -0.00348325, -0.00369615,  0.00173964,  0.00464657,\n",
              "          0.00733154, -0.00328682],\n",
              "        [ 0.0001484 ,  0.00010467, -0.01450157, -0.0061196 ,\n",
              "         -0.00992879, -0.00114119, -0.00346304,  0.00535879,\n",
              "          0.00317948, -0.00670312],\n",
              "        [-0.00884963, -0.00511036, -0.01564908, -0.0037656 ,\n",
              "         -0.00250201, -0.00530665, -0.00690272,  0.00683172,\n",
              "          0.00226493, -0.00769371],\n",
              "        [-0.01023473, -0.00193374, -0.01338799, -0.00146469,\n",
              "         -0.00070886, -0.00103154,  0.00399518,  0.00133761,\n",
              "          0.00624992, -0.01183966]]], dtype=float32)>"
            ]
          },
          "metadata": {
            "tags": []
          },
          "execution_count": 52
        }
      ]
    },
    {
      "cell_type": "code",
      "metadata": {
        "id": "bJQ0BcMK_WbL",
        "colab": {
          "base_uri": "https://localhost:8080/"
        },
        "outputId": "9b3d7307-d8e6-41e3-c3d8-999f7788a4d8"
      },
      "source": [
        "# bi_lstm_13 with fw_h_13, fw_c_13, bw_h_13, bw_c_13\r\n",
        "bi_lstm_13(hidden, initial_state=[fw_h_13, fw_c_13, bw_h_13, bw_c_13]) # (bs, units * 2), (bs, units), (bs, units), (bs, units), (bs, units)"
      ],
      "execution_count": 53,
      "outputs": [
        {
          "output_type": "execute_result",
          "data": {
            "text/plain": [
              "[<tf.Tensor: shape=(1, 10), dtype=float32, numpy=\n",
              " array([[-0.00782868, -0.01307623, -0.00731933,  0.01435827, -0.00225139,\n",
              "          0.01593335,  0.0055482 , -0.0060663 , -0.00531265, -0.01116456]],\n",
              "       dtype=float32)>, <tf.Tensor: shape=(1, 5), dtype=float32, numpy=\n",
              " array([[-0.00782868, -0.01307623, -0.00731933,  0.01435827, -0.00225139]],\n",
              "       dtype=float32)>, <tf.Tensor: shape=(1, 5), dtype=float32, numpy=\n",
              " array([[-0.01571303, -0.02624407, -0.01459285,  0.02888137, -0.00452371]],\n",
              "       dtype=float32)>, <tf.Tensor: shape=(1, 5), dtype=float32, numpy=\n",
              " array([[ 0.01593335,  0.0055482 , -0.0060663 , -0.00531265, -0.01116456]],\n",
              "       dtype=float32)>, <tf.Tensor: shape=(1, 5), dtype=float32, numpy=\n",
              " array([[ 0.03193098,  0.01108811, -0.01215264, -0.01063845, -0.02210738]],\n",
              "       dtype=float32)>]"
            ]
          },
          "metadata": {
            "tags": []
          },
          "execution_count": 53
        }
      ]
    },
    {
      "cell_type": "code",
      "metadata": {
        "id": "tVE16Kmr_WbL",
        "colab": {
          "base_uri": "https://localhost:8080/"
        },
        "outputId": "c81bf395-7501-49de-ef73-b757e4121c64"
      },
      "source": [
        "# bi_lstm_14 with fw_h_14, fw_c_14, bw_h_14, bw_c_14\r\n",
        "bi_lstm_14(hidden, initial_state=[fw_h_14, fw_c_14, bw_h_14, bw_c_14]) # (bs, n_seq, units * 2), (bs, units), (bs, units), (bs, units), (bs, units)"
      ],
      "execution_count": 54,
      "outputs": [
        {
          "output_type": "execute_result",
          "data": {
            "text/plain": [
              "[<tf.Tensor: shape=(1, 7, 10), dtype=float32, numpy=\n",
              " array([[[-1.04460837e-02, -5.75428503e-03, -1.51174720e-02,\n",
              "          -1.06630009e-02,  4.14686464e-03,  4.68043843e-03,\n",
              "           4.43026749e-03, -2.26083072e-03, -1.06409343e-03,\n",
              "          -1.94848534e-02],\n",
              "         [-1.34683149e-02, -7.94618204e-03, -1.70644000e-02,\n",
              "          -1.61122922e-02, -3.28263198e-03,  5.61679387e-03,\n",
              "           1.07295765e-02,  5.99681400e-04, -4.72701201e-03,\n",
              "          -2.32779253e-02],\n",
              "         [-1.85028408e-02, -8.59788433e-03, -2.64112875e-02,\n",
              "          -1.75623894e-02,  3.32411169e-03,  1.51165540e-03,\n",
              "           7.80272018e-03, -4.54908790e-04, -1.74976391e-04,\n",
              "          -1.95330251e-02],\n",
              "         [-1.35340365e-02, -9.73690581e-03, -1.73044503e-02,\n",
              "          -1.38761597e-02,  4.28098312e-04,  8.07055985e-05,\n",
              "           2.85251974e-03, -1.78919843e-04, -6.44189958e-03,\n",
              "          -1.27323698e-02],\n",
              "         [-1.15437629e-02, -5.96557371e-03, -1.73409078e-02,\n",
              "          -1.22294575e-02,  7.28086615e-03,  4.93523665e-03,\n",
              "           4.32476215e-03, -1.75591197e-03, -2.26526079e-03,\n",
              "          -1.73989907e-02],\n",
              "         [-1.42406691e-02, -8.01759027e-03, -1.84696410e-02,\n",
              "          -1.77592151e-02, -9.88136046e-04,  6.13066368e-03,\n",
              "           1.00889495e-02,  1.17875275e-03, -6.46308484e-03,\n",
              "          -2.05143746e-02],\n",
              "         [-1.31024867e-02, -1.00216325e-02, -1.48007348e-02,\n",
              "          -1.62612963e-02, -3.20622372e-03,  2.36595981e-03,\n",
              "           6.19751867e-03,  2.23246505e-04, -2.66335276e-03,\n",
              "          -1.59444977e-02]]], dtype=float32)>,\n",
              " <tf.Tensor: shape=(1, 5), dtype=float32, numpy=\n",
              " array([[-0.01310249, -0.01002163, -0.01480073, -0.0162613 , -0.00320622]],\n",
              "       dtype=float32)>,\n",
              " <tf.Tensor: shape=(1, 5), dtype=float32, numpy=\n",
              " array([[-0.02607962, -0.01996258, -0.02969774, -0.0321192 , -0.00642195]],\n",
              "       dtype=float32)>,\n",
              " <tf.Tensor: shape=(1, 5), dtype=float32, numpy=\n",
              " array([[ 0.00468044,  0.00443027, -0.00226083, -0.00106409, -0.01948485]],\n",
              "       dtype=float32)>,\n",
              " <tf.Tensor: shape=(1, 5), dtype=float32, numpy=\n",
              " array([[ 0.00930022,  0.00885129, -0.00454444, -0.00213444, -0.03916886]],\n",
              "       dtype=float32)>]"
            ]
          },
          "metadata": {
            "tags": []
          },
          "execution_count": 54
        }
      ]
    },
    {
      "cell_type": "markdown",
      "metadata": {
        "id": "AJxyxHyMBLVT"
      },
      "source": [
        "# Bidirectional GRU"
      ]
    },
    {
      "cell_type": "markdown",
      "metadata": {
        "id": "HtKHOhc0BLVh"
      },
      "source": [
        "## return sequence=False, return_state=False"
      ]
    },
    {
      "cell_type": "code",
      "metadata": {
        "id": "FgM-ssTSBLVh",
        "colab": {
          "base_uri": "https://localhost:8080/"
        },
        "outputId": "7f1468a6-0c74-473e-a9d3-1b9fc3322541"
      },
      "source": [
        "# bi GRU\r\n",
        "bi_gru_11 = tf.keras.layers.Bidirectional(tf.keras.layers.GRU(units = 5))\r\n",
        "output_11 = bi_gru_11(hidden) # (bs, units * 2)\r\n",
        "print(output_11)"
      ],
      "execution_count": 55,
      "outputs": [
        {
          "output_type": "stream",
          "text": [
            "tf.Tensor(\n",
            "[[-0.00072184 -0.016904    0.00711801 -0.00559251  0.00739438  0.01164481\n",
            "   0.00828551 -0.00861709  0.00493614 -0.01986348]], shape=(1, 10), dtype=float32)\n"
          ],
          "name": "stdout"
        }
      ]
    },
    {
      "cell_type": "code",
      "metadata": {
        "id": "tRbCY61HBLVi",
        "colab": {
          "base_uri": "https://localhost:8080/"
        },
        "outputId": "eb0ad239-4fa9-4bc9-a48b-412370690f7b"
      },
      "source": [
        "# bi GRU weights\r\n",
        "weights = bi_gru_11.get_weights()\r\n",
        "Wx = weights[0]\r\n",
        "Wh = weights[1]\r\n",
        "b = weights[2]\r\n",
        "print(Wx.shape) # (d_model, unit * 3) (Wxr, Wxz, Wxg)\r\n",
        "print(Wh.shape)  # (unit, unit * 3) (Whr, Whz, Whg)\r\n",
        "print(b.shape) # (2, unit * 3) (bxr, bxz, bxg),(bhr, bhz, bhg)"
      ],
      "execution_count": 56,
      "outputs": [
        {
          "output_type": "stream",
          "text": [
            "(4, 15)\n",
            "(5, 15)\n",
            "(2, 15)\n"
          ],
          "name": "stdout"
        }
      ]
    },
    {
      "cell_type": "markdown",
      "metadata": {
        "id": "caCQoTUJBLVi"
      },
      "source": [
        "## return sequence=True, return_state=False"
      ]
    },
    {
      "cell_type": "code",
      "metadata": {
        "id": "iDp3EdgEBLVj",
        "colab": {
          "base_uri": "https://localhost:8080/"
        },
        "outputId": "4c71e3e4-58ea-497b-a1b3-42670f7e92bd"
      },
      "source": [
        "# (return_sequences=True)\r\n",
        "bi_gru_12 = tf.keras.layers.Bidirectional(tf.keras.layers.GRU(units = 5, return_sequences = True))\r\n",
        "output_12 = bi_gru_12(hidden) # (bs, seq, units* 2)\r\n",
        "print(output_12)"
      ],
      "execution_count": 57,
      "outputs": [
        {
          "output_type": "stream",
          "text": [
            "tf.Tensor(\n",
            "[[[ 0.00068553 -0.0042389   0.0029039  -0.00035927 -0.00499255\n",
            "    0.00271537  0.01382237  0.00265203  0.00407036 -0.00154717]\n",
            "  [-0.00377441 -0.01477874  0.00418696  0.02414083  0.00199853\n",
            "    0.02274144  0.00590778  0.00116065  0.00471965  0.0065552 ]\n",
            "  [-0.00396749 -0.0225128   0.00355693  0.03395787 -0.00608305\n",
            "    0.00573862  0.01581501 -0.00148708  0.00681403 -0.00675571]\n",
            "  [-0.01229045 -0.00900376 -0.0012757   0.02379612 -0.00839744\n",
            "    0.0037635   0.01124475 -0.00305182  0.00304518 -0.00639333]\n",
            "  [-0.00532181 -0.00932149  0.00288593  0.01211448 -0.00818051\n",
            "    0.00347679  0.01212953  0.00254687  0.00217574  0.00073128]\n",
            "  [-0.00674273 -0.01755711  0.00437381  0.03060742  0.0007513\n",
            "    0.02407692  0.00230935  0.00095978  0.00179878  0.00960551]\n",
            "  [-0.01551554 -0.01325507  0.0045301   0.02898801 -0.00646983\n",
            "    0.00765511  0.00840811 -0.00218095  0.00238035 -0.00317473]]], shape=(1, 7, 10), dtype=float32)\n"
          ],
          "name": "stdout"
        }
      ]
    },
    {
      "cell_type": "markdown",
      "metadata": {
        "id": "Cvudxy7hBLVj"
      },
      "source": [
        "## return sequence=False, return_state=True"
      ]
    },
    {
      "cell_type": "code",
      "metadata": {
        "id": "17FvtfnTBLVj",
        "colab": {
          "base_uri": "https://localhost:8080/"
        },
        "outputId": "808f0d4a-1464-47ca-d4ec-e51e0fa1faf0"
      },
      "source": [
        "# (return_state=True)\r\n",
        "bi_gru_13 = tf.keras.layers.Bidirectional(tf.keras.layers.GRU(units = 5, return_state = True))\r\n",
        "output_13, fw_h_13, bw_h_13 = bi_gru_13(hidden) # (bs, units * 2), (bs, units), (bs, units)\r\n",
        "print(output_13)\r\n",
        "print(fw_h_13)\r\n",
        "print(bw_h_13)"
      ],
      "execution_count": 58,
      "outputs": [
        {
          "output_type": "stream",
          "text": [
            "tf.Tensor(\n",
            "[[-0.00090163 -0.02939906 -0.00681299  0.00333673 -0.00652324 -0.01461007\n",
            "  -0.00590369  0.00853587 -0.00181723 -0.00886709]], shape=(1, 10), dtype=float32)\n",
            "tf.Tensor([[-0.00090163 -0.02939906 -0.00681299  0.00333673 -0.00652324]], shape=(1, 5), dtype=float32)\n",
            "tf.Tensor([[-0.01461007 -0.00590369  0.00853587 -0.00181723 -0.00886709]], shape=(1, 5), dtype=float32)\n"
          ],
          "name": "stdout"
        }
      ]
    },
    {
      "cell_type": "markdown",
      "metadata": {
        "id": "3c_70ASUBLVj"
      },
      "source": [
        "## return sequence=True, return_state=True"
      ]
    },
    {
      "cell_type": "code",
      "metadata": {
        "id": "M2w7NYXxBLVk",
        "colab": {
          "base_uri": "https://localhost:8080/"
        },
        "outputId": "10773ff8-4be5-473c-ad80-f3f1b3f2ee3a"
      },
      "source": [
        "# (return_sequences=True, return_state=True)\r\n",
        "bi_gru_14 = tf.keras.layers.Bidirectional(tf.keras.layers.GRU(units = 5, return_sequences = True, return_state = True))\r\n",
        "output_14, fw_h_14, bw_h_14 = bi_gru_14(hidden) # (bs, seq, units * 2), (bs, units), (bs, units)\r\n",
        "print(output_14)\r\n",
        "print(fw_h_14)\r\n",
        "print(bw_h_14)"
      ],
      "execution_count": 59,
      "outputs": [
        {
          "output_type": "stream",
          "text": [
            "tf.Tensor(\n",
            "[[[-0.00544995  0.00655301  0.00508489  0.00244967  0.00328198\n",
            "    0.01886513  0.01990128 -0.00551106  0.00665467  0.01657994]\n",
            "  [ 0.01110324 -0.00934234 -0.01514423  0.00014308 -0.00704704\n",
            "    0.03488777  0.00499167 -0.00988165  0.01538127  0.03170763]\n",
            "  [ 0.0076507  -0.00871916 -0.01256944  0.00839841 -0.00676278\n",
            "    0.0159151   0.01561383 -0.01603252  0.01622044  0.02766158]\n",
            "  [ 0.01060414 -0.01359599 -0.01609579  0.00704759  0.0001731\n",
            "    0.00293907  0.00393714 -0.00164059  0.00913611  0.00610813]\n",
            "  [ 0.0006414  -0.00185265 -0.00161888  0.00305068  0.00071399\n",
            "    0.01375607  0.01290924 -0.00463978  0.0031499   0.01363201]\n",
            "  [ 0.0146883  -0.01410105 -0.01737136 -0.00077821 -0.00977928\n",
            "    0.02662695 -0.00578056 -0.00502988  0.00954117  0.02461229]\n",
            "  [ 0.01761476 -0.01647723 -0.01906318 -0.00072876 -0.0052701\n",
            "    0.00358339 -0.00039039 -0.00187687  0.00689455  0.01056525]]], shape=(1, 7, 10), dtype=float32)\n",
            "tf.Tensor([[ 0.01761476 -0.01647723 -0.01906318 -0.00072876 -0.0052701 ]], shape=(1, 5), dtype=float32)\n",
            "tf.Tensor([[ 0.01886513  0.01990128 -0.00551106  0.00665467  0.01657994]], shape=(1, 5), dtype=float32)\n"
          ],
          "name": "stdout"
        }
      ]
    },
    {
      "cell_type": "markdown",
      "metadata": {
        "id": "WM9iRBglBLVk"
      },
      "source": [
        "## init hidden state"
      ]
    },
    {
      "cell_type": "code",
      "metadata": {
        "id": "nuJ1oKfSBLVk",
        "colab": {
          "base_uri": "https://localhost:8080/"
        },
        "outputId": "4242a631-a982-4b6a-deee-135e09cf9210"
      },
      "source": [
        "# bi_gru_11 with fw_h_13, bw_h_13\r\n",
        "bi_gru_11(hidden, initial_state = [fw_h_13, bw_h_13]) # (bs, units * 2)"
      ],
      "execution_count": 60,
      "outputs": [
        {
          "output_type": "execute_result",
          "data": {
            "text/plain": [
              "<tf.Tensor: shape=(1, 10), dtype=float32, numpy=\n",
              "array([[-0.00097017, -0.01680927,  0.00690556, -0.00532796,  0.00735713,\n",
              "         0.01122481,  0.00843973, -0.00886281,  0.00488845, -0.02003367]],\n",
              "      dtype=float32)>"
            ]
          },
          "metadata": {
            "tags": []
          },
          "execution_count": 60
        }
      ]
    },
    {
      "cell_type": "code",
      "metadata": {
        "id": "7zwybtdoBLVk",
        "colab": {
          "base_uri": "https://localhost:8080/"
        },
        "outputId": "7f46a3fa-cab0-4884-c3e4-ab71227653a9"
      },
      "source": [
        "# bi_gru_12 with fw_h_14, bw_h_14\r\n",
        "bi_gru_12(hidden, initial_state = [fw_h_14, bw_h_14]) # (bs, n_seq, units * 2)"
      ],
      "execution_count": 61,
      "outputs": [
        {
          "output_type": "execute_result",
          "data": {
            "text/plain": [
              "<tf.Tensor: shape=(1, 7, 10), dtype=float32, numpy=\n",
              "array([[[ 0.01003567, -0.01330033, -0.00890842,  0.00226917,\n",
              "         -0.00535741,  0.00255519,  0.01405214,  0.00251961,\n",
              "          0.00427602, -0.0019304 ],\n",
              "        [ 0.0010978 , -0.01961865, -0.00293531,  0.02695254,\n",
              "          0.00270392,  0.02243672,  0.00640564,  0.0009083 ,\n",
              "          0.00501816,  0.00605991],\n",
              "        [-0.00141706, -0.02504733, -0.00062125,  0.03616212,\n",
              "         -0.00540411,  0.00522034,  0.01686105, -0.00192042,\n",
              "          0.00723664, -0.00728109],\n",
              "        [-0.01092186, -0.0103073 , -0.00362688,  0.02533162,\n",
              "         -0.00793402,  0.00304753,  0.01333423, -0.00371864,\n",
              "          0.00363845, -0.00668393],\n",
              "        [-0.00460081, -0.00999622,  0.00158908,  0.01310625,\n",
              "         -0.00790445,  0.00287434,  0.01613623,  0.00160112,\n",
              "          0.00304435,  0.00130376],\n",
              "        [-0.00636261, -0.01790997,  0.00366269,  0.03120724,\n",
              "          0.00090734,  0.02471342,  0.00957251, -0.00034251,\n",
              "          0.00322722,  0.0124059 ],\n",
              "        [-0.01530967, -0.01344065,  0.00414647,  0.02934526,\n",
              "         -0.0063893 ,  0.01308189,  0.02090805, -0.0043762 ,\n",
              "          0.00520434,  0.00420375]]], dtype=float32)>"
            ]
          },
          "metadata": {
            "tags": []
          },
          "execution_count": 61
        }
      ]
    },
    {
      "cell_type": "code",
      "metadata": {
        "id": "5VlLf8ddBLVl",
        "colab": {
          "base_uri": "https://localhost:8080/"
        },
        "outputId": "2c31464e-10e7-4077-cf8a-40c3773ca098"
      },
      "source": [
        "# bi_gru_13 with fw_h_13, bw_h_13\r\n",
        "bi_gru_13(hidden, initial_state = [fw_h_13, bw_h_13])  # (bs, units * 2), (bs, units), (bs, units)"
      ],
      "execution_count": 62,
      "outputs": [
        {
          "output_type": "execute_result",
          "data": {
            "text/plain": [
              "[<tf.Tensor: shape=(1, 10), dtype=float32, numpy=\n",
              " array([[-0.00122181, -0.03043102, -0.00705071,  0.00330191, -0.00681734,\n",
              "         -0.01464406, -0.00587261,  0.0086585 , -0.00156047, -0.00876512]],\n",
              "       dtype=float32)>, <tf.Tensor: shape=(1, 5), dtype=float32, numpy=\n",
              " array([[-0.00122181, -0.03043102, -0.00705071,  0.00330191, -0.00681734]],\n",
              "       dtype=float32)>, <tf.Tensor: shape=(1, 5), dtype=float32, numpy=\n",
              " array([[-0.01464406, -0.00587261,  0.0086585 , -0.00156047, -0.00876512]],\n",
              "       dtype=float32)>]"
            ]
          },
          "metadata": {
            "tags": []
          },
          "execution_count": 62
        }
      ]
    },
    {
      "cell_type": "code",
      "metadata": {
        "id": "L0kqqvsoBLVl",
        "colab": {
          "base_uri": "https://localhost:8080/"
        },
        "outputId": "0a2fdd03-7654-40ea-81eb-5ab4575a6fa1"
      },
      "source": [
        "# bi_gru_14 with fw_h_14, bw_h_14\r\n",
        "bi_gru_14(hidden, initial_state = [fw_h_14, bw_h_14])  # (bs, n_seq, units * 2), (bs, units), (bs, units)"
      ],
      "execution_count": 63,
      "outputs": [
        {
          "output_type": "execute_result",
          "data": {
            "text/plain": [
              "[<tf.Tensor: shape=(1, 7, 10), dtype=float32, numpy=\n",
              " array([[[ 0.00446973, -0.00312266, -0.0010965 , -0.00093646,\n",
              "          -0.002727  ,  0.01932765,  0.02079922, -0.00454842,\n",
              "           0.00643312,  0.01671551],\n",
              "         [ 0.01694998, -0.01448501, -0.0162008 , -0.0026829 ,\n",
              "          -0.01173537,  0.03568403,  0.00641577, -0.00848698,\n",
              "           0.01514674,  0.03192825],\n",
              "         [ 0.01123352, -0.01126999, -0.01185337,  0.00653127,\n",
              "          -0.00995402,  0.01730921,  0.01784242, -0.01409317,\n",
              "           0.01604296,  0.02802754],\n",
              "         [ 0.01289474, -0.01475499, -0.01507284,  0.00593094,\n",
              "          -0.00182648,  0.00535893,  0.00743459,  0.00096093,\n",
              "           0.00916668,  0.00673261],\n",
              "         [ 0.00214239, -0.00230722, -0.00075521,  0.0023927 ,\n",
              "          -0.0004468 ,  0.01792869,  0.01841142, -0.00153466,\n",
              "           0.00367646,  0.01496594],\n",
              "         [ 0.01566955, -0.01422789, -0.01675266, -0.00116246,\n",
              "          -0.01041054,  0.03372113,  0.00284986, -0.00204534,\n",
              "           0.01104933,  0.02761794],\n",
              "         [ 0.01825677, -0.01647287, -0.01865999, -0.00096522,\n",
              "          -0.00559659,  0.01535484,  0.01288725, -0.00094438,\n",
              "           0.01024884,  0.01751318]]], dtype=float32)>,\n",
              " <tf.Tensor: shape=(1, 5), dtype=float32, numpy=\n",
              " array([[ 0.01825677, -0.01647287, -0.01865999, -0.00096522, -0.00559659]],\n",
              "       dtype=float32)>,\n",
              " <tf.Tensor: shape=(1, 5), dtype=float32, numpy=\n",
              " array([[ 0.01932765,  0.02079922, -0.00454842,  0.00643312,  0.01671551]],\n",
              "       dtype=float32)>]"
            ]
          },
          "metadata": {
            "tags": []
          },
          "execution_count": 63
        }
      ]
    },
    {
      "cell_type": "markdown",
      "metadata": {
        "id": "a3_5IU2yB4Bh"
      },
      "source": [
        "# RNN 모델"
      ]
    },
    {
      "cell_type": "code",
      "metadata": {
        "id": "Syb0abZJBszL"
      },
      "source": [
        "def build_model(n_vocab, d_model, n_seq, n_out):\n",
        "    \"\"\"\n",
        "    RNN 모델\n",
        "    :param n_vocab: vocabulary 단어 수\n",
        "    :param d_model: 단어를 의미하는 벡터의 차원 수\n",
        "    :param n_seq: 문장길이 (단어 수)\n",
        "    :param n_out: 예측할 class 개수\n",
        "    \"\"\"\n",
        "    input = tf.keras.layers.Input(shape=(n_seq,))\n",
        "\n",
        "    embedding = tf.keras.layers.Embedding(n_vocab, d_model)  # (n_vocab x d_model)\n",
        "    hidden = embedding(input)  # (bs, 1, d_model)\n",
        "\n",
        "    ########################################\n",
        "    hidden = tf.keras.layers.Bidirectional(tf.keras.layers.SimpleRNN(units = 128, return_sequences = True))(hidden) # (bs, 128)\n",
        "    hidden = tf.keras.layers.SimpleRNN(units = 128, return_sequences = True)(hidden)\n",
        "    # rnn_1 = tf.keras.layers.Bidirectional(tf.keras.layers.SimpleRNN(units=128, return_sequences=True))\n",
        "    # hidden = rnn_1(hidden)  # (bs, 128)\n",
        "    # rnn_2 = tf.keras.layers.SimpleRNN(units=128, return_sequences=True)\n",
        "    # hidden = rnn_2(hidden)\n",
        "    ########################################\n",
        "\n",
        "    output = tf.keras.layers.Dense(n_out, activation=tf.nn.softmax)(hidden)  # (bs, 1, n_vocab)\n",
        "\n",
        "    model = tf.keras.Model(inputs=input, outputs=output)\n",
        "    return model"
      ],
      "execution_count": 64,
      "outputs": []
    },
    {
      "cell_type": "code",
      "metadata": {
        "id": "WiLrbkH5CEoT",
        "colab": {
          "base_uri": "https://localhost:8080/",
          "height": 533
        },
        "outputId": "606e8bb5-3091-40e2-abc4-56bd33868868"
      },
      "source": [
        "# 모델 생성\n",
        "model = build_model(len(word_to_id), 8, 7, 2)\n",
        "# 모델 내용 그래프 출력\n",
        "tf.keras.utils.plot_model(model, 'model.png', show_shapes=True)"
      ],
      "execution_count": 65,
      "outputs": [
        {
          "output_type": "execute_result",
          "data": {
            "image/png": "[encoded data removed]",
            "text/plain": [
              "<IPython.core.display.Image object>"
            ]
          },
          "metadata": {
            "tags": []
          },
          "execution_count": 65
        }
      ]
    },
    {
      "cell_type": "code",
      "metadata": {
        "id": "VFzhTrGbCFmm",
        "colab": {
          "base_uri": "https://localhost:8080/"
        },
        "outputId": "d1eee3d7-022e-4d37-a333-0d93b7fdc230"
      },
      "source": [
        "model.predict(train_inputs)"
      ],
      "execution_count": 66,
      "outputs": [
        {
          "output_type": "execute_result",
          "data": {
            "text/plain": [
              "array([[[0.51912874, 0.4808712 ],\n",
              "        [0.5130567 , 0.48694333],\n",
              "        [0.506221  , 0.49377903],\n",
              "        [0.4905734 , 0.5094266 ],\n",
              "        [0.53359216, 0.46640778],\n",
              "        [0.47992492, 0.52007514],\n",
              "        [0.47854427, 0.52145576]]], dtype=float32)"
            ]
          },
          "metadata": {
            "tags": []
          },
          "execution_count": 66
        }
      ]
    }
  ]
}