{
  "nbformat": 4,
  "nbformat_minor": 0,
  "metadata": {
    "colab": {
      "name": "Day6_Assignment",
      "provenance": [],
      "collapsed_sections": [
        "g78tzmjN3mzF",
        "6dfJPT-2XMTB",
        "JHkHg6XAXoyK",
        "XwriCkq_R1Lc",
        "3myBX8hNEH1u",
        "zSaoCf37q3aC",
        "arOON7lCq3aC",
        "wMPwmL79q3aG",
        "jTN2yeNEq3aI"
      ]
    },
    "kernelspec": {
      "name": "python3",
      "display_name": "Python 3"
    },
    "accelerator": "GPU",
    "widgets": {
      "application/vnd.jupyter.widget-state+json": {
        "7daad7ac923c46169c73931bc7e3afd7": {
          "model_module": "@jupyter-widgets/controls",
          "model_name": "HBoxModel",
          "state": {
            "_view_name": "HBoxView",
            "_dom_classes": [],
            "_model_name": "HBoxModel",
            "_view_module": "@jupyter-widgets/controls",
            "_model_module_version": "1.5.0",
            "_view_count": null,
            "_view_module_version": "1.5.0",
            "box_style": "",
            "layout": "IPY_MODEL_a73d0504592440b8a78c85c839b71c40",
            "_model_module": "@jupyter-widgets/controls",
            "children": [
              "IPY_MODEL_a9616286452a40ebb7dd81dc9bc936ca",
              "IPY_MODEL_cde902e914ac4d97b0ea7905021d7e35"
            ]
          }
        },
        "a73d0504592440b8a78c85c839b71c40": {
          "model_module": "@jupyter-widgets/base",
          "model_name": "LayoutModel",
          "state": {
            "_view_name": "LayoutView",
            "grid_template_rows": null,
            "right": null,
            "justify_content": null,
            "_view_module": "@jupyter-widgets/base",
            "overflow": null,
            "_model_module_version": "1.2.0",
            "_view_count": null,
            "flex_flow": null,
            "width": null,
            "min_width": null,
            "border": null,
            "align_items": null,
            "bottom": null,
            "_model_module": "@jupyter-widgets/base",
            "top": null,
            "grid_column": null,
            "overflow_y": null,
            "overflow_x": null,
            "grid_auto_flow": null,
            "grid_area": null,
            "grid_template_columns": null,
            "flex": null,
            "_model_name": "LayoutModel",
            "justify_items": null,
            "grid_row": null,
            "max_height": null,
            "align_content": null,
            "visibility": null,
            "align_self": null,
            "height": null,
            "min_height": null,
            "padding": null,
            "grid_auto_rows": null,
            "grid_gap": null,
            "max_width": null,
            "order": null,
            "_view_module_version": "1.2.0",
            "grid_template_areas": null,
            "object_position": null,
            "object_fit": null,
            "grid_auto_columns": null,
            "margin": null,
            "display": null,
            "left": null
          }
        },
        "a9616286452a40ebb7dd81dc9bc936ca": {
          "model_module": "@jupyter-widgets/controls",
          "model_name": "FloatProgressModel",
          "state": {
            "_view_name": "ProgressView",
            "style": "IPY_MODEL_4ae7659b509b49b7980f07a36929c650",
            "_dom_classes": [],
            "description": "100%",
            "_model_name": "FloatProgressModel",
            "bar_style": "success",
            "max": 6888,
            "_view_module": "@jupyter-widgets/controls",
            "_model_module_version": "1.5.0",
            "value": 6888,
            "_view_count": null,
            "_view_module_version": "1.5.0",
            "orientation": "horizontal",
            "min": 0,
            "description_tooltip": null,
            "_model_module": "@jupyter-widgets/controls",
            "layout": "IPY_MODEL_b2979a98cf7345f5a09ea7cdcc243d5b"
          }
        },
        "cde902e914ac4d97b0ea7905021d7e35": {
          "model_module": "@jupyter-widgets/controls",
          "model_name": "HTMLModel",
          "state": {
            "_view_name": "HTMLView",
            "style": "IPY_MODEL_f07051f0157f41e993fc6bd57af43f21",
            "_dom_classes": [],
            "description": "",
            "_model_name": "HTMLModel",
            "placeholder": "​",
            "_view_module": "@jupyter-widgets/controls",
            "_model_module_version": "1.5.0",
            "value": " 6888/6888 [00:07&lt;00:00, 983.58it/s]",
            "_view_count": null,
            "_view_module_version": "1.5.0",
            "description_tooltip": null,
            "_model_module": "@jupyter-widgets/controls",
            "layout": "IPY_MODEL_13ddc779c2e24264ae4689c0a5c955c0"
          }
        },
        "4ae7659b509b49b7980f07a36929c650": {
          "model_module": "@jupyter-widgets/controls",
          "model_name": "ProgressStyleModel",
          "state": {
            "_view_name": "StyleView",
            "_model_name": "ProgressStyleModel",
            "description_width": "initial",
            "_view_module": "@jupyter-widgets/base",
            "_model_module_version": "1.5.0",
            "_view_count": null,
            "_view_module_version": "1.2.0",
            "bar_color": null,
            "_model_module": "@jupyter-widgets/controls"
          }
        },
        "b2979a98cf7345f5a09ea7cdcc243d5b": {
          "model_module": "@jupyter-widgets/base",
          "model_name": "LayoutModel",
          "state": {
            "_view_name": "LayoutView",
            "grid_template_rows": null,
            "right": null,
            "justify_content": null,
            "_view_module": "@jupyter-widgets/base",
            "overflow": null,
            "_model_module_version": "1.2.0",
            "_view_count": null,
            "flex_flow": null,
            "width": null,
            "min_width": null,
            "border": null,
            "align_items": null,
            "bottom": null,
            "_model_module": "@jupyter-widgets/base",
            "top": null,
            "grid_column": null,
            "overflow_y": null,
            "overflow_x": null,
            "grid_auto_flow": null,
            "grid_area": null,
            "grid_template_columns": null,
            "flex": null,
            "_model_name": "LayoutModel",
            "justify_items": null,
            "grid_row": null,
            "max_height": null,
            "align_content": null,
            "visibility": null,
            "align_self": null,
            "height": null,
            "min_height": null,
            "padding": null,
            "grid_auto_rows": null,
            "grid_gap": null,
            "max_width": null,
            "order": null,
            "_view_module_version": "1.2.0",
            "grid_template_areas": null,
            "object_position": null,
            "object_fit": null,
            "grid_auto_columns": null,
            "margin": null,
            "display": null,
            "left": null
          }
        },
        "f07051f0157f41e993fc6bd57af43f21": {
          "model_module": "@jupyter-widgets/controls",
          "model_name": "DescriptionStyleModel",
          "state": {
            "_view_name": "StyleView",
            "_model_name": "DescriptionStyleModel",
            "description_width": "",
            "_view_module": "@jupyter-widgets/base",
            "_model_module_version": "1.5.0",
            "_view_count": null,
            "_view_module_version": "1.2.0",
            "_model_module": "@jupyter-widgets/controls"
          }
        },
        "13ddc779c2e24264ae4689c0a5c955c0": {
          "model_module": "@jupyter-widgets/base",
          "model_name": "LayoutModel",
          "state": {
            "_view_name": "LayoutView",
            "grid_template_rows": null,
            "right": null,
            "justify_content": null,
            "_view_module": "@jupyter-widgets/base",
            "overflow": null,
            "_model_module_version": "1.2.0",
            "_view_count": null,
            "flex_flow": null,
            "width": null,
            "min_width": null,
            "border": null,
            "align_items": null,
            "bottom": null,
            "_model_module": "@jupyter-widgets/base",
            "top": null,
            "grid_column": null,
            "overflow_y": null,
            "overflow_x": null,
            "grid_auto_flow": null,
            "grid_area": null,
            "grid_template_columns": null,
            "flex": null,
            "_model_name": "LayoutModel",
            "justify_items": null,
            "grid_row": null,
            "max_height": null,
            "align_content": null,
            "visibility": null,
            "align_self": null,
            "height": null,
            "min_height": null,
            "padding": null,
            "grid_auto_rows": null,
            "grid_gap": null,
            "max_width": null,
            "order": null,
            "_view_module_version": "1.2.0",
            "grid_template_areas": null,
            "object_position": null,
            "object_fit": null,
            "grid_auto_columns": null,
            "margin": null,
            "display": null,
            "left": null
          }
        },
        "1eeee5fe6ba547e4955b88c3f250ecb7": {
          "model_module": "@jupyter-widgets/controls",
          "model_name": "HBoxModel",
          "state": {
            "_view_name": "HBoxView",
            "_dom_classes": [],
            "_model_name": "HBoxModel",
            "_view_module": "@jupyter-widgets/controls",
            "_model_module_version": "1.5.0",
            "_view_count": null,
            "_view_module_version": "1.5.0",
            "box_style": "",
            "layout": "IPY_MODEL_801e6ee693fb40d480dbf24be39aa6e1",
            "_model_module": "@jupyter-widgets/controls",
            "children": [
              "IPY_MODEL_f3dbbf179a084de3bd0ed37bd9ea8a60",
              "IPY_MODEL_4224cdf6e73543cb921ece657b902c08"
            ]
          }
        },
        "801e6ee693fb40d480dbf24be39aa6e1": {
          "model_module": "@jupyter-widgets/base",
          "model_name": "LayoutModel",
          "state": {
            "_view_name": "LayoutView",
            "grid_template_rows": null,
            "right": null,
            "justify_content": null,
            "_view_module": "@jupyter-widgets/base",
            "overflow": null,
            "_model_module_version": "1.2.0",
            "_view_count": null,
            "flex_flow": null,
            "width": null,
            "min_width": null,
            "border": null,
            "align_items": null,
            "bottom": null,
            "_model_module": "@jupyter-widgets/base",
            "top": null,
            "grid_column": null,
            "overflow_y": null,
            "overflow_x": null,
            "grid_auto_flow": null,
            "grid_area": null,
            "grid_template_columns": null,
            "flex": null,
            "_model_name": "LayoutModel",
            "justify_items": null,
            "grid_row": null,
            "max_height": null,
            "align_content": null,
            "visibility": null,
            "align_self": null,
            "height": null,
            "min_height": null,
            "padding": null,
            "grid_auto_rows": null,
            "grid_gap": null,
            "max_width": null,
            "order": null,
            "_view_module_version": "1.2.0",
            "grid_template_areas": null,
            "object_position": null,
            "object_fit": null,
            "grid_auto_columns": null,
            "margin": null,
            "display": null,
            "left": null
          }
        },
        "f3dbbf179a084de3bd0ed37bd9ea8a60": {
          "model_module": "@jupyter-widgets/controls",
          "model_name": "FloatProgressModel",
          "state": {
            "_view_name": "ProgressView",
            "style": "IPY_MODEL_0b0cb879129d4efc8e95f7742b39671b",
            "_dom_classes": [],
            "description": "100%",
            "_model_name": "FloatProgressModel",
            "bar_style": "success",
            "max": 688,
            "_view_module": "@jupyter-widgets/controls",
            "_model_module_version": "1.5.0",
            "value": 688,
            "_view_count": null,
            "_view_module_version": "1.5.0",
            "orientation": "horizontal",
            "min": 0,
            "description_tooltip": null,
            "_model_module": "@jupyter-widgets/controls",
            "layout": "IPY_MODEL_2af7656b90a441cd9db2b50b0c5e3952"
          }
        },
        "4224cdf6e73543cb921ece657b902c08": {
          "model_module": "@jupyter-widgets/controls",
          "model_name": "HTMLModel",
          "state": {
            "_view_name": "HTMLView",
            "style": "IPY_MODEL_a7b856126e6744da9aee4f6d950f3ac5",
            "_dom_classes": [],
            "description": "",
            "_model_name": "HTMLModel",
            "placeholder": "​",
            "_view_module": "@jupyter-widgets/controls",
            "_model_module_version": "1.5.0",
            "value": " 688/688 [00:00&lt;00:00, 4011.89it/s]",
            "_view_count": null,
            "_view_module_version": "1.5.0",
            "description_tooltip": null,
            "_model_module": "@jupyter-widgets/controls",
            "layout": "IPY_MODEL_38704a87db574bc7a51452b48c00b442"
          }
        },
        "0b0cb879129d4efc8e95f7742b39671b": {
          "model_module": "@jupyter-widgets/controls",
          "model_name": "ProgressStyleModel",
          "state": {
            "_view_name": "StyleView",
            "_model_name": "ProgressStyleModel",
            "description_width": "initial",
            "_view_module": "@jupyter-widgets/base",
            "_model_module_version": "1.5.0",
            "_view_count": null,
            "_view_module_version": "1.2.0",
            "bar_color": null,
            "_model_module": "@jupyter-widgets/controls"
          }
        },
        "2af7656b90a441cd9db2b50b0c5e3952": {
          "model_module": "@jupyter-widgets/base",
          "model_name": "LayoutModel",
          "state": {
            "_view_name": "LayoutView",
            "grid_template_rows": null,
            "right": null,
            "justify_content": null,
            "_view_module": "@jupyter-widgets/base",
            "overflow": null,
            "_model_module_version": "1.2.0",
            "_view_count": null,
            "flex_flow": null,
            "width": null,
            "min_width": null,
            "border": null,
            "align_items": null,
            "bottom": null,
            "_model_module": "@jupyter-widgets/base",
            "top": null,
            "grid_column": null,
            "overflow_y": null,
            "overflow_x": null,
            "grid_auto_flow": null,
            "grid_area": null,
            "grid_template_columns": null,
            "flex": null,
            "_model_name": "LayoutModel",
            "justify_items": null,
            "grid_row": null,
            "max_height": null,
            "align_content": null,
            "visibility": null,
            "align_self": null,
            "height": null,
            "min_height": null,
            "padding": null,
            "grid_auto_rows": null,
            "grid_gap": null,
            "max_width": null,
            "order": null,
            "_view_module_version": "1.2.0",
            "grid_template_areas": null,
            "object_position": null,
            "object_fit": null,
            "grid_auto_columns": null,
            "margin": null,
            "display": null,
            "left": null
          }
        },
        "a7b856126e6744da9aee4f6d950f3ac5": {
          "model_module": "@jupyter-widgets/controls",
          "model_name": "DescriptionStyleModel",
          "state": {
            "_view_name": "StyleView",
            "_model_name": "DescriptionStyleModel",
            "description_width": "",
            "_view_module": "@jupyter-widgets/base",
            "_model_module_version": "1.5.0",
            "_view_count": null,
            "_view_module_version": "1.2.0",
            "_model_module": "@jupyter-widgets/controls"
          }
        },
        "38704a87db574bc7a51452b48c00b442": {
          "model_module": "@jupyter-widgets/base",
          "model_name": "LayoutModel",
          "state": {
            "_view_name": "LayoutView",
            "grid_template_rows": null,
            "right": null,
            "justify_content": null,
            "_view_module": "@jupyter-widgets/base",
            "overflow": null,
            "_model_module_version": "1.2.0",
            "_view_count": null,
            "flex_flow": null,
            "width": null,
            "min_width": null,
            "border": null,
            "align_items": null,
            "bottom": null,
            "_model_module": "@jupyter-widgets/base",
            "top": null,
            "grid_column": null,
            "overflow_y": null,
            "overflow_x": null,
            "grid_auto_flow": null,
            "grid_area": null,
            "grid_template_columns": null,
            "flex": null,
            "_model_name": "LayoutModel",
            "justify_items": null,
            "grid_row": null,
            "max_height": null,
            "align_content": null,
            "visibility": null,
            "align_self": null,
            "height": null,
            "min_height": null,
            "padding": null,
            "grid_auto_rows": null,
            "grid_gap": null,
            "max_width": null,
            "order": null,
            "_view_module_version": "1.2.0",
            "grid_template_areas": null,
            "object_position": null,
            "object_fit": null,
            "grid_auto_columns": null,
            "margin": null,
            "display": null,
            "left": null
          }
        }
      }
    }
  },
  "cells": [
    {
      "cell_type": "markdown",
      "metadata": {
        "id": "g78tzmjN3mzF"
      },
      "source": [
        "# 한글폰트 설치\n",
        "- 아래 실행후 '런터임 다시 시작' 하면 됩니다.\n",
        "- 메뉴에서 '런타임' >> '런타임 다시 시작'을 클릭하세요.\n",
        "- 런타임 다시 시작 후 다시 실행할 필요 없습니다."
      ]
    },
    {
      "cell_type": "code",
      "metadata": {
        "id": "Co97FHic3p0D",
        "colab": {
          "base_uri": "https://localhost:8080/"
        },
        "outputId": "e3761bba-20ce-450c-e070-17fa37a48d35"
      },
      "source": [
        "# 폰트 설치\n",
        "!apt-get update -qq # 나눔고딕 설치\n",
        "!apt-get install fonts-nanum* -qq\n",
        "\n",
        "import matplotlib as mpl\n",
        "import matplotlib.pyplot as plt\n",
        "import matplotlib.font_manager as fm\n",
        "\n",
        "# 폰트 로딩\n",
        "fontpath = '/usr/share/fonts/truetype/nanum/NanumBarunGothic.ttf'\n",
        "font = fm.FontProperties(fname=fontpath, size=9)\n",
        "plt.rc('font', family='NanumBarunGothic') \n",
        "mpl.font_manager._rebuild()"
      ],
      "execution_count": 1,
      "outputs": [
        {
          "output_type": "stream",
          "text": [
            "Selecting previously unselected package fonts-nanum.\n",
            "(Reading database ... 146374 files and directories currently installed.)\n",
            "Preparing to unpack .../fonts-nanum_20170925-1_all.deb ...\n",
            "Unpacking fonts-nanum (20170925-1) ...\n",
            "Selecting previously unselected package fonts-nanum-eco.\n",
            "Preparing to unpack .../fonts-nanum-eco_1.000-6_all.deb ...\n",
            "Unpacking fonts-nanum-eco (1.000-6) ...\n",
            "Selecting previously unselected package fonts-nanum-extra.\n",
            "Preparing to unpack .../fonts-nanum-extra_20170925-1_all.deb ...\n",
            "Unpacking fonts-nanum-extra (20170925-1) ...\n",
            "Selecting previously unselected package fonts-nanum-coding.\n",
            "Preparing to unpack .../fonts-nanum-coding_2.5-1_all.deb ...\n",
            "Unpacking fonts-nanum-coding (2.5-1) ...\n",
            "Setting up fonts-nanum-extra (20170925-1) ...\n",
            "Setting up fonts-nanum (20170925-1) ...\n",
            "Setting up fonts-nanum-coding (2.5-1) ...\n",
            "Setting up fonts-nanum-eco (1.000-6) ...\n",
            "Processing triggers for fontconfig (2.12.6-0ubuntu2) ...\n"
          ],
          "name": "stdout"
        }
      ]
    },
    {
      "cell_type": "markdown",
      "metadata": {
        "id": "6dfJPT-2XMTB"
      },
      "source": [
        "# Install"
      ]
    },
    {
      "cell_type": "code",
      "metadata": {
        "colab": {
          "base_uri": "https://localhost:8080/"
        },
        "id": "VfbC3gss-WJG",
        "outputId": "337820b6-c7f6-4f46-c7e0-b7a7955e4c68"
      },
      "source": [
        "!pip install sentencepiece"
      ],
      "execution_count": 1,
      "outputs": [
        {
          "output_type": "stream",
          "text": [
            "Requirement already satisfied: sentencepiece in /usr/local/lib/python3.6/dist-packages (0.1.95)\n"
          ],
          "name": "stdout"
        }
      ]
    },
    {
      "cell_type": "markdown",
      "metadata": {
        "id": "JHkHg6XAXoyK"
      },
      "source": [
        "# Evn"
      ]
    },
    {
      "cell_type": "code",
      "metadata": {
        "id": "WkYXFwcBXJDG"
      },
      "source": [
        "import os\n",
        "import random\n",
        "import shutil\n",
        "import json\n",
        "import zipfile\n",
        "import math\n",
        "import copy\n",
        "import collections\n",
        "import re\n",
        "\n",
        "import matplotlib.pyplot as plt\n",
        "import seaborn as sns\n",
        "from wordcloud import WordCloud\n",
        "import pandas as pd\n",
        "import numpy as np\n",
        "import sentencepiece as spm\n",
        "import tensorflow as tf\n",
        "import tensorflow.keras.backend as K\n",
        "\n",
        "from tqdm.notebook import tqdm"
      ],
      "execution_count": 2,
      "outputs": []
    },
    {
      "cell_type": "code",
      "metadata": {
        "id": "nvjyruUlXtlR"
      },
      "source": [
        "# random seed initialize\n",
        "random_seed = 1234\n",
        "random.seed(random_seed)\n",
        "np.random.seed(random_seed)\n",
        "tf.random.set_seed(random_seed)"
      ],
      "execution_count": 3,
      "outputs": []
    },
    {
      "cell_type": "code",
      "metadata": {
        "id": "BC3fXkhdYcYt",
        "colab": {
          "base_uri": "https://localhost:8080/"
        },
        "outputId": "0efe4e8a-e602-4883-a880-668b872ca02c"
      },
      "source": [
        "!nvidia-smi"
      ],
      "execution_count": 4,
      "outputs": [
        {
          "output_type": "stream",
          "text": [
            "NVIDIA-SMI has failed because it couldn't communicate with the NVIDIA driver. Make sure that the latest NVIDIA driver is installed and running.\n",
            "\n"
          ],
          "name": "stdout"
        }
      ]
    },
    {
      "cell_type": "code",
      "metadata": {
        "id": "xVRdxYReYeQj",
        "colab": {
          "base_uri": "https://localhost:8080/"
        },
        "outputId": "67173b96-4338-4bc6-89f4-65e9b11fb61b"
      },
      "source": [
        "# google drive mount\n",
        "from google.colab import drive\n",
        "drive.mount('/content/drive')"
      ],
      "execution_count": 5,
      "outputs": [
        {
          "output_type": "stream",
          "text": [
            "Mounted at /content/drive\n"
          ],
          "name": "stdout"
        }
      ]
    },
    {
      "cell_type": "code",
      "metadata": {
        "id": "byCIiLJBbFHh",
        "colab": {
          "base_uri": "https://localhost:8080/"
        },
        "outputId": "b1f7abae-1ff5-4d0d-dfa1-d99dea731e72"
      },
      "source": [
        "# data dir\n",
        "data_dir = '/content/drive/MyDrive/nlp/data-20210129T020456Z-001/data'\n",
        "os.listdir(data_dir)"
      ],
      "execution_count": 6,
      "outputs": [
        {
          "output_type": "execute_result",
          "data": {
            "text/plain": [
              "['ko_32000.model', 'ko_32000.vocab', 'kowiki', 'nsmc', 'quora']"
            ]
          },
          "metadata": {
            "tags": []
          },
          "execution_count": 6
        }
      ]
    },
    {
      "cell_type": "code",
      "metadata": {
        "id": "_Ru56YS3-SME",
        "colab": {
          "base_uri": "https://localhost:8080/"
        },
        "outputId": "8686bbed-c959-4170-8de3-019fa22068b4"
      },
      "source": [
        "# quora dir\n",
        "quora_dir = os.path.join(data_dir, 'quora')\n",
        "if not os.path.exists(quora_dir):\n",
        "    os.makedirs(quora_dir)\n",
        "os.listdir(quora_dir)"
      ],
      "execution_count": 7,
      "outputs": [
        {
          "output_type": "execute_result",
          "data": {
            "text/plain": [
              "['kor_pair_train.csv', 'kor_Pair_test.csv', 'stub.csv']"
            ]
          },
          "metadata": {
            "tags": []
          },
          "execution_count": 7
        }
      ]
    },
    {
      "cell_type": "markdown",
      "metadata": {
        "id": "XwriCkq_R1Lc"
      },
      "source": [
        "# Vocabulary & config"
      ]
    },
    {
      "cell_type": "code",
      "metadata": {
        "id": "2H0BLydCb7lg",
        "colab": {
          "base_uri": "https://localhost:8080/"
        },
        "outputId": "71052f69-5124-4fe7-c148-4d05a49bf910"
      },
      "source": [
        "# vocab loading\n",
        "vocab = spm.SentencePieceProcessor()\n",
        "vocab.load(os.path.join(data_dir, 'ko_32000.model'))"
      ],
      "execution_count": 8,
      "outputs": [
        {
          "output_type": "execute_result",
          "data": {
            "text/plain": [
              "True"
            ]
          },
          "metadata": {
            "tags": []
          },
          "execution_count": 8
        }
      ]
    },
    {
      "cell_type": "code",
      "metadata": {
        "id": "0ETZ19flTRmt"
      },
      "source": [
        "n_vocab = len(vocab)  # number of vocabulary\n",
        "n_seq_1 = 26  # number of sequence 1\n",
        "n_seq_2 = 27  # number of sequence 2\n",
        "d_model = 256  # dimension of model\n",
        "n_out = 2  # number of output class"
      ],
      "execution_count": 9,
      "outputs": []
    },
    {
      "cell_type": "markdown",
      "metadata": {
        "id": "3myBX8hNEH1u"
      },
      "source": [
        "# 모델링"
      ]
    },
    {
      "cell_type": "code",
      "metadata": {
        "id": "SobekkcjEX_P"
      },
      "source": [
        "def build_model(n_vocab, d_model, n_seq_1, n_seq_2):\n",
        "    \"\"\"\n",
        "    문장 유사도 비교 모델\n",
        "    :param n_vocab: vocabulary 단어 수\n",
        "    :param d_model: 단어를 의미하는 벡터의 차원 수\n",
        "    :param n_seq_1: 문장 1 길이 (단어 수)\n",
        "    :param n_seq_2: 문장 2 길이 (단어 수)\n",
        "    \"\"\"\n",
        "    inputs_1 = tf.keras.layers.Input((n_seq_1,))  # (bs, n_seq_1)\n",
        "    inputs_2 = tf.keras.layers.Input((n_seq_2,))  # (bs, n_seq_2)\n",
        "    # 입력 단어를 vector로 변환\n",
        "    embedding = tf.keras.layers.Embedding(n_vocab, d_model)\n",
        "    hidden_1 = embedding(inputs_1)  # (bs, n_seq_1, d_model)\n",
        "    hidden_2 = embedding(inputs_2)  # (bs, n_seq_2, d_model)\n",
        "    ####################################\n",
        "    # RNN or CNN 추가해 보세요.\n",
        "    conv_1 = tf.keras.layers.Conv1D(filters=128, kernel_size=3, padding = 'causal')\n",
        "    conv_2 = tf.keras.layers.Conv1D(filters=128, kernel_size=3, padding = 'causal')\n",
        "    conv_hidden_1 = conv_1(hidden_1)\n",
        "    conv_hidden_2 = conv_2(hidden_2)\n",
        "    rnn_hidden_1 = tf.keras.layers.Bidirectional(tf.keras.layers.SimpleRNN(units = 128, return_sequences = True))(hidden_1) # (bs, 128)\n",
        "    rnn_hidden_2 = tf.keras.layers.Bidirectional(tf.keras.layers.SimpleRNN(units = 128, return_sequences = True))(hidden_2) # (bs, 128)\n",
        "    ####################################\n",
        "    # 각 단어 벡터의 최대값 기준으로 벡터를 더해서 차원을 줄여줌 (문장 vector 생성)\n",
        "    pool = tf.keras.layers.GlobalMaxPool1D()\n",
        "    hidden_pool_1 = pool(hidden_1)  # (bs, d_model)\n",
        "    hidden_pool_2 = pool(hidden_2)  # (bs, d_model)\n",
        "    # distance 계산 ||a - b||\n",
        "    distance = K.sum(K.abs(hidden_pool_1 - hidden_pool_2), axis=-1)\n",
        "    outputs = K.exp(-distance)\n",
        "    # 학습할 모델 선언\n",
        "    model = tf.keras.Model(inputs=(inputs_1, inputs_2), outputs=outputs)\n",
        "    return model"
      ],
      "execution_count": 28,
      "outputs": []
    },
    {
      "cell_type": "markdown",
      "metadata": {
        "id": "zSaoCf37q3aC"
      },
      "source": [
        "# All Data Project"
      ]
    },
    {
      "cell_type": "markdown",
      "metadata": {
        "id": "arOON7lCq3aC"
      },
      "source": [
        "## Data\n"
      ]
    },
    {
      "cell_type": "code",
      "metadata": {
        "id": "tNIbidDEq3aC",
        "colab": {
          "base_uri": "https://localhost:8080/",
          "height": 402
        },
        "outputId": "23a5d2c9-3491-41b6-f957-5c17476d372f"
      },
      "source": [
        "df_train = pd.read_csv(os.path.join(quora_dir, 'kor_pair_train.csv'), delimiter=',')\n",
        "df_train"
      ],
      "execution_count": 29,
      "outputs": [
        {
          "output_type": "execute_result",
          "data": {
            "text/html": [
              "<div>\n",
              "<style scoped>\n",
              "    .dataframe tbody tr th:only-of-type {\n",
              "        vertical-align: middle;\n",
              "    }\n",
              "\n",
              "    .dataframe tbody tr th {\n",
              "        vertical-align: top;\n",
              "    }\n",
              "\n",
              "    .dataframe thead th {\n",
              "        text-align: right;\n",
              "    }\n",
              "</style>\n",
              "<table border=\"1\" class=\"dataframe\">\n",
              "  <thead>\n",
              "    <tr style=\"text-align: right;\">\n",
              "      <th></th>\n",
              "      <th>id</th>\n",
              "      <th>qid1</th>\n",
              "      <th>qid2</th>\n",
              "      <th>question1</th>\n",
              "      <th>question2</th>\n",
              "      <th>is_duplicate</th>\n",
              "    </tr>\n",
              "  </thead>\n",
              "  <tbody>\n",
              "    <tr>\n",
              "      <th>0</th>\n",
              "      <td>1</td>\n",
              "      <td>1</td>\n",
              "      <td>2</td>\n",
              "      <td>1000일 만난 여자친구와 이별</td>\n",
              "      <td>10년 연예의끝</td>\n",
              "      <td>1</td>\n",
              "    </tr>\n",
              "    <tr>\n",
              "      <th>1</th>\n",
              "      <td>2</td>\n",
              "      <td>3</td>\n",
              "      <td>4</td>\n",
              "      <td>10년 연애사 되돌아보니 다 부질없네</td>\n",
              "      <td>10년이라는 시간이 참 무색하다 싶네</td>\n",
              "      <td>1</td>\n",
              "    </tr>\n",
              "    <tr>\n",
              "      <th>2</th>\n",
              "      <td>3</td>\n",
              "      <td>5</td>\n",
              "      <td>6</td>\n",
              "      <td>10년만나다 헤어지네</td>\n",
              "      <td>14년된 여자친구랑 이별</td>\n",
              "      <td>1</td>\n",
              "    </tr>\n",
              "    <tr>\n",
              "      <th>3</th>\n",
              "      <td>4</td>\n",
              "      <td>7</td>\n",
              "      <td>8</td>\n",
              "      <td>10월의 마지막밤 . 더 보고싶네 그사람</td>\n",
              "      <td>15년…안녕</td>\n",
              "      <td>1</td>\n",
              "    </tr>\n",
              "    <tr>\n",
              "      <th>4</th>\n",
              "      <td>5</td>\n",
              "      <td>9</td>\n",
              "      <td>10</td>\n",
              "      <td>14년의 기나긴 이야기.</td>\n",
              "      <td>1년 9개월 의 연애 종지부.</td>\n",
              "      <td>1</td>\n",
              "    </tr>\n",
              "    <tr>\n",
              "      <th>...</th>\n",
              "      <td>...</td>\n",
              "      <td>...</td>\n",
              "      <td>...</td>\n",
              "      <td>...</td>\n",
              "      <td>...</td>\n",
              "      <td>...</td>\n",
              "    </tr>\n",
              "    <tr>\n",
              "      <th>6883</th>\n",
              "      <td>6884</td>\n",
              "      <td>13767</td>\n",
              "      <td>13768</td>\n",
              "      <td>O형 남자와 썸을 타는데</td>\n",
              "      <td>O형 여자와 썸을 타는데</td>\n",
              "      <td>1</td>\n",
              "    </tr>\n",
              "    <tr>\n",
              "      <th>6884</th>\n",
              "      <td>6885</td>\n",
              "      <td>13769</td>\n",
              "      <td>13770</td>\n",
              "      <td>SD카드 안돼</td>\n",
              "      <td>SD카드 망가졌어</td>\n",
              "      <td>0</td>\n",
              "    </tr>\n",
              "    <tr>\n",
              "      <th>6885</th>\n",
              "      <td>6886</td>\n",
              "      <td>13771</td>\n",
              "      <td>13772</td>\n",
              "      <td>SNS 를 끊어야 하는데.</td>\n",
              "      <td>가슴 아픈 이별</td>\n",
              "      <td>1</td>\n",
              "    </tr>\n",
              "    <tr>\n",
              "      <th>6886</th>\n",
              "      <td>6887</td>\n",
              "      <td>13773</td>\n",
              "      <td>13774</td>\n",
              "      <td>SNS 시간낭비인데 자꾸 보게됨</td>\n",
              "      <td>SNS 시간낭비인 거 아는데 매일 하는 중</td>\n",
              "      <td>0</td>\n",
              "    </tr>\n",
              "    <tr>\n",
              "      <th>6887</th>\n",
              "      <td>6888</td>\n",
              "      <td>13775</td>\n",
              "      <td>13776</td>\n",
              "      <td>sns에서 다른 이성이랑 대화하는걸 보니 화가 나</td>\n",
              "      <td>가슴에 구멍이 너무 커.</td>\n",
              "      <td>1</td>\n",
              "    </tr>\n",
              "  </tbody>\n",
              "</table>\n",
              "<p>6888 rows × 6 columns</p>\n",
              "</div>"
            ],
            "text/plain": [
              "        id   qid1  ...                question2 is_duplicate\n",
              "0        1      1  ...                 10년 연예의끝            1\n",
              "1        2      3  ...     10년이라는 시간이 참 무색하다 싶네            1\n",
              "2        3      5  ...            14년된 여자친구랑 이별            1\n",
              "3        4      7  ...                   15년…안녕            1\n",
              "4        5      9  ...         1년 9개월 의 연애 종지부.            1\n",
              "...    ...    ...  ...                      ...          ...\n",
              "6883  6884  13767  ...            O형 여자와 썸을 타는데            1\n",
              "6884  6885  13769  ...                SD카드 망가졌어            0\n",
              "6885  6886  13771  ...                 가슴 아픈 이별            1\n",
              "6886  6887  13773  ...  SNS 시간낭비인 거 아는데 매일 하는 중            0\n",
              "6887  6888  13775  ...            가슴에 구멍이 너무 커.            1\n",
              "\n",
              "[6888 rows x 6 columns]"
            ]
          },
          "metadata": {
            "tags": []
          },
          "execution_count": 29
        }
      ]
    },
    {
      "cell_type": "code",
      "metadata": {
        "id": "6kGWoqa0q3aD",
        "colab": {
          "base_uri": "https://localhost:8080/",
          "height": 402
        },
        "outputId": "e4f48e68-81f9-444b-f3d6-c56abfc5e2c1"
      },
      "source": [
        "df_train = df_train.dropna()\n",
        "df_train"
      ],
      "execution_count": 30,
      "outputs": [
        {
          "output_type": "execute_result",
          "data": {
            "text/html": [
              "<div>\n",
              "<style scoped>\n",
              "    .dataframe tbody tr th:only-of-type {\n",
              "        vertical-align: middle;\n",
              "    }\n",
              "\n",
              "    .dataframe tbody tr th {\n",
              "        vertical-align: top;\n",
              "    }\n",
              "\n",
              "    .dataframe thead th {\n",
              "        text-align: right;\n",
              "    }\n",
              "</style>\n",
              "<table border=\"1\" class=\"dataframe\">\n",
              "  <thead>\n",
              "    <tr style=\"text-align: right;\">\n",
              "      <th></th>\n",
              "      <th>id</th>\n",
              "      <th>qid1</th>\n",
              "      <th>qid2</th>\n",
              "      <th>question1</th>\n",
              "      <th>question2</th>\n",
              "      <th>is_duplicate</th>\n",
              "    </tr>\n",
              "  </thead>\n",
              "  <tbody>\n",
              "    <tr>\n",
              "      <th>0</th>\n",
              "      <td>1</td>\n",
              "      <td>1</td>\n",
              "      <td>2</td>\n",
              "      <td>1000일 만난 여자친구와 이별</td>\n",
              "      <td>10년 연예의끝</td>\n",
              "      <td>1</td>\n",
              "    </tr>\n",
              "    <tr>\n",
              "      <th>1</th>\n",
              "      <td>2</td>\n",
              "      <td>3</td>\n",
              "      <td>4</td>\n",
              "      <td>10년 연애사 되돌아보니 다 부질없네</td>\n",
              "      <td>10년이라는 시간이 참 무색하다 싶네</td>\n",
              "      <td>1</td>\n",
              "    </tr>\n",
              "    <tr>\n",
              "      <th>2</th>\n",
              "      <td>3</td>\n",
              "      <td>5</td>\n",
              "      <td>6</td>\n",
              "      <td>10년만나다 헤어지네</td>\n",
              "      <td>14년된 여자친구랑 이별</td>\n",
              "      <td>1</td>\n",
              "    </tr>\n",
              "    <tr>\n",
              "      <th>3</th>\n",
              "      <td>4</td>\n",
              "      <td>7</td>\n",
              "      <td>8</td>\n",
              "      <td>10월의 마지막밤 . 더 보고싶네 그사람</td>\n",
              "      <td>15년…안녕</td>\n",
              "      <td>1</td>\n",
              "    </tr>\n",
              "    <tr>\n",
              "      <th>4</th>\n",
              "      <td>5</td>\n",
              "      <td>9</td>\n",
              "      <td>10</td>\n",
              "      <td>14년의 기나긴 이야기.</td>\n",
              "      <td>1년 9개월 의 연애 종지부.</td>\n",
              "      <td>1</td>\n",
              "    </tr>\n",
              "    <tr>\n",
              "      <th>...</th>\n",
              "      <td>...</td>\n",
              "      <td>...</td>\n",
              "      <td>...</td>\n",
              "      <td>...</td>\n",
              "      <td>...</td>\n",
              "      <td>...</td>\n",
              "    </tr>\n",
              "    <tr>\n",
              "      <th>6883</th>\n",
              "      <td>6884</td>\n",
              "      <td>13767</td>\n",
              "      <td>13768</td>\n",
              "      <td>O형 남자와 썸을 타는데</td>\n",
              "      <td>O형 여자와 썸을 타는데</td>\n",
              "      <td>1</td>\n",
              "    </tr>\n",
              "    <tr>\n",
              "      <th>6884</th>\n",
              "      <td>6885</td>\n",
              "      <td>13769</td>\n",
              "      <td>13770</td>\n",
              "      <td>SD카드 안돼</td>\n",
              "      <td>SD카드 망가졌어</td>\n",
              "      <td>0</td>\n",
              "    </tr>\n",
              "    <tr>\n",
              "      <th>6885</th>\n",
              "      <td>6886</td>\n",
              "      <td>13771</td>\n",
              "      <td>13772</td>\n",
              "      <td>SNS 를 끊어야 하는데.</td>\n",
              "      <td>가슴 아픈 이별</td>\n",
              "      <td>1</td>\n",
              "    </tr>\n",
              "    <tr>\n",
              "      <th>6886</th>\n",
              "      <td>6887</td>\n",
              "      <td>13773</td>\n",
              "      <td>13774</td>\n",
              "      <td>SNS 시간낭비인데 자꾸 보게됨</td>\n",
              "      <td>SNS 시간낭비인 거 아는데 매일 하는 중</td>\n",
              "      <td>0</td>\n",
              "    </tr>\n",
              "    <tr>\n",
              "      <th>6887</th>\n",
              "      <td>6888</td>\n",
              "      <td>13775</td>\n",
              "      <td>13776</td>\n",
              "      <td>sns에서 다른 이성이랑 대화하는걸 보니 화가 나</td>\n",
              "      <td>가슴에 구멍이 너무 커.</td>\n",
              "      <td>1</td>\n",
              "    </tr>\n",
              "  </tbody>\n",
              "</table>\n",
              "<p>6888 rows × 6 columns</p>\n",
              "</div>"
            ],
            "text/plain": [
              "        id   qid1  ...                question2 is_duplicate\n",
              "0        1      1  ...                 10년 연예의끝            1\n",
              "1        2      3  ...     10년이라는 시간이 참 무색하다 싶네            1\n",
              "2        3      5  ...            14년된 여자친구랑 이별            1\n",
              "3        4      7  ...                   15년…안녕            1\n",
              "4        5      9  ...         1년 9개월 의 연애 종지부.            1\n",
              "...    ...    ...  ...                      ...          ...\n",
              "6883  6884  13767  ...            O형 여자와 썸을 타는데            1\n",
              "6884  6885  13769  ...                SD카드 망가졌어            0\n",
              "6885  6886  13771  ...                 가슴 아픈 이별            1\n",
              "6886  6887  13773  ...  SNS 시간낭비인 거 아는데 매일 하는 중            0\n",
              "6887  6888  13775  ...            가슴에 구멍이 너무 커.            1\n",
              "\n",
              "[6888 rows x 6 columns]"
            ]
          },
          "metadata": {
            "tags": []
          },
          "execution_count": 30
        }
      ]
    },
    {
      "cell_type": "code",
      "metadata": {
        "id": "KWPDQFPBq3aD",
        "colab": {
          "base_uri": "https://localhost:8080/",
          "height": 402
        },
        "outputId": "1c23b1a5-adc5-4505-a970-a20f88194d09"
      },
      "source": [
        "df_test = pd.read_csv(os.path.join(quora_dir, 'kor_Pair_test.csv'), delimiter=',')\n",
        "df_test"
      ],
      "execution_count": 31,
      "outputs": [
        {
          "output_type": "execute_result",
          "data": {
            "text/html": [
              "<div>\n",
              "<style scoped>\n",
              "    .dataframe tbody tr th:only-of-type {\n",
              "        vertical-align: middle;\n",
              "    }\n",
              "\n",
              "    .dataframe tbody tr th {\n",
              "        vertical-align: top;\n",
              "    }\n",
              "\n",
              "    .dataframe thead th {\n",
              "        text-align: right;\n",
              "    }\n",
              "</style>\n",
              "<table border=\"1\" class=\"dataframe\">\n",
              "  <thead>\n",
              "    <tr style=\"text-align: right;\">\n",
              "      <th></th>\n",
              "      <th>test_id</th>\n",
              "      <th>question1</th>\n",
              "      <th>question2</th>\n",
              "      <th>is_duplicate</th>\n",
              "      <th>Unnamed: 4</th>\n",
              "    </tr>\n",
              "  </thead>\n",
              "  <tbody>\n",
              "    <tr>\n",
              "      <th>0</th>\n",
              "      <td>1</td>\n",
              "      <td>21살의 사랑에 대해</td>\n",
              "      <td>사랑을 노력한다는게 말이 되나요?</td>\n",
              "      <td>1</td>\n",
              "      <td>NaN</td>\n",
              "    </tr>\n",
              "    <tr>\n",
              "      <th>1</th>\n",
              "      <td>2</td>\n",
              "      <td>2년 가량의 연애</td>\n",
              "      <td>2년 만났어</td>\n",
              "      <td>0</td>\n",
              "      <td>NaN</td>\n",
              "    </tr>\n",
              "    <tr>\n",
              "      <th>2</th>\n",
              "      <td>3</td>\n",
              "      <td>2년 만난 기념일이야</td>\n",
              "      <td>우리 벌써 2년 동안 사궜어</td>\n",
              "      <td>0</td>\n",
              "      <td>NaN</td>\n",
              "    </tr>\n",
              "    <tr>\n",
              "      <th>3</th>\n",
              "      <td>4</td>\n",
              "      <td>2년 사귀었는데 결혼하려고</td>\n",
              "      <td>2년째 짝사랑하는 사람이 있어.</td>\n",
              "      <td>1</td>\n",
              "      <td>NaN</td>\n",
              "    </tr>\n",
              "    <tr>\n",
              "      <th>4</th>\n",
              "      <td>5</td>\n",
              "      <td>5급면제도 나랑사랑카드 발급하나요?</td>\n",
              "      <td>아이콘 노래 사랑을 했다 별로인것같은데</td>\n",
              "      <td>1</td>\n",
              "      <td>NaN</td>\n",
              "    </tr>\n",
              "    <tr>\n",
              "      <th>...</th>\n",
              "      <td>...</td>\n",
              "      <td>...</td>\n",
              "      <td>...</td>\n",
              "      <td>...</td>\n",
              "      <td>...</td>\n",
              "    </tr>\n",
              "    <tr>\n",
              "      <th>683</th>\n",
              "      <td>684</td>\n",
              "      <td>회사에서 짤릴 필이 와</td>\n",
              "      <td>나 회사 짤릴 거 같은데 어떻게 만회하지</td>\n",
              "      <td>0</td>\n",
              "      <td>1.0</td>\n",
              "    </tr>\n",
              "    <tr>\n",
              "      <th>684</th>\n",
              "      <td>685</td>\n",
              "      <td>효율적으로 공부하는 방법</td>\n",
              "      <td>새 해 결심 뭐였더라</td>\n",
              "      <td>1</td>\n",
              "      <td>NaN</td>\n",
              "    </tr>\n",
              "    <tr>\n",
              "      <th>685</th>\n",
              "      <td>686</td>\n",
              "      <td>휴대폰 액정 깨졌어</td>\n",
              "      <td>액정 깨짐</td>\n",
              "      <td>0</td>\n",
              "      <td>NaN</td>\n",
              "    </tr>\n",
              "    <tr>\n",
              "      <th>686</th>\n",
              "      <td>687</td>\n",
              "      <td>힘든 일이 너무 많아요</td>\n",
              "      <td>괜찮아 천천히 해도 돼</td>\n",
              "      <td>1</td>\n",
              "      <td>NaN</td>\n",
              "    </tr>\n",
              "    <tr>\n",
              "      <th>687</th>\n",
              "      <td>688</td>\n",
              "      <td>AI도 감정 있나?</td>\n",
              "      <td>이런 감정은 처음인데 설레네</td>\n",
              "      <td>1</td>\n",
              "      <td>NaN</td>\n",
              "    </tr>\n",
              "  </tbody>\n",
              "</table>\n",
              "<p>688 rows × 5 columns</p>\n",
              "</div>"
            ],
            "text/plain": [
              "     test_id            question1  ... is_duplicate  Unnamed: 4\n",
              "0          1          21살의 사랑에 대해  ...            1         NaN\n",
              "1          2            2년 가량의 연애  ...            0         NaN\n",
              "2          3          2년 만난 기념일이야  ...            0         NaN\n",
              "3          4       2년 사귀었는데 결혼하려고  ...            1         NaN\n",
              "4          5  5급면제도 나랑사랑카드 발급하나요?  ...            1         NaN\n",
              "..       ...                  ...  ...          ...         ...\n",
              "683      684         회사에서 짤릴 필이 와  ...            0         1.0\n",
              "684      685        효율적으로 공부하는 방법  ...            1         NaN\n",
              "685      686           휴대폰 액정 깨졌어  ...            0         NaN\n",
              "686      687         힘든 일이 너무 많아요  ...            1         NaN\n",
              "687      688           AI도 감정 있나?  ...            1         NaN\n",
              "\n",
              "[688 rows x 5 columns]"
            ]
          },
          "metadata": {
            "tags": []
          },
          "execution_count": 31
        }
      ]
    },
    {
      "cell_type": "code",
      "metadata": {
        "id": "y9ewl-6Zq3aE",
        "colab": {
          "base_uri": "https://localhost:8080/",
          "height": 402
        },
        "outputId": "33716c46-ac60-4063-f916-955086e98b8f"
      },
      "source": [
        "df_test = df_test[['test_id', 'question1', 'question2', 'is_duplicate']]\n",
        "df_test"
      ],
      "execution_count": 32,
      "outputs": [
        {
          "output_type": "execute_result",
          "data": {
            "text/html": [
              "<div>\n",
              "<style scoped>\n",
              "    .dataframe tbody tr th:only-of-type {\n",
              "        vertical-align: middle;\n",
              "    }\n",
              "\n",
              "    .dataframe tbody tr th {\n",
              "        vertical-align: top;\n",
              "    }\n",
              "\n",
              "    .dataframe thead th {\n",
              "        text-align: right;\n",
              "    }\n",
              "</style>\n",
              "<table border=\"1\" class=\"dataframe\">\n",
              "  <thead>\n",
              "    <tr style=\"text-align: right;\">\n",
              "      <th></th>\n",
              "      <th>test_id</th>\n",
              "      <th>question1</th>\n",
              "      <th>question2</th>\n",
              "      <th>is_duplicate</th>\n",
              "    </tr>\n",
              "  </thead>\n",
              "  <tbody>\n",
              "    <tr>\n",
              "      <th>0</th>\n",
              "      <td>1</td>\n",
              "      <td>21살의 사랑에 대해</td>\n",
              "      <td>사랑을 노력한다는게 말이 되나요?</td>\n",
              "      <td>1</td>\n",
              "    </tr>\n",
              "    <tr>\n",
              "      <th>1</th>\n",
              "      <td>2</td>\n",
              "      <td>2년 가량의 연애</td>\n",
              "      <td>2년 만났어</td>\n",
              "      <td>0</td>\n",
              "    </tr>\n",
              "    <tr>\n",
              "      <th>2</th>\n",
              "      <td>3</td>\n",
              "      <td>2년 만난 기념일이야</td>\n",
              "      <td>우리 벌써 2년 동안 사궜어</td>\n",
              "      <td>0</td>\n",
              "    </tr>\n",
              "    <tr>\n",
              "      <th>3</th>\n",
              "      <td>4</td>\n",
              "      <td>2년 사귀었는데 결혼하려고</td>\n",
              "      <td>2년째 짝사랑하는 사람이 있어.</td>\n",
              "      <td>1</td>\n",
              "    </tr>\n",
              "    <tr>\n",
              "      <th>4</th>\n",
              "      <td>5</td>\n",
              "      <td>5급면제도 나랑사랑카드 발급하나요?</td>\n",
              "      <td>아이콘 노래 사랑을 했다 별로인것같은데</td>\n",
              "      <td>1</td>\n",
              "    </tr>\n",
              "    <tr>\n",
              "      <th>...</th>\n",
              "      <td>...</td>\n",
              "      <td>...</td>\n",
              "      <td>...</td>\n",
              "      <td>...</td>\n",
              "    </tr>\n",
              "    <tr>\n",
              "      <th>683</th>\n",
              "      <td>684</td>\n",
              "      <td>회사에서 짤릴 필이 와</td>\n",
              "      <td>나 회사 짤릴 거 같은데 어떻게 만회하지</td>\n",
              "      <td>0</td>\n",
              "    </tr>\n",
              "    <tr>\n",
              "      <th>684</th>\n",
              "      <td>685</td>\n",
              "      <td>효율적으로 공부하는 방법</td>\n",
              "      <td>새 해 결심 뭐였더라</td>\n",
              "      <td>1</td>\n",
              "    </tr>\n",
              "    <tr>\n",
              "      <th>685</th>\n",
              "      <td>686</td>\n",
              "      <td>휴대폰 액정 깨졌어</td>\n",
              "      <td>액정 깨짐</td>\n",
              "      <td>0</td>\n",
              "    </tr>\n",
              "    <tr>\n",
              "      <th>686</th>\n",
              "      <td>687</td>\n",
              "      <td>힘든 일이 너무 많아요</td>\n",
              "      <td>괜찮아 천천히 해도 돼</td>\n",
              "      <td>1</td>\n",
              "    </tr>\n",
              "    <tr>\n",
              "      <th>687</th>\n",
              "      <td>688</td>\n",
              "      <td>AI도 감정 있나?</td>\n",
              "      <td>이런 감정은 처음인데 설레네</td>\n",
              "      <td>1</td>\n",
              "    </tr>\n",
              "  </tbody>\n",
              "</table>\n",
              "<p>688 rows × 4 columns</p>\n",
              "</div>"
            ],
            "text/plain": [
              "     test_id            question1               question2  is_duplicate\n",
              "0          1          21살의 사랑에 대해      사랑을 노력한다는게 말이 되나요?             1\n",
              "1          2            2년 가량의 연애                  2년 만났어             0\n",
              "2          3          2년 만난 기념일이야         우리 벌써 2년 동안 사궜어             0\n",
              "3          4       2년 사귀었는데 결혼하려고       2년째 짝사랑하는 사람이 있어.             1\n",
              "4          5  5급면제도 나랑사랑카드 발급하나요?   아이콘 노래 사랑을 했다 별로인것같은데             1\n",
              "..       ...                  ...                     ...           ...\n",
              "683      684         회사에서 짤릴 필이 와  나 회사 짤릴 거 같은데 어떻게 만회하지             0\n",
              "684      685        효율적으로 공부하는 방법             새 해 결심 뭐였더라             1\n",
              "685      686           휴대폰 액정 깨졌어                   액정 깨짐             0\n",
              "686      687         힘든 일이 너무 많아요            괜찮아 천천히 해도 돼             1\n",
              "687      688           AI도 감정 있나?         이런 감정은 처음인데 설레네             1\n",
              "\n",
              "[688 rows x 4 columns]"
            ]
          },
          "metadata": {
            "tags": []
          },
          "execution_count": 32
        }
      ]
    },
    {
      "cell_type": "code",
      "metadata": {
        "id": "kXcHn9p4q3aE",
        "colab": {
          "base_uri": "https://localhost:8080/",
          "height": 402
        },
        "outputId": "b7d91818-39c1-4245-a803-8e7367a4fada"
      },
      "source": [
        "df_test = df_test.dropna()\n",
        "df_test"
      ],
      "execution_count": 33,
      "outputs": [
        {
          "output_type": "execute_result",
          "data": {
            "text/html": [
              "<div>\n",
              "<style scoped>\n",
              "    .dataframe tbody tr th:only-of-type {\n",
              "        vertical-align: middle;\n",
              "    }\n",
              "\n",
              "    .dataframe tbody tr th {\n",
              "        vertical-align: top;\n",
              "    }\n",
              "\n",
              "    .dataframe thead th {\n",
              "        text-align: right;\n",
              "    }\n",
              "</style>\n",
              "<table border=\"1\" class=\"dataframe\">\n",
              "  <thead>\n",
              "    <tr style=\"text-align: right;\">\n",
              "      <th></th>\n",
              "      <th>test_id</th>\n",
              "      <th>question1</th>\n",
              "      <th>question2</th>\n",
              "      <th>is_duplicate</th>\n",
              "    </tr>\n",
              "  </thead>\n",
              "  <tbody>\n",
              "    <tr>\n",
              "      <th>0</th>\n",
              "      <td>1</td>\n",
              "      <td>21살의 사랑에 대해</td>\n",
              "      <td>사랑을 노력한다는게 말이 되나요?</td>\n",
              "      <td>1</td>\n",
              "    </tr>\n",
              "    <tr>\n",
              "      <th>1</th>\n",
              "      <td>2</td>\n",
              "      <td>2년 가량의 연애</td>\n",
              "      <td>2년 만났어</td>\n",
              "      <td>0</td>\n",
              "    </tr>\n",
              "    <tr>\n",
              "      <th>2</th>\n",
              "      <td>3</td>\n",
              "      <td>2년 만난 기념일이야</td>\n",
              "      <td>우리 벌써 2년 동안 사궜어</td>\n",
              "      <td>0</td>\n",
              "    </tr>\n",
              "    <tr>\n",
              "      <th>3</th>\n",
              "      <td>4</td>\n",
              "      <td>2년 사귀었는데 결혼하려고</td>\n",
              "      <td>2년째 짝사랑하는 사람이 있어.</td>\n",
              "      <td>1</td>\n",
              "    </tr>\n",
              "    <tr>\n",
              "      <th>4</th>\n",
              "      <td>5</td>\n",
              "      <td>5급면제도 나랑사랑카드 발급하나요?</td>\n",
              "      <td>아이콘 노래 사랑을 했다 별로인것같은데</td>\n",
              "      <td>1</td>\n",
              "    </tr>\n",
              "    <tr>\n",
              "      <th>...</th>\n",
              "      <td>...</td>\n",
              "      <td>...</td>\n",
              "      <td>...</td>\n",
              "      <td>...</td>\n",
              "    </tr>\n",
              "    <tr>\n",
              "      <th>683</th>\n",
              "      <td>684</td>\n",
              "      <td>회사에서 짤릴 필이 와</td>\n",
              "      <td>나 회사 짤릴 거 같은데 어떻게 만회하지</td>\n",
              "      <td>0</td>\n",
              "    </tr>\n",
              "    <tr>\n",
              "      <th>684</th>\n",
              "      <td>685</td>\n",
              "      <td>효율적으로 공부하는 방법</td>\n",
              "      <td>새 해 결심 뭐였더라</td>\n",
              "      <td>1</td>\n",
              "    </tr>\n",
              "    <tr>\n",
              "      <th>685</th>\n",
              "      <td>686</td>\n",
              "      <td>휴대폰 액정 깨졌어</td>\n",
              "      <td>액정 깨짐</td>\n",
              "      <td>0</td>\n",
              "    </tr>\n",
              "    <tr>\n",
              "      <th>686</th>\n",
              "      <td>687</td>\n",
              "      <td>힘든 일이 너무 많아요</td>\n",
              "      <td>괜찮아 천천히 해도 돼</td>\n",
              "      <td>1</td>\n",
              "    </tr>\n",
              "    <tr>\n",
              "      <th>687</th>\n",
              "      <td>688</td>\n",
              "      <td>AI도 감정 있나?</td>\n",
              "      <td>이런 감정은 처음인데 설레네</td>\n",
              "      <td>1</td>\n",
              "    </tr>\n",
              "  </tbody>\n",
              "</table>\n",
              "<p>688 rows × 4 columns</p>\n",
              "</div>"
            ],
            "text/plain": [
              "     test_id            question1               question2  is_duplicate\n",
              "0          1          21살의 사랑에 대해      사랑을 노력한다는게 말이 되나요?             1\n",
              "1          2            2년 가량의 연애                  2년 만났어             0\n",
              "2          3          2년 만난 기념일이야         우리 벌써 2년 동안 사궜어             0\n",
              "3          4       2년 사귀었는데 결혼하려고       2년째 짝사랑하는 사람이 있어.             1\n",
              "4          5  5급면제도 나랑사랑카드 발급하나요?   아이콘 노래 사랑을 했다 별로인것같은데             1\n",
              "..       ...                  ...                     ...           ...\n",
              "683      684         회사에서 짤릴 필이 와  나 회사 짤릴 거 같은데 어떻게 만회하지             0\n",
              "684      685        효율적으로 공부하는 방법             새 해 결심 뭐였더라             1\n",
              "685      686           휴대폰 액정 깨졌어                   액정 깨짐             0\n",
              "686      687         힘든 일이 너무 많아요            괜찮아 천천히 해도 돼             1\n",
              "687      688           AI도 감정 있나?         이런 감정은 처음인데 설레네             1\n",
              "\n",
              "[688 rows x 4 columns]"
            ]
          },
          "metadata": {
            "tags": []
          },
          "execution_count": 33
        }
      ]
    },
    {
      "cell_type": "code",
      "metadata": {
        "id": "pl2JDf6Aq3aF"
      },
      "source": [
        "def load_data(df, n_seq_1, n_seq_2):\n",
        "    \"\"\"\n",
        "    Quora 학습 데이터 생성\n",
        "    :param df: data frame\n",
        "    :param n_seq_1: number of sequence 1\n",
        "    :param n_seq_2: number of sequence 2\n",
        "    :return inputs_1: input data 1\n",
        "    :return inputs_2: input data 2\n",
        "    :return labels: label data\n",
        "    \"\"\"\n",
        "    inputs_1 = np.zeros((len(df), n_seq_1)).astype(np.int32)\n",
        "    inputs_2 = np.zeros((len(df), n_seq_2)).astype(np.int32)\n",
        "    labels = np.zeros((len(df),))\n",
        "    index = 0\n",
        "    for i, row in tqdm(df.iterrows(), total=len(df)):\n",
        "        # tokens 저장\n",
        "        # print()\n",
        "        is_duplicate = row['is_duplicate']\n",
        "        question1 = row['question1']\n",
        "        question2 = row['question2']\n",
        "        # print(is_duplicate, question1, question2)\n",
        "\n",
        "        tokens_1 = vocab.encode_as_pieces(question1)\n",
        "        # print(len(tokens_1), ':', tokens_1)\n",
        "        tokens_2 = vocab.encode_as_pieces(question2)\n",
        "        # print(len(tokens_2), ':', tokens_2)\n",
        "\n",
        "        token_ids_1 = vocab.encode_as_ids(question1)\n",
        "        # print(len(token_ids_1), ':', token_ids_1)\n",
        "        token_ids_2 = vocab.encode_as_ids(question2)\n",
        "        # print(len(token_ids_2), ':', token_ids_2)\n",
        "\n",
        "        token_ids_1 = token_ids_1[:n_seq_1]\n",
        "        # print(len(token_ids_1), ':', token_ids_1)\n",
        "        token_ids_2 = token_ids_2[:n_seq_2]\n",
        "        # print(len(token_ids_2), ':', token_ids_2)\n",
        "\n",
        "        token_ids_1 += [0] * (n_seq_1 - len(token_ids_1))\n",
        "        # print(len(token_ids_1), ':', token_ids_1)\n",
        "        token_ids_2 += [0] * (n_seq_2 - len(token_ids_2))\n",
        "        # print(len(token_ids_2), ':', token_ids_2)\n",
        "\n",
        "        labels[index] = 1 - is_duplicate  # 0 -> 1, 1 -> 0\n",
        "        inputs_1[index] = token_ids_1\n",
        "        inputs_2[index] = token_ids_2\n",
        "        index += 1\n",
        "    return inputs_1, inputs_2, labels"
      ],
      "execution_count": 34,
      "outputs": []
    },
    {
      "cell_type": "code",
      "metadata": {
        "id": "f5cu4GTFq3aF",
        "colab": {
          "base_uri": "https://localhost:8080/",
          "height": 330,
          "referenced_widgets": [
            "7daad7ac923c46169c73931bc7e3afd7",
            "a73d0504592440b8a78c85c839b71c40",
            "a9616286452a40ebb7dd81dc9bc936ca",
            "cde902e914ac4d97b0ea7905021d7e35",
            "4ae7659b509b49b7980f07a36929c650",
            "b2979a98cf7345f5a09ea7cdcc243d5b",
            "f07051f0157f41e993fc6bd57af43f21",
            "13ddc779c2e24264ae4689c0a5c955c0"
          ]
        },
        "outputId": "90c8cb70-74db-41c0-ccd1-631d48ea6d08"
      },
      "source": [
        "# train data 생성\n",
        "train_inputs_1, train_inputs_2, train_labels = load_data(df_train, n_seq_1, n_seq_2)\n",
        "train_inputs_1, train_inputs_2, train_labels"
      ],
      "execution_count": 35,
      "outputs": [
        {
          "output_type": "display_data",
          "data": {
            "application/vnd.jupyter.widget-view+json": {
              "model_id": "7daad7ac923c46169c73931bc7e3afd7",
              "version_minor": 0,
              "version_major": 2
            },
            "text/plain": [
              "HBox(children=(FloatProgress(value=0.0, max=6888.0), HTML(value='')))"
            ]
          },
          "metadata": {
            "tags": []
          }
        },
        {
          "output_type": "stream",
          "text": [
            "\n"
          ],
          "name": "stdout"
        },
        {
          "output_type": "execute_result",
          "data": {
            "text/plain": [
              "(array([[ 3800,    26,  7314, ...,     0,     0,     0],\n",
              "        [   67,    15,  8256, ...,     0,     0,     0],\n",
              "        [   67,    15,    62, ...,     0,     0,     0],\n",
              "        ...,\n",
              "        [17834,    10,    20, ...,     0,     0,     0],\n",
              "        [17834,  1151,  4468, ...,     0,     0,     0],\n",
              "        [ 2067, 17548,    22, ...,     0,     0,     0]], dtype=int32),\n",
              " array([[   67,    15, 13442, ...,     0,     0,     0],\n",
              "        [   67,    15,   218, ...,     0,     0,     0],\n",
              "        [  242,    15,    85, ...,     0,     0,     0],\n",
              "        ...,\n",
              "        [ 5135, 29356,    29, ...,     0,     0,     0],\n",
              "        [17834,  1151,  4468, ...,     0,     0,     0],\n",
              "        [ 5135,    13, 20337, ...,     0,     0,     0]], dtype=int32),\n",
              " array([0., 0., 0., ..., 0., 1., 0.]))"
            ]
          },
          "metadata": {
            "tags": []
          },
          "execution_count": 35
        }
      ]
    },
    {
      "cell_type": "code",
      "metadata": {
        "id": "wAc54dMJq3aF",
        "colab": {
          "base_uri": "https://localhost:8080/",
          "height": 1000,
          "referenced_widgets": [
            "1eeee5fe6ba547e4955b88c3f250ecb7",
            "801e6ee693fb40d480dbf24be39aa6e1",
            "f3dbbf179a084de3bd0ed37bd9ea8a60",
            "4224cdf6e73543cb921ece657b902c08",
            "0b0cb879129d4efc8e95f7742b39671b",
            "2af7656b90a441cd9db2b50b0c5e3952",
            "a7b856126e6744da9aee4f6d950f3ac5",
            "38704a87db574bc7a51452b48c00b442"
          ]
        },
        "outputId": "e554ff14-9985-4146-b141-7ac0bbb14f85"
      },
      "source": [
        "# test data 생성\n",
        "test_inputs_1, test_inputs_2, test_labels = load_data(df_test, n_seq_1, n_seq_2)\n",
        "test_inputs_1, test_inputs_2, test_labels"
      ],
      "execution_count": 36,
      "outputs": [
        {
          "output_type": "display_data",
          "data": {
            "application/vnd.jupyter.widget-view+json": {
              "model_id": "1eeee5fe6ba547e4955b88c3f250ecb7",
              "version_minor": 0,
              "version_major": 2
            },
            "text/plain": [
              "HBox(children=(FloatProgress(value=0.0, max=688.0), HTML(value='')))"
            ]
          },
          "metadata": {
            "tags": []
          }
        },
        {
          "output_type": "stream",
          "text": [
            "\n"
          ],
          "name": "stdout"
        },
        {
          "output_type": "execute_result",
          "data": {
            "text/plain": [
              "(array([[  513,   704,     9, ...,     0,     0,     0],\n",
              "        [   36,    15,  5657, ...,     0,     0,     0],\n",
              "        [   36,    15,  7314, ...,     0,     0,     0],\n",
              "        ...,\n",
              "        [22848, 27427,  4221, ...,     0,     0,     0],\n",
              "        [10736,  2101,  2329, ...,     0,     0,     0],\n",
              "        [17194,    32,  3971, ...,     0,     0,     0]], dtype=int32),\n",
              " array([[ 5775,  2184,  1973, ...,     0,     0,     0],\n",
              "        [   36,    15, 10711, ...,     0,     0,     0],\n",
              "        [ 1680, 29038,    36, ...,     0,     0,     0],\n",
              "        ...,\n",
              "        [27427,  4221,  4418, ...,     0,     0,     0],\n",
              "        [22827,   141, 17629, ...,     0,     0,     0],\n",
              "        [ 1001,  3971,    18, ...,     0,     0,     0]], dtype=int32),\n",
              " array([0., 1., 1., 0., 0., 0., 1., 0., 0., 0., 1., 0., 1., 0., 0., 1., 1.,\n",
              "        1., 1., 0., 1., 0., 0., 1., 1., 0., 0., 0., 1., 1., 0., 0., 1., 1.,\n",
              "        1., 0., 0., 0., 1., 0., 0., 0., 0., 1., 0., 1., 0., 1., 0., 0., 1.,\n",
              "        1., 0., 1., 0., 1., 1., 0., 1., 1., 1., 0., 1., 0., 0., 0., 0., 0.,\n",
              "        1., 0., 1., 1., 1., 0., 1., 1., 1., 0., 1., 1., 1., 1., 1., 1., 1.,\n",
              "        0., 1., 1., 0., 0., 1., 1., 1., 1., 1., 0., 1., 0., 0., 1., 1., 1.,\n",
              "        0., 1., 1., 1., 0., 0., 0., 1., 1., 0., 0., 1., 1., 1., 1., 0., 1.,\n",
              "        1., 0., 1., 1., 1., 0., 0., 1., 1., 0., 0., 1., 0., 0., 0., 1., 1.,\n",
              "        0., 0., 0., 0., 1., 0., 0., 0., 0., 0., 0., 0., 1., 1., 0., 0., 1.,\n",
              "        1., 1., 1., 1., 1., 0., 1., 1., 1., 0., 1., 1., 1., 1., 0., 0., 1.,\n",
              "        1., 1., 1., 1., 1., 1., 0., 1., 1., 0., 1., 0., 0., 0., 1., 1., 0.,\n",
              "        0., 0., 0., 1., 1., 0., 0., 1., 0., 0., 0., 1., 0., 1., 0., 0., 1.,\n",
              "        1., 1., 0., 0., 1., 1., 0., 1., 1., 0., 1., 0., 0., 1., 0., 0., 1.,\n",
              "        0., 1., 0., 0., 1., 1., 1., 1., 0., 1., 0., 0., 1., 1., 1., 1., 1.,\n",
              "        0., 1., 0., 1., 1., 0., 1., 1., 0., 1., 1., 0., 1., 1., 1., 1., 1.,\n",
              "        0., 1., 1., 1., 1., 1., 0., 1., 0., 0., 0., 0., 1., 1., 0., 0., 0.,\n",
              "        1., 0., 1., 0., 0., 0., 0., 0., 0., 0., 1., 0., 0., 1., 0., 0., 0.,\n",
              "        0., 1., 0., 1., 0., 1., 0., 1., 0., 0., 0., 1., 1., 1., 1., 1., 1.,\n",
              "        1., 0., 0., 1., 1., 0., 1., 0., 1., 0., 1., 1., 0., 0., 0., 0., 1.,\n",
              "        1., 1., 0., 1., 0., 1., 1., 1., 1., 0., 1., 1., 1., 0., 1., 0., 1.,\n",
              "        1., 1., 0., 0., 0., 1., 0., 1., 1., 1., 1., 1., 1., 0., 1., 0., 1.,\n",
              "        1., 0., 0., 0., 0., 1., 0., 1., 1., 0., 1., 0., 0., 0., 0., 1., 0.,\n",
              "        0., 0., 1., 0., 0., 1., 0., 0., 0., 0., 0., 0., 1., 1., 1., 0., 0.,\n",
              "        1., 0., 1., 0., 0., 1., 0., 0., 0., 1., 1., 0., 0., 0., 0., 1., 1.,\n",
              "        0., 0., 0., 0., 1., 0., 1., 1., 1., 1., 1., 0., 1., 1., 1., 0., 1.,\n",
              "        0., 1., 0., 1., 1., 0., 0., 1., 1., 1., 1., 0., 1., 1., 1., 1., 0.,\n",
              "        0., 1., 0., 1., 0., 0., 1., 0., 0., 0., 0., 0., 1., 1., 0., 0., 0.,\n",
              "        0., 0., 1., 0., 1., 0., 1., 0., 1., 0., 0., 0., 0., 1., 1., 1., 1.,\n",
              "        0., 1., 1., 1., 1., 0., 0., 1., 1., 1., 0., 1., 0., 0., 1., 0., 0.,\n",
              "        1., 0., 0., 1., 1., 0., 0., 1., 0., 0., 0., 0., 0., 1., 0., 1., 0.,\n",
              "        0., 1., 0., 1., 1., 1., 0., 1., 1., 1., 0., 1., 1., 0., 0., 0., 1.,\n",
              "        1., 0., 1., 1., 0., 0., 0., 1., 1., 1., 1., 1., 1., 0., 0., 0., 1.,\n",
              "        1., 0., 0., 0., 0., 1., 0., 1., 1., 1., 1., 1., 0., 0., 0., 0., 1.,\n",
              "        1., 0., 1., 1., 0., 1., 0., 0., 0., 0., 0., 1., 0., 1., 1., 1., 1.,\n",
              "        1., 1., 1., 0., 1., 0., 1., 1., 0., 1., 0., 0., 1., 0., 1., 1., 1.,\n",
              "        0., 1., 1., 0., 1., 1., 0., 0., 1., 0., 0., 1., 1., 1., 1., 1., 1.,\n",
              "        1., 0., 0., 0., 1., 1., 1., 1., 0., 0., 1., 1., 1., 0., 0., 1., 1.,\n",
              "        0., 1., 0., 0., 0., 1., 0., 1., 1., 1., 0., 0., 0., 0., 1., 0., 1.,\n",
              "        1., 0., 1., 1., 1., 0., 0., 1., 1., 1., 0., 0., 1., 1., 0., 0., 0.,\n",
              "        1., 0., 1., 1., 0., 0., 1., 1., 1., 1., 1., 1., 0., 0., 0., 1., 0.,\n",
              "        0., 1., 1., 1., 0., 1., 0., 0.]))"
            ]
          },
          "metadata": {
            "tags": []
          },
          "execution_count": 36
        }
      ]
    },
    {
      "cell_type": "markdown",
      "metadata": {
        "id": "wMPwmL79q3aG"
      },
      "source": [
        "## 학습"
      ]
    },
    {
      "cell_type": "code",
      "metadata": {
        "id": "dFNqEE0Bq3aG",
        "colab": {
          "base_uri": "https://localhost:8080/",
          "height": 865
        },
        "outputId": "8fdb3a06-2675-4e54-c33a-1d5076dcdb15"
      },
      "source": [
        "# 모델 생성\n",
        "model = build_model(len(vocab), d_model, n_seq_1, n_seq_2)\n",
        "# 모델 내용 그래프 출력\n",
        "tf.keras.utils.plot_model(model, 'model.png', show_shapes=True)"
      ],
      "execution_count": 37,
      "outputs": [
        {
          "output_type": "execute_result",
          "data": {
            "image/png": "[encoded data removed]",
            "text/plain": [
              "<IPython.core.display.Image object>"
            ]
          },
          "metadata": {
            "tags": []
          },
          "execution_count": 37
        }
      ]
    },
    {
      "cell_type": "code",
      "metadata": {
        "id": "jQIP_O8Dq3aG"
      },
      "source": [
        "# 모델 loss, optimizer, metric 정의\n",
        "model.compile(loss='mean_squared_error', optimizer='adam', metrics=['binary_accuracy'])"
      ],
      "execution_count": 38,
      "outputs": []
    },
    {
      "cell_type": "code",
      "metadata": {
        "id": "P8Kb7jHvq3aG"
      },
      "source": [
        "# early stopping\n",
        "early_stopping = tf.keras.callbacks.EarlyStopping(monitor='val_binary_accuracy', patience=5)\n",
        "# save weights callback\n",
        "save_weights = tf.keras.callbacks.ModelCheckpoint(os.path.join(quora_dir, 'stub.hdf5'),\n",
        "                                                  monitor='val_binary_accuracy',\n",
        "                                                  verbose=1,\n",
        "                                                  save_best_only=True,\n",
        "                                                  mode=\"max\",\n",
        "                                                  save_freq=\"epoch\",\n",
        "                                                  save_weights_only=True)\n",
        "# csv logger\n",
        "csv_logger = tf.keras.callbacks.CSVLogger(os.path.join(quora_dir, 'stub.csv'))"
      ],
      "execution_count": 39,
      "outputs": []
    },
    {
      "cell_type": "code",
      "metadata": {
        "id": "DU7VaxEcq3aG",
        "colab": {
          "base_uri": "https://localhost:8080/"
        },
        "outputId": "fdaf62c1-6af1-4eba-c63a-0b150d4471fe"
      },
      "source": [
        "# 모델 학습\n",
        "history = model.fit((train_inputs_1, train_inputs_2),\n",
        "                    train_labels,\n",
        "                    validation_data=((test_inputs_1, test_inputs_2), test_labels),\n",
        "                    epochs=100,\n",
        "                    batch_size=256,\n",
        "                    callbacks=[early_stopping, save_weights, csv_logger])"
      ],
      "execution_count": 40,
      "outputs": [
        {
          "output_type": "stream",
          "text": [
            "Epoch 1/100\n",
            "27/27 [==============================] - 4s 117ms/step - loss: 0.3024 - binary_accuracy: 0.5547 - val_loss: 0.2231 - val_binary_accuracy: 0.6095\n",
            "\n",
            "Epoch 00001: val_binary_accuracy improved from -inf to 0.60949, saving model to /content/drive/MyDrive/nlp/data-20210129T020456Z-001/data/quora/stub.hdf5\n",
            "Epoch 2/100\n",
            "27/27 [==============================] - 3s 109ms/step - loss: 0.1218 - binary_accuracy: 0.8383 - val_loss: 0.1913 - val_binary_accuracy: 0.7008\n",
            "\n",
            "Epoch 00002: val_binary_accuracy improved from 0.60949 to 0.70076, saving model to /content/drive/MyDrive/nlp/data-20210129T020456Z-001/data/quora/stub.hdf5\n",
            "Epoch 3/100\n",
            "27/27 [==============================] - 3s 111ms/step - loss: 0.0629 - binary_accuracy: 0.9541 - val_loss: 0.1893 - val_binary_accuracy: 0.7106\n",
            "\n",
            "Epoch 00003: val_binary_accuracy improved from 0.70076 to 0.71058, saving model to /content/drive/MyDrive/nlp/data-20210129T020456Z-001/data/quora/stub.hdf5\n",
            "Epoch 4/100\n",
            "27/27 [==============================] - 3s 111ms/step - loss: 0.0453 - binary_accuracy: 0.9702 - val_loss: 0.1928 - val_binary_accuracy: 0.6926\n",
            "\n",
            "Epoch 00004: val_binary_accuracy did not improve from 0.71058\n",
            "Epoch 5/100\n",
            "27/27 [==============================] - 3s 109ms/step - loss: 0.0393 - binary_accuracy: 0.9712 - val_loss: 0.1927 - val_binary_accuracy: 0.7062\n",
            "\n",
            "Epoch 00005: val_binary_accuracy did not improve from 0.71058\n",
            "Epoch 6/100\n",
            "27/27 [==============================] - 3s 108ms/step - loss: 0.0360 - binary_accuracy: 0.9769 - val_loss: 0.1948 - val_binary_accuracy: 0.7043\n",
            "\n",
            "Epoch 00006: val_binary_accuracy did not improve from 0.71058\n",
            "Epoch 7/100\n",
            "27/27 [==============================] - 3s 112ms/step - loss: 0.0337 - binary_accuracy: 0.9767 - val_loss: 0.1958 - val_binary_accuracy: 0.7043\n",
            "\n",
            "Epoch 00007: val_binary_accuracy did not improve from 0.71058\n",
            "Epoch 8/100\n",
            "27/27 [==============================] - 3s 108ms/step - loss: 0.0303 - binary_accuracy: 0.9804 - val_loss: 0.1977 - val_binary_accuracy: 0.7076\n",
            "\n",
            "Epoch 00008: val_binary_accuracy did not improve from 0.71058\n"
          ],
          "name": "stdout"
        }
      ]
    },
    {
      "cell_type": "code",
      "metadata": {
        "id": "6jigtzHxq3aG",
        "colab": {
          "base_uri": "https://localhost:8080/",
          "height": 279
        },
        "outputId": "7c69100b-b5f2-44e7-ddd8-2719407fa1cf"
      },
      "source": [
        "plt.figure(figsize=(12, 4))\n",
        "\n",
        "plt.subplot(1, 2, 1)\n",
        "plt.plot(history.history['loss'], 'b-', label='loss')\n",
        "plt.plot(history.history['val_loss'], 'r--', label='val_loss')\n",
        "plt.xlabel('Epoch')\n",
        "plt.legend()\n",
        "\n",
        "plt.subplot(1, 2, 2)\n",
        "plt.plot(history.history['binary_accuracy'], 'g-', label='acc')\n",
        "plt.plot(history.history['val_binary_accuracy'], 'k--', label='val_acc')\n",
        "plt.xlabel('Epoch')\n",
        "plt.legend()\n",
        "\n",
        "plt.show()"
      ],
      "execution_count": 41,
      "outputs": [
        {
          "output_type": "display_data",
          "data": {
            "image/png": "[encoded data removed]",
            "text/plain": [
              "<Figure size 864x288 with 2 Axes>"
            ]
          },
          "metadata": {
            "tags": [],
            "needs_background": "light"
          }
        }
      ]
    },
    {
      "cell_type": "markdown",
      "metadata": {
        "id": "jTN2yeNEq3aI"
      },
      "source": [
        "## Inference"
      ]
    },
    {
      "cell_type": "code",
      "metadata": {
        "id": "iSWxgN2iq3aI"
      },
      "source": [
        "# 모델 생성\n",
        "model = build_model(len(vocab), d_model, n_seq_1, n_seq_2)\n",
        "# train weight로 초기화\n",
        "model.load_weights(os.path.join(quora_dir, 'stub.hdf5'))"
      ],
      "execution_count": 42,
      "outputs": []
    },
    {
      "cell_type": "code",
      "metadata": {
        "id": "i0nmHeRbq3aI",
        "colab": {
          "base_uri": "https://localhost:8080/"
        },
        "outputId": "553a674e-59da-4e90-b32e-7681628bbb96"
      },
      "source": [
        "# 예측\n",
        "logits = model.predict((test_inputs_1, test_inputs_2))\n",
        "logits"
      ],
      "execution_count": 43,
      "outputs": [
        {
          "output_type": "execute_result",
          "data": {
            "text/plain": [
              "array([0.35482657, 0.2863465 , 0.46718305, 0.46292672, 0.07144575,\n",
              "       0.15584053, 0.4706867 , 0.220309  , 0.49032238, 0.6917643 ,\n",
              "       0.3902127 , 0.532003  , 0.7628248 , 0.5571586 , 0.18950818,\n",
              "       0.7680734 , 0.6754085 , 0.39391333, 0.87996906, 0.770788  ,\n",
              "       0.5889645 , 0.27466607, 0.7901468 , 0.82495624, 0.86652446,\n",
              "       0.20459998, 0.32734293, 0.81260145, 0.7925281 , 0.7690595 ,\n",
              "       0.19863525, 0.3959812 , 0.25196192, 0.80313385, 0.8872578 ,\n",
              "       0.60598636, 0.33648857, 0.32588494, 0.6950015 , 0.84620327,\n",
              "       0.47993457, 0.32947728, 0.11075292, 0.7199475 , 0.10132501,\n",
              "       0.98780495, 0.5124158 , 1.        , 0.6635277 , 0.24014245,\n",
              "       0.5648746 , 0.9560822 , 0.23757035, 0.57861745, 0.5934785 ,\n",
              "       0.6221614 , 0.5513481 , 0.57982224, 0.79255366, 0.94516474,\n",
              "       0.7825788 , 0.79325825, 0.7204746 , 0.5177338 , 0.5479987 ,\n",
              "       0.5337034 , 0.35729975, 0.5101496 , 0.5997868 , 0.50243443,\n",
              "       0.2285259 , 0.5908618 , 1.        , 0.58085185, 0.62790465,\n",
              "       0.9833457 , 0.6735594 , 0.58960235, 0.8040838 , 0.77429515,\n",
              "       0.5361576 , 0.657489  , 0.69511676, 0.83877903, 0.8487024 ,\n",
              "       0.67859614, 0.80354494, 0.940985  , 0.4921437 , 0.28190643,\n",
              "       0.53736424, 0.7932002 , 0.8893501 , 0.90215665, 0.9029582 ,\n",
              "       0.38427693, 0.5411436 , 0.28809175, 0.3874058 , 0.77078736,\n",
              "       0.49492112, 0.71099937, 0.7871577 , 0.6076381 , 0.64939326,\n",
              "       0.88745874, 0.8234202 , 0.22680439, 0.3797093 , 0.5600194 ,\n",
              "       0.23416707, 0.2695402 , 0.42832032, 0.7538155 , 0.97197527,\n",
              "       0.37179774, 0.5116077 , 0.23790003, 0.36123735, 0.34755948,\n",
              "       0.56154525, 0.6590141 , 0.65224206, 0.6503932 , 0.61748815,\n",
              "       0.8851371 , 0.65854454, 0.7150442 , 0.8035636 , 0.22374782,\n",
              "       0.49385658, 0.39194953, 0.49488416, 0.5112973 , 0.87327486,\n",
              "       0.542832  , 0.18819408, 0.15950254, 0.2106517 , 0.6149342 ,\n",
              "       0.69462997, 0.4023856 , 0.7364074 , 0.50068396, 0.39568877,\n",
              "       0.19286568, 0.18240997, 0.12512621, 0.7897362 , 0.5986552 ,\n",
              "       0.6268395 , 0.48599285, 1.        , 0.6931056 , 1.        ,\n",
              "       1.        , 1.        , 0.23047882, 0.5741929 , 0.3573251 ,\n",
              "       0.4056939 , 0.75167584, 0.90899765, 0.5822585 , 0.6632982 ,\n",
              "       0.8612423 , 0.8167743 , 0.38757664, 0.483359  , 0.814767  ,\n",
              "       0.5225921 , 0.31838584, 0.5962691 , 0.75456727, 0.8022065 ,\n",
              "       0.9251776 , 0.24343914, 0.8652828 , 0.73173904, 0.46244845,\n",
              "       0.85835826, 0.28540388, 0.708094  , 0.85712326, 0.79855645,\n",
              "       0.5735256 , 0.48869342, 0.5599827 , 0.30940878, 0.32882375,\n",
              "       0.37035018, 0.58558136, 0.4171347 , 0.12646882, 0.49554053,\n",
              "       0.03503431, 0.02765603, 0.29142895, 0.8209011 , 0.26930723,\n",
              "       0.91266733, 0.36824685, 0.40641707, 0.7102032 , 0.80974233,\n",
              "       0.9451828 , 0.439356  , 0.40963823, 0.9390652 , 0.8559949 ,\n",
              "       0.14379679, 0.6504641 , 0.8326977 , 0.6019039 , 0.88085485,\n",
              "       0.654539  , 0.37451363, 0.81634456, 0.5427603 , 0.1762791 ,\n",
              "       0.84930277, 0.7054528 , 0.41204226, 0.6952169 , 0.11725019,\n",
              "       0.798952  , 0.6323825 , 0.34504294, 0.72622466, 0.7031664 ,\n",
              "       0.5891835 , 0.36645684, 0.6274837 , 0.45474902, 0.62671995,\n",
              "       0.69720006, 0.7663023 , 0.69439125, 0.6988106 , 0.8782316 ,\n",
              "       0.7224497 , 0.87934375, 0.6645032 , 0.3938543 , 0.9453568 ,\n",
              "       0.6328374 , 0.5284732 , 0.5166916 , 0.7757009 , 0.56733453,\n",
              "       0.8114844 , 0.46482536, 0.45027983, 0.81129545, 0.46003836,\n",
              "       0.39471895, 0.8936117 , 0.7797589 , 0.7882652 , 0.7001065 ,\n",
              "       0.55866605, 0.48899937, 0.89638907, 0.35520628, 0.36966866,\n",
              "       0.44757566, 0.7768479 , 0.34528562, 0.82529557, 0.10601456,\n",
              "       0.32073104, 0.35675597, 0.5777321 , 0.6534339 , 0.1958531 ,\n",
              "       0.442902  , 0.24943362, 0.514998  , 0.32993668, 0.6001753 ,\n",
              "       0.33899632, 0.46136564, 0.6804456 , 0.43464988, 0.284599  ,\n",
              "       0.7213879 , 0.5549328 , 0.13983478, 0.77034473, 0.37390125,\n",
              "       0.7134117 , 0.44984525, 0.5407517 , 0.30987257, 0.7242681 ,\n",
              "       0.2844435 , 0.8164112 , 0.34085634, 0.4150804 , 0.41575623,\n",
              "       0.86615026, 0.46790093, 0.7964655 , 0.8372489 , 0.8285633 ,\n",
              "       0.9944007 , 0.7984944 , 0.58380055, 0.4004554 , 0.8913282 ,\n",
              "       0.44874424, 0.3686669 , 0.80765134, 0.22862045, 0.93457186,\n",
              "       0.7505793 , 0.43490294, 0.7803057 , 0.80057514, 0.3030005 ,\n",
              "       0.3052956 , 0.69426376, 0.8003588 , 0.7874056 , 0.457758  ,\n",
              "       0.651007  , 0.608089  , 0.2785399 , 0.90636945, 0.3588866 ,\n",
              "       0.74860525, 0.42181104, 0.475985  , 0.400053  , 0.65824175,\n",
              "       0.26502252, 0.25777483, 0.81647897, 0.20523942, 0.8542714 ,\n",
              "       0.5108093 , 0.76645046, 0.69038856, 0.7981052 , 0.8670124 ,\n",
              "       0.5766113 , 0.6462549 , 0.4920247 , 0.43674815, 0.6952026 ,\n",
              "       0.76331437, 0.82114   , 0.67519736, 0.45129925, 0.6841832 ,\n",
              "       0.19301333, 0.891779  , 0.9123881 , 0.22495867, 0.6245723 ,\n",
              "       0.5040906 , 0.5649441 , 0.45702824, 0.61654603, 0.3909012 ,\n",
              "       0.7390833 , 0.07459174, 0.7933612 , 0.37136346, 0.29823077,\n",
              "       0.3078096 , 0.857162  , 0.7534355 , 0.547792  , 0.52286035,\n",
              "       0.8309978 , 0.9354843 , 0.48387602, 0.6288495 , 0.73356175,\n",
              "       0.85862625, 0.6116808 , 0.41152373, 0.725459  , 0.48818165,\n",
              "       0.45466945, 0.74539477, 0.8999452 , 0.49335894, 0.40666708,\n",
              "       0.51252615, 0.5247707 , 0.30110782, 0.8033753 , 0.27757862,\n",
              "       0.25496733, 0.71018934, 0.33770236, 0.6549772 , 0.37081766,\n",
              "       0.5043388 , 0.9928706 , 0.16640663, 0.23540264, 0.39088506,\n",
              "       0.36183763, 0.6276712 , 0.23113348, 0.16389737, 0.7027943 ,\n",
              "       0.3716938 , 0.19456038, 0.7688489 , 0.3306458 , 0.7304126 ,\n",
              "       0.6023149 , 0.43630648, 0.76020527, 0.5121382 , 0.5138872 ,\n",
              "       0.48438466, 0.8877685 , 0.66858363, 0.45605472, 0.769621  ,\n",
              "       0.54900175, 0.64379615, 0.10466401, 0.23694506, 0.5359941 ,\n",
              "       0.12343869, 0.24296409, 0.13622111, 0.6321563 , 0.70297563,\n",
              "       0.8188606 , 0.33536798, 0.67320716, 0.7031733 , 0.6699372 ,\n",
              "       0.63619727, 0.09972265, 0.24673674, 0.78660893, 0.21540596,\n",
              "       0.5948061 , 0.29674393, 0.51139194, 0.22763996, 0.583398  ,\n",
              "       0.6591699 , 0.8512002 , 0.4698154 , 0.4814869 , 0.8199795 ,\n",
              "       0.82936114, 0.6671262 , 0.53953713, 0.20237795, 0.49394146,\n",
              "       0.7850905 , 0.7318783 , 0.43315306, 0.8677264 , 0.48079324,\n",
              "       0.2235525 , 0.32738602, 0.7178894 , 0.4267093 , 0.05313151,\n",
              "       0.1335847 , 0.67042744, 0.36201486, 0.9371737 , 0.42790604,\n",
              "       0.7804579 , 0.51397073, 1.        , 0.89129484, 0.75521886,\n",
              "       0.8812632 , 0.6441332 , 0.34160936, 0.79710937, 0.44495255,\n",
              "       0.7767462 , 0.11893924, 0.7854634 , 0.3858973 , 0.64948463,\n",
              "       0.6595445 , 0.19537503, 0.53132194, 0.8713423 , 0.8267675 ,\n",
              "       0.5467388 , 0.20885152, 0.9194163 , 0.6602084 , 0.19295385,\n",
              "       0.6840836 , 0.3343153 , 0.33758098, 0.48866835, 0.5625386 ,\n",
              "       0.24224113, 0.33524048, 0.5711702 , 0.6348259 , 0.57831645,\n",
              "       0.75622106, 0.86246943, 0.7562573 , 0.86947644, 0.7631208 ,\n",
              "       0.6266597 , 0.13646051, 0.63526034, 0.36740613, 0.81357396,\n",
              "       0.6917597 , 0.50901026, 0.9147093 , 0.19826801, 0.28593662,\n",
              "       0.23083116, 0.9021247 , 0.8052989 , 0.59658295, 0.39544562,\n",
              "       0.22756763, 0.35398108, 0.40923846, 0.31411847, 0.22046293,\n",
              "       0.50133497, 0.7081063 , 0.75117517, 0.4397885 , 0.91084576,\n",
              "       0.66026944, 0.4745108 , 0.48798952, 0.8522888 , 0.62247753,\n",
              "       0.2874714 , 0.65014637, 0.7648215 , 0.5327643 , 0.9711801 ,\n",
              "       0.32689115, 0.70388436, 0.6656572 , 0.7053809 , 1.        ,\n",
              "       0.88095856, 0.57275105, 0.31198913, 0.67402834, 0.18497479,\n",
              "       0.67257077, 0.64368284, 0.46126863, 0.85548836, 0.333809  ,\n",
              "       0.5501277 , 0.35973972, 0.35764986, 0.5199749 , 0.37611985,\n",
              "       0.65642035, 0.63802004, 0.43457347, 0.36744067, 0.44969568,\n",
              "       0.29726794, 0.7060749 , 0.8271074 , 0.3490034 , 0.7418361 ,\n",
              "       0.54388386, 0.4270966 , 0.5659359 , 0.27100667, 0.6875136 ,\n",
              "       0.6667738 , 0.2857147 , 0.5417275 , 0.24245925, 0.3440474 ,\n",
              "       0.5029022 , 0.06317273, 0.72491   , 0.80828613, 0.926699  ,\n",
              "       0.46368116, 0.7336731 , 0.51608235, 0.35580593, 0.7645617 ,\n",
              "       0.82185024, 0.57673854, 0.32769445, 0.38633552, 0.6948666 ,\n",
              "       0.5958997 , 0.8485548 , 0.75187767, 0.8061361 , 0.77603966,\n",
              "       0.8088418 , 0.67020416, 0.8265444 , 0.46098408, 0.52610636,\n",
              "       0.33033252, 0.22040562, 0.5361759 , 0.50232273, 0.9682835 ,\n",
              "       0.801149  , 0.45512003, 0.58617413, 0.52034235, 0.6000705 ,\n",
              "       0.47744143, 0.5036566 , 0.67722857, 0.6756166 , 0.7031137 ,\n",
              "       0.7062896 , 0.7239949 , 0.43231392, 0.4124515 , 0.7549301 ,\n",
              "       0.42208844, 0.762373  , 0.8820447 , 0.7263707 , 0.4788071 ,\n",
              "       0.48331985, 0.67043906, 0.55489916, 0.59592366, 0.5422356 ,\n",
              "       0.7881448 , 0.8968346 , 0.42629886, 0.77447784, 0.73650247,\n",
              "       0.3274848 , 0.09916534, 0.1447821 , 0.78912693, 0.77267456,\n",
              "       0.61805725, 0.43287337, 0.28707868, 0.7354025 , 0.48814124,\n",
              "       0.11537313, 0.05539697, 0.12633336, 0.16720393, 0.36987287,\n",
              "       0.39457527, 0.70281637, 0.4714134 , 0.21499279, 0.257078  ,\n",
              "       0.52681774, 0.7203342 , 0.47846848, 0.45372894, 0.72876775,\n",
              "       0.87159085, 0.42213094, 0.66607094, 0.7834471 , 0.15198538,\n",
              "       0.2233208 , 0.43420738, 0.4568393 , 0.593691  , 0.49106133,\n",
              "       0.6644542 , 0.6212953 , 0.36117044], dtype=float32)"
            ]
          },
          "metadata": {
            "tags": []
          },
          "execution_count": 43
        }
      ]
    },
    {
      "cell_type": "code",
      "metadata": {
        "id": "K8CprZvVq3aI",
        "colab": {
          "base_uri": "https://localhost:8080/"
        },
        "outputId": "e1e9ebe0-167f-45cc-b9c8-875374a43941"
      },
      "source": [
        "# 0.5를 기준으로 (0, 1) 결정\n",
        "test_preds = (0.5 < logits).astype(np.int)\n",
        "test_preds"
      ],
      "execution_count": 44,
      "outputs": [
        {
          "output_type": "execute_result",
          "data": {
            "text/plain": [
              "array([0, 0, 0, 0, 0, 0, 0, 0, 0, 1, 0, 1, 1, 1, 0, 1, 1, 0, 1, 1, 1, 0,\n",
              "       1, 1, 1, 0, 0, 1, 1, 1, 0, 0, 0, 1, 1, 1, 0, 0, 1, 1, 0, 0, 0, 1,\n",
              "       0, 1, 1, 1, 1, 0, 1, 1, 0, 1, 1, 1, 1, 1, 1, 1, 1, 1, 1, 1, 1, 1,\n",
              "       0, 1, 1, 1, 0, 1, 1, 1, 1, 1, 1, 1, 1, 1, 1, 1, 1, 1, 1, 1, 1, 1,\n",
              "       0, 0, 1, 1, 1, 1, 1, 0, 1, 0, 0, 1, 0, 1, 1, 1, 1, 1, 1, 0, 0, 1,\n",
              "       0, 0, 0, 1, 1, 0, 1, 0, 0, 0, 1, 1, 1, 1, 1, 1, 1, 1, 1, 0, 0, 0,\n",
              "       0, 1, 1, 1, 0, 0, 0, 1, 1, 0, 1, 1, 0, 0, 0, 0, 1, 1, 1, 0, 1, 1,\n",
              "       1, 1, 1, 0, 1, 0, 0, 1, 1, 1, 1, 1, 1, 0, 0, 1, 1, 0, 1, 1, 1, 1,\n",
              "       0, 1, 1, 0, 1, 0, 1, 1, 1, 1, 0, 1, 0, 0, 0, 1, 0, 0, 0, 0, 0, 0,\n",
              "       1, 0, 1, 0, 0, 1, 1, 1, 0, 0, 1, 1, 0, 1, 1, 1, 1, 1, 0, 1, 1, 0,\n",
              "       1, 1, 0, 1, 0, 1, 1, 0, 1, 1, 1, 0, 1, 0, 1, 1, 1, 1, 1, 1, 1, 1,\n",
              "       1, 0, 1, 1, 1, 1, 1, 1, 1, 0, 0, 1, 0, 0, 1, 1, 1, 1, 1, 0, 1, 0,\n",
              "       0, 0, 1, 0, 1, 0, 0, 0, 1, 1, 0, 0, 0, 1, 0, 1, 0, 0, 1, 0, 0, 1,\n",
              "       1, 0, 1, 0, 1, 0, 1, 0, 1, 0, 1, 0, 0, 0, 1, 0, 1, 1, 1, 1, 1, 1,\n",
              "       0, 1, 0, 0, 1, 0, 1, 1, 0, 1, 1, 0, 0, 1, 1, 1, 0, 1, 1, 0, 1, 0,\n",
              "       1, 0, 0, 0, 1, 0, 0, 1, 0, 1, 1, 1, 1, 1, 1, 1, 1, 0, 0, 1, 1, 1,\n",
              "       1, 0, 1, 0, 1, 1, 0, 1, 1, 1, 0, 1, 0, 1, 0, 1, 0, 0, 0, 1, 1, 1,\n",
              "       1, 1, 1, 0, 1, 1, 1, 1, 0, 1, 0, 0, 1, 1, 0, 0, 1, 1, 0, 1, 0, 0,\n",
              "       1, 0, 1, 0, 1, 1, 0, 0, 0, 0, 1, 0, 0, 1, 0, 0, 1, 0, 1, 1, 0, 1,\n",
              "       1, 1, 0, 1, 1, 0, 1, 1, 1, 0, 0, 1, 0, 0, 0, 1, 1, 1, 0, 1, 1, 1,\n",
              "       1, 0, 0, 1, 0, 1, 0, 1, 0, 1, 1, 1, 0, 0, 1, 1, 1, 1, 0, 0, 1, 1,\n",
              "       0, 1, 0, 0, 0, 1, 0, 0, 0, 1, 0, 1, 0, 1, 1, 1, 1, 1, 1, 1, 0, 1,\n",
              "       0, 1, 0, 1, 0, 1, 1, 0, 1, 1, 1, 1, 0, 1, 1, 0, 1, 0, 0, 0, 1, 0,\n",
              "       0, 1, 1, 1, 1, 1, 1, 1, 1, 1, 0, 1, 0, 1, 1, 1, 1, 0, 0, 0, 1, 1,\n",
              "       1, 0, 0, 0, 0, 0, 0, 1, 1, 1, 0, 1, 1, 0, 0, 1, 1, 0, 1, 1, 1, 1,\n",
              "       0, 1, 1, 1, 1, 1, 1, 0, 1, 0, 1, 1, 0, 1, 0, 1, 0, 0, 1, 0, 1, 1,\n",
              "       0, 0, 0, 0, 1, 1, 0, 1, 1, 0, 1, 0, 1, 1, 0, 1, 0, 0, 1, 0, 1, 1,\n",
              "       1, 0, 1, 1, 0, 1, 1, 1, 0, 0, 1, 1, 1, 1, 1, 1, 1, 1, 1, 0, 1, 0,\n",
              "       0, 1, 1, 1, 1, 0, 1, 1, 1, 0, 1, 1, 1, 1, 1, 1, 0, 0, 1, 0, 1, 1,\n",
              "       1, 0, 0, 1, 1, 1, 1, 1, 1, 0, 1, 1, 0, 0, 0, 1, 1, 1, 0, 0, 1, 0,\n",
              "       0, 0, 0, 0, 0, 0, 1, 0, 0, 0, 1, 1, 0, 0, 1, 1, 0, 1, 1, 0, 0, 0,\n",
              "       0, 1, 0, 1, 1, 0])"
            ]
          },
          "metadata": {
            "tags": []
          },
          "execution_count": 44
        }
      ]
    },
    {
      "cell_type": "code",
      "metadata": {
        "id": "Nr6i_0noq3aJ",
        "colab": {
          "base_uri": "https://localhost:8080/"
        },
        "outputId": "4b8203db-980f-4a9c-a362-7859e1e7d87e"
      },
      "source": [
        "# confusion matrix 계산\n",
        "confusion_matrix = np.zeros((2, 2)).astype(np.int)\n",
        "for y_true, y_pred in zip(test_labels, test_preds):\n",
        "    confusion_matrix[int(y_true), int(y_pred)] += 1\n",
        "confusion_matrix"
      ],
      "execution_count": 45,
      "outputs": [
        {
          "output_type": "execute_result",
          "data": {
            "text/plain": [
              "array([[203, 126],\n",
              "       [ 74, 285]])"
            ]
          },
          "metadata": {
            "tags": []
          },
          "execution_count": 45
        }
      ]
    },
    {
      "cell_type": "code",
      "metadata": {
        "id": "dRx3o1frq3aJ",
        "colab": {
          "base_uri": "https://localhost:8080/"
        },
        "outputId": "53d1d950-0bd0-4158-9514-422c9480b8fe"
      },
      "source": [
        "# score 계산\n",
        "tp = confusion_matrix[1, 1]\n",
        "tn = confusion_matrix[0, 0]\n",
        "fp = confusion_matrix[0, 1]\n",
        "fn = confusion_matrix[1, 0]\n",
        "\n",
        "accuracy = (tp + tn) / max(tp + tn + fp + fn, 1)\n",
        "print(f'accuracy: {accuracy}')\n",
        "precision = (tp) / max(tp + fp, 1)\n",
        "print(f'precision: {precision}')\n",
        "recall = (tp) / max(tp + fn, 1)\n",
        "print(f'recall: {recall}')\n",
        "f1 = 2 * (precision * recall) / max(precision + recall, 1)\n",
        "print(f'f1: {f1}')"
      ],
      "execution_count": 46,
      "outputs": [
        {
          "output_type": "stream",
          "text": [
            "accuracy: 0.7093023255813954\n",
            "precision: 0.6934306569343066\n",
            "recall: 0.7938718662952646\n",
            "f1: 0.7402597402597403\n"
          ],
          "name": "stdout"
        }
      ]
    },
    {
      "cell_type": "code",
      "metadata": {
        "id": "dTLqY8UUq3aJ"
      },
      "source": [
        "def do_predict(model, n_seq_1, string1, n_seq_2, string2):\n",
        "    \"\"\"\n",
        "    입력에 대한 답변 생성하는 함수\n",
        "    :param model: model\n",
        "    :param n_seq_1: 입력 개수 1\n",
        "    :param string1: 입력 문자열 1\n",
        "    :param n_seq_1: 입력 개수 3\n",
        "    :param string2: 입력 문자열 2\n",
        "    \"\"\"\n",
        "    # token 생성: <string 1 tokens>, [PAD] tokens\n",
        "    token1 = vocab.encode_as_ids(string1)[:n_seq_1]\n",
        "    token1 += [0] * (n_seq_1 - len(token1))\n",
        "\n",
        "    # token 생성: <string 2 tokens>, [PAD] tokens\n",
        "    token2 = vocab.encode_as_ids(string2)[:n_seq_2]\n",
        "    token2 += [0] * (n_seq_2 - len(token2))\n",
        "\n",
        "    y_pred = model.predict((np.array([token1]), np.array([token2])))\n",
        "\n",
        "    return \"같음\" if y_pred[0] > 0.5 else \"다름\""
      ],
      "execution_count": 47,
      "outputs": []
    },
    {
      "cell_type": "code",
      "metadata": {
        "id": "jOLOr1Ygq3aJ",
        "colab": {
          "base_uri": "https://localhost:8080/"
        },
        "outputId": "4457c5c5-54ce-4d67-c1a3-ae577ac90487"
      },
      "source": [
        "while True:\n",
        "    print(\"string #1 > \", end=\"\")\n",
        "    string1 = str(input())\n",
        "    if len(string1) == 0:\n",
        "        break\n",
        "    print(\"string #2 > \", end=\"\")\n",
        "    string2 = str(input())\n",
        "    if len(string2) == 0:\n",
        "        break\n",
        "    print(f\"output > {do_predict(model, n_seq_1, string1, n_seq_2, string2)}\")"
      ],
      "execution_count": 50,
      "outputs": [
        {
          "output_type": "stream",
          "text": [
            "string #1 > 나는 오늘 기분이 좋다.\n",
            "string #2 > 나는 오늘 기쁘고 즐겁다.\n",
            "output > 다름\n",
            "string #1 > 나는 우울하다.\n",
            "string #2 > 나는 기쁘다.\n",
            "output > 다름\n",
            "string #1 > 안녕하세요.\n",
            "string #2 > 0\n",
            "output > 다름\n",
            "string #1 > 안녕하세요\n",
            "string #2 > \n"
          ],
          "name": "stdout"
        }
      ]
    }
  ]
}