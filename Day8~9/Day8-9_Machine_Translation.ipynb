{
  "nbformat": 4,
  "nbformat_minor": 0,
  "metadata": {
    "accelerator": "GPU",
    "colab": {
      "name": "Day8_Machine Translation",
      "provenance": [],
      "collapsed_sections": [
        "6dfJPT-2XMTB",
        "JHkHg6XAXoyK",
        "3myBX8hNEH1u",
        "fsRvlzDzSX9e",
        "XwriCkq_R1Lc",
        "iCtHjN1jiPBl",
        "8BJA69lTf6_P",
        "vuf2hfnmgPtJ"
      ]
    },
    "kernelspec": {
      "display_name": "Python 3",
      "name": "python3"
    },
    "widgets": {
      "application/vnd.jupyter.widget-state+json": {
        "f5ab0a84a01842b4a1ed1f2274e84890": {
          "model_module": "@jupyter-widgets/controls",
          "model_name": "HBoxModel",
          "state": {
            "_view_name": "HBoxView",
            "_dom_classes": [],
            "_model_name": "HBoxModel",
            "_view_module": "@jupyter-widgets/controls",
            "_model_module_version": "1.5.0",
            "_view_count": null,
            "_view_module_version": "1.5.0",
            "box_style": "",
            "layout": "IPY_MODEL_3b486872e3474f2a85fa8e661d56e3f8",
            "_model_module": "@jupyter-widgets/controls",
            "children": [
              "IPY_MODEL_644b1dcb8e9f4c13b30224a64f69abf4",
              "IPY_MODEL_cbde349fe58f406b8a7b62573acd93b6"
            ]
          }
        },
        "3b486872e3474f2a85fa8e661d56e3f8": {
          "model_module": "@jupyter-widgets/base",
          "model_name": "LayoutModel",
          "state": {
            "_view_name": "LayoutView",
            "grid_template_rows": null,
            "right": null,
            "justify_content": null,
            "_view_module": "@jupyter-widgets/base",
            "overflow": null,
            "_model_module_version": "1.2.0",
            "_view_count": null,
            "flex_flow": null,
            "width": null,
            "min_width": null,
            "border": null,
            "align_items": null,
            "bottom": null,
            "_model_module": "@jupyter-widgets/base",
            "top": null,
            "grid_column": null,
            "overflow_y": null,
            "overflow_x": null,
            "grid_auto_flow": null,
            "grid_area": null,
            "grid_template_columns": null,
            "flex": null,
            "_model_name": "LayoutModel",
            "justify_items": null,
            "grid_row": null,
            "max_height": null,
            "align_content": null,
            "visibility": null,
            "align_self": null,
            "height": null,
            "min_height": null,
            "padding": null,
            "grid_auto_rows": null,
            "grid_gap": null,
            "max_width": null,
            "order": null,
            "_view_module_version": "1.2.0",
            "grid_template_areas": null,
            "object_position": null,
            "object_fit": null,
            "grid_auto_columns": null,
            "margin": null,
            "display": null,
            "left": null
          }
        },
        "644b1dcb8e9f4c13b30224a64f69abf4": {
          "model_module": "@jupyter-widgets/controls",
          "model_name": "FloatProgressModel",
          "state": {
            "_view_name": "ProgressView",
            "style": "IPY_MODEL_7351d464b7f146f198b096e6c971f40d",
            "_dom_classes": [],
            "description": "100%",
            "_model_name": "FloatProgressModel",
            "bar_style": "success",
            "max": 10,
            "_view_module": "@jupyter-widgets/controls",
            "_model_module_version": "1.5.0",
            "value": 10,
            "_view_count": null,
            "_view_module_version": "1.5.0",
            "orientation": "horizontal",
            "min": 0,
            "description_tooltip": null,
            "_model_module": "@jupyter-widgets/controls",
            "layout": "IPY_MODEL_61b36ef5bbce4086b361343a79748d8b"
          }
        },
        "cbde349fe58f406b8a7b62573acd93b6": {
          "model_module": "@jupyter-widgets/controls",
          "model_name": "HTMLModel",
          "state": {
            "_view_name": "HTMLView",
            "style": "IPY_MODEL_fb5cd40642c341d7a132f3ddd2174277",
            "_dom_classes": [],
            "description": "",
            "_model_name": "HTMLModel",
            "placeholder": "​",
            "_view_module": "@jupyter-widgets/controls",
            "_model_module_version": "1.5.0",
            "value": " 10/10 [00:00&lt;00:00, 14.34it/s]",
            "_view_count": null,
            "_view_module_version": "1.5.0",
            "description_tooltip": null,
            "_model_module": "@jupyter-widgets/controls",
            "layout": "IPY_MODEL_e699f9575ab54fcdb15d11bdff5873d0"
          }
        },
        "7351d464b7f146f198b096e6c971f40d": {
          "model_module": "@jupyter-widgets/controls",
          "model_name": "ProgressStyleModel",
          "state": {
            "_view_name": "StyleView",
            "_model_name": "ProgressStyleModel",
            "description_width": "initial",
            "_view_module": "@jupyter-widgets/base",
            "_model_module_version": "1.5.0",
            "_view_count": null,
            "_view_module_version": "1.2.0",
            "bar_color": null,
            "_model_module": "@jupyter-widgets/controls"
          }
        },
        "61b36ef5bbce4086b361343a79748d8b": {
          "model_module": "@jupyter-widgets/base",
          "model_name": "LayoutModel",
          "state": {
            "_view_name": "LayoutView",
            "grid_template_rows": null,
            "right": null,
            "justify_content": null,
            "_view_module": "@jupyter-widgets/base",
            "overflow": null,
            "_model_module_version": "1.2.0",
            "_view_count": null,
            "flex_flow": null,
            "width": null,
            "min_width": null,
            "border": null,
            "align_items": null,
            "bottom": null,
            "_model_module": "@jupyter-widgets/base",
            "top": null,
            "grid_column": null,
            "overflow_y": null,
            "overflow_x": null,
            "grid_auto_flow": null,
            "grid_area": null,
            "grid_template_columns": null,
            "flex": null,
            "_model_name": "LayoutModel",
            "justify_items": null,
            "grid_row": null,
            "max_height": null,
            "align_content": null,
            "visibility": null,
            "align_self": null,
            "height": null,
            "min_height": null,
            "padding": null,
            "grid_auto_rows": null,
            "grid_gap": null,
            "max_width": null,
            "order": null,
            "_view_module_version": "1.2.0",
            "grid_template_areas": null,
            "object_position": null,
            "object_fit": null,
            "grid_auto_columns": null,
            "margin": null,
            "display": null,
            "left": null
          }
        },
        "fb5cd40642c341d7a132f3ddd2174277": {
          "model_module": "@jupyter-widgets/controls",
          "model_name": "DescriptionStyleModel",
          "state": {
            "_view_name": "StyleView",
            "_model_name": "DescriptionStyleModel",
            "description_width": "",
            "_view_module": "@jupyter-widgets/base",
            "_model_module_version": "1.5.0",
            "_view_count": null,
            "_view_module_version": "1.2.0",
            "_model_module": "@jupyter-widgets/controls"
          }
        },
        "e699f9575ab54fcdb15d11bdff5873d0": {
          "model_module": "@jupyter-widgets/base",
          "model_name": "LayoutModel",
          "state": {
            "_view_name": "LayoutView",
            "grid_template_rows": null,
            "right": null,
            "justify_content": null,
            "_view_module": "@jupyter-widgets/base",
            "overflow": null,
            "_model_module_version": "1.2.0",
            "_view_count": null,
            "flex_flow": null,
            "width": null,
            "min_width": null,
            "border": null,
            "align_items": null,
            "bottom": null,
            "_model_module": "@jupyter-widgets/base",
            "top": null,
            "grid_column": null,
            "overflow_y": null,
            "overflow_x": null,
            "grid_auto_flow": null,
            "grid_area": null,
            "grid_template_columns": null,
            "flex": null,
            "_model_name": "LayoutModel",
            "justify_items": null,
            "grid_row": null,
            "max_height": null,
            "align_content": null,
            "visibility": null,
            "align_self": null,
            "height": null,
            "min_height": null,
            "padding": null,
            "grid_auto_rows": null,
            "grid_gap": null,
            "max_width": null,
            "order": null,
            "_view_module_version": "1.2.0",
            "grid_template_areas": null,
            "object_position": null,
            "object_fit": null,
            "grid_auto_columns": null,
            "margin": null,
            "display": null,
            "left": null
          }
        },
        "955c10d300c1403e81bb068536ef4885": {
          "model_module": "@jupyter-widgets/controls",
          "model_name": "HBoxModel",
          "state": {
            "_view_name": "HBoxView",
            "_dom_classes": [],
            "_model_name": "HBoxModel",
            "_view_module": "@jupyter-widgets/controls",
            "_model_module_version": "1.5.0",
            "_view_count": null,
            "_view_module_version": "1.5.0",
            "box_style": "",
            "layout": "IPY_MODEL_856f436944af4e77bc5974d9a3df24d0",
            "_model_module": "@jupyter-widgets/controls",
            "children": [
              "IPY_MODEL_c4db7c95a417484393e967e77677d431",
              "IPY_MODEL_f25aebfcb59647b3b350b4187404c7ed"
            ]
          }
        },
        "856f436944af4e77bc5974d9a3df24d0": {
          "model_module": "@jupyter-widgets/base",
          "model_name": "LayoutModel",
          "state": {
            "_view_name": "LayoutView",
            "grid_template_rows": null,
            "right": null,
            "justify_content": null,
            "_view_module": "@jupyter-widgets/base",
            "overflow": null,
            "_model_module_version": "1.2.0",
            "_view_count": null,
            "flex_flow": null,
            "width": null,
            "min_width": null,
            "border": null,
            "align_items": null,
            "bottom": null,
            "_model_module": "@jupyter-widgets/base",
            "top": null,
            "grid_column": null,
            "overflow_y": null,
            "overflow_x": null,
            "grid_auto_flow": null,
            "grid_area": null,
            "grid_template_columns": null,
            "flex": null,
            "_model_name": "LayoutModel",
            "justify_items": null,
            "grid_row": null,
            "max_height": null,
            "align_content": null,
            "visibility": null,
            "align_self": null,
            "height": null,
            "min_height": null,
            "padding": null,
            "grid_auto_rows": null,
            "grid_gap": null,
            "max_width": null,
            "order": null,
            "_view_module_version": "1.2.0",
            "grid_template_areas": null,
            "object_position": null,
            "object_fit": null,
            "grid_auto_columns": null,
            "margin": null,
            "display": null,
            "left": null
          }
        },
        "c4db7c95a417484393e967e77677d431": {
          "model_module": "@jupyter-widgets/controls",
          "model_name": "FloatProgressModel",
          "state": {
            "_view_name": "ProgressView",
            "style": "IPY_MODEL_59990900b7f94807acac40703daea634",
            "_dom_classes": [],
            "description": "100%",
            "_model_name": "FloatProgressModel",
            "bar_style": "success",
            "max": 11823,
            "_view_module": "@jupyter-widgets/controls",
            "_model_module_version": "1.5.0",
            "value": 11823,
            "_view_count": null,
            "_view_module_version": "1.5.0",
            "orientation": "horizontal",
            "min": 0,
            "description_tooltip": null,
            "_model_module": "@jupyter-widgets/controls",
            "layout": "IPY_MODEL_0e7845c1f55342cb809c3d2cd23d4dc1"
          }
        },
        "f25aebfcb59647b3b350b4187404c7ed": {
          "model_module": "@jupyter-widgets/controls",
          "model_name": "HTMLModel",
          "state": {
            "_view_name": "HTMLView",
            "style": "IPY_MODEL_c5e3c1ce229d4abaa4b27f7b62f80b37",
            "_dom_classes": [],
            "description": "",
            "_model_name": "HTMLModel",
            "placeholder": "​",
            "_view_module": "@jupyter-widgets/controls",
            "_model_module_version": "1.5.0",
            "value": " 11823/11823 [00:02&lt;00:00, 4429.70it/s]",
            "_view_count": null,
            "_view_module_version": "1.5.0",
            "description_tooltip": null,
            "_model_module": "@jupyter-widgets/controls",
            "layout": "IPY_MODEL_ef1c159bc720460a973911bf5f1bbccf"
          }
        },
        "59990900b7f94807acac40703daea634": {
          "model_module": "@jupyter-widgets/controls",
          "model_name": "ProgressStyleModel",
          "state": {
            "_view_name": "StyleView",
            "_model_name": "ProgressStyleModel",
            "description_width": "initial",
            "_view_module": "@jupyter-widgets/base",
            "_model_module_version": "1.5.0",
            "_view_count": null,
            "_view_module_version": "1.2.0",
            "bar_color": null,
            "_model_module": "@jupyter-widgets/controls"
          }
        },
        "0e7845c1f55342cb809c3d2cd23d4dc1": {
          "model_module": "@jupyter-widgets/base",
          "model_name": "LayoutModel",
          "state": {
            "_view_name": "LayoutView",
            "grid_template_rows": null,
            "right": null,
            "justify_content": null,
            "_view_module": "@jupyter-widgets/base",
            "overflow": null,
            "_model_module_version": "1.2.0",
            "_view_count": null,
            "flex_flow": null,
            "width": null,
            "min_width": null,
            "border": null,
            "align_items": null,
            "bottom": null,
            "_model_module": "@jupyter-widgets/base",
            "top": null,
            "grid_column": null,
            "overflow_y": null,
            "overflow_x": null,
            "grid_auto_flow": null,
            "grid_area": null,
            "grid_template_columns": null,
            "flex": null,
            "_model_name": "LayoutModel",
            "justify_items": null,
            "grid_row": null,
            "max_height": null,
            "align_content": null,
            "visibility": null,
            "align_self": null,
            "height": null,
            "min_height": null,
            "padding": null,
            "grid_auto_rows": null,
            "grid_gap": null,
            "max_width": null,
            "order": null,
            "_view_module_version": "1.2.0",
            "grid_template_areas": null,
            "object_position": null,
            "object_fit": null,
            "grid_auto_columns": null,
            "margin": null,
            "display": null,
            "left": null
          }
        },
        "c5e3c1ce229d4abaa4b27f7b62f80b37": {
          "model_module": "@jupyter-widgets/controls",
          "model_name": "DescriptionStyleModel",
          "state": {
            "_view_name": "StyleView",
            "_model_name": "DescriptionStyleModel",
            "description_width": "",
            "_view_module": "@jupyter-widgets/base",
            "_model_module_version": "1.5.0",
            "_view_count": null,
            "_view_module_version": "1.2.0",
            "_model_module": "@jupyter-widgets/controls"
          }
        },
        "ef1c159bc720460a973911bf5f1bbccf": {
          "model_module": "@jupyter-widgets/base",
          "model_name": "LayoutModel",
          "state": {
            "_view_name": "LayoutView",
            "grid_template_rows": null,
            "right": null,
            "justify_content": null,
            "_view_module": "@jupyter-widgets/base",
            "overflow": null,
            "_model_module_version": "1.2.0",
            "_view_count": null,
            "flex_flow": null,
            "width": null,
            "min_width": null,
            "border": null,
            "align_items": null,
            "bottom": null,
            "_model_module": "@jupyter-widgets/base",
            "top": null,
            "grid_column": null,
            "overflow_y": null,
            "overflow_x": null,
            "grid_auto_flow": null,
            "grid_area": null,
            "grid_template_columns": null,
            "flex": null,
            "_model_name": "LayoutModel",
            "justify_items": null,
            "grid_row": null,
            "max_height": null,
            "align_content": null,
            "visibility": null,
            "align_self": null,
            "height": null,
            "min_height": null,
            "padding": null,
            "grid_auto_rows": null,
            "grid_gap": null,
            "max_width": null,
            "order": null,
            "_view_module_version": "1.2.0",
            "grid_template_areas": null,
            "object_position": null,
            "object_fit": null,
            "grid_auto_columns": null,
            "margin": null,
            "display": null,
            "left": null
          }
        }
      }
    }
  },
  "cells": [
    {
      "cell_type": "markdown",
      "metadata": {
        "id": "g78tzmjN3mzF"
      },
      "source": [
        "# 한글폰트 설치\n",
        "- 아래 실행후 '런타임 다시 시작' 하면 됩니다.\n",
        "- 메뉴에서 '런타임' >> '런타임 다시 시작'을 클릭하세요.\n",
        "- 런타임 다시 시작 후 다시 실행할 필요 없습니다."
      ]
    },
    {
      "cell_type": "code",
      "metadata": {
        "id": "Co97FHic3p0D"
      },
      "source": [
        "# 폰트 설치\n",
        "!apt-get update -qq # 나눔고딕 설치\n",
        "!apt-get install fonts-nanum* -qq\n",
        "\n",
        "import matplotlib as mpl\n",
        "import matplotlib.pyplot as plt\n",
        "import matplotlib.font_manager as fm\n",
        "\n",
        "# 폰트 로딩\n",
        "fontpath = '/usr/share/fonts/truetype/nanum/NanumBarunGothic.ttf'\n",
        "font = fm.FontProperties(fname=fontpath, size=9)\n",
        "plt.rc('font', family='NanumBarunGothic') \n",
        "mpl.font_manager._rebuild()"
      ],
      "execution_count": 1,
      "outputs": []
    },
    {
      "cell_type": "markdown",
      "metadata": {
        "id": "6dfJPT-2XMTB"
      },
      "source": [
        "# Install"
      ]
    },
    {
      "cell_type": "code",
      "metadata": {
        "id": "a193aGJWVaqb",
        "colab": {
          "base_uri": "https://localhost:8080/"
        },
        "outputId": "d812586b-1eb5-4340-c34b-d74ef8f6541f"
      },
      "source": [
        "!pip install sentencepiece"
      ],
      "execution_count": 2,
      "outputs": [
        {
          "output_type": "stream",
          "text": [
            "Requirement already satisfied: sentencepiece in /usr/local/lib/python3.6/dist-packages (0.1.95)\n"
          ],
          "name": "stdout"
        }
      ]
    },
    {
      "cell_type": "markdown",
      "metadata": {
        "id": "JHkHg6XAXoyK"
      },
      "source": [
        "# Evn"
      ]
    },
    {
      "cell_type": "code",
      "metadata": {
        "id": "WkYXFwcBXJDG"
      },
      "source": [
        "import os\n",
        "import random\n",
        "import shutil\n",
        "import json\n",
        "import zipfile\n",
        "import math\n",
        "import copy\n",
        "import collections\n",
        "import re\n",
        "\n",
        "import matplotlib.pyplot as plt\n",
        "import seaborn as sns\n",
        "from wordcloud import WordCloud\n",
        "import pandas as pd\n",
        "import numpy as np\n",
        "import sentencepiece as spm\n",
        "import tensorflow as tf\n",
        "import tensorflow.keras.backend as K\n",
        "\n",
        "from tqdm.notebook import tqdm"
      ],
      "execution_count": 3,
      "outputs": []
    },
    {
      "cell_type": "code",
      "metadata": {
        "id": "nvjyruUlXtlR"
      },
      "source": [
        "# random seed initialize\n",
        "random_seed = 1234\n",
        "random.seed(random_seed)\n",
        "np.random.seed(random_seed)\n",
        "tf.random.set_seed(random_seed)"
      ],
      "execution_count": 4,
      "outputs": []
    },
    {
      "cell_type": "code",
      "metadata": {
        "id": "BC3fXkhdYcYt",
        "colab": {
          "base_uri": "https://localhost:8080/"
        },
        "outputId": "97bcd9eb-4ed2-47e5-f077-73e4f31735da"
      },
      "source": [
        "!nvidia-smi"
      ],
      "execution_count": 5,
      "outputs": [
        {
          "output_type": "stream",
          "text": [
            "NVIDIA-SMI has failed because it couldn't communicate with the NVIDIA driver. Make sure that the latest NVIDIA driver is installed and running.\n",
            "\n"
          ],
          "name": "stdout"
        }
      ]
    },
    {
      "cell_type": "code",
      "metadata": {
        "id": "xVRdxYReYeQj",
        "colab": {
          "base_uri": "https://localhost:8080/"
        },
        "outputId": "f0023064-e073-4572-f955-6f59211197f8"
      },
      "source": [
        "# google drive mount\n",
        "from google.colab import drive\n",
        "drive.mount('/content/drive')"
      ],
      "execution_count": 6,
      "outputs": [
        {
          "output_type": "stream",
          "text": [
            "Drive already mounted at /content/drive; to attempt to forcibly remount, call drive.mount(\"/content/drive\", force_remount=True).\n"
          ],
          "name": "stdout"
        }
      ]
    },
    {
      "cell_type": "code",
      "metadata": {
        "id": "byCIiLJBbFHh",
        "colab": {
          "base_uri": "https://localhost:8080/"
        },
        "outputId": "704957ac-a644-4093-d85a-2298f2f218f4"
      },
      "source": [
        "# data dir\n",
        "data_dir = '/content/drive/MyDrive/nlp/my_data/data'\n",
        "os.listdir(data_dir)"
      ],
      "execution_count": 7,
      "outputs": [
        {
          "output_type": "execute_result",
          "data": {
            "text/plain": [
              "['ko_32000.model', 'ko_32000.vocab', 'kowiki', 'nsmc', 'quora', 'songys']"
            ]
          },
          "metadata": {
            "tags": []
          },
          "execution_count": 7
        }
      ]
    },
    {
      "cell_type": "code",
      "metadata": {
        "id": "_Ru56YS3-SME",
        "colab": {
          "base_uri": "https://localhost:8080/"
        },
        "outputId": "82557c88-5706-4740-9f2d-55de287fbf15"
      },
      "source": [
        "# songys chatbot dir\n",
        "songys_dir = os.path.join(data_dir, 'songys')\n",
        "if not os.path.exists(songys_dir):\n",
        "    os.makedirs(songys_dir)\n",
        "os.listdir(songys_dir)"
      ],
      "execution_count": 8,
      "outputs": [
        {
          "output_type": "execute_result",
          "data": {
            "text/plain": [
              "['ChatbotData.csv', 'lstm.csv', 'lstm.hdf5']"
            ]
          },
          "metadata": {
            "tags": []
          },
          "execution_count": 8
        }
      ]
    },
    {
      "cell_type": "markdown",
      "metadata": {
        "id": "3myBX8hNEH1u"
      },
      "source": [
        "# 모델링"
      ]
    },
    {
      "cell_type": "code",
      "metadata": {
        "id": "c8EOlZ9uJaLU"
      },
      "source": [
        "# 입력 문장\n",
        "sentences = [\n",
        "    ['나는 오늘 기분이 좋아', '네가 기분이 좋으니 나도 좋아'],\n",
        "    ['나는 오늘 행복해', '나도 행복하다'],\n",
        "]"
      ],
      "execution_count": 9,
      "outputs": []
    },
    {
      "cell_type": "code",
      "metadata": {
        "id": "jVkMjq_oJ_79",
        "colab": {
          "base_uri": "https://localhost:8080/"
        },
        "outputId": "cce54dfb-2801-4695-85f3-cd6b568a9937"
      },
      "source": [
        "# 각 문장을 띄어쓰기 단위로 분할\n",
        "words = []\n",
        "for pair in sentences:\n",
        "    for sentence in pair:\n",
        "        words.extend(sentence.split())\n",
        "\n",
        "# 중복 단어 제거\n",
        "words = list(dict.fromkeys(words))\n",
        "\n",
        "# 각 단어별 고유한 번호 부여\n",
        "word_to_id = {'[PAD]': 0, '[UNK]': 1, '[BOS]': 2, '[EOS]': 3}\n",
        "for word in words:\n",
        "    word_to_id[word] = len(word_to_id)\n",
        "\n",
        "# 각 숫자별 단어 부여\n",
        "id_to_word = {_id:word for word, _id in word_to_id.items()}\n",
        "\n",
        "word_to_id, id_to_word"
      ],
      "execution_count": 10,
      "outputs": [
        {
          "output_type": "execute_result",
          "data": {
            "text/plain": [
              "({'[BOS]': 2,\n",
              "  '[EOS]': 3,\n",
              "  '[PAD]': 0,\n",
              "  '[UNK]': 1,\n",
              "  '기분이': 6,\n",
              "  '나는': 4,\n",
              "  '나도': 10,\n",
              "  '네가': 8,\n",
              "  '오늘': 5,\n",
              "  '좋아': 7,\n",
              "  '좋으니': 9,\n",
              "  '행복하다': 12,\n",
              "  '행복해': 11},\n",
              " {0: '[PAD]',\n",
              "  1: '[UNK]',\n",
              "  2: '[BOS]',\n",
              "  3: '[EOS]',\n",
              "  4: '나는',\n",
              "  5: '오늘',\n",
              "  6: '기분이',\n",
              "  7: '좋아',\n",
              "  8: '네가',\n",
              "  9: '좋으니',\n",
              "  10: '나도',\n",
              "  11: '행복해',\n",
              "  12: '행복하다'})"
            ]
          },
          "metadata": {
            "tags": []
          },
          "execution_count": 10
        }
      ]
    },
    {
      "cell_type": "code",
      "metadata": {
        "id": "15sKGqq9cLdE",
        "colab": {
          "base_uri": "https://localhost:8080/"
        },
        "outputId": "37ba5d00-736b-4990-b02b-61ac97612e30"
      },
      "source": [
        "# Question과 Answer를 숫자료\n",
        "question_list, answer_list = [], []\n",
        "\n",
        "for pair in sentences:\n",
        "  question_list.append([word_to_id[word] for word in pair[0].split()])\n",
        "  answer_list.append([word_to_id[word] for word in pair[1].split()])\n",
        "\n",
        "question_list, answer_list"
      ],
      "execution_count": 11,
      "outputs": [
        {
          "output_type": "execute_result",
          "data": {
            "text/plain": [
              "([[4, 5, 6, 7], [4, 5, 11]], [[8, 6, 9, 10, 7], [10, 12]])"
            ]
          },
          "metadata": {
            "tags": []
          },
          "execution_count": 11
        }
      ]
    },
    {
      "cell_type": "code",
      "metadata": {
        "id": "qX4UVcbCcqPf",
        "colab": {
          "base_uri": "https://localhost:8080/"
        },
        "outputId": "44221542-4504-4509-dace-8a6e5975fa48"
      },
      "source": [
        "# 학습용 입력 데이터 생성\n",
        "train_enc_inputs, train_dec_inputs, train_labels = [], [], []\n",
        "\n",
        "for question, answer in zip(question_list, answer_list):\n",
        "  train_enc_inputs.append(question)\n",
        "  train_dec_inputs.append([word_to_id['[BOS]']] + answer)\n",
        "  train_labels.append(answer + [word_to_id['[BOS]']])\n",
        "train_enc_inputs, train_dec_inputs, train_labels"
      ],
      "execution_count": 12,
      "outputs": [
        {
          "output_type": "execute_result",
          "data": {
            "text/plain": [
              "([[4, 5, 6, 7], [4, 5, 11]],\n",
              " [[2, 8, 6, 9, 10, 7], [2, 10, 12]],\n",
              " [[8, 6, 9, 10, 7, 2], [10, 12, 2]])"
            ]
          },
          "metadata": {
            "tags": []
          },
          "execution_count": 12
        }
      ]
    },
    {
      "cell_type": "code",
      "metadata": {
        "id": "l_z25RmNdAcm",
        "colab": {
          "base_uri": "https://localhost:8080/"
        },
        "outputId": "a44fb9e9-750e-4f29-bfbf-1dc05f665c92"
      },
      "source": [
        "# Encoder 입력의 길이를 모두 동일하게 변경 (최대길이 4)\n",
        "for row in train_enc_inputs:\n",
        "  row += [0] * (4 - len(row))\n",
        "\n",
        "# Decoder 입력의 길이를 모두 동일하게 변경 (최대길이 6)\n",
        "for row in train_dec_inputs:\n",
        "  row += [0] * (6 - len(row))\n",
        "\n",
        "# 정답의 길이를 모두 동일하게 변경 (최대길이 6)\n",
        "for row in train_labels:\n",
        "  row += [0] * (6 - len(row))\n",
        "\n",
        "train_enc_inputs, train_dec_inputs, train_labels"
      ],
      "execution_count": 13,
      "outputs": [
        {
          "output_type": "execute_result",
          "data": {
            "text/plain": [
              "([[4, 5, 6, 7], [4, 5, 11, 0]],\n",
              " [[2, 8, 6, 9, 10, 7], [2, 10, 12, 0, 0, 0]],\n",
              " [[8, 6, 9, 10, 7, 2], [10, 12, 2, 0, 0, 0]])"
            ]
          },
          "metadata": {
            "tags": []
          },
          "execution_count": 13
        }
      ]
    },
    {
      "cell_type": "code",
      "metadata": {
        "id": "ACH2lRb7KPkm",
        "colab": {
          "base_uri": "https://localhost:8080/"
        },
        "outputId": "0615d63d-3b54-4be2-f301-1f67c558c89f"
      },
      "source": [
        "# numpy array로 변환/\n",
        "train_enc_inputs = np.array(train_enc_inputs)\n",
        "train_dec_inputs = np.array(train_dec_inputs)\n",
        "train_labels = np.array(train_labels)\n",
        "\n",
        "train_enc_inputs, train_dec_inputs, train_labels"
      ],
      "execution_count": 14,
      "outputs": [
        {
          "output_type": "execute_result",
          "data": {
            "text/plain": [
              "(array([[ 4,  5,  6,  7],\n",
              "        [ 4,  5, 11,  0]]), array([[ 2,  8,  6,  9, 10,  7],\n",
              "        [ 2, 10, 12,  0,  0,  0]]), array([[ 8,  6,  9, 10,  7,  2],\n",
              "        [10, 12,  2,  0,  0,  0]]))"
            ]
          },
          "metadata": {
            "tags": []
          },
          "execution_count": 14
        }
      ]
    },
    {
      "cell_type": "code",
      "metadata": {
        "id": "u3qs4Y0EGVz8",
        "colab": {
          "base_uri": "https://localhost:8080/"
        },
        "outputId": "b121b82d-a03a-47e9-f485-266d7d77d27f"
      },
      "source": [
        "# embedding 생성\n",
        "embedding = tf.keras.layers.Embedding(len(id_to_word), 3)\n",
        "\n",
        "# word embedding\n",
        "hidden_enc = embedding(train_enc_inputs)  # (bs, n_enc_seq, 5)\n",
        "hidden_dec = embedding(train_dec_inputs)  # (bs, n_dec_seq, 5)\n",
        "\n",
        "hidden_enc.shape, hidden_dec.shape"
      ],
      "execution_count": 15,
      "outputs": [
        {
          "output_type": "execute_result",
          "data": {
            "text/plain": [
              "(TensorShape([2, 4, 3]), TensorShape([2, 6, 3]))"
            ]
          },
          "metadata": {
            "tags": []
          },
          "execution_count": 15
        }
      ]
    },
    {
      "cell_type": "code",
      "metadata": {
        "id": "Cd3Gs-VAGhyq",
        "colab": {
          "base_uri": "https://localhost:8080/"
        },
        "outputId": "630f4cec-db28-41ce-a0cf-00cc794d36ea"
      },
      "source": [
        "# Encoder LSTM (uni-direction, bi-direction 가능)\r\n",
        "fw_cell = tf.keras.layers.LSTM(units=4, return_state=True)\r\n",
        "bw_cell = tf.keras.layers.LSTM(units=4, go_backwards=True, return_state=True)\r\n",
        "\r\n",
        "lstm_enc = tf.keras.layers.Bidirectional(fw_cell, backward_layer=bw_cell)\r\n",
        "hidden_enc, fw_h, fw_c, bw_h, bw_c = lstm_enc(hidden_enc)\r\n",
        "\r\n",
        "hidden_enc.shape, fw_h.shape, fw_c.shape, bw_h.shape, bw_c.shape"
      ],
      "execution_count": 16,
      "outputs": [
        {
          "output_type": "execute_result",
          "data": {
            "text/plain": [
              "(TensorShape([2, 8]),\n",
              " TensorShape([2, 4]),\n",
              " TensorShape([2, 4]),\n",
              " TensorShape([2, 4]),\n",
              " TensorShape([2, 4]))"
            ]
          },
          "metadata": {
            "tags": []
          },
          "execution_count": 16
        }
      ]
    },
    {
      "cell_type": "code",
      "metadata": {
        "id": "N6hKQ0rtjwLN",
        "colab": {
          "base_uri": "https://localhost:8080/"
        },
        "outputId": "56dfcc51-d491-4641-8ca7-71e0998d7ce2"
      },
      "source": [
        "# Concat hidden and cell state\r\n",
        "s_h = K.concatenate([fw_h, bw_h], axis = -1)\r\n",
        "s_c = K.concatenate([fw_c, bw_c], axis = -1)\r\n",
        "s_h.shape, s_c.shape"
      ],
      "execution_count": 17,
      "outputs": [
        {
          "output_type": "execute_result",
          "data": {
            "text/plain": [
              "(TensorShape([2, 8]), TensorShape([2, 8]))"
            ]
          },
          "metadata": {
            "tags": []
          },
          "execution_count": 17
        }
      ]
    },
    {
      "cell_type": "code",
      "metadata": {
        "id": "L47UgZ04J80U",
        "colab": {
          "base_uri": "https://localhost:8080/"
        },
        "outputId": "83be841a-a380-4839-9457-35c22d56756e"
      },
      "source": [
        "# Decoder LSTM (uni-direction만 가능)\r\n",
        "lstm_dec = tf.keras.layers.LSTM(units=8, return_sequences=True)\r\n",
        "hidden_dec = lstm_dec(hidden_dec, initial_state=[s_h, s_c])\r\n",
        "hidden_dec.shape"
      ],
      "execution_count": 18,
      "outputs": [
        {
          "output_type": "execute_result",
          "data": {
            "text/plain": [
              "TensorShape([2, 6, 8])"
            ]
          },
          "metadata": {
            "tags": []
          },
          "execution_count": 18
        }
      ]
    },
    {
      "cell_type": "code",
      "metadata": {
        "id": "Svm6u8oVG9Ue",
        "colab": {
          "base_uri": "https://localhost:8080/"
        },
        "outputId": "8517b24b-5774-4d82-e9fa-b71cd3f62f21"
      },
      "source": [
        "# Decoder 입력의 다음단어 예측\r\n",
        "dense_out = tf.keras.layers.Dense(units = len(id_to_word), activation=tf.nn.softmax)\r\n",
        "outputs = dense_out(hidden_dec)\r\n",
        "outputs.shape"
      ],
      "execution_count": 19,
      "outputs": [
        {
          "output_type": "execute_result",
          "data": {
            "text/plain": [
              "TensorShape([2, 6, 13])"
            ]
          },
          "metadata": {
            "tags": []
          },
          "execution_count": 19
        }
      ]
    },
    {
      "cell_type": "code",
      "metadata": {
        "id": "SobekkcjEX_P"
      },
      "source": [
        "def build_model(n_vocab, d_model, n_enc_seq, n_dec_seq):\n",
        "    \"\"\"\n",
        "    seq2seq 모델\n",
        "    :param n_vocab: vocabulary 단어 수\n",
        "    :param d_model: 단어를 의미하는 벡터의 차원 수\n",
        "    :param n_enc_seq: encoder 문장 길이 (단어 수)\n",
        "    :param n_dec_seq: decoder 문장 길이 (단어 수)\n",
        "    \"\"\"\n",
        "    inputs_enc = tf.keras.layers.Input((n_enc_seq,))  # (bs, n_enc_seq)\n",
        "    inputs_dec = tf.keras.layers.Input((n_dec_seq,))  # (bs, n_dec_seq)\n",
        "    ################################################\n",
        "    # 입력 단어를 vector로 변환\n",
        "    embedding = tf.keras.layers.Embedding(n_vocab, d_model)\n",
        "    hidden_enc = embedding(inputs_enc)  # (bs, n_enc_seq, d_model)\n",
        "    hidden_dec = embedding(inputs_dec)  # (bs, n_dec_seq, d_model)\n",
        "\n",
        "    # Encoder LSTM (uni-direction, bi-direction 가능)\n",
        "    fw_cell = tf.keras.layers.LSTM(units=d_model, return_state=True)\n",
        "    bw_cell = tf.keras.layers.LSTM(units=d_model, go_backwards=True, return_state=True)\n",
        "    lstm_enc = tf.keras.layers.Bidirectional(fw_cell, backward_layer=bw_cell)\n",
        "    hidden_enc, fw_h, fw_c, bw_h, bw_c = lstm_enc(hidden_enc)  # (bs, d_model * 2), (bs, d_model), (bs, d_model), (bs, d_model), (bs, d_model)\n",
        "\n",
        "    # Concatenate hidden states and cell states\n",
        "    s_h = K.concatenate([fw_h, bw_h], axis=-1)  # (bs, d_model * 2)\n",
        "    s_c = K.concatenate([fw_c, bw_c], axis=-1)  # (bs, d_model * 2)\n",
        "\n",
        "    # Decoder LSTM (uni-direction만 가능)\n",
        "    lstm_dec = tf.keras.layers.LSTM(units=d_model * 2, return_sequences=True)\n",
        "    hidden_dec = lstm_dec(hidden_dec, initial_state=[s_h, s_c])  # (bs, n_dec_seq, d_model)\n",
        "    \n",
        "    # 다음단어 예측\n",
        "    dense_out = tf.keras.layers.Dense(units=n_vocab, activation=tf.nn.softmax)\n",
        "    outputs = dense_out(hidden_dec)  # (bs, n_dec_seq, n_vocab)\n",
        "    ################################################\n",
        "    # 학습할 모델 선언\n",
        "    model = tf.keras.Model(inputs=(inputs_enc, inputs_dec), outputs=outputs)\n",
        "    return model"
      ],
      "execution_count": 20,
      "outputs": []
    },
    {
      "cell_type": "code",
      "metadata": {
        "id": "72cRi9zUEeqG",
        "colab": {
          "base_uri": "https://localhost:8080/",
          "height": 0
        },
        "outputId": "586890f0-3678-4e65-fa5e-1e668fe0eefb"
      },
      "source": [
        "# 모델 생성\n",
        "model = build_model(len(id_to_word), 5, 4, 6)\n",
        "# 모델 내용 그래프 출력\n",
        "tf.keras.utils.plot_model(model, 'model.png', show_shapes=True)"
      ],
      "execution_count": 21,
      "outputs": [
        {
          "output_type": "execute_result",
          "data": {
            "image/png": "[encoded data removed]",
            "text/plain": [
              "<IPython.core.display.Image object>"
            ]
          },
          "metadata": {
            "tags": []
          },
          "execution_count": 21
        }
      ]
    },
    {
      "cell_type": "markdown",
      "metadata": {
        "id": "fsRvlzDzSX9e"
      },
      "source": [
        "# 다운로드\n",
        "- https://github.com/songys/Chatbot_data"
      ]
    },
    {
      "cell_type": "code",
      "metadata": {
        "id": "BEBQj0AFSXOH",
        "colab": {
          "base_uri": "https://localhost:8080/"
        },
        "outputId": "1e703364-d79e-4aa7-8aed-2b5affa43251"
      },
      "source": [
        "# 파일 다운로드 및 목록 확인\n",
        "!wget https://github.com/songys/Chatbot_data/raw/master/ChatbotData%20.csv\n",
        "os.listdir('./')"
      ],
      "execution_count": 22,
      "outputs": [
        {
          "output_type": "stream",
          "text": [
            "--2021-02-04 02:57:14--  https://github.com/songys/Chatbot_data/raw/master/ChatbotData%20.csv\n",
            "Resolving github.com (github.com)... 192.30.255.112\n",
            "Connecting to github.com (github.com)|192.30.255.112|:443... connected.\n",
            "HTTP request sent, awaiting response... 302 Found\n",
            "Location: https://raw.githubusercontent.com/songys/Chatbot_data/master/ChatbotData%20.csv [following]\n",
            "--2021-02-04 02:57:14--  https://raw.githubusercontent.com/songys/Chatbot_data/master/ChatbotData%20.csv\n",
            "Resolving raw.githubusercontent.com (raw.githubusercontent.com)... 151.101.0.133, 151.101.64.133, 151.101.128.133, ...\n",
            "Connecting to raw.githubusercontent.com (raw.githubusercontent.com)|151.101.0.133|:443... connected.\n",
            "HTTP request sent, awaiting response... 200 OK\n",
            "Length: 889842 (869K) [text/plain]\n",
            "Saving to: ‘ChatbotData .csv’\n",
            "\n",
            "ChatbotData .csv    100%[===================>] 868.99K  --.-KB/s    in 0.03s   \n",
            "\n",
            "2021-02-04 02:57:15 (24.8 MB/s) - ‘ChatbotData .csv’ saved [889842/889842]\n",
            "\n"
          ],
          "name": "stdout"
        },
        {
          "output_type": "execute_result",
          "data": {
            "text/plain": [
              "['.config', 'model.png', 'drive', 'ChatbotData .csv', 'sample_data']"
            ]
          },
          "metadata": {
            "tags": []
          },
          "execution_count": 22
        }
      ]
    },
    {
      "cell_type": "code",
      "metadata": {
        "id": "_L3k4qr5SaVb",
        "colab": {
          "base_uri": "https://localhost:8080/"
        },
        "outputId": "eb5bc33f-24ae-47c5-9583-f828508f9992"
      },
      "source": [
        "# 파일명 변경 및 목록 확인\n",
        "!mv 'ChatbotData .csv' ChatbotData.csv\n",
        "os.listdir('./')"
      ],
      "execution_count": 23,
      "outputs": [
        {
          "output_type": "execute_result",
          "data": {
            "text/plain": [
              "['.config', 'model.png', 'drive', 'ChatbotData.csv', 'sample_data']"
            ]
          },
          "metadata": {
            "tags": []
          },
          "execution_count": 23
        }
      ]
    },
    {
      "cell_type": "code",
      "metadata": {
        "id": "9aO9qpNNbQcc",
        "colab": {
          "base_uri": "https://localhost:8080/"
        },
        "outputId": "1ad9e219-b726-4404-9312-9427c2136ddc"
      },
      "source": [
        "# 파일 이동\n",
        "shutil.move('ChatbotData.csv', os.path.join(songys_dir, 'ChatbotData.csv'))\n",
        "os.listdir(songys_dir)"
      ],
      "execution_count": 24,
      "outputs": [
        {
          "output_type": "execute_result",
          "data": {
            "text/plain": [
              "['ChatbotData.csv', 'lstm.csv', 'lstm.hdf5']"
            ]
          },
          "metadata": {
            "tags": []
          },
          "execution_count": 24
        }
      ]
    },
    {
      "cell_type": "markdown",
      "metadata": {
        "id": "XwriCkq_R1Lc"
      },
      "source": [
        "# Vocabulary & config"
      ]
    },
    {
      "cell_type": "code",
      "metadata": {
        "id": "2H0BLydCb7lg",
        "colab": {
          "base_uri": "https://localhost:8080/"
        },
        "outputId": "6a5365bf-af09-4e2c-b06c-56fa3332a1ef"
      },
      "source": [
        "# vocab loading\n",
        "vocab = spm.SentencePieceProcessor()\n",
        "vocab.load(os.path.join(data_dir, 'ko_32000.model'))"
      ],
      "execution_count": 25,
      "outputs": [
        {
          "output_type": "execute_result",
          "data": {
            "text/plain": [
              "True"
            ]
          },
          "metadata": {
            "tags": []
          },
          "execution_count": 25
        }
      ]
    },
    {
      "cell_type": "code",
      "metadata": {
        "id": "0ETZ19flTRmt"
      },
      "source": [
        "n_vocab = len(vocab)  # number of vocabulary\n",
        "n_enc_seq = 32  # number of sequence 1\n",
        "n_dec_seq = 40  # number of sequence 2\n",
        "d_model = 256  # dimension of model"
      ],
      "execution_count": 26,
      "outputs": []
    },
    {
      "cell_type": "markdown",
      "metadata": {
        "id": "MXrWvdLuhVIu"
      },
      "source": [
        "# 데이터 분석"
      ]
    },
    {
      "cell_type": "code",
      "metadata": {
        "id": "MhP07wT3hXoN",
        "colab": {
          "base_uri": "https://localhost:8080/",
          "height": 418
        },
        "outputId": "00930cfd-245e-40bd-af2f-08b4ca1ba04e"
      },
      "source": [
        "# train data load\n",
        "df_train = pd.read_csv(os.path.join(songys_dir, 'ChatbotData.csv'), delimiter=',')\n",
        "df_train"
      ],
      "execution_count": 27,
      "outputs": [
        {
          "output_type": "execute_result",
          "data": {
            "text/html": [
              "<div>\n",
              "<style scoped>\n",
              "    .dataframe tbody tr th:only-of-type {\n",
              "        vertical-align: middle;\n",
              "    }\n",
              "\n",
              "    .dataframe tbody tr th {\n",
              "        vertical-align: top;\n",
              "    }\n",
              "\n",
              "    .dataframe thead th {\n",
              "        text-align: right;\n",
              "    }\n",
              "</style>\n",
              "<table border=\"1\" class=\"dataframe\">\n",
              "  <thead>\n",
              "    <tr style=\"text-align: right;\">\n",
              "      <th></th>\n",
              "      <th>Q</th>\n",
              "      <th>A</th>\n",
              "      <th>label</th>\n",
              "    </tr>\n",
              "  </thead>\n",
              "  <tbody>\n",
              "    <tr>\n",
              "      <th>0</th>\n",
              "      <td>12시 땡!</td>\n",
              "      <td>하루가 또 가네요.</td>\n",
              "      <td>0</td>\n",
              "    </tr>\n",
              "    <tr>\n",
              "      <th>1</th>\n",
              "      <td>1지망 학교 떨어졌어</td>\n",
              "      <td>위로해 드립니다.</td>\n",
              "      <td>0</td>\n",
              "    </tr>\n",
              "    <tr>\n",
              "      <th>2</th>\n",
              "      <td>3박4일 놀러가고 싶다</td>\n",
              "      <td>여행은 언제나 좋죠.</td>\n",
              "      <td>0</td>\n",
              "    </tr>\n",
              "    <tr>\n",
              "      <th>3</th>\n",
              "      <td>3박4일 정도 놀러가고 싶다</td>\n",
              "      <td>여행은 언제나 좋죠.</td>\n",
              "      <td>0</td>\n",
              "    </tr>\n",
              "    <tr>\n",
              "      <th>4</th>\n",
              "      <td>PPL 심하네</td>\n",
              "      <td>눈살이 찌푸려지죠.</td>\n",
              "      <td>0</td>\n",
              "    </tr>\n",
              "    <tr>\n",
              "      <th>...</th>\n",
              "      <td>...</td>\n",
              "      <td>...</td>\n",
              "      <td>...</td>\n",
              "    </tr>\n",
              "    <tr>\n",
              "      <th>11818</th>\n",
              "      <td>훔쳐보는 것도 눈치 보임.</td>\n",
              "      <td>티가 나니까 눈치가 보이는 거죠!</td>\n",
              "      <td>2</td>\n",
              "    </tr>\n",
              "    <tr>\n",
              "      <th>11819</th>\n",
              "      <td>훔쳐보는 것도 눈치 보임.</td>\n",
              "      <td>훔쳐보는 거 티나나봐요.</td>\n",
              "      <td>2</td>\n",
              "    </tr>\n",
              "    <tr>\n",
              "      <th>11820</th>\n",
              "      <td>흑기사 해주는 짝남.</td>\n",
              "      <td>설렜겠어요.</td>\n",
              "      <td>2</td>\n",
              "    </tr>\n",
              "    <tr>\n",
              "      <th>11821</th>\n",
              "      <td>힘든 연애 좋은 연애라는게 무슨 차이일까?</td>\n",
              "      <td>잘 헤어질 수 있는 사이 여부인 거 같아요.</td>\n",
              "      <td>2</td>\n",
              "    </tr>\n",
              "    <tr>\n",
              "      <th>11822</th>\n",
              "      <td>힘들어서 결혼할까봐</td>\n",
              "      <td>도피성 결혼은 하지 않길 바라요.</td>\n",
              "      <td>2</td>\n",
              "    </tr>\n",
              "  </tbody>\n",
              "</table>\n",
              "<p>11823 rows × 3 columns</p>\n",
              "</div>"
            ],
            "text/plain": [
              "                             Q                         A  label\n",
              "0                       12시 땡!                하루가 또 가네요.      0\n",
              "1                  1지망 학교 떨어졌어                 위로해 드립니다.      0\n",
              "2                 3박4일 놀러가고 싶다               여행은 언제나 좋죠.      0\n",
              "3              3박4일 정도 놀러가고 싶다               여행은 언제나 좋죠.      0\n",
              "4                      PPL 심하네                눈살이 찌푸려지죠.      0\n",
              "...                        ...                       ...    ...\n",
              "11818           훔쳐보는 것도 눈치 보임.        티가 나니까 눈치가 보이는 거죠!      2\n",
              "11819           훔쳐보는 것도 눈치 보임.             훔쳐보는 거 티나나봐요.      2\n",
              "11820              흑기사 해주는 짝남.                    설렜겠어요.      2\n",
              "11821  힘든 연애 좋은 연애라는게 무슨 차이일까?  잘 헤어질 수 있는 사이 여부인 거 같아요.      2\n",
              "11822               힘들어서 결혼할까봐        도피성 결혼은 하지 않길 바라요.      2\n",
              "\n",
              "[11823 rows x 3 columns]"
            ]
          },
          "metadata": {
            "tags": []
          },
          "execution_count": 27
        }
      ]
    },
    {
      "cell_type": "code",
      "metadata": {
        "id": "f0aL5Ve6iVbk",
        "colab": {
          "base_uri": "https://localhost:8080/",
          "height": 418
        },
        "outputId": "55d8f426-d064-48a5-a0fd-d991de07250a"
      },
      "source": [
        "# train null 데이터 제거\n",
        "df_train = df_train.dropna()\n",
        "df_train"
      ],
      "execution_count": 28,
      "outputs": [
        {
          "output_type": "execute_result",
          "data": {
            "text/html": [
              "<div>\n",
              "<style scoped>\n",
              "    .dataframe tbody tr th:only-of-type {\n",
              "        vertical-align: middle;\n",
              "    }\n",
              "\n",
              "    .dataframe tbody tr th {\n",
              "        vertical-align: top;\n",
              "    }\n",
              "\n",
              "    .dataframe thead th {\n",
              "        text-align: right;\n",
              "    }\n",
              "</style>\n",
              "<table border=\"1\" class=\"dataframe\">\n",
              "  <thead>\n",
              "    <tr style=\"text-align: right;\">\n",
              "      <th></th>\n",
              "      <th>Q</th>\n",
              "      <th>A</th>\n",
              "      <th>label</th>\n",
              "    </tr>\n",
              "  </thead>\n",
              "  <tbody>\n",
              "    <tr>\n",
              "      <th>0</th>\n",
              "      <td>12시 땡!</td>\n",
              "      <td>하루가 또 가네요.</td>\n",
              "      <td>0</td>\n",
              "    </tr>\n",
              "    <tr>\n",
              "      <th>1</th>\n",
              "      <td>1지망 학교 떨어졌어</td>\n",
              "      <td>위로해 드립니다.</td>\n",
              "      <td>0</td>\n",
              "    </tr>\n",
              "    <tr>\n",
              "      <th>2</th>\n",
              "      <td>3박4일 놀러가고 싶다</td>\n",
              "      <td>여행은 언제나 좋죠.</td>\n",
              "      <td>0</td>\n",
              "    </tr>\n",
              "    <tr>\n",
              "      <th>3</th>\n",
              "      <td>3박4일 정도 놀러가고 싶다</td>\n",
              "      <td>여행은 언제나 좋죠.</td>\n",
              "      <td>0</td>\n",
              "    </tr>\n",
              "    <tr>\n",
              "      <th>4</th>\n",
              "      <td>PPL 심하네</td>\n",
              "      <td>눈살이 찌푸려지죠.</td>\n",
              "      <td>0</td>\n",
              "    </tr>\n",
              "    <tr>\n",
              "      <th>...</th>\n",
              "      <td>...</td>\n",
              "      <td>...</td>\n",
              "      <td>...</td>\n",
              "    </tr>\n",
              "    <tr>\n",
              "      <th>11818</th>\n",
              "      <td>훔쳐보는 것도 눈치 보임.</td>\n",
              "      <td>티가 나니까 눈치가 보이는 거죠!</td>\n",
              "      <td>2</td>\n",
              "    </tr>\n",
              "    <tr>\n",
              "      <th>11819</th>\n",
              "      <td>훔쳐보는 것도 눈치 보임.</td>\n",
              "      <td>훔쳐보는 거 티나나봐요.</td>\n",
              "      <td>2</td>\n",
              "    </tr>\n",
              "    <tr>\n",
              "      <th>11820</th>\n",
              "      <td>흑기사 해주는 짝남.</td>\n",
              "      <td>설렜겠어요.</td>\n",
              "      <td>2</td>\n",
              "    </tr>\n",
              "    <tr>\n",
              "      <th>11821</th>\n",
              "      <td>힘든 연애 좋은 연애라는게 무슨 차이일까?</td>\n",
              "      <td>잘 헤어질 수 있는 사이 여부인 거 같아요.</td>\n",
              "      <td>2</td>\n",
              "    </tr>\n",
              "    <tr>\n",
              "      <th>11822</th>\n",
              "      <td>힘들어서 결혼할까봐</td>\n",
              "      <td>도피성 결혼은 하지 않길 바라요.</td>\n",
              "      <td>2</td>\n",
              "    </tr>\n",
              "  </tbody>\n",
              "</table>\n",
              "<p>11823 rows × 3 columns</p>\n",
              "</div>"
            ],
            "text/plain": [
              "                             Q                         A  label\n",
              "0                       12시 땡!                하루가 또 가네요.      0\n",
              "1                  1지망 학교 떨어졌어                 위로해 드립니다.      0\n",
              "2                 3박4일 놀러가고 싶다               여행은 언제나 좋죠.      0\n",
              "3              3박4일 정도 놀러가고 싶다               여행은 언제나 좋죠.      0\n",
              "4                      PPL 심하네                눈살이 찌푸려지죠.      0\n",
              "...                        ...                       ...    ...\n",
              "11818           훔쳐보는 것도 눈치 보임.        티가 나니까 눈치가 보이는 거죠!      2\n",
              "11819           훔쳐보는 것도 눈치 보임.             훔쳐보는 거 티나나봐요.      2\n",
              "11820              흑기사 해주는 짝남.                    설렜겠어요.      2\n",
              "11821  힘든 연애 좋은 연애라는게 무슨 차이일까?  잘 헤어질 수 있는 사이 여부인 거 같아요.      2\n",
              "11822               힘들어서 결혼할까봐        도피성 결혼은 하지 않길 바라요.      2\n",
              "\n",
              "[11823 rows x 3 columns]"
            ]
          },
          "metadata": {
            "tags": []
          },
          "execution_count": 28
        }
      ]
    },
    {
      "cell_type": "markdown",
      "metadata": {
        "id": "iCtHjN1jiPBl"
      },
      "source": [
        "## Char"
      ]
    },
    {
      "cell_type": "markdown",
      "metadata": {
        "id": "8BJA69lTf6_P"
      },
      "source": [
        "### Q"
      ]
    },
    {
      "cell_type": "code",
      "metadata": {
        "id": "WHtRNTBoiOck",
        "colab": {
          "base_uri": "https://localhost:8080/"
        },
        "outputId": "bae19bd5-ef75-4417-e96d-c6a58773cb4d"
      },
      "source": [
        "# char 길이 데이터\n",
        "char_len = df_train['Q'].astype(\"str\").apply(len)\n",
        "char_len.head(10)"
      ],
      "execution_count": 29,
      "outputs": [
        {
          "output_type": "execute_result",
          "data": {
            "text/plain": [
              "0     6\n",
              "1    11\n",
              "2    12\n",
              "3    15\n",
              "4     7\n",
              "5     9\n",
              "6     7\n",
              "7    14\n",
              "8    23\n",
              "9    17\n",
              "Name: Q, dtype: int64"
            ]
          },
          "metadata": {
            "tags": []
          },
          "execution_count": 29
        }
      ]
    },
    {
      "cell_type": "code",
      "metadata": {
        "id": "1hFnO7mOikBU",
        "colab": {
          "base_uri": "https://localhost:8080/",
          "height": 0
        },
        "outputId": "3c1b5718-fbab-4370-bd86-d6cb74c0f0a1"
      },
      "source": [
        "# 그래프에 대한 이미지 사이즈 선언\n",
        "# figsize: (가로, 세로) 형태의 튜플로 입력\n",
        "plt.figure(figsize=(8, 4))\n",
        "# histogram 선언\n",
        "# bins: 히스토그램 값들에 대한 버켓 범위, \n",
        "# range: x축 값의 범위\n",
        "# facecolor: 그래프 색상\n",
        "# label: 그래프에 대한 라벨\n",
        "plt.hist(char_len, bins=60, range=[0, 60], facecolor='r', label='train')\n",
        "# 그래프 제목\n",
        "plt.title('Lengh of char')\n",
        "# 그래프 x 축 라벨\n",
        "plt.xlabel('Number of char')\n",
        "# 그래프 y 축 라벨\n",
        "plt.ylabel('Count of review')\n",
        "plt.show()"
      ],
      "execution_count": 30,
      "outputs": [
        {
          "output_type": "display_data",
          "data": {
            "image/png": "[encoded data removed]",
            "text/plain": [
              "<Figure size 576x288 with 1 Axes>"
            ]
          },
          "metadata": {
            "tags": [],
            "needs_background": "light"
          }
        }
      ]
    },
    {
      "cell_type": "code",
      "metadata": {
        "id": "sOyYWAgWipKs",
        "colab": {
          "base_uri": "https://localhost:8080/"
        },
        "outputId": "ece7a778-b04b-4a10-e336-65b67a4e5140"
      },
      "source": [
        "# 데이터 길이\n",
        "print(f\"char 길이 최대:    {np.max(char_len):4d}\")\n",
        "print(f\"char 길이 최소:    {np.min(char_len):4d}\")\n",
        "print(f\"char 길이 평균:    {np.mean(char_len):7.2f}\")\n",
        "print(f\"char 길이 표준편차: {np.std(char_len):7.2f}\")\n",
        "# https://ko.wikipedia.org/wiki/%EB%B0%B1%EB%B6%84%EC%9C%84%EC%88%98\n",
        "# 백분위수(Percentile)는 크기가 있는 값들로 이뤄진 자료를 순서대로 나열했을 때 백분율로 나타낸 특정 위치의 값을 이르는 용어이다.\n",
        "# 일반적으로 크기가 작은 것부터 나열하여 가장 작은 것을 0, 가장 큰 것을 100으로 한다.\n",
        "# 100개의 값을 가진 어떤 자료의 20 백분위수는 그 자료의 값들 중 20번째로 작은 값을 뜻한다. 50 백분위수는 중앙값과 같다.\n",
        "percentile25 = np.percentile(char_len, 25)\n",
        "percentile50 = np.percentile(char_len, 50)\n",
        "percentile75 = np.percentile(char_len, 75)\n",
        "percentileIQR = percentile75 - percentile25\n",
        "percentileMAX = percentile75 + percentileIQR * 1.5\n",
        "print(f\"char 25/100분위:  {percentile25:7.2f}\")\n",
        "print(f\"char 50/100분위:  {percentile50:7.2f}\")\n",
        "print(f\"char 75/100분위:  {percentile75:7.2f}\")\n",
        "print(f\"char IQR:        {percentileIQR:7.2f}\")\n",
        "print(f\"char MAX/100분위: {percentileMAX:7.2f}\")"
      ],
      "execution_count": 31,
      "outputs": [
        {
          "output_type": "stream",
          "text": [
            "char 길이 최대:      56\n",
            "char 길이 최소:       1\n",
            "char 길이 평균:      12.88\n",
            "char 길이 표준편차:    6.17\n",
            "char 25/100분위:     9.00\n",
            "char 50/100분위:    12.00\n",
            "char 75/100분위:    16.00\n",
            "char IQR:           7.00\n",
            "char MAX/100분위:   26.50\n"
          ],
          "name": "stdout"
        }
      ]
    },
    {
      "cell_type": "code",
      "metadata": {
        "id": "TWVI7cQNjXKZ",
        "colab": {
          "base_uri": "https://localhost:8080/",
          "height": 0
        },
        "outputId": "a55c38ff-907a-4076-db8c-4463ff4ce8c7"
      },
      "source": [
        "plt.figure(figsize=(4, 6))\n",
        "# 박스플롯 생성\n",
        "# 첫번째 파라메터: 여러 분포에 대한 데이터 리스트를\n",
        "# labels: 입력한 데이터에 대한 라벨\n",
        "# showmeans: 평균값을 표현\n",
        "# 참고: https://leebaro.tistory.com/entry/%EB%B0%95%EC%8A%A4-%ED%94%8C%EB%A1%AFbox-plot-%EC%84%A4%EB%AA%85\n",
        "plt.boxplot(char_len, labels=['char counts'], showmeans=True)\n",
        "plt.show()"
      ],
      "execution_count": 32,
      "outputs": [
        {
          "output_type": "display_data",
          "data": {
            "image/png": "[encoded data removed]",
            "text/plain": [
              "<Figure size 288x432 with 1 Axes>"
            ]
          },
          "metadata": {
            "tags": [],
            "needs_background": "light"
          }
        }
      ]
    },
    {
      "cell_type": "markdown",
      "metadata": {
        "id": "vuf2hfnmgPtJ"
      },
      "source": [
        "### A"
      ]
    },
    {
      "cell_type": "code",
      "metadata": {
        "id": "3KpYJ-pogPtK",
        "colab": {
          "base_uri": "https://localhost:8080/"
        },
        "outputId": "5e8c2602-dc9c-4768-a8bd-a3630c0d6495"
      },
      "source": [
        "# char 길이 데이터\n",
        "char_len = df_train['A'].astype(\"str\").apply(len)\n",
        "char_len.head(10)"
      ],
      "execution_count": 33,
      "outputs": [
        {
          "output_type": "execute_result",
          "data": {
            "text/plain": [
              "0    10\n",
              "1     9\n",
              "2    11\n",
              "3    11\n",
              "4    10\n",
              "5    18\n",
              "6    18\n",
              "7    16\n",
              "8    13\n",
              "9    13\n",
              "Name: A, dtype: int64"
            ]
          },
          "metadata": {
            "tags": []
          },
          "execution_count": 33
        }
      ]
    },
    {
      "cell_type": "code",
      "metadata": {
        "id": "bxB0kK6ZgPtK",
        "colab": {
          "base_uri": "https://localhost:8080/",
          "height": 0
        },
        "outputId": "f96cad54-0115-404f-89f8-513adbd86148"
      },
      "source": [
        "# 그래프에 대한 이미지 사이즈 선언\n",
        "# figsize: (가로, 세로) 형태의 튜플로 입력\n",
        "plt.figure(figsize=(8, 4))\n",
        "# histogram 선언\n",
        "# bins: 히스토그램 값들에 대한 버켓 범위, \n",
        "# range: x축 값의 범위\n",
        "# facecolor: 그래프 색상\n",
        "# label: 그래프에 대한 라벨\n",
        "plt.hist(char_len, bins=80, range=[0, 80], facecolor='r', label='train')\n",
        "# 그래프 제목\n",
        "plt.title('Lengh of char')\n",
        "# 그래프 x 축 라벨\n",
        "plt.xlabel('Number of char')\n",
        "# 그래프 y 축 라벨\n",
        "plt.ylabel('Count of review')\n",
        "plt.show()"
      ],
      "execution_count": 34,
      "outputs": [
        {
          "output_type": "display_data",
          "data": {
            "image/png": "[encoded data removed]",
            "text/plain": [
              "<Figure size 576x288 with 1 Axes>"
            ]
          },
          "metadata": {
            "tags": [],
            "needs_background": "light"
          }
        }
      ]
    },
    {
      "cell_type": "code",
      "metadata": {
        "id": "csmytKFngPtL",
        "colab": {
          "base_uri": "https://localhost:8080/"
        },
        "outputId": "c37802b2-4b00-46e7-cc86-86f8f987eaca"
      },
      "source": [
        "# 데이터 길이\n",
        "print(f\"char 길이 최대:    {np.max(char_len):4d}\")\n",
        "print(f\"char 길이 최소:    {np.min(char_len):4d}\")\n",
        "print(f\"char 길이 평균:    {np.mean(char_len):7.2f}\")\n",
        "print(f\"char 길이 표준편차: {np.std(char_len):7.2f}\")\n",
        "# https://ko.wikipedia.org/wiki/%EB%B0%B1%EB%B6%84%EC%9C%84%EC%88%98\n",
        "# 백분위수(Percentile)는 크기가 있는 값들로 이뤄진 자료를 순서대로 나열했을 때 백분율로 나타낸 특정 위치의 값을 이르는 용어이다.\n",
        "# 일반적으로 크기가 작은 것부터 나열하여 가장 작은 것을 0, 가장 큰 것을 100으로 한다.\n",
        "# 100개의 값을 가진 어떤 자료의 20 백분위수는 그 자료의 값들 중 20번째로 작은 값을 뜻한다. 50 백분위수는 중앙값과 같다.\n",
        "percentile25 = np.percentile(char_len, 25)\n",
        "percentile50 = np.percentile(char_len, 50)\n",
        "percentile75 = np.percentile(char_len, 75)\n",
        "percentileIQR = percentile75 - percentile25\n",
        "percentileMAX = percentile75 + percentileIQR * 1.5\n",
        "print(f\"char 25/100분위:  {percentile25:7.2f}\")\n",
        "print(f\"char 50/100분위:  {percentile50:7.2f}\")\n",
        "print(f\"char 75/100분위:  {percentile75:7.2f}\")\n",
        "print(f\"char IQR:        {percentileIQR:7.2f}\")\n",
        "print(f\"char MAX/100분위: {percentileMAX:7.2f}\")"
      ],
      "execution_count": 35,
      "outputs": [
        {
          "output_type": "stream",
          "text": [
            "char 길이 최대:      76\n",
            "char 길이 최소:       1\n",
            "char 길이 평균:      15.02\n",
            "char 길이 표준편차:    6.70\n",
            "char 25/100분위:    10.00\n",
            "char 50/100분위:    14.00\n",
            "char 75/100분위:    18.00\n",
            "char IQR:           8.00\n",
            "char MAX/100분위:   30.00\n"
          ],
          "name": "stdout"
        }
      ]
    },
    {
      "cell_type": "code",
      "metadata": {
        "id": "J-l0t3u1gPtL",
        "colab": {
          "base_uri": "https://localhost:8080/",
          "height": 0
        },
        "outputId": "60665e70-7932-41d8-a7a8-4ec342e7abd9"
      },
      "source": [
        "plt.figure(figsize=(4, 6))\n",
        "# 박스플롯 생성\n",
        "# 첫번째 파라메터: 여러 분포에 대한 데이터 리스트를\n",
        "# labels: 입력한 데이터에 대한 라벨\n",
        "# showmeans: 평균값을 표현\n",
        "# 참고: https://leebaro.tistory.com/entry/%EB%B0%95%EC%8A%A4-%ED%94%8C%EB%A1%AFbox-plot-%EC%84%A4%EB%AA%85\n",
        "plt.boxplot(char_len, labels=['char counts'], showmeans=True)\n",
        "plt.show()"
      ],
      "execution_count": 36,
      "outputs": [
        {
          "output_type": "display_data",
          "data": {
            "image/png": "[encoded data removed]",
            "text/plain": [
              "<Figure size 288x432 with 1 Axes>"
            ]
          },
          "metadata": {
            "tags": [],
            "needs_background": "light"
          }
        }
      ]
    },
    {
      "cell_type": "markdown",
      "metadata": {
        "id": "z5vUjpBDjvwM"
      },
      "source": [
        "## Word"
      ]
    },
    {
      "cell_type": "markdown",
      "metadata": {
        "id": "0wOb77mrgo2j"
      },
      "source": [
        "### Q"
      ]
    },
    {
      "cell_type": "code",
      "metadata": {
        "id": "6H_Rp3N5jvwX",
        "colab": {
          "base_uri": "https://localhost:8080/"
        },
        "outputId": "5ee9de8d-b6be-4adb-8495-3c56a88dec06"
      },
      "source": [
        "# word 길이 데이터\n",
        "word_len = df_train['Q'].astype(str).apply(lambda x:len(x.split(' ')))\n",
        "word_len.head(10)"
      ],
      "execution_count": 37,
      "outputs": [
        {
          "output_type": "execute_result",
          "data": {
            "text/plain": [
              "0    2\n",
              "1    3\n",
              "2    3\n",
              "3    4\n",
              "4    2\n",
              "5    2\n",
              "6    2\n",
              "7    4\n",
              "8    7\n",
              "9    4\n",
              "Name: Q, dtype: int64"
            ]
          },
          "metadata": {
            "tags": []
          },
          "execution_count": 37
        }
      ]
    },
    {
      "cell_type": "code",
      "metadata": {
        "id": "P26X6GHQjvwY",
        "colab": {
          "base_uri": "https://localhost:8080/",
          "height": 295
        },
        "outputId": "7d96fdfc-b64a-4d4c-dad4-828f83837b7a"
      },
      "source": [
        "# 그래프에 대한 이미지 사이즈 선언\n",
        "# figsize: (가로, 세로) 형태의 튜플로 입력\n",
        "plt.figure(figsize=(8, 4))\n",
        "# histogram 선언\n",
        "# bins: 히스토그램 값들에 대한 버켓 범위, \n",
        "# range: x축 값의 범위\n",
        "# facecolor: 그래프 색상\n",
        "# label: 그래프에 대한 라벨\n",
        "plt.hist(word_len, bins=15, range=[0, 15], facecolor='r', label='train')\n",
        "# 그래프 제목\n",
        "plt.title('Lengh of word')\n",
        "# 그래프 x 축 라벨\n",
        "plt.xlabel('Number of word')\n",
        "# 그래프 y 축 라벨\n",
        "plt.ylabel('Count of review')\n",
        "plt.show()"
      ],
      "execution_count": 38,
      "outputs": [
        {
          "output_type": "display_data",
          "data": {
            "image/png": "[encoded data removed]",
            "text/plain": [
              "<Figure size 576x288 with 1 Axes>"
            ]
          },
          "metadata": {
            "tags": [],
            "needs_background": "light"
          }
        }
      ]
    },
    {
      "cell_type": "code",
      "metadata": {
        "id": "2eW21IJ8jvwa",
        "colab": {
          "base_uri": "https://localhost:8080/"
        },
        "outputId": "8b1580ee-d3d9-4ce4-b8e5-a7e5c329cc6f"
      },
      "source": [
        "# 데이터 길이\n",
        "print(f\"word 길이 최대:    {np.max(word_len):4d}\")\n",
        "print(f\"word 길이 최소:    {np.min(word_len):4d}\")\n",
        "print(f\"word 길이 평균:    {np.mean(word_len):7.2f}\")\n",
        "print(f\"word 길이 표준편차: {np.std(word_len):7.2f}\")\n",
        "# https://ko.wikipedia.org/wiki/%EB%B0%B1%EB%B6%84%EC%9C%84%EC%88%98\n",
        "# 백분위수(Percentile)는 크기가 있는 값들로 이뤄진 자료를 순서대로 나열했을 때 백분율로 나타낸 특정 위치의 값을 이르는 용어이다.\n",
        "# 일반적으로 크기가 작은 것부터 나열하여 가장 작은 것을 0, 가장 큰 것을 100으로 한다.\n",
        "# 100개의 값을 가진 어떤 자료의 20 백분위수는 그 자료의 값들 중 20번째로 작은 값을 뜻한다. 50 백분위수는 중앙값과 같다.\n",
        "percentile25 = np.percentile(word_len, 25)\n",
        "percentile50 = np.percentile(word_len, 50)\n",
        "percentile75 = np.percentile(word_len, 75)\n",
        "percentileIQR = percentile75 - percentile25\n",
        "percentileMAX = percentile75 + percentileIQR * 1.5\n",
        "print(f\"word 25/100분위:  {percentile25:7.2f}\")\n",
        "print(f\"word 50/100분위:  {percentile50:7.2f}\")\n",
        "print(f\"word 75/100분위:  {percentile75:7.2f}\")\n",
        "print(f\"word IQR:        {percentileIQR:7.2f}\")\n",
        "print(f\"word MAX/100분위: {percentileMAX:7.2f}\")"
      ],
      "execution_count": 39,
      "outputs": [
        {
          "output_type": "stream",
          "text": [
            "word 길이 최대:      15\n",
            "word 길이 최소:       1\n",
            "word 길이 평균:       3.59\n",
            "word 길이 표준편차:    1.62\n",
            "word 25/100분위:     2.00\n",
            "word 50/100분위:     3.00\n",
            "word 75/100분위:     4.00\n",
            "word IQR:           2.00\n",
            "word MAX/100분위:    7.00\n"
          ],
          "name": "stdout"
        }
      ]
    },
    {
      "cell_type": "code",
      "metadata": {
        "id": "NerMTgt_jvwa",
        "colab": {
          "base_uri": "https://localhost:8080/",
          "height": 374
        },
        "outputId": "f1dfbf6f-b2b7-4b91-dd44-ea90eb879f8a"
      },
      "source": [
        "plt.figure(figsize=(4, 6))\n",
        "# 박스플롯 생성\n",
        "# 첫번째 파라메터: 여러 분포에 대한 데이터 리스트를\n",
        "# labels: 입력한 데이터에 대한 라벨\n",
        "# showmeans: 평균값을 표현\n",
        "# 참고: https://leebaro.tistory.com/entry/%EB%B0%95%EC%8A%A4-%ED%94%8C%EB%A1%AFbox-plot-%EC%84%A4%EB%AA%85\n",
        "plt.boxplot(word_len, labels=['word counts'], showmeans=True)\n",
        "plt.show()"
      ],
      "execution_count": 40,
      "outputs": [
        {
          "output_type": "display_data",
          "data": {
            "image/png": "[encoded data removed]",
            "text/plain": [
              "<Figure size 288x432 with 1 Axes>"
            ]
          },
          "metadata": {
            "tags": [],
            "needs_background": "light"
          }
        }
      ]
    },
    {
      "cell_type": "markdown",
      "metadata": {
        "id": "aAf5NLDXg1ri"
      },
      "source": [
        "### A"
      ]
    },
    {
      "cell_type": "code",
      "metadata": {
        "id": "KSwFC-_Gg1rj",
        "colab": {
          "base_uri": "https://localhost:8080/"
        },
        "outputId": "107ab0e2-b84e-4869-8e19-5dabcade1a0b"
      },
      "source": [
        "# word 길이 데이터\n",
        "word_len = df_train['A'].astype(str).apply(lambda x:len(x.split(' ')))\n",
        "word_len.head(10)"
      ],
      "execution_count": 41,
      "outputs": [
        {
          "output_type": "execute_result",
          "data": {
            "text/plain": [
              "0    3\n",
              "1    2\n",
              "2    3\n",
              "3    3\n",
              "4    2\n",
              "5    6\n",
              "6    6\n",
              "7    5\n",
              "8    3\n",
              "9    3\n",
              "Name: A, dtype: int64"
            ]
          },
          "metadata": {
            "tags": []
          },
          "execution_count": 41
        }
      ]
    },
    {
      "cell_type": "code",
      "metadata": {
        "id": "CnikZCQCg1rj",
        "colab": {
          "base_uri": "https://localhost:8080/",
          "height": 295
        },
        "outputId": "725db4a2-3c57-4ad7-d863-8f0b972cea1f"
      },
      "source": [
        "# 그래프에 대한 이미지 사이즈 선언\n",
        "# figsize: (가로, 세로) 형태의 튜플로 입력\n",
        "plt.figure(figsize=(8, 4))\n",
        "# histogram 선언\n",
        "# bins: 히스토그램 값들에 대한 버켓 범위, \n",
        "# range: x축 값의 범위\n",
        "# facecolor: 그래프 색상\n",
        "# label: 그래프에 대한 라벨\n",
        "plt.hist(word_len, bins=21, range=[0, 21], facecolor='r', label='train')\n",
        "# 그래프 제목\n",
        "plt.title('Lengh of word')\n",
        "# 그래프 x 축 라벨\n",
        "plt.xlabel('Number of word')\n",
        "# 그래프 y 축 라벨\n",
        "plt.ylabel('Count of review')\n",
        "plt.show()"
      ],
      "execution_count": 42,
      "outputs": [
        {
          "output_type": "display_data",
          "data": {
            "image/png": "[encoded data removed]",
            "text/plain": [
              "<Figure size 576x288 with 1 Axes>"
            ]
          },
          "metadata": {
            "tags": [],
            "needs_background": "light"
          }
        }
      ]
    },
    {
      "cell_type": "code",
      "metadata": {
        "id": "Ji9DXHsSg1rk",
        "colab": {
          "base_uri": "https://localhost:8080/"
        },
        "outputId": "7697afa0-4764-4195-9905-f6412da61835"
      },
      "source": [
        "# 데이터 길이\n",
        "print(f\"word 길이 최대:    {np.max(word_len):4d}\")\n",
        "print(f\"word 길이 최소:    {np.min(word_len):4d}\")\n",
        "print(f\"word 길이 평균:    {np.mean(word_len):7.2f}\")\n",
        "print(f\"word 길이 표준편차: {np.std(word_len):7.2f}\")\n",
        "# https://ko.wikipedia.org/wiki/%EB%B0%B1%EB%B6%84%EC%9C%84%EC%88%98\n",
        "# 백분위수(Percentile)는 크기가 있는 값들로 이뤄진 자료를 순서대로 나열했을 때 백분율로 나타낸 특정 위치의 값을 이르는 용어이다.\n",
        "# 일반적으로 크기가 작은 것부터 나열하여 가장 작은 것을 0, 가장 큰 것을 100으로 한다.\n",
        "# 100개의 값을 가진 어떤 자료의 20 백분위수는 그 자료의 값들 중 20번째로 작은 값을 뜻한다. 50 백분위수는 중앙값과 같다.\n",
        "percentile25 = np.percentile(word_len, 25)\n",
        "percentile50 = np.percentile(word_len, 50)\n",
        "percentile75 = np.percentile(word_len, 75)\n",
        "percentileIQR = percentile75 - percentile25\n",
        "percentileMAX = percentile75 + percentileIQR * 1.5\n",
        "print(f\"word 25/100분위:  {percentile25:7.2f}\")\n",
        "print(f\"word 50/100분위:  {percentile50:7.2f}\")\n",
        "print(f\"word 75/100분위:  {percentile75:7.2f}\")\n",
        "print(f\"word IQR:        {percentileIQR:7.2f}\")\n",
        "print(f\"word MAX/100분위: {percentileMAX:7.2f}\")"
      ],
      "execution_count": 43,
      "outputs": [
        {
          "output_type": "stream",
          "text": [
            "word 길이 최대:      21\n",
            "word 길이 최소:       1\n",
            "word 길이 평균:       3.69\n",
            "word 길이 표준편차:    1.86\n",
            "word 25/100분위:     2.00\n",
            "word 50/100분위:     3.00\n",
            "word 75/100분위:     5.00\n",
            "word IQR:           3.00\n",
            "word MAX/100분위:    9.50\n"
          ],
          "name": "stdout"
        }
      ]
    },
    {
      "cell_type": "code",
      "metadata": {
        "id": "FDYnKKC4g1rk",
        "colab": {
          "base_uri": "https://localhost:8080/",
          "height": 374
        },
        "outputId": "705b8ed6-1265-4ca0-bde6-6bff741a9133"
      },
      "source": [
        "plt.figure(figsize=(4, 6))\n",
        "# 박스플롯 생성\n",
        "# 첫번째 파라메터: 여러 분포에 대한 데이터 리스트를\n",
        "# labels: 입력한 데이터에 대한 라벨\n",
        "# showmeans: 평균값을 표현\n",
        "# 참고: https://leebaro.tistory.com/entry/%EB%B0%95%EC%8A%A4-%ED%94%8C%EB%A1%AFbox-plot-%EC%84%A4%EB%AA%85\n",
        "plt.boxplot(word_len, labels=['word counts'], showmeans=True)\n",
        "plt.show()"
      ],
      "execution_count": 44,
      "outputs": [
        {
          "output_type": "display_data",
          "data": {
            "image/png": "[encoded data removed]",
            "text/plain": [
              "<Figure size 288x432 with 1 Axes>"
            ]
          },
          "metadata": {
            "tags": [],
            "needs_background": "light"
          }
        }
      ]
    },
    {
      "cell_type": "markdown",
      "metadata": {
        "id": "HH3c7rY7kbCh"
      },
      "source": [
        "## SentencePiece"
      ]
    },
    {
      "cell_type": "markdown",
      "metadata": {
        "id": "INyPdEigjQpG"
      },
      "source": [
        "### Q"
      ]
    },
    {
      "cell_type": "code",
      "metadata": {
        "id": "6cvc0ZDzkbCi",
        "colab": {
          "base_uri": "https://localhost:8080/"
        },
        "outputId": "788de64c-67a2-4036-ac9c-5c868f87c3f1"
      },
      "source": [
        "# word 길이 데이터\n",
        "spm_len = df_train['Q'].astype(str).apply(lambda x:len(vocab.encode_as_pieces(x)))\n",
        "spm_len.head(10)"
      ],
      "execution_count": 45,
      "outputs": [
        {
          "output_type": "execute_result",
          "data": {
            "text/plain": [
              "0     5\n",
              "1     6\n",
              "2     9\n",
              "3    10\n",
              "4     5\n",
              "5     6\n",
              "6     4\n",
              "7     7\n",
              "8    11\n",
              "9     9\n",
              "Name: Q, dtype: int64"
            ]
          },
          "metadata": {
            "tags": []
          },
          "execution_count": 45
        }
      ]
    },
    {
      "cell_type": "code",
      "metadata": {
        "id": "KDr_r83DkbCi",
        "colab": {
          "base_uri": "https://localhost:8080/",
          "height": 296
        },
        "outputId": "e0bb8bcd-0385-41a9-e51e-749a5dc3ed89"
      },
      "source": [
        "# 그래프에 대한 이미지 사이즈 선언\n",
        "# figsize: (가로, 세로) 형태의 튜플로 입력\n",
        "plt.figure(figsize=(8, 4))\n",
        "# histogram 선언\n",
        "# bins: 히스토그램 값들에 대한 버켓 범위, \n",
        "# range: x축 값의 범위\n",
        "# facecolor: 그래프 색상\n",
        "# label: 그래프에 대한 라벨\n",
        "plt.hist(spm_len, bins=26, range=[0, 26], facecolor='r', label='train')\n",
        "# 그래프 제목\n",
        "plt.title('Lengh of spm')\n",
        "# 그래프 x 축 라벨\n",
        "plt.xlabel('Number of spm')\n",
        "# 그래프 y 축 라벨\n",
        "plt.ylabel('Count of review')\n",
        "plt.show()"
      ],
      "execution_count": 46,
      "outputs": [
        {
          "output_type": "display_data",
          "data": {
            "image/png": "[encoded data removed]",
            "text/plain": [
              "<Figure size 576x288 with 1 Axes>"
            ]
          },
          "metadata": {
            "tags": [],
            "needs_background": "light"
          }
        }
      ]
    },
    {
      "cell_type": "code",
      "metadata": {
        "id": "hl9BiOWnkbCj",
        "colab": {
          "base_uri": "https://localhost:8080/"
        },
        "outputId": "caabd9d3-208a-4ab3-c23c-56718e9154cf"
      },
      "source": [
        "# 데이터 길이\n",
        "print(f\"spm 길이 최대:    {np.max(spm_len):4d}\")\n",
        "print(f\"spm 길이 최소:    {np.min(spm_len):4d}\")\n",
        "print(f\"spm 길이 평균:    {np.mean(spm_len):7.2f}\")\n",
        "print(f\"spm 길이 표준편차: {np.std(spm_len):7.2f}\")\n",
        "# https://ko.wikipedia.org/wiki/%EB%B0%B1%EB%B6%84%EC%9C%84%EC%88%98\n",
        "# 백분위수(Percentile)는 크기가 있는 값들로 이뤄진 자료를 순서대로 나열했을 때 백분율로 나타낸 특정 위치의 값을 이르는 용어이다.\n",
        "# 일반적으로 크기가 작은 것부터 나열하여 가장 작은 것을 0, 가장 큰 것을 100으로 한다.\n",
        "# 100개의 값을 가진 어떤 자료의 20 백분위수는 그 자료의 값들 중 20번째로 작은 값을 뜻한다. 50 백분위수는 중앙값과 같다.\n",
        "percentile25 = np.percentile(spm_len, 25)\n",
        "percentile50 = np.percentile(spm_len, 50)\n",
        "percentile75 = np.percentile(spm_len, 75)\n",
        "percentileIQR = percentile75 - percentile25\n",
        "percentileMAX = percentile75 + percentileIQR * 1.5\n",
        "print(f\"spm 25/100분위:  {percentile25:7.2f}\")\n",
        "print(f\"spm 50/100분위:  {percentile50:7.2f}\")\n",
        "print(f\"spm 75/100분위:  {percentile75:7.2f}\")\n",
        "print(f\"spm IQR:        {percentileIQR:7.2f}\")\n",
        "print(f\"spm MAX/100분위: {percentileMAX:7.2f}\")"
      ],
      "execution_count": 47,
      "outputs": [
        {
          "output_type": "stream",
          "text": [
            "spm 길이 최대:      26\n",
            "spm 길이 최소:       1\n",
            "spm 길이 평균:       7.00\n",
            "spm 길이 표준편차:    3.09\n",
            "spm 25/100분위:     5.00\n",
            "spm 50/100분위:     6.00\n",
            "spm 75/100분위:     9.00\n",
            "spm IQR:           4.00\n",
            "spm MAX/100분위:   15.00\n"
          ],
          "name": "stdout"
        }
      ]
    },
    {
      "cell_type": "code",
      "metadata": {
        "id": "bhYzc3QVkbCj",
        "colab": {
          "base_uri": "https://localhost:8080/",
          "height": 374
        },
        "outputId": "89a0f8c8-996f-405f-93f6-9735a57258a3"
      },
      "source": [
        "plt.figure(figsize=(4, 6))\n",
        "# 박스플롯 생성\n",
        "# 첫번째 파라메터: 여러 분포에 대한 데이터 리스트를\n",
        "# labels: 입력한 데이터에 대한 라벨\n",
        "# showmeans: 평균값을 표현\n",
        "# 참고: https://leebaro.tistory.com/entry/%EB%B0%95%EC%8A%A4-%ED%94%8C%EB%A1%AFbox-plot-%EC%84%A4%EB%AA%85\n",
        "plt.boxplot(spm_len, labels=['spm counts'], showmeans=True)\n",
        "plt.show()"
      ],
      "execution_count": 48,
      "outputs": [
        {
          "output_type": "display_data",
          "data": {
            "image/png": "[encoded data removed]",
            "text/plain": [
              "<Figure size 288x432 with 1 Axes>"
            ]
          },
          "metadata": {
            "tags": [],
            "needs_background": "light"
          }
        }
      ]
    },
    {
      "cell_type": "markdown",
      "metadata": {
        "id": "CZNmjRZLjcU-"
      },
      "source": [
        "### A"
      ]
    },
    {
      "cell_type": "code",
      "metadata": {
        "id": "WiYg-7FcjcU-",
        "colab": {
          "base_uri": "https://localhost:8080/"
        },
        "outputId": "9c5f10ab-775d-4721-c446-8e535c3af816"
      },
      "source": [
        "# word 길이 데이터\n",
        "spm_len = df_train['A'].astype(str).apply(lambda x:len(vocab.encode_as_pieces(x)))\n",
        "spm_len.head(10)"
      ],
      "execution_count": 49,
      "outputs": [
        {
          "output_type": "execute_result",
          "data": {
            "text/plain": [
              "0    6\n",
              "1    6\n",
              "2    6\n",
              "3    6\n",
              "4    8\n",
              "5    9\n",
              "6    9\n",
              "7    7\n",
              "8    6\n",
              "9    6\n",
              "Name: A, dtype: int64"
            ]
          },
          "metadata": {
            "tags": []
          },
          "execution_count": 49
        }
      ]
    },
    {
      "cell_type": "code",
      "metadata": {
        "id": "VCsAsqaGjcU_",
        "colab": {
          "base_uri": "https://localhost:8080/",
          "height": 296
        },
        "outputId": "1e4356bb-8522-4c62-fa65-947ca788e1d7"
      },
      "source": [
        "# 그래프에 대한 이미지 사이즈 선언\n",
        "# figsize: (가로, 세로) 형태의 튜플로 입력\n",
        "plt.figure(figsize=(8, 4))\n",
        "# histogram 선언\n",
        "# bins: 히스토그램 값들에 대한 버켓 범위, \n",
        "# range: x축 값의 범위\n",
        "# facecolor: 그래프 색상\n",
        "# label: 그래프에 대한 라벨\n",
        "plt.hist(spm_len, bins=35, range=[0, 35], facecolor='r', label='train')\n",
        "# 그래프 제목\n",
        "plt.title('Lengh of spm')\n",
        "# 그래프 x 축 라벨\n",
        "plt.xlabel('Number of spm')\n",
        "# 그래프 y 축 라벨\n",
        "plt.ylabel('Count of review')\n",
        "plt.show()"
      ],
      "execution_count": 50,
      "outputs": [
        {
          "output_type": "display_data",
          "data": {
            "image/png": "[encoded data removed]",
            "text/plain": [
              "<Figure size 576x288 with 1 Axes>"
            ]
          },
          "metadata": {
            "tags": [],
            "needs_background": "light"
          }
        }
      ]
    },
    {
      "cell_type": "code",
      "metadata": {
        "id": "2vghdAIjjcVB",
        "colab": {
          "base_uri": "https://localhost:8080/"
        },
        "outputId": "ce5f245a-65c1-4993-c863-1f0def3cb64b"
      },
      "source": [
        "# 데이터 길이\n",
        "print(f\"spm 길이 최대:    {np.max(spm_len):4d}\")\n",
        "print(f\"spm 길이 최소:    {np.min(spm_len):4d}\")\n",
        "print(f\"spm 길이 평균:    {np.mean(spm_len):7.2f}\")\n",
        "print(f\"spm 길이 표준편차: {np.std(spm_len):7.2f}\")\n",
        "# https://ko.wikipedia.org/wiki/%EB%B0%B1%EB%B6%84%EC%9C%84%EC%88%98\n",
        "# 백분위수(Percentile)는 크기가 있는 값들로 이뤄진 자료를 순서대로 나열했을 때 백분율로 나타낸 특정 위치의 값을 이르는 용어이다.\n",
        "# 일반적으로 크기가 작은 것부터 나열하여 가장 작은 것을 0, 가장 큰 것을 100으로 한다.\n",
        "# 100개의 값을 가진 어떤 자료의 20 백분위수는 그 자료의 값들 중 20번째로 작은 값을 뜻한다. 50 백분위수는 중앙값과 같다.\n",
        "percentile25 = np.percentile(spm_len, 25)\n",
        "percentile50 = np.percentile(spm_len, 50)\n",
        "percentile75 = np.percentile(spm_len, 75)\n",
        "percentileIQR = percentile75 - percentile25\n",
        "percentileMAX = percentile75 + percentileIQR * 1.5\n",
        "print(f\"spm 25/100분위:  {percentile25:7.2f}\")\n",
        "print(f\"spm 50/100분위:  {percentile50:7.2f}\")\n",
        "print(f\"spm 75/100분위:  {percentile75:7.2f}\")\n",
        "print(f\"spm IQR:        {percentileIQR:7.2f}\")\n",
        "print(f\"spm MAX/100분위: {percentileMAX:7.2f}\")"
      ],
      "execution_count": 51,
      "outputs": [
        {
          "output_type": "stream",
          "text": [
            "spm 길이 최대:      35\n",
            "spm 길이 최소:       1\n",
            "spm 길이 평균:       8.44\n",
            "spm 길이 표준편차:    3.06\n",
            "spm 25/100분위:     6.00\n",
            "spm 50/100분위:     8.00\n",
            "spm 75/100분위:    10.00\n",
            "spm IQR:           4.00\n",
            "spm MAX/100분위:   16.00\n"
          ],
          "name": "stdout"
        }
      ]
    },
    {
      "cell_type": "code",
      "metadata": {
        "id": "_VXBV7NMjcVB",
        "colab": {
          "base_uri": "https://localhost:8080/",
          "height": 374
        },
        "outputId": "d1d49de7-c450-4601-dc5e-29c6501f46ec"
      },
      "source": [
        "plt.figure(figsize=(4, 6))\n",
        "# 박스플롯 생성\n",
        "# 첫번째 파라메터: 여러 분포에 대한 데이터 리스트를\n",
        "# labels: 입력한 데이터에 대한 라벨\n",
        "# showmeans: 평균값을 표현\n",
        "# 참고: https://leebaro.tistory.com/entry/%EB%B0%95%EC%8A%A4-%ED%94%8C%EB%A1%AFbox-plot-%EC%84%A4%EB%AA%85\n",
        "plt.boxplot(spm_len, labels=['spm counts'], showmeans=True)\n",
        "plt.show()"
      ],
      "execution_count": 52,
      "outputs": [
        {
          "output_type": "display_data",
          "data": {
            "image/png": "[encoded data removed]",
            "text/plain": [
              "<Figure size 288x432 with 1 Axes>"
            ]
          },
          "metadata": {
            "tags": [],
            "needs_background": "light"
          }
        }
      ]
    },
    {
      "cell_type": "markdown",
      "metadata": {
        "id": "PEEHnQPfluqb"
      },
      "source": [
        "## Word Cloud"
      ]
    },
    {
      "cell_type": "code",
      "metadata": {
        "id": "WXlNyhTvkiRi",
        "colab": {
          "base_uri": "https://localhost:8080/"
        },
        "outputId": "108c2c91-412d-4003-865c-7b549fc00504"
      },
      "source": [
        "# data 합치기\n",
        "train_set = pd.Series(df_train['Q'].tolist() + df_train['A'].tolist()).astype(str)\n",
        "train_set.head(10)"
      ],
      "execution_count": 53,
      "outputs": [
        {
          "output_type": "execute_result",
          "data": {
            "text/plain": [
              "0                     12시 땡!\n",
              "1                1지망 학교 떨어졌어\n",
              "2               3박4일 놀러가고 싶다\n",
              "3            3박4일 정도 놀러가고 싶다\n",
              "4                    PPL 심하네\n",
              "5                  SD카드 망가졌어\n",
              "6                    SD카드 안돼\n",
              "7             SNS 맞팔 왜 안하지ㅠㅠ\n",
              "8    SNS 시간낭비인 거 아는데 매일 하는 중\n",
              "9          SNS 시간낭비인데 자꾸 보게됨\n",
              "dtype: object"
            ]
          },
          "metadata": {
            "tags": []
          },
          "execution_count": 53
        }
      ]
    },
    {
      "cell_type": "code",
      "metadata": {
        "id": "HRb4fQxsloKx",
        "colab": {
          "base_uri": "https://localhost:8080/"
        },
        "outputId": "9613a19c-4701-4043-beb5-53017faa83cc"
      },
      "source": [
        "# train review documents\n",
        "train_review = [review for review in train_set if type(review) is str]\n",
        "train_review[:10]"
      ],
      "execution_count": 54,
      "outputs": [
        {
          "output_type": "execute_result",
          "data": {
            "text/plain": [
              "['12시 땡!',\n",
              " '1지망 학교 떨어졌어',\n",
              " '3박4일 놀러가고 싶다',\n",
              " '3박4일 정도 놀러가고 싶다',\n",
              " 'PPL 심하네',\n",
              " 'SD카드 망가졌어',\n",
              " 'SD카드 안돼',\n",
              " 'SNS 맞팔 왜 안하지ㅠㅠ',\n",
              " 'SNS 시간낭비인 거 아는데 매일 하는 중',\n",
              " 'SNS 시간낭비인데 자꾸 보게됨']"
            ]
          },
          "metadata": {
            "tags": []
          },
          "execution_count": 54
        }
      ]
    },
    {
      "cell_type": "code",
      "metadata": {
        "id": "ASMXNml2lz8i",
        "colab": {
          "base_uri": "https://localhost:8080/",
          "height": 70
        },
        "outputId": "165fca8a-23e5-459f-96eb-529a02d08ddd"
      },
      "source": [
        "' '.join(train_review[:10])"
      ],
      "execution_count": 55,
      "outputs": [
        {
          "output_type": "execute_result",
          "data": {
            "application/vnd.google.colaboratory.intrinsic+json": {
              "type": "string"
            },
            "text/plain": [
              "'12시 땡! 1지망 학교 떨어졌어 3박4일 놀러가고 싶다 3박4일 정도 놀러가고 싶다 PPL 심하네 SD카드 망가졌어 SD카드 안돼 SNS 맞팔 왜 안하지ㅠㅠ SNS 시간낭비인 거 아는데 매일 하는 중 SNS 시간낭비인데 자꾸 보게됨'"
            ]
          },
          "metadata": {
            "tags": []
          },
          "execution_count": 55
        }
      ]
    },
    {
      "cell_type": "code",
      "metadata": {
        "id": "MmQXZB-bl4RM",
        "colab": {
          "base_uri": "https://localhost:8080/",
          "height": 575
        },
        "outputId": "bfec94b7-2071-4e72-c053-4f36f0e6f065"
      },
      "source": [
        "# WordCloud\n",
        "# window: C:/Windows/Fonts/malgun.ttf, mac: /Library/Fonts/AppleGothic.ttf, colab: /usr/share/fonts/truetype/nanum/NanumBarunGothic.ttf\n",
        "wordcloud = WordCloud(width=800, height=800, font_path='/usr/share/fonts/truetype/nanum/NanumBarunGothic.ttf').generate(' '.join(train_review))\n",
        "plt.figure(figsize=(10, 10))\n",
        "# https://datascienceschool.net/view-notebook/6e71dbff254542d9b0a054a7c98b34ec/\n",
        "# image 출력, interpolation 이미지 시각화 옵션\n",
        "plt.imshow(wordcloud, interpolation='bilinear')\n",
        "plt.axis('off')\n",
        "plt.show()"
      ],
      "execution_count": 56,
      "outputs": [
        {
          "output_type": "display_data",
          "data": {
            "image/png": "[encoded data removed]",
            "text/plain": [
              "<Figure size 720x720 with 1 Axes>"
            ]
          },
          "metadata": {
            "tags": [],
            "needs_background": "light"
          }
        }
      ]
    },
    {
      "cell_type": "markdown",
      "metadata": {
        "id": "kTgzpx2Wl6uv"
      },
      "source": [
        "# Loss & Acc"
      ]
    },
    {
      "cell_type": "code",
      "metadata": {
        "id": "hQRKhodYtQHr"
      },
      "source": [
        "def lm_loss(y_true, y_pred):\n",
        "    \"\"\"\n",
        "    pad 부분을 제외하고 loss를 계산하는 함수\n",
        "    :param y_true: 정답\n",
        "    :param y_pred: 예측 값\n",
        "    :retrun loss: pad 부분이 제외된 loss 값\n",
        "    \"\"\"\n",
        "    # loss = sparse_entropy = tf.keras.losses.SparseCategoricalCrossentropy()(y_true, y_pred)\n",
        "    loss = tf.keras.losses.SparseCategoricalCrossentropy(reduction=tf.keras.losses.Reduction.NONE)(y_true, y_pred)\n",
        "    mask = tf.not_equal(y_true, 0)\n",
        "    mask = tf.cast(mask, tf.float32)\n",
        "    # print(mask)\n",
        "    loss *= mask\n",
        "    return loss"
      ],
      "execution_count": 57,
      "outputs": []
    },
    {
      "cell_type": "code",
      "metadata": {
        "id": "xQqs7xzA3N3Q"
      },
      "source": [
        "def lm_acc(y_true, y_pred):\n",
        "    \"\"\"\n",
        "    pad 부분을 제외하고 accuracy를 계산하는 함수\n",
        "    :param y_true: 정답\n",
        "    :param y_pred: 예측 값\n",
        "    :retrun loss: pad 부분이 제외된 accuracy 값\n",
        "    \"\"\"\n",
        "    y_true = tf.cast(y_true, tf.float32)\n",
        "    # print(y_true)\n",
        "    y_pred_class = tf.cast(tf.argmax(y_pred, axis=-1), tf.float32)\n",
        "    # print(y_pred_class)\n",
        "    matches = tf.cast(tf.equal(y_true, y_pred_class), tf.float32)\n",
        "    # print(matches)\n",
        "    mask = tf.not_equal(y_true, 0)\n",
        "    mask = tf.cast(mask, tf.float32)\n",
        "    # print(mask)\n",
        "    matches *= mask\n",
        "    # print(matches)\n",
        "    # accuracy = tf.reduce_sum(matches) / tf.maximum(tf.reduce_sum(tf.ones_like(matches)), 1)\n",
        "    accuracy = tf.reduce_sum(matches) / tf.maximum(tf.reduce_sum(mask), 1)\n",
        "    return accuracy"
      ],
      "execution_count": 58,
      "outputs": []
    },
    {
      "cell_type": "markdown",
      "metadata": {
        "id": "gcG7zBAr_R_4"
      },
      "source": [
        "# Sample Data Project"
      ]
    },
    {
      "cell_type": "markdown",
      "metadata": {
        "id": "jv0OPyaKSpjw"
      },
      "source": [
        "## Data\n"
      ]
    },
    {
      "cell_type": "code",
      "metadata": {
        "id": "98u39IsbSoBk",
        "colab": {
          "base_uri": "https://localhost:8080/",
          "height": 418
        },
        "outputId": "63ce94b0-5c2e-4016-d85f-c86356ca6f6a"
      },
      "source": [
        "df_train = pd.read_csv(os.path.join(songys_dir, 'ChatbotData.csv'))\n",
        "df_train"
      ],
      "execution_count": 59,
      "outputs": [
        {
          "output_type": "execute_result",
          "data": {
            "text/html": [
              "<div>\n",
              "<style scoped>\n",
              "    .dataframe tbody tr th:only-of-type {\n",
              "        vertical-align: middle;\n",
              "    }\n",
              "\n",
              "    .dataframe tbody tr th {\n",
              "        vertical-align: top;\n",
              "    }\n",
              "\n",
              "    .dataframe thead th {\n",
              "        text-align: right;\n",
              "    }\n",
              "</style>\n",
              "<table border=\"1\" class=\"dataframe\">\n",
              "  <thead>\n",
              "    <tr style=\"text-align: right;\">\n",
              "      <th></th>\n",
              "      <th>Q</th>\n",
              "      <th>A</th>\n",
              "      <th>label</th>\n",
              "    </tr>\n",
              "  </thead>\n",
              "  <tbody>\n",
              "    <tr>\n",
              "      <th>0</th>\n",
              "      <td>12시 땡!</td>\n",
              "      <td>하루가 또 가네요.</td>\n",
              "      <td>0</td>\n",
              "    </tr>\n",
              "    <tr>\n",
              "      <th>1</th>\n",
              "      <td>1지망 학교 떨어졌어</td>\n",
              "      <td>위로해 드립니다.</td>\n",
              "      <td>0</td>\n",
              "    </tr>\n",
              "    <tr>\n",
              "      <th>2</th>\n",
              "      <td>3박4일 놀러가고 싶다</td>\n",
              "      <td>여행은 언제나 좋죠.</td>\n",
              "      <td>0</td>\n",
              "    </tr>\n",
              "    <tr>\n",
              "      <th>3</th>\n",
              "      <td>3박4일 정도 놀러가고 싶다</td>\n",
              "      <td>여행은 언제나 좋죠.</td>\n",
              "      <td>0</td>\n",
              "    </tr>\n",
              "    <tr>\n",
              "      <th>4</th>\n",
              "      <td>PPL 심하네</td>\n",
              "      <td>눈살이 찌푸려지죠.</td>\n",
              "      <td>0</td>\n",
              "    </tr>\n",
              "    <tr>\n",
              "      <th>...</th>\n",
              "      <td>...</td>\n",
              "      <td>...</td>\n",
              "      <td>...</td>\n",
              "    </tr>\n",
              "    <tr>\n",
              "      <th>11818</th>\n",
              "      <td>훔쳐보는 것도 눈치 보임.</td>\n",
              "      <td>티가 나니까 눈치가 보이는 거죠!</td>\n",
              "      <td>2</td>\n",
              "    </tr>\n",
              "    <tr>\n",
              "      <th>11819</th>\n",
              "      <td>훔쳐보는 것도 눈치 보임.</td>\n",
              "      <td>훔쳐보는 거 티나나봐요.</td>\n",
              "      <td>2</td>\n",
              "    </tr>\n",
              "    <tr>\n",
              "      <th>11820</th>\n",
              "      <td>흑기사 해주는 짝남.</td>\n",
              "      <td>설렜겠어요.</td>\n",
              "      <td>2</td>\n",
              "    </tr>\n",
              "    <tr>\n",
              "      <th>11821</th>\n",
              "      <td>힘든 연애 좋은 연애라는게 무슨 차이일까?</td>\n",
              "      <td>잘 헤어질 수 있는 사이 여부인 거 같아요.</td>\n",
              "      <td>2</td>\n",
              "    </tr>\n",
              "    <tr>\n",
              "      <th>11822</th>\n",
              "      <td>힘들어서 결혼할까봐</td>\n",
              "      <td>도피성 결혼은 하지 않길 바라요.</td>\n",
              "      <td>2</td>\n",
              "    </tr>\n",
              "  </tbody>\n",
              "</table>\n",
              "<p>11823 rows × 3 columns</p>\n",
              "</div>"
            ],
            "text/plain": [
              "                             Q                         A  label\n",
              "0                       12시 땡!                하루가 또 가네요.      0\n",
              "1                  1지망 학교 떨어졌어                 위로해 드립니다.      0\n",
              "2                 3박4일 놀러가고 싶다               여행은 언제나 좋죠.      0\n",
              "3              3박4일 정도 놀러가고 싶다               여행은 언제나 좋죠.      0\n",
              "4                      PPL 심하네                눈살이 찌푸려지죠.      0\n",
              "...                        ...                       ...    ...\n",
              "11818           훔쳐보는 것도 눈치 보임.        티가 나니까 눈치가 보이는 거죠!      2\n",
              "11819           훔쳐보는 것도 눈치 보임.             훔쳐보는 거 티나나봐요.      2\n",
              "11820              흑기사 해주는 짝남.                    설렜겠어요.      2\n",
              "11821  힘든 연애 좋은 연애라는게 무슨 차이일까?  잘 헤어질 수 있는 사이 여부인 거 같아요.      2\n",
              "11822               힘들어서 결혼할까봐        도피성 결혼은 하지 않길 바라요.      2\n",
              "\n",
              "[11823 rows x 3 columns]"
            ]
          },
          "metadata": {
            "tags": []
          },
          "execution_count": 59
        }
      ]
    },
    {
      "cell_type": "code",
      "metadata": {
        "id": "_mHKFva1M5hv",
        "colab": {
          "base_uri": "https://localhost:8080/",
          "height": 418
        },
        "outputId": "0774d5ea-abc8-4716-9003-7cc88db7061c"
      },
      "source": [
        "df_train = df_train.dropna()\n",
        "df_train"
      ],
      "execution_count": 60,
      "outputs": [
        {
          "output_type": "execute_result",
          "data": {
            "text/html": [
              "<div>\n",
              "<style scoped>\n",
              "    .dataframe tbody tr th:only-of-type {\n",
              "        vertical-align: middle;\n",
              "    }\n",
              "\n",
              "    .dataframe tbody tr th {\n",
              "        vertical-align: top;\n",
              "    }\n",
              "\n",
              "    .dataframe thead th {\n",
              "        text-align: right;\n",
              "    }\n",
              "</style>\n",
              "<table border=\"1\" class=\"dataframe\">\n",
              "  <thead>\n",
              "    <tr style=\"text-align: right;\">\n",
              "      <th></th>\n",
              "      <th>Q</th>\n",
              "      <th>A</th>\n",
              "      <th>label</th>\n",
              "    </tr>\n",
              "  </thead>\n",
              "  <tbody>\n",
              "    <tr>\n",
              "      <th>0</th>\n",
              "      <td>12시 땡!</td>\n",
              "      <td>하루가 또 가네요.</td>\n",
              "      <td>0</td>\n",
              "    </tr>\n",
              "    <tr>\n",
              "      <th>1</th>\n",
              "      <td>1지망 학교 떨어졌어</td>\n",
              "      <td>위로해 드립니다.</td>\n",
              "      <td>0</td>\n",
              "    </tr>\n",
              "    <tr>\n",
              "      <th>2</th>\n",
              "      <td>3박4일 놀러가고 싶다</td>\n",
              "      <td>여행은 언제나 좋죠.</td>\n",
              "      <td>0</td>\n",
              "    </tr>\n",
              "    <tr>\n",
              "      <th>3</th>\n",
              "      <td>3박4일 정도 놀러가고 싶다</td>\n",
              "      <td>여행은 언제나 좋죠.</td>\n",
              "      <td>0</td>\n",
              "    </tr>\n",
              "    <tr>\n",
              "      <th>4</th>\n",
              "      <td>PPL 심하네</td>\n",
              "      <td>눈살이 찌푸려지죠.</td>\n",
              "      <td>0</td>\n",
              "    </tr>\n",
              "    <tr>\n",
              "      <th>...</th>\n",
              "      <td>...</td>\n",
              "      <td>...</td>\n",
              "      <td>...</td>\n",
              "    </tr>\n",
              "    <tr>\n",
              "      <th>11818</th>\n",
              "      <td>훔쳐보는 것도 눈치 보임.</td>\n",
              "      <td>티가 나니까 눈치가 보이는 거죠!</td>\n",
              "      <td>2</td>\n",
              "    </tr>\n",
              "    <tr>\n",
              "      <th>11819</th>\n",
              "      <td>훔쳐보는 것도 눈치 보임.</td>\n",
              "      <td>훔쳐보는 거 티나나봐요.</td>\n",
              "      <td>2</td>\n",
              "    </tr>\n",
              "    <tr>\n",
              "      <th>11820</th>\n",
              "      <td>흑기사 해주는 짝남.</td>\n",
              "      <td>설렜겠어요.</td>\n",
              "      <td>2</td>\n",
              "    </tr>\n",
              "    <tr>\n",
              "      <th>11821</th>\n",
              "      <td>힘든 연애 좋은 연애라는게 무슨 차이일까?</td>\n",
              "      <td>잘 헤어질 수 있는 사이 여부인 거 같아요.</td>\n",
              "      <td>2</td>\n",
              "    </tr>\n",
              "    <tr>\n",
              "      <th>11822</th>\n",
              "      <td>힘들어서 결혼할까봐</td>\n",
              "      <td>도피성 결혼은 하지 않길 바라요.</td>\n",
              "      <td>2</td>\n",
              "    </tr>\n",
              "  </tbody>\n",
              "</table>\n",
              "<p>11823 rows × 3 columns</p>\n",
              "</div>"
            ],
            "text/plain": [
              "                             Q                         A  label\n",
              "0                       12시 땡!                하루가 또 가네요.      0\n",
              "1                  1지망 학교 떨어졌어                 위로해 드립니다.      0\n",
              "2                 3박4일 놀러가고 싶다               여행은 언제나 좋죠.      0\n",
              "3              3박4일 정도 놀러가고 싶다               여행은 언제나 좋죠.      0\n",
              "4                      PPL 심하네                눈살이 찌푸려지죠.      0\n",
              "...                        ...                       ...    ...\n",
              "11818           훔쳐보는 것도 눈치 보임.        티가 나니까 눈치가 보이는 거죠!      2\n",
              "11819           훔쳐보는 것도 눈치 보임.             훔쳐보는 거 티나나봐요.      2\n",
              "11820              흑기사 해주는 짝남.                    설렜겠어요.      2\n",
              "11821  힘든 연애 좋은 연애라는게 무슨 차이일까?  잘 헤어질 수 있는 사이 여부인 거 같아요.      2\n",
              "11822               힘들어서 결혼할까봐        도피성 결혼은 하지 않길 바라요.      2\n",
              "\n",
              "[11823 rows x 3 columns]"
            ]
          },
          "metadata": {
            "tags": []
          },
          "execution_count": 60
        }
      ]
    },
    {
      "cell_type": "code",
      "metadata": {
        "id": "lAZD9iR6_oO_",
        "colab": {
          "base_uri": "https://localhost:8080/",
          "height": 377
        },
        "outputId": "9dff7f87-52fe-4339-c720-0457d06b9649"
      },
      "source": [
        "# 랜덤하게 10개만 확인\n",
        "df_train = df_train.sample(10)\n",
        "df_train"
      ],
      "execution_count": 61,
      "outputs": [
        {
          "output_type": "execute_result",
          "data": {
            "text/html": [
              "<div>\n",
              "<style scoped>\n",
              "    .dataframe tbody tr th:only-of-type {\n",
              "        vertical-align: middle;\n",
              "    }\n",
              "\n",
              "    .dataframe tbody tr th {\n",
              "        vertical-align: top;\n",
              "    }\n",
              "\n",
              "    .dataframe thead th {\n",
              "        text-align: right;\n",
              "    }\n",
              "</style>\n",
              "<table border=\"1\" class=\"dataframe\">\n",
              "  <thead>\n",
              "    <tr style=\"text-align: right;\">\n",
              "      <th></th>\n",
              "      <th>Q</th>\n",
              "      <th>A</th>\n",
              "      <th>label</th>\n",
              "    </tr>\n",
              "  </thead>\n",
              "  <tbody>\n",
              "    <tr>\n",
              "      <th>11761</th>\n",
              "      <td>하루종일 썸남 생각만 해. 괜찮을까?</td>\n",
              "      <td>그것 또한 감정의 일부니까요.</td>\n",
              "      <td>2</td>\n",
              "    </tr>\n",
              "    <tr>\n",
              "      <th>924</th>\n",
              "      <td>냉장고에 먹을 게 하나도 없네</td>\n",
              "      <td>슈퍼라도 가서 쇼핑하고 오세요.</td>\n",
              "      <td>0</td>\n",
              "    </tr>\n",
              "    <tr>\n",
              "      <th>3763</th>\n",
              "      <td>인사드리러 갔는데 파혼하는게 나을것 같아</td>\n",
              "      <td>이혼이 아니라 다행입니다.</td>\n",
              "      <td>0</td>\n",
              "    </tr>\n",
              "    <tr>\n",
              "      <th>341</th>\n",
              "      <td>금값 어때</td>\n",
              "      <td>비싸요.</td>\n",
              "      <td>0</td>\n",
              "    </tr>\n",
              "    <tr>\n",
              "      <th>10736</th>\n",
              "      <td>연애상담하더니 둘이 사귀더라</td>\n",
              "      <td>대화를 하다가 친해졌나봐요.</td>\n",
              "      <td>2</td>\n",
              "    </tr>\n",
              "    <tr>\n",
              "      <th>5140</th>\n",
              "      <td>혼자 노래방 가면 어색할 거 같은데</td>\n",
              "      <td>신나는 노래로 분위기를 띄어보세요.</td>\n",
              "      <td>0</td>\n",
              "    </tr>\n",
              "    <tr>\n",
              "      <th>5713</th>\n",
              "      <td>기회도 없네.</td>\n",
              "      <td>다른 기회가 올 거예요.</td>\n",
              "      <td>1</td>\n",
              "    </tr>\n",
              "    <tr>\n",
              "      <th>9996</th>\n",
              "      <td>사랑한 만큼 배려해야했어</td>\n",
              "      <td>이제야 깨달았나봐요.</td>\n",
              "      <td>2</td>\n",
              "    </tr>\n",
              "    <tr>\n",
              "      <th>3168</th>\n",
              "      <td>여자친구가 전화를 안해</td>\n",
              "      <td>다른 연락을 많이 하거나 더 자주 만나세요.</td>\n",
              "      <td>0</td>\n",
              "    </tr>\n",
              "    <tr>\n",
              "      <th>9762</th>\n",
              "      <td>못생긴 남자를 좋아하는 여자가 있을지.</td>\n",
              "      <td>외모가 중요한 시대는 끝났어요.</td>\n",
              "      <td>2</td>\n",
              "    </tr>\n",
              "  </tbody>\n",
              "</table>\n",
              "</div>"
            ],
            "text/plain": [
              "                            Q                         A  label\n",
              "11761    하루종일 썸남 생각만 해. 괜찮을까?          그것 또한 감정의 일부니까요.      2\n",
              "924          냉장고에 먹을 게 하나도 없네         슈퍼라도 가서 쇼핑하고 오세요.      0\n",
              "3763   인사드리러 갔는데 파혼하는게 나을것 같아            이혼이 아니라 다행입니다.      0\n",
              "341                     금값 어때                      비싸요.      0\n",
              "10736         연애상담하더니 둘이 사귀더라           대화를 하다가 친해졌나봐요.      2\n",
              "5140      혼자 노래방 가면 어색할 거 같은데       신나는 노래로 분위기를 띄어보세요.      0\n",
              "5713                  기회도 없네.             다른 기회가 올 거예요.      1\n",
              "9996            사랑한 만큼 배려해야했어               이제야 깨달았나봐요.      2\n",
              "3168             여자친구가 전화를 안해  다른 연락을 많이 하거나 더 자주 만나세요.      0\n",
              "9762    못생긴 남자를 좋아하는 여자가 있을지.         외모가 중요한 시대는 끝났어요.      2"
            ]
          },
          "metadata": {
            "tags": []
          },
          "execution_count": 61
        }
      ]
    },
    {
      "cell_type": "code",
      "metadata": {
        "id": "pkzwlvcVS1cj"
      },
      "source": [
        "def load_data(df, n_enc_seq, n_dec_seq):\n",
        "    \"\"\"\n",
        "    Quora 학습 데이터 생성\n",
        "    :param df: data frame\n",
        "    :param n_enc_seq: number of encoder sequence\n",
        "    :param n_dec_seq: number of decoder sequence\n",
        "    :return enc_inputs: encoder input data\n",
        "    :return dec_inputs: decoder input data\n",
        "    :return labels: label data\n",
        "    \"\"\"\n",
        "    n_enc_max = n_enc_seq  # no additional tag\n",
        "    n_dec_max = n_dec_seq - 1  # [BOS] or [EOS]\n",
        "    enc_inputs = np.zeros((len(df), n_enc_seq)).astype(np.int32)\n",
        "    dec_inputs = np.zeros((len(df), n_dec_seq)).astype(np.int32)\n",
        "    labels = np.zeros((len(df), n_dec_seq)).astype(np.int32)\n",
        "    index = 0\n",
        "    for i, row in tqdm(df.iterrows(), total=len(df)):\n",
        "        # tokens 저장\n",
        "        print()\n",
        "        ###########################################\n",
        "        Q = row['Q']\n",
        "        A = row['A']\n",
        "        print(Q, '/', A)\n",
        "\n",
        "        tokens_q = vocab.encode_as_pieces(Q)\n",
        "        print(len(tokens_q), ':', tokens_q)\n",
        "        tokens_a = vocab.encode_as_pieces(A)\n",
        "        print(len(tokens_a), ':', tokens_a)\n",
        "\n",
        "        # token id 생성\n",
        "        tokens_ids_q = vocab.encode_as_ids(Q)[:n_enc_max]\n",
        "        print(len(tokens_ids_q), ':', tokens_ids_q)\n",
        "        tokens_ids_a = vocab.encode_as_ids(A)[:n_dec_max]\n",
        "        print(len(tokens_ids_a), ':', tokens_ids_a)\n",
        "\n",
        "        # decoder 입출력 생성\n",
        "        tokens_dec_in = [vocab.bos_id()] + tokens_ids_a\n",
        "        tokens_dec_out = tokens_ids_a + [vocab.eos_id()]\n",
        "        \n",
        "        # encoder 입력, dec 입력, dec 출력에 pad 추가\n",
        "        tokens_ids_q += [0] * (n_enc_seq - len(tokens_ids_q))\n",
        "        print(len(tokens_ids_q), ':', tokens_ids_q)\n",
        "        tokens_dec_in += [0] * (n_dec_seq - len(tokens_dec_in))\n",
        "        print(len(tokens_dec_in), ':', tokens_dec_in)\n",
        "        tokens_dec_out += [0] * (n_dec_seq - len(tokens_dec_out))\n",
        "        print(len(tokens_dec_out), ':', tokens_dec_out)\n",
        "\n",
        "        # 값 저장\n",
        "        enc_inputs[index] = tokens_ids_q\n",
        "        dec_inputs[index] = tokens_dec_in\n",
        "        labels[index] = tokens_dec_out\n",
        "        index += 1\n",
        "        ###########################################\n",
        "    return enc_inputs, dec_inputs, labels"
      ],
      "execution_count": 62,
      "outputs": []
    },
    {
      "cell_type": "code",
      "metadata": {
        "id": "bfEwG-jgS4aN",
        "colab": {
          "base_uri": "https://localhost:8080/",
          "height": 1000,
          "referenced_widgets": [
            "f5ab0a84a01842b4a1ed1f2274e84890",
            "3b486872e3474f2a85fa8e661d56e3f8",
            "644b1dcb8e9f4c13b30224a64f69abf4",
            "cbde349fe58f406b8a7b62573acd93b6",
            "7351d464b7f146f198b096e6c971f40d",
            "61b36ef5bbce4086b361343a79748d8b",
            "fb5cd40642c341d7a132f3ddd2174277",
            "e699f9575ab54fcdb15d11bdff5873d0"
          ]
        },
        "outputId": "8a6fadb3-539a-4940-b81a-104d38b18fa1"
      },
      "source": [
        "# train data 생성\n",
        "train_enc_inputs, train_dec_inputs, train_labels = load_data(df_train, n_enc_seq, n_dec_seq)\n",
        "train_enc_inputs, train_dec_inputs, train_labels"
      ],
      "execution_count": 63,
      "outputs": [
        {
          "output_type": "display_data",
          "data": {
            "application/vnd.jupyter.widget-view+json": {
              "model_id": "f5ab0a84a01842b4a1ed1f2274e84890",
              "version_minor": 0,
              "version_major": 2
            },
            "text/plain": [
              "HBox(children=(FloatProgress(value=0.0, max=10.0), HTML(value='')))"
            ]
          },
          "metadata": {
            "tags": []
          }
        },
        {
          "output_type": "stream",
          "text": [
            "\n",
            "하루종일 썸남 생각만 해. 괜찮을까? / 그것 또한 감정의 일부니까요.\n",
            "14 : ['▁하루', '종', '일', '▁', '썸', '남', '▁생각', '만', '▁해', '.', '▁괜찮', '을', '까', '?']\n",
            "8 : ['▁그것', '▁또한', '▁감정', '의', '▁일부', '니까', '요', '.']\n",
            "14 : [2261, 389, 26, 10, 28134, 481, 1162, 62, 210, 7, 22827, 16, 2657, 1860]\n",
            "8 : [8223, 109, 3971, 9, 396, 8933, 431, 7]\n",
            "32 : [2261, 389, 26, 10, 28134, 481, 1162, 62, 210, 7, 22827, 16, 2657, 1860, 0, 0, 0, 0, 0, 0, 0, 0, 0, 0, 0, 0, 0, 0, 0, 0, 0, 0]\n",
            "40 : [2, 8223, 109, 3971, 9, 396, 8933, 431, 7, 0, 0, 0, 0, 0, 0, 0, 0, 0, 0, 0, 0, 0, 0, 0, 0, 0, 0, 0, 0, 0, 0, 0, 0, 0, 0, 0, 0, 0, 0, 0]\n",
            "40 : [8223, 109, 3971, 9, 396, 8933, 431, 7, 3, 0, 0, 0, 0, 0, 0, 0, 0, 0, 0, 0, 0, 0, 0, 0, 0, 0, 0, 0, 0, 0, 0, 0, 0, 0, 0, 0, 0, 0, 0, 0]\n",
            "\n",
            "냉장고에 먹을 게 하나도 없네 / 슈퍼라도 가서 쇼핑하고 오세요.\n",
            "10 : ['▁냉', '장', '고', '에', '▁먹을', '▁게', '▁하나', '도', '▁없', '네']\n",
            "8 : ['▁슈퍼', '라도', '▁가서', '▁쇼핑', '하고', '▁오', '세요', '.']\n",
            "10 : [8255, 147, 37, 13, 12600, 1513, 925, 32, 6943, 343]\n",
            "8 : [2505, 4743, 3424, 15489, 43, 178, 15319, 7]\n",
            "32 : [8255, 147, 37, 13, 12600, 1513, 925, 32, 6943, 343, 0, 0, 0, 0, 0, 0, 0, 0, 0, 0, 0, 0, 0, 0, 0, 0, 0, 0, 0, 0, 0, 0]\n",
            "40 : [2, 2505, 4743, 3424, 15489, 43, 178, 15319, 7, 0, 0, 0, 0, 0, 0, 0, 0, 0, 0, 0, 0, 0, 0, 0, 0, 0, 0, 0, 0, 0, 0, 0, 0, 0, 0, 0, 0, 0, 0, 0]\n",
            "40 : [2505, 4743, 3424, 15489, 43, 178, 15319, 7, 3, 0, 0, 0, 0, 0, 0, 0, 0, 0, 0, 0, 0, 0, 0, 0, 0, 0, 0, 0, 0, 0, 0, 0, 0, 0, 0, 0, 0, 0, 0, 0]\n",
            "\n",
            "인사드리러 갔는데 파혼하는게 나을것 같아 / 이혼이 아니라 다행입니다.\n",
            "13 : ['▁인사', '드리', '러', '▁', '갔는데', '▁파', '혼', '하는', '게', '▁나', '을', '것', '▁같아']\n",
            "7 : ['▁이혼', '이', '▁아니라', '▁다', '행', '입니다', '.']\n",
            "13 : [3299, 5537, 447, 10, 19191, 437, 1980, 42, 128, 339, 16, 5922, 15509]\n",
            "7 : [4620, 17, 465, 262, 624, 5304, 7]\n",
            "32 : [3299, 5537, 447, 10, 19191, 437, 1980, 42, 128, 339, 16, 5922, 15509, 0, 0, 0, 0, 0, 0, 0, 0, 0, 0, 0, 0, 0, 0, 0, 0, 0, 0, 0]\n",
            "40 : [2, 4620, 17, 465, 262, 624, 5304, 7, 0, 0, 0, 0, 0, 0, 0, 0, 0, 0, 0, 0, 0, 0, 0, 0, 0, 0, 0, 0, 0, 0, 0, 0, 0, 0, 0, 0, 0, 0, 0, 0]\n",
            "40 : [4620, 17, 465, 262, 624, 5304, 7, 3, 0, 0, 0, 0, 0, 0, 0, 0, 0, 0, 0, 0, 0, 0, 0, 0, 0, 0, 0, 0, 0, 0, 0, 0, 0, 0, 0, 0, 0, 0, 0, 0]\n",
            "\n",
            "금값 어때 / 비싸요.\n",
            "4 : ['▁금', '값', '▁어', '때']\n",
            "3 : ['▁비싸', '요', '.']\n",
            "4 : [631, 4167, 492, 1406]\n",
            "3 : [22324, 431, 7]\n",
            "32 : [631, 4167, 492, 1406, 0, 0, 0, 0, 0, 0, 0, 0, 0, 0, 0, 0, 0, 0, 0, 0, 0, 0, 0, 0, 0, 0, 0, 0, 0, 0, 0, 0]\n",
            "40 : [2, 22324, 431, 7, 0, 0, 0, 0, 0, 0, 0, 0, 0, 0, 0, 0, 0, 0, 0, 0, 0, 0, 0, 0, 0, 0, 0, 0, 0, 0, 0, 0, 0, 0, 0, 0, 0, 0, 0, 0]\n",
            "40 : [22324, 431, 7, 3, 0, 0, 0, 0, 0, 0, 0, 0, 0, 0, 0, 0, 0, 0, 0, 0, 0, 0, 0, 0, 0, 0, 0, 0, 0, 0, 0, 0, 0, 0, 0, 0, 0, 0, 0, 0]\n",
            "\n",
            "연애상담하더니 둘이 사귀더라 / 대화를 하다가 친해졌나봐요.\n",
            "8 : ['▁연애', '상담', '하', '더니', '▁둘이', '▁사귀', '더', '라']\n",
            "9 : ['▁대화를', '▁하다가', '▁친', '해', '졌', '나', '봐', '요', '.']\n",
            "8 : [8256, 24051, 237, 10451, 19702, 21096, 502, 96]\n",
            "9 : [16006, 7466, 1145, 61, 14916, 58, 15346, 431, 7]\n",
            "32 : [8256, 24051, 237, 10451, 19702, 21096, 502, 96, 0, 0, 0, 0, 0, 0, 0, 0, 0, 0, 0, 0, 0, 0, 0, 0, 0, 0, 0, 0, 0, 0, 0, 0]\n",
            "40 : [2, 16006, 7466, 1145, 61, 14916, 58, 15346, 431, 7, 0, 0, 0, 0, 0, 0, 0, 0, 0, 0, 0, 0, 0, 0, 0, 0, 0, 0, 0, 0, 0, 0, 0, 0, 0, 0, 0, 0, 0, 0]\n",
            "40 : [16006, 7466, 1145, 61, 14916, 58, 15346, 431, 7, 3, 0, 0, 0, 0, 0, 0, 0, 0, 0, 0, 0, 0, 0, 0, 0, 0, 0, 0, 0, 0, 0, 0, 0, 0, 0, 0, 0, 0, 0, 0]\n",
            "\n",
            "혼자 노래방 가면 어색할 거 같은데 / 신나는 노래로 분위기를 띄어보세요.\n",
            "10 : ['▁혼자', '▁노래', '방', '▁가면', '▁어', '색', '할', '▁거', '▁같은', '데']\n",
            "8 : ['▁신', '나는', '▁노래로', '▁분위기를', '▁띄어', '보', '세요', '.']\n",
            "10 : [8121, 1186, 377, 9379, 492, 905, 60, 1140, 98, 298]\n",
            "8 : [186, 3649, 16788, 14055, 26898, 191, 15319, 7]\n",
            "32 : [8121, 1186, 377, 9379, 492, 905, 60, 1140, 98, 298, 0, 0, 0, 0, 0, 0, 0, 0, 0, 0, 0, 0, 0, 0, 0, 0, 0, 0, 0, 0, 0, 0]\n",
            "40 : [2, 186, 3649, 16788, 14055, 26898, 191, 15319, 7, 0, 0, 0, 0, 0, 0, 0, 0, 0, 0, 0, 0, 0, 0, 0, 0, 0, 0, 0, 0, 0, 0, 0, 0, 0, 0, 0, 0, 0, 0, 0]\n",
            "40 : [186, 3649, 16788, 14055, 26898, 191, 15319, 7, 3, 0, 0, 0, 0, 0, 0, 0, 0, 0, 0, 0, 0, 0, 0, 0, 0, 0, 0, 0, 0, 0, 0, 0, 0, 0, 0, 0, 0, 0, 0, 0]\n",
            "\n",
            "기회도 없네. / 다른 기회가 올 거예요.\n",
            "5 : ['▁기회', '도', '▁없', '네', '.']\n",
            "8 : ['▁다른', '▁기회', '가', '▁올', '▁거', '예', '요', '.']\n",
            "5 : [4828, 32, 6943, 343, 7]\n",
            "8 : [93, 4828, 19, 1793, 1140, 625, 431, 7]\n",
            "32 : [4828, 32, 6943, 343, 7, 0, 0, 0, 0, 0, 0, 0, 0, 0, 0, 0, 0, 0, 0, 0, 0, 0, 0, 0, 0, 0, 0, 0, 0, 0, 0, 0]\n",
            "40 : [2, 93, 4828, 19, 1793, 1140, 625, 431, 7, 0, 0, 0, 0, 0, 0, 0, 0, 0, 0, 0, 0, 0, 0, 0, 0, 0, 0, 0, 0, 0, 0, 0, 0, 0, 0, 0, 0, 0, 0, 0]\n",
            "40 : [93, 4828, 19, 1793, 1140, 625, 431, 7, 3, 0, 0, 0, 0, 0, 0, 0, 0, 0, 0, 0, 0, 0, 0, 0, 0, 0, 0, 0, 0, 0, 0, 0, 0, 0, 0, 0, 0, 0, 0, 0]\n",
            "\n",
            "사랑한 만큼 배려해야했어 / 이제야 깨달았나봐요.\n",
            "7 : ['▁사랑', '한', '▁만큼', '▁배려', '해야', '했', '어']\n",
            "9 : ['▁이제', '야', '▁깨', '달', '았', '나', '봐', '요', '.']\n",
            "7 : [1816, 33, 2881, 14519, 755, 5120, 110]\n",
            "9 : [3379, 173, 4221, 726, 9815, 58, 15346, 431, 7]\n",
            "32 : [1816, 33, 2881, 14519, 755, 5120, 110, 0, 0, 0, 0, 0, 0, 0, 0, 0, 0, 0, 0, 0, 0, 0, 0, 0, 0, 0, 0, 0, 0, 0, 0, 0]\n",
            "40 : [2, 3379, 173, 4221, 726, 9815, 58, 15346, 431, 7, 0, 0, 0, 0, 0, 0, 0, 0, 0, 0, 0, 0, 0, 0, 0, 0, 0, 0, 0, 0, 0, 0, 0, 0, 0, 0, 0, 0, 0, 0]\n",
            "40 : [3379, 173, 4221, 726, 9815, 58, 15346, 431, 7, 3, 0, 0, 0, 0, 0, 0, 0, 0, 0, 0, 0, 0, 0, 0, 0, 0, 0, 0, 0, 0, 0, 0, 0, 0, 0, 0, 0, 0, 0, 0]\n",
            "\n",
            "여자친구가 전화를 안해 / 다른 연락을 많이 하거나 더 자주 만나세요.\n",
            "5 : ['▁여자친구', '가', '▁전화를', '▁안', '해']\n",
            "10 : ['▁다른', '▁연락', '을', '▁많이', '▁하거나', '▁더', '▁자주', '▁만나', '세요', '.']\n",
            "5 : [19577, 19, 16656, 295, 61]\n",
            "10 : [93, 5324, 16, 522, 10087, 149, 1377, 2014, 15319, 7]\n",
            "32 : [19577, 19, 16656, 295, 61, 0, 0, 0, 0, 0, 0, 0, 0, 0, 0, 0, 0, 0, 0, 0, 0, 0, 0, 0, 0, 0, 0, 0, 0, 0, 0, 0]\n",
            "40 : [2, 93, 5324, 16, 522, 10087, 149, 1377, 2014, 15319, 7, 0, 0, 0, 0, 0, 0, 0, 0, 0, 0, 0, 0, 0, 0, 0, 0, 0, 0, 0, 0, 0, 0, 0, 0, 0, 0, 0, 0, 0]\n",
            "40 : [93, 5324, 16, 522, 10087, 149, 1377, 2014, 15319, 7, 3, 0, 0, 0, 0, 0, 0, 0, 0, 0, 0, 0, 0, 0, 0, 0, 0, 0, 0, 0, 0, 0, 0, 0, 0, 0, 0, 0, 0, 0]\n",
            "\n",
            "못생긴 남자를 좋아하는 여자가 있을지. / 외모가 중요한 시대는 끝났어요.\n",
            "11 : ['▁못', '생', '긴', '▁남자', '를', '▁좋아하는', '▁여자', '가', '▁있을', '지', '.']\n",
            "8 : ['▁외모', '가', '▁중요한', '▁시대', '는', '▁끝났', '어요', '.']\n",
            "11 : [1382, 489, 1994, 1041, 20, 8272, 646, 19, 860, 47, 7]\n",
            "8 : [11826, 19, 705, 821, 11, 16489, 15963, 7]\n",
            "32 : [1382, 489, 1994, 1041, 20, 8272, 646, 19, 860, 47, 7, 0, 0, 0, 0, 0, 0, 0, 0, 0, 0, 0, 0, 0, 0, 0, 0, 0, 0, 0, 0, 0]\n",
            "40 : [2, 11826, 19, 705, 821, 11, 16489, 15963, 7, 0, 0, 0, 0, 0, 0, 0, 0, 0, 0, 0, 0, 0, 0, 0, 0, 0, 0, 0, 0, 0, 0, 0, 0, 0, 0, 0, 0, 0, 0, 0]\n",
            "40 : [11826, 19, 705, 821, 11, 16489, 15963, 7, 3, 0, 0, 0, 0, 0, 0, 0, 0, 0, 0, 0, 0, 0, 0, 0, 0, 0, 0, 0, 0, 0, 0, 0, 0, 0, 0, 0, 0, 0, 0, 0]\n",
            "\n"
          ],
          "name": "stdout"
        },
        {
          "output_type": "execute_result",
          "data": {
            "text/plain": [
              "(array([[ 2261,   389,    26,    10, 28134,   481,  1162,    62,   210,\n",
              "             7, 22827,    16,  2657,  1860,     0,     0,     0,     0,\n",
              "             0,     0,     0,     0,     0,     0,     0,     0,     0,\n",
              "             0,     0,     0,     0,     0],\n",
              "        [ 8255,   147,    37,    13, 12600,  1513,   925,    32,  6943,\n",
              "           343,     0,     0,     0,     0,     0,     0,     0,     0,\n",
              "             0,     0,     0,     0,     0,     0,     0,     0,     0,\n",
              "             0,     0,     0,     0,     0],\n",
              "        [ 3299,  5537,   447,    10, 19191,   437,  1980,    42,   128,\n",
              "           339,    16,  5922, 15509,     0,     0,     0,     0,     0,\n",
              "             0,     0,     0,     0,     0,     0,     0,     0,     0,\n",
              "             0,     0,     0,     0,     0],\n",
              "        [  631,  4167,   492,  1406,     0,     0,     0,     0,     0,\n",
              "             0,     0,     0,     0,     0,     0,     0,     0,     0,\n",
              "             0,     0,     0,     0,     0,     0,     0,     0,     0,\n",
              "             0,     0,     0,     0,     0],\n",
              "        [ 8256, 24051,   237, 10451, 19702, 21096,   502,    96,     0,\n",
              "             0,     0,     0,     0,     0,     0,     0,     0,     0,\n",
              "             0,     0,     0,     0,     0,     0,     0,     0,     0,\n",
              "             0,     0,     0,     0,     0],\n",
              "        [ 8121,  1186,   377,  9379,   492,   905,    60,  1140,    98,\n",
              "           298,     0,     0,     0,     0,     0,     0,     0,     0,\n",
              "             0,     0,     0,     0,     0,     0,     0,     0,     0,\n",
              "             0,     0,     0,     0,     0],\n",
              "        [ 4828,    32,  6943,   343,     7,     0,     0,     0,     0,\n",
              "             0,     0,     0,     0,     0,     0,     0,     0,     0,\n",
              "             0,     0,     0,     0,     0,     0,     0,     0,     0,\n",
              "             0,     0,     0,     0,     0],\n",
              "        [ 1816,    33,  2881, 14519,   755,  5120,   110,     0,     0,\n",
              "             0,     0,     0,     0,     0,     0,     0,     0,     0,\n",
              "             0,     0,     0,     0,     0,     0,     0,     0,     0,\n",
              "             0,     0,     0,     0,     0],\n",
              "        [19577,    19, 16656,   295,    61,     0,     0,     0,     0,\n",
              "             0,     0,     0,     0,     0,     0,     0,     0,     0,\n",
              "             0,     0,     0,     0,     0,     0,     0,     0,     0,\n",
              "             0,     0,     0,     0,     0],\n",
              "        [ 1382,   489,  1994,  1041,    20,  8272,   646,    19,   860,\n",
              "            47,     7,     0,     0,     0,     0,     0,     0,     0,\n",
              "             0,     0,     0,     0,     0,     0,     0,     0,     0,\n",
              "             0,     0,     0,     0,     0]], dtype=int32),\n",
              " array([[    2,  8223,   109,  3971,     9,   396,  8933,   431,     7,\n",
              "             0,     0,     0,     0,     0,     0,     0,     0,     0,\n",
              "             0,     0,     0,     0,     0,     0,     0,     0,     0,\n",
              "             0,     0,     0,     0,     0,     0,     0,     0,     0,\n",
              "             0,     0,     0,     0],\n",
              "        [    2,  2505,  4743,  3424, 15489,    43,   178, 15319,     7,\n",
              "             0,     0,     0,     0,     0,     0,     0,     0,     0,\n",
              "             0,     0,     0,     0,     0,     0,     0,     0,     0,\n",
              "             0,     0,     0,     0,     0,     0,     0,     0,     0,\n",
              "             0,     0,     0,     0],\n",
              "        [    2,  4620,    17,   465,   262,   624,  5304,     7,     0,\n",
              "             0,     0,     0,     0,     0,     0,     0,     0,     0,\n",
              "             0,     0,     0,     0,     0,     0,     0,     0,     0,\n",
              "             0,     0,     0,     0,     0,     0,     0,     0,     0,\n",
              "             0,     0,     0,     0],\n",
              "        [    2, 22324,   431,     7,     0,     0,     0,     0,     0,\n",
              "             0,     0,     0,     0,     0,     0,     0,     0,     0,\n",
              "             0,     0,     0,     0,     0,     0,     0,     0,     0,\n",
              "             0,     0,     0,     0,     0,     0,     0,     0,     0,\n",
              "             0,     0,     0,     0],\n",
              "        [    2, 16006,  7466,  1145,    61, 14916,    58, 15346,   431,\n",
              "             7,     0,     0,     0,     0,     0,     0,     0,     0,\n",
              "             0,     0,     0,     0,     0,     0,     0,     0,     0,\n",
              "             0,     0,     0,     0,     0,     0,     0,     0,     0,\n",
              "             0,     0,     0,     0],\n",
              "        [    2,   186,  3649, 16788, 14055, 26898,   191, 15319,     7,\n",
              "             0,     0,     0,     0,     0,     0,     0,     0,     0,\n",
              "             0,     0,     0,     0,     0,     0,     0,     0,     0,\n",
              "             0,     0,     0,     0,     0,     0,     0,     0,     0,\n",
              "             0,     0,     0,     0],\n",
              "        [    2,    93,  4828,    19,  1793,  1140,   625,   431,     7,\n",
              "             0,     0,     0,     0,     0,     0,     0,     0,     0,\n",
              "             0,     0,     0,     0,     0,     0,     0,     0,     0,\n",
              "             0,     0,     0,     0,     0,     0,     0,     0,     0,\n",
              "             0,     0,     0,     0],\n",
              "        [    2,  3379,   173,  4221,   726,  9815,    58, 15346,   431,\n",
              "             7,     0,     0,     0,     0,     0,     0,     0,     0,\n",
              "             0,     0,     0,     0,     0,     0,     0,     0,     0,\n",
              "             0,     0,     0,     0,     0,     0,     0,     0,     0,\n",
              "             0,     0,     0,     0],\n",
              "        [    2,    93,  5324,    16,   522, 10087,   149,  1377,  2014,\n",
              "         15319,     7,     0,     0,     0,     0,     0,     0,     0,\n",
              "             0,     0,     0,     0,     0,     0,     0,     0,     0,\n",
              "             0,     0,     0,     0,     0,     0,     0,     0,     0,\n",
              "             0,     0,     0,     0],\n",
              "        [    2, 11826,    19,   705,   821,    11, 16489, 15963,     7,\n",
              "             0,     0,     0,     0,     0,     0,     0,     0,     0,\n",
              "             0,     0,     0,     0,     0,     0,     0,     0,     0,\n",
              "             0,     0,     0,     0,     0,     0,     0,     0,     0,\n",
              "             0,     0,     0,     0]], dtype=int32),\n",
              " array([[ 8223,   109,  3971,     9,   396,  8933,   431,     7,     3,\n",
              "             0,     0,     0,     0,     0,     0,     0,     0,     0,\n",
              "             0,     0,     0,     0,     0,     0,     0,     0,     0,\n",
              "             0,     0,     0,     0,     0,     0,     0,     0,     0,\n",
              "             0,     0,     0,     0],\n",
              "        [ 2505,  4743,  3424, 15489,    43,   178, 15319,     7,     3,\n",
              "             0,     0,     0,     0,     0,     0,     0,     0,     0,\n",
              "             0,     0,     0,     0,     0,     0,     0,     0,     0,\n",
              "             0,     0,     0,     0,     0,     0,     0,     0,     0,\n",
              "             0,     0,     0,     0],\n",
              "        [ 4620,    17,   465,   262,   624,  5304,     7,     3,     0,\n",
              "             0,     0,     0,     0,     0,     0,     0,     0,     0,\n",
              "             0,     0,     0,     0,     0,     0,     0,     0,     0,\n",
              "             0,     0,     0,     0,     0,     0,     0,     0,     0,\n",
              "             0,     0,     0,     0],\n",
              "        [22324,   431,     7,     3,     0,     0,     0,     0,     0,\n",
              "             0,     0,     0,     0,     0,     0,     0,     0,     0,\n",
              "             0,     0,     0,     0,     0,     0,     0,     0,     0,\n",
              "             0,     0,     0,     0,     0,     0,     0,     0,     0,\n",
              "             0,     0,     0,     0],\n",
              "        [16006,  7466,  1145,    61, 14916,    58, 15346,   431,     7,\n",
              "             3,     0,     0,     0,     0,     0,     0,     0,     0,\n",
              "             0,     0,     0,     0,     0,     0,     0,     0,     0,\n",
              "             0,     0,     0,     0,     0,     0,     0,     0,     0,\n",
              "             0,     0,     0,     0],\n",
              "        [  186,  3649, 16788, 14055, 26898,   191, 15319,     7,     3,\n",
              "             0,     0,     0,     0,     0,     0,     0,     0,     0,\n",
              "             0,     0,     0,     0,     0,     0,     0,     0,     0,\n",
              "             0,     0,     0,     0,     0,     0,     0,     0,     0,\n",
              "             0,     0,     0,     0],\n",
              "        [   93,  4828,    19,  1793,  1140,   625,   431,     7,     3,\n",
              "             0,     0,     0,     0,     0,     0,     0,     0,     0,\n",
              "             0,     0,     0,     0,     0,     0,     0,     0,     0,\n",
              "             0,     0,     0,     0,     0,     0,     0,     0,     0,\n",
              "             0,     0,     0,     0],\n",
              "        [ 3379,   173,  4221,   726,  9815,    58, 15346,   431,     7,\n",
              "             3,     0,     0,     0,     0,     0,     0,     0,     0,\n",
              "             0,     0,     0,     0,     0,     0,     0,     0,     0,\n",
              "             0,     0,     0,     0,     0,     0,     0,     0,     0,\n",
              "             0,     0,     0,     0],\n",
              "        [   93,  5324,    16,   522, 10087,   149,  1377,  2014, 15319,\n",
              "             7,     3,     0,     0,     0,     0,     0,     0,     0,\n",
              "             0,     0,     0,     0,     0,     0,     0,     0,     0,\n",
              "             0,     0,     0,     0,     0,     0,     0,     0,     0,\n",
              "             0,     0,     0,     0],\n",
              "        [11826,    19,   705,   821,    11, 16489, 15963,     7,     3,\n",
              "             0,     0,     0,     0,     0,     0,     0,     0,     0,\n",
              "             0,     0,     0,     0,     0,     0,     0,     0,     0,\n",
              "             0,     0,     0,     0,     0,     0,     0,     0,     0,\n",
              "             0,     0,     0,     0]], dtype=int32))"
            ]
          },
          "metadata": {
            "tags": []
          },
          "execution_count": 63
        }
      ]
    },
    {
      "cell_type": "markdown",
      "metadata": {
        "id": "IFTsdA3kE2h-"
      },
      "source": [
        "## 학습"
      ]
    },
    {
      "cell_type": "code",
      "metadata": {
        "id": "KxTRu5kVNA59",
        "colab": {
          "base_uri": "https://localhost:8080/",
          "height": 346
        },
        "outputId": "35f8dfd1-ebef-402b-8006-610be4142633"
      },
      "source": [
        "# 모델 생성\n",
        "model = build_model(len(vocab), d_model, n_enc_seq, n_dec_seq)\n",
        "# 모델 내용 그래프 출력\n",
        "tf.keras.utils.plot_model(model, 'model.png', show_shapes=True)"
      ],
      "execution_count": 64,
      "outputs": [
        {
          "output_type": "execute_result",
          "data": {
            "image/png": "[encoded data removed]",
            "text/plain": [
              "<IPython.core.display.Image object>"
            ]
          },
          "metadata": {
            "tags": []
          },
          "execution_count": 64
        }
      ]
    },
    {
      "cell_type": "code",
      "metadata": {
        "id": "X7UDvaPqEx1c"
      },
      "source": [
        "# 모델 loss, optimizer, metric 정의\n",
        "model.compile(loss=lm_loss, optimizer='adam', metrics=[lm_acc])"
      ],
      "execution_count": 65,
      "outputs": []
    },
    {
      "cell_type": "code",
      "metadata": {
        "id": "-FQBJ2aQLXdp"
      },
      "source": [
        "# early stopping\n",
        "early_stopping = tf.keras.callbacks.EarlyStopping(monitor='lm_acc', patience=100)\n",
        "# save weights callback\n",
        "save_weights = tf.keras.callbacks.ModelCheckpoint(os.path.join(songys_dir, 'lstm.hdf5'),\n",
        "                                                  monitor='lm_acc',\n",
        "                                                  verbose=1,\n",
        "                                                  save_best_only=True,\n",
        "                                                  mode=\"max\",\n",
        "                                                  save_freq=\"epoch\",\n",
        "                                                  save_weights_only=True)\n",
        "# csv logger\n",
        "csv_logger = tf.keras.callbacks.CSVLogger(os.path.join(songys_dir, 'lstm.csv'))"
      ],
      "execution_count": 66,
      "outputs": []
    },
    {
      "cell_type": "code",
      "metadata": {
        "id": "MSyF0MvAFGoJ"
      },
      "source": [
        "# 모델 학습\n",
        "history = model.fit((train_enc_inputs, train_dec_inputs),\n",
        "                    train_labels,\n",
        "                    epochs=400,\n",
        "                    batch_size=256,\n",
        "                    callbacks=[early_stopping, save_weights, csv_logger])"
      ],
      "execution_count": null,
      "outputs": []
    },
    {
      "cell_type": "code",
      "metadata": {
        "id": "m1UWJMf4FTiZ",
        "colab": {
          "base_uri": "https://localhost:8080/",
          "height": 262
        },
        "outputId": "a8af6505-aa87-40a2-e890-bc4cea551704"
      },
      "source": [
        "plt.figure(figsize=(12, 4))\n",
        "\n",
        "plt.subplot(1, 2, 1)\n",
        "plt.plot(history.history['loss'], 'b-', label='loss')\n",
        "plt.xlabel('Epoch')\n",
        "plt.legend()\n",
        "\n",
        "plt.subplot(1, 2, 2)\n",
        "plt.plot(history.history['lm_acc'], 'g-', label='acc')\n",
        "plt.xlabel('Epoch')\n",
        "plt.legend()\n",
        "\n",
        "plt.show()"
      ],
      "execution_count": 68,
      "outputs": [
        {
          "output_type": "display_data",
          "data": {
            "image/png": "[encoded data removed]",
            "text/plain": [
              "<Figure size 864x288 with 2 Axes>"
            ]
          },
          "metadata": {
            "tags": [],
            "needs_background": "light"
          }
        }
      ]
    },
    {
      "cell_type": "markdown",
      "metadata": {
        "id": "PQvKAxTbaEpt"
      },
      "source": [
        "## Inference"
      ]
    },
    {
      "cell_type": "code",
      "metadata": {
        "id": "ZuK60XkEOSUS"
      },
      "source": [
        "# 모델 생성\n",
        "model = build_model(len(vocab), d_model, n_enc_seq, n_dec_seq)\n",
        "# train weight로 초기화\n",
        "model.load_weights(os.path.join(songys_dir, 'lstm.hdf5'))"
      ],
      "execution_count": 69,
      "outputs": []
    },
    {
      "cell_type": "code",
      "metadata": {
        "id": "KzaDEUSbaeu4"
      },
      "source": [
        "def do_chat(vocab, model, n_enc_seq, n_dec_seq, string):\n",
        "    \"\"\"\n",
        "    seq2seq chat\n",
        "    :param vocab: vocab\n",
        "    :param model: model\n",
        "    :param n_enc_seq: number of enc seqence\n",
        "    :param n_dec_seq: number of dec seqence\n",
        "    :param string: inpust string\n",
        "    \"\"\"\n",
        "    #####################################\n",
        "    # qeustion\n",
        "    q = vocab.encode_as_pieces(string)\n",
        "    print(q)\n",
        "    q_id = vocab.encode_as_ids(string)[:n_enc_seq]\n",
        "    q_id += [0] * (n_enc_seq - len(q_id))\n",
        "    print(len(q_id), q_id)\n",
        "    assert len(q_id) == n_enc_seq\n",
        "\n",
        "    # answer\n",
        "    a_id = [vocab.bos_id()]\n",
        "    a_id += [0] * (n_dec_seq - len(a_id))\n",
        "    print(len(a_id), a_id)\n",
        "    assert len(a_id) == n_dec_seq\n",
        "\n",
        "    # 처음부터 예측\n",
        "    start_idx = 0\n",
        "\n",
        "    for _ in range(0, n_dec_seq - 1):\n",
        "        # 다음단어 예측\n",
        "        outputs = model.predict((np.array([q_id]), np.array([a_id])))\n",
        "        # print(outputs.shape)\n",
        "        prob = outputs[0][start_idx]\n",
        "        word_id = int(np.argmax(prob))\n",
        "        # print(prob[word_id - 5:word_id + 5])\n",
        "        print(word_id, vocab.id_to_piece(word_id))\n",
        "        # eos면 종료\n",
        "        if word_id == vocab.eos_id():\n",
        "            break\n",
        "        a_id[start_idx + 1] = word_id\n",
        "        start_idx += 1\n",
        "        print(start_idx, a_id)\n",
        "\n",
        "    predict_id = a_id[1:start_idx + 1]\n",
        "    print(predict_id)\n",
        "    predict_str = vocab.decode_ids(predict_id)\n",
        "    return predict_str\n",
        "    #####################################"
      ],
      "execution_count": 70,
      "outputs": []
    },
    {
      "cell_type": "code",
      "metadata": {
        "id": "b44EoEoWes4R",
        "colab": {
          "base_uri": "https://localhost:8080/",
          "height": 354
        },
        "outputId": "e33ae4f4-d09c-42cc-ee89-c98fa9a6cc5c"
      },
      "source": [
        "string = '너는 누구니'\n",
        "do_chat(vocab, model, n_enc_seq, n_dec_seq, string)"
      ],
      "execution_count": 71,
      "outputs": [
        {
          "output_type": "stream",
          "text": [
            "['▁너', '는', '▁누구', '니']\n",
            "32 [5103, 11, 8214, 213, 0, 0, 0, 0, 0, 0, 0, 0, 0, 0, 0, 0, 0, 0, 0, 0, 0, 0, 0, 0, 0, 0, 0, 0, 0, 0, 0, 0]\n",
            "40 [2, 0, 0, 0, 0, 0, 0, 0, 0, 0, 0, 0, 0, 0, 0, 0, 0, 0, 0, 0, 0, 0, 0, 0, 0, 0, 0, 0, 0, 0, 0, 0, 0, 0, 0, 0, 0, 0, 0, 0]\n",
            "93 ▁다른\n",
            "1 [2, 93, 0, 0, 0, 0, 0, 0, 0, 0, 0, 0, 0, 0, 0, 0, 0, 0, 0, 0, 0, 0, 0, 0, 0, 0, 0, 0, 0, 0, 0, 0, 0, 0, 0, 0, 0, 0, 0, 0]\n",
            "4828 ▁기회\n",
            "2 [2, 93, 4828, 0, 0, 0, 0, 0, 0, 0, 0, 0, 0, 0, 0, 0, 0, 0, 0, 0, 0, 0, 0, 0, 0, 0, 0, 0, 0, 0, 0, 0, 0, 0, 0, 0, 0, 0, 0, 0]\n",
            "19 가\n",
            "3 [2, 93, 4828, 19, 0, 0, 0, 0, 0, 0, 0, 0, 0, 0, 0, 0, 0, 0, 0, 0, 0, 0, 0, 0, 0, 0, 0, 0, 0, 0, 0, 0, 0, 0, 0, 0, 0, 0, 0, 0]\n",
            "1793 ▁올\n",
            "4 [2, 93, 4828, 19, 1793, 0, 0, 0, 0, 0, 0, 0, 0, 0, 0, 0, 0, 0, 0, 0, 0, 0, 0, 0, 0, 0, 0, 0, 0, 0, 0, 0, 0, 0, 0, 0, 0, 0, 0, 0]\n",
            "1140 ▁거\n",
            "5 [2, 93, 4828, 19, 1793, 1140, 0, 0, 0, 0, 0, 0, 0, 0, 0, 0, 0, 0, 0, 0, 0, 0, 0, 0, 0, 0, 0, 0, 0, 0, 0, 0, 0, 0, 0, 0, 0, 0, 0, 0]\n",
            "58 나\n",
            "6 [2, 93, 4828, 19, 1793, 1140, 58, 0, 0, 0, 0, 0, 0, 0, 0, 0, 0, 0, 0, 0, 0, 0, 0, 0, 0, 0, 0, 0, 0, 0, 0, 0, 0, 0, 0, 0, 0, 0, 0, 0]\n",
            "3 [EOS]\n",
            "[93, 4828, 19, 1793, 1140, 58]\n"
          ],
          "name": "stdout"
        },
        {
          "output_type": "execute_result",
          "data": {
            "application/vnd.google.colaboratory.intrinsic+json": {
              "type": "string"
            },
            "text/plain": [
              "'다른 기회가 올 거나'"
            ]
          },
          "metadata": {
            "tags": []
          },
          "execution_count": 71
        }
      ]
    },
    {
      "cell_type": "code",
      "metadata": {
        "id": "mQVkuBylavCr",
        "colab": {
          "base_uri": "https://localhost:8080/"
        },
        "outputId": "abdadbe6-f32a-407d-a583-3571a9fe7ed0"
      },
      "source": [
        "while True:\n",
        "    string = input('질문 > ')\n",
        "    string = string.strip()\n",
        "    if len(string) == 0:\n",
        "        break\n",
        "    predict_str = do_chat(vocab, model, n_enc_seq, n_dec_seq, string)\n",
        "    print(f'답변 > {predict_str}')"
      ],
      "execution_count": 72,
      "outputs": [
        {
          "output_type": "stream",
          "text": [
            "질문 > 만낫서 반가워\n",
            "['▁만', '낫', '서', '▁반', '가', '워']\n",
            "32 [571, 30167, 70, 358, 19, 1384, 0, 0, 0, 0, 0, 0, 0, 0, 0, 0, 0, 0, 0, 0, 0, 0, 0, 0, 0, 0, 0, 0, 0, 0, 0, 0]\n",
            "40 [2, 0, 0, 0, 0, 0, 0, 0, 0, 0, 0, 0, 0, 0, 0, 0, 0, 0, 0, 0, 0, 0, 0, 0, 0, 0, 0, 0, 0, 0, 0, 0, 0, 0, 0, 0, 0, 0, 0, 0]\n",
            "93 ▁다른\n",
            "1 [2, 93, 0, 0, 0, 0, 0, 0, 0, 0, 0, 0, 0, 0, 0, 0, 0, 0, 0, 0, 0, 0, 0, 0, 0, 0, 0, 0, 0, 0, 0, 0, 0, 0, 0, 0, 0, 0, 0, 0]\n",
            "5324 ▁연락\n",
            "2 [2, 93, 5324, 0, 0, 0, 0, 0, 0, 0, 0, 0, 0, 0, 0, 0, 0, 0, 0, 0, 0, 0, 0, 0, 0, 0, 0, 0, 0, 0, 0, 0, 0, 0, 0, 0, 0, 0, 0, 0]\n",
            "16 을\n",
            "3 [2, 93, 5324, 16, 0, 0, 0, 0, 0, 0, 0, 0, 0, 0, 0, 0, 0, 0, 0, 0, 0, 0, 0, 0, 0, 0, 0, 0, 0, 0, 0, 0, 0, 0, 0, 0, 0, 0, 0, 0]\n",
            "522 ▁많이\n",
            "4 [2, 93, 5324, 16, 522, 0, 0, 0, 0, 0, 0, 0, 0, 0, 0, 0, 0, 0, 0, 0, 0, 0, 0, 0, 0, 0, 0, 0, 0, 0, 0, 0, 0, 0, 0, 0, 0, 0, 0, 0]\n",
            "26898 ▁띄어\n",
            "5 [2, 93, 5324, 16, 522, 26898, 0, 0, 0, 0, 0, 0, 0, 0, 0, 0, 0, 0, 0, 0, 0, 0, 0, 0, 0, 0, 0, 0, 0, 0, 0, 0, 0, 0, 0, 0, 0, 0, 0, 0]\n",
            "191 보\n",
            "6 [2, 93, 5324, 16, 522, 26898, 191, 0, 0, 0, 0, 0, 0, 0, 0, 0, 0, 0, 0, 0, 0, 0, 0, 0, 0, 0, 0, 0, 0, 0, 0, 0, 0, 0, 0, 0, 0, 0, 0, 0]\n",
            "3 [EOS]\n",
            "[93, 5324, 16, 522, 26898, 191]\n",
            "답변 > 다른 연락을 많이 띄어보\n",
            "질문 > 나랑 같이 놀자\n",
            "['▁나', '랑', '▁같이', '▁놀', '자']\n",
            "32 [339, 637, 412, 4624, 71, 0, 0, 0, 0, 0, 0, 0, 0, 0, 0, 0, 0, 0, 0, 0, 0, 0, 0, 0, 0, 0, 0, 0, 0, 0, 0, 0]\n",
            "40 [2, 0, 0, 0, 0, 0, 0, 0, 0, 0, 0, 0, 0, 0, 0, 0, 0, 0, 0, 0, 0, 0, 0, 0, 0, 0, 0, 0, 0, 0, 0, 0, 0, 0, 0, 0, 0, 0, 0, 0]\n",
            "93 ▁다른\n",
            "1 [2, 93, 0, 0, 0, 0, 0, 0, 0, 0, 0, 0, 0, 0, 0, 0, 0, 0, 0, 0, 0, 0, 0, 0, 0, 0, 0, 0, 0, 0, 0, 0, 0, 0, 0, 0, 0, 0, 0, 0]\n",
            "5324 ▁연락\n",
            "2 [2, 93, 5324, 0, 0, 0, 0, 0, 0, 0, 0, 0, 0, 0, 0, 0, 0, 0, 0, 0, 0, 0, 0, 0, 0, 0, 0, 0, 0, 0, 0, 0, 0, 0, 0, 0, 0, 0, 0, 0]\n",
            "3424 ▁가서\n",
            "3 [2, 93, 5324, 3424, 0, 0, 0, 0, 0, 0, 0, 0, 0, 0, 0, 0, 0, 0, 0, 0, 0, 0, 0, 0, 0, 0, 0, 0, 0, 0, 0, 0, 0, 0, 0, 0, 0, 0, 0, 0]\n",
            "15489 ▁쇼핑\n",
            "4 [2, 93, 5324, 3424, 15489, 0, 0, 0, 0, 0, 0, 0, 0, 0, 0, 0, 0, 0, 0, 0, 0, 0, 0, 0, 0, 0, 0, 0, 0, 0, 0, 0, 0, 0, 0, 0, 0, 0, 0, 0]\n",
            "43 하고\n",
            "5 [2, 93, 5324, 3424, 15489, 43, 0, 0, 0, 0, 0, 0, 0, 0, 0, 0, 0, 0, 0, 0, 0, 0, 0, 0, 0, 0, 0, 0, 0, 0, 0, 0, 0, 0, 0, 0, 0, 0, 0, 0]\n",
            "178 ▁오\n",
            "6 [2, 93, 5324, 3424, 15489, 43, 178, 0, 0, 0, 0, 0, 0, 0, 0, 0, 0, 0, 0, 0, 0, 0, 0, 0, 0, 0, 0, 0, 0, 0, 0, 0, 0, 0, 0, 0, 0, 0, 0, 0]\n",
            "3 [EOS]\n",
            "[93, 5324, 3424, 15489, 43, 178]\n",
            "답변 > 다른 연락 가서 쇼핑하고 오\n",
            "질문 > 너는 누구니?\n",
            "['▁너', '는', '▁누구', '니', '?']\n",
            "32 [5103, 11, 8214, 213, 1860, 0, 0, 0, 0, 0, 0, 0, 0, 0, 0, 0, 0, 0, 0, 0, 0, 0, 0, 0, 0, 0, 0, 0, 0, 0, 0, 0]\n",
            "40 [2, 0, 0, 0, 0, 0, 0, 0, 0, 0, 0, 0, 0, 0, 0, 0, 0, 0, 0, 0, 0, 0, 0, 0, 0, 0, 0, 0, 0, 0, 0, 0, 0, 0, 0, 0, 0, 0, 0, 0]\n",
            "93 ▁다른\n",
            "1 [2, 93, 0, 0, 0, 0, 0, 0, 0, 0, 0, 0, 0, 0, 0, 0, 0, 0, 0, 0, 0, 0, 0, 0, 0, 0, 0, 0, 0, 0, 0, 0, 0, 0, 0, 0, 0, 0, 0, 0]\n",
            "4828 ▁기회\n",
            "2 [2, 93, 4828, 0, 0, 0, 0, 0, 0, 0, 0, 0, 0, 0, 0, 0, 0, 0, 0, 0, 0, 0, 0, 0, 0, 0, 0, 0, 0, 0, 0, 0, 0, 0, 0, 0, 0, 0, 0, 0]\n",
            "19 가\n",
            "3 [2, 93, 4828, 19, 0, 0, 0, 0, 0, 0, 0, 0, 0, 0, 0, 0, 0, 0, 0, 0, 0, 0, 0, 0, 0, 0, 0, 0, 0, 0, 0, 0, 0, 0, 0, 0, 0, 0, 0, 0]\n",
            "1793 ▁올\n",
            "4 [2, 93, 4828, 19, 1793, 0, 0, 0, 0, 0, 0, 0, 0, 0, 0, 0, 0, 0, 0, 0, 0, 0, 0, 0, 0, 0, 0, 0, 0, 0, 0, 0, 0, 0, 0, 0, 0, 0, 0, 0]\n",
            "1140 ▁거\n",
            "5 [2, 93, 4828, 19, 1793, 1140, 0, 0, 0, 0, 0, 0, 0, 0, 0, 0, 0, 0, 0, 0, 0, 0, 0, 0, 0, 0, 0, 0, 0, 0, 0, 0, 0, 0, 0, 0, 0, 0, 0, 0]\n",
            "58 나\n",
            "6 [2, 93, 4828, 19, 1793, 1140, 58, 0, 0, 0, 0, 0, 0, 0, 0, 0, 0, 0, 0, 0, 0, 0, 0, 0, 0, 0, 0, 0, 0, 0, 0, 0, 0, 0, 0, 0, 0, 0, 0, 0]\n",
            "3 [EOS]\n",
            "[93, 4828, 19, 1793, 1140, 58]\n",
            "답변 > 다른 기회가 올 거나\n",
            "질문 > \n"
          ],
          "name": "stdout"
        }
      ]
    },
    {
      "cell_type": "markdown",
      "metadata": {
        "id": "AWDVrDn9nGPj"
      },
      "source": [
        "# All Data Project"
      ]
    },
    {
      "cell_type": "markdown",
      "metadata": {
        "id": "t3btqUHNnGPk"
      },
      "source": [
        "## Data\n"
      ]
    },
    {
      "cell_type": "code",
      "metadata": {
        "id": "EC8V06BinGPk",
        "colab": {
          "base_uri": "https://localhost:8080/",
          "height": 418
        },
        "outputId": "f5773d9d-f87c-4206-9446-34f32eddc6f2"
      },
      "source": [
        "df_train = pd.read_csv(os.path.join(songys_dir, 'ChatbotData.csv'))\n",
        "df_train"
      ],
      "execution_count": 73,
      "outputs": [
        {
          "output_type": "execute_result",
          "data": {
            "text/html": [
              "<div>\n",
              "<style scoped>\n",
              "    .dataframe tbody tr th:only-of-type {\n",
              "        vertical-align: middle;\n",
              "    }\n",
              "\n",
              "    .dataframe tbody tr th {\n",
              "        vertical-align: top;\n",
              "    }\n",
              "\n",
              "    .dataframe thead th {\n",
              "        text-align: right;\n",
              "    }\n",
              "</style>\n",
              "<table border=\"1\" class=\"dataframe\">\n",
              "  <thead>\n",
              "    <tr style=\"text-align: right;\">\n",
              "      <th></th>\n",
              "      <th>Q</th>\n",
              "      <th>A</th>\n",
              "      <th>label</th>\n",
              "    </tr>\n",
              "  </thead>\n",
              "  <tbody>\n",
              "    <tr>\n",
              "      <th>0</th>\n",
              "      <td>12시 땡!</td>\n",
              "      <td>하루가 또 가네요.</td>\n",
              "      <td>0</td>\n",
              "    </tr>\n",
              "    <tr>\n",
              "      <th>1</th>\n",
              "      <td>1지망 학교 떨어졌어</td>\n",
              "      <td>위로해 드립니다.</td>\n",
              "      <td>0</td>\n",
              "    </tr>\n",
              "    <tr>\n",
              "      <th>2</th>\n",
              "      <td>3박4일 놀러가고 싶다</td>\n",
              "      <td>여행은 언제나 좋죠.</td>\n",
              "      <td>0</td>\n",
              "    </tr>\n",
              "    <tr>\n",
              "      <th>3</th>\n",
              "      <td>3박4일 정도 놀러가고 싶다</td>\n",
              "      <td>여행은 언제나 좋죠.</td>\n",
              "      <td>0</td>\n",
              "    </tr>\n",
              "    <tr>\n",
              "      <th>4</th>\n",
              "      <td>PPL 심하네</td>\n",
              "      <td>눈살이 찌푸려지죠.</td>\n",
              "      <td>0</td>\n",
              "    </tr>\n",
              "    <tr>\n",
              "      <th>...</th>\n",
              "      <td>...</td>\n",
              "      <td>...</td>\n",
              "      <td>...</td>\n",
              "    </tr>\n",
              "    <tr>\n",
              "      <th>11818</th>\n",
              "      <td>훔쳐보는 것도 눈치 보임.</td>\n",
              "      <td>티가 나니까 눈치가 보이는 거죠!</td>\n",
              "      <td>2</td>\n",
              "    </tr>\n",
              "    <tr>\n",
              "      <th>11819</th>\n",
              "      <td>훔쳐보는 것도 눈치 보임.</td>\n",
              "      <td>훔쳐보는 거 티나나봐요.</td>\n",
              "      <td>2</td>\n",
              "    </tr>\n",
              "    <tr>\n",
              "      <th>11820</th>\n",
              "      <td>흑기사 해주는 짝남.</td>\n",
              "      <td>설렜겠어요.</td>\n",
              "      <td>2</td>\n",
              "    </tr>\n",
              "    <tr>\n",
              "      <th>11821</th>\n",
              "      <td>힘든 연애 좋은 연애라는게 무슨 차이일까?</td>\n",
              "      <td>잘 헤어질 수 있는 사이 여부인 거 같아요.</td>\n",
              "      <td>2</td>\n",
              "    </tr>\n",
              "    <tr>\n",
              "      <th>11822</th>\n",
              "      <td>힘들어서 결혼할까봐</td>\n",
              "      <td>도피성 결혼은 하지 않길 바라요.</td>\n",
              "      <td>2</td>\n",
              "    </tr>\n",
              "  </tbody>\n",
              "</table>\n",
              "<p>11823 rows × 3 columns</p>\n",
              "</div>"
            ],
            "text/plain": [
              "                             Q                         A  label\n",
              "0                       12시 땡!                하루가 또 가네요.      0\n",
              "1                  1지망 학교 떨어졌어                 위로해 드립니다.      0\n",
              "2                 3박4일 놀러가고 싶다               여행은 언제나 좋죠.      0\n",
              "3              3박4일 정도 놀러가고 싶다               여행은 언제나 좋죠.      0\n",
              "4                      PPL 심하네                눈살이 찌푸려지죠.      0\n",
              "...                        ...                       ...    ...\n",
              "11818           훔쳐보는 것도 눈치 보임.        티가 나니까 눈치가 보이는 거죠!      2\n",
              "11819           훔쳐보는 것도 눈치 보임.             훔쳐보는 거 티나나봐요.      2\n",
              "11820              흑기사 해주는 짝남.                    설렜겠어요.      2\n",
              "11821  힘든 연애 좋은 연애라는게 무슨 차이일까?  잘 헤어질 수 있는 사이 여부인 거 같아요.      2\n",
              "11822               힘들어서 결혼할까봐        도피성 결혼은 하지 않길 바라요.      2\n",
              "\n",
              "[11823 rows x 3 columns]"
            ]
          },
          "metadata": {
            "tags": []
          },
          "execution_count": 73
        }
      ]
    },
    {
      "cell_type": "code",
      "metadata": {
        "id": "hLGjMlWZN5y6",
        "colab": {
          "base_uri": "https://localhost:8080/",
          "height": 418
        },
        "outputId": "52d73da4-6c5a-4fd5-a2be-2d345ea65696"
      },
      "source": [
        "df_train = df_train.dropna()\n",
        "df_train"
      ],
      "execution_count": 74,
      "outputs": [
        {
          "output_type": "execute_result",
          "data": {
            "text/html": [
              "<div>\n",
              "<style scoped>\n",
              "    .dataframe tbody tr th:only-of-type {\n",
              "        vertical-align: middle;\n",
              "    }\n",
              "\n",
              "    .dataframe tbody tr th {\n",
              "        vertical-align: top;\n",
              "    }\n",
              "\n",
              "    .dataframe thead th {\n",
              "        text-align: right;\n",
              "    }\n",
              "</style>\n",
              "<table border=\"1\" class=\"dataframe\">\n",
              "  <thead>\n",
              "    <tr style=\"text-align: right;\">\n",
              "      <th></th>\n",
              "      <th>Q</th>\n",
              "      <th>A</th>\n",
              "      <th>label</th>\n",
              "    </tr>\n",
              "  </thead>\n",
              "  <tbody>\n",
              "    <tr>\n",
              "      <th>0</th>\n",
              "      <td>12시 땡!</td>\n",
              "      <td>하루가 또 가네요.</td>\n",
              "      <td>0</td>\n",
              "    </tr>\n",
              "    <tr>\n",
              "      <th>1</th>\n",
              "      <td>1지망 학교 떨어졌어</td>\n",
              "      <td>위로해 드립니다.</td>\n",
              "      <td>0</td>\n",
              "    </tr>\n",
              "    <tr>\n",
              "      <th>2</th>\n",
              "      <td>3박4일 놀러가고 싶다</td>\n",
              "      <td>여행은 언제나 좋죠.</td>\n",
              "      <td>0</td>\n",
              "    </tr>\n",
              "    <tr>\n",
              "      <th>3</th>\n",
              "      <td>3박4일 정도 놀러가고 싶다</td>\n",
              "      <td>여행은 언제나 좋죠.</td>\n",
              "      <td>0</td>\n",
              "    </tr>\n",
              "    <tr>\n",
              "      <th>4</th>\n",
              "      <td>PPL 심하네</td>\n",
              "      <td>눈살이 찌푸려지죠.</td>\n",
              "      <td>0</td>\n",
              "    </tr>\n",
              "    <tr>\n",
              "      <th>...</th>\n",
              "      <td>...</td>\n",
              "      <td>...</td>\n",
              "      <td>...</td>\n",
              "    </tr>\n",
              "    <tr>\n",
              "      <th>11818</th>\n",
              "      <td>훔쳐보는 것도 눈치 보임.</td>\n",
              "      <td>티가 나니까 눈치가 보이는 거죠!</td>\n",
              "      <td>2</td>\n",
              "    </tr>\n",
              "    <tr>\n",
              "      <th>11819</th>\n",
              "      <td>훔쳐보는 것도 눈치 보임.</td>\n",
              "      <td>훔쳐보는 거 티나나봐요.</td>\n",
              "      <td>2</td>\n",
              "    </tr>\n",
              "    <tr>\n",
              "      <th>11820</th>\n",
              "      <td>흑기사 해주는 짝남.</td>\n",
              "      <td>설렜겠어요.</td>\n",
              "      <td>2</td>\n",
              "    </tr>\n",
              "    <tr>\n",
              "      <th>11821</th>\n",
              "      <td>힘든 연애 좋은 연애라는게 무슨 차이일까?</td>\n",
              "      <td>잘 헤어질 수 있는 사이 여부인 거 같아요.</td>\n",
              "      <td>2</td>\n",
              "    </tr>\n",
              "    <tr>\n",
              "      <th>11822</th>\n",
              "      <td>힘들어서 결혼할까봐</td>\n",
              "      <td>도피성 결혼은 하지 않길 바라요.</td>\n",
              "      <td>2</td>\n",
              "    </tr>\n",
              "  </tbody>\n",
              "</table>\n",
              "<p>11823 rows × 3 columns</p>\n",
              "</div>"
            ],
            "text/plain": [
              "                             Q                         A  label\n",
              "0                       12시 땡!                하루가 또 가네요.      0\n",
              "1                  1지망 학교 떨어졌어                 위로해 드립니다.      0\n",
              "2                 3박4일 놀러가고 싶다               여행은 언제나 좋죠.      0\n",
              "3              3박4일 정도 놀러가고 싶다               여행은 언제나 좋죠.      0\n",
              "4                      PPL 심하네                눈살이 찌푸려지죠.      0\n",
              "...                        ...                       ...    ...\n",
              "11818           훔쳐보는 것도 눈치 보임.        티가 나니까 눈치가 보이는 거죠!      2\n",
              "11819           훔쳐보는 것도 눈치 보임.             훔쳐보는 거 티나나봐요.      2\n",
              "11820              흑기사 해주는 짝남.                    설렜겠어요.      2\n",
              "11821  힘든 연애 좋은 연애라는게 무슨 차이일까?  잘 헤어질 수 있는 사이 여부인 거 같아요.      2\n",
              "11822               힘들어서 결혼할까봐        도피성 결혼은 하지 않길 바라요.      2\n",
              "\n",
              "[11823 rows x 3 columns]"
            ]
          },
          "metadata": {
            "tags": []
          },
          "execution_count": 74
        }
      ]
    },
    {
      "cell_type": "code",
      "metadata": {
        "id": "CJcJazU7nGPl"
      },
      "source": [
        "def load_data(df, n_enc_seq, n_dec_seq):\n",
        "    \"\"\"\n",
        "    Quora 학습 데이터 생성\n",
        "    :param df: data frame\n",
        "    :param n_enc_seq: number of encoder sequence\n",
        "    :param n_dec_seq: number of decoder sequence\n",
        "    :return enc_inputs: encoder input data\n",
        "    :return dec_inputs: decoder input data\n",
        "    :return labels: label data\n",
        "    \"\"\"\n",
        "    n_enc_max = n_enc_seq\n",
        "    n_dec_max = n_dec_seq - 1\n",
        "    enc_inputs = np.zeros((len(df), n_enc_seq)).astype(np.int32)\n",
        "    dec_inputs = np.zeros((len(df), n_dec_seq)).astype(np.int32)\n",
        "    labels = np.zeros((len(df), n_dec_seq)).astype(np.int32)\n",
        "    index = 0\n",
        "    for i, row in tqdm(df.iterrows(), total=len(df)):\n",
        "        # tokens 저장\n",
        "        # print()\n",
        "        Q = row['Q']\n",
        "        A = row['A']\n",
        "        # print(Q, '/', A)\n",
        "\n",
        "        tokens_q = vocab.encode_as_pieces(Q)\n",
        "        # print(len(tokens_q), ':', tokens_q)\n",
        "        tokens_a = vocab.encode_as_pieces(A)\n",
        "        # print(len(tokens_a), ':', tokens_a)\n",
        "\n",
        "        tokens_ids_q = vocab.encode_as_ids(Q)\n",
        "        # print(len(tokens_ids_q), ':', tokens_ids_q)\n",
        "        tokens_ids_a = vocab.encode_as_ids(A)\n",
        "        # print(len(tokens_ids_a), ':', tokens_ids_a)\n",
        "\n",
        "        tokens_ids_q = tokens_ids_q[:n_enc_max]\n",
        "        # print(len(tokens_ids_q), ':', tokens_ids_q)\n",
        "        tokens_ids_a = tokens_ids_a[:n_dec_max]\n",
        "        # print(len(tokens_ids_a), ':', tokens_ids_a)\n",
        "\n",
        "        tokens_dec_in = [vocab.bos_id()] + tokens_ids_a\n",
        "        tokens_dec_out = tokens_ids_a + [vocab.eos_id()]\n",
        "\n",
        "        tokens_ids_q += [0] * (n_enc_seq - len(tokens_ids_q))\n",
        "        # print(len(tokens_ids_q), ':', tokens_ids_q)\n",
        "        tokens_dec_in += [0] * (n_dec_seq - len(tokens_dec_in))\n",
        "        # print(len(tokens_dec_in), ':', tokens_dec_in)\n",
        "        tokens_dec_out += [0] * (n_dec_seq - len(tokens_dec_out))\n",
        "        # print(len(tokens_dec_out), ':', tokens_dec_out)\n",
        "\n",
        "        enc_inputs[index] = tokens_ids_q\n",
        "        dec_inputs[index] = tokens_dec_in\n",
        "        labels[index] = tokens_dec_out\n",
        "        index += 1\n",
        "    return enc_inputs, dec_inputs, labels"
      ],
      "execution_count": 75,
      "outputs": []
    },
    {
      "cell_type": "code",
      "metadata": {
        "id": "2RtUc6TNnGPl",
        "colab": {
          "base_uri": "https://localhost:8080/",
          "height": 436,
          "referenced_widgets": [
            "955c10d300c1403e81bb068536ef4885",
            "856f436944af4e77bc5974d9a3df24d0",
            "c4db7c95a417484393e967e77677d431",
            "f25aebfcb59647b3b350b4187404c7ed",
            "59990900b7f94807acac40703daea634",
            "0e7845c1f55342cb809c3d2cd23d4dc1",
            "c5e3c1ce229d4abaa4b27f7b62f80b37",
            "ef1c159bc720460a973911bf5f1bbccf"
          ]
        },
        "outputId": "c4678cb2-f0dc-4c45-9ffd-234263de47ed"
      },
      "source": [
        "# train data 생성\n",
        "train_enc_inputs, train_dec_inputs, train_labels = load_data(df_train, n_enc_seq, n_dec_seq)\n",
        "train_enc_inputs, train_dec_inputs, train_labels"
      ],
      "execution_count": 76,
      "outputs": [
        {
          "output_type": "display_data",
          "data": {
            "application/vnd.jupyter.widget-view+json": {
              "model_id": "955c10d300c1403e81bb068536ef4885",
              "version_minor": 0,
              "version_major": 2
            },
            "text/plain": [
              "HBox(children=(FloatProgress(value=0.0, max=11823.0), HTML(value='')))"
            ]
          },
          "metadata": {
            "tags": []
          }
        },
        {
          "output_type": "stream",
          "text": [
            "\n"
          ],
          "name": "stdout"
        },
        {
          "output_type": "execute_result",
          "data": {
            "text/plain": [
              "(array([[   89,    56,    10, ...,     0,     0,     0],\n",
              "        [   35,    47,  1004, ...,     0,     0,     0],\n",
              "        [   38,   819,   362, ...,     0,     0,     0],\n",
              "        ...,\n",
              "        [ 2886,  9525, 21930, ...,     0,     0,     0],\n",
              "        [10736,  8256,  1172, ...,     0,     0,     0],\n",
              "        [26128,    70,  1381, ...,     0,     0,     0]], dtype=int32),\n",
              " array([[    2,  2261,    19, ...,     0,     0,     0],\n",
              "        [    2,  4594,    61, ...,     0,     0,     0],\n",
              "        [    2,  2350,    18, ...,     0,     0,     0],\n",
              "        ...,\n",
              "        [    2,  1522,     1, ...,     0,     0,     0],\n",
              "        [    2,   441, 10316, ...,     0,     0,     0],\n",
              "        [    2, 16665,    90, ...,     0,     0,     0]], dtype=int32),\n",
              " array([[ 2261,    19,   375, ...,     0,     0,     0],\n",
              "        [ 4594,    61,   929, ...,     0,     0,     0],\n",
              "        [ 2350,    18,  9001, ...,     0,     0,     0],\n",
              "        ...,\n",
              "        [ 1522,     1, 12273, ...,     0,     0,     0],\n",
              "        [  441, 10316,   515, ...,     0,     0,     0],\n",
              "        [16665,    90,  1381, ...,     0,     0,     0]], dtype=int32))"
            ]
          },
          "metadata": {
            "tags": []
          },
          "execution_count": 76
        }
      ]
    },
    {
      "cell_type": "code",
      "metadata": {
        "id": "Spw5GKuLnXgR",
        "colab": {
          "base_uri": "https://localhost:8080/"
        },
        "outputId": "dab13c16-c8c7-4137-a921-bf12e4ad6400"
      },
      "source": [
        "train_enc_inputs.shape, train_dec_inputs.shape, train_labels.shape"
      ],
      "execution_count": 77,
      "outputs": [
        {
          "output_type": "execute_result",
          "data": {
            "text/plain": [
              "((11823, 32), (11823, 40), (11823, 40))"
            ]
          },
          "metadata": {
            "tags": []
          },
          "execution_count": 77
        }
      ]
    },
    {
      "cell_type": "markdown",
      "metadata": {
        "id": "iI6jGGdInGPo"
      },
      "source": [
        "## 학습"
      ]
    },
    {
      "cell_type": "code",
      "metadata": {
        "id": "HjYNgH9LOWLn",
        "colab": {
          "base_uri": "https://localhost:8080/",
          "height": 345
        },
        "outputId": "b87115a2-78dc-47a6-a0b1-a9d58307ac35"
      },
      "source": [
        "# 모델 생성\n",
        "model = build_model(len(vocab), d_model, n_enc_seq, n_dec_seq)\n",
        "# 모델 내용 그래프 출력\n",
        "tf.keras.utils.plot_model(model, 'model.png', show_shapes=True)"
      ],
      "execution_count": 78,
      "outputs": [
        {
          "output_type": "execute_result",
          "data": {
            "image/png": "[encoded data removed]",
            "text/plain": [
              "<IPython.core.display.Image object>"
            ]
          },
          "metadata": {
            "tags": []
          },
          "execution_count": 78
        }
      ]
    },
    {
      "cell_type": "code",
      "metadata": {
        "id": "Mv6ZBiC6nGPo"
      },
      "source": [
        "# 모델 loss, optimizer, metric 정의\n",
        "model.compile(loss=lm_loss, optimizer='adam', metrics=[lm_acc])"
      ],
      "execution_count": 79,
      "outputs": []
    },
    {
      "cell_type": "code",
      "metadata": {
        "id": "r-XzjeyEnGPo"
      },
      "source": [
        "# early stopping\n",
        "early_stopping = tf.keras.callbacks.EarlyStopping(monitor='lm_acc', patience=10)\n",
        "# save weights callback\n",
        "save_weights = tf.keras.callbacks.ModelCheckpoint(os.path.join(songys_dir, 'lstm.hdf5'),\n",
        "                                                  monitor='lm_acc',\n",
        "                                                  verbose=1,\n",
        "                                                  save_best_only=True,\n",
        "                                                  mode=\"max\",\n",
        "                                                  save_freq=\"epoch\",\n",
        "                                                  save_weights_only=True)\n",
        "# csv logger\n",
        "csv_logger = tf.keras.callbacks.CSVLogger(os.path.join(songys_dir, 'lstm.csv'))"
      ],
      "execution_count": 80,
      "outputs": []
    },
    {
      "cell_type": "code",
      "metadata": {
        "colab": {
          "base_uri": "https://localhost:8080/"
        },
        "id": "93ZMABR1-HqJ",
        "outputId": "9f8b1137-119d-4b4a-b990-c1d8edd38d44"
      },
      "source": [
        "# 모델 학습\r\n",
        "history = model.fit((train_enc_inputs, train_dec_inputs),\r\n",
        "                    train_labels,\r\n",
        "                    epochs=100,\r\n",
        "                    batch_size=256,\r\n",
        "                    callbacks=[early_stopping, save_weights, csv_logger])"
      ],
      "execution_count": null,
      "outputs": [
        {
          "output_type": "stream",
          "text": [
            "Epoch 1/100\n"
          ],
          "name": "stdout"
        }
      ]
    },
    {
      "cell_type": "code",
      "metadata": {
        "id": "hXhqNj5_nGPp"
      },
      "source": [
        "plt.figure(figsize=(12, 4))\n",
        "\n",
        "plt.subplot(1, 2, 1)\n",
        "plt.plot(history.history['loss'], 'b-', label='loss')\n",
        "plt.xlabel('Epoch')\n",
        "plt.legend()\n",
        "\n",
        "plt.subplot(1, 2, 2)\n",
        "plt.plot(history.history['lm_acc'], 'g-', label='acc')\n",
        "plt.xlabel('Epoch')\n",
        "plt.legend()\n",
        "\n",
        "plt.show()"
      ],
      "execution_count": null,
      "outputs": []
    },
    {
      "cell_type": "markdown",
      "metadata": {
        "id": "_cDtY-CgnGPp"
      },
      "source": [
        "## Inference"
      ]
    },
    {
      "cell_type": "code",
      "metadata": {
        "id": "Q2WvJLDtnGPq"
      },
      "source": [
        "# 모델 생성\n",
        "model = build_model(len(vocab), d_model, n_enc_seq, n_dec_seq)\n",
        "# train weight로 초기화\n",
        "model.load_weights(os.path.join(songys_dir, 'lstm.hdf5'))"
      ],
      "execution_count": null,
      "outputs": []
    },
    {
      "cell_type": "code",
      "metadata": {
        "id": "Di5UHb9AnGPq"
      },
      "source": [
        "def do_chat(vocab, model, n_enc_seq, n_dec_seq, string):\n",
        "    \"\"\"\n",
        "    seq2seq chat\n",
        "    :param vocab: vocab\n",
        "    :param model: model\n",
        "    :param n_enc_seq: number of enc seqence\n",
        "    :param n_dec_seq: number of dec seqence\n",
        "    :param string: inpust string\n",
        "    \"\"\"\n",
        "    # qeustion\n",
        "    q = vocab.encode_as_pieces(string)\n",
        "    q_id = [vocab.piece_to_id(p) for p in q][:n_enc_seq]\n",
        "    q_id += [0] * (n_enc_seq - len(q_id))\n",
        "    assert len(q_id) == n_enc_seq\n",
        "\n",
        "    # answer\n",
        "    a_id = [vocab.bos_id()]\n",
        "    a_id += [0] * (n_dec_seq - len(a_id))\n",
        "    assert len(a_id) == n_dec_seq\n",
        "\n",
        "    # 처음부터 예측\n",
        "    start_idx = 0\n",
        "\n",
        "    for _ in range(start_idx, n_dec_seq - 1):\n",
        "        outputs = model.predict((np.array([q_id]), np.array([a_id])))\n",
        "        prob = outputs[0][start_idx]\n",
        "        word_id = np.argmax(prob)\n",
        "        if word_id == vocab.eos_id():\n",
        "            break\n",
        "        a_id[start_idx + 1] = int(word_id)\n",
        "        start_idx += 1\n",
        "    predict_id = a_id[1:start_idx + 1]\n",
        "    predict_str = vocab.decode_ids(predict_id)\n",
        "    return predict_str"
      ],
      "execution_count": null,
      "outputs": []
    },
    {
      "cell_type": "code",
      "metadata": {
        "id": "t0j-HAT9nGPq"
      },
      "source": [
        "while True:\n",
        "    string = input('질문 > ')\n",
        "    string = string.strip()\n",
        "    if len(string) == 0:\n",
        "        break\n",
        "    predict_str = do_chat(vocab, model, n_enc_seq, n_dec_seq, string)\n",
        "    print(f'답변 > {predict_str}')"
      ],
      "execution_count": null,
      "outputs": []
    }
  ]
}