{
  "nbformat": 4,
  "nbformat_minor": 0,
  "metadata": {
    "colab": {
      "name": "Day3_00_Matrix Equation",
      "provenance": [],
      "collapsed_sections": [
        "BuaFwJqDVumT",
        "wS_edoagzneJ",
        "h71F8NjjMhgT",
        "StVZG6BQNuHv"
      ]
    },
    "kernelspec": {
      "name": "python3",
      "display_name": "Python 3"
    }
  },
  "cells": [
    {
      "cell_type": "markdown",
      "metadata": {
        "id": "BuaFwJqDVumT"
      },
      "source": [
        "# EVN"
      ]
    },
    {
      "cell_type": "code",
      "metadata": {
        "id": "ODiNPGQ9VwLK"
      },
      "source": [
        "import numpy as np\n",
        "import matplotlib.pyplot as plt\n",
        "\n",
        "import tensorflow as tf"
      ],
      "execution_count": 1,
      "outputs": []
    },
    {
      "cell_type": "markdown",
      "metadata": {
        "id": "sFo_3tAlzneI"
      },
      "source": [
        "# 행렬연산"
      ]
    },
    {
      "cell_type": "markdown",
      "metadata": {
        "id": "erIr-mg8zneJ"
      },
      "source": [
        "## 데이터"
      ]
    },
    {
      "cell_type": "code",
      "metadata": {
        "id": "KQqU4MBIzneJ",
        "colab": {
          "base_uri": "https://localhost:8080/"
        },
        "outputId": "007962ea-bf7e-4a11-d69d-ea0ac173038f"
      },
      "source": [
        "hidden = np.random.randint(-9, 10, (5, 4)) / 10\n",
        "hidden"
      ],
      "execution_count": 2,
      "outputs": [
        {
          "output_type": "execute_result",
          "data": {
            "text/plain": [
              "array([[-0.8,  0.1, -0.6, -0.7],\n",
              "       [ 0.4,  0.1, -0.7, -0.5],\n",
              "       [-0.6, -0.8, -0.4, -0.5],\n",
              "       [ 0.3, -0.9, -0.3, -0.5],\n",
              "       [-0.7,  0.4,  0.4, -0.2]])"
            ]
          },
          "metadata": {
            "tags": []
          },
          "execution_count": 2
        }
      ]
    },
    {
      "cell_type": "markdown",
      "metadata": {
        "id": "wS_edoagzneJ"
      },
      "source": [
        "## element wise sum"
      ]
    },
    {
      "cell_type": "code",
      "metadata": {
        "id": "BJA0tV61UMWv",
        "colab": {
          "base_uri": "https://localhost:8080/"
        },
        "outputId": "530e0a6c-9ce2-466c-fc06-098ef1ab89c3"
      },
      "source": [
        "arg = np.random.randint(-9, 10, (5, 4)) / 10\n",
        "arg, hidden + arg"
      ],
      "execution_count": 3,
      "outputs": [
        {
          "output_type": "execute_result",
          "data": {
            "text/plain": [
              "(array([[ 0.9,  0.1, -0.7, -0.2],\n",
              "        [ 0.8,  0.3, -0.1, -0.3],\n",
              "        [ 0.3,  0.2,  0.6,  0.1],\n",
              "        [ 0.1,  0.2,  0.3, -0.4],\n",
              "        [ 0.5,  0.6,  0.3, -0.8]]), array([[ 0.1,  0.2, -1.3, -0.9],\n",
              "        [ 1.2,  0.4, -0.8, -0.8],\n",
              "        [-0.3, -0.6,  0.2, -0.4],\n",
              "        [ 0.4, -0.7,  0. , -0.9],\n",
              "        [-0.2,  1. ,  0.7, -1. ]]))"
            ]
          },
          "metadata": {
            "tags": []
          },
          "execution_count": 3
        }
      ]
    },
    {
      "cell_type": "code",
      "metadata": {
        "id": "jrpIT_63UNu5",
        "colab": {
          "base_uri": "https://localhost:8080/"
        },
        "outputId": "28704681-e51c-4274-add2-a011a64e3576"
      },
      "source": [
        "arg = np.random.randint(-9, 10, (1, 4)) / 10\n",
        "arg, hidden + arg"
      ],
      "execution_count": 4,
      "outputs": [
        {
          "output_type": "execute_result",
          "data": {
            "text/plain": [
              "(array([[-0.9,  0.6, -0.1, -0.4]]), array([[-1.7,  0.7, -0.7, -1.1],\n",
              "        [-0.5,  0.7, -0.8, -0.9],\n",
              "        [-1.5, -0.2, -0.5, -0.9],\n",
              "        [-0.6, -0.3, -0.4, -0.9],\n",
              "        [-1.6,  1. ,  0.3, -0.6]]))"
            ]
          },
          "metadata": {
            "tags": []
          },
          "execution_count": 4
        }
      ]
    },
    {
      "cell_type": "code",
      "metadata": {
        "id": "RoT8iffUzneJ",
        "colab": {
          "base_uri": "https://localhost:8080/"
        },
        "outputId": "2172a609-f47c-4f33-dbea-4e58ce0914b6"
      },
      "source": [
        "arg = np.random.randint(-9, 10, (5, 1)) / 10\n",
        "arg, hidden + arg"
      ],
      "execution_count": 5,
      "outputs": [
        {
          "output_type": "execute_result",
          "data": {
            "text/plain": [
              "(array([[-0.7],\n",
              "        [ 0.3],\n",
              "        [ 0.1],\n",
              "        [ 0.9],\n",
              "        [-0.1]]), array([[-1.5, -0.6, -1.3, -1.4],\n",
              "        [ 0.7,  0.4, -0.4, -0.2],\n",
              "        [-0.5, -0.7, -0.3, -0.4],\n",
              "        [ 1.2,  0. ,  0.6,  0.4],\n",
              "        [-0.8,  0.3,  0.3, -0.3]]))"
            ]
          },
          "metadata": {
            "tags": []
          },
          "execution_count": 5
        }
      ]
    },
    {
      "cell_type": "code",
      "metadata": {
        "id": "_qeklV9-UTzH",
        "colab": {
          "base_uri": "https://localhost:8080/"
        },
        "outputId": "a9e90b9f-bbfc-44d6-8d01-b52aa25f5076"
      },
      "source": [
        "arg = np.random.randint(-9, 10, (1, 1)) / 10\n",
        "arg, hidden + arg"
      ],
      "execution_count": 6,
      "outputs": [
        {
          "output_type": "execute_result",
          "data": {
            "text/plain": [
              "(array([[-0.2]]), array([[-1. , -0.1, -0.8, -0.9],\n",
              "        [ 0.2, -0.1, -0.9, -0.7],\n",
              "        [-0.8, -1. , -0.6, -0.7],\n",
              "        [ 0.1, -1.1, -0.5, -0.7],\n",
              "        [-0.9,  0.2,  0.2, -0.4]]))"
            ]
          },
          "metadata": {
            "tags": []
          },
          "execution_count": 6
        }
      ]
    },
    {
      "cell_type": "code",
      "metadata": {
        "id": "7bgNlTYUEzxI",
        "colab": {
          "base_uri": "https://localhost:8080/"
        },
        "outputId": "e16cb39b-6da8-414f-8094-8df73e1ffd72"
      },
      "source": [
        "hidden + 1"
      ],
      "execution_count": 7,
      "outputs": [
        {
          "output_type": "execute_result",
          "data": {
            "text/plain": [
              "array([[0.2, 1.1, 0.4, 0.3],\n",
              "       [1.4, 1.1, 0.3, 0.5],\n",
              "       [0.4, 0.2, 0.6, 0.5],\n",
              "       [1.3, 0.1, 0.7, 0.5],\n",
              "       [0.3, 1.4, 1.4, 0.8]])"
            ]
          },
          "metadata": {
            "tags": []
          },
          "execution_count": 7
        }
      ]
    },
    {
      "cell_type": "code",
      "metadata": {
        "id": "7DWycYWQE3X2",
        "colab": {
          "base_uri": "https://localhost:8080/"
        },
        "outputId": "388a8486-4c35-4718-eded-d791b0c4f741"
      },
      "source": [
        "1 + hidden"
      ],
      "execution_count": 8,
      "outputs": [
        {
          "output_type": "execute_result",
          "data": {
            "text/plain": [
              "array([[0.2, 1.1, 0.4, 0.3],\n",
              "       [1.4, 1.1, 0.3, 0.5],\n",
              "       [0.4, 0.2, 0.6, 0.5],\n",
              "       [1.3, 0.1, 0.7, 0.5],\n",
              "       [0.3, 1.4, 1.4, 0.8]])"
            ]
          },
          "metadata": {
            "tags": []
          },
          "execution_count": 8
        }
      ]
    },
    {
      "cell_type": "markdown",
      "metadata": {
        "id": "EKZCiVXeTeRj"
      },
      "source": [
        ""
      ]
    },
    {
      "cell_type": "markdown",
      "metadata": {
        "id": "h71F8NjjMhgT"
      },
      "source": [
        "## element wise multiplication"
      ]
    },
    {
      "cell_type": "code",
      "metadata": {
        "id": "jkYCGNhFMhgf",
        "colab": {
          "base_uri": "https://localhost:8080/"
        },
        "outputId": "d3df9b91-6ebe-4a5c-cb3c-7765799f1315"
      },
      "source": [
        "arg = np.random.randint(-9, 10, (5, 4)) / 10\n",
        "arg, hidden * arg"
      ],
      "execution_count": 9,
      "outputs": [
        {
          "output_type": "execute_result",
          "data": {
            "text/plain": [
              "(array([[-0.1, -0.3,  0.4,  0.5],\n",
              "        [-0.5,  0.1,  0.7,  0.8],\n",
              "        [-0.3,  0.4, -0.4,  0.8],\n",
              "        [-0.8, -0.7,  0.4, -0.5],\n",
              "        [ 0.3, -0.9,  0.1,  0.7]]), array([[ 0.08, -0.03, -0.24, -0.35],\n",
              "        [-0.2 ,  0.01, -0.49, -0.4 ],\n",
              "        [ 0.18, -0.32,  0.16, -0.4 ],\n",
              "        [-0.24,  0.63, -0.12,  0.25],\n",
              "        [-0.21, -0.36,  0.04, -0.14]]))"
            ]
          },
          "metadata": {
            "tags": []
          },
          "execution_count": 9
        }
      ]
    },
    {
      "cell_type": "code",
      "metadata": {
        "id": "8RkPr0jfMhgg",
        "colab": {
          "base_uri": "https://localhost:8080/"
        },
        "outputId": "6696b335-6a79-45d5-ae73-7805fe90fde0"
      },
      "source": [
        "arg = np.random.randint(-9, 10, (1, 4)) / 10\n",
        "arg, hidden * arg"
      ],
      "execution_count": 10,
      "outputs": [
        {
          "output_type": "execute_result",
          "data": {
            "text/plain": [
              "(array([[ 0.6, -0.2, -0.8,  0.5]]), array([[-0.48, -0.02,  0.48, -0.35],\n",
              "        [ 0.24, -0.02,  0.56, -0.25],\n",
              "        [-0.36,  0.16,  0.32, -0.25],\n",
              "        [ 0.18,  0.18,  0.24, -0.25],\n",
              "        [-0.42, -0.08, -0.32, -0.1 ]]))"
            ]
          },
          "metadata": {
            "tags": []
          },
          "execution_count": 10
        }
      ]
    },
    {
      "cell_type": "code",
      "metadata": {
        "id": "gOxjqjyUMhgg",
        "colab": {
          "base_uri": "https://localhost:8080/"
        },
        "outputId": "4b9c165b-73c9-4ac3-bafb-1162a5ddd36a"
      },
      "source": [
        "arg = np.random.randint(-9, 10, (5, 1)) / 10\n",
        "arg, hidden * arg"
      ],
      "execution_count": 11,
      "outputs": [
        {
          "output_type": "execute_result",
          "data": {
            "text/plain": [
              "(array([[-0.2],\n",
              "        [ 0.4],\n",
              "        [-0.1],\n",
              "        [ 0.5],\n",
              "        [ 0. ]]), array([[ 0.16, -0.02,  0.12,  0.14],\n",
              "        [ 0.16,  0.04, -0.28, -0.2 ],\n",
              "        [ 0.06,  0.08,  0.04,  0.05],\n",
              "        [ 0.15, -0.45, -0.15, -0.25],\n",
              "        [-0.  ,  0.  ,  0.  , -0.  ]]))"
            ]
          },
          "metadata": {
            "tags": []
          },
          "execution_count": 11
        }
      ]
    },
    {
      "cell_type": "code",
      "metadata": {
        "id": "svhBfZHmMhgg",
        "colab": {
          "base_uri": "https://localhost:8080/"
        },
        "outputId": "0859ab45-859d-4e1a-8982-d439bf6b0623"
      },
      "source": [
        "arg = np.random.randint(-9, 10, (1, 1)) / 10\n",
        "arg, hidden * arg"
      ],
      "execution_count": 12,
      "outputs": [
        {
          "output_type": "execute_result",
          "data": {
            "text/plain": [
              "(array([[-0.6]]), array([[ 0.48, -0.06,  0.36,  0.42],\n",
              "        [-0.24, -0.06,  0.42,  0.3 ],\n",
              "        [ 0.36,  0.48,  0.24,  0.3 ],\n",
              "        [-0.18,  0.54,  0.18,  0.3 ],\n",
              "        [ 0.42, -0.24, -0.24,  0.12]]))"
            ]
          },
          "metadata": {
            "tags": []
          },
          "execution_count": 12
        }
      ]
    },
    {
      "cell_type": "code",
      "metadata": {
        "id": "ICFetaBqFK3X",
        "colab": {
          "base_uri": "https://localhost:8080/"
        },
        "outputId": "674e7710-ed93-4a4c-e7b6-42b9a6b073cf"
      },
      "source": [
        "hidden * 2"
      ],
      "execution_count": 13,
      "outputs": [
        {
          "output_type": "execute_result",
          "data": {
            "text/plain": [
              "array([[-1.6,  0.2, -1.2, -1.4],\n",
              "       [ 0.8,  0.2, -1.4, -1. ],\n",
              "       [-1.2, -1.6, -0.8, -1. ],\n",
              "       [ 0.6, -1.8, -0.6, -1. ],\n",
              "       [-1.4,  0.8,  0.8, -0.4]])"
            ]
          },
          "metadata": {
            "tags": []
          },
          "execution_count": 13
        }
      ]
    },
    {
      "cell_type": "code",
      "metadata": {
        "id": "jFgp0LhBFJVX",
        "colab": {
          "base_uri": "https://localhost:8080/"
        },
        "outputId": "21f2b1b3-78e1-4d73-e95a-e441eb58ec4f"
      },
      "source": [
        "2 * hidden"
      ],
      "execution_count": 14,
      "outputs": [
        {
          "output_type": "execute_result",
          "data": {
            "text/plain": [
              "array([[-1.6,  0.2, -1.2, -1.4],\n",
              "       [ 0.8,  0.2, -1.4, -1. ],\n",
              "       [-1.2, -1.6, -0.8, -1. ],\n",
              "       [ 0.6, -1.8, -0.6, -1. ],\n",
              "       [-1.4,  0.8,  0.8, -0.4]])"
            ]
          },
          "metadata": {
            "tags": []
          },
          "execution_count": 14
        }
      ]
    },
    {
      "cell_type": "markdown",
      "metadata": {
        "id": "StVZG6BQNuHv"
      },
      "source": [
        "## matrix multiplication"
      ]
    },
    {
      "cell_type": "code",
      "metadata": {
        "colab": {
          "base_uri": "https://localhost:8080/"
        },
        "id": "9OaatIhpNuH4",
        "outputId": "b3335594-1e68-4fbd-8129-09356cec8c3e"
      },
      "source": [
        "arg = np.random.randint(-9, 10, (4, 5)) / 10\n",
        "arg, np.matmul(hidden, arg)"
      ],
      "execution_count": 15,
      "outputs": [
        {
          "output_type": "execute_result",
          "data": {
            "text/plain": [
              "(array([[ 0.6,  0.3, -0.1, -0.2, -0.2],\n",
              "        [ 0.2, -0.5,  0.1, -0.8, -0.1],\n",
              "        [ 0.1, -0.7,  0.2,  0.7, -0.1],\n",
              "        [ 0.4, -0.5, -0.7,  0.4,  0.4]]),\n",
              " array([[-0.8 ,  0.48,  0.46, -0.62, -0.07],\n",
              "        [-0.01,  0.81,  0.18, -0.85, -0.22],\n",
              "        [-0.76,  0.75,  0.25,  0.28,  0.04],\n",
              "        [-0.23,  1.  ,  0.17,  0.25, -0.14],\n",
              "        [-0.38, -0.59,  0.33,  0.02, -0.02]]))"
            ]
          },
          "metadata": {
            "tags": []
          },
          "execution_count": 15
        }
      ]
    },
    {
      "cell_type": "code",
      "metadata": {
        "colab": {
          "base_uri": "https://localhost:8080/"
        },
        "id": "5Cb1dK4XRjqc",
        "outputId": "8f263d05-fe42-4d0c-e70d-b32f4fef1141"
      },
      "source": [
        "val = np.zeros((hidden.shape[0], arg.shape[1]))\n",
        "val"
      ],
      "execution_count": 16,
      "outputs": [
        {
          "output_type": "execute_result",
          "data": {
            "text/plain": [
              "array([[0., 0., 0., 0., 0.],\n",
              "       [0., 0., 0., 0., 0.],\n",
              "       [0., 0., 0., 0., 0.],\n",
              "       [0., 0., 0., 0., 0.],\n",
              "       [0., 0., 0., 0., 0.]])"
            ]
          },
          "metadata": {
            "tags": []
          },
          "execution_count": 16
        }
      ]
    },
    {
      "cell_type": "code",
      "metadata": {
        "colab": {
          "base_uri": "https://localhost:8080/"
        },
        "id": "eygkZ2N6RmuV",
        "outputId": "ec931996-7e46-4ddf-82af-870829eea2de"
      },
      "source": [
        "for row in range(hidden.shape[0]):\n",
        "    row_v = hidden[row]\n",
        "    for col in range(arg.shape[1]):\n",
        "        col_v = arg[:, col]\n",
        "        val[row][col] = np.dot(row_v, col_v)\n",
        "val"
      ],
      "execution_count": 17,
      "outputs": [
        {
          "output_type": "execute_result",
          "data": {
            "text/plain": [
              "array([[-0.8 ,  0.48,  0.46, -0.62, -0.07],\n",
              "       [-0.01,  0.81,  0.18, -0.85, -0.22],\n",
              "       [-0.76,  0.75,  0.25,  0.28,  0.04],\n",
              "       [-0.23,  1.  ,  0.17,  0.25, -0.14],\n",
              "       [-0.38, -0.59,  0.33,  0.02, -0.02]])"
            ]
          },
          "metadata": {
            "tags": []
          },
          "execution_count": 17
        }
      ]
    }
  ]
}