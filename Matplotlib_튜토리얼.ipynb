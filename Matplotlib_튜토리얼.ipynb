{
  "nbformat": 4,
  "nbformat_minor": 0,
  "metadata": {
    "colab": {
      "name": "Matplotlib 튜토리얼.ipynb",
      "provenance": [],
      "collapsed_sections": [],
      "toc_visible": true,
      "authorship_tag": "ABX9TyNksVln0UG0EoqiyZ8JZOvT",
      "include_colab_link": true
    },
    "kernelspec": {
      "name": "python3",
      "display_name": "Python 3"
    }
  },
  "cells": [
    {
      "cell_type": "markdown",
      "metadata": {
        "id": "view-in-github",
        "colab_type": "text"
      },
      "source": [
        "<a href=\"https://colab.research.google.com/github/minjeong-kim-git/NLP/blob/main/Matplotlib_%ED%8A%9C%ED%86%A0%EB%A6%AC%EC%96%BC.ipynb\" target=\"_parent\"><img src=\"https://colab.research.google.com/assets/colab-badge.svg\" alt=\"Open In Colab\"/></a>"
      ]
    },
    {
      "cell_type": "markdown",
      "metadata": {
        "id": "PhbpEN7aBHoz"
      },
      "source": [
        "# Matplotlib 기본 사용법\r\n",
        "\r\n",
        "plot: 축에 들어갈 데이터를 넣습니다. 직접 입력하거나 배열(Numpy 등)을 넣을 수 있습니다.\r\n",
        "\r\n",
        "xlabel, ylabel: 축 이름을 정합니다.\r\n",
        "\r\n",
        "show: plot으로 생성한 그림을 출력합니다."
      ]
    },
    {
      "cell_type": "code",
      "metadata": {
        "id": "JOLrunS9A3GC"
      },
      "source": [
        "import matplotlib.pyplot as plt"
      ],
      "execution_count": 1,
      "outputs": []
    },
    {
      "cell_type": "code",
      "metadata": {
        "colab": {
          "base_uri": "https://localhost:8080/",
          "height": 282
        },
        "id": "zczWj0K4EhVB",
        "outputId": "b41d1dbf-3e46-4543-fcb3-2ac77eabbcfc"
      },
      "source": [
        "plt.plot([1, 2, 3, 4])\r\n",
        "plt.ylabel('numbers')\r\n",
        "plt.show"
      ],
      "execution_count": 2,
      "outputs": [
        {
          "output_type": "execute_result",
          "data": {
            "text/plain": [
              "<function matplotlib.pyplot.show>"
            ]
          },
          "metadata": {
            "tags": []
          },
          "execution_count": 2
        },
        {
          "output_type": "display_data",
          "data": {
            "image/png": "[encoded data removed]",
            "text/plain": [
              "<Figure size 432x288 with 1 Axes>"
            ]
          },
          "metadata": {
            "tags": [],
            "needs_background": "light"
          }
        }
      ]
    },
    {
      "cell_type": "code",
      "metadata": {
        "colab": {
          "base_uri": "https://localhost:8080/",
          "height": 282
        },
        "id": "vrW4RGo9EpHc",
        "outputId": "0c105dcc-1e83-4531-d30f-e8c14c037562"
      },
      "source": [
        "plt.plot([1, 2, 3, 4], [1, 8, 11, 16])"
      ],
      "execution_count": 3,
      "outputs": [
        {
          "output_type": "execute_result",
          "data": {
            "text/plain": [
              "[<matplotlib.lines.Line2D at 0x7f81660b68d0>]"
            ]
          },
          "metadata": {
            "tags": []
          },
          "execution_count": 3
        },
        {
          "output_type": "display_data",
          "data": {
            "image/png": "[encoded data removed]",
            "text/plain": [
              "<Figure size 432x288 with 1 Axes>"
            ]
          },
          "metadata": {
            "tags": [],
            "needs_background": "light"
          }
        }
      ]
    },
    {
      "cell_type": "markdown",
      "metadata": {
        "id": "Qv2xJsLPExXC"
      },
      "source": [
        "# Plot 표현 방법 바꾸기\r\n",
        "\r\n",
        "plot: 축에 들어갈 데이터를 넣습니다. 직접 입력하거나 배열(Numpy 등)을 넣을 수 있습니다.\r\n",
        "\r\n",
        "axis: 가로 세로 축의 범위를 설정합니다."
      ]
    },
    {
      "cell_type": "code",
      "metadata": {
        "colab": {
          "base_uri": "https://localhost:8080/",
          "height": 286
        },
        "id": "5jyaxMpnEwGs",
        "outputId": "40d91f06-903f-4c71-fc78-1f56424d1d9e"
      },
      "source": [
        "plt.plot([1, 2, 3, 4], [1, 8, 11, 16], 'r--')\r\n",
        "plt.axis([0, 5, 0, 25])\r\n",
        "plt.show"
      ],
      "execution_count": 4,
      "outputs": [
        {
          "output_type": "execute_result",
          "data": {
            "text/plain": [
              "<function matplotlib.pyplot.show>"
            ]
          },
          "metadata": {
            "tags": []
          },
          "execution_count": 4
        },
        {
          "output_type": "display_data",
          "data": {
            "image/png": "[encoded data removed]",
            "text/plain": [
              "<Figure size 432x288 with 1 Axes>"
            ]
          },
          "metadata": {
            "tags": [],
            "needs_background": "light"
          }
        }
      ]
    },
    {
      "cell_type": "markdown",
      "metadata": {
        "id": "OrUERgf0FmOa"
      },
      "source": [
        "# 하나의 Plot에 두 가지 데이터 넣기"
      ]
    },
    {
      "cell_type": "code",
      "metadata": {
        "colab": {
          "base_uri": "https://localhost:8080/",
          "height": 285
        },
        "id": "5Td8e2RoFj6d",
        "outputId": "cd64952e-6bed-469b-8eeb-b0d7cbac4714"
      },
      "source": [
        "import numpy as np\r\n",
        "seq = np.arange(0., 5., 0.2)\r\n",
        "plt.plot(seq, seq**1.25, 'r--', seq, 1+seq**2, 'b^')\r\n",
        "plt.show"
      ],
      "execution_count": 6,
      "outputs": [
        {
          "output_type": "execute_result",
          "data": {
            "text/plain": [
              "<function matplotlib.pyplot.show>"
            ]
          },
          "metadata": {
            "tags": []
          },
          "execution_count": 6
        },
        {
          "output_type": "display_data",
          "data": {
            "image/png": "[encoded data removed]",
            "text/plain": [
              "<Figure size 432x288 with 1 Axes>"
            ]
          },
          "metadata": {
            "tags": [],
            "needs_background": "light"
          }
        }
      ]
    },
    {
      "cell_type": "markdown",
      "metadata": {
        "id": "f47gN2mbGFwk"
      },
      "source": [
        "# 하나의 Plot에 여러 개의 Subplot 넣기"
      ]
    },
    {
      "cell_type": "code",
      "metadata": {
        "colab": {
          "base_uri": "https://localhost:8080/",
          "height": 312
        },
        "id": "pWDkJrexF_ys",
        "outputId": "ae848149-f5c1-491b-d0d4-8bc095eddf31"
      },
      "source": [
        "x = ['a', 'b', 'c']\r\n",
        "y = [1, 2, 6]\r\n",
        "\r\n",
        "plt.figure()\r\n",
        "\r\n",
        "plt.subplot(1, 3, 1)\r\n",
        "plt.bar(x, y)\r\n",
        "\r\n",
        "plt.subplot(132)\r\n",
        "plt.scatter(x, y)\r\n",
        "\r\n",
        "plt.subplot(133)\r\n",
        "plt.scatter(x, y)\r\n",
        "\r\n",
        "plt.suptitle('3 plots')\r\n",
        "plt.show"
      ],
      "execution_count": 7,
      "outputs": [
        {
          "output_type": "execute_result",
          "data": {
            "text/plain": [
              "<function matplotlib.pyplot.show>"
            ]
          },
          "metadata": {
            "tags": []
          },
          "execution_count": 7
        },
        {
          "output_type": "display_data",
          "data": {
            "image/png": "[encoded data removed]",
            "text/plain": [
              "<Figure size 432x288 with 3 Axes>"
            ]
          },
          "metadata": {
            "tags": [],
            "needs_background": "light"
          }
        }
      ]
    }
  ]
}