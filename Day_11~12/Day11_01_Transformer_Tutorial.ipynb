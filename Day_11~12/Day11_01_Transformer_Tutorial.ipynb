{
  "nbformat": 4,
  "nbformat_minor": 0,
  "metadata": {
    "colab": {
      "name": "Day11_01_Transformer Tutorial",
      "provenance": [],
      "collapsed_sections": [
        "JHkHg6XAXoyK",
        "pKEZAHeCzxRm",
        "sDYpkXKSa0S0",
        "BHIf3KEV09K3",
        "DMLh4TXbGrHf",
        "AP6eq87QHWHv",
        "itVetPQs1D98",
        "A_kvndtnH-gh",
        "y6_0vG8SISFB",
        "J5TmKt9JIXzc",
        "uuav6G6Bh8L4",
        "ObWGnfj6Ic_M",
        "MH_M42l5Iezo",
        "Z4OCTlKPIh0Z",
        "zv8egauKIl6h",
        "sgmPfzaBIo_V"
      ]
    },
    "kernelspec": {
      "name": "python3",
      "display_name": "Python 3"
    },
    "accelerator": "GPU"
  },
  "cells": [
    {
      "cell_type": "markdown",
      "metadata": {
        "id": "JHkHg6XAXoyK"
      },
      "source": [
        "# Evn"
      ]
    },
    {
      "cell_type": "code",
      "metadata": {
        "id": "WkYXFwcBXJDG"
      },
      "source": [
        "import os\n",
        "import random\n",
        "import shutil\n",
        "import json\n",
        "import zipfile\n",
        "import math\n",
        "import copy\n",
        "import collections\n",
        "import re\n",
        "\n",
        "import matplotlib.pyplot as plt\n",
        "import pandas as pd\n",
        "import numpy as np\n",
        "import tensorflow as tf\n",
        "import tensorflow.keras.backend as KK\n",
        "\n",
        "from tqdm.notebook import tqdm"
      ],
      "execution_count": 1,
      "outputs": []
    },
    {
      "cell_type": "code",
      "metadata": {
        "id": "nvjyruUlXtlR"
      },
      "source": [
        "# random seed initialize\n",
        "random_seed = 1234\n",
        "random.seed(random_seed)\n",
        "np.random.seed(random_seed)\n",
        "tf.random.set_seed(random_seed)"
      ],
      "execution_count": 2,
      "outputs": []
    },
    {
      "cell_type": "code",
      "metadata": {
        "id": "BC3fXkhdYcYt",
        "colab": {
          "base_uri": "https://localhost:8080/"
        },
        "outputId": "c482663c-9cf6-4190-ea3f-94a7516c233f"
      },
      "source": [
        "!nvidia-smi"
      ],
      "execution_count": 3,
      "outputs": [
        {
          "output_type": "stream",
          "text": [
            "NVIDIA-SMI has failed because it couldn't communicate with the NVIDIA driver. Make sure that the latest NVIDIA driver is installed and running.\n",
            "\n"
          ],
          "name": "stdout"
        }
      ]
    },
    {
      "cell_type": "markdown",
      "metadata": {
        "id": "pKEZAHeCzxRm"
      },
      "source": [
        "# Config"
      ]
    },
    {
      "cell_type": "code",
      "metadata": {
        "id": "u9VJvPSx12Q8"
      },
      "source": [
        "class Config(dict):\n",
        "    \"\"\"\n",
        "    json을 config 형태로 사용하기 위한 Class\n",
        "    :param dict: config dictionary\n",
        "    \"\"\"\n",
        "    __getattr__ = dict.__getitem__\n",
        "    __setattr__ = dict.__setitem__\n",
        "\n",
        "    @classmethod\n",
        "    def load(cls, file):\n",
        "        \"\"\"\n",
        "        file에서 Config를 생성 함\n",
        "        :param file: filename\n",
        "        \"\"\"\n",
        "        with open(file, 'r') as f:\n",
        "            config = json.loads(f.read())\n",
        "            return Config(config)"
      ],
      "execution_count": 31,
      "outputs": []
    },
    {
      "cell_type": "code",
      "metadata": {
        "id": "4Bb_Q7DhzlGp",
        "colab": {
          "base_uri": "https://localhost:8080/"
        },
        "outputId": "895e2a9a-aa5b-41ea-96da-c36cc5af9a48"
      },
      "source": [
        "# config 생성\n",
        "# d_model: model hidden dim\n",
        "# n_head: multi head attention head number\n",
        "# d_head: multi head attention head dim\n",
        "# dropout: dropout rate\n",
        "# d_ff: feed forward dim\n",
        "# norm_eps: layernormal epsilon\n",
        "# n_layer: layer number\n",
        "# n_seq: sequence max number\n",
        "# n_vocab: vocab count\n",
        "# i_pad: vocab pad id\n",
        "config = Config({\"d_model\": 8,\n",
        "                 \"n_head\": 2,\n",
        "                 \"d_head\": 4,\n",
        "                 \"dropout\": 0.1,\n",
        "                 \"d_ff\": 32,\n",
        "                 \"norm_eps\": 0.001,\n",
        "                 \"n_layer\": 6,\n",
        "                 \"n_seq\": 16,\n",
        "                 \"n_vocab\": 16,\n",
        "                 \"i_pad\": 0})\n",
        "config"
      ],
      "execution_count": 32,
      "outputs": [
        {
          "output_type": "execute_result",
          "data": {
            "text/plain": [
              "{'d_ff': 32,\n",
              " 'd_head': 4,\n",
              " 'd_model': 8,\n",
              " 'dropout': 0.1,\n",
              " 'i_pad': 0,\n",
              " 'n_head': 2,\n",
              " 'n_layer': 6,\n",
              " 'n_seq': 16,\n",
              " 'n_vocab': 16,\n",
              " 'norm_eps': 0.001}"
            ]
          },
          "metadata": {
            "tags": []
          },
          "execution_count": 32
        }
      ]
    },
    {
      "cell_type": "markdown",
      "metadata": {
        "id": "sDYpkXKSa0S0"
      },
      "source": [
        "# Input"
      ]
    },
    {
      "cell_type": "code",
      "metadata": {
        "id": "bD4ou2ahas6z"
      },
      "source": [
        "# 입력 문장\n",
        "sentences = [\n",
        "    ['나는 오늘 행복해', '나도 기분이 좋아'],\n",
        "    # ['나는 오늘 기분이 좋아', '나도 매우 행복하다'],\n",
        "]"
      ],
      "execution_count": 33,
      "outputs": []
    },
    {
      "cell_type": "code",
      "metadata": {
        "id": "gVax4yWKa6iG",
        "colab": {
          "base_uri": "https://localhost:8080/"
        },
        "outputId": "77f66339-d263-4280-f958-f878e3183926"
      },
      "source": [
        "# 각 문장을 띄어쓰기 단위로 분할\n",
        "words = []\n",
        "for pair in sentences:\n",
        "    for sentence in pair:\n",
        "        words.extend(sentence.split())\n",
        "\n",
        "# 중복 단어 제거\n",
        "words = list(dict.fromkeys(words))\n",
        "\n",
        "# 각 단어별 고유한 번호 부여\n",
        "word_to_id = {'[PAD]': 0, '[UNK]': 1, '[BOS]': 2, '[EOS]': 3}\n",
        "for word in words:\n",
        "    word_to_id[word] = len(word_to_id)\n",
        "\n",
        "# 각 숫자별 단어 부여\n",
        "id_to_word = {_id:word for word, _id in word_to_id.items()}\n",
        "\n",
        "word_to_id, id_to_word"
      ],
      "execution_count": 34,
      "outputs": [
        {
          "output_type": "execute_result",
          "data": {
            "text/plain": [
              "({'[BOS]': 2,\n",
              "  '[EOS]': 3,\n",
              "  '[PAD]': 0,\n",
              "  '[UNK]': 1,\n",
              "  '기분이': 8,\n",
              "  '나는': 4,\n",
              "  '나도': 7,\n",
              "  '오늘': 5,\n",
              "  '좋아': 9,\n",
              "  '행복해': 6},\n",
              " {0: '[PAD]',\n",
              "  1: '[UNK]',\n",
              "  2: '[BOS]',\n",
              "  3: '[EOS]',\n",
              "  4: '나는',\n",
              "  5: '오늘',\n",
              "  6: '행복해',\n",
              "  7: '나도',\n",
              "  8: '기분이',\n",
              "  9: '좋아'})"
            ]
          },
          "metadata": {
            "tags": []
          },
          "execution_count": 34
        }
      ]
    },
    {
      "cell_type": "code",
      "metadata": {
        "id": "ooN0V7loa8a9",
        "colab": {
          "base_uri": "https://localhost:8080/"
        },
        "outputId": "61e43121-9d4b-4bd1-dbcc-496a7a4c3f26"
      },
      "source": [
        "# Question과 Answer를 숫자료\n",
        "question_list, answer_list = [], []\n",
        "\n",
        "for pair in sentences:\n",
        "    question_list.append([word_to_id[word] for word in pair[0].split()])\n",
        "    answer_list.append([word_to_id[word] for word in pair[1].split()])\n",
        "\n",
        "# 학습용 입력 데이터 생성\n",
        "train_enc_inputs, train_dec_inputs, train_labels = [], [], []\n",
        "for question, answer in zip(question_list, answer_list):\n",
        "    train_enc_inputs.append(question)\n",
        "    train_dec_inputs.append([word_to_id['[BOS]']] + answer)\n",
        "    train_labels.append(answer + [word_to_id['[EOS]']])\n",
        "\n",
        "# Encoder 입력의 길이를 모두 동일하게 변경 (최대길이 5)\n",
        "for row in train_enc_inputs:\n",
        "    row += [0] * (5 - len(row))\n",
        "\n",
        "# Decoder 입력의 길이를 모두 동일하게 변경 (최대길이 6)\n",
        "for row in train_dec_inputs:\n",
        "    row += [0] * (6 - len(row))\n",
        "\n",
        "# 정답의 길이를 모두 동일하게 변경 (최대길이 6)\n",
        "for row in train_labels:\n",
        "    row += [0] * (6 - len(row))\n",
        "\n",
        "# numpy array로 변환/\n",
        "train_enc_inputs = np.array(train_enc_inputs)\n",
        "train_dec_inputs = np.array(train_dec_inputs)\n",
        "train_labels = np.array(train_labels)\n",
        "\n",
        "train_enc_inputs, train_dec_inputs, train_labels"
      ],
      "execution_count": 35,
      "outputs": [
        {
          "output_type": "execute_result",
          "data": {
            "text/plain": [
              "(array([[4, 5, 6, 0, 0]]),\n",
              " array([[2, 7, 8, 9, 0, 0]]),\n",
              " array([[7, 8, 9, 3, 0, 0]]))"
            ]
          },
          "metadata": {
            "tags": []
          },
          "execution_count": 35
        }
      ]
    },
    {
      "cell_type": "code",
      "metadata": {
        "id": "5hpmht2zeTC9",
        "colab": {
          "base_uri": "https://localhost:8080/"
        },
        "outputId": "66bfe390-12f2-4ad5-818e-82d0887ebdc1"
      },
      "source": [
        "# embedding with random weight\n",
        "embed_weight = np.random.randint(-9, 10, (config.n_vocab, config.d_model)) / 10\n",
        "\n",
        "embed = tf.keras.layers.Embedding(config.n_vocab, config.d_model, weights=[embed_weight])\n",
        "embed_weight"
      ],
      "execution_count": 36,
      "outputs": [
        {
          "output_type": "execute_result",
          "data": {
            "text/plain": [
              "array([[ 0.2,  0.6,  0.7, -0.9,  0.8, -0.9,  0.8,  0. ],\n",
              "       [-0.6, -0.5, -0.8,  0.2,  0.8, -0.3, -0.7, -0.2],\n",
              "       [ 0.3,  0.3, -0.9, -0.1,  0.6,  0.4,  0.4,  0. ],\n",
              "       [ 0.6, -0.5, -0.2, -0.2,  0.8, -0.2,  0.9, -0.4],\n",
              "       [-0.7,  0.9, -0.3, -0.1,  0.8,  0. ,  0.6,  0.2],\n",
              "       [ 0.3, -0.6,  0.1,  0.2, -0.7, -0.1, -0.8,  0.5],\n",
              "       [-0.5,  0.1, -0.6,  0.8,  0.6, -0.9,  0.4,  0.7],\n",
              "       [ 0. , -0.6,  0.7,  0. ,  0.9,  0.8,  0.1, -0.2],\n",
              "       [ 0.8, -0.5, -0.6,  0.5,  0.6, -0.4, -0.1, -0.1],\n",
              "       [ 0.5,  0.8, -0.6, -0.3, -0.1,  0. , -0.8, -0.4],\n",
              "       [ 0.4,  0.8, -0.8, -0.8, -0.7,  0.4,  0.4,  0.9],\n",
              "       [ 0.5,  0.4,  0.4,  0.6,  0.2, -0.8,  0. , -0.9],\n",
              "       [ 0.7,  0.9,  0.8,  0.1,  0.5,  0.2, -0.7, -0.9],\n",
              "       [ 0.7, -0.3,  0.8,  0.5, -0.5,  0.5,  0.2, -0.3],\n",
              "       [ 0.9,  0.7, -0.2,  0.7, -0.7, -0.1,  0.5, -0.1],\n",
              "       [ 0.4, -0.7, -0.2,  0.1,  0.3, -0.9,  0.1,  0.8]])"
            ]
          },
          "metadata": {
            "tags": []
          },
          "execution_count": 36
        }
      ]
    },
    {
      "cell_type": "code",
      "metadata": {
        "id": "SOj4JVDTe2Ct",
        "colab": {
          "base_uri": "https://localhost:8080/"
        },
        "outputId": "918e0d4b-fa97-4857-d7ee-3b63c2977f30"
      },
      "source": [
        "# encoder hidden\n",
        "hidden_enc = embed(train_enc_inputs)\n",
        "hidden_enc"
      ],
      "execution_count": 37,
      "outputs": [
        {
          "output_type": "execute_result",
          "data": {
            "text/plain": [
              "<tf.Tensor: shape=(1, 5, 8), dtype=float32, numpy=\n",
              "array([[[-0.7,  0.9, -0.3, -0.1,  0.8,  0. ,  0.6,  0.2],\n",
              "        [ 0.3, -0.6,  0.1,  0.2, -0.7, -0.1, -0.8,  0.5],\n",
              "        [-0.5,  0.1, -0.6,  0.8,  0.6, -0.9,  0.4,  0.7],\n",
              "        [ 0.2,  0.6,  0.7, -0.9,  0.8, -0.9,  0.8,  0. ],\n",
              "        [ 0.2,  0.6,  0.7, -0.9,  0.8, -0.9,  0.8,  0. ]]], dtype=float32)>"
            ]
          },
          "metadata": {
            "tags": []
          },
          "execution_count": 37
        }
      ]
    },
    {
      "cell_type": "code",
      "metadata": {
        "id": "FJWefv-5e-wu",
        "colab": {
          "base_uri": "https://localhost:8080/"
        },
        "outputId": "a93a7f2f-7e81-4430-b73b-99826a041b61"
      },
      "source": [
        "# decoder hidden\n",
        "hidden_dec = embed(train_dec_inputs)\n",
        "hidden_dec"
      ],
      "execution_count": 38,
      "outputs": [
        {
          "output_type": "execute_result",
          "data": {
            "text/plain": [
              "<tf.Tensor: shape=(1, 6, 8), dtype=float32, numpy=\n",
              "array([[[ 0.3,  0.3, -0.9, -0.1,  0.6,  0.4,  0.4,  0. ],\n",
              "        [ 0. , -0.6,  0.7,  0. ,  0.9,  0.8,  0.1, -0.2],\n",
              "        [ 0.8, -0.5, -0.6,  0.5,  0.6, -0.4, -0.1, -0.1],\n",
              "        [ 0.5,  0.8, -0.6, -0.3, -0.1,  0. , -0.8, -0.4],\n",
              "        [ 0.2,  0.6,  0.7, -0.9,  0.8, -0.9,  0.8,  0. ],\n",
              "        [ 0.2,  0.6,  0.7, -0.9,  0.8, -0.9,  0.8,  0. ]]], dtype=float32)>"
            ]
          },
          "metadata": {
            "tags": []
          },
          "execution_count": 38
        }
      ]
    },
    {
      "cell_type": "markdown",
      "metadata": {
        "id": "BHIf3KEV09K3"
      },
      "source": [
        "# Mask"
      ]
    },
    {
      "cell_type": "markdown",
      "metadata": {
        "id": "DMLh4TXbGrHf"
      },
      "source": [
        "## PAD Mask"
      ]
    },
    {
      "cell_type": "code",
      "metadata": {
        "colab": {
          "base_uri": "https://localhost:8080/"
        },
        "id": "h8_CBNkQZdci",
        "outputId": "b0c825a7-fdd9-4b6d-e4af-e1eff1cb0d92"
      },
      "source": [
        "train_enc_inputs, train_dec_inputs"
      ],
      "execution_count": 39,
      "outputs": [
        {
          "output_type": "execute_result",
          "data": {
            "text/plain": [
              "(array([[4, 5, 6, 0, 0]]), array([[2, 7, 8, 9, 0, 0]]))"
            ]
          },
          "metadata": {
            "tags": []
          },
          "execution_count": 39
        }
      ]
    },
    {
      "cell_type": "code",
      "metadata": {
        "id": "ctSRBdAeG7xd"
      },
      "source": [
        "def get_pad_mask(tokens, i_pad=0):\n",
        "    \"\"\"\n",
        "    pad mask 계산하는 함수\n",
        "    :param tokens: tokens (bs, n_seq)\n",
        "    :param i_pad: id of pad\n",
        "    :return mask: pad mask (pad: 1, other: 0)\n",
        "    \"\"\"\n",
        "    #########################################\n",
        "    # 0인 부분 확인\n",
        "    mask = tf.math.equal(tokens, i_pad)\n",
        "    # boolean -> float 32\n",
        "    mask = tf.cast(mask, tf.float32)\n",
        "    # expand dimension for n_seq\n",
        "    mask = tf.expand_dims(mask, axis=1)\n",
        "    #########################################\n",
        "    return mask"
      ],
      "execution_count": 40,
      "outputs": []
    },
    {
      "cell_type": "code",
      "metadata": {
        "id": "GqJIRPejHOuX",
        "colab": {
          "base_uri": "https://localhost:8080/"
        },
        "outputId": "82c487d5-0d00-4722-d92c-c66f2eb543c6"
      },
      "source": [
        "enc_pad_mask = get_pad_mask(train_enc_inputs)\n",
        "enc_pad_mask"
      ],
      "execution_count": 41,
      "outputs": [
        {
          "output_type": "execute_result",
          "data": {
            "text/plain": [
              "<tf.Tensor: shape=(1, 1, 5), dtype=float32, numpy=array([[[0., 0., 0., 1., 1.]]], dtype=float32)>"
            ]
          },
          "metadata": {
            "tags": []
          },
          "execution_count": 41
        }
      ]
    },
    {
      "cell_type": "markdown",
      "metadata": {
        "id": "AP6eq87QHWHv"
      },
      "source": [
        "## Causal Mask"
      ]
    },
    {
      "cell_type": "code",
      "metadata": {
        "id": "jgCB3zk-HykT"
      },
      "source": [
        "def get_causal_mask(tokens, i_pad=0):\n",
        "    \"\"\"\n",
        "    causal mask 계산하는 함수\n",
        "    :param tokens: tokens (bs, n_seq)\n",
        "    :param i_pad: id of pad\n",
        "    :return mask: causal and pad mask (causal or pad: 1, other: 0)\n",
        "    \"\"\"\n",
        "    #########################################\n",
        "    # 개수 조회\n",
        "    n_seq = tf.shape(tokens)[1]\n",
        "    # print(n_seq)\n",
        "    # make ahead mask\n",
        "    mask = 1 - tf.linalg.band_part(tf.ones((n_seq, n_seq)), -1, 0)\n",
        "    # expand dim for bs\n",
        "    mask = tf.expand_dims(mask, axis=0)\n",
        "    # print(mask)\n",
        "    # get pad_mask\n",
        "    pad_mask = get_pad_mask(tokens, i_pad)\n",
        "    # print(pad_mask)\n",
        "    # mask all ahead_mask or pad_mask\n",
        "    mask = tf.maximum(mask, pad_mask)\n",
        "    #########################################\n",
        "    return mask"
      ],
      "execution_count": 42,
      "outputs": []
    },
    {
      "cell_type": "code",
      "metadata": {
        "id": "gUsByA_eH296",
        "colab": {
          "base_uri": "https://localhost:8080/"
        },
        "outputId": "88059464-de57-408d-dbf9-042da96777ee"
      },
      "source": [
        "dec_causal_mask = get_causal_mask(train_dec_inputs)\n",
        "dec_causal_mask"
      ],
      "execution_count": 43,
      "outputs": [
        {
          "output_type": "execute_result",
          "data": {
            "text/plain": [
              "<tf.Tensor: shape=(1, 6, 6), dtype=float32, numpy=\n",
              "array([[[0., 1., 1., 1., 1., 1.],\n",
              "        [0., 0., 1., 1., 1., 1.],\n",
              "        [0., 0., 0., 1., 1., 1.],\n",
              "        [0., 0., 0., 0., 1., 1.],\n",
              "        [0., 0., 0., 0., 1., 1.],\n",
              "        [0., 0., 0., 0., 1., 1.]]], dtype=float32)>"
            ]
          },
          "metadata": {
            "tags": []
          },
          "execution_count": 43
        }
      ]
    },
    {
      "cell_type": "markdown",
      "metadata": {
        "id": "itVetPQs1D98"
      },
      "source": [
        "## Mask 생성"
      ]
    },
    {
      "cell_type": "code",
      "metadata": {
        "id": "BRfuGqhx1Ddw",
        "colab": {
          "base_uri": "https://localhost:8080/"
        },
        "outputId": "7d3e24b1-025a-45ca-c305-3cad4d56f087"
      },
      "source": [
        "# Encoder Self Attetnion mask\n",
        "enc_self_mask = get_pad_mask(train_enc_inputs)\n",
        "enc_self_mask"
      ],
      "execution_count": 47,
      "outputs": [
        {
          "output_type": "execute_result",
          "data": {
            "text/plain": [
              "<tf.Tensor: shape=(1, 1, 5), dtype=float32, numpy=array([[[0., 0., 0., 1., 1.]]], dtype=float32)>"
            ]
          },
          "metadata": {
            "tags": []
          },
          "execution_count": 47
        }
      ]
    },
    {
      "cell_type": "code",
      "metadata": {
        "id": "bGIvBeLy1C5P",
        "colab": {
          "base_uri": "https://localhost:8080/"
        },
        "outputId": "bc53c7fb-0196-4d3d-c2d3-d3f0e02d54d5"
      },
      "source": [
        "# Decoder Self Attetnion mask\n",
        "dec_self_mask = get_causal_mask(train_dec_inputs)\n",
        "dec_self_mask"
      ],
      "execution_count": 48,
      "outputs": [
        {
          "output_type": "execute_result",
          "data": {
            "text/plain": [
              "<tf.Tensor: shape=(1, 6, 6), dtype=float32, numpy=\n",
              "array([[[0., 1., 1., 1., 1., 1.],\n",
              "        [0., 0., 1., 1., 1., 1.],\n",
              "        [0., 0., 0., 1., 1., 1.],\n",
              "        [0., 0., 0., 0., 1., 1.],\n",
              "        [0., 0., 0., 0., 1., 1.],\n",
              "        [0., 0., 0., 0., 1., 1.]]], dtype=float32)>"
            ]
          },
          "metadata": {
            "tags": []
          },
          "execution_count": 48
        }
      ]
    },
    {
      "cell_type": "code",
      "metadata": {
        "id": "MbU42aps1Vy3",
        "colab": {
          "base_uri": "https://localhost:8080/"
        },
        "outputId": "52929daf-5fcf-416f-9366-7d18df2e7c68"
      },
      "source": [
        "# Encoder-Decoder Attetnion mask\n",
        "enc_dec_mask = get_pad_mask(train_enc_inputs)\n",
        "enc_dec_mask"
      ],
      "execution_count": 49,
      "outputs": [
        {
          "output_type": "execute_result",
          "data": {
            "text/plain": [
              "<tf.Tensor: shape=(1, 1, 5), dtype=float32, numpy=array([[[0., 0., 0., 1., 1.]]], dtype=float32)>"
            ]
          },
          "metadata": {
            "tags": []
          },
          "execution_count": 49
        }
      ]
    },
    {
      "cell_type": "markdown",
      "metadata": {
        "id": "A_kvndtnH-gh"
      },
      "source": [
        "# Scaled dot product attention"
      ]
    },
    {
      "cell_type": "code",
      "metadata": {
        "id": "IFkp9rLd_Etz"
      },
      "source": [
        "class ScaleDotProductAttention(tf.keras.layers.Layer):\n",
        "    \"\"\"\n",
        "    Scale Dot Product Attention Class\n",
        "    \"\"\"\n",
        "    def __init__(self, name=\"scale_dot_product_attention\"):\n",
        "        \"\"\"\n",
        "        생성자\n",
        "        :param name: layer name\n",
        "        \"\"\"\n",
        "        super().__init__(name=name)\n",
        "\n",
        "    def call(self, inputs):\n",
        "        \"\"\"\n",
        "        layer 실행\n",
        "        :param inputs: Q, K, V, attn_mask tuple\n",
        "        :return attn_out: attention 실행 결과\n",
        "        \"\"\"\n",
        "        #########################################\n",
        "        Q, K, V, attn_mask = inputs\n",
        "        # matmul Q, K (transpose_b=True)\n",
        "        attn_score = tf.matmul(Q, K, transpose_b=True)\n",
        "        # get scale = d_model ** 0.5\n",
        "        scale = tf.math.sqrt(tf.cast(tf.shape(K)[-1], tf.float32))\n",
        "        # print(attn_score)\n",
        "        # divide by scale\n",
        "        attn_scale = tf.math.divide(attn_score, scale)\n",
        "        # print(attn_scale)\n",
        "        # do mask (subtract 1e-9 for masked value)\n",
        "        attn_scale -= 1.e9 * attn_mask\n",
        "        # print(attn_scale)\n",
        "        # calculate attention prob\n",
        "        attn_prob = tf.nn.softmax(attn_scale, axis=-1)\n",
        "        # print(attn_prob)\n",
        "        # weighted sum of V\n",
        "        attn_out = tf.matmul(attn_prob, V)\n",
        "        return attn_out\n",
        "        #########################################"
      ],
      "execution_count": 50,
      "outputs": []
    },
    {
      "cell_type": "code",
      "metadata": {
        "id": "QlFeIqeUAlOd",
        "colab": {
          "base_uri": "https://localhost:8080/"
        },
        "outputId": "4940bad4-89e9-478d-cf2b-9ee11cae82a6"
      },
      "source": [
        "# Encoder Self Attetnion\n",
        "Q = hidden_enc\n",
        "K = hidden_enc\n",
        "V = hidden_enc\n",
        "\n",
        "attention = ScaleDotProductAttention()\n",
        "attn_out = attention((Q, K, V, enc_self_mask))\n",
        "attn_out"
      ],
      "execution_count": 51,
      "outputs": [
        {
          "output_type": "execute_result",
          "data": {
            "text/plain": [
              "<tf.Tensor: shape=(1, 5, 8), dtype=float32, numpy=\n",
              "array([[[-0.50911164,  0.43341646, -0.3606355 ,  0.26008826,\n",
              "          0.5497177 , -0.33633065,  0.36159647,  0.41588745],\n",
              "        [-0.06724049, -0.17800815, -0.14483656,  0.3063276 ,\n",
              "         -0.12336546, -0.2900852 , -0.2652443 ,  0.5032325 ],\n",
              "        [-0.43354404,  0.22906129, -0.39957127,  0.43564484,\n",
              "          0.45456704, -0.504054  ,  0.27036244,  0.518641  ],\n",
              "        [-0.45888942,  0.36656925, -0.3340971 ,  0.26089817,\n",
              "          0.4726871 , -0.3264172 ,  0.28992754,  0.4234863 ],\n",
              "        [-0.45888942,  0.36656925, -0.3340971 ,  0.26089817,\n",
              "          0.4726871 , -0.3264172 ,  0.28992754,  0.4234863 ]]],\n",
              "      dtype=float32)>"
            ]
          },
          "metadata": {
            "tags": []
          },
          "execution_count": 51
        }
      ]
    },
    {
      "cell_type": "code",
      "metadata": {
        "id": "pU-46iGWeIM3",
        "colab": {
          "base_uri": "https://localhost:8080/"
        },
        "outputId": "197e6b97-83ac-4549-8ab5-f1b616b52a33"
      },
      "source": [
        "# Decoder Self Attetnion\n",
        "Q = hidden_dec\n",
        "K = hidden_dec\n",
        "V = hidden_dec\n",
        "\n",
        "attn_out = attention((Q, K, V, dec_self_mask))\n",
        "attn_out"
      ],
      "execution_count": 52,
      "outputs": [
        {
          "output_type": "execute_result",
          "data": {
            "text/plain": [
              "<tf.Tensor: shape=(1, 6, 8), dtype=float32, numpy=\n",
              "array([[[ 0.3       ,  0.3       , -0.9       , -0.1       ,\n",
              "          0.6       ,  0.4       ,  0.4       ,  0.        ],\n",
              "        [ 0.09306987, -0.32079038,  0.20362732, -0.03102329,\n",
              "          0.8069301 ,  0.67590684,  0.19306988, -0.13795342],\n",
              "        [ 0.46302363, -0.2872308 , -0.3811862 ,  0.20442598,\n",
              "          0.67095506,  0.12024096,  0.09506643, -0.09409906],\n",
              "        [ 0.4482097 ,  0.21393341, -0.49406374, -0.04143297,\n",
              "          0.35138345,  0.118877  , -0.2435439 , -0.21395832],\n",
              "        [ 0.3798554 , -0.01689973, -0.3250295 ,  0.02074707,\n",
              "          0.52177346,  0.23209472, -0.07237536, -0.16928887],\n",
              "        [ 0.3798554 , -0.01689973, -0.3250295 ,  0.02074707,\n",
              "          0.52177346,  0.23209472, -0.07237536, -0.16928887]]],\n",
              "      dtype=float32)>"
            ]
          },
          "metadata": {
            "tags": []
          },
          "execution_count": 52
        }
      ]
    },
    {
      "cell_type": "code",
      "metadata": {
        "id": "uxxgRGhJfdAj",
        "colab": {
          "base_uri": "https://localhost:8080/"
        },
        "outputId": "21d3a199-70fd-4c89-d82c-4470a1338e68"
      },
      "source": [
        "# Encoder-Decoder Attetnion\n",
        "Q = hidden_dec\n",
        "K = hidden_enc\n",
        "V = hidden_enc\n",
        "\n",
        "attn_out = attention((Q, K, V, enc_dec_mask))\n",
        "attn_out"
      ],
      "execution_count": 53,
      "outputs": [
        {
          "output_type": "execute_result",
          "data": {
            "text/plain": [
              "<tf.Tensor: shape=(1, 6, 8), dtype=float32, numpy=\n",
              "array([[[-0.418095  ,  0.29930377, -0.32239544,  0.28334057,\n",
              "          0.41271025, -0.34118664,  0.23378721,  0.4410696 ],\n",
              "        [-0.3159041 ,  0.17746653, -0.25761783,  0.2611634 ,\n",
              "          0.25313416, -0.2960554 ,  0.08568814,  0.44405168],\n",
              "        [-0.28901818,  0.0745943 , -0.29439637,  0.37430197,\n",
              "          0.22531393, -0.40882024,  0.05805477,  0.50715554],\n",
              "        [-0.27636856,  0.1245461 , -0.23695253,  0.2623007 ,\n",
              "          0.19255418, -0.28877494,  0.02931705,  0.45029533],\n",
              "        [-0.45888942,  0.36656925, -0.3340971 ,  0.26089817,\n",
              "          0.4726871 , -0.3264172 ,  0.28992754,  0.4234863 ],\n",
              "        [-0.45888937,  0.36656922, -0.33409706,  0.26089817,\n",
              "          0.47268707, -0.3264172 ,  0.28992754,  0.42348626]]],\n",
              "      dtype=float32)>"
            ]
          },
          "metadata": {
            "tags": []
          },
          "execution_count": 53
        }
      ]
    },
    {
      "cell_type": "markdown",
      "metadata": {
        "id": "y6_0vG8SISFB"
      },
      "source": [
        "# Multi Head Attention"
      ]
    },
    {
      "cell_type": "code",
      "metadata": {
        "id": "3dkSuTsQXJTZ"
      },
      "source": [
        "class MultiHeadAttention(tf.keras.layers.Layer):\n",
        "    \"\"\"\n",
        "    Multi Head Attention Class\n",
        "    \"\"\"\n",
        "    def __init__(self, config, name=\"multi_head_attention\"):\n",
        "        \"\"\"\n",
        "        생성자\n",
        "        :param config: Config 객체\n",
        "        :param name: layer name\n",
        "        \"\"\"\n",
        "        super().__init__(name=name)\n",
        "\n",
        "        self.d_model = config.d_model\n",
        "        self.n_head = config.n_head\n",
        "        self.d_head = config.d_head\n",
        "\n",
        "        # Q, K, V input dense layer\n",
        "        self.W_Q = tf.keras.layers.Dense(config.n_head * config.d_head)\n",
        "        self.W_K = tf.keras.layers.Dense(config.n_head * config.d_head)\n",
        "        self.W_V = tf.keras.layers.Dense(config.n_head * config.d_head)\n",
        "        # Scale Dot Product Attention class\n",
        "        self.attention = ScaleDotProductAttention(name=\"self_attention\")\n",
        "        # output dense layer\n",
        "        self.W_O = tf.keras.layers.Dense(config.d_model)\n",
        "\n",
        "    def call(self, inputs):\n",
        "        \"\"\"\n",
        "        layer 실행\n",
        "        :param inputs: Q, K, V, attn_mask tuple\n",
        "        :return attn_out: attention 실행 결과\n",
        "        \"\"\"\n",
        "        #########################################\n",
        "        Q, K, V, attn_mask = inputs\n",
        "        # Q_m = self.W_Q(Q)\n",
        "        # print(Q_m.shape)\n",
        "        # Q_m = tf.reshape(Q_m, [-1, tf.shape(Q)[1], self.n_head, self.d_head])\n",
        "        # print(Q_m.shape)\n",
        "        # Q_m = tf.transpose(Q_m, [0, 2, 1, 3])\n",
        "        # print(Q_m.shape)\n",
        "        # build multihead Q, K, V\n",
        "        Q_m = tf.transpose(tf.reshape(self.W_Q(Q), [-1, tf.shape(Q)[1], self.n_head, self.d_head]), [0, 2, 1, 3])  # (bs, n_head, Q_len, d_head)\n",
        "        K_m = tf.transpose(tf.reshape(self.W_K(K), [-1, tf.shape(K)[1], self.n_head, self.d_head]), [0, 2, 1, 3])  # (bs, n_head, K_len, d_head)\n",
        "        V_m = tf.transpose(tf.reshape(self.W_V(V), [-1, tf.shape(V)[1], self.n_head, self.d_head]), [0, 2, 1, 3])  # (bs, n_head, K_len, d_head)\n",
        "        # print(Q_m.shape, K_m.shape, V_m.shape)÷\n",
        "        # build multihead mask\n",
        "        attn_mask_m = tf.expand_dims(attn_mask, axis=1)\n",
        "        # print(attn_mask.shape, attn_mask_m.shape)\n",
        "        # Scale Dot Product Attention with multi head Q, K, V, attn_mask\n",
        "        attn_out_m = self.attention((Q_m, K_m, V_m, attn_mask_m))  # (bs, n_head, Q_len, d_head)\n",
        "        # print(attn_out_m.shape)\n",
        "        # transpose and reshape\n",
        "        attn_out_t = tf.transpose(attn_out_m, perm=[0, 2, 1, 3])  # (bs, Q_len, n_head, d_head)\n",
        "        # print(attn_out_t.shape)\n",
        "        attn_out_c = tf.reshape(attn_out_t, [-1, tf.shape(Q)[1], config.n_head * config.d_head])  # (bs, Q_len, n_head * d_head)\n",
        "        # print(attn_out_c.shape)\n",
        "        # linear for output\n",
        "        attn_out = self.W_O(attn_out_c) # (bs, Q_len, d_model)\n",
        "        return attn_out\n",
        "        #########################################"
      ],
      "execution_count": 67,
      "outputs": []
    },
    {
      "cell_type": "code",
      "metadata": {
        "id": "iYJFgcWCzjka",
        "colab": {
          "base_uri": "https://localhost:8080/"
        },
        "outputId": "9287f57c-da4a-4528-fce1-37c4cb20968b"
      },
      "source": [
        "# Encoder Self Attetnion\n",
        "Q = hidden_enc\n",
        "K = hidden_enc\n",
        "V = hidden_enc\n",
        "\n",
        "attention = MultiHeadAttention(config)\n",
        "attn_out = attention((Q, K, V, enc_self_mask))\n",
        "attn_out"
      ],
      "execution_count": 68,
      "outputs": [
        {
          "output_type": "execute_result",
          "data": {
            "text/plain": [
              "<tf.Tensor: shape=(1, 5, 8), dtype=float32, numpy=\n",
              "array([[[ 0.52683437,  0.38330573, -0.02561356,  0.07957732,\n",
              "         -0.06856385, -0.31405988, -0.17434143, -0.59618974],\n",
              "        [ 0.6366712 ,  0.25047478, -0.09453376,  0.13765073,\n",
              "          0.01884101, -0.2719323 , -0.08499608, -0.57048357],\n",
              "        [ 0.5884589 ,  0.3128577 , -0.04170053,  0.10178022,\n",
              "         -0.02300563, -0.30892974, -0.13103805, -0.61558837],\n",
              "        [ 0.5275566 ,  0.24678458,  0.02045618,  0.14197357,\n",
              "          0.0291914 , -0.4072568 , -0.17154828, -0.77912474],\n",
              "        [ 0.5275566 ,  0.24678458,  0.02045618,  0.14197357,\n",
              "          0.0291914 , -0.4072568 , -0.17154828, -0.77912474]]],\n",
              "      dtype=float32)>"
            ]
          },
          "metadata": {
            "tags": []
          },
          "execution_count": 68
        }
      ]
    },
    {
      "cell_type": "code",
      "metadata": {
        "id": "sD7ckaZWznSu",
        "colab": {
          "base_uri": "https://localhost:8080/"
        },
        "outputId": "757065ad-0ea6-4cc1-ccdf-bedde011636c"
      },
      "source": [
        "# Decoder Self Attetnion\n",
        "Q = hidden_dec\n",
        "K = hidden_dec\n",
        "V = hidden_dec\n",
        "\n",
        "attn_out = attention((Q, K, V, dec_self_mask))\n",
        "attn_out"
      ],
      "execution_count": 69,
      "outputs": [
        {
          "output_type": "execute_result",
          "data": {
            "text/plain": [
              "<tf.Tensor: shape=(1, 6, 8), dtype=float32, numpy=\n",
              "array([[[-0.74660164, -0.19776344,  0.31806466,  0.34561142,\n",
              "         -0.15981841, -0.16199529, -0.19825302,  0.3198152 ],\n",
              "        [-0.04855204, -0.4909708 ,  0.14970767,  0.16516268,\n",
              "         -0.2563417 , -0.17257018,  0.12440275,  0.44761604],\n",
              "        [-0.08616766, -0.442646  ,  0.3291005 ,  0.00812659,\n",
              "         -0.40549135, -0.27035987,  0.08601825,  0.37452468],\n",
              "        [-0.39474562, -0.06929558,  0.27827376,  0.07635557,\n",
              "         -0.34157908, -0.16001026, -0.1033278 ,  0.29415184],\n",
              "        [-0.49491745, -0.00163816,  0.36008295,  0.05468317,\n",
              "         -0.34674567, -0.1947173 , -0.16280033,  0.20251259],\n",
              "        [-0.49491745, -0.00163816,  0.36008295,  0.05468317,\n",
              "         -0.34674567, -0.1947173 , -0.16280033,  0.20251259]]],\n",
              "      dtype=float32)>"
            ]
          },
          "metadata": {
            "tags": []
          },
          "execution_count": 69
        }
      ]
    },
    {
      "cell_type": "code",
      "metadata": {
        "id": "vM9SlWCTzuI0",
        "colab": {
          "base_uri": "https://localhost:8080/"
        },
        "outputId": "b555625a-b6d1-4533-bd53-899c71e6fc2a"
      },
      "source": [
        "# Encoder-Decoder Attetnion\n",
        "Q = hidden_dec\n",
        "K = hidden_enc\n",
        "V = hidden_enc\n",
        "\n",
        "attn_out = attention((Q, K, V, enc_dec_mask))\n",
        "attn_out"
      ],
      "execution_count": 70,
      "outputs": [
        {
          "output_type": "execute_result",
          "data": {
            "text/plain": [
              "<tf.Tensor: shape=(1, 6, 8), dtype=float32, numpy=\n",
              "array([[[ 0.51607275,  0.41083983, -0.00194673,  0.03724083,\n",
              "         -0.08143184, -0.27281895, -0.15809608, -0.5714813 ],\n",
              "        [ 0.5680006 ,  0.31279147, -0.06693046,  0.13905248,\n",
              "         -0.02643309, -0.34230065, -0.16269481, -0.61704904],\n",
              "        [ 0.6012956 ,  0.27289724, -0.01029755,  0.10401913,\n",
              "          0.00538321, -0.33691937, -0.12234069, -0.6873624 ],\n",
              "        [ 0.58971214,  0.2858772 , -0.02955879,  0.10626623,\n",
              "         -0.00198149, -0.31411913, -0.12184692, -0.6441557 ],\n",
              "        [ 0.5275566 ,  0.24678458,  0.02045618,  0.14197357,\n",
              "          0.0291914 , -0.4072568 , -0.17154828, -0.77912474],\n",
              "        [ 0.5275566 ,  0.24678458,  0.02045618,  0.14197357,\n",
              "          0.0291914 , -0.4072568 , -0.17154828, -0.77912474]]],\n",
              "      dtype=float32)>"
            ]
          },
          "metadata": {
            "tags": []
          },
          "execution_count": 70
        }
      ]
    },
    {
      "cell_type": "markdown",
      "metadata": {
        "id": "J5TmKt9JIXzc"
      },
      "source": [
        "# Feed Forward"
      ]
    },
    {
      "cell_type": "code",
      "metadata": {
        "id": "1MPtv3zPbxVm"
      },
      "source": [
        "class PositionWiseFeedForward(tf.keras.layers.Layer):\n",
        "    \"\"\"\n",
        "    Position Wise Feed Forward Class\n",
        "    \"\"\"\n",
        "    def __init__(self, config, name=\"feed_forward\"):\n",
        "        \"\"\"\n",
        "        생성자\n",
        "        :param config: Config 객체\n",
        "        :param name: layer name\n",
        "        \"\"\"\n",
        "        super().__init__(name=name)\n",
        "\n",
        "        self.W_1 = tf.keras.layers.Dense(config.d_ff, activation=tf.nn.relu)\n",
        "        self.W_2 = tf.keras.layers.Dense(config.d_model)\n",
        "\n",
        "    def call(self, inputs):\n",
        "        \"\"\"\n",
        "        layer 실행\n",
        "        :param inputs: inputs\n",
        "        :return ff_val: feed forward 실행 결과\n",
        "        \"\"\"\n",
        "        # linear W_1 and W_2\n",
        "        ff_val = self.W_1(inputs)\n",
        "        # print(ff_val)\n",
        "        ff_val = self.W_2(ff_val)\n",
        "        # print(ff_val)\n",
        "        return ff_val"
      ],
      "execution_count": 71,
      "outputs": []
    },
    {
      "cell_type": "code",
      "metadata": {
        "id": "vQdqftXNb1al",
        "colab": {
          "base_uri": "https://localhost:8080/"
        },
        "outputId": "be602c86-56b8-463a-9d21-cb837f916e10"
      },
      "source": [
        "# feed-forward class 동작 확인\n",
        "feed_forward = PositionWiseFeedForward(config)\n",
        "ff_val = feed_forward(hidden_enc)\n",
        "ff_val"
      ],
      "execution_count": 73,
      "outputs": [
        {
          "output_type": "execute_result",
          "data": {
            "text/plain": [
              "<tf.Tensor: shape=(1, 5, 8), dtype=float32, numpy=\n",
              "array([[[ 0.21809633, -0.07306581,  0.91028756,  0.52340066,\n",
              "         -0.39604557, -0.4579294 , -0.4258783 ,  0.30888933],\n",
              "        [-0.46943256,  0.14196014, -0.1135091 ,  0.23426244,\n",
              "         -0.27622283,  0.3919493 , -0.23850632,  0.20801227],\n",
              "        [ 0.45729694, -0.04935648,  0.90514994,  0.2020907 ,\n",
              "         -0.4532209 , -0.9172186 , -0.11393353,  0.7037418 ],\n",
              "        [-0.10753138, -0.69472265,  0.25011373,  0.45901328,\n",
              "          0.03907181,  0.6391797 , -0.394855  , -0.20668957],\n",
              "        [-0.10753138, -0.69472265,  0.25011373,  0.45901328,\n",
              "          0.03907181,  0.6391797 , -0.394855  , -0.20668957]]],\n",
              "      dtype=float32)>"
            ]
          },
          "metadata": {
            "tags": []
          },
          "execution_count": 73
        }
      ]
    },
    {
      "cell_type": "markdown",
      "metadata": {
        "id": "uuav6G6Bh8L4"
      },
      "source": [
        "# LayerNormal\n",
        "- https://arxiv.org/abs/1607.06450"
      ]
    },
    {
      "cell_type": "code",
      "metadata": {
        "id": "mzW12eb4h_-4",
        "colab": {
          "base_uri": "https://localhost:8080/"
        },
        "outputId": "86a1409d-c267-4813-a06d-5031866b7031"
      },
      "source": [
        "# 큰 hidden 생성\n",
        "hidden = np.array([[1, 2, 3],\n",
        "                   [11, 12, 13],\n",
        "                   [111, 122, 133]]).astype(np.float32)\n",
        "hidden"
      ],
      "execution_count": 74,
      "outputs": [
        {
          "output_type": "execute_result",
          "data": {
            "text/plain": [
              "array([[  1.,   2.,   3.],\n",
              "       [ 11.,  12.,  13.],\n",
              "       [111., 122., 133.]], dtype=float32)"
            ]
          },
          "metadata": {
            "tags": []
          },
          "execution_count": 74
        }
      ]
    },
    {
      "cell_type": "code",
      "metadata": {
        "id": "MX2ETxuBiVIy",
        "colab": {
          "base_uri": "https://localhost:8080/"
        },
        "outputId": "8141e196-7547-49c1-cc55-77f69e941daf"
      },
      "source": [
        "# layer_normal 실행\n",
        "layer_norm = tf.keras.layers.LayerNormalization()\n",
        "layer_norm(hidden)"
      ],
      "execution_count": 75,
      "outputs": [
        {
          "output_type": "execute_result",
          "data": {
            "text/plain": [
              "<tf.Tensor: shape=(3, 3), dtype=float32, numpy=\n",
              "array([[-1.2238274,  0.       ,  1.2238274],\n",
              "       [-1.2238274,  0.       ,  1.2238274],\n",
              "       [-1.2247372,  0.       ,  1.2247372]], dtype=float32)>"
            ]
          },
          "metadata": {
            "tags": []
          },
          "execution_count": 75
        }
      ]
    },
    {
      "cell_type": "code",
      "metadata": {
        "id": "kDXDxzWjijuo",
        "colab": {
          "base_uri": "https://localhost:8080/"
        },
        "outputId": "e34a352e-ffce-436f-ef2d-12b59105616e"
      },
      "source": [
        "# weights\n",
        "layer_norm.get_weights()"
      ],
      "execution_count": 76,
      "outputs": [
        {
          "output_type": "execute_result",
          "data": {
            "text/plain": [
              "[array([1., 1., 1.], dtype=float32), array([0., 0., 0.], dtype=float32)]"
            ]
          },
          "metadata": {
            "tags": []
          },
          "execution_count": 76
        }
      ]
    },
    {
      "cell_type": "code",
      "metadata": {
        "id": "C8TEhPFuiqcj",
        "colab": {
          "base_uri": "https://localhost:8080/"
        },
        "outputId": "fbee6d90-38c5-49ef-f359-879a7413b826"
      },
      "source": [
        "# 평균 값\n",
        "mean = np.mean(hidden, axis=-1, keepdims=True)\n",
        "mean"
      ],
      "execution_count": 77,
      "outputs": [
        {
          "output_type": "execute_result",
          "data": {
            "text/plain": [
              "array([[  2.],\n",
              "       [ 12.],\n",
              "       [122.]], dtype=float32)"
            ]
          },
          "metadata": {
            "tags": []
          },
          "execution_count": 77
        }
      ]
    },
    {
      "cell_type": "code",
      "metadata": {
        "id": "YD3GOLr1lV_X",
        "colab": {
          "base_uri": "https://localhost:8080/"
        },
        "outputId": "a73518d5-f58a-4d69-cb77-cddbd6858daa"
      },
      "source": [
        "# sqrt(var - epsilon)\n",
        "sigma = np.sqrt(np.var(hidden, axis=-1, keepdims=True) + 0.001)\n",
        "sigma"
      ],
      "execution_count": 78,
      "outputs": [
        {
          "output_type": "execute_result",
          "data": {
            "text/plain": [
              "array([[0.81710875],\n",
              "       [0.81710875],\n",
              "       [8.981518  ]], dtype=float32)"
            ]
          },
          "metadata": {
            "tags": []
          },
          "execution_count": 78
        }
      ]
    },
    {
      "cell_type": "code",
      "metadata": {
        "id": "RLXZDyCAjAI4",
        "colab": {
          "base_uri": "https://localhost:8080/"
        },
        "outputId": "5c05a1ec-1e05-4777-da34-acf9b52caf2b"
      },
      "source": [
        "# layer normal 계산\n",
        "(hidden - mean) / sigma"
      ],
      "execution_count": 79,
      "outputs": [
        {
          "output_type": "execute_result",
          "data": {
            "text/plain": [
              "array([[-1.2238274,  0.       ,  1.2238274],\n",
              "       [-1.2238274,  0.       ,  1.2238274],\n",
              "       [-1.2247373,  0.       ,  1.2247373]], dtype=float32)"
            ]
          },
          "metadata": {
            "tags": []
          },
          "execution_count": 79
        }
      ]
    },
    {
      "cell_type": "markdown",
      "metadata": {
        "id": "ObWGnfj6Ic_M"
      },
      "source": [
        "# Encoder Layer"
      ]
    },
    {
      "cell_type": "code",
      "metadata": {
        "id": "TOJHTsjinOry"
      },
      "source": [
        "class EncoderLayer(tf.keras.layers.Layer):\n",
        "    \"\"\"\n",
        "    Encoder Layer Class\n",
        "    \"\"\"\n",
        "    def __init__(self, config, name='encoder_layer'):\n",
        "        \"\"\"\n",
        "        생성자\n",
        "        :param config: Config 객체\n",
        "        :param name: layer name\n",
        "        \"\"\"\n",
        "        super().__init__(name=name)\n",
        "\n",
        "        self.self_attention = MultiHeadAttention(config)\n",
        "        self.norm1 = tf.keras.layers.LayerNormalization(epsilon=config.norm_eps)\n",
        "\n",
        "        self.ffn = PositionWiseFeedForward(config)\n",
        "        self.norm2 = tf.keras.layers.LayerNormalization(epsilon=config.norm_eps)\n",
        "\n",
        "        self.dropout = tf.keras.layers.Dropout(config.dropout)\n",
        " \n",
        "    def call(self, inputs):\n",
        "        \"\"\"\n",
        "        layer 실행\n",
        "        :param inputs: enc_hidden, self_mask tuple\n",
        "        :return enc_out: EncoderLayer 실행 결과\n",
        "        \"\"\"\n",
        "        enc_hidden, self_mask = inputs\n",
        "        # self attention\n",
        "        self_attn_val = self.self_attention((enc_hidden, enc_hidden, enc_hidden, self_mask))\n",
        "        # add and layer normal\n",
        "        norm1_val = self.norm1(enc_hidden + self.dropout(self_attn_val))\n",
        "        \n",
        "        # feed forward\n",
        "        ffn_val = self.ffn(norm1_val)\n",
        "        # add and layer normal\n",
        "        enc_out = self.norm2(norm1_val + self.dropout(ffn_val))\n",
        "\n",
        "        return enc_out"
      ],
      "execution_count": 80,
      "outputs": []
    },
    {
      "cell_type": "code",
      "metadata": {
        "id": "heThi4mtoGhW",
        "colab": {
          "base_uri": "https://localhost:8080/"
        },
        "outputId": "25d26ebb-5110-42cc-bec0-8d9ba127df2d"
      },
      "source": [
        "# EncoderLayer 기능 확인\n",
        "encoder_layer = EncoderLayer(config)\n",
        "enc_out = encoder_layer((hidden_enc, enc_self_mask))\n",
        "enc_out.shape"
      ],
      "execution_count": 94,
      "outputs": [
        {
          "output_type": "execute_result",
          "data": {
            "text/plain": [
              "TensorShape([1, 5, 8])"
            ]
          },
          "metadata": {
            "tags": []
          },
          "execution_count": 94
        }
      ]
    },
    {
      "cell_type": "markdown",
      "metadata": {
        "id": "MH_M42l5Iezo"
      },
      "source": [
        "# Decoder Layer"
      ]
    },
    {
      "cell_type": "code",
      "metadata": {
        "id": "O2ZJaGlqsxI6"
      },
      "source": [
        "class DecoderLayer(tf.keras.layers.Layer):\n",
        "    \"\"\"\n",
        "    Decoder Layer Class\n",
        "    \"\"\"\n",
        "    def __init__(self, config, name='decoder_layer'):\n",
        "        \"\"\"\n",
        "        생성자\n",
        "        :param config: Config 객체\n",
        "        :param name: layer name\n",
        "        \"\"\"\n",
        "        super().__init__(name=name)\n",
        "\n",
        "        self.self_attention = MultiHeadAttention(config)\n",
        "        self.norm1 = tf.keras.layers.LayerNormalization(epsilon=config.norm_eps)\n",
        "\n",
        "        self.ende_attn = MultiHeadAttention(config)\n",
        "        self.norm2 = tf.keras.layers.LayerNormalization(epsilon=config.norm_eps)\n",
        "\n",
        "        self.ffn = PositionWiseFeedForward(config)\n",
        "        self.norm3 = tf.keras.layers.LayerNormalization(epsilon=config.norm_eps)\n",
        "\n",
        "        self.dropout = tf.keras.layers.Dropout(config.dropout)\n",
        "\n",
        "    def call(self, inputs):\n",
        "        \"\"\"\n",
        "        layer 실행\n",
        "        :param inputs: dec_hidden, enc_out, self_mask, ende_mask tuple\n",
        "        :return dec_out: DecoderLayer 실행 결과\n",
        "        \"\"\"\n",
        "        dec_hidden, enc_out, self_mask, ende_mask = inputs\n",
        "        # self attention\n",
        "        self_attn_val = self.self_attention((dec_hidden, dec_hidden, dec_hidden, self_mask))\n",
        "        # add and layer normal\n",
        "        norm1_val = self.norm1(dec_hidden + self.dropout(self_attn_val))\n",
        "\n",
        "        # encoder and decoder attention\n",
        "        ende_attn_val = self.ende_attn((norm1_val, enc_out, enc_out, ende_mask))\n",
        "        # add and layer normal\n",
        "        norm2_val = self.norm2(norm1_val + self.dropout(ende_attn_val))\n",
        "\n",
        "        # feed forward\n",
        "        ffn_val = self.ffn(norm2_val)\n",
        "        # add and layer normal\n",
        "        dec_out = self.norm3(norm2_val + self.dropout(ffn_val))\n",
        "\n",
        "        return dec_out"
      ],
      "execution_count": 83,
      "outputs": []
    },
    {
      "cell_type": "code",
      "metadata": {
        "id": "TEAxwUw9tGDk",
        "colab": {
          "base_uri": "https://localhost:8080/"
        },
        "outputId": "2e5fb202-73e3-43bf-dc11-56077eb0f57f"
      },
      "source": [
        "# Decoder 실행\n",
        "decoder_layer = DecoderLayer(config)\n",
        "dec_out = decoder_layer((hidden_dec, hidden_enc, dec_self_mask, enc_dec_mask))\n",
        "dec_out.shape"
      ],
      "execution_count": 93,
      "outputs": [
        {
          "output_type": "execute_result",
          "data": {
            "text/plain": [
              "TensorShape([1, 6, 8])"
            ]
          },
          "metadata": {
            "tags": []
          },
          "execution_count": 93
        }
      ]
    },
    {
      "cell_type": "markdown",
      "metadata": {
        "id": "Z4OCTlKPIh0Z"
      },
      "source": [
        "# Weight Shared Embedding"
      ]
    },
    {
      "cell_type": "code",
      "metadata": {
        "id": "mjoffNaW4J_W"
      },
      "source": [
        "class SharedEmbedding(tf.keras.layers.Layer):\n",
        "    \"\"\"\n",
        "    Weighed Shaed Embedding Class\n",
        "    \"\"\"\n",
        "    def __init__(self, config, name='weight_shared_embedding'):\n",
        "        \"\"\"\n",
        "        생성자\n",
        "        :param config: Config 객체\n",
        "        :param name: layer name\n",
        "        \"\"\"\n",
        "        super().__init__(name=name)\n",
        "\n",
        "        self.n_vocab = config.n_vocab\n",
        "        self.d_model = config.d_model\n",
        "    \n",
        "    def build(self, input_shape):\n",
        "        \"\"\"\n",
        "        shared weight 생성\n",
        "        :param input_shape: Tensor Shape (not used)\n",
        "        \"\"\"\n",
        "        with tf.name_scope('shared_embedding_weight'):\n",
        "            self.shared_weights = self.add_weight(\n",
        "                'weights',\n",
        "                shape=[self.n_vocab, self.d_model],\n",
        "                initializer=tf.keras.initializers.TruncatedNormal(stddev=self.d_model ** -0.5)\n",
        "            )\n",
        "\n",
        "    def call(self, inputs, mode='embedding'):\n",
        "        \"\"\"\n",
        "        layer 실행\n",
        "        :param inputs: 입력\n",
        "        :param mode: 실행 모드\n",
        "        :return: embedding or linear 실행 결과\n",
        "        \"\"\"\n",
        "        # mode가 embedding일 경우 embedding lookup 실행\n",
        "        if mode == 'embedding':\n",
        "            return self._embedding(inputs)\n",
        "        # mode가 linear일 경우 linear 실행\n",
        "        elif mode == 'linear':\n",
        "            return self._linear(inputs)\n",
        "        # mode가 기타일 경우 오류 발생\n",
        "        else:\n",
        "            raise ValueError(f'mode {mode} is not valid.')\n",
        "    \n",
        "    def _embedding(self, inputs):\n",
        "        \"\"\"\n",
        "        embedding lookup\n",
        "        :param inputs: 입력\n",
        "        \"\"\"\n",
        "        # lookup by gather\n",
        "        embed = tf.gather(self.shared_weights, tf.cast(inputs, tf.int32))\n",
        "        # muliply d_model ** 0.5\n",
        "        embed *= self.d_model ** 0.5\n",
        "        return embed\n",
        "\n",
        "    def _linear(self, inputs):  # (bs, n_seq, d_model)\n",
        "        \"\"\"\n",
        "        linear 실행\n",
        "        :param inputs: 입력\n",
        "        \"\"\"\n",
        "        # matmul inputs, shared_weights (transpose_b=True)\n",
        "        outputs = tf.matmul(inputs, self.shared_weights, transpose_b=True)\n",
        "        return outputs"
      ],
      "execution_count": 86,
      "outputs": []
    },
    {
      "cell_type": "code",
      "metadata": {
        "colab": {
          "base_uri": "https://localhost:8080/"
        },
        "id": "JAi4Y5jBcG-T",
        "outputId": "6f3340a0-c4ba-48df-8dc6-79639dbe3a1e"
      },
      "source": [
        "train_dec_inputs"
      ],
      "execution_count": 90,
      "outputs": [
        {
          "output_type": "execute_result",
          "data": {
            "text/plain": [
              "array([[2, 7, 8, 9, 0, 0]])"
            ]
          },
          "metadata": {
            "tags": []
          },
          "execution_count": 90
        }
      ]
    },
    {
      "cell_type": "code",
      "metadata": {
        "id": "1kFRtg0U7o5W",
        "colab": {
          "base_uri": "https://localhost:8080/"
        },
        "outputId": "c0488403-2f27-4176-99df-3029183c29e8"
      },
      "source": [
        "embedding = SharedEmbedding(config)\n",
        "hidden_dec = embedding(train_dec_inputs)\n",
        "hidden_dec.shape"
      ],
      "execution_count": 91,
      "outputs": [
        {
          "output_type": "execute_result",
          "data": {
            "text/plain": [
              "TensorShape([1, 6, 8])"
            ]
          },
          "metadata": {
            "tags": []
          },
          "execution_count": 91
        }
      ]
    },
    {
      "cell_type": "code",
      "metadata": {
        "id": "ttHI4hYM7os_",
        "colab": {
          "base_uri": "https://localhost:8080/"
        },
        "outputId": "d8c279b1-e78a-45c9-c650-db943abdf4a3"
      },
      "source": [
        "linear_outputs = embedding(hidden_dec, mode=\"linear\")\n",
        "linear_outputs.shape"
      ],
      "execution_count": 92,
      "outputs": [
        {
          "output_type": "execute_result",
          "data": {
            "text/plain": [
              "TensorShape([1, 6, 16])"
            ]
          },
          "metadata": {
            "tags": []
          },
          "execution_count": 92
        }
      ]
    },
    {
      "cell_type": "markdown",
      "metadata": {
        "id": "zv8egauKIl6h"
      },
      "source": [
        "# Postional Encoding"
      ]
    },
    {
      "cell_type": "code",
      "metadata": {
        "id": "IfIQaEslDFPP"
      },
      "source": [
        "class PositionalEmbedding(tf.keras.layers.Layer):\n",
        "    \"\"\"\n",
        "    Positional Embedding Class\n",
        "    \"\"\"\n",
        "    def __init__(self, config, name='position_embedding'):\n",
        "        \"\"\"\n",
        "        생성자\n",
        "        :param config: Config 객체\n",
        "        :param name: layer name\n",
        "        \"\"\"\n",
        "        super().__init__(name=name)\n",
        "        \n",
        "        pos_encoding = PositionalEmbedding.get_sinusoid_encoding(config.n_seq, config.d_model)\n",
        "        self.embedding = tf.keras.layers.Embedding(config.n_seq, config.d_model, trainable=False, weights=[pos_encoding])\n",
        "\n",
        "    def call(self, inputs):\n",
        "        \"\"\"\n",
        "        layer 실행\n",
        "        :param inputs: 입력\n",
        "        :return embed: positional embedding lookup 결과\n",
        "        \"\"\"\n",
        "        # make position (0...n_seq)\n",
        "        position = tf.math.cumsum(tf.ones_like(inputs), axis=1, exclusive=True)\n",
        "        position = tf.cast(position, tf.int32)\n",
        "        # embedding lookup\n",
        "        embed = self.embedding(position)\n",
        "        return embed\n",
        "\n",
        "    @staticmethod\n",
        "    def get_sinusoid_encoding(n_seq, d_model):\n",
        "        \"\"\"\n",
        "        sinusoid encoding 생성\n",
        "        :param n_seq: sequence number\n",
        "        :param n_seq: model hidden dimension\n",
        "        :return: positional encoding table\n",
        "        \"\"\"\n",
        "        # calculate angle\n",
        "        exs = [2 * (i_ang // 2) / d_model for i_ang in range(d_model)]\n",
        "        # print(exs)\n",
        "        angles = [np.power(10000, ex) for ex in exs]\n",
        "        # print(angles)\n",
        "        # calculate position\n",
        "        pos_encoding = np.array([[pos / angle for angle in angles] for pos in range(n_seq)])\n",
        "        # print(pos_encoding)\n",
        "        # sin even number\n",
        "        pos_encoding[:, 0::2] = np.sin(pos_encoding[:, 0::2])\n",
        "        # cos odd number\n",
        "        pos_encoding[:, 1::2] = np.cos(pos_encoding[:, 1::2])\n",
        "        # print(pos_encoding)\n",
        "        return tf.cast(pos_encoding, tf.float32)"
      ],
      "execution_count": 105,
      "outputs": []
    },
    {
      "cell_type": "code",
      "metadata": {
        "id": "9P_eFKxH26ei",
        "colab": {
          "base_uri": "https://localhost:8080/"
        },
        "outputId": "06d15bb8-dcfe-4343-8371-231195477de9"
      },
      "source": [
        "# position encoding 확인\n",
        "pos_encoding = PositionalEmbedding.get_sinusoid_encoding(4, 4)\n",
        "pos_encoding"
      ],
      "execution_count": 106,
      "outputs": [
        {
          "output_type": "execute_result",
          "data": {
            "text/plain": [
              "<tf.Tensor: shape=(4, 4), dtype=float32, numpy=\n",
              "array([[ 0.        ,  1.        ,  0.        ,  1.        ],\n",
              "       [ 0.84147096,  0.5403023 ,  0.00999983,  0.99995   ],\n",
              "       [ 0.9092974 , -0.41614684,  0.01999867,  0.9998    ],\n",
              "       [ 0.14112   , -0.9899925 ,  0.0299955 ,  0.99955004]],\n",
              "      dtype=float32)>"
            ]
          },
          "metadata": {
            "tags": []
          },
          "execution_count": 106
        }
      ]
    },
    {
      "cell_type": "code",
      "metadata": {
        "id": "bDMcqbPp3ipc",
        "colab": {
          "base_uri": "https://localhost:8080/",
          "height": 283
        },
        "outputId": "c5872cea-ce4d-4292-ea46-00162570a61e"
      },
      "source": [
        "# display\n",
        "plt.pcolormesh(pos_encoding, cmap='RdBu')\n",
        "plt.xlabel('Depth')\n",
        "plt.xlim((0, config.d_model))\n",
        "plt.ylabel('Position')\n",
        "plt.colorbar()\n",
        "plt.show()"
      ],
      "execution_count": 107,
      "outputs": [
        {
          "output_type": "display_data",
          "data": {
            "image/png": "[encoded data removed]",
            "text/plain": [
              "<Figure size 432x288 with 2 Axes>"
            ]
          },
          "metadata": {
            "tags": [],
            "needs_background": "light"
          }
        }
      ]
    },
    {
      "cell_type": "code",
      "metadata": {
        "id": "5uuUYZeeDWjc",
        "colab": {
          "base_uri": "https://localhost:8080/"
        },
        "outputId": "319c2b3b-9856-48d7-c47c-0c3a595364c3"
      },
      "source": [
        "# PositionalEmbedding 클래스 시험\n",
        "pos_embedding = PositionalEmbedding(config)\n",
        "dec_pos = pos_embedding(train_enc_inputs)\n",
        "dec_pos.shape"
      ],
      "execution_count": 108,
      "outputs": [
        {
          "output_type": "execute_result",
          "data": {
            "text/plain": [
              "TensorShape([1, 5, 8])"
            ]
          },
          "metadata": {
            "tags": []
          },
          "execution_count": 108
        }
      ]
    },
    {
      "cell_type": "code",
      "metadata": {
        "id": "Yzu-44yIEfEO",
        "colab": {
          "base_uri": "https://localhost:8080/",
          "height": 283
        },
        "outputId": "9d05bbe4-f2ae-4116-c10c-5da7afc1ef78"
      },
      "source": [
        "# 512x512 position encoding table 생성\n",
        "pos_encoding = PositionalEmbedding.get_sinusoid_encoding(512, 512)\n",
        "# display\n",
        "plt.pcolormesh(pos_encoding, cmap='RdBu')\n",
        "plt.xlabel('Depth')\n",
        "plt.xlim((0, 512))\n",
        "plt.ylabel('Position')\n",
        "plt.colorbar()\n",
        "plt.show()"
      ],
      "execution_count": 109,
      "outputs": [
        {
          "output_type": "display_data",
          "data": {
            "image/png": "[encoded data removed]",
            "text/plain": [
              "<Figure size 432x288 with 2 Axes>"
            ]
          },
          "metadata": {
            "tags": [],
            "needs_background": "light"
          }
        }
      ]
    },
    {
      "cell_type": "markdown",
      "metadata": {
        "id": "sgmPfzaBIo_V"
      },
      "source": [
        "# Transformer"
      ]
    },
    {
      "cell_type": "code",
      "metadata": {
        "id": "NjUj8dKbLBPV"
      },
      "source": [
        "class Transformer(tf.keras.Model):\n",
        "    \"\"\"\n",
        "    Transformer Class\n",
        "    \"\"\"\n",
        "    def __init__(self, config, name='transformer'):\n",
        "        \"\"\"\n",
        "        생성자\n",
        "        :param config: Config 객체\n",
        "        :param name: layer name\n",
        "        \"\"\"\n",
        "        super().__init__(name=name)\n",
        "\n",
        "        self.i_pad = config.i_pad\n",
        "        self.embedding = SharedEmbedding(config)\n",
        "        self.position = PositionalEmbedding(config)\n",
        "        \n",
        "        self.encoder_layers = [EncoderLayer(config, name=f'encoder_layer_{i}') for i in range(config.n_layer)]\n",
        "        self.decoder_layers = [DecoderLayer(config, name=f'decoder_layer_{i}') for i in range(config.n_layer)]\n",
        "\n",
        "        self.dropout = tf.keras.layers.Dropout(config.dropout)\n",
        "\n",
        "    def call(self, inputs):\n",
        "        \"\"\"\n",
        "        layer 실행\n",
        "        :param inputs: enc_tokens, dec_tokens tuple\n",
        "        :return logits: dec_tokens에 대한 다음 토큰 예측 결과 logits\n",
        "        \"\"\"\n",
        "        enc_tokens, dec_tokens = inputs\n",
        "        # encoder self attention mask\n",
        "        enc_self_mask = get_pad_mask(enc_tokens, self.i_pad)\n",
        "        # decoder self attention mask\n",
        "        dec_self_mask = get_causal_mask(dec_tokens, self.i_pad)\n",
        "        # encoder and decoder attention mask\n",
        "        enc_dec_mask = get_pad_mask(enc_tokens, self.i_pad)\n",
        "\n",
        "        # enc_tokens, dec_tokens embedding lookup\n",
        "        enc_embed = self.get_embedding(enc_tokens)\n",
        "        dec_embed = self.get_embedding(dec_tokens)\n",
        "\n",
        "        #########################################\n",
        "        # dropout for enc_embed\n",
        "        enc_hidden = self.dropout(enc_embed)\n",
        "        # call encoder layers\n",
        "        for encoder_layer in self.encoder_layers:\n",
        "          enc_hidden = encoder_layer((enc_hidden, enc_self_mask))\n",
        "\n",
        "        # dropout for dec_embed\n",
        "        dec_hidden = self.dropout(dec_embed)\n",
        "        # call decoder layers\n",
        "        for decoder_layer in self.decoder_layers:\n",
        "          dec_hidden = decoder_layer((dec_hidden, enc_hidden, dec_self_mask, enc_dec_mask))\n",
        "        #########################################\n",
        "\n",
        "        # call weight shared embedding (model=linear)\n",
        "        logits = self.embedding(dec_hidden, mode='linear')\n",
        "        return logits\n",
        "    \n",
        "    def get_embedding(self, tokens):\n",
        "        \"\"\"\n",
        "        token embedding, position embedding lookup\n",
        "        :param tokens: 입력 tokens\n",
        "        :return embed: embedding 결과\n",
        "        \"\"\"\n",
        "        embed = self.embedding(tokens) + self.position(tokens)\n",
        "        return embed"
      ],
      "execution_count": 110,
      "outputs": []
    },
    {
      "cell_type": "code",
      "metadata": {
        "id": "pbcZGCC2L-MB",
        "colab": {
          "base_uri": "https://localhost:8080/"
        },
        "outputId": "00971d3a-a376-4b2d-8085-3f7ec2c8ab62"
      },
      "source": [
        "# Transformer 기능 확인. 최종 결과가 (bs, n_seq(dec), n_vocab)\n",
        "transformer = Transformer(config)\n",
        "logits = transformer((train_enc_inputs, train_dec_inputs))\n",
        "logits.shape"
      ],
      "execution_count": 111,
      "outputs": [
        {
          "output_type": "execute_result",
          "data": {
            "text/plain": [
              "TensorShape([1, 6, 16])"
            ]
          },
          "metadata": {
            "tags": []
          },
          "execution_count": 111
        }
      ]
    }
  ]
}